{
  "cells": [
    {
      "cell_type": "markdown",
      "metadata": {
        "id": "view-in-github",
        "colab_type": "text"
      },
      "source": [
        "<a href=\"https://colab.research.google.com/github/ilante/AML_91934_exam/blob/main/Englander_AML_1_and_2.ipynb\" target=\"_parent\"><img src=\"https://colab.research.google.com/assets/colab-badge.svg\" alt=\"Open In Colab\"/></a>"
      ]
    },
    {
      "cell_type": "markdown",
      "metadata": {
        "id": "JOa1ja7JAUzW"
      },
      "source": [
        "# My First Machine Learning Project\n",
        "\n",
        "## Fashion-MNIST \n",
        "\n",
        "### International Master of Bioinformatics, University of Bologna\n",
        "\n",
        "#### Immanuela Antigone Engländer\n",
        "\n",
        "## 1. Aim of this Project\n",
        "\n",
        "The goal of this project is to apply several Machine Learning approaches for the clasiffication of 10 different labels\n",
        "\n",
        "First, a *Exploratory Data Analysis* will be performed to summarize the main features of the dataset. Then, after processing the data, different Machine Learning (ML) methods will be compared in terms of accuracy score. The ML methods developed are:\n",
        "\n",
        "1. Artificial Neural Network (ANN)\n",
        "2. k-nearest neighbors (k-NN)\n",
        "3. Support Vector Machine (SVM)\n",
        "4. Decision Tree (DT)\n",
        "5. Random Forest (RF)\n",
        "6. Convolutional Neural Network (CNN)\n",
        "\n",
        "In particular, for each Machine Learning method two procedures are used for training and testing:\n",
        "\n",
        "1. train-test split;\n",
        "2. 5-fold cross-validation.\n",
        "\n",
        "The highest accuracy for both procedures is computed optimizing the values of some parameters such as seed (`random_state`) and number of folds (`5_splits`). Different statistical measures are computed for the best model obtained:\n",
        "\n",
        "- The **F1 score** can be interpreted as a harmonic mean of the precision and recall, where an F1 score reaches its best value at 1 and worst score at 0. The relative contribution of precision and recall to the F1 score are equal. The formula for the F1 score is:\n",
        "\n",
        "F1 = 2 * (precision * recall) / (precision + recall)\n",
        "In the multi-class and multi-label case, this is the average of the F1 score of each class with weighting depending on the average parameter.\n",
        "\n",
        "- **accuracy** is the proportion of correct predictions (both true positives and true negatives) among the total number of cases examined\n",
        "\n",
        "  $ACC = \\frac{TP + TN}{TP + TN + FP + FN}$\n",
        "\n",
        "- **recall** (also known as true positive rate or sensitivity) is the proportion of positives that are correctly identified;\n",
        "\n",
        "  $TPR = \\frac{TP}{TP + FN}$ \n",
        "\n",
        "- **precision** (also known as positive predicted value) is the fraction of correct positive prediction over the total of positive predictions;\n",
        "\n",
        "  $PPV = \\frac{TP}{TP + FP}$\n",
        "\n",
        "\n",
        "- **confusion matrix**: is a specific table storing the number of true positives (TP), true negative (TN), false positive (FP) and false negative (FN) that have been predicted by a supervised ML method\n",
        "\n",
        "\n",
        "The best method is selected according to the highest mean accuracy score between train-test split and *k*-fold cross-validation. At the end, Ensamble methods are developed to study if the final accuracy reached by single ML apporaches can be improved."
      ]
    },
    {
      "cell_type": "markdown",
      "metadata": {
        "id": "B_Cy8ytG4HaD"
      },
      "source": [
        "# 1.1 Background of the Data Set\n",
        "\n",
        "The dataset is taken from Zalando's article images with a considerable size of 60 000 samples and a test set of 10 000 samples. Each sample is a 28x28 grayscale image, associated with a label from 10 classes. The Fashion-MNIST serves as a variant of original MNIST dataset for benchmarking machine learning algorithms. It shares the same image size and structure of training and testing splits.\n",
        "\n",
        "I choose it to be sure that I don't have the same project as my fellow students.\n",
        "\n",
        "Here an example of how the data looks like\n",
        "\n",
        "![](https://raw.githubusercontent.com/ilante/AML_91934_exam/main/fashion-mnist-example-img.png)"
      ]
    },
    {
      "cell_type": "markdown",
      "metadata": {
        "id": "3jP0JLooRSSu"
      },
      "source": [
        "The authors of Fashion-MNIST argue that it may replace the original MNIST. So far the original has been used as a benchmark. But they argue that the original may be to simple. Reasons to choose Fashion-MNIST over the original are:\n",
        "\n",
        "* **MNIST is too easy**. Convolutional nets can achieve 99.7% on MNIST. Classic machine learning algorithms can also achieve 97% easily. Check out our side-by-side benchmark for Fashion-MNIST vs. MNIST, and read \"Most pairs of MNIST digits can be distinguished pretty well by just one pixel.\"\n",
        "\n",
        "* **MNIST is overused.** In [this April 2017 Twitter thread](https://twitter.com/goodfellow_ian/status/852591106655043584), Google Brain research scientist and deep learning expert Ian Goodfellow calls for people to move away from MNIST.\n",
        "* **MNIST can not represent modern CV tasks**, as noted in [this April 2017 Twitter thread](https://twitter.com/fchollet/status/852594987527045120), deep learning expert/Keras author François Chollet.\n",
        "\n",
        "\n",
        "## Reference of Fashion-MNIST:\n",
        "\n",
        "https://arxiv.org/abs/1708.07747 \n",
        "\n",
        "Here the abstract;\n",
        "\n",
        "![](https://raw.githubusercontent.com/ilante/AML_91934_exam/main/citation.png)"
      ]
    },
    {
      "cell_type": "markdown",
      "metadata": {
        "id": "4kBQpD_tT5vC"
      },
      "source": [
        "# 2. Importing the Required Libraries"
      ]
    },
    {
      "cell_type": "code",
      "execution_count": 2,
      "metadata": {
        "id": "s-Z5VL-VPvhw"
      },
      "outputs": [],
      "source": [
        "# to disconnect the runtime\n",
        "# that way I can reconnect before going to bed and train a model on the full\n",
        "# 12hrs they allocate per session\n",
        "\n",
        "# !kill -9 -1"
      ]
    },
    {
      "cell_type": "code",
      "execution_count": 4,
      "metadata": {
        "colab": {
          "base_uri": "https://localhost:8080/"
        },
        "id": "rm0l9kn64HaJ",
        "outputId": "dcc7cb11-7879-4d1d-d226-a456a4fe8b1d"
      },
      "outputs": [
        {
          "output_type": "stream",
          "name": "stdout",
          "text": [
            "Requirement already satisfied: ipython-autotime in /usr/local/lib/python3.7/dist-packages (0.3.1)\n",
            "Requirement already satisfied: ipython in /usr/local/lib/python3.7/dist-packages (from ipython-autotime) (5.5.0)\n",
            "Requirement already satisfied: pygments in /usr/local/lib/python3.7/dist-packages (from ipython->ipython-autotime) (2.6.1)\n",
            "Requirement already satisfied: pickleshare in /usr/local/lib/python3.7/dist-packages (from ipython->ipython-autotime) (0.7.5)\n",
            "Requirement already satisfied: traitlets>=4.2 in /usr/local/lib/python3.7/dist-packages (from ipython->ipython-autotime) (5.1.1)\n",
            "Requirement already satisfied: prompt-toolkit<2.0.0,>=1.0.4 in /usr/local/lib/python3.7/dist-packages (from ipython->ipython-autotime) (1.0.18)\n",
            "Requirement already satisfied: pexpect in /usr/local/lib/python3.7/dist-packages (from ipython->ipython-autotime) (4.8.0)\n",
            "Requirement already satisfied: setuptools>=18.5 in /usr/local/lib/python3.7/dist-packages (from ipython->ipython-autotime) (57.4.0)\n",
            "Requirement already satisfied: decorator in /usr/local/lib/python3.7/dist-packages (from ipython->ipython-autotime) (4.4.2)\n",
            "Requirement already satisfied: simplegeneric>0.8 in /usr/local/lib/python3.7/dist-packages (from ipython->ipython-autotime) (0.8.1)\n",
            "Requirement already satisfied: six>=1.9.0 in /usr/local/lib/python3.7/dist-packages (from prompt-toolkit<2.0.0,>=1.0.4->ipython->ipython-autotime) (1.15.0)\n",
            "Requirement already satisfied: wcwidth in /usr/local/lib/python3.7/dist-packages (from prompt-toolkit<2.0.0,>=1.0.4->ipython->ipython-autotime) (0.2.5)\n",
            "Requirement already satisfied: ptyprocess>=0.5 in /usr/local/lib/python3.7/dist-packages (from pexpect->ipython->ipython-autotime) (0.7.0)\n",
            "The autotime extension is already loaded. To reload it, use:\n",
            "  %reload_ext autotime\n",
            "time: 3.34 s (started: 2021-12-14 20:25:17 +00:00)\n"
          ]
        }
      ],
      "source": [
        "# # !pip install -q colabcode\n",
        "# # from colabcode import ColabCode\n",
        "\n",
        "# # Loading module to monitor time:\n",
        "!pip install ipython-autotime\n",
        "%load_ext autotime\n",
        "\n",
        "# to measure execution time\n",
        "import time"
      ]
    },
    {
      "cell_type": "markdown",
      "metadata": {
        "id": "rqu8VV4wUz3j"
      },
      "source": [
        "Libraries:"
      ]
    },
    {
      "cell_type": "code",
      "execution_count": 5,
      "metadata": {
        "colab": {
          "base_uri": "https://localhost:8080/"
        },
        "id": "b9j6gG5pTgEm",
        "outputId": "99b3bfba-c51c-4e9e-b37b-4633e9a63fcb"
      },
      "outputs": [
        {
          "output_type": "stream",
          "name": "stdout",
          "text": [
            "time: 3.35 s (started: 2021-12-14 20:25:20 +00:00)\n"
          ]
        }
      ],
      "source": [
        "import numpy as np\n",
        "import pandas as pd\n",
        "import matplotlib.pyplot as plt\n",
        "import seaborn as sns\n",
        "\n",
        "# TensorFlow and tf.keras\n",
        "import tensorflow as tf\n",
        "from tensorflow import keras\n",
        "import sklearn\n",
        "\n",
        "# k-fold Cross Validation\n",
        "from sklearn.model_selection import cross_val_score\n",
        "# PCA\n",
        "from sklearn.decomposition import PCA\n",
        "# SVM\n",
        "from sklearn.svm import SVC\n",
        "from sklearn import metrics\n",
        "# Grid search for SVM: maybe make smaller test runs for gridsearch???\n",
        "from sklearn.model_selection import GridSearchCV\n",
        "from sklearn.model_selection import train_test_split \n",
        "# confusion matrix\n",
        "from sklearn.metrics import classification_report, confusion_matrix\n",
        "# KNN\n",
        "from sklearn.neighbors import KNeighborsClassifier\n",
        "# DT\n",
        "from sklearn import tree\n",
        "from sklearn.metrics import accuracy_score\n",
        "from sklearn.tree import DecisionTreeClassifier\n",
        "# RF\n",
        "from sklearn.ensemble import RandomForestClassifier"
      ]
    },
    {
      "cell_type": "code",
      "source": [
        "print(keras.__version__)"
      ],
      "metadata": {
        "colab": {
          "base_uri": "https://localhost:8080/"
        },
        "id": "gwMLySoa3ffu",
        "outputId": "dc454c21-16cc-46c8-9a77-c294e7f6cbd0"
      },
      "execution_count": 6,
      "outputs": [
        {
          "output_type": "stream",
          "name": "stdout",
          "text": [
            "2.7.0\n",
            "time: 3.25 ms (started: 2021-12-14 20:25:23 +00:00)\n"
          ]
        }
      ]
    },
    {
      "cell_type": "markdown",
      "metadata": {
        "id": "fFLEOE4YVEs_"
      },
      "source": [
        "We import the Fashion-MNIST set from keras in an already vectorized numpy format:"
      ]
    },
    {
      "cell_type": "code",
      "execution_count": 7,
      "metadata": {
        "colab": {
          "base_uri": "https://localhost:8080/"
        },
        "id": "FWOEbvRrWBRf",
        "outputId": "39b2fac6-8769-447c-99f5-d798281a7aae"
      },
      "outputs": [
        {
          "output_type": "stream",
          "name": "stdout",
          "text": [
            "Downloading data from https://storage.googleapis.com/tensorflow/tf-keras-datasets/train-labels-idx1-ubyte.gz\n",
            "32768/29515 [=================================] - 0s 0us/step\n",
            "40960/29515 [=========================================] - 0s 0us/step\n",
            "Downloading data from https://storage.googleapis.com/tensorflow/tf-keras-datasets/train-images-idx3-ubyte.gz\n",
            "26427392/26421880 [==============================] - 0s 0us/step\n",
            "26435584/26421880 [==============================] - 0s 0us/step\n",
            "Downloading data from https://storage.googleapis.com/tensorflow/tf-keras-datasets/t10k-labels-idx1-ubyte.gz\n",
            "16384/5148 [===============================================================================================] - 0s 0us/step\n",
            "Downloading data from https://storage.googleapis.com/tensorflow/tf-keras-datasets/t10k-images-idx3-ubyte.gz\n",
            "4423680/4422102 [==============================] - 0s 0us/step\n",
            "4431872/4422102 [==============================] - 0s 0us/step\n",
            "time: 1.08 s (started: 2021-12-14 20:25:24 +00:00)\n"
          ]
        }
      ],
      "source": [
        "f_mnist = keras.datasets.fashion_mnist\n",
        "\n",
        "(train_images, train_labels), (test_images, test_labels) = f_mnist.load_data()\n",
        "class_names = ['T-shirt/top', 'Trouser', 'Pullover', 'Dress', 'Coat',\n",
        "               'Sandal', 'Shirt', 'Sneaker', 'Bag', 'Ankle boot']\n",
        "\n",
        "\n",
        "# REMEMBER TO run cell that changes the range from [0, 255] to [0, 1] \n",
        "# when rerunning"
      ]
    },
    {
      "cell_type": "code",
      "source": [
        "tr_labels = train_labels #incase some formatting happenes inplace\n",
        "te_labels = test_labels  #incase some formatting happenes inplace"
      ],
      "metadata": {
        "colab": {
          "base_uri": "https://localhost:8080/"
        },
        "id": "YOhg8UpeKzt7",
        "outputId": "f138a1de-6456-4cc7-e022-1fd15828456e"
      },
      "execution_count": 8,
      "outputs": [
        {
          "output_type": "stream",
          "name": "stdout",
          "text": [
            "time: 951 µs (started: 2021-12-14 20:25:25 +00:00)\n"
          ]
        }
      ]
    },
    {
      "cell_type": "code",
      "execution_count": 9,
      "metadata": {
        "colab": {
          "base_uri": "https://localhost:8080/"
        },
        "id": "bM3bqRizCf1k",
        "outputId": "c396b35d-bfb8-497c-a3bb-e1212f36fbf7"
      },
      "outputs": [
        {
          "output_type": "stream",
          "name": "stdout",
          "text": [
            "<class 'numpy.ndarray'>\n",
            "<class 'numpy.ndarray'>\n",
            "time: 1.43 ms (started: 2021-12-14 20:25:25 +00:00)\n"
          ]
        }
      ],
      "source": [
        "print(type(train_images))\n",
        "print(type(train_labels))"
      ]
    },
    {
      "cell_type": "code",
      "execution_count": 10,
      "metadata": {
        "colab": {
          "base_uri": "https://localhost:8080/"
        },
        "id": "oknPYRxoHMhs",
        "outputId": "ce799ec7-e600-4a2d-879f-0b13a27cd72d"
      },
      "outputs": [
        {
          "output_type": "stream",
          "name": "stdout",
          "text": [
            "<class 'list'>\n",
            "<class 'list'>\n",
            "time: 5.9 ms (started: 2021-12-14 20:25:25 +00:00)\n"
          ]
        }
      ],
      "source": [
        "copy_train_labels = train_labels\n",
        "train_labels_list = copy_train_labels.tolist()\n",
        "print(type(train_labels_list))\n",
        "\n",
        "copy_test_labels = test_labels\n",
        "test_labels_list = copy_test_labels.tolist()\n",
        "print(type(test_labels_list))"
      ]
    },
    {
      "cell_type": "code",
      "execution_count": 11,
      "metadata": {
        "colab": {
          "base_uri": "https://localhost:8080/"
        },
        "id": "HFhDBMLYplNR",
        "outputId": "6b9d2783-8653-4654-b261-abb1e12039d3"
      },
      "outputs": [
        {
          "output_type": "stream",
          "name": "stdout",
          "text": [
            "The data set contains 10 different classes: \n",
            "0.  T-shirt/top\n",
            "1.  Trouser\n",
            "2.  Pullover\n",
            "3.  Dress\n",
            "4.  Coat\n",
            "5.  Sandal\n",
            "6.  Shirt\n",
            "7.  Sneaker\n",
            "8.  Bag\n",
            "9.  Ankle boot\n",
            "time: 6.15 ms (started: 2021-12-14 20:25:25 +00:00)\n"
          ]
        }
      ],
      "source": [
        "print(\"The data set contains 10 different classes: \")\n",
        "for i in range(len(class_names)):\n",
        "  print(str(i)+'. ', class_names[i])"
      ]
    },
    {
      "cell_type": "markdown",
      "metadata": {
        "id": "lQlO9zt2a4sr"
      },
      "source": [
        "# 2.1 Exploring the Data"
      ]
    },
    {
      "cell_type": "markdown",
      "metadata": {
        "id": "GIq7wMFcWhde"
      },
      "source": [
        "Lets see how many samples we got;"
      ]
    },
    {
      "cell_type": "code",
      "execution_count": 12,
      "metadata": {
        "colab": {
          "base_uri": "https://localhost:8080/"
        },
        "id": "x5OUEGK4WXHp",
        "outputId": "b68b9bdc-5621-4a8e-d2f1-625e8df736a4"
      },
      "outputs": [
        {
          "output_type": "stream",
          "name": "stdout",
          "text": [
            "train_images:  (60000, 28, 28)\n",
            "n of train_labels:  60000\n",
            "\n",
            "\n",
            "test_images:  (10000, 28, 28)\n",
            "n labels in test_images:  10000\n",
            "time: 6.94 ms (started: 2021-12-14 20:25:25 +00:00)\n"
          ]
        }
      ],
      "source": [
        "# inspect train_images\n",
        "print('train_images: ', train_images.shape)\n",
        "# n of labels:\n",
        "print('n of train_labels: ', len(train_labels))\n",
        "print('\\n')\n",
        "# inspect test_images\n",
        "print('test_images: ', test_images.shape)\n",
        "# n of labels in test set\n",
        "print('n labels in test_images: ', len(test_labels))"
      ]
    },
    {
      "cell_type": "markdown",
      "metadata": {
        "id": "OKsOSAyuqQx0"
      },
      "source": [
        "# 2.2 Preprocessing and Reshaping the Data\n",
        "\n",
        "By inspecting an original image we can see that it is scaled in the range [0, 255] but we prefer to have a scaling from [0, 1] &rarr; thus we have to divide each pixel value by **255**.\n",
        "\n",
        "Below an image of a pullover item 707 from the training set.\n",
        "\n"
      ]
    },
    {
      "cell_type": "code",
      "execution_count": 13,
      "metadata": {
        "colab": {
          "base_uri": "https://localhost:8080/",
          "height": 284
        },
        "id": "5fNnMrGqtrEO",
        "outputId": "a59f08c8-81e3-4538-e8ad-3c308ad3ed97"
      },
      "outputs": [
        {
          "output_type": "display_data",
          "data": {
            "image/png": "[encoded data removed]",
            "text/plain": [
              "<Figure size 432x288 with 2 Axes>"
            ]
          },
          "metadata": {
            "needs_background": "light"
          }
        },
        {
          "output_type": "stream",
          "name": "stdout",
          "text": [
            "time: 441 ms (started: 2021-12-14 20:25:25 +00:00)\n"
          ]
        }
      ],
      "source": [
        "plt.figure()\n",
        "plt.imshow(train_images[42])\n",
        "plt.colorbar()\n",
        "plt.grid(False)"
      ]
    },
    {
      "cell_type": "markdown",
      "metadata": {
        "id": "2U3Iwl4IMb34"
      },
      "source": [
        "# !!!!!! Normalizing the data run everytime you restart!!!\n",
        "\n",
        "The images inside f_minst are black and white and you get a value between 0 and 255. Where black is 0.\n",
        "We convert **both** training AND testing set to scale from [0, 1]:"
      ]
    },
    {
      "cell_type": "code",
      "execution_count": 14,
      "metadata": {
        "colab": {
          "base_uri": "https://localhost:8080/"
        },
        "id": "ritAT69Dt7Ks",
        "outputId": "d3c4e9f4-95ec-46ed-cadb-ffc61c76cf21"
      },
      "outputs": [
        {
          "output_type": "stream",
          "name": "stdout",
          "text": [
            "time: 248 ms (started: 2021-12-14 20:25:25 +00:00)\n"
          ]
        }
      ],
      "source": [
        "train_images = train_images/255.0\n",
        "test_images = test_images/255.0"
      ]
    },
    {
      "cell_type": "markdown",
      "metadata": {
        "id": "nNevj32YXwhN"
      },
      "source": [
        "# 2.3 Example images from both training - and testing set:\n",
        "\n",
        "Here  9 examples from the training set:\n"
      ]
    },
    {
      "cell_type": "code",
      "execution_count": 15,
      "metadata": {
        "colab": {
          "base_uri": "https://localhost:8080/",
          "height": 390
        },
        "id": "E64vTxHcYNPD",
        "outputId": "34b3be0c-dc4b-4504-a59d-4324e6b147cf"
      },
      "outputs": [
        {
          "output_type": "display_data",
          "data": {
            "image/png": "[encoded data removed]",
            "text/plain": [
              "<Figure size 432x432 with 9 Axes>"
            ]
          },
          "metadata": {}
        },
        {
          "output_type": "stream",
          "name": "stdout",
          "text": [
            "time: 439 ms (started: 2021-12-14 20:25:25 +00:00)\n"
          ]
        }
      ],
      "source": [
        "plt.figure(figsize=(6,6))\n",
        "for i in range(9):\n",
        "  plt.subplot(3,3,i+1)\n",
        "  plt.xticks([])\n",
        "  plt.yticks([])\n",
        "  plt.grid(False)\n",
        "  plt.imshow(train_images[i], cmap=plt.cm.binary)\n",
        "  plt.xlabel(class_names[train_labels[i]])\n",
        "plt.show()"
      ]
    },
    {
      "cell_type": "markdown",
      "metadata": {
        "id": "TEhQQEL5ZtG_"
      },
      "source": [
        "Here nine sample images of the testing set:"
      ]
    },
    {
      "cell_type": "code",
      "execution_count": 16,
      "metadata": {
        "colab": {
          "base_uri": "https://localhost:8080/",
          "height": 390
        },
        "id": "jtW0PvfZZcGh",
        "outputId": "9dd91415-985d-44ec-da5d-1e9573bc6156"
      },
      "outputs": [
        {
          "output_type": "display_data",
          "data": {
            "image/png": "[encoded data removed]",
            "text/plain": [
              "<Figure size 432x432 with 9 Axes>"
            ]
          },
          "metadata": {}
        },
        {
          "output_type": "stream",
          "name": "stdout",
          "text": [
            "time: 474 ms (started: 2021-12-14 20:25:26 +00:00)\n"
          ]
        }
      ],
      "source": [
        "plt.figure(figsize=(6,6))\n",
        "for i in range(9):\n",
        "  plt.subplot(3,3,i+1)\n",
        "  plt.xticks([])\n",
        "  plt.yticks([])\n",
        "  plt.grid(False)\n",
        "  plt.imshow(test_images[i], cmap=plt.cm.binary)\n",
        "  plt.xlabel(class_names[test_labels[i]])\n",
        "plt.show()"
      ]
    },
    {
      "cell_type": "markdown",
      "metadata": {
        "id": "a51e_G8o4HaJ"
      },
      "source": [
        "# 2.4 Visualizing the Distribution of Classes within Training and Testing set:\n",
        "\n",
        "It is crucial to inspect the distribution of classes, as a skewed data set is prone to overfitting and not able to generate a model that is able to **generalize for unseen data**. We decided to do a count plot as it is a good way to visualize the distribution of classes. The first figure shows the distribution of the 9 classes of the training set, while the second figure shows the distribution of the testing set. We can appreciate that both sets are balanced.\n"
      ]
    },
    {
      "cell_type": "code",
      "execution_count": 17,
      "metadata": {
        "colab": {
          "base_uri": "https://localhost:8080/",
          "height": 373
        },
        "id": "ZW0WUhSO-4MN",
        "outputId": "6d3041bb-b22c-4091-872c-ddda50aca23d"
      },
      "outputs": [
        {
          "output_type": "stream",
          "name": "stderr",
          "text": [
            "/usr/local/lib/python3.7/dist-packages/seaborn/_decorators.py:43: FutureWarning: Pass the following variable as a keyword arg: x. From version 0.12, the only valid positional argument will be `data`, and passing other arguments without an explicit keyword will result in an error or misinterpretation.\n",
            "  FutureWarning\n"
          ]
        },
        {
          "output_type": "execute_result",
          "data": {
            "text/plain": [
              "[Text(0, 0.5, 'count'), Text(0.5, 0, 'classes')]"
            ]
          },
          "metadata": {},
          "execution_count": 17
        },
        {
          "output_type": "display_data",
          "data": {
            "image/png": "[encoded data removed]",
            "text/plain": [
              "<Figure size 432x288 with 1 Axes>"
            ]
          },
          "metadata": {
            "needs_background": "light"
          }
        },
        {
          "output_type": "stream",
          "name": "stdout",
          "text": [
            "time: 262 ms (started: 2021-12-14 20:25:26 +00:00)\n"
          ]
        }
      ],
      "source": [
        "# Plotting dist. training set:\n",
        "count_plt = sns.countplot(train_labels,palette=\"rainbow\")\n",
        "count_plt.set(xlabel='classes', ylabel='count')"
      ]
    },
    {
      "cell_type": "code",
      "execution_count": 18,
      "metadata": {
        "colab": {
          "base_uri": "https://localhost:8080/"
        },
        "id": "7HCYa0aKHvGV",
        "outputId": "670a952e-51a0-4137-80fa-f9029bd0ca69"
      },
      "outputs": [
        {
          "output_type": "stream",
          "name": "stdout",
          "text": [
            "6000 of class 0 T-shirt/top\n",
            "6000 of class 1 Trouser\n",
            "6000 of class 2 Pullover\n",
            "6000 of class 3 Dress\n",
            "6000 of class 4 Coat\n",
            "6000 of class 5 Sandal\n",
            "6000 of class 6 Shirt\n",
            "6000 of class 7 Sneaker\n",
            "6000 of class 8 Bag\n",
            "6000 of class 9 Ankle boot\n",
            "time: 22.9 ms (started: 2021-12-14 20:25:27 +00:00)\n"
          ]
        }
      ],
      "source": [
        "# distribution of labels in training set\n",
        "for i in range(10):\n",
        "  print(train_labels_list.count(i),'of class', i , class_names[i])"
      ]
    },
    {
      "cell_type": "code",
      "execution_count": 19,
      "metadata": {
        "colab": {
          "base_uri": "https://localhost:8080/",
          "height": 373
        },
        "id": "MDvmMSknbM-R",
        "outputId": "ff993922-6942-41c6-ed62-43c6c43bf202"
      },
      "outputs": [
        {
          "output_type": "stream",
          "name": "stderr",
          "text": [
            "/usr/local/lib/python3.7/dist-packages/seaborn/_decorators.py:43: FutureWarning: Pass the following variable as a keyword arg: x. From version 0.12, the only valid positional argument will be `data`, and passing other arguments without an explicit keyword will result in an error or misinterpretation.\n",
            "  FutureWarning\n"
          ]
        },
        {
          "output_type": "execute_result",
          "data": {
            "text/plain": [
              "[Text(0, 0.5, 'count'), Text(0.5, 0, 'classes')]"
            ]
          },
          "metadata": {},
          "execution_count": 19
        },
        {
          "output_type": "display_data",
          "data": {
            "image/png": "[encoded data removed]",
            "text/plain": [
              "<Figure size 432x288 with 1 Axes>"
            ]
          },
          "metadata": {
            "needs_background": "light"
          }
        },
        {
          "output_type": "stream",
          "name": "stdout",
          "text": [
            "time: 293 ms (started: 2021-12-14 20:25:27 +00:00)\n"
          ]
        }
      ],
      "source": [
        "# Plotting dist. testing set:\n",
        "count_plt = sns.countplot(test_labels,palette=\"colorblind\")\n",
        "count_plt.set(xlabel='classes', ylabel='count')"
      ]
    },
    {
      "cell_type": "code",
      "execution_count": 20,
      "metadata": {
        "colab": {
          "base_uri": "https://localhost:8080/"
        },
        "id": "5ixt4x06L10Z",
        "outputId": "fda1f694-a1e6-43e7-8c91-550a9d921da6"
      },
      "outputs": [
        {
          "output_type": "stream",
          "name": "stdout",
          "text": [
            "1000 of class 0 T-shirt/top\n",
            "1000 of class 1 Trouser\n",
            "1000 of class 2 Pullover\n",
            "1000 of class 3 Dress\n",
            "1000 of class 4 Coat\n",
            "1000 of class 5 Sandal\n",
            "1000 of class 6 Shirt\n",
            "1000 of class 7 Sneaker\n",
            "1000 of class 8 Bag\n",
            "1000 of class 9 Ankle boot\n",
            "time: 6.62 ms (started: 2021-12-14 20:25:27 +00:00)\n"
          ]
        }
      ],
      "source": [
        "# distribution of labels in testing set\n",
        "for i in range(10):\n",
        "  print(test_labels_list.count(i),'of class', i , class_names[i])"
      ]
    },
    {
      "cell_type": "markdown",
      "source": [
        "## 2.4.1 Pixel Distribution of the Differnet Classes"
      ],
      "metadata": {
        "id": "wN9wZ-q5VDqj"
      }
    },
    {
      "cell_type": "code",
      "execution_count": 21,
      "metadata": {
        "colab": {
          "base_uri": "https://localhost:8080/",
          "height": 1000
        },
        "id": "XtzN9bnwpuLq",
        "outputId": "f97b9e5e-ff56-401d-bba8-db11bf2c7cd2"
      },
      "outputs": [
        {
          "output_type": "display_data",
          "data": {
            "image/png": "[encoded data removed]",
            "text/plain": [
              "<Figure size 1296x1296 with 16 Axes>"
            ]
          },
          "metadata": {
            "needs_background": "light"
          }
        },
        {
          "output_type": "stream",
          "name": "stdout",
          "text": [
            "time: 13.6 s (started: 2021-12-14 20:25:27 +00:00)\n"
          ]
        }
      ],
      "source": [
        "plt.figure(figsize=(18,18))\n",
        "for i in range(16):\n",
        "  plt.subplot(4,4,i+1)\n",
        "  plt.hist(train_images[i])\n",
        "  plt.title(f'Pixel distribution of:  {class_names[train_labels[i]]}')\n",
        "plt.show()"
      ]
    },
    {
      "cell_type": "markdown",
      "metadata": {
        "id": "KCW8IeOBvkj2"
      },
      "source": [
        "# 3 Building Models using two types of Neural Networks\n",
        "\n",
        "First I will implement a basic Artificial Neural Networks (ANN) followed by a Convolutional Neural Network (CNN).\n",
        "\n",
        "\n",
        "## 3.1 Basic Artificial Neural Network\n",
        "\n",
        "\n",
        "ANN are a subeset of ML methods that are at the core of deep learning algorithms. Their structure was inspired by the biological neurons of the brain which coined their name Neural Networks (NN).\n",
        "\n",
        "NNs are made of a node layers that contain an input layer, one or more hidden layers and an output layer. Each artificial neuron connects to another and has an associated threashold and and associated weight.\n",
        "\n",
        "To build the NN we have to configure the layers of the model before compiling it.\n",
        "\n",
        "### 3.1.1 Setting up the Layers of the NN\n",
        "\n",
        "The layers are the basic building blocks of an NN and extract the representations from the given data. Most of deep learning consists of chaining together these layers. Layers as `tf.keras.layres.Dense` have apramenters that are learned during the training. \n",
        "\n",
        "For our training we will use the Rectified Linear Unit (ReLU). It is a simple calculation that returns the value provided as input directly, or the value 0.0 if the input is 0.0 **or less** [see](https://en.wikipedia.org/wiki/Rectifier_(neural_networks)).\n",
        "\n",
        "Here and image of the ReLU:\n",
        "\n",
        "![](https://s2.qwant.com/thumbr/474x351/f/e/354d8f54c966180968777154786e5562a78953d12002e5e24010e54e3cfcf1/th.jpg?u=https%3A%2F%2Ftse3.mm.bing.net%2Fth%3Fid%3DOIP.FZ3MiYnlLaNu6igVodW4LQHaFf%26pid%3DApi&q=0&b=1&p=0&a=0)\n",
        "\n"
      ]
    },
    {
      "cell_type": "markdown",
      "metadata": {
        "id": "vlUpmc3PGrwj"
      },
      "source": [
        "The first layer in my network `tf.keras.layers.Flatten` transforms the format of the images from a 2-dimensional array\n",
        "(of 28 * 28 = 748 pixles) to a one dimensional array holding 784 pixels\n",
        "This layer basically is 'unstacking' the rows of pixles in the image and lining them up.\n",
        "This layer does NOT have to learn any parameters; it only reformats the data."
      ]
    },
    {
      "cell_type": "code",
      "execution_count": 22,
      "metadata": {
        "colab": {
          "base_uri": "https://localhost:8080/"
        },
        "id": "uSuhFHXtzrSZ",
        "outputId": "89756989-a2cc-410a-a5c4-3d4a928868a5"
      },
      "outputs": [
        {
          "output_type": "stream",
          "name": "stdout",
          "text": [
            "time: 2.91 s (started: 2021-12-14 20:25:41 +00:00)\n"
          ]
        }
      ],
      "source": [
        "nn_cls = tf.keras.Sequential([\n",
        "    tf.keras.layers.Flatten(input_shape=(28, 28)),\n",
        "    tf.keras.layers.Dense(128, activation='relu'),\n",
        "    tf.keras.layers.Dense(10)\n",
        "])\n"
      ]
    },
    {
      "cell_type": "code",
      "execution_count": 23,
      "metadata": {
        "colab": {
          "base_uri": "https://localhost:8080/"
        },
        "id": "rwW-eXEVgxq9",
        "outputId": "4fc5e45f-92df-4b80-dfcd-f00892aff697"
      },
      "outputs": [
        {
          "output_type": "stream",
          "name": "stdout",
          "text": [
            "Model: \"sequential\"\n",
            "_________________________________________________________________\n",
            " Layer (type)                Output Shape              Param #   \n",
            "=================================================================\n",
            " flatten (Flatten)           (None, 784)               0         \n",
            "                                                                 \n",
            " dense (Dense)               (None, 128)               100480    \n",
            "                                                                 \n",
            " dense_1 (Dense)             (None, 10)                1290      \n",
            "                                                                 \n",
            "=================================================================\n",
            "Total params: 101,770\n",
            "Trainable params: 101,770\n",
            "Non-trainable params: 0\n",
            "_________________________________________________________________\n",
            "time: 3.33 ms (started: 2021-12-14 20:25:43 +00:00)\n"
          ]
        }
      ],
      "source": [
        "nn_cls.summary()"
      ]
    },
    {
      "cell_type": "markdown",
      "metadata": {
        "id": "7E_osaJoHW2E"
      },
      "source": [
        "After flattening the pixels, the network is composed of a sequence of two `tf.keras.layers.Dense` layers. They are densely connected, or fully connected neural layers. The first layer has 128 neurons. The last layer returns a logits array of lenght 10. Each neuron will contain a score for the current image corresponding to the classes.\n",
        "\n",
        "### 3.1.2 Compiling the Model\n",
        "\n",
        "To get the model ready for training it needs some more settings. We add them during the model's **compile** step.\n",
        "\n",
        "* We need to set a **loss function** (aka error function). It measures how accurate the model is during the training. Obviously we want to minimize this function to minimize the error and 'steer' the model into the right direction.\n",
        "* We need an **optimizer** which defines how the model is updated based on the data that it is given and depending on the **loss function**. Here we use an optimizer that implements the Adam algorithm.\n",
        "* Metrics are used for monitoring training and testing steps. Here we use accuracy = the fraction of images that are correctly classified.\n",
        "\n"
      ]
    },
    {
      "cell_type": "code",
      "execution_count": 24,
      "metadata": {
        "colab": {
          "base_uri": "https://localhost:8080/"
        },
        "id": "eAVdOS4NOZzI",
        "outputId": "c92494c1-2d69-4695-d333-3403d6aaa14b"
      },
      "outputs": [
        {
          "output_type": "stream",
          "name": "stdout",
          "text": [
            "time: 22.1 ms (started: 2021-12-14 20:25:44 +00:00)\n"
          ]
        }
      ],
      "source": [
        "nn_cls.compile(optimizer='adam',\n",
        "              loss=tf.keras.losses.SparseCategoricalCrossentropy(from_logits=True),\n",
        "              metrics=['accuracy'])\n"
      ]
    },
    {
      "cell_type": "markdown",
      "metadata": {
        "id": "vsQI8opbOi1V"
      },
      "source": [
        "### 3.1.3 Training the Model\n",
        "\n",
        "The training of a nn model requires 4 steps:\n",
        "\n",
        "1. Feeding the training data to the model. The training data here is held by the two arrays; `train_images` and `train_labels`\n",
        "\n",
        "2. The model has to learn the associated images and labels\n",
        "\n",
        "3. Testing the model by making predictions on an independent test set &rarr; `test_images` array\n",
        "\n",
        "4. Verifying that the predictions made actually match the labels by comparing the predicted lables to the `test_labels` array\n",
        "\n",
        "### 3.1.4 Feeding the Model\n",
        "\n",
        "To initiate training we call the `model.fit` method. The name is very descriptive. As it fits the model to the training data."
      ]
    },
    {
      "cell_type": "code",
      "execution_count": 25,
      "metadata": {
        "colab": {
          "base_uri": "https://localhost:8080/"
        },
        "id": "goBfk9XJOftI",
        "outputId": "d028e089-5bf7-48d5-8ce8-ef6c4255d9a6"
      },
      "outputs": [
        {
          "output_type": "stream",
          "name": "stdout",
          "text": [
            "Epoch 1/10\n",
            "1875/1875 [==============================] - 7s 3ms/step - loss: 0.5007 - accuracy: 0.8229\n",
            "Epoch 2/10\n",
            "1875/1875 [==============================] - 5s 3ms/step - loss: 0.3797 - accuracy: 0.8632\n",
            "Epoch 3/10\n",
            "1875/1875 [==============================] - 5s 3ms/step - loss: 0.3387 - accuracy: 0.8758\n",
            "Epoch 4/10\n",
            "1875/1875 [==============================] - 5s 3ms/step - loss: 0.3117 - accuracy: 0.8858\n",
            "Epoch 5/10\n",
            "1875/1875 [==============================] - 5s 3ms/step - loss: 0.2952 - accuracy: 0.8909\n",
            "Epoch 6/10\n",
            "1875/1875 [==============================] - 5s 3ms/step - loss: 0.2815 - accuracy: 0.8954\n",
            "Epoch 7/10\n",
            "1875/1875 [==============================] - 5s 3ms/step - loss: 0.2682 - accuracy: 0.9003\n",
            "Epoch 8/10\n",
            "1875/1875 [==============================] - 5s 3ms/step - loss: 0.2588 - accuracy: 0.9039\n",
            "Epoch 9/10\n",
            "1875/1875 [==============================] - 5s 3ms/step - loss: 0.2480 - accuracy: 0.9081\n",
            "Epoch 10/10\n",
            "1875/1875 [==============================] - 5s 3ms/step - loss: 0.2399 - accuracy: 0.9107\n",
            "time: 55.7 s (started: 2021-12-14 20:25:44 +00:00)\n"
          ]
        }
      ],
      "source": [
        "start_nn = time.time()\n",
        "# training\n",
        "nn_history = nn_cls.fit(train_images, \n",
        "                        train_labels, \n",
        "                        epochs=10)\n",
        "end_nn = time.time()\n",
        "nn_time = end_nn-start_nn"
      ]
    },
    {
      "cell_type": "markdown",
      "metadata": {
        "id": "cA1mZsekQUHi"
      },
      "source": [
        "We can see how the model trains and in the starndard output above we see accuracy in output for each epoch. Our model reaches an accuracy of ~ 0.91 = 91% of the images in the training set are correctly classified.\n",
        "\n",
        "### 3.1.5 Evaluating the Accuracy on our Testing set"
      ]
    },
    {
      "cell_type": "code",
      "execution_count": 26,
      "metadata": {
        "colab": {
          "base_uri": "https://localhost:8080/"
        },
        "id": "SJQVF4ZTRQNU",
        "outputId": "9e87201d-30a9-4431-c11c-5a5a395f3864"
      },
      "outputs": [
        {
          "output_type": "stream",
          "name": "stdout",
          "text": [
            "Test loos: 0.3569514751434326\n",
            "Test accuracy: 0.8758000135421753\n",
            "time: 979 ms (started: 2021-12-14 20:26:39 +00:00)\n"
          ]
        }
      ],
      "source": [
        "test_loss, test_acc = nn_cls.evaluate(test_images,  test_labels, verbose=3)\n",
        "\n",
        "print('Test loos: {}'.format(test_loss))\n",
        "print('Test accuracy: {}'.format(test_acc))"
      ]
    },
    {
      "cell_type": "markdown",
      "metadata": {
        "id": "rxiACiiLRaWJ"
      },
      "source": [
        "We can see that the accuracy was slightly lower with only ~ 88.3% of images correctly classified. The difference between the training and testing accuracy can be explained by *overfitting*. So we know that the model has 'memorized' the noise and details in the training dataset this leads to the slightly lower performance on the testing set (or any new unseen data).\n",
        "\n",
        "We can mitigate overfitting by:\n",
        "\n",
        "* Getting more training data\n",
        "* Reducing the capacity of the network\n",
        "* Adding weight regularization\n",
        "* Adding dropout\n",
        "* Data augmentation\n",
        "* Batch normalization\n",
        "\n",
        "Usually it is best to combine the above methods.\n",
        "\n",
        "As the goal for this project is to show several methods, we wil however continue with the model as is.\n",
        "\n",
        "\n",
        "### 3.1.6 Testing the Model by Making Predictions on an Independent Test Set \n",
        "\n",
        "The independent testing set is our `test_images` array. Logits is the vector of raw (non-normalized) predicitons that a classification model generates. It is then passed to a normalization function, in our case the `softmax` function. The `softmax` function generates a vector of normalized probabilities with one value for each possible class. These probabilities are easy to interpret."
      ]
    },
    {
      "cell_type": "code",
      "execution_count": 27,
      "metadata": {
        "colab": {
          "base_uri": "https://localhost:8080/"
        },
        "id": "892FsJ_TUXTU",
        "outputId": "5f42ce90-c052-498f-8762-fc897c850f48"
      },
      "outputs": [
        {
          "output_type": "stream",
          "name": "stdout",
          "text": [
            "time: 797 ms (started: 2021-12-14 20:26:40 +00:00)\n"
          ]
        }
      ],
      "source": [
        "probability_model = tf.keras.Sequential([nn_cls, tf.keras.layers.Softmax()])\n",
        "nn_predictions = probability_model.predict(test_images)\n"
      ]
    },
    {
      "cell_type": "markdown",
      "metadata": {
        "id": "Y3B217B1UlWr"
      },
      "source": [
        "Now the model has predicted the label of **each** image in the **testing_set**. Below we are inspecting the first prediction:"
      ]
    },
    {
      "cell_type": "code",
      "execution_count": 28,
      "metadata": {
        "colab": {
          "base_uri": "https://localhost:8080/"
        },
        "id": "r1O9pDAkU02s",
        "outputId": "51b5a6d7-1b56-463b-f135-d1e74850299d"
      },
      "outputs": [
        {
          "output_type": "stream",
          "name": "stdout",
          "text": [
            "[1.3167918e-06 2.7021363e-08 4.6427825e-08 1.1052474e-10 1.0994844e-06\n",
            " 1.0333756e-03 4.2368612e-07 2.5509533e-03 2.5651389e-07 9.9641258e-01]\n",
            "10\n",
            "time: 4.03 ms (started: 2021-12-14 20:26:41 +00:00)\n"
          ]
        }
      ],
      "source": [
        "print(nn_predictions[0])\n",
        "print(len(nn_predictions[0]))"
      ]
    },
    {
      "cell_type": "markdown",
      "metadata": {
        "id": "AfE25mQhU_hu"
      },
      "source": [
        "We can appreciate that each prediciton is an array of 10 numbers, which represent the models confidence that the image corresponds to each of the 10 different classes (labels of clothing). The label with the highest confidence is the class called for the item."
      ]
    },
    {
      "cell_type": "code",
      "execution_count": 29,
      "metadata": {
        "colab": {
          "base_uri": "https://localhost:8080/"
        },
        "id": "gfex0AfhVdWi",
        "outputId": "2976dd0e-341f-4307-d1bb-fe3647dbfe55"
      },
      "outputs": [
        {
          "output_type": "stream",
          "name": "stdout",
          "text": [
            "9\n",
            "\n",
            "\n",
            "time: 4 ms (started: 2021-12-14 20:26:41 +00:00)\n"
          ]
        }
      ],
      "source": [
        "print(np.argmax(nn_predictions[0]))\n",
        "\n",
        "print('\\n') # forcing autotime to print into next line\n"
      ]
    },
    {
      "cell_type": "code",
      "execution_count": 30,
      "metadata": {
        "colab": {
          "base_uri": "https://localhost:8080/",
          "height": 36
        },
        "id": "Ku9vitjjWiyX",
        "outputId": "0d54af79-5e1c-4e4f-803b-cb905b3504ae"
      },
      "outputs": [
        {
          "output_type": "execute_result",
          "data": {
            "application/vnd.google.colaboratory.intrinsic+json": {
              "type": "string"
            },
            "text/plain": [
              "'Ankle boot'"
            ]
          },
          "metadata": {},
          "execution_count": 30
        },
        {
          "output_type": "stream",
          "name": "stdout",
          "text": [
            "time: 5.54 ms (started: 2021-12-14 20:26:41 +00:00)\n"
          ]
        }
      ],
      "source": [
        "class_names[9]"
      ]
    },
    {
      "cell_type": "markdown",
      "metadata": {
        "id": "tDLjDo-rVsB-"
      },
      "source": [
        "We now know that the model is most confident that the class of that the image is an ankle boot. To find out weather this call was correct we can examine the `test_labels`:"
      ]
    },
    {
      "cell_type": "code",
      "execution_count": 31,
      "metadata": {
        "colab": {
          "base_uri": "https://localhost:8080/"
        },
        "id": "TD1MSVPuW7Mb",
        "outputId": "5ef6a749-bf6a-4f14-82d6-065f6f1f7145"
      },
      "outputs": [
        {
          "output_type": "execute_result",
          "data": {
            "text/plain": [
              "9"
            ]
          },
          "metadata": {},
          "execution_count": 31
        },
        {
          "output_type": "stream",
          "name": "stdout",
          "text": [
            "time: 9.7 ms (started: 2021-12-14 20:26:41 +00:00)\n"
          ]
        }
      ],
      "source": [
        "test_labels[0] # dunno why time module is printed right after 9 in interactive..."
      ]
    },
    {
      "cell_type": "markdown",
      "metadata": {
        "id": "paYUFO45X-c0"
      },
      "source": [
        "### 3.1.7 Visualizing Predictions\n",
        "\n",
        "First we write functions to visualize the full set of 10 class predictions.\n",
        "\n",
        "Then we make predictions about some images using the trained model.\n",
        "\n"
      ]
    },
    {
      "cell_type": "code",
      "execution_count": 32,
      "metadata": {
        "colab": {
          "base_uri": "https://localhost:8080/"
        },
        "id": "72EGvwkeXS1M",
        "outputId": "d85aed3c-884b-4882-b957-6138515b66cc"
      },
      "outputs": [
        {
          "output_type": "stream",
          "name": "stdout",
          "text": [
            "time: 21.1 ms (started: 2021-12-14 20:26:41 +00:00)\n"
          ]
        }
      ],
      "source": [
        "def plot_image(i, predictions_array, true_label, img):\n",
        "  true_label, img = true_label[i], img[i]\n",
        "  plt.grid(False)\n",
        "  plt.xticks([])\n",
        "  plt.yticks([])\n",
        "\n",
        "  plt.imshow(img, cmap=plt.cm.binary)\n",
        "\n",
        "  predicted_label = np.argmax(predictions_array)\n",
        "  if predicted_label == true_label:\n",
        "    color = 'green'\n",
        "  else:\n",
        "    color = 'red'\n",
        "\n",
        "  plt.xlabel(\"{} {:2.0f}% ({})\".format(class_names[predicted_label],\n",
        "                                100*np.max(predictions_array),\n",
        "                                class_names[true_label]),\n",
        "                                color=color)\n",
        "\n",
        "def plot_value_array(i, predictions_array, true_label):\n",
        "  true_label = true_label[i]\n",
        "  plt.grid(False)\n",
        "  plt.xticks(range(10))\n",
        "  plt.yticks([])\n",
        "  thisplot = plt.bar(range(10), predictions_array, color=\"#777777\")\n",
        "  plt.ylim([0, 1])\n",
        "  predicted_label = np.argmax(predictions_array)\n",
        "\n",
        "  thisplot[predicted_label].set_color('red')\n",
        "  thisplot[true_label].set_color('green')\n"
      ]
    },
    {
      "cell_type": "markdown",
      "metadata": {
        "id": "AheIykEHYruk"
      },
      "source": [
        "As you can see in the function above: correctly classified images are labelled green while wrongly classified ones are red."
      ]
    },
    {
      "cell_type": "code",
      "execution_count": 33,
      "metadata": {
        "colab": {
          "base_uri": "https://localhost:8080/",
          "height": 230
        },
        "id": "NPY3_qmvY40a",
        "outputId": "5abc3bfa-9dde-4c0e-8b41-e8ce92843cae"
      },
      "outputs": [
        {
          "output_type": "display_data",
          "data": {
            "image/png": "[encoded data removed]",
            "text/plain": [
              "<Figure size 432x216 with 2 Axes>"
            ]
          },
          "metadata": {
            "needs_background": "light"
          }
        },
        {
          "output_type": "stream",
          "name": "stdout",
          "text": [
            "time: 199 ms (started: 2021-12-14 20:26:41 +00:00)\n"
          ]
        }
      ],
      "source": [
        "i = 0\n",
        "plt.figure(figsize=(6,3))\n",
        "plt.subplot(1,2,1)\n",
        "plot_image(i, nn_predictions[i], test_labels, test_images)\n",
        "plt.subplot(1,2,2)\n",
        "plot_value_array(i, nn_predictions[i],  test_labels)\n",
        "plt.show()\n"
      ]
    },
    {
      "cell_type": "code",
      "execution_count": 34,
      "metadata": {
        "colab": {
          "base_uri": "https://localhost:8080/",
          "height": 230
        },
        "id": "y0aumHyTZGum",
        "outputId": "e89a8374-004f-45b4-9f9e-515406cbf1c9"
      },
      "outputs": [
        {
          "output_type": "display_data",
          "data": {
            "image/png": "[encoded data removed]",
            "text/plain": [
              "<Figure size 432x216 with 2 Axes>"
            ]
          },
          "metadata": {
            "needs_background": "light"
          }
        },
        {
          "output_type": "stream",
          "name": "stdout",
          "text": [
            "time: 193 ms (started: 2021-12-14 20:26:41 +00:00)\n"
          ]
        }
      ],
      "source": [
        "i = 113\n",
        "plt.figure(figsize=(6,3))\n",
        "plt.subplot(1,2,1)\n",
        "plot_image(i, nn_predictions[i], test_labels, test_images)\n",
        "plt.subplot(1,2,2)\n",
        "plot_value_array(i, nn_predictions[i],  test_labels)\n",
        "plt.show()\n"
      ]
    },
    {
      "cell_type": "code",
      "execution_count": 35,
      "metadata": {
        "colab": {
          "base_uri": "https://localhost:8080/",
          "height": 230
        },
        "id": "fpUf5RqYZNjm",
        "outputId": "e87557be-f8b4-4a80-beb7-66b1ddbbc86e"
      },
      "outputs": [
        {
          "output_type": "display_data",
          "data": {
            "image/png": "[encoded data removed]",
            "text/plain": [
              "<Figure size 432x216 with 2 Axes>"
            ]
          },
          "metadata": {
            "needs_background": "light"
          }
        },
        {
          "output_type": "stream",
          "name": "stdout",
          "text": [
            "time: 187 ms (started: 2021-12-14 20:26:42 +00:00)\n"
          ]
        }
      ],
      "source": [
        "i = 12\n",
        "plt.figure(figsize=(6,3))\n",
        "plt.subplot(1,2,1)\n",
        "plot_image(i, nn_predictions[i], test_labels, test_images)\n",
        "plt.subplot(1,2,2)\n",
        "plot_value_array(i, nn_predictions[i],  test_labels)\n",
        "plt.show()\n"
      ]
    },
    {
      "cell_type": "markdown",
      "metadata": {
        "id": "TIyDclieZdBm"
      },
      "source": [
        "Below we are plotting several images including their predictions in a grid: We can see that the model can be wrong (red) even if it is very confident."
      ]
    },
    {
      "cell_type": "code",
      "execution_count": 36,
      "metadata": {
        "colab": {
          "base_uri": "https://localhost:8080/",
          "height": 769
        },
        "id": "8NhRfQBEZplL",
        "outputId": "ec5821a4-49e7-4d27-83a6-1a92ad621958"
      },
      "outputs": [
        {
          "output_type": "display_data",
          "data": {
            "image/png": "[encoded data removed]",
            "text/plain": [
              "<Figure size 1152x864 with 48 Axes>"
            ]
          },
          "metadata": {
            "needs_background": "light"
          }
        },
        {
          "output_type": "stream",
          "name": "stdout",
          "text": [
            "time: 5.02 s (started: 2021-12-14 20:26:42 +00:00)\n"
          ]
        }
      ],
      "source": [
        "# Plot the first X test images, their predicted labels, and the true labels.\n",
        "# Color correct predictions in blue and incorrect predictions in red.\n",
        "num_rows = 6\n",
        "num_cols = 4\n",
        "num_images = num_rows*num_cols\n",
        "plt.figure(figsize=(2*2*num_cols, 2*num_rows))\n",
        "for i in range(num_images):\n",
        "  plt.subplot(num_rows, 2*num_cols, 2*i+1)\n",
        "  plot_image(i, nn_predictions[i], test_labels, test_images)\n",
        "  plt.subplot(num_rows, 2*num_cols, 2*i+2)\n",
        "  plot_value_array(i, nn_predictions[i], test_labels)\n",
        "plt.tight_layout()\n",
        "plt.show()\n"
      ]
    },
    {
      "cell_type": "markdown",
      "metadata": {
        "id": "Z9YXykw6Tz7a"
      },
      "source": [
        "### 3.1.8 Connfusion Matrix of my Neural Network Classifier"
      ]
    },
    {
      "cell_type": "code",
      "execution_count": 37,
      "metadata": {
        "colab": {
          "base_uri": "https://localhost:8080/"
        },
        "id": "9BcoRP3HkeJB",
        "outputId": "bfeb956e-80cb-4da3-a948-910a001eefb9"
      },
      "outputs": [
        {
          "output_type": "stream",
          "name": "stdout",
          "text": [
            "time: 7.71 ms (started: 2021-12-14 20:26:47 +00:00)\n"
          ]
        }
      ],
      "source": [
        "# predicted = model1.predict(X_test) \n",
        "test_predicted = np.argmax(nn_predictions, axis=1) #predictions\n",
        "# generating confusion matrix using the test set labels and the predictions of the test set:\n",
        "nn_confusion = confusion_matrix(test_labels, test_predicted)\n",
        "# print(nn_confusion)"
      ]
    },
    {
      "cell_type": "code",
      "execution_count": 38,
      "metadata": {
        "colab": {
          "base_uri": "https://localhost:8080/",
          "height": 339
        },
        "id": "Kh8A4ZnPSTZT",
        "outputId": "78e3a2ca-a545-4d2f-a2e2-17036f386677"
      },
      "outputs": [
        {
          "output_type": "display_data",
          "data": {
            "image/png": "[encoded data removed]",
            "text/plain": [
              "<Figure size 504x360 with 2 Axes>"
            ]
          },
          "metadata": {
            "needs_background": "light"
          }
        },
        {
          "output_type": "stream",
          "name": "stdout",
          "text": [
            "time: 706 ms (started: 2021-12-14 20:26:47 +00:00)\n"
          ]
        }
      ],
      "source": [
        "f,ax = plt.subplots(figsize=(7,5))\n",
        "sns.heatmap(nn_confusion, annot=True, cmap=\"BuPu\", fmt='',ax=ax)\n",
        "plt.show()"
      ]
    },
    {
      "cell_type": "code",
      "execution_count": 39,
      "metadata": {
        "colab": {
          "base_uri": "https://localhost:8080/"
        },
        "id": "rXJKGH4WsFIr",
        "outputId": "d43dd8c4-c71a-4231-814f-ba737dd33a36"
      },
      "outputs": [
        {
          "output_type": "stream",
          "name": "stdout",
          "text": [
            "<class 'list'>\n",
            "T-shirt/top, Trouser, Pullover, Dress, Coat, Sandal, Shirt, Sneaker, Bag, Ankle boot, time: 10 ms (started: 2021-12-14 20:26:48 +00:00)\n"
          ]
        }
      ],
      "source": [
        "print(type(class_names))\n",
        "for i in class_names:\n",
        "  print(i, end=\", \")"
      ]
    },
    {
      "cell_type": "code",
      "execution_count": 40,
      "metadata": {
        "colab": {
          "base_uri": "https://localhost:8080/"
        },
        "id": "sOp6WUearPME",
        "outputId": "c0cd3279-304a-4817-f461-212d4dba7570"
      },
      "outputs": [
        {
          "output_type": "stream",
          "name": "stdout",
          "text": [
            "874 T-shirt/top\n",
            "967 Trouser\n",
            "756 Pullover\n",
            "822 Dress\n",
            "890 Coat\n",
            "963 Sandal\n",
            "642 Shirt\n",
            "922 Sneaker\n",
            "947 Bag\n",
            "975 Ankle boot\n",
            "\n",
            "\n",
            "True positives: \n",
            "[874, 967, 756, 822, 890, 963, 642, 922, 947, 975] \n",
            "\n",
            "True positives sorted: \n",
            "[642, 756, 822, 874, 890, 922, 947, 963, 967, 975] \n",
            "\n",
            "time: 6.5 ms (started: 2021-12-14 20:26:48 +00:00)\n"
          ]
        }
      ],
      "source": [
        "# generating list of true positives:\n",
        "tp_list = [] \n",
        "for i in range(len(nn_confusion)):\n",
        "  print(nn_confusion[i][i], class_names[i])\n",
        "  tp_list.append(nn_confusion[i][i])\n",
        "\n",
        "print('\\n')\n",
        "print('True positives: ')\n",
        "print(tp_list, '\\n')\n",
        "tp_list.sort()\n",
        "print('True positives sorted: ')\n",
        "print(tp_list, '\\n')"
      ]
    },
    {
      "cell_type": "markdown",
      "metadata": {
        "id": "cNAcTNBfq3EX"
      },
      "source": [
        "### 3.1.9 Discussing the differences in true positives\n",
        "\n",
        "The NN method achieved and overall accuracy of 0.88 on the testing set. Looking at the diagonal in the heatmap above we can see all true positives (TP). That is, the predicted class is in congruence with the label of the class.\n",
        "\n",
        "I have extracted all TP into a list and sorted them from smallest to largest. As outlined in data exploration the classes of the **testing set** were completely balanced thus we can draw direct conclusions.\n",
        "\n",
        "Labels sorted from least TP to highest TP value:\n",
        "\n",
        "1. Shirt 631 \n",
        "2. Coat 811\n",
        "3. Pullover 841\n",
        "4. T-Shirt/top 853\n",
        "5. Dress 882\n",
        "6. Sneaker 926\n",
        "7. Sandal 940\n",
        "8. Trouser 972\n",
        "9. Bag 980\n",
        "10. Ankle boot 983\n",
        "\n",
        "The first three might have had these lower scores given their similar pixle distribution. It is evident to the human eye that shirts coats and pullovers all have the same shape. While the difference in shape between sandals, ankle boots and sneakers is more pronounced and thus might lead to a pixel profile that is more distinguishable."
      ]
    },
    {
      "cell_type": "markdown",
      "source": [
        "## 3.2 Convolutional Neural Networks\n",
        "\n",
        "\n",
        "\n",
        "\n",
        "As peviously discussed NNs are a subset of ML methods which are at the heart of deep learning algorithms. These netwoks are layered "
      ],
      "metadata": {
        "id": "DZRgeF-k2Vrb"
      }
    },
    {
      "cell_type": "code",
      "source": [
        "from keras import optimizers\n",
        "from keras.models import Sequential\n",
        "from keras.layers import Dense, Dropout, Flatten, Conv2D, MaxPool2D\n",
        "from keras.preprocessing.image import ImageDataGenerator\n",
        "from keras.callbacks import ModelCheckpoint, Callback, EarlyStopping, ReduceLROnPlateau, LearningRateScheduler\n",
        "from keras.utils.np_utils import to_categorical # for 'one hot encoding' ohe\n",
        "from keras.callbacks import EarlyStopping # to stop training when val loss flattens"
      ],
      "metadata": {
        "colab": {
          "base_uri": "https://localhost:8080/"
        },
        "outputId": "b1582fc7-4291-49e4-b6be-01edc6059c87",
        "id": "mvwRf2c-2Vrd"
      },
      "execution_count": 41,
      "outputs": [
        {
          "output_type": "stream",
          "name": "stdout",
          "text": [
            "time: 5.36 ms (started: 2021-12-14 20:26:48 +00:00)\n"
          ]
        }
      ]
    },
    {
      "cell_type": "markdown",
      "source": [
        "We will take advantage of the GPU that colab provides by changing the runtime type.\n",
        "\n",
        "I have already scaled the data from [0, 1] in a [cell in part 2.2]."
      ],
      "metadata": {
        "id": "ggKMYcNm2Vrf"
      }
    },
    {
      "cell_type": "code",
      "source": [
        "print(train_images.shape)\n",
        "print(test_images.shape)"
      ],
      "metadata": {
        "colab": {
          "base_uri": "https://localhost:8080/"
        },
        "outputId": "ef35f7da-d93e-4ab4-9fb9-40915bb2212b",
        "id": "Gb1K-qcu2Vrh"
      },
      "execution_count": 42,
      "outputs": [
        {
          "output_type": "stream",
          "name": "stdout",
          "text": [
            "(60000, 28, 28)\n",
            "(10000, 28, 28)\n",
            "time: 1.66 ms (started: 2021-12-14 20:26:48 +00:00)\n"
          ]
        }
      ]
    },
    {
      "cell_type": "code",
      "source": [
        "# copying into new vars as other methods that I will use later \n",
        "# require different shape of the input data.\n",
        "trn_im_cnn = train_images\n",
        "tst_im_cnn = test_images"
      ],
      "metadata": {
        "colab": {
          "base_uri": "https://localhost:8080/"
        },
        "id": "a7t5WylwIQ3z",
        "outputId": "77915803-f734-498a-e443-b01b0faa1a44"
      },
      "execution_count": 43,
      "outputs": [
        {
          "output_type": "stream",
          "name": "stdout",
          "text": [
            "time: 2.7 ms (started: 2021-12-14 20:26:48 +00:00)\n"
          ]
        }
      ]
    },
    {
      "cell_type": "code",
      "source": [
        "type(trn_im_cnn[0][0][0])"
      ],
      "metadata": {
        "colab": {
          "base_uri": "https://localhost:8080/"
        },
        "id": "ghnX71JgGyq6",
        "outputId": "9d25b604-d058-40a0-96d5-b4a0dd129aa2"
      },
      "execution_count": 44,
      "outputs": [
        {
          "output_type": "execute_result",
          "data": {
            "text/plain": [
              "numpy.float64"
            ]
          },
          "metadata": {},
          "execution_count": 44
        },
        {
          "output_type": "stream",
          "name": "stdout",
          "text": [
            "time: 5.22 ms (started: 2021-12-14 20:26:48 +00:00)\n"
          ]
        }
      ]
    },
    {
      "cell_type": "code",
      "source": [
        "# Reshaping to convert the array from 3 to 4 dimensions\n",
        "trn_im_cnn = trn_im_cnn.reshape(trn_im_cnn.shape[0], 28, 28, 1)\n",
        "tst_im_cnn = tst_im_cnn.reshape(tst_im_cnn.shape[0], 28, 28, 1)\n",
        "input_shape = (28, 28, 1)\n",
        "\n",
        "# converting float64 to float32\n",
        "trn_im_cnn = trn_im_cnn.astype('float32')\n",
        "tst_im_cnn = tst_im_cnn.astype('float32')\n"
      ],
      "metadata": {
        "colab": {
          "base_uri": "https://localhost:8080/"
        },
        "outputId": "868840e4-6b4a-4386-eb45-807c9df8d8fc",
        "id": "8lnGfOIr2Vrj"
      },
      "execution_count": 45,
      "outputs": [
        {
          "output_type": "stream",
          "name": "stdout",
          "text": [
            "time: 108 ms (started: 2021-12-14 20:26:48 +00:00)\n"
          ]
        }
      ]
    },
    {
      "cell_type": "code",
      "source": [
        "print('Converted to 4 dimensions:')\n",
        "print(trn_im_cnn.shape) \n",
        "print(tst_im_cnn.shape) \n",
        "print('Converted to float32:')\n",
        "print(type(trn_im_cnn[0][0][0]))"
      ],
      "metadata": {
        "colab": {
          "base_uri": "https://localhost:8080/"
        },
        "id": "RJsuLECpE87W",
        "outputId": "a15a9c50-437f-4431-9db9-6f2c333c0bd0"
      },
      "execution_count": 46,
      "outputs": [
        {
          "output_type": "stream",
          "name": "stdout",
          "text": [
            "Converted to 4 dimensions:\n",
            "(60000, 28, 28, 1)\n",
            "(10000, 28, 28, 1)\n",
            "Converted to float32:\n",
            "<class 'numpy.ndarray'>\n",
            "time: 5.15 ms (started: 2021-12-14 20:26:48 +00:00)\n"
          ]
        }
      ]
    },
    {
      "cell_type": "markdown",
      "source": [
        "# One hot encoding\n"
      ],
      "metadata": {
        "id": "7C9UF8ZKlESr"
      }
    },
    {
      "cell_type": "code",
      "source": [
        "# Changing labels encoding from [0,9] to a categorical format\n",
        "# One hot encoding: ohe\n",
        "\n",
        "nclasses = 10\n",
        "trn_labels_ohe = to_categorical(train_labels, num_classes = nclasses )\n",
        "tst_labels_ohe = to_categorical(test_labels, num_classes = nclasses )\n",
        "print('before:')\n",
        "print('Shape of train_labels: ', train_labels.shape) \n",
        "print('Shape of test_labels: ', test_labels.shape)\n",
        "print('One hot encoding:')\n",
        "print('Shape of train_labels: ', trn_labels_ohe.shape) \n",
        "print('Shape of test_labels: ', tst_labels_ohe.shape)"
      ],
      "metadata": {
        "colab": {
          "base_uri": "https://localhost:8080/"
        },
        "outputId": "d44c9d6b-dabb-4696-8650-00858c43ef65",
        "id": "HpdTS-2m2Vrk"
      },
      "execution_count": 47,
      "outputs": [
        {
          "output_type": "stream",
          "name": "stdout",
          "text": [
            "before:\n",
            "Shape of train_labels:  (60000,)\n",
            "Shape of test_labels:  (10000,)\n",
            "One hot encoding:\n",
            "Shape of train_labels:  (60000, 10)\n",
            "Shape of test_labels:  (10000, 10)\n",
            "time: 11.5 ms (started: 2021-12-14 20:26:48 +00:00)\n"
          ]
        }
      ]
    },
    {
      "cell_type": "markdown",
      "source": [
        " # Basic CNN Model"
      ],
      "metadata": {
        "id": "8NoiM-3YLd9J"
      }
    },
    {
      "cell_type": "code",
      "source": [
        "# need the GPU in colab\n",
        "# When scoring a bunch GPU could give the following error: ResourceExhaustedError\n",
        "# Because the GPU might not have enough ram to predict the entire set at once "
      ],
      "metadata": {
        "id": "x1hJ6YWV2Vrm",
        "colab": {
          "base_uri": "https://localhost:8080/"
        },
        "outputId": "bb243f33-b9f5-4c87-e8cd-86b3f8185861"
      },
      "execution_count": 48,
      "outputs": [
        {
          "output_type": "stream",
          "name": "stdout",
          "text": [
            "time: 4.08 ms (started: 2021-12-14 20:26:48 +00:00)\n"
          ]
        }
      ]
    },
    {
      "cell_type": "markdown",
      "source": [
        "Convolutions, Subsampling, Convolutions, Subsampling, Full connection\n",
        "\n",
        "train test splits are the way so EVERYBODY has the same input for publications\n",
        "\n",
        "NN deal best with data within the same range [0,1] or you could center it on 0"
      ],
      "metadata": {
        "id": "YuVcQxl_2Vro"
      }
    },
    {
      "cell_type": "code",
      "source": [
        "# model.fit(X_train, y_train, validation_data = (X_test, y_test), epochs = 100, batch_size = 15, callbacks = [es])\n"
      ],
      "metadata": {
        "colab": {
          "base_uri": "https://localhost:8080/"
        },
        "id": "vh-zgNwSPAFG",
        "outputId": "7246fccf-a163-49f1-9cca-838e9bd47519"
      },
      "execution_count": 49,
      "outputs": [
        {
          "output_type": "stream",
          "name": "stdout",
          "text": [
            "time: 917 µs (started: 2021-12-14 20:26:48 +00:00)\n"
          ]
        }
      ]
    },
    {
      "cell_type": "code",
      "source": [
        "cnn_model_1 = Sequential()\n",
        "\n",
        "cnn_model_1.add(Conv2D(32, (3, 3), \n",
        "                activation='relu',\n",
        "                strides=1,\n",
        "                padding='same', \n",
        "                kernel_initializer='he_uniform', \n",
        "                input_shape=(28, 28, 1)))\n",
        "cnn_model_1.add(MaxPool2D((2, 2)))\n",
        "cnn_model_1.add(Flatten())\n",
        "cnn_model_1.add(Dense(100, \n",
        "                      activation='relu', \n",
        "                      kernel_initializer='he_uniform'))\n",
        "cnn_model_1.add(Dense(nclasses, activation='softmax'))\n",
        "\n",
        "# early stopping\n",
        "es_callback = EarlyStopping(monitor = 'val_loss',\n",
        "                   min_delta=1e-3, \n",
        "                   patience = 5,\n",
        "                   verbose = 1,\n",
        "                   mode='auto',\n",
        "                   restore_best_weights=True)\n",
        "\n",
        "# es_callback: early stopping callback will stop the training when there is \n",
        "# no improvement in the loss for 5 consecutive epochs."
      ],
      "metadata": {
        "colab": {
          "base_uri": "https://localhost:8080/"
        },
        "outputId": "4f754e38-8dd3-41f6-fd87-7081a5ffb8be",
        "id": "si1s33kx2Vrq"
      },
      "execution_count": 50,
      "outputs": [
        {
          "output_type": "stream",
          "name": "stdout",
          "text": [
            "time: 69.2 ms (started: 2021-12-14 20:26:48 +00:00)\n"
          ]
        }
      ]
    },
    {
      "cell_type": "code",
      "source": [
        "cnn_model_1.compile(optimizer=\"adam\", \n",
        "              loss=\"categorical_crossentropy\", \n",
        "              metrics=[\"accuracy\"])\n",
        "\n",
        "cnn_model_1.summary()"
      ],
      "metadata": {
        "colab": {
          "base_uri": "https://localhost:8080/"
        },
        "id": "zYlc6e2T2Vrs",
        "outputId": "2839ce7c-42d8-4480-fadf-954d21fc780b"
      },
      "execution_count": 51,
      "outputs": [
        {
          "output_type": "stream",
          "name": "stdout",
          "text": [
            "Model: \"sequential_2\"\n",
            "_________________________________________________________________\n",
            " Layer (type)                Output Shape              Param #   \n",
            "=================================================================\n",
            " conv2d (Conv2D)             (None, 28, 28, 32)        320       \n",
            "                                                                 \n",
            " max_pooling2d (MaxPooling2D  (None, 14, 14, 32)       0         \n",
            " )                                                               \n",
            "                                                                 \n",
            " flatten_1 (Flatten)         (None, 6272)              0         \n",
            "                                                                 \n",
            " dense_2 (Dense)             (None, 100)               627300    \n",
            "                                                                 \n",
            " dense_3 (Dense)             (None, 10)                1010      \n",
            "                                                                 \n",
            "=================================================================\n",
            "Total params: 628,630\n",
            "Trainable params: 628,630\n",
            "Non-trainable params: 0\n",
            "_________________________________________________________________\n",
            "time: 25.3 ms (started: 2021-12-14 20:26:48 +00:00)\n"
          ]
        }
      ]
    },
    {
      "cell_type": "code",
      "source": [
        "history = cnn_model_1.fit(x=trn_im_cnn,\n",
        "                              y=trn_labels_ohe,\n",
        "                              epochs=100, \n",
        "                              batch_size=256, \n",
        "                              validation_split=0.3,\n",
        "                              verbose=1)\n",
        "\n",
        "\n",
        "\n",
        "len(history.history['loss'])  "
      ],
      "metadata": {
        "colab": {
          "base_uri": "https://localhost:8080/"
        },
        "id": "JSW2zjFOc4sL",
        "outputId": "532a58b0-4aab-48ed-e879-2f54395dbad6"
      },
      "execution_count": 52,
      "outputs": [
        {
          "output_type": "stream",
          "name": "stdout",
          "text": [
            "Epoch 1/100\n",
            "165/165 [==============================] - 11s 15ms/step - loss: 0.4861 - accuracy: 0.8300 - val_loss: 0.4771 - val_accuracy: 0.8376\n",
            "Epoch 2/100\n",
            "165/165 [==============================] - 2s 14ms/step - loss: 0.3290 - accuracy: 0.8827 - val_loss: 0.3354 - val_accuracy: 0.8803\n",
            "Epoch 3/100\n",
            "165/165 [==============================] - 2s 13ms/step - loss: 0.2749 - accuracy: 0.9005 - val_loss: 0.2894 - val_accuracy: 0.8979\n",
            "Epoch 4/100\n",
            "165/165 [==============================] - 2s 14ms/step - loss: 0.2438 - accuracy: 0.9109 - val_loss: 0.3215 - val_accuracy: 0.8871\n",
            "Epoch 5/100\n",
            "165/165 [==============================] - 2s 12ms/step - loss: 0.2165 - accuracy: 0.9197 - val_loss: 0.2805 - val_accuracy: 0.9010\n",
            "Epoch 6/100\n",
            "165/165 [==============================] - 2s 12ms/step - loss: 0.1982 - accuracy: 0.9279 - val_loss: 0.2751 - val_accuracy: 0.9030\n",
            "Epoch 7/100\n",
            "165/165 [==============================] - 2s 14ms/step - loss: 0.1806 - accuracy: 0.9344 - val_loss: 0.2548 - val_accuracy: 0.9095\n",
            "Epoch 8/100\n",
            "165/165 [==============================] - 2s 13ms/step - loss: 0.1677 - accuracy: 0.9394 - val_loss: 0.2604 - val_accuracy: 0.9083\n",
            "Epoch 9/100\n",
            "165/165 [==============================] - 2s 14ms/step - loss: 0.1484 - accuracy: 0.9474 - val_loss: 0.2558 - val_accuracy: 0.9113\n",
            "Epoch 10/100\n",
            "165/165 [==============================] - 2s 12ms/step - loss: 0.1383 - accuracy: 0.9507 - val_loss: 0.2677 - val_accuracy: 0.9104\n",
            "Epoch 11/100\n",
            "165/165 [==============================] - 2s 14ms/step - loss: 0.1283 - accuracy: 0.9545 - val_loss: 0.2567 - val_accuracy: 0.9139\n",
            "Epoch 12/100\n",
            "165/165 [==============================] - 2s 12ms/step - loss: 0.1157 - accuracy: 0.9586 - val_loss: 0.2849 - val_accuracy: 0.9071\n",
            "Epoch 13/100\n",
            "165/165 [==============================] - 2s 13ms/step - loss: 0.1102 - accuracy: 0.9615 - val_loss: 0.2924 - val_accuracy: 0.9073\n",
            "Epoch 14/100\n",
            "165/165 [==============================] - 2s 13ms/step - loss: 0.0987 - accuracy: 0.9659 - val_loss: 0.2688 - val_accuracy: 0.9151\n",
            "Epoch 15/100\n",
            "165/165 [==============================] - 2s 13ms/step - loss: 0.0884 - accuracy: 0.9700 - val_loss: 0.2961 - val_accuracy: 0.9089\n",
            "Epoch 16/100\n",
            "165/165 [==============================] - 2s 12ms/step - loss: 0.0813 - accuracy: 0.9725 - val_loss: 0.2812 - val_accuracy: 0.9144\n",
            "Epoch 17/100\n",
            "165/165 [==============================] - 2s 12ms/step - loss: 0.0729 - accuracy: 0.9764 - val_loss: 0.2836 - val_accuracy: 0.9179\n",
            "Epoch 18/100\n",
            "165/165 [==============================] - 2s 13ms/step - loss: 0.0622 - accuracy: 0.9799 - val_loss: 0.3263 - val_accuracy: 0.9056\n",
            "Epoch 19/100\n",
            "165/165 [==============================] - 2s 12ms/step - loss: 0.0634 - accuracy: 0.9787 - val_loss: 0.3137 - val_accuracy: 0.9124\n",
            "Epoch 20/100\n",
            "165/165 [==============================] - 2s 12ms/step - loss: 0.0576 - accuracy: 0.9808 - val_loss: 0.3210 - val_accuracy: 0.9140\n",
            "Epoch 21/100\n",
            "165/165 [==============================] - 2s 12ms/step - loss: 0.0482 - accuracy: 0.9858 - val_loss: 0.3374 - val_accuracy: 0.9108\n",
            "Epoch 22/100\n",
            "165/165 [==============================] - 2s 13ms/step - loss: 0.0457 - accuracy: 0.9862 - val_loss: 0.3339 - val_accuracy: 0.9110\n",
            "Epoch 23/100\n",
            "165/165 [==============================] - 2s 12ms/step - loss: 0.0393 - accuracy: 0.9888 - val_loss: 0.3312 - val_accuracy: 0.9141\n",
            "Epoch 24/100\n",
            "165/165 [==============================] - 2s 13ms/step - loss: 0.0364 - accuracy: 0.9893 - val_loss: 0.3627 - val_accuracy: 0.9094\n",
            "Epoch 25/100\n",
            "165/165 [==============================] - 2s 13ms/step - loss: 0.0314 - accuracy: 0.9913 - val_loss: 0.4107 - val_accuracy: 0.9032\n",
            "Epoch 26/100\n",
            "165/165 [==============================] - 2s 11ms/step - loss: 0.0280 - accuracy: 0.9926 - val_loss: 0.3595 - val_accuracy: 0.9157\n",
            "Epoch 27/100\n",
            "165/165 [==============================] - 2s 11ms/step - loss: 0.0252 - accuracy: 0.9934 - val_loss: 0.3858 - val_accuracy: 0.9124\n",
            "Epoch 28/100\n",
            "165/165 [==============================] - 2s 12ms/step - loss: 0.0262 - accuracy: 0.9926 - val_loss: 0.4228 - val_accuracy: 0.9065\n",
            "Epoch 29/100\n",
            "165/165 [==============================] - 2s 12ms/step - loss: 0.0368 - accuracy: 0.9884 - val_loss: 0.3984 - val_accuracy: 0.9129\n",
            "Epoch 30/100\n",
            "165/165 [==============================] - 2s 11ms/step - loss: 0.0242 - accuracy: 0.9937 - val_loss: 0.4326 - val_accuracy: 0.9071\n",
            "Epoch 31/100\n",
            "165/165 [==============================] - 2s 13ms/step - loss: 0.0218 - accuracy: 0.9946 - val_loss: 0.4091 - val_accuracy: 0.9120\n",
            "Epoch 32/100\n",
            "165/165 [==============================] - 2s 12ms/step - loss: 0.0160 - accuracy: 0.9962 - val_loss: 0.4169 - val_accuracy: 0.9139\n",
            "Epoch 33/100\n",
            "165/165 [==============================] - 2s 12ms/step - loss: 0.0136 - accuracy: 0.9971 - val_loss: 0.4257 - val_accuracy: 0.9141\n",
            "Epoch 34/100\n",
            "165/165 [==============================] - 2s 11ms/step - loss: 0.0107 - accuracy: 0.9982 - val_loss: 0.4330 - val_accuracy: 0.9127\n",
            "Epoch 35/100\n",
            "165/165 [==============================] - 2s 12ms/step - loss: 0.0101 - accuracy: 0.9982 - val_loss: 0.4329 - val_accuracy: 0.9147\n",
            "Epoch 36/100\n",
            "165/165 [==============================] - 2s 14ms/step - loss: 0.0135 - accuracy: 0.9966 - val_loss: 0.4532 - val_accuracy: 0.9118\n",
            "Epoch 37/100\n",
            "165/165 [==============================] - 2s 13ms/step - loss: 0.0135 - accuracy: 0.9967 - val_loss: 0.4759 - val_accuracy: 0.9150\n",
            "Epoch 38/100\n",
            "165/165 [==============================] - 2s 12ms/step - loss: 0.0164 - accuracy: 0.9953 - val_loss: 0.4928 - val_accuracy: 0.9103\n",
            "Epoch 39/100\n",
            "165/165 [==============================] - 2s 12ms/step - loss: 0.0114 - accuracy: 0.9971 - val_loss: 0.4675 - val_accuracy: 0.9152\n",
            "Epoch 40/100\n",
            "165/165 [==============================] - 2s 14ms/step - loss: 0.0149 - accuracy: 0.9957 - val_loss: 0.5052 - val_accuracy: 0.9076\n",
            "Epoch 41/100\n",
            "165/165 [==============================] - 2s 13ms/step - loss: 0.0232 - accuracy: 0.9929 - val_loss: 0.4897 - val_accuracy: 0.9086\n",
            "Epoch 42/100\n",
            "165/165 [==============================] - 2s 12ms/step - loss: 0.0107 - accuracy: 0.9975 - val_loss: 0.4905 - val_accuracy: 0.9142\n",
            "Epoch 43/100\n",
            "165/165 [==============================] - 2s 11ms/step - loss: 0.0041 - accuracy: 0.9996 - val_loss: 0.4945 - val_accuracy: 0.9154\n",
            "Epoch 44/100\n",
            "165/165 [==============================] - 2s 13ms/step - loss: 0.0037 - accuracy: 0.9996 - val_loss: 0.4996 - val_accuracy: 0.9157\n",
            "Epoch 45/100\n",
            "165/165 [==============================] - 2s 13ms/step - loss: 0.0025 - accuracy: 1.0000 - val_loss: 0.5006 - val_accuracy: 0.9155\n",
            "Epoch 46/100\n",
            "165/165 [==============================] - 2s 12ms/step - loss: 0.0021 - accuracy: 1.0000 - val_loss: 0.5127 - val_accuracy: 0.9162\n",
            "Epoch 47/100\n",
            "165/165 [==============================] - 2s 13ms/step - loss: 0.0018 - accuracy: 1.0000 - val_loss: 0.5184 - val_accuracy: 0.9161\n",
            "Epoch 48/100\n",
            "165/165 [==============================] - 2s 11ms/step - loss: 0.0015 - accuracy: 1.0000 - val_loss: 0.5176 - val_accuracy: 0.9160\n",
            "Epoch 49/100\n",
            "165/165 [==============================] - 2s 12ms/step - loss: 0.0013 - accuracy: 1.0000 - val_loss: 0.5273 - val_accuracy: 0.9162\n",
            "Epoch 50/100\n",
            "165/165 [==============================] - 2s 13ms/step - loss: 0.0012 - accuracy: 1.0000 - val_loss: 0.5348 - val_accuracy: 0.9163\n",
            "Epoch 51/100\n",
            "165/165 [==============================] - 2s 13ms/step - loss: 0.0012 - accuracy: 0.9999 - val_loss: 0.5368 - val_accuracy: 0.9162\n",
            "Epoch 52/100\n",
            "165/165 [==============================] - 2s 12ms/step - loss: 0.0013 - accuracy: 1.0000 - val_loss: 0.5419 - val_accuracy: 0.9153\n",
            "Epoch 53/100\n",
            "165/165 [==============================] - 2s 12ms/step - loss: 0.0487 - accuracy: 0.9848 - val_loss: 0.5628 - val_accuracy: 0.9037\n",
            "Epoch 54/100\n",
            "165/165 [==============================] - 2s 13ms/step - loss: 0.0426 - accuracy: 0.9847 - val_loss: 0.5769 - val_accuracy: 0.8997\n",
            "Epoch 55/100\n",
            "165/165 [==============================] - 2s 13ms/step - loss: 0.0273 - accuracy: 0.9917 - val_loss: 0.5319 - val_accuracy: 0.9134\n",
            "Epoch 56/100\n",
            "165/165 [==============================] - 2s 13ms/step - loss: 0.0071 - accuracy: 0.9984 - val_loss: 0.5353 - val_accuracy: 0.9132\n",
            "Epoch 57/100\n",
            "165/165 [==============================] - 2s 13ms/step - loss: 0.0022 - accuracy: 0.9999 - val_loss: 0.5395 - val_accuracy: 0.9153\n",
            "Epoch 58/100\n",
            "165/165 [==============================] - 2s 13ms/step - loss: 0.0015 - accuracy: 1.0000 - val_loss: 0.5567 - val_accuracy: 0.9147\n",
            "Epoch 59/100\n",
            "165/165 [==============================] - 2s 12ms/step - loss: 0.0013 - accuracy: 1.0000 - val_loss: 0.5538 - val_accuracy: 0.9154\n",
            "Epoch 60/100\n",
            "165/165 [==============================] - 2s 12ms/step - loss: 9.8162e-04 - accuracy: 1.0000 - val_loss: 0.5606 - val_accuracy: 0.9151\n",
            "Epoch 61/100\n",
            "165/165 [==============================] - 2s 13ms/step - loss: 8.8246e-04 - accuracy: 1.0000 - val_loss: 0.5674 - val_accuracy: 0.9159\n",
            "Epoch 62/100\n",
            "165/165 [==============================] - 2s 13ms/step - loss: 7.8946e-04 - accuracy: 1.0000 - val_loss: 0.5742 - val_accuracy: 0.9162\n",
            "Epoch 63/100\n",
            "165/165 [==============================] - 2s 13ms/step - loss: 7.1892e-04 - accuracy: 1.0000 - val_loss: 0.5778 - val_accuracy: 0.9154\n",
            "Epoch 64/100\n",
            "165/165 [==============================] - 2s 12ms/step - loss: 6.4654e-04 - accuracy: 1.0000 - val_loss: 0.5810 - val_accuracy: 0.9154\n",
            "Epoch 65/100\n",
            "165/165 [==============================] - 2s 11ms/step - loss: 6.1328e-04 - accuracy: 1.0000 - val_loss: 0.5849 - val_accuracy: 0.9161\n",
            "Epoch 66/100\n",
            "165/165 [==============================] - 2s 12ms/step - loss: 5.5068e-04 - accuracy: 1.0000 - val_loss: 0.5874 - val_accuracy: 0.9161\n",
            "Epoch 67/100\n",
            "165/165 [==============================] - 2s 11ms/step - loss: 4.9814e-04 - accuracy: 1.0000 - val_loss: 0.5913 - val_accuracy: 0.9152\n",
            "Epoch 68/100\n",
            "165/165 [==============================] - 2s 12ms/step - loss: 4.5265e-04 - accuracy: 1.0000 - val_loss: 0.5979 - val_accuracy: 0.9159\n",
            "Epoch 69/100\n",
            "165/165 [==============================] - 2s 11ms/step - loss: 4.4110e-04 - accuracy: 1.0000 - val_loss: 0.6021 - val_accuracy: 0.9161\n",
            "Epoch 70/100\n",
            "165/165 [==============================] - 2s 13ms/step - loss: 4.0140e-04 - accuracy: 1.0000 - val_loss: 0.6062 - val_accuracy: 0.9153\n",
            "Epoch 71/100\n",
            "165/165 [==============================] - 2s 13ms/step - loss: 3.6357e-04 - accuracy: 1.0000 - val_loss: 0.6082 - val_accuracy: 0.9159\n",
            "Epoch 72/100\n",
            "165/165 [==============================] - 2s 13ms/step - loss: 3.3467e-04 - accuracy: 1.0000 - val_loss: 0.6130 - val_accuracy: 0.9161\n",
            "Epoch 73/100\n",
            "165/165 [==============================] - 2s 13ms/step - loss: 3.3209e-04 - accuracy: 1.0000 - val_loss: 0.6197 - val_accuracy: 0.9159\n",
            "Epoch 74/100\n",
            "165/165 [==============================] - 2s 12ms/step - loss: 3.2272e-04 - accuracy: 1.0000 - val_loss: 0.6235 - val_accuracy: 0.9151\n",
            "Epoch 75/100\n",
            "165/165 [==============================] - 2s 12ms/step - loss: 2.6986e-04 - accuracy: 1.0000 - val_loss: 0.6270 - val_accuracy: 0.9167\n",
            "Epoch 76/100\n",
            "165/165 [==============================] - 2s 13ms/step - loss: 2.5735e-04 - accuracy: 1.0000 - val_loss: 0.6322 - val_accuracy: 0.9158\n",
            "Epoch 77/100\n",
            "165/165 [==============================] - 2s 13ms/step - loss: 2.2857e-04 - accuracy: 1.0000 - val_loss: 0.6386 - val_accuracy: 0.9163\n",
            "Epoch 78/100\n",
            "165/165 [==============================] - 2s 13ms/step - loss: 2.1810e-04 - accuracy: 1.0000 - val_loss: 0.6410 - val_accuracy: 0.9158\n",
            "Epoch 79/100\n",
            "165/165 [==============================] - 2s 13ms/step - loss: 2.1076e-04 - accuracy: 1.0000 - val_loss: 0.6501 - val_accuracy: 0.9153\n",
            "Epoch 80/100\n",
            "165/165 [==============================] - 2s 11ms/step - loss: 1.9282e-04 - accuracy: 1.0000 - val_loss: 0.6492 - val_accuracy: 0.9151\n",
            "Epoch 81/100\n",
            "165/165 [==============================] - 2s 13ms/step - loss: 1.8260e-04 - accuracy: 1.0000 - val_loss: 0.6537 - val_accuracy: 0.9155\n",
            "Epoch 82/100\n",
            "165/165 [==============================] - 2s 13ms/step - loss: 0.0453 - accuracy: 0.9872 - val_loss: 0.8389 - val_accuracy: 0.8798\n",
            "Epoch 83/100\n",
            "165/165 [==============================] - 2s 13ms/step - loss: 0.0677 - accuracy: 0.9781 - val_loss: 0.5998 - val_accuracy: 0.9081\n",
            "Epoch 84/100\n",
            "165/165 [==============================] - 2s 11ms/step - loss: 0.0124 - accuracy: 0.9961 - val_loss: 0.5953 - val_accuracy: 0.9098\n",
            "Epoch 85/100\n",
            "165/165 [==============================] - 2s 13ms/step - loss: 0.0042 - accuracy: 0.9993 - val_loss: 0.5855 - val_accuracy: 0.9115\n",
            "Epoch 86/100\n",
            "165/165 [==============================] - 2s 13ms/step - loss: 0.0015 - accuracy: 1.0000 - val_loss: 0.5909 - val_accuracy: 0.9137\n",
            "Epoch 87/100\n",
            "165/165 [==============================] - 2s 13ms/step - loss: 8.8659e-04 - accuracy: 1.0000 - val_loss: 0.5969 - val_accuracy: 0.9139\n",
            "Epoch 88/100\n",
            "165/165 [==============================] - 2s 12ms/step - loss: 7.3214e-04 - accuracy: 1.0000 - val_loss: 0.6037 - val_accuracy: 0.9142\n",
            "Epoch 89/100\n",
            "165/165 [==============================] - 2s 13ms/step - loss: 6.1382e-04 - accuracy: 1.0000 - val_loss: 0.6094 - val_accuracy: 0.9141\n",
            "Epoch 90/100\n",
            "165/165 [==============================] - 2s 12ms/step - loss: 5.4701e-04 - accuracy: 1.0000 - val_loss: 0.6152 - val_accuracy: 0.9143\n",
            "Epoch 91/100\n",
            "165/165 [==============================] - 2s 13ms/step - loss: 4.8018e-04 - accuracy: 1.0000 - val_loss: 0.6198 - val_accuracy: 0.9142\n",
            "Epoch 92/100\n",
            "165/165 [==============================] - 2s 12ms/step - loss: 4.3118e-04 - accuracy: 1.0000 - val_loss: 0.6259 - val_accuracy: 0.9144\n",
            "Epoch 93/100\n",
            "165/165 [==============================] - 2s 12ms/step - loss: 3.9502e-04 - accuracy: 1.0000 - val_loss: 0.6283 - val_accuracy: 0.9141\n",
            "Epoch 94/100\n",
            "165/165 [==============================] - 2s 12ms/step - loss: 3.6091e-04 - accuracy: 1.0000 - val_loss: 0.6337 - val_accuracy: 0.9143\n",
            "Epoch 95/100\n",
            "165/165 [==============================] - 2s 13ms/step - loss: 3.3403e-04 - accuracy: 1.0000 - val_loss: 0.6375 - val_accuracy: 0.9141\n",
            "Epoch 96/100\n",
            "165/165 [==============================] - 2s 11ms/step - loss: 3.0134e-04 - accuracy: 1.0000 - val_loss: 0.6413 - val_accuracy: 0.9143\n",
            "Epoch 97/100\n",
            "165/165 [==============================] - 2s 13ms/step - loss: 2.8050e-04 - accuracy: 1.0000 - val_loss: 0.6456 - val_accuracy: 0.9139\n",
            "Epoch 98/100\n",
            "165/165 [==============================] - 2s 13ms/step - loss: 2.5831e-04 - accuracy: 1.0000 - val_loss: 0.6503 - val_accuracy: 0.9146\n",
            "Epoch 99/100\n",
            "165/165 [==============================] - 2s 13ms/step - loss: 2.4060e-04 - accuracy: 1.0000 - val_loss: 0.6537 - val_accuracy: 0.9144\n",
            "Epoch 100/100\n",
            "165/165 [==============================] - 2s 13ms/step - loss: 2.2222e-04 - accuracy: 1.0000 - val_loss: 0.6569 - val_accuracy: 0.9139\n"
          ]
        },
        {
          "output_type": "execute_result",
          "data": {
            "text/plain": [
              "100"
            ]
          },
          "metadata": {},
          "execution_count": 52
        },
        {
          "output_type": "stream",
          "name": "stdout",
          "text": [
            "time: 3min 36s (started: 2021-12-14 20:26:48 +00:00)\n"
          ]
        }
      ]
    },
    {
      "cell_type": "code",
      "source": [
        "plt.plot(history.history['accuracy'])\n",
        "plt.plot(history.history['loss'])\n",
        "plt.plot(history.history['val_loss'])\n",
        "plt.plot(history.history['val_accuracy'])\n",
        "plt.title('Model Performances')\n",
        "plt.ylabel('Accuracy')\n",
        "plt.xlabel('Epoch')\n",
        "plt.legend(['train_accuracy','train_loss','val_loss','val_accuracy'],loc='right')\n",
        "plt.show()"
      ],
      "metadata": {
        "colab": {
          "base_uri": "https://localhost:8080/",
          "height": 314
        },
        "id": "zlECCQ4giEV4",
        "outputId": "03e5e400-1f0f-4137-f7e0-5a75923a4c2b"
      },
      "execution_count": 53,
      "outputs": [
        {
          "output_type": "display_data",
          "data": {
            "image/png": "[encoded data removed]",
            "text/plain": [
              "<Figure size 432x288 with 1 Axes>"
            ]
          },
          "metadata": {
            "needs_background": "light"
          }
        },
        {
          "output_type": "stream",
          "name": "stdout",
          "text": [
            "time: 239 ms (started: 2021-12-14 20:30:24 +00:00)\n"
          ]
        }
      ]
    },
    {
      "cell_type": "markdown",
      "source": [
        "Above we can appreciate how neither the training accuracy nor the validation accuracy improve while the validation loss is increasing. This is why I will train the model again using an option that allowes for early stopping. It saves time and saves the best ways to the model.\n",
        "\n",
        "```\n",
        "# early stopping\n",
        "es_callback = EarlyStopping(monitor = 'val_loss',\n",
        "                   min_delta=1e-3, \n",
        "                   patience = 5,\n",
        "                   verbose = 1,\n",
        "                   mode='auto',\n",
        "                   restore_best_weights=True)\n",
        "```\n",
        "\n",
        "It is called in the function below: `callbacks=[es_callback]`"
      ],
      "metadata": {
        "id": "UH5yN642dF-Y"
      }
    },
    {
      "cell_type": "code",
      "source": [
        "start_cnn = time.time() # timer for comparing to other methods\n",
        "history = cnn_model_1.fit(x=trn_im_cnn,\n",
        "                              y=trn_labels_ohe,\n",
        "                              epochs=100, \n",
        "                              batch_size=256,\n",
        "                              callbacks=[es_callback], \n",
        "                              validation_split=0.3,\n",
        "                              verbose=1)\n",
        "\n",
        "\n",
        "\n",
        "len(history.history['loss'])  \n",
        "\n",
        "end_cnn = time.time()\n",
        "cnn_time = end_cnn-start_cnn"
      ],
      "metadata": {
        "colab": {
          "base_uri": "https://localhost:8080/"
        },
        "id": "GTZqcqrAU3Nt",
        "outputId": "9538e60e-6d87-40f0-e9a1-4f4f86df458c"
      },
      "execution_count": 54,
      "outputs": [
        {
          "output_type": "stream",
          "name": "stdout",
          "text": [
            "Epoch 1/100\n",
            "165/165 [==============================] - 2s 14ms/step - loss: 2.0319e-04 - accuracy: 1.0000 - val_loss: 0.6609 - val_accuracy: 0.9143\n",
            "Epoch 2/100\n",
            "165/165 [==============================] - 2s 11ms/step - loss: 1.9204e-04 - accuracy: 1.0000 - val_loss: 0.6641 - val_accuracy: 0.9138\n",
            "Epoch 3/100\n",
            "165/165 [==============================] - 2s 11ms/step - loss: 1.7449e-04 - accuracy: 1.0000 - val_loss: 0.6684 - val_accuracy: 0.9146\n",
            "Epoch 4/100\n",
            "165/165 [==============================] - 2s 12ms/step - loss: 1.6277e-04 - accuracy: 1.0000 - val_loss: 0.6749 - val_accuracy: 0.9143\n",
            "Epoch 5/100\n",
            "165/165 [==============================] - 2s 13ms/step - loss: 1.5329e-04 - accuracy: 1.0000 - val_loss: 0.6778 - val_accuracy: 0.9144\n",
            "Epoch 6/100\n",
            "163/165 [============================>.] - ETA: 0s - loss: 1.4154e-04 - accuracy: 1.0000Restoring model weights from the end of the best epoch: 1.\n",
            "165/165 [==============================] - 2s 13ms/step - loss: 1.4138e-04 - accuracy: 1.0000 - val_loss: 0.6828 - val_accuracy: 0.9143\n",
            "Epoch 00006: early stopping\n",
            "time: 12.4 s (started: 2021-12-14 20:30:24 +00:00)\n"
          ]
        }
      ]
    },
    {
      "cell_type": "code",
      "source": [
        "plt.plot(history.history['accuracy'])\n",
        "plt.plot(history.history['val_accuracy'])\n",
        "plt.plot(history.history['loss'])\n",
        "plt.plot(history.history['val_loss'])\n",
        "\n",
        "plt.title('Model Performances')\n",
        "plt.ylabel('Accuracy')\n",
        "plt.xlabel('Epoch')\n",
        "plt.legend(['train_accuracy','train_loss','val_loss','val_accuracy'],loc='right')\n",
        "plt.show()"
      ],
      "metadata": {
        "colab": {
          "base_uri": "https://localhost:8080/",
          "height": 314
        },
        "id": "mvIYBM2kr7gx",
        "outputId": "a1068b72-abdc-47ea-a145-fc9a73ee2d24"
      },
      "execution_count": 55,
      "outputs": [
        {
          "output_type": "display_data",
          "data": {
            "image/png": "[encoded data removed]",
            "text/plain": [
              "<Figure size 432x288 with 1 Axes>"
            ]
          },
          "metadata": {
            "needs_background": "light"
          }
        },
        {
          "output_type": "stream",
          "name": "stdout",
          "text": [
            "time: 8.44 s (started: 2021-12-14 20:30:37 +00:00)\n"
          ]
        }
      ]
    },
    {
      "cell_type": "markdown",
      "source": [
        "## 3.2. Evaluating the CNN Model 1 on Test Data"
      ],
      "metadata": {
        "id": "sfbEJozvoPoZ"
      }
    },
    {
      "cell_type": "code",
      "source": [
        "score_ccn1 = cnn_model_1.evaluate(tst_im_cnn,tst_labels_ohe)\n",
        "print(\"Test loss:\", score_ccn1[0])\n",
        "print(\"Test accuracy:\", score_ccn1[1])"
      ],
      "metadata": {
        "colab": {
          "base_uri": "https://localhost:8080/"
        },
        "id": "PdVEW-N9lnRU",
        "outputId": "ad183bd9-a128-48c1-83e9-eecb822f2dd8"
      },
      "execution_count": 56,
      "outputs": [
        {
          "output_type": "stream",
          "name": "stdout",
          "text": [
            "313/313 [==============================] - 1s 4ms/step - loss: 0.7261 - accuracy: 0.9110\n",
            "Test loss: 0.726115882396698\n",
            "Test accuracy: 0.9110000133514404\n",
            "time: 1.37 s (started: 2021-12-14 20:30:45 +00:00)\n"
          ]
        }
      ]
    },
    {
      "cell_type": "markdown",
      "source": [
        "# Confusion Matrix CNN Model 1"
      ],
      "metadata": {
        "id": "_VnyrffJ7sIy"
      }
    },
    {
      "cell_type": "code",
      "source": [
        "# # predicted = model1.predict(X_test) \n",
        "# test_predicted = np.argmax(nn_predictions, axis=1) #predictions\n",
        "# # generating confusion matrix using the test set labels and the predictions of the test set:\n",
        "# nn_confusion = confusion_matrix(test_labels, test_predicted)\n",
        "# # print(nn_confusion)"
      ],
      "metadata": {
        "id": "ttbOVKRCAvL1",
        "colab": {
          "base_uri": "https://localhost:8080/"
        },
        "outputId": "49ab5959-eeb1-4bcc-d76b-bf83a4d58c1c"
      },
      "execution_count": 57,
      "outputs": [
        {
          "output_type": "stream",
          "name": "stdout",
          "text": [
            "time: 1.05 ms (started: 2021-12-14 20:30:47 +00:00)\n"
          ]
        }
      ]
    },
    {
      "cell_type": "code",
      "source": [
        "cnn_1_pred = cnn_model_1.predict(tst_im_cnn)\n",
        "# need to extract maximum values\n",
        "cnn_1_pred_test = np.argmax(cnn_1_pred, axis=1)\n",
        "# confusion matrix\n",
        "cnn_1_confusion = confusion_matrix(test_labels, cnn_1_pred_test)\n",
        "\n",
        "f,ax = plt.subplots(figsize=(7,5))\n",
        "plt.title('Confusion Matrix for CNN Model 1')\n",
        "plt.xlabel('Predicted character')\n",
        "plt.ylabel('True character')\n",
        "sns.heatmap(cnn_1_confusion,annot=True,cmap='Wistia',fmt='',ax=ax)\n",
        "plt.show()"
      ],
      "metadata": {
        "colab": {
          "base_uri": "https://localhost:8080/",
          "height": 355
        },
        "id": "rLrya6QY_tSr",
        "outputId": "de09e797-44e2-4cdb-8713-70c7939cca28"
      },
      "execution_count": 58,
      "outputs": [
        {
          "output_type": "display_data",
          "data": {
            "image/png": "[encoded data removed]",
            "text/plain": [
              "<Figure size 504x360 with 2 Axes>"
            ]
          },
          "metadata": {
            "needs_background": "light"
          }
        },
        {
          "output_type": "stream",
          "name": "stdout",
          "text": [
            "time: 1.46 s (started: 2021-12-14 20:30:47 +00:00)\n"
          ]
        }
      ]
    },
    {
      "cell_type": "markdown",
      "source": [
        "# Adding Layers to previous CNN"
      ],
      "metadata": {
        "id": "TqQ-_pN1tr4q"
      }
    },
    {
      "cell_type": "code",
      "source": [
        "cnn_model_2 = Sequential()\n",
        "# Must define the input shape in the first layer of the neural network\n",
        "cnn_model_2.add(Conv2D(filters=64, kernel_size=2, padding='same', \n",
        "                 activation='relu', input_shape=(28,28,1))) \n",
        "cnn_model_2.add(MaxPool2D(pool_size=2))\n",
        "cnn_model_2.add(Dropout(0.3))\n",
        "cnn_model_2.add(Conv2D(filters=32, kernel_size=2, \n",
        "                 padding='same', activation='relu'))\n",
        "cnn_model_2.add(MaxPool2D(pool_size=2))\n",
        "cnn_model_2.add(Dropout(0.3))\n",
        "cnn_model_2.add(Flatten())\n",
        "cnn_model_2.add(Dense(256, activation='relu'))\n",
        "cnn_model_2.add(Dropout(0.5))\n",
        "cnn_model_2.add(Dense(nclasses, activation='softmax'))\n",
        "\n",
        "cnn_model_2.compile(optimizer=\"adam\", \n",
        "              loss=\"categorical_crossentropy\", \n",
        "              metrics=[\"accuracy\"])\n",
        "\n",
        "cnn_model_2.summary()"
      ],
      "metadata": {
        "colab": {
          "base_uri": "https://localhost:8080/"
        },
        "id": "wYkyn-FMtzO7",
        "outputId": "6ceff4ec-f84b-4f50-d26b-d20b0f9699d5"
      },
      "execution_count": 59,
      "outputs": [
        {
          "output_type": "stream",
          "name": "stdout",
          "text": [
            "Model: \"sequential_3\"\n",
            "_________________________________________________________________\n",
            " Layer (type)                Output Shape              Param #   \n",
            "=================================================================\n",
            " conv2d_1 (Conv2D)           (None, 28, 28, 64)        320       \n",
            "                                                                 \n",
            " max_pooling2d_1 (MaxPooling  (None, 14, 14, 64)       0         \n",
            " 2D)                                                             \n",
            "                                                                 \n",
            " dropout (Dropout)           (None, 14, 14, 64)        0         \n",
            "                                                                 \n",
            " conv2d_2 (Conv2D)           (None, 14, 14, 32)        8224      \n",
            "                                                                 \n",
            " max_pooling2d_2 (MaxPooling  (None, 7, 7, 32)         0         \n",
            " 2D)                                                             \n",
            "                                                                 \n",
            " dropout_1 (Dropout)         (None, 7, 7, 32)          0         \n",
            "                                                                 \n",
            " flatten_2 (Flatten)         (None, 1568)              0         \n",
            "                                                                 \n",
            " dense_4 (Dense)             (None, 256)               401664    \n",
            "                                                                 \n",
            " dropout_2 (Dropout)         (None, 256)               0         \n",
            "                                                                 \n",
            " dense_5 (Dense)             (None, 10)                2570      \n",
            "                                                                 \n",
            "=================================================================\n",
            "Total params: 412,778\n",
            "Trainable params: 412,778\n",
            "Non-trainable params: 0\n",
            "_________________________________________________________________\n",
            "time: 93 ms (started: 2021-12-14 20:30:48 +00:00)\n"
          ]
        }
      ]
    },
    {
      "cell_type": "code",
      "source": [
        "history = cnn_model_2.fit(x=trn_im_cnn,\n",
        "                              y=trn_labels_ohe,\n",
        "                              epochs=300, \n",
        "                              batch_size=256,\n",
        "                              validation_split=0.3,\n",
        "                              verbose=1)\n",
        "\n",
        "\n",
        "len(history.history['loss'])  "
      ],
      "metadata": {
        "colab": {
          "base_uri": "https://localhost:8080/"
        },
        "id": "hn8v4DoRvzsj",
        "outputId": "553e09cf-6750-48f1-d8d8-28dc1d9f2231"
      },
      "execution_count": 60,
      "outputs": [
        {
          "output_type": "stream",
          "name": "stdout",
          "text": [
            "Epoch 1/300\n",
            "165/165 [==============================] - 5s 25ms/step - loss: 0.8115 - accuracy: 0.6987 - val_loss: 0.4851 - val_accuracy: 0.8217\n",
            "Epoch 2/300\n",
            "165/165 [==============================] - 4s 22ms/step - loss: 0.5049 - accuracy: 0.8161 - val_loss: 0.4066 - val_accuracy: 0.8538\n",
            "Epoch 3/300\n",
            "165/165 [==============================] - 4s 23ms/step - loss: 0.4432 - accuracy: 0.8391 - val_loss: 0.3699 - val_accuracy: 0.8658\n",
            "Epoch 4/300\n",
            "165/165 [==============================] - 4s 22ms/step - loss: 0.4127 - accuracy: 0.8515 - val_loss: 0.3401 - val_accuracy: 0.8761\n",
            "Epoch 5/300\n",
            "165/165 [==============================] - 4s 22ms/step - loss: 0.3873 - accuracy: 0.8595 - val_loss: 0.3338 - val_accuracy: 0.8785\n",
            "Epoch 6/300\n",
            "165/165 [==============================] - 4s 22ms/step - loss: 0.3735 - accuracy: 0.8634 - val_loss: 0.3151 - val_accuracy: 0.8846\n",
            "Epoch 7/300\n",
            "165/165 [==============================] - 4s 22ms/step - loss: 0.3550 - accuracy: 0.8704 - val_loss: 0.3045 - val_accuracy: 0.8876\n",
            "Epoch 8/300\n",
            "165/165 [==============================] - 4s 22ms/step - loss: 0.3410 - accuracy: 0.8766 - val_loss: 0.3088 - val_accuracy: 0.8886\n",
            "Epoch 9/300\n",
            "165/165 [==============================] - 4s 23ms/step - loss: 0.3263 - accuracy: 0.8795 - val_loss: 0.2872 - val_accuracy: 0.8958\n",
            "Epoch 10/300\n",
            "165/165 [==============================] - 4s 23ms/step - loss: 0.3261 - accuracy: 0.8784 - val_loss: 0.2874 - val_accuracy: 0.8962\n",
            "Epoch 11/300\n",
            "165/165 [==============================] - 4s 23ms/step - loss: 0.3180 - accuracy: 0.8826 - val_loss: 0.2781 - val_accuracy: 0.9006\n",
            "Epoch 12/300\n",
            "165/165 [==============================] - 4s 22ms/step - loss: 0.3055 - accuracy: 0.8867 - val_loss: 0.2856 - val_accuracy: 0.8937\n",
            "Epoch 13/300\n",
            "165/165 [==============================] - 4s 22ms/step - loss: 0.3030 - accuracy: 0.8880 - val_loss: 0.2697 - val_accuracy: 0.9008\n",
            "Epoch 14/300\n",
            "165/165 [==============================] - 4s 23ms/step - loss: 0.2950 - accuracy: 0.8912 - val_loss: 0.2621 - val_accuracy: 0.9048\n",
            "Epoch 15/300\n",
            "165/165 [==============================] - 4s 23ms/step - loss: 0.2919 - accuracy: 0.8915 - val_loss: 0.2576 - val_accuracy: 0.9062\n",
            "Epoch 16/300\n",
            "165/165 [==============================] - 4s 23ms/step - loss: 0.2840 - accuracy: 0.8951 - val_loss: 0.2545 - val_accuracy: 0.9072\n",
            "Epoch 17/300\n",
            "165/165 [==============================] - 4s 23ms/step - loss: 0.2801 - accuracy: 0.8964 - val_loss: 0.2520 - val_accuracy: 0.9078\n",
            "Epoch 18/300\n",
            "165/165 [==============================] - 4s 22ms/step - loss: 0.2751 - accuracy: 0.8968 - val_loss: 0.2489 - val_accuracy: 0.9104\n",
            "Epoch 19/300\n",
            "165/165 [==============================] - 4s 23ms/step - loss: 0.2680 - accuracy: 0.9015 - val_loss: 0.2490 - val_accuracy: 0.9079\n",
            "Epoch 20/300\n",
            "165/165 [==============================] - 4s 22ms/step - loss: 0.2657 - accuracy: 0.8990 - val_loss: 0.2458 - val_accuracy: 0.9105\n",
            "Epoch 21/300\n",
            "165/165 [==============================] - 4s 22ms/step - loss: 0.2578 - accuracy: 0.9039 - val_loss: 0.2462 - val_accuracy: 0.9111\n",
            "Epoch 22/300\n",
            "165/165 [==============================] - 4s 23ms/step - loss: 0.2545 - accuracy: 0.9043 - val_loss: 0.2397 - val_accuracy: 0.9140\n",
            "Epoch 23/300\n",
            "165/165 [==============================] - 4s 22ms/step - loss: 0.2535 - accuracy: 0.9052 - val_loss: 0.2397 - val_accuracy: 0.9112\n",
            "Epoch 24/300\n",
            "165/165 [==============================] - 4s 23ms/step - loss: 0.2474 - accuracy: 0.9078 - val_loss: 0.2350 - val_accuracy: 0.9156\n",
            "Epoch 25/300\n",
            "165/165 [==============================] - 4s 22ms/step - loss: 0.2457 - accuracy: 0.9089 - val_loss: 0.2345 - val_accuracy: 0.9147\n",
            "Epoch 26/300\n",
            "165/165 [==============================] - 4s 23ms/step - loss: 0.2433 - accuracy: 0.9098 - val_loss: 0.2303 - val_accuracy: 0.9182\n",
            "Epoch 27/300\n",
            "165/165 [==============================] - 4s 23ms/step - loss: 0.2340 - accuracy: 0.9110 - val_loss: 0.2275 - val_accuracy: 0.9199\n",
            "Epoch 28/300\n",
            "165/165 [==============================] - 4s 23ms/step - loss: 0.2376 - accuracy: 0.9120 - val_loss: 0.2478 - val_accuracy: 0.9098\n",
            "Epoch 29/300\n",
            "165/165 [==============================] - 4s 23ms/step - loss: 0.2307 - accuracy: 0.9142 - val_loss: 0.2291 - val_accuracy: 0.9161\n",
            "Epoch 30/300\n",
            "165/165 [==============================] - 4s 23ms/step - loss: 0.2291 - accuracy: 0.9149 - val_loss: 0.2275 - val_accuracy: 0.9184\n",
            "Epoch 31/300\n",
            "165/165 [==============================] - 4s 22ms/step - loss: 0.2253 - accuracy: 0.9163 - val_loss: 0.2233 - val_accuracy: 0.9189\n",
            "Epoch 32/300\n",
            "165/165 [==============================] - 4s 23ms/step - loss: 0.2199 - accuracy: 0.9179 - val_loss: 0.2265 - val_accuracy: 0.9202\n",
            "Epoch 33/300\n",
            "165/165 [==============================] - 4s 23ms/step - loss: 0.2224 - accuracy: 0.9154 - val_loss: 0.2284 - val_accuracy: 0.9181\n",
            "Epoch 34/300\n",
            "165/165 [==============================] - 4s 22ms/step - loss: 0.2228 - accuracy: 0.9168 - val_loss: 0.2287 - val_accuracy: 0.9176\n",
            "Epoch 35/300\n",
            "165/165 [==============================] - 4s 23ms/step - loss: 0.2150 - accuracy: 0.9195 - val_loss: 0.2235 - val_accuracy: 0.9209\n",
            "Epoch 36/300\n",
            "165/165 [==============================] - 4s 23ms/step - loss: 0.2124 - accuracy: 0.9198 - val_loss: 0.2195 - val_accuracy: 0.9210\n",
            "Epoch 37/300\n",
            "165/165 [==============================] - 4s 22ms/step - loss: 0.2099 - accuracy: 0.9206 - val_loss: 0.2280 - val_accuracy: 0.9189\n",
            "Epoch 38/300\n",
            "165/165 [==============================] - 4s 22ms/step - loss: 0.2112 - accuracy: 0.9196 - val_loss: 0.2173 - val_accuracy: 0.9219\n",
            "Epoch 39/300\n",
            "165/165 [==============================] - 4s 22ms/step - loss: 0.2068 - accuracy: 0.9216 - val_loss: 0.2185 - val_accuracy: 0.9230\n",
            "Epoch 40/300\n",
            "165/165 [==============================] - 4s 22ms/step - loss: 0.2032 - accuracy: 0.9233 - val_loss: 0.2192 - val_accuracy: 0.9224\n",
            "Epoch 41/300\n",
            "165/165 [==============================] - 4s 23ms/step - loss: 0.1988 - accuracy: 0.9240 - val_loss: 0.2169 - val_accuracy: 0.9232\n",
            "Epoch 42/300\n",
            "165/165 [==============================] - 4s 23ms/step - loss: 0.1978 - accuracy: 0.9248 - val_loss: 0.2152 - val_accuracy: 0.9214\n",
            "Epoch 43/300\n",
            "165/165 [==============================] - 4s 22ms/step - loss: 0.1965 - accuracy: 0.9270 - val_loss: 0.2124 - val_accuracy: 0.9250\n",
            "Epoch 44/300\n",
            "165/165 [==============================] - 4s 23ms/step - loss: 0.1954 - accuracy: 0.9261 - val_loss: 0.2174 - val_accuracy: 0.9237\n",
            "Epoch 45/300\n",
            "165/165 [==============================] - 4s 22ms/step - loss: 0.1914 - accuracy: 0.9263 - val_loss: 0.2270 - val_accuracy: 0.9190\n",
            "Epoch 46/300\n",
            "165/165 [==============================] - 4s 23ms/step - loss: 0.1938 - accuracy: 0.9268 - val_loss: 0.2174 - val_accuracy: 0.9225\n",
            "Epoch 47/300\n",
            "165/165 [==============================] - 4s 23ms/step - loss: 0.1909 - accuracy: 0.9289 - val_loss: 0.2165 - val_accuracy: 0.9241\n",
            "Epoch 48/300\n",
            "165/165 [==============================] - 4s 23ms/step - loss: 0.1894 - accuracy: 0.9289 - val_loss: 0.2133 - val_accuracy: 0.9237\n",
            "Epoch 49/300\n",
            "165/165 [==============================] - 4s 22ms/step - loss: 0.1851 - accuracy: 0.9289 - val_loss: 0.2142 - val_accuracy: 0.9243\n",
            "Epoch 50/300\n",
            "165/165 [==============================] - 4s 22ms/step - loss: 0.1853 - accuracy: 0.9315 - val_loss: 0.2159 - val_accuracy: 0.9237\n",
            "Epoch 51/300\n",
            "165/165 [==============================] - 4s 23ms/step - loss: 0.1827 - accuracy: 0.9320 - val_loss: 0.2401 - val_accuracy: 0.9152\n",
            "Epoch 52/300\n",
            "165/165 [==============================] - 4s 23ms/step - loss: 0.1862 - accuracy: 0.9296 - val_loss: 0.2138 - val_accuracy: 0.9240\n",
            "Epoch 53/300\n",
            "165/165 [==============================] - 4s 22ms/step - loss: 0.1827 - accuracy: 0.9299 - val_loss: 0.2178 - val_accuracy: 0.9237\n",
            "Epoch 54/300\n",
            "165/165 [==============================] - 4s 22ms/step - loss: 0.1811 - accuracy: 0.9318 - val_loss: 0.2180 - val_accuracy: 0.9217\n",
            "Epoch 55/300\n",
            "165/165 [==============================] - 4s 22ms/step - loss: 0.1761 - accuracy: 0.9325 - val_loss: 0.2146 - val_accuracy: 0.9257\n",
            "Epoch 56/300\n",
            "165/165 [==============================] - 4s 22ms/step - loss: 0.1804 - accuracy: 0.9313 - val_loss: 0.2127 - val_accuracy: 0.9266\n",
            "Epoch 57/300\n",
            "165/165 [==============================] - 4s 23ms/step - loss: 0.1758 - accuracy: 0.9324 - val_loss: 0.2178 - val_accuracy: 0.9243\n",
            "Epoch 58/300\n",
            "165/165 [==============================] - 4s 22ms/step - loss: 0.1733 - accuracy: 0.9330 - val_loss: 0.2173 - val_accuracy: 0.9247\n",
            "Epoch 59/300\n",
            "165/165 [==============================] - 4s 23ms/step - loss: 0.1688 - accuracy: 0.9353 - val_loss: 0.2237 - val_accuracy: 0.9212\n",
            "Epoch 60/300\n",
            "165/165 [==============================] - 4s 23ms/step - loss: 0.1734 - accuracy: 0.9339 - val_loss: 0.2157 - val_accuracy: 0.9256\n",
            "Epoch 61/300\n",
            "165/165 [==============================] - 4s 22ms/step - loss: 0.1713 - accuracy: 0.9358 - val_loss: 0.2188 - val_accuracy: 0.9233\n",
            "Epoch 62/300\n",
            "165/165 [==============================] - 4s 23ms/step - loss: 0.1673 - accuracy: 0.9356 - val_loss: 0.2198 - val_accuracy: 0.9246\n",
            "Epoch 63/300\n",
            "165/165 [==============================] - 4s 23ms/step - loss: 0.1643 - accuracy: 0.9383 - val_loss: 0.2147 - val_accuracy: 0.9269\n",
            "Epoch 64/300\n",
            "165/165 [==============================] - 4s 23ms/step - loss: 0.1663 - accuracy: 0.9364 - val_loss: 0.2162 - val_accuracy: 0.9244\n",
            "Epoch 65/300\n",
            "165/165 [==============================] - 4s 23ms/step - loss: 0.1681 - accuracy: 0.9356 - val_loss: 0.2120 - val_accuracy: 0.9267\n",
            "Epoch 66/300\n",
            "165/165 [==============================] - 4s 22ms/step - loss: 0.1656 - accuracy: 0.9372 - val_loss: 0.2131 - val_accuracy: 0.9263\n",
            "Epoch 67/300\n",
            "165/165 [==============================] - 4s 22ms/step - loss: 0.1616 - accuracy: 0.9390 - val_loss: 0.2153 - val_accuracy: 0.9264\n",
            "Epoch 68/300\n",
            "165/165 [==============================] - 4s 23ms/step - loss: 0.1636 - accuracy: 0.9391 - val_loss: 0.2122 - val_accuracy: 0.9261\n",
            "Epoch 69/300\n",
            "165/165 [==============================] - 4s 23ms/step - loss: 0.1644 - accuracy: 0.9368 - val_loss: 0.2158 - val_accuracy: 0.9264\n",
            "Epoch 70/300\n",
            "165/165 [==============================] - 4s 22ms/step - loss: 0.1624 - accuracy: 0.9389 - val_loss: 0.2144 - val_accuracy: 0.9281\n",
            "Epoch 71/300\n",
            "165/165 [==============================] - 4s 22ms/step - loss: 0.1605 - accuracy: 0.9390 - val_loss: 0.2153 - val_accuracy: 0.9258\n",
            "Epoch 72/300\n",
            "165/165 [==============================] - 4s 23ms/step - loss: 0.1572 - accuracy: 0.9404 - val_loss: 0.2148 - val_accuracy: 0.9273\n",
            "Epoch 73/300\n",
            "165/165 [==============================] - 4s 23ms/step - loss: 0.1543 - accuracy: 0.9398 - val_loss: 0.2165 - val_accuracy: 0.9264\n",
            "Epoch 74/300\n",
            "165/165 [==============================] - 4s 23ms/step - loss: 0.1574 - accuracy: 0.9410 - val_loss: 0.2144 - val_accuracy: 0.9270\n",
            "Epoch 75/300\n",
            "165/165 [==============================] - 4s 23ms/step - loss: 0.1523 - accuracy: 0.9408 - val_loss: 0.2250 - val_accuracy: 0.9244\n",
            "Epoch 76/300\n",
            "165/165 [==============================] - 4s 22ms/step - loss: 0.1544 - accuracy: 0.9418 - val_loss: 0.2207 - val_accuracy: 0.9268\n",
            "Epoch 77/300\n",
            "165/165 [==============================] - 4s 22ms/step - loss: 0.1523 - accuracy: 0.9418 - val_loss: 0.2182 - val_accuracy: 0.9254\n",
            "Epoch 78/300\n",
            "165/165 [==============================] - 4s 22ms/step - loss: 0.1491 - accuracy: 0.9427 - val_loss: 0.2180 - val_accuracy: 0.9284\n",
            "Epoch 79/300\n",
            "165/165 [==============================] - 4s 22ms/step - loss: 0.1530 - accuracy: 0.9420 - val_loss: 0.2152 - val_accuracy: 0.9276\n",
            "Epoch 80/300\n",
            "165/165 [==============================] - 4s 23ms/step - loss: 0.1504 - accuracy: 0.9430 - val_loss: 0.2185 - val_accuracy: 0.9259\n",
            "Epoch 81/300\n",
            "165/165 [==============================] - 4s 22ms/step - loss: 0.1531 - accuracy: 0.9420 - val_loss: 0.2157 - val_accuracy: 0.9252\n",
            "Epoch 82/300\n",
            "165/165 [==============================] - 4s 23ms/step - loss: 0.1549 - accuracy: 0.9410 - val_loss: 0.2134 - val_accuracy: 0.9284\n",
            "Epoch 83/300\n",
            "165/165 [==============================] - 4s 23ms/step - loss: 0.1470 - accuracy: 0.9442 - val_loss: 0.2266 - val_accuracy: 0.9253\n",
            "Epoch 84/300\n",
            "165/165 [==============================] - 4s 23ms/step - loss: 0.1476 - accuracy: 0.9440 - val_loss: 0.2167 - val_accuracy: 0.9281\n",
            "Epoch 85/300\n",
            "165/165 [==============================] - 4s 23ms/step - loss: 0.1482 - accuracy: 0.9445 - val_loss: 0.2190 - val_accuracy: 0.9258\n",
            "Epoch 86/300\n",
            "165/165 [==============================] - 4s 22ms/step - loss: 0.1458 - accuracy: 0.9443 - val_loss: 0.2101 - val_accuracy: 0.9282\n",
            "Epoch 87/300\n",
            "165/165 [==============================] - 4s 23ms/step - loss: 0.1422 - accuracy: 0.9452 - val_loss: 0.2170 - val_accuracy: 0.9271\n",
            "Epoch 88/300\n",
            "165/165 [==============================] - 4s 22ms/step - loss: 0.1428 - accuracy: 0.9457 - val_loss: 0.2141 - val_accuracy: 0.9275\n",
            "Epoch 89/300\n",
            "165/165 [==============================] - 4s 22ms/step - loss: 0.1439 - accuracy: 0.9450 - val_loss: 0.2310 - val_accuracy: 0.9240\n",
            "Epoch 90/300\n",
            "165/165 [==============================] - 4s 22ms/step - loss: 0.1424 - accuracy: 0.9453 - val_loss: 0.2211 - val_accuracy: 0.9257\n",
            "Epoch 91/300\n",
            "165/165 [==============================] - 4s 23ms/step - loss: 0.1453 - accuracy: 0.9437 - val_loss: 0.2183 - val_accuracy: 0.9254\n",
            "Epoch 92/300\n",
            "165/165 [==============================] - 4s 23ms/step - loss: 0.1475 - accuracy: 0.9435 - val_loss: 0.2196 - val_accuracy: 0.9289\n",
            "Epoch 93/300\n",
            "165/165 [==============================] - 4s 23ms/step - loss: 0.1421 - accuracy: 0.9460 - val_loss: 0.2155 - val_accuracy: 0.9279\n",
            "Epoch 94/300\n",
            "165/165 [==============================] - 4s 22ms/step - loss: 0.1399 - accuracy: 0.9465 - val_loss: 0.2194 - val_accuracy: 0.9258\n",
            "Epoch 95/300\n",
            "165/165 [==============================] - 4s 23ms/step - loss: 0.1366 - accuracy: 0.9483 - val_loss: 0.2177 - val_accuracy: 0.9289\n",
            "Epoch 96/300\n",
            "165/165 [==============================] - 4s 23ms/step - loss: 0.1413 - accuracy: 0.9460 - val_loss: 0.2211 - val_accuracy: 0.9270\n",
            "Epoch 97/300\n",
            "165/165 [==============================] - 4s 23ms/step - loss: 0.1378 - accuracy: 0.9481 - val_loss: 0.2205 - val_accuracy: 0.9262\n",
            "Epoch 98/300\n",
            "165/165 [==============================] - 4s 22ms/step - loss: 0.1363 - accuracy: 0.9490 - val_loss: 0.2323 - val_accuracy: 0.9242\n",
            "Epoch 99/300\n",
            "165/165 [==============================] - 4s 23ms/step - loss: 0.1340 - accuracy: 0.9485 - val_loss: 0.2205 - val_accuracy: 0.9286\n",
            "Epoch 100/300\n",
            "165/165 [==============================] - 4s 22ms/step - loss: 0.1378 - accuracy: 0.9471 - val_loss: 0.2231 - val_accuracy: 0.9269\n",
            "Epoch 101/300\n",
            "165/165 [==============================] - 4s 23ms/step - loss: 0.1368 - accuracy: 0.9469 - val_loss: 0.2226 - val_accuracy: 0.9283\n",
            "Epoch 102/300\n",
            "165/165 [==============================] - 4s 23ms/step - loss: 0.1339 - accuracy: 0.9477 - val_loss: 0.2244 - val_accuracy: 0.9281\n",
            "Epoch 103/300\n",
            "165/165 [==============================] - 4s 22ms/step - loss: 0.1319 - accuracy: 0.9494 - val_loss: 0.2208 - val_accuracy: 0.9288\n",
            "Epoch 104/300\n",
            "165/165 [==============================] - 4s 23ms/step - loss: 0.1347 - accuracy: 0.9482 - val_loss: 0.2193 - val_accuracy: 0.9293\n",
            "Epoch 105/300\n",
            "165/165 [==============================] - 4s 22ms/step - loss: 0.1321 - accuracy: 0.9494 - val_loss: 0.2223 - val_accuracy: 0.9286\n",
            "Epoch 106/300\n",
            "165/165 [==============================] - 4s 22ms/step - loss: 0.1342 - accuracy: 0.9494 - val_loss: 0.2246 - val_accuracy: 0.9263\n",
            "Epoch 107/300\n",
            "165/165 [==============================] - 4s 22ms/step - loss: 0.1389 - accuracy: 0.9456 - val_loss: 0.2238 - val_accuracy: 0.9277\n",
            "Epoch 108/300\n",
            "165/165 [==============================] - 4s 22ms/step - loss: 0.1291 - accuracy: 0.9517 - val_loss: 0.2273 - val_accuracy: 0.9273\n",
            "Epoch 109/300\n",
            "165/165 [==============================] - 4s 22ms/step - loss: 0.1357 - accuracy: 0.9485 - val_loss: 0.2213 - val_accuracy: 0.9280\n",
            "Epoch 110/300\n",
            "165/165 [==============================] - 4s 22ms/step - loss: 0.1302 - accuracy: 0.9507 - val_loss: 0.2262 - val_accuracy: 0.9273\n",
            "Epoch 111/300\n",
            "165/165 [==============================] - 4s 23ms/step - loss: 0.1333 - accuracy: 0.9492 - val_loss: 0.2319 - val_accuracy: 0.9265\n",
            "Epoch 112/300\n",
            "165/165 [==============================] - 4s 23ms/step - loss: 0.1287 - accuracy: 0.9510 - val_loss: 0.2213 - val_accuracy: 0.9277\n",
            "Epoch 113/300\n",
            "165/165 [==============================] - 4s 23ms/step - loss: 0.1338 - accuracy: 0.9493 - val_loss: 0.2220 - val_accuracy: 0.9286\n",
            "Epoch 114/300\n",
            "165/165 [==============================] - 4s 23ms/step - loss: 0.1302 - accuracy: 0.9497 - val_loss: 0.2222 - val_accuracy: 0.9272\n",
            "Epoch 115/300\n",
            "165/165 [==============================] - 4s 23ms/step - loss: 0.1326 - accuracy: 0.9490 - val_loss: 0.2282 - val_accuracy: 0.9277\n",
            "Epoch 116/300\n",
            "165/165 [==============================] - 4s 22ms/step - loss: 0.1259 - accuracy: 0.9515 - val_loss: 0.2223 - val_accuracy: 0.9303\n",
            "Epoch 117/300\n",
            "165/165 [==============================] - 4s 22ms/step - loss: 0.1274 - accuracy: 0.9515 - val_loss: 0.2294 - val_accuracy: 0.9285\n",
            "Epoch 118/300\n",
            "165/165 [==============================] - 4s 23ms/step - loss: 0.1280 - accuracy: 0.9506 - val_loss: 0.2279 - val_accuracy: 0.9269\n",
            "Epoch 119/300\n",
            "165/165 [==============================] - 4s 23ms/step - loss: 0.1241 - accuracy: 0.9522 - val_loss: 0.2224 - val_accuracy: 0.9292\n",
            "Epoch 120/300\n",
            "165/165 [==============================] - 4s 22ms/step - loss: 0.1308 - accuracy: 0.9505 - val_loss: 0.2268 - val_accuracy: 0.9283\n",
            "Epoch 121/300\n",
            "165/165 [==============================] - 4s 22ms/step - loss: 0.1259 - accuracy: 0.9516 - val_loss: 0.2227 - val_accuracy: 0.9302\n",
            "Epoch 122/300\n",
            "165/165 [==============================] - 4s 23ms/step - loss: 0.1299 - accuracy: 0.9502 - val_loss: 0.2171 - val_accuracy: 0.9283\n",
            "Epoch 123/300\n",
            "165/165 [==============================] - 4s 22ms/step - loss: 0.1242 - accuracy: 0.9533 - val_loss: 0.2235 - val_accuracy: 0.9282\n",
            "Epoch 124/300\n",
            "165/165 [==============================] - 4s 22ms/step - loss: 0.1235 - accuracy: 0.9530 - val_loss: 0.2235 - val_accuracy: 0.9269\n",
            "Epoch 125/300\n",
            "165/165 [==============================] - 4s 23ms/step - loss: 0.1256 - accuracy: 0.9529 - val_loss: 0.2248 - val_accuracy: 0.9294\n",
            "Epoch 126/300\n",
            "165/165 [==============================] - 4s 22ms/step - loss: 0.1243 - accuracy: 0.9535 - val_loss: 0.2243 - val_accuracy: 0.9294\n",
            "Epoch 127/300\n",
            "165/165 [==============================] - 4s 22ms/step - loss: 0.1234 - accuracy: 0.9524 - val_loss: 0.2256 - val_accuracy: 0.9284\n",
            "Epoch 128/300\n",
            "165/165 [==============================] - 4s 23ms/step - loss: 0.1233 - accuracy: 0.9519 - val_loss: 0.2265 - val_accuracy: 0.9271\n",
            "Epoch 129/300\n",
            "165/165 [==============================] - 4s 23ms/step - loss: 0.1191 - accuracy: 0.9553 - val_loss: 0.2325 - val_accuracy: 0.9282\n",
            "Epoch 130/300\n",
            "165/165 [==============================] - 4s 22ms/step - loss: 0.1266 - accuracy: 0.9524 - val_loss: 0.2223 - val_accuracy: 0.9291\n",
            "Epoch 131/300\n",
            "165/165 [==============================] - 4s 22ms/step - loss: 0.1208 - accuracy: 0.9543 - val_loss: 0.2285 - val_accuracy: 0.9289\n",
            "Epoch 132/300\n",
            "165/165 [==============================] - 4s 23ms/step - loss: 0.1200 - accuracy: 0.9539 - val_loss: 0.2313 - val_accuracy: 0.9291\n",
            "Epoch 133/300\n",
            "165/165 [==============================] - 4s 23ms/step - loss: 0.1221 - accuracy: 0.9533 - val_loss: 0.2307 - val_accuracy: 0.9279\n",
            "Epoch 134/300\n",
            "165/165 [==============================] - 4s 22ms/step - loss: 0.1212 - accuracy: 0.9549 - val_loss: 0.2249 - val_accuracy: 0.9284\n",
            "Epoch 135/300\n",
            "165/165 [==============================] - 4s 23ms/step - loss: 0.1223 - accuracy: 0.9520 - val_loss: 0.2414 - val_accuracy: 0.9258\n",
            "Epoch 136/300\n",
            "165/165 [==============================] - 4s 23ms/step - loss: 0.1223 - accuracy: 0.9531 - val_loss: 0.2325 - val_accuracy: 0.9288\n",
            "Epoch 137/300\n",
            "165/165 [==============================] - 4s 22ms/step - loss: 0.1215 - accuracy: 0.9534 - val_loss: 0.2282 - val_accuracy: 0.9268\n",
            "Epoch 138/300\n",
            "165/165 [==============================] - 4s 22ms/step - loss: 0.1174 - accuracy: 0.9556 - val_loss: 0.2290 - val_accuracy: 0.9282\n",
            "Epoch 139/300\n",
            "165/165 [==============================] - 4s 22ms/step - loss: 0.1193 - accuracy: 0.9554 - val_loss: 0.2311 - val_accuracy: 0.9281\n",
            "Epoch 140/300\n",
            "165/165 [==============================] - 4s 23ms/step - loss: 0.1235 - accuracy: 0.9530 - val_loss: 0.2261 - val_accuracy: 0.9289\n",
            "Epoch 141/300\n",
            "165/165 [==============================] - 4s 23ms/step - loss: 0.1164 - accuracy: 0.9555 - val_loss: 0.2278 - val_accuracy: 0.9295\n",
            "Epoch 142/300\n",
            "165/165 [==============================] - 4s 22ms/step - loss: 0.1162 - accuracy: 0.9550 - val_loss: 0.2375 - val_accuracy: 0.9273\n",
            "Epoch 143/300\n",
            "165/165 [==============================] - 4s 23ms/step - loss: 0.1171 - accuracy: 0.9559 - val_loss: 0.2302 - val_accuracy: 0.9280\n",
            "Epoch 144/300\n",
            "165/165 [==============================] - 4s 23ms/step - loss: 0.1150 - accuracy: 0.9565 - val_loss: 0.2381 - val_accuracy: 0.9279\n",
            "Epoch 145/300\n",
            "165/165 [==============================] - 4s 23ms/step - loss: 0.1160 - accuracy: 0.9570 - val_loss: 0.2370 - val_accuracy: 0.9298\n",
            "Epoch 146/300\n",
            "165/165 [==============================] - 4s 23ms/step - loss: 0.1172 - accuracy: 0.9553 - val_loss: 0.2349 - val_accuracy: 0.9297\n",
            "Epoch 147/300\n",
            "165/165 [==============================] - 4s 23ms/step - loss: 0.1183 - accuracy: 0.9554 - val_loss: 0.2304 - val_accuracy: 0.9282\n",
            "Epoch 148/300\n",
            "165/165 [==============================] - 4s 23ms/step - loss: 0.1162 - accuracy: 0.9558 - val_loss: 0.2373 - val_accuracy: 0.9282\n",
            "Epoch 149/300\n",
            "165/165 [==============================] - 4s 23ms/step - loss: 0.1175 - accuracy: 0.9561 - val_loss: 0.2347 - val_accuracy: 0.9266\n",
            "Epoch 150/300\n",
            "165/165 [==============================] - 4s 23ms/step - loss: 0.1166 - accuracy: 0.9560 - val_loss: 0.2362 - val_accuracy: 0.9279\n",
            "Epoch 151/300\n",
            "165/165 [==============================] - 4s 22ms/step - loss: 0.1192 - accuracy: 0.9552 - val_loss: 0.2305 - val_accuracy: 0.9291\n",
            "Epoch 152/300\n",
            "165/165 [==============================] - 4s 23ms/step - loss: 0.1137 - accuracy: 0.9565 - val_loss: 0.2354 - val_accuracy: 0.9279\n",
            "Epoch 153/300\n",
            "165/165 [==============================] - 4s 23ms/step - loss: 0.1170 - accuracy: 0.9547 - val_loss: 0.2300 - val_accuracy: 0.9288\n",
            "Epoch 154/300\n",
            "165/165 [==============================] - 4s 22ms/step - loss: 0.1138 - accuracy: 0.9569 - val_loss: 0.2320 - val_accuracy: 0.9282\n",
            "Epoch 155/300\n",
            "165/165 [==============================] - 4s 22ms/step - loss: 0.1129 - accuracy: 0.9570 - val_loss: 0.2404 - val_accuracy: 0.9280\n",
            "Epoch 156/300\n",
            "165/165 [==============================] - 4s 22ms/step - loss: 0.1143 - accuracy: 0.9563 - val_loss: 0.2344 - val_accuracy: 0.9296\n",
            "Epoch 157/300\n",
            "165/165 [==============================] - 4s 23ms/step - loss: 0.1119 - accuracy: 0.9570 - val_loss: 0.2337 - val_accuracy: 0.9288\n",
            "Epoch 158/300\n",
            "165/165 [==============================] - 4s 23ms/step - loss: 0.1119 - accuracy: 0.9574 - val_loss: 0.2399 - val_accuracy: 0.9285\n",
            "Epoch 159/300\n",
            "165/165 [==============================] - 4s 24ms/step - loss: 0.1122 - accuracy: 0.9574 - val_loss: 0.2317 - val_accuracy: 0.9293\n",
            "Epoch 160/300\n",
            "165/165 [==============================] - 4s 23ms/step - loss: 0.1117 - accuracy: 0.9569 - val_loss: 0.2410 - val_accuracy: 0.9287\n",
            "Epoch 161/300\n",
            "165/165 [==============================] - 4s 23ms/step - loss: 0.1097 - accuracy: 0.9588 - val_loss: 0.2404 - val_accuracy: 0.9294\n",
            "Epoch 162/300\n",
            "165/165 [==============================] - 4s 23ms/step - loss: 0.1125 - accuracy: 0.9580 - val_loss: 0.2390 - val_accuracy: 0.9287\n",
            "Epoch 163/300\n",
            "165/165 [==============================] - 4s 23ms/step - loss: 0.1154 - accuracy: 0.9562 - val_loss: 0.2364 - val_accuracy: 0.9283\n",
            "Epoch 164/300\n",
            "165/165 [==============================] - 4s 23ms/step - loss: 0.1097 - accuracy: 0.9584 - val_loss: 0.2413 - val_accuracy: 0.9286\n",
            "Epoch 165/300\n",
            "165/165 [==============================] - 4s 23ms/step - loss: 0.1133 - accuracy: 0.9575 - val_loss: 0.2390 - val_accuracy: 0.9258\n",
            "Epoch 166/300\n",
            "165/165 [==============================] - 4s 23ms/step - loss: 0.1108 - accuracy: 0.9583 - val_loss: 0.2403 - val_accuracy: 0.9294\n",
            "Epoch 167/300\n",
            "165/165 [==============================] - 4s 23ms/step - loss: 0.1074 - accuracy: 0.9589 - val_loss: 0.2382 - val_accuracy: 0.9296\n",
            "Epoch 168/300\n",
            "165/165 [==============================] - 4s 23ms/step - loss: 0.1114 - accuracy: 0.9581 - val_loss: 0.2389 - val_accuracy: 0.9274\n",
            "Epoch 169/300\n",
            "165/165 [==============================] - 4s 23ms/step - loss: 0.1109 - accuracy: 0.9572 - val_loss: 0.2380 - val_accuracy: 0.9299\n",
            "Epoch 170/300\n",
            "165/165 [==============================] - 4s 23ms/step - loss: 0.1143 - accuracy: 0.9569 - val_loss: 0.2338 - val_accuracy: 0.9281\n",
            "Epoch 171/300\n",
            "165/165 [==============================] - 4s 24ms/step - loss: 0.1112 - accuracy: 0.9581 - val_loss: 0.2414 - val_accuracy: 0.9292\n",
            "Epoch 172/300\n",
            "165/165 [==============================] - 4s 23ms/step - loss: 0.1154 - accuracy: 0.9555 - val_loss: 0.2401 - val_accuracy: 0.9291\n",
            "Epoch 173/300\n",
            "165/165 [==============================] - 4s 23ms/step - loss: 0.1075 - accuracy: 0.9593 - val_loss: 0.2441 - val_accuracy: 0.9257\n",
            "Epoch 174/300\n",
            "165/165 [==============================] - 4s 23ms/step - loss: 0.1137 - accuracy: 0.9567 - val_loss: 0.2411 - val_accuracy: 0.9282\n",
            "Epoch 175/300\n",
            "165/165 [==============================] - 4s 23ms/step - loss: 0.1122 - accuracy: 0.9576 - val_loss: 0.2388 - val_accuracy: 0.9290\n",
            "Epoch 176/300\n",
            "165/165 [==============================] - 4s 23ms/step - loss: 0.1132 - accuracy: 0.9566 - val_loss: 0.2389 - val_accuracy: 0.9292\n",
            "Epoch 177/300\n",
            "165/165 [==============================] - 4s 23ms/step - loss: 0.1086 - accuracy: 0.9588 - val_loss: 0.2458 - val_accuracy: 0.9292\n",
            "Epoch 178/300\n",
            "165/165 [==============================] - 4s 24ms/step - loss: 0.1092 - accuracy: 0.9579 - val_loss: 0.2365 - val_accuracy: 0.9297\n",
            "Epoch 179/300\n",
            "165/165 [==============================] - 4s 23ms/step - loss: 0.1070 - accuracy: 0.9590 - val_loss: 0.2439 - val_accuracy: 0.9300\n",
            "Epoch 180/300\n",
            "165/165 [==============================] - 4s 24ms/step - loss: 0.1105 - accuracy: 0.9589 - val_loss: 0.2329 - val_accuracy: 0.9296\n",
            "Epoch 181/300\n",
            "165/165 [==============================] - 4s 23ms/step - loss: 0.1093 - accuracy: 0.9585 - val_loss: 0.2429 - val_accuracy: 0.9290\n",
            "Epoch 182/300\n",
            "165/165 [==============================] - 4s 23ms/step - loss: 0.1089 - accuracy: 0.9583 - val_loss: 0.2370 - val_accuracy: 0.9304\n",
            "Epoch 183/300\n",
            "165/165 [==============================] - 4s 23ms/step - loss: 0.1109 - accuracy: 0.9566 - val_loss: 0.2383 - val_accuracy: 0.9307\n",
            "Epoch 184/300\n",
            "165/165 [==============================] - 4s 23ms/step - loss: 0.1065 - accuracy: 0.9597 - val_loss: 0.2380 - val_accuracy: 0.9299\n",
            "Epoch 185/300\n",
            "165/165 [==============================] - 4s 24ms/step - loss: 0.1105 - accuracy: 0.9580 - val_loss: 0.2440 - val_accuracy: 0.9284\n",
            "Epoch 186/300\n",
            "165/165 [==============================] - 4s 24ms/step - loss: 0.1090 - accuracy: 0.9581 - val_loss: 0.2388 - val_accuracy: 0.9283\n",
            "Epoch 187/300\n",
            "165/165 [==============================] - 4s 23ms/step - loss: 0.1060 - accuracy: 0.9599 - val_loss: 0.2454 - val_accuracy: 0.9298\n",
            "Epoch 188/300\n",
            "165/165 [==============================] - 4s 24ms/step - loss: 0.1056 - accuracy: 0.9598 - val_loss: 0.2427 - val_accuracy: 0.9298\n",
            "Epoch 189/300\n",
            "165/165 [==============================] - 4s 23ms/step - loss: 0.1073 - accuracy: 0.9589 - val_loss: 0.2362 - val_accuracy: 0.9285\n",
            "Epoch 190/300\n",
            "165/165 [==============================] - 4s 24ms/step - loss: 0.1080 - accuracy: 0.9597 - val_loss: 0.2416 - val_accuracy: 0.9290\n",
            "Epoch 191/300\n",
            "165/165 [==============================] - 4s 23ms/step - loss: 0.1073 - accuracy: 0.9606 - val_loss: 0.2465 - val_accuracy: 0.9286\n",
            "Epoch 192/300\n",
            "165/165 [==============================] - 4s 23ms/step - loss: 0.1056 - accuracy: 0.9607 - val_loss: 0.2424 - val_accuracy: 0.9291\n",
            "Epoch 193/300\n",
            "165/165 [==============================] - 4s 23ms/step - loss: 0.1018 - accuracy: 0.9612 - val_loss: 0.2439 - val_accuracy: 0.9290\n",
            "Epoch 194/300\n",
            "165/165 [==============================] - 4s 23ms/step - loss: 0.1028 - accuracy: 0.9619 - val_loss: 0.2419 - val_accuracy: 0.9276\n",
            "Epoch 195/300\n",
            "165/165 [==============================] - 4s 23ms/step - loss: 0.1084 - accuracy: 0.9583 - val_loss: 0.2486 - val_accuracy: 0.9269\n",
            "Epoch 196/300\n",
            "165/165 [==============================] - 4s 22ms/step - loss: 0.1043 - accuracy: 0.9598 - val_loss: 0.2416 - val_accuracy: 0.9302\n",
            "Epoch 197/300\n",
            "165/165 [==============================] - 4s 23ms/step - loss: 0.1065 - accuracy: 0.9610 - val_loss: 0.2440 - val_accuracy: 0.9290\n",
            "Epoch 198/300\n",
            "165/165 [==============================] - 4s 24ms/step - loss: 0.1060 - accuracy: 0.9616 - val_loss: 0.2311 - val_accuracy: 0.9306\n",
            "Epoch 199/300\n",
            "165/165 [==============================] - 4s 23ms/step - loss: 0.1077 - accuracy: 0.9592 - val_loss: 0.2380 - val_accuracy: 0.9286\n",
            "Epoch 200/300\n",
            "165/165 [==============================] - 4s 23ms/step - loss: 0.1030 - accuracy: 0.9615 - val_loss: 0.2358 - val_accuracy: 0.9307\n",
            "Epoch 201/300\n",
            "165/165 [==============================] - 4s 23ms/step - loss: 0.1048 - accuracy: 0.9605 - val_loss: 0.2439 - val_accuracy: 0.9277\n",
            "Epoch 202/300\n",
            "165/165 [==============================] - 4s 23ms/step - loss: 0.1023 - accuracy: 0.9622 - val_loss: 0.2411 - val_accuracy: 0.9291\n",
            "Epoch 203/300\n",
            "165/165 [==============================] - 4s 24ms/step - loss: 0.1001 - accuracy: 0.9617 - val_loss: 0.2340 - val_accuracy: 0.9300\n",
            "Epoch 204/300\n",
            "165/165 [==============================] - 4s 23ms/step - loss: 0.1086 - accuracy: 0.9591 - val_loss: 0.2387 - val_accuracy: 0.9296\n",
            "Epoch 205/300\n",
            "165/165 [==============================] - 4s 23ms/step - loss: 0.1022 - accuracy: 0.9610 - val_loss: 0.2381 - val_accuracy: 0.9306\n",
            "Epoch 206/300\n",
            "165/165 [==============================] - 4s 24ms/step - loss: 0.1046 - accuracy: 0.9610 - val_loss: 0.2420 - val_accuracy: 0.9294\n",
            "Epoch 207/300\n",
            "165/165 [==============================] - 4s 23ms/step - loss: 0.1068 - accuracy: 0.9586 - val_loss: 0.2396 - val_accuracy: 0.9289\n",
            "Epoch 208/300\n",
            "165/165 [==============================] - 4s 23ms/step - loss: 0.1051 - accuracy: 0.9611 - val_loss: 0.2428 - val_accuracy: 0.9301\n",
            "Epoch 209/300\n",
            "165/165 [==============================] - 4s 23ms/step - loss: 0.1028 - accuracy: 0.9613 - val_loss: 0.2389 - val_accuracy: 0.9296\n",
            "Epoch 210/300\n",
            "165/165 [==============================] - 4s 22ms/step - loss: 0.1014 - accuracy: 0.9618 - val_loss: 0.2418 - val_accuracy: 0.9308\n",
            "Epoch 211/300\n",
            "165/165 [==============================] - 4s 23ms/step - loss: 0.1005 - accuracy: 0.9623 - val_loss: 0.2396 - val_accuracy: 0.9288\n",
            "Epoch 212/300\n",
            "165/165 [==============================] - 4s 23ms/step - loss: 0.1001 - accuracy: 0.9621 - val_loss: 0.2448 - val_accuracy: 0.9284\n",
            "Epoch 213/300\n",
            "165/165 [==============================] - 4s 24ms/step - loss: 0.1040 - accuracy: 0.9597 - val_loss: 0.2456 - val_accuracy: 0.9307\n",
            "Epoch 214/300\n",
            "165/165 [==============================] - 4s 23ms/step - loss: 0.1026 - accuracy: 0.9620 - val_loss: 0.2504 - val_accuracy: 0.9291\n",
            "Epoch 215/300\n",
            "165/165 [==============================] - 4s 23ms/step - loss: 0.1026 - accuracy: 0.9617 - val_loss: 0.2460 - val_accuracy: 0.9297\n",
            "Epoch 216/300\n",
            "165/165 [==============================] - 4s 23ms/step - loss: 0.0998 - accuracy: 0.9617 - val_loss: 0.2482 - val_accuracy: 0.9291\n",
            "Epoch 217/300\n",
            "165/165 [==============================] - 4s 23ms/step - loss: 0.1037 - accuracy: 0.9594 - val_loss: 0.2456 - val_accuracy: 0.9306\n",
            "Epoch 218/300\n",
            "165/165 [==============================] - 4s 23ms/step - loss: 0.1031 - accuracy: 0.9615 - val_loss: 0.2388 - val_accuracy: 0.9291\n",
            "Epoch 219/300\n",
            "165/165 [==============================] - 4s 23ms/step - loss: 0.1002 - accuracy: 0.9627 - val_loss: 0.2493 - val_accuracy: 0.9303\n",
            "Epoch 220/300\n",
            "165/165 [==============================] - 4s 23ms/step - loss: 0.0975 - accuracy: 0.9621 - val_loss: 0.2449 - val_accuracy: 0.9312\n",
            "Epoch 221/300\n",
            "165/165 [==============================] - 4s 23ms/step - loss: 0.1045 - accuracy: 0.9602 - val_loss: 0.2610 - val_accuracy: 0.9292\n",
            "Epoch 222/300\n",
            "165/165 [==============================] - 4s 22ms/step - loss: 0.1007 - accuracy: 0.9624 - val_loss: 0.2444 - val_accuracy: 0.9299\n",
            "Epoch 223/300\n",
            "165/165 [==============================] - 4s 24ms/step - loss: 0.1004 - accuracy: 0.9619 - val_loss: 0.2524 - val_accuracy: 0.9303\n",
            "Epoch 224/300\n",
            "165/165 [==============================] - 4s 23ms/step - loss: 0.0999 - accuracy: 0.9618 - val_loss: 0.2480 - val_accuracy: 0.9299\n",
            "Epoch 225/300\n",
            "165/165 [==============================] - 4s 23ms/step - loss: 0.1010 - accuracy: 0.9615 - val_loss: 0.2463 - val_accuracy: 0.9301\n",
            "Epoch 226/300\n",
            "165/165 [==============================] - 4s 23ms/step - loss: 0.1060 - accuracy: 0.9608 - val_loss: 0.2444 - val_accuracy: 0.9301\n",
            "Epoch 227/300\n",
            "165/165 [==============================] - 4s 23ms/step - loss: 0.0967 - accuracy: 0.9636 - val_loss: 0.2474 - val_accuracy: 0.9301\n",
            "Epoch 228/300\n",
            "165/165 [==============================] - 4s 23ms/step - loss: 0.0964 - accuracy: 0.9639 - val_loss: 0.2536 - val_accuracy: 0.9287\n",
            "Epoch 229/300\n",
            "165/165 [==============================] - 4s 23ms/step - loss: 0.1001 - accuracy: 0.9627 - val_loss: 0.2450 - val_accuracy: 0.9331\n",
            "Epoch 230/300\n",
            "165/165 [==============================] - 4s 23ms/step - loss: 0.1006 - accuracy: 0.9625 - val_loss: 0.2406 - val_accuracy: 0.9295\n",
            "Epoch 231/300\n",
            "165/165 [==============================] - 4s 23ms/step - loss: 0.0964 - accuracy: 0.9630 - val_loss: 0.2568 - val_accuracy: 0.9292\n",
            "Epoch 232/300\n",
            "165/165 [==============================] - 4s 23ms/step - loss: 0.0997 - accuracy: 0.9618 - val_loss: 0.2451 - val_accuracy: 0.9302\n",
            "Epoch 233/300\n",
            "165/165 [==============================] - 4s 23ms/step - loss: 0.1013 - accuracy: 0.9621 - val_loss: 0.2455 - val_accuracy: 0.9287\n",
            "Epoch 234/300\n",
            "165/165 [==============================] - 4s 22ms/step - loss: 0.0982 - accuracy: 0.9622 - val_loss: 0.2478 - val_accuracy: 0.9322\n",
            "Epoch 235/300\n",
            "165/165 [==============================] - 4s 23ms/step - loss: 0.1004 - accuracy: 0.9617 - val_loss: 0.2490 - val_accuracy: 0.9271\n",
            "Epoch 236/300\n",
            "165/165 [==============================] - 4s 23ms/step - loss: 0.1031 - accuracy: 0.9618 - val_loss: 0.2523 - val_accuracy: 0.9282\n",
            "Epoch 237/300\n",
            "165/165 [==============================] - 4s 23ms/step - loss: 0.0957 - accuracy: 0.9638 - val_loss: 0.2530 - val_accuracy: 0.9291\n",
            "Epoch 238/300\n",
            "165/165 [==============================] - 4s 23ms/step - loss: 0.1025 - accuracy: 0.9620 - val_loss: 0.2486 - val_accuracy: 0.9289\n",
            "Epoch 239/300\n",
            "165/165 [==============================] - 4s 23ms/step - loss: 0.0981 - accuracy: 0.9628 - val_loss: 0.2516 - val_accuracy: 0.9291\n",
            "Epoch 240/300\n",
            "165/165 [==============================] - 4s 23ms/step - loss: 0.0962 - accuracy: 0.9636 - val_loss: 0.2482 - val_accuracy: 0.9309\n",
            "Epoch 241/300\n",
            "165/165 [==============================] - 4s 23ms/step - loss: 0.1022 - accuracy: 0.9610 - val_loss: 0.2472 - val_accuracy: 0.9294\n",
            "Epoch 242/300\n",
            "165/165 [==============================] - 4s 23ms/step - loss: 0.0987 - accuracy: 0.9630 - val_loss: 0.2478 - val_accuracy: 0.9294\n",
            "Epoch 243/300\n",
            "165/165 [==============================] - 4s 24ms/step - loss: 0.0970 - accuracy: 0.9640 - val_loss: 0.2483 - val_accuracy: 0.9299\n",
            "Epoch 244/300\n",
            "165/165 [==============================] - 4s 23ms/step - loss: 0.0968 - accuracy: 0.9635 - val_loss: 0.2542 - val_accuracy: 0.9292\n",
            "Epoch 245/300\n",
            "165/165 [==============================] - 4s 23ms/step - loss: 0.0983 - accuracy: 0.9625 - val_loss: 0.2445 - val_accuracy: 0.9306\n",
            "Epoch 246/300\n",
            "165/165 [==============================] - 4s 24ms/step - loss: 0.0964 - accuracy: 0.9642 - val_loss: 0.2528 - val_accuracy: 0.9293\n",
            "Epoch 247/300\n",
            "165/165 [==============================] - 4s 23ms/step - loss: 0.0976 - accuracy: 0.9640 - val_loss: 0.2488 - val_accuracy: 0.9292\n",
            "Epoch 248/300\n",
            "165/165 [==============================] - 4s 24ms/step - loss: 0.0961 - accuracy: 0.9647 - val_loss: 0.2468 - val_accuracy: 0.9299\n",
            "Epoch 249/300\n",
            "165/165 [==============================] - 4s 23ms/step - loss: 0.0970 - accuracy: 0.9635 - val_loss: 0.2528 - val_accuracy: 0.9274\n",
            "Epoch 250/300\n",
            "165/165 [==============================] - 4s 24ms/step - loss: 0.0952 - accuracy: 0.9643 - val_loss: 0.2488 - val_accuracy: 0.9306\n",
            "Epoch 251/300\n",
            "165/165 [==============================] - 4s 23ms/step - loss: 0.0983 - accuracy: 0.9628 - val_loss: 0.2609 - val_accuracy: 0.9259\n",
            "Epoch 252/300\n",
            "165/165 [==============================] - 4s 24ms/step - loss: 0.0970 - accuracy: 0.9629 - val_loss: 0.2540 - val_accuracy: 0.9283\n",
            "Epoch 253/300\n",
            "165/165 [==============================] - 4s 23ms/step - loss: 0.0977 - accuracy: 0.9632 - val_loss: 0.2496 - val_accuracy: 0.9296\n",
            "Epoch 254/300\n",
            "165/165 [==============================] - 4s 23ms/step - loss: 0.0963 - accuracy: 0.9640 - val_loss: 0.2525 - val_accuracy: 0.9258\n",
            "Epoch 255/300\n",
            "165/165 [==============================] - 4s 23ms/step - loss: 0.0954 - accuracy: 0.9638 - val_loss: 0.2471 - val_accuracy: 0.9297\n",
            "Epoch 256/300\n",
            "165/165 [==============================] - 4s 23ms/step - loss: 0.1052 - accuracy: 0.9604 - val_loss: 0.2383 - val_accuracy: 0.9294\n",
            "Epoch 257/300\n",
            "165/165 [==============================] - 4s 24ms/step - loss: 0.0950 - accuracy: 0.9650 - val_loss: 0.2497 - val_accuracy: 0.9299\n",
            "Epoch 258/300\n",
            "165/165 [==============================] - 4s 24ms/step - loss: 0.0940 - accuracy: 0.9655 - val_loss: 0.2529 - val_accuracy: 0.9297\n",
            "Epoch 259/300\n",
            "165/165 [==============================] - 4s 24ms/step - loss: 0.0960 - accuracy: 0.9636 - val_loss: 0.2473 - val_accuracy: 0.9293\n",
            "Epoch 260/300\n",
            "165/165 [==============================] - 4s 23ms/step - loss: 0.0985 - accuracy: 0.9633 - val_loss: 0.2512 - val_accuracy: 0.9297\n",
            "Epoch 261/300\n",
            "165/165 [==============================] - 4s 24ms/step - loss: 0.0998 - accuracy: 0.9627 - val_loss: 0.2554 - val_accuracy: 0.9279\n",
            "Epoch 262/300\n",
            "165/165 [==============================] - 4s 24ms/step - loss: 0.0960 - accuracy: 0.9635 - val_loss: 0.2517 - val_accuracy: 0.9297\n",
            "Epoch 263/300\n",
            "165/165 [==============================] - 4s 24ms/step - loss: 0.0951 - accuracy: 0.9644 - val_loss: 0.2464 - val_accuracy: 0.9297\n",
            "Epoch 264/300\n",
            "165/165 [==============================] - 4s 24ms/step - loss: 0.0991 - accuracy: 0.9621 - val_loss: 0.2516 - val_accuracy: 0.9286\n",
            "Epoch 265/300\n",
            "165/165 [==============================] - 4s 23ms/step - loss: 0.0954 - accuracy: 0.9643 - val_loss: 0.2577 - val_accuracy: 0.9297\n",
            "Epoch 266/300\n",
            "165/165 [==============================] - 4s 23ms/step - loss: 0.0959 - accuracy: 0.9638 - val_loss: 0.2499 - val_accuracy: 0.9300\n",
            "Epoch 267/300\n",
            "165/165 [==============================] - 4s 23ms/step - loss: 0.0929 - accuracy: 0.9648 - val_loss: 0.2527 - val_accuracy: 0.9296\n",
            "Epoch 268/300\n",
            "165/165 [==============================] - 4s 24ms/step - loss: 0.0938 - accuracy: 0.9640 - val_loss: 0.2527 - val_accuracy: 0.9298\n",
            "Epoch 269/300\n",
            "165/165 [==============================] - 4s 23ms/step - loss: 0.0969 - accuracy: 0.9638 - val_loss: 0.2457 - val_accuracy: 0.9297\n",
            "Epoch 270/300\n",
            "165/165 [==============================] - 4s 23ms/step - loss: 0.0950 - accuracy: 0.9636 - val_loss: 0.2481 - val_accuracy: 0.9304\n",
            "Epoch 271/300\n",
            "165/165 [==============================] - 4s 23ms/step - loss: 0.0931 - accuracy: 0.9658 - val_loss: 0.2469 - val_accuracy: 0.9304\n",
            "Epoch 272/300\n",
            "165/165 [==============================] - 4s 24ms/step - loss: 0.0943 - accuracy: 0.9647 - val_loss: 0.2522 - val_accuracy: 0.9302\n",
            "Epoch 273/300\n",
            "165/165 [==============================] - 4s 23ms/step - loss: 0.0951 - accuracy: 0.9633 - val_loss: 0.2498 - val_accuracy: 0.9297\n",
            "Epoch 274/300\n",
            "165/165 [==============================] - 4s 23ms/step - loss: 0.0923 - accuracy: 0.9653 - val_loss: 0.2544 - val_accuracy: 0.9301\n",
            "Epoch 275/300\n",
            "165/165 [==============================] - 4s 24ms/step - loss: 0.0928 - accuracy: 0.9643 - val_loss: 0.2573 - val_accuracy: 0.9298\n",
            "Epoch 276/300\n",
            "165/165 [==============================] - 4s 24ms/step - loss: 0.0884 - accuracy: 0.9664 - val_loss: 0.2578 - val_accuracy: 0.9289\n",
            "Epoch 277/300\n",
            "165/165 [==============================] - 4s 24ms/step - loss: 0.0943 - accuracy: 0.9650 - val_loss: 0.2529 - val_accuracy: 0.9301\n",
            "Epoch 278/300\n",
            "165/165 [==============================] - 4s 24ms/step - loss: 0.0918 - accuracy: 0.9650 - val_loss: 0.2601 - val_accuracy: 0.9282\n",
            "Epoch 279/300\n",
            "165/165 [==============================] - 4s 24ms/step - loss: 0.0962 - accuracy: 0.9627 - val_loss: 0.2543 - val_accuracy: 0.9285\n",
            "Epoch 280/300\n",
            "165/165 [==============================] - 4s 24ms/step - loss: 0.0952 - accuracy: 0.9648 - val_loss: 0.2489 - val_accuracy: 0.9293\n",
            "Epoch 281/300\n",
            "165/165 [==============================] - 4s 24ms/step - loss: 0.0928 - accuracy: 0.9647 - val_loss: 0.2543 - val_accuracy: 0.9303\n",
            "Epoch 282/300\n",
            "165/165 [==============================] - 4s 24ms/step - loss: 0.0933 - accuracy: 0.9649 - val_loss: 0.2468 - val_accuracy: 0.9298\n",
            "Epoch 283/300\n",
            "165/165 [==============================] - 4s 24ms/step - loss: 0.0967 - accuracy: 0.9637 - val_loss: 0.2636 - val_accuracy: 0.9245\n",
            "Epoch 284/300\n",
            "165/165 [==============================] - 4s 23ms/step - loss: 0.0981 - accuracy: 0.9637 - val_loss: 0.2529 - val_accuracy: 0.9290\n",
            "Epoch 285/300\n",
            "165/165 [==============================] - 4s 25ms/step - loss: 0.0893 - accuracy: 0.9662 - val_loss: 0.2540 - val_accuracy: 0.9313\n",
            "Epoch 286/300\n",
            "165/165 [==============================] - 4s 24ms/step - loss: 0.0916 - accuracy: 0.9654 - val_loss: 0.2549 - val_accuracy: 0.9303\n",
            "Epoch 287/300\n",
            "165/165 [==============================] - 4s 24ms/step - loss: 0.0884 - accuracy: 0.9658 - val_loss: 0.2545 - val_accuracy: 0.9293\n",
            "Epoch 288/300\n",
            "165/165 [==============================] - 4s 23ms/step - loss: 0.0919 - accuracy: 0.9660 - val_loss: 0.2575 - val_accuracy: 0.9304\n",
            "Epoch 289/300\n",
            "165/165 [==============================] - 4s 24ms/step - loss: 0.0953 - accuracy: 0.9647 - val_loss: 0.2551 - val_accuracy: 0.9306\n",
            "Epoch 290/300\n",
            "165/165 [==============================] - 4s 24ms/step - loss: 0.0923 - accuracy: 0.9641 - val_loss: 0.2541 - val_accuracy: 0.9296\n",
            "Epoch 291/300\n",
            "165/165 [==============================] - 4s 24ms/step - loss: 0.0917 - accuracy: 0.9650 - val_loss: 0.2653 - val_accuracy: 0.9288\n",
            "Epoch 292/300\n",
            "165/165 [==============================] - 4s 24ms/step - loss: 0.0912 - accuracy: 0.9657 - val_loss: 0.2584 - val_accuracy: 0.9314\n",
            "Epoch 293/300\n",
            "165/165 [==============================] - 4s 23ms/step - loss: 0.0920 - accuracy: 0.9654 - val_loss: 0.2660 - val_accuracy: 0.9290\n",
            "Epoch 294/300\n",
            "165/165 [==============================] - 4s 24ms/step - loss: 0.0940 - accuracy: 0.9648 - val_loss: 0.2634 - val_accuracy: 0.9273\n",
            "Epoch 295/300\n",
            "165/165 [==============================] - 4s 23ms/step - loss: 0.0907 - accuracy: 0.9657 - val_loss: 0.2488 - val_accuracy: 0.9309\n",
            "Epoch 296/300\n",
            "165/165 [==============================] - 4s 23ms/step - loss: 0.0918 - accuracy: 0.9655 - val_loss: 0.2498 - val_accuracy: 0.9304\n",
            "Epoch 297/300\n",
            "165/165 [==============================] - 4s 24ms/step - loss: 0.0861 - accuracy: 0.9678 - val_loss: 0.2594 - val_accuracy: 0.9292\n",
            "Epoch 298/300\n",
            "165/165 [==============================] - 4s 24ms/step - loss: 0.0892 - accuracy: 0.9671 - val_loss: 0.2581 - val_accuracy: 0.9289\n",
            "Epoch 299/300\n",
            "165/165 [==============================] - 4s 24ms/step - loss: 0.0928 - accuracy: 0.9654 - val_loss: 0.2614 - val_accuracy: 0.9285\n",
            "Epoch 300/300\n",
            "165/165 [==============================] - 4s 23ms/step - loss: 0.0896 - accuracy: 0.9664 - val_loss: 0.2540 - val_accuracy: 0.9288\n"
          ]
        },
        {
          "output_type": "execute_result",
          "data": {
            "text/plain": [
              "300"
            ]
          },
          "metadata": {},
          "execution_count": 60
        },
        {
          "output_type": "stream",
          "name": "stdout",
          "text": [
            "time: 18min 57s (started: 2021-12-14 20:30:48 +00:00)\n"
          ]
        }
      ]
    },
    {
      "cell_type": "code",
      "source": [
        "plt.plot(history.history['accuracy'])\n",
        "plt.plot(history.history['loss'])\n",
        "plt.plot(history.history['val_loss'])\n",
        "plt.plot(history.history['val_accuracy'])\n",
        "plt.title('model performances')\n",
        "plt.ylabel('accuracy')\n",
        "plt.xlabel('epoch')\n",
        "plt.legend(['train_accuracy','train_loss','val_loss','val_accuracy'],loc='right')\n",
        "plt.show()"
      ],
      "metadata": {
        "colab": {
          "base_uri": "https://localhost:8080/",
          "height": 314
        },
        "id": "sOiB3FsuwhLt",
        "outputId": "e6f66e5a-27da-4e0e-d4ba-fdb5678d108e"
      },
      "execution_count": 61,
      "outputs": [
        {
          "output_type": "display_data",
          "data": {
            "image/png": "[encoded data removed]",
            "text/plain": [
              "<Figure size 432x288 with 1 Axes>"
            ]
          },
          "metadata": {
            "needs_background": "light"
          }
        },
        {
          "output_type": "stream",
          "name": "stdout",
          "text": [
            "time: 219 ms (started: 2021-12-14 20:49:46 +00:00)\n"
          ]
        }
      ]
    },
    {
      "cell_type": "code",
      "source": [
        "# Play an audio beep. Any audio URL will do.\n",
        "from google.colab import output\n",
        "output.eval_js('new Audio(\"https://upload.wikimedia.org/wikipedia/commons/0/05/Beep-09.ogg\").play()')\n",
        "\n",
        "# to generating an error to avoid lines below being executed\n",
        "print(ANNA) "
      ],
      "metadata": {
        "colab": {
          "base_uri": "https://localhost:8080/",
          "height": 229
        },
        "id": "pWYrL6EkiqFu",
        "outputId": "cb225c6f-628e-4540-99c4-8c51a47c3c87"
      },
      "execution_count": 62,
      "outputs": [
        {
          "output_type": "error",
          "ename": "NameError",
          "evalue": "ignored",
          "traceback": [
            "\u001b[0;31m---------------------------------------------------------------------------\u001b[0m",
            "\u001b[0;31mNameError\u001b[0m                                 Traceback (most recent call last)",
            "\u001b[0;32m<ipython-input-62-f141b3cd6b26>\u001b[0m in \u001b[0;36m<module>\u001b[0;34m()\u001b[0m\n\u001b[1;32m      4\u001b[0m \u001b[0;34m\u001b[0m\u001b[0m\n\u001b[1;32m      5\u001b[0m \u001b[0;31m# to generating an error to avoid lines below being executed\u001b[0m\u001b[0;34m\u001b[0m\u001b[0;34m\u001b[0m\u001b[0;34m\u001b[0m\u001b[0m\n\u001b[0;32m----> 6\u001b[0;31m \u001b[0mprint\u001b[0m\u001b[0;34m(\u001b[0m\u001b[0mANNA\u001b[0m\u001b[0;34m)\u001b[0m\u001b[0;34m\u001b[0m\u001b[0;34m\u001b[0m\u001b[0m\n\u001b[0m",
            "\u001b[0;31mNameError\u001b[0m: name 'ANNA' is not defined"
          ]
        },
        {
          "output_type": "stream",
          "name": "stdout",
          "text": [
            "time: 1.85 s (started: 2021-12-14 20:49:46 +00:00)\n"
          ]
        }
      ]
    },
    {
      "cell_type": "markdown",
      "source": [
        "From the plot we can see how both 'training accuracy' and 'validation accuracy' are plateauing while the 'validation loss' keeps on increasing.\n",
        "\n",
        "Since we want a model that stops training at the sweet spot I will run the same model again but this time I will use the `tf.keras.callbacks.EarlyStopping` function. \n",
        "\n",
        ">It stops the training when a monitored metric has stopped improving.\n",
        "\n",
        "I have defined it already for the first cnn model as follows:\n",
        "```\n",
        "# early stopping\n",
        "es_callback = EarlyStopping(monitor = 'val_loss',\n",
        "                   min_delta=1e-3, \n",
        "                   patience = 5,\n",
        "                   verbose = 1,\n",
        "                   mode='auto',\n",
        "                   restore_best_weights=True)\n",
        "```\n",
        "\n",
        "\n",
        "The metric I picked is the validation loss (`val_loss`).\n",
        "\n",
        "(See the docs)[https://www.tensorflow.org/api_docs/python/tf/keras/callbacks/EarlyStopping]"
      ],
      "metadata": {
        "id": "-9vd3olLzsNT"
      }
    },
    {
      "cell_type": "code",
      "source": [
        "start_cnn2 = time.time() # timer for comparing to other methods\n",
        "\n",
        "history = cnn_model_2.fit(x=trn_im_cnn,\n",
        "                              y=trn_labels_ohe,\n",
        "                              epochs=100, \n",
        "                              batch_size=256,\n",
        "                              callbacks=[es_callback],\n",
        "                              validation_split=0.3,\n",
        "                              verbose=1)\n",
        "\n",
        "\n",
        "len(history.history['loss'])  \n",
        "\n",
        "end_cnn2 = time.time()\n",
        "cnn_time2 = end_cnn2-start_cnn2"
      ],
      "metadata": {
        "colab": {
          "base_uri": "https://localhost:8080/"
        },
        "id": "y-DTDc2_v9i7",
        "outputId": "109085f9-6447-4ddc-d6c0-fb003b5fa58e"
      },
      "execution_count": 63,
      "outputs": [
        {
          "output_type": "stream",
          "name": "stdout",
          "text": [
            "Epoch 1/100\n",
            "165/165 [==============================] - 4s 24ms/step - loss: 0.0878 - accuracy: 0.9666 - val_loss: 0.2595 - val_accuracy: 0.9277\n",
            "Epoch 2/100\n",
            "165/165 [==============================] - 4s 22ms/step - loss: 0.0890 - accuracy: 0.9671 - val_loss: 0.2588 - val_accuracy: 0.9282\n",
            "Epoch 3/100\n",
            "165/165 [==============================] - 4s 22ms/step - loss: 0.0866 - accuracy: 0.9672 - val_loss: 0.2593 - val_accuracy: 0.9296\n",
            "Epoch 4/100\n",
            "165/165 [==============================] - 4s 22ms/step - loss: 0.0921 - accuracy: 0.9651 - val_loss: 0.2493 - val_accuracy: 0.9316\n",
            "Epoch 5/100\n",
            "165/165 [==============================] - 4s 22ms/step - loss: 0.0895 - accuracy: 0.9669 - val_loss: 0.2628 - val_accuracy: 0.9296\n",
            "Epoch 6/100\n",
            "165/165 [==============================] - 4s 23ms/step - loss: 0.1024 - accuracy: 0.9610 - val_loss: 0.2618 - val_accuracy: 0.9292\n",
            "Epoch 7/100\n",
            "165/165 [==============================] - 4s 22ms/step - loss: 0.0924 - accuracy: 0.9656 - val_loss: 0.2733 - val_accuracy: 0.9259\n",
            "Epoch 8/100\n",
            "165/165 [==============================] - 4s 22ms/step - loss: 0.0943 - accuracy: 0.9642 - val_loss: 0.2541 - val_accuracy: 0.9296\n",
            "Epoch 9/100\n",
            "163/165 [============================>.] - ETA: 0s - loss: 0.0903 - accuracy: 0.9654Restoring model weights from the end of the best epoch: 4.\n",
            "165/165 [==============================] - 4s 22ms/step - loss: 0.0903 - accuracy: 0.9654 - val_loss: 0.2501 - val_accuracy: 0.9308\n",
            "Epoch 00009: early stopping\n",
            "time: 33.2 s (started: 2021-12-14 20:57:18 +00:00)\n"
          ]
        }
      ]
    },
    {
      "cell_type": "code",
      "source": [
        "plt.plot(history.history['accuracy'])\n",
        "plt.plot(history.history['loss'])\n",
        "plt.plot(history.history['val_loss'])\n",
        "plt.plot(history.history['val_accuracy'])\n",
        "plt.title('model performances')\n",
        "plt.ylabel('accuracy')\n",
        "plt.xlabel('epoch')\n",
        "plt.legend(['train_accuracy','train_loss','val_loss','val_accuracy'],loc='right')\n",
        "plt.show()"
      ],
      "metadata": {
        "colab": {
          "base_uri": "https://localhost:8080/",
          "height": 314
        },
        "id": "nzud3PXwxQqv",
        "outputId": "c6d1b450-f5d5-4053-bb7a-75337bf0350e"
      },
      "execution_count": 64,
      "outputs": [
        {
          "output_type": "display_data",
          "data": {
            "image/png": "[encoded data removed]",
            "text/plain": [
              "<Figure size 432x288 with 1 Axes>"
            ]
          },
          "metadata": {
            "needs_background": "light"
          }
        },
        {
          "output_type": "stream",
          "name": "stdout",
          "text": [
            "time: 238 ms (started: 2021-12-14 20:57:51 +00:00)\n"
          ]
        }
      ]
    },
    {
      "cell_type": "code",
      "source": [
        "cnn_2_pred = cnn_model_2.predict(tst_im_cnn)\n",
        "# need to extract maximum values\n",
        "cnn_2_pred_test = np.argmax(cnn_2_pred, axis=1)\n",
        "# confusion matrix\n",
        "cnn_2_confusion = confusion_matrix(test_labels, cnn_2_pred_test)\n",
        "\n",
        "f,ax = plt.subplots(figsize=(7,5))\n",
        "plt.title('Confusion Matrix for CNN Model 2')\n",
        "plt.xlabel('Predicted character')\n",
        "plt.ylabel('True character')\n",
        "sns.heatmap(cnn_2_confusion,annot=True,cmap='Wistia',fmt='',ax=ax)\n",
        "plt.show()"
      ],
      "metadata": {
        "colab": {
          "base_uri": "https://localhost:8080/",
          "height": 355
        },
        "id": "7pvFTLhtvWa2",
        "outputId": "f4116892-208f-4508-8c86-f0e437f2bb79"
      },
      "execution_count": 65,
      "outputs": [
        {
          "output_type": "display_data",
          "data": {
            "image/png": "[encoded data removed]",
            "text/plain": [
              "<Figure size 504x360 with 2 Axes>"
            ]
          },
          "metadata": {
            "needs_background": "light"
          }
        },
        {
          "output_type": "stream",
          "name": "stdout",
          "text": [
            "time: 1.53 s (started: 2021-12-14 21:00:35 +00:00)\n"
          ]
        }
      ]
    },
    {
      "cell_type": "code",
      "source": [
        "acc_on_test_cnn1 = metrics.accuracy_score(test_labels, cnn_1_pred_test)\n",
        "acc_on_test_cnn2 = metrics.accuracy_score(test_labels, cnn_2_pred_test)\n",
        "\n",
        "title1 = 'Accuracy of CNN Model 1: %.2f' % (acc_on_test_cnn1*100)\n",
        "title2 = 'Accuracy of CNN Model 2: %.2f' % (acc_on_test_cnn2*100)"
      ],
      "metadata": {
        "colab": {
          "base_uri": "https://localhost:8080/"
        },
        "id": "tZChX_HQyJFx",
        "outputId": "3ce8fae3-1275-4c1b-8f30-4b181a4dd229"
      },
      "execution_count": 88,
      "outputs": [
        {
          "output_type": "stream",
          "name": "stdout",
          "text": [
            "time: 7.73 ms (started: 2021-12-14 21:22:01 +00:00)\n"
          ]
        }
      ]
    },
    {
      "cell_type": "code",
      "source": [
        "fig, (ax1, ax2) = plt.subplots(1,2, figsize=(18,7))\n",
        "ax1.set_title(title1) \n",
        "ax1.set_xlabel('Predicted character')\n",
        "ax1.set_ylabel('True character')\n",
        "sns.heatmap(cnn_1_confusion,annot=True,cmap='Wistia',fmt='',ax=ax1)\n",
        "\n",
        "ax2.set_title(title2) \n",
        "ax2.set_xlabel('Predicted character')\n",
        "ax2.set_ylabel('True character')\n",
        "sns.heatmap(cnn_2_confusion,annot=True,cmap='Wistia',fmt='',ax=ax2)\n",
        "plt.show()"
      ],
      "metadata": {
        "colab": {
          "base_uri": "https://localhost:8080/",
          "height": 448
        },
        "id": "fOfZhvwdGzjF",
        "outputId": "e6384c2c-bbc1-4b53-f154-67ae6b2dd5f9"
      },
      "execution_count": 89,
      "outputs": [
        {
          "output_type": "display_data",
          "data": {
            "image/png": "[encoded data removed]",
            "text/plain": [
              "<Figure size 1296x504 with 4 Axes>"
            ]
          },
          "metadata": {
            "needs_background": "light"
          }
        },
        {
          "output_type": "stream",
          "name": "stdout",
          "text": [
            "time: 1.56 s (started: 2021-12-14 21:22:13 +00:00)\n"
          ]
        }
      ]
    },
    {
      "cell_type": "markdown",
      "source": [
        "When inspecting the CNN plots of CNN 1 and CNN 2, we can see that each of the classes TPR value is higher in model 2 (right). Further the accuracy on the testing set of 10 000 images of CNN 1 was only 91.10% while it was 92,67% on CNN 2."
      ],
      "metadata": {
        "id": "GLl5FSo906j6"
      }
    },
    {
      "cell_type": "markdown",
      "source": [
        "# 4 Support Vector Machines\n",
        "\n",
        "A method developed by Cortes (currently head of Google Reseach!) and Vapnik in 1993."
      ],
      "metadata": {
        "id": "KI0KkVMGF5uq"
      }
    },
    {
      "cell_type": "code",
      "source": [
        "score_ccn2 = cnn_model_1.evaluate(tst_im_cnn,tst_labels_ohe)\n",
        "print(\"Test loss:\", score_ccn2[0])\n",
        "print(\"Test accuracy:\", score_ccn2[1])"
      ],
      "metadata": {
        "id": "jtbkVn_aw-aU"
      },
      "execution_count": null,
      "outputs": []
    },
    {
      "cell_type": "markdown",
      "source": [
        "## 4.1 Failed Grid Search evening Grid Search 5-fold CV: Failed due to Colab Timeout:\n",
        "\n",
        "Colab has a limited runtime which I had to learn the hard way. First I tried to circumvent colab from disconnecting me due to inactivity druing training by using a small [script](https://github.com/ilante/AML_91934_exam/blob/main/stay_awake_click.py) that is run on my local terminal and emulates clicks in the cell above. But the input was simply to large which is why it timed out due to the maximum time colab allocates per user.\n",
        "\n",
        "See the documentation: https://scikit-learn.org/stable/modules/generated/sklearn.svm.SVC.html \n",
        "\n",
        ">The implementation is based on **libsvm**. The fit **time scales at least quadratically** with the number of samples and may be **impractical beyond tens** of thousands of samples. For large datasets consider using LinearSVC or SGDClassifier instead, possibly after a Nystroem transformer.\n",
        "\n",
        "Below you can see the **failed run**. I have commented it so it is not accidentely run as it took more than 8 hrs.\n"
      ],
      "metadata": {
        "id": "l8peQ9qXvGZm"
      }
    },
    {
      "cell_type": "code",
      "execution_count": null,
      "metadata": {
        "id": "wluJ8P0eytwy"
      },
      "outputs": [],
      "source": [
        "# # SVM Model: Entire data set\n",
        "\n",
        "# # Total input = 60 000 samples from train_images_f\n",
        "# # Test input = 10 000 samples from test_images_f\n",
        "\n",
        "# svm_parameters_grid = {'C':[0.1, 1, 10, 100], 'gamma':['auto'],\n",
        "#             'kernel': ['rbf', 'poly'], 'degree': [3,4,5]}\n",
        "# svm_grid = GridSearchCV(SVC(),svm_parameters_grid, refit = True, verbose = 3)\n",
        "# svm_grid.fit(train_images_f, train_labels) # fitting the model for grid search"
      ]
    },
    {
      "cell_type": "markdown",
      "source": [
        "### 4.1.1 Principal Component Analysis\n",
        "\n",
        "The Principal Component Analysis (PCA) reduces the dimensions of the feature space such that the final features are orthogonal to each other. I will try this to see weather it renders the grid SVM faster.\n",
        "\n",
        "### 4.1.2 Standardizing images;\n",
        "\n",
        "Below I show you the images before standardization:"
      ],
      "metadata": {
        "id": "1CIc6_nKc8F1"
      }
    },
    {
      "cell_type": "code",
      "source": [
        "n_row = 1\n",
        "n_col = 5\n",
        "plt.figure(figsize=(10,8))\n",
        "for i in list(range(n_row*n_col)):\n",
        "    plt.subplot(n_row, n_col, i+1)\n",
        "    plt.imshow(train_images_f[i,:].reshape(28,28), cmap=\"gray\")\n",
        "    title_text = \"Image\" + str(i+1)\n",
        "    plt.title(title_text, size=6.5)"
      ],
      "metadata": {
        "id": "TQB2lz_Vf3oj"
      },
      "execution_count": null,
      "outputs": []
    },
    {
      "cell_type": "code",
      "source": [
        "from sklearn.preprocessing import StandardScaler\n",
        "# Standardizing\n",
        "train_img_std = StandardScaler().fit_transform(train_images_f)\n",
        "test_img_std = StandardScaler().fit_transform(test_images_f)"
      ],
      "metadata": {
        "id": "0alTweadfSZR"
      },
      "execution_count": null,
      "outputs": []
    },
    {
      "cell_type": "markdown",
      "source": [
        "Below you can see the images **after** standardization and normalization;"
      ],
      "metadata": {
        "id": "bQYcMOHCEbch"
      }
    },
    {
      "cell_type": "code",
      "source": [
        "\n",
        "n_row = 1\n",
        "n_col = 5\n",
        "plt.figure(figsize=(10,8))\n",
        "for i in list(range(n_row*n_col)):\n",
        "    plt.subplot(n_row, n_col, i+1)\n",
        "    plt.imshow(train_img_std[i,:].reshape(28,28), cmap=\"gray\")\n",
        "    title_text = \"Image\" + str(i+1)\n",
        "    plt.title(title_text, size=6.5)"
      ],
      "metadata": {
        "id": "iXZu0x6xfuLD"
      },
      "execution_count": null,
      "outputs": []
    },
    {
      "cell_type": "markdown",
      "source": [
        "# 8.1 Computing Eigenvectors Eigenvalues and Covariance Matrix\n",
        "\n",
        "We want to find the parameter k for PCA\n",
        "\n",
        "PCA tries to minimize the average squared projection errors: $$\\frac{1}{m} \\sum^{m}_{i=1} || x^{(i)} - x^{(i)}_{approx} ||^2$$\n",
        "And the total variation in the data: $$\\frac{1}{m}\\sum^{m}_{i=1}||x^{(i)}||^2$$\n",
        "\n",
        "We want to choose **k** such that it is the smallest value of the ratio between the average squared projection errors and the total variation in the data: \n",
        "\n",
        "\n",
        "$\\frac{\\frac{1}{m}\\sum^{m}_{i=1}||x^{(i)}-x^{(i)}_{approx}||^2}{\\frac{1}{m}\\sum^{m}_{i=1}||x^{(i)}||^2} \\leq 0.01$ \n",
        "\n",
        "So we want to retain 99% of the variance!"
      ],
      "metadata": {
        "id": "iMoubqxogRXZ"
      }
    },
    {
      "cell_type": "code",
      "source": [
        "mean_vec = np.mean(train_img_std, axis=0)\n",
        "cov_mat = np.cov(train_img_std.T)\n",
        "eig_vals, eig_vecs = np.linalg.eig(cov_mat)\n",
        "print(\"Shape of Covariance matrix: \", cov_mat.shape)\n",
        "eig_pairs = [(np.abs(eig_vals[i]),eig_vecs[:,i]) for i in range(len(eig_vals))]\n",
        "eig_pairs.sort(key = lambda x: x[0], reverse=True)\n",
        "tot = sum(eig_vals)\n",
        "var_exp = [(i/tot)*100 for i in sorted(eig_vals, reverse=True)]\n",
        "cum_var_exp = np.cumsum(var_exp) # Cumulative explained variance"
      ],
      "metadata": {
        "id": "RZVc0uuzdh_k"
      },
      "execution_count": null,
      "outputs": []
    },
    {
      "cell_type": "code",
      "source": [
        "# played with k until I had 99.00 % of the variance retained.\n",
        "cmp_n = 526\n",
        "add = 0.0\n",
        "for i in range(cmp_n):\n",
        "    add+= var_exp[i]\n",
        "\n",
        "print('first ',cmp_n,' components average variance: %.2f' % add)  "
      ],
      "metadata": {
        "id": "zwix7O9cldw9"
      },
      "execution_count": null,
      "outputs": []
    },
    {
      "cell_type": "code",
      "source": [
        "size = cmp_n\n",
        "plt.figure(figsize=(8,5))\n",
        "plt.bar(range(size), var_exp[0:size], align='center');\n",
        "plt.xlabel(\"Principal components\")\n",
        "plt.ylabel(\"Explained variance ratio\");\n",
        "\n",
        "# what happened to the colors??? --> sns.set() messed it up\n"
      ],
      "metadata": {
        "id": "GtF03DQemTAU"
      },
      "execution_count": null,
      "outputs": []
    },
    {
      "cell_type": "code",
      "source": [
        "pca = PCA(n_components=cmp_n)\n",
        "X_train_pca = pca.fit_transform(train_img_std) # input for svm.fit()\n",
        "X_test_pca = pca.fit_transform(test_img_std) # input for svm.predict()\n"
      ],
      "metadata": {
        "id": "ahmIyEYQdGNm"
      },
      "execution_count": null,
      "outputs": []
    },
    {
      "cell_type": "code",
      "source": [
        "eigenvalues = pca.components_.reshape(cmp_n, 28, 28)\n",
        "eigenvalues = pca.components_\n",
        "print(\"Eigenvalues shape:\", eigenvalues.shape)\n",
        "\n",
        "n_row = 1\n",
        "n_col = 5\n",
        "plt.figure(figsize=(10,8))\n",
        "for i in list(range(n_row*n_col)):\n",
        "    plt.subplot(n_row, n_col, i+1)\n",
        "    plt.imshow(eigenvalues[i,:].reshape(28,28), cmap=\"gray\")\n",
        "    title_text = \"Image\" + str(i+1)\n",
        "    plt.title(title_text, size=6.5)\n",
        "\n",
        "plt.show()"
      ],
      "metadata": {
        "id": "_oNczGr3opqF"
      },
      "execution_count": null,
      "outputs": []
    },
    {
      "cell_type": "markdown",
      "source": [
        "# SVM with PCA input"
      ],
      "metadata": {
        "id": "cHzwTqV9CVcl"
      }
    },
    {
      "cell_type": "code",
      "source": [
        "start_svm_pca = time.time()\n",
        "\n",
        "# Training support vector classifyer\n",
        "svm_cls_pca = SVC(kernel='rbf', C=100, gamma='auto')\n",
        "# Fit the classifier to training data:\n",
        "svm_cls_pca.fit(X_train_pca, train_labels)\n",
        "\n",
        "end_svm_pca = time.time()\n",
        "svm_pca_time = end_svm_pca-start_svm_pca"
      ],
      "metadata": {
        "id": "oktvl5Hn8UyA"
      },
      "execution_count": null,
      "outputs": []
    },
    {
      "cell_type": "code",
      "source": [
        "# SVM predictions and analysis\n",
        "print('starting svm prediction with pca input ')\n",
        "svm_pca_pred = svm_cls_pca.predict(X_test_pca)\n",
        "svm_pca_f1 = metrics.f1_score(test_labels, svm_pca_pred, average= \"weighted\")\n",
        "svm_pca_accuracy = metrics.accuracy_score(test_labels, svm_pca_pred)\n",
        "svm_pca_cm = metrics.confusion_matrix(test_labels, svm_pca_pred)\n",
        "\n",
        "print(metrics.classification_report(test_labels, svm_pca_pred))\n",
        "print('\\n')\n",
        "print('-----------------SVM Report---------------')\n",
        "print('F1 score: {}'.format(svm_pca_f1))\n",
        "print('Accuracy score: {}'.format(svm_pca_accuracy))\n",
        "print('Confusion matrix: \\n')\n",
        "print('\\n')\n",
        "\n",
        "sns.heatmap(svm_pca_cm, annot=True, fmt='d', cmap='YlGnBu')"
      ],
      "metadata": {
        "id": "ajuRY1aqwFpj"
      },
      "execution_count": null,
      "outputs": []
    },
    {
      "cell_type": "markdown",
      "source": [
        "The accuracy was just 68,1% which is not good enough which is why I will proceed with a 5-fold cross validation on a reduced set below."
      ],
      "metadata": {
        "id": "CX4E1xUdJmHN"
      }
    },
    {
      "cell_type": "markdown",
      "metadata": {
        "id": "20WiEsfV4RSJ"
      },
      "source": [
        "## 4.2 SVM Grid Search 5-fold Cross Validation on Reduced Set\n",
        "\n",
        "To avoid time out again I had to find a creative way to reduce computational time of the grid search with 5-fold corss validation. I decided to use only the training set (as imported from `tf.keras`) for train test splits. \n",
        "\n",
        "Further I will do the **oposite** of what is usually done: I will use the **smaller portion** for **training** as it is more computationally intensive than testing.\n",
        "\n",
        "I will use 20% of the 60 000 samples for training, while I will use the bulk of the samples for (80%) for testing. \n",
        "\n",
        "I chose this as I wanted to speed up the step of the grid search. From the grid search we can find the best parameters. I will use them to train a model using the entire input and testing on the corresponding testing set.\n",
        "\n",
        "Once the best parameters are found, I will test it on the **original test splits** as imported from `tf.keras` which will be used as the **blind test set** or **hold out set**. \n",
        "\n",
        "The CV will be done by using the `train_test_split` function but this time only on the `train_images_f` and corresponding `train_labels` data set. \n",
        "\n",
        "The model with the parameters that have obtained the best results will then be used on the `test_images_f` and corresponding `test_labels` for a final evaluation.\n",
        "\n",
        "```\n",
        "# gridsearch\n",
        "grid = GridSearchCV(SVC(),svm_param_grid, refit=True, verbose = 3)\n",
        "grid.fit(X_train, y_train)\n",
        "```\n",
        "Above we can see that I set the `refit` parameter `True` such that the best parameters will be used to train the final model.\n",
        "```\n",
        "# test model on test set and print prediction results\n",
        "predictions = model.predict(X_test)\n",
        "print(classification_report(y_test, predictions))\n",
        "```\n",
        "\n",
        "Given that the classes within both training and testing set were perfectly balanced (see [2.4 Visualizing the distribution of classes within training and testing set](https://colab.research.google.com/drive/1gVS_R4GPpgS9GpumwBETzsln9vwhAfle#scrollTo=a51e_G8o4HaJ)) I expect the outcome to be ok despite the train test splits being of unusual percentages.\n",
        "\n",
        "[A user's guide to support vector machines, Asa Ben-Hur, Jason Weston](https://pubmed.ncbi.nlm.nih.gov/20221922/)"
      ]
    },
    {
      "cell_type": "code",
      "execution_count": null,
      "metadata": {
        "id": "vbhTpLPN2d8h"
      },
      "outputs": [],
      "source": [
        "# Flatten both test and train arrays\n",
        "train_images_f = train_images.flatten().reshape(60000,784)\n",
        "test_images_f = test_images.flatten().reshape(10000,784)\n",
        "print(train_images_f.shape)\n",
        "print(test_images_f.shape)"
      ]
    },
    {
      "cell_type": "code",
      "execution_count": null,
      "metadata": {
        "id": "KV65owia35WU"
      },
      "outputs": [],
      "source": [
        "# SVM Model: Reduced train set\n",
        "# Grid search CV:\n",
        "\n",
        "# Randomly picking ONLY 20 percent of the 60 000 entries for testing in \n",
        "# in the gridsearch.\n",
        "# That way I can speed up the computation and still pick the best model\n",
        "# This is obviously done only because this is an exercize to learn about the methods\n",
        "\n",
        "# Total input = 60 000 samples from train_images_f\n",
        "# test_size to 80% --> training size = 20%\n",
        "\n",
        "# save time for comparisson with other methods\n",
        "start_svm = time.time()\n",
        "X_train, X_test, y_train, y_test = train_test_split(\n",
        "    train_images_f, train_labels, test_size=0.80, stratify=train_labels) \n",
        "\n",
        "# stratify ensures that the same number of each class is present in each split.\n",
        "svm_param_grid = {'C':[0.1, 1, 10, 100], 'gamma': ['auto'],\n",
        "            'kernel': ['rbf', 'poly']}\n",
        "grid = GridSearchCV(SVC(),svm_param_grid, refit=True, verbose = 3)\n",
        "grid.fit(X_train, y_train)\n",
        "# save timer for comparisson all methods \n",
        "end_svm = time.time()\n",
        "svm_grid = end_svm-start_svm\n",
        "# trained on 12 000 samples tested on 48 000\n",
        "print(grid.cv_results_)\n",
        "\n",
        "# printing best parameter after tuning\n",
        "print(grid.best_params_)\n",
        " \n",
        "# printing how my model looks after hyper-parameter tuning\n",
        "print(grid.best_estimator_)"
      ]
    },
    {
      "cell_type": "markdown",
      "source": [
        "### 4.2.1 SVM Grid Search CV Best Parameters and Scores"
      ],
      "metadata": {
        "id": "wR1vdZnYPRHt"
      }
    },
    {
      "cell_type": "code",
      "source": [
        "# printing best parameter after tuning\n",
        "print(grid.best_params_)\n",
        " \n",
        "# printing how my model looks after hyper-parameter tuning\n",
        "print(grid.best_estimator_)"
      ],
      "metadata": {
        "id": "zzA8_AtHGr8z"
      },
      "execution_count": null,
      "outputs": []
    },
    {
      "cell_type": "code",
      "source": [
        "svm_cv_results = pd.DataFrame(grid.cv_results_)\n",
        "svm_cv_results.iloc[grid.best_index_]"
      ],
      "metadata": {
        "id": "ifbpjj8kO-4U"
      },
      "execution_count": null,
      "outputs": []
    },
    {
      "cell_type": "markdown",
      "metadata": {
        "id": "V32obQAkCPPm"
      },
      "source": [
        "In the output of the cell above we can see that the best performance was achieved with the following parameters: \n",
        "\n",
        "* rbf kernel\n",
        "* C of 100\n",
        "* $\\gamma$ set to 'auto'"
      ]
    },
    {
      "cell_type": "markdown",
      "source": [
        " ## 4.3 Performing predictions on 80% of training set\n",
        "\n",
        " That is 48 000 images saved to the variable `X_test` from the previous train test split:\n",
        "\n",
        " ```\n",
        " X_train, X_test, y_train, y_test = train_test_split(\n",
        "    train_images_f, train_labels, test_size=0.80, stratify=train_labels) \n",
        "```"
      ],
      "metadata": {
        "id": "TcvFOk1oIj2T"
      }
    },
    {
      "cell_type": "code",
      "source": [
        "grid_pred_X_test = grid.predict(X_test)"
      ],
      "metadata": {
        "id": "4CvzFGueHLWT"
      },
      "execution_count": null,
      "outputs": []
    },
    {
      "cell_type": "code",
      "source": [
        "# printing the classification report\n",
        "print(classification_report(y_test, grid_pred_X_test))"
      ],
      "metadata": {
        "id": "HKMoQqBbIC3N"
      },
      "execution_count": null,
      "outputs": []
    },
    {
      "cell_type": "code",
      "source": [
        "confusion_rbf = confusion_matrix(y_test, grid_pred_X_test)\n",
        "f,ax = plt.subplots(figsize=(7,5))\n",
        "sns.heatmap(confusion_rbf,annot=True,cmap=\"YlGnBu\",fmt='',ax=ax)\n",
        "plt.title('Confusion matrix for SVM using a rbf Kernel')\n",
        "plt.xlabel('Predicted class')\n",
        "plt.ylabel('True class')\n",
        "plt.show()\n",
        "\n",
        "print(\"accuracy\", metrics.accuracy_score(y_test, grid_pred_X_test), \"\\n\")"
      ],
      "metadata": {
        "id": "b_3xMf6HSfMa"
      },
      "execution_count": null,
      "outputs": []
    },
    {
      "cell_type": "markdown",
      "source": [
        "## 4.4 Performing Predictions on the Blind Test Set"
      ],
      "metadata": {
        "id": "hdpHkFCIQxkc"
      }
    },
    {
      "cell_type": "code",
      "source": [
        "svm_blind_test = grid.predict(test_images_f)"
      ],
      "metadata": {
        "id": "D7ifLL8EKfD2"
      },
      "execution_count": null,
      "outputs": []
    },
    {
      "cell_type": "code",
      "source": [
        "# printing the classification report\n",
        "print(classification_report(test_labels, svm_blind_test))"
      ],
      "metadata": {
        "id": "-3QCHInARD-k"
      },
      "execution_count": null,
      "outputs": []
    },
    {
      "cell_type": "code",
      "source": [
        "confusion_rbf = confusion_matrix(test_labels, svm_blind_test)\n",
        "f,ax = plt.subplots(figsize=(7,5))\n",
        "sns.heatmap(confusion_rbf,annot=True,cmap=\"YlGnBu\",fmt='',ax=ax)\n",
        "plt.title('Confusion matrix for SVM using a rbf Kernel')\n",
        "plt.xlabel('Predicted class')\n",
        "plt.ylabel('True class')\n",
        "plt.show()\n",
        "\n",
        "print(\"accuracy\", metrics.accuracy_score(test_labels, svm_blind_test), \"\\n\")"
      ],
      "metadata": {
        "id": "RQn_bDrdUAby"
      },
      "execution_count": null,
      "outputs": []
    },
    {
      "cell_type": "markdown",
      "source": [
        "We can see that there was a slight drop in accuracy between the test set (`X_test`) and the **blind test set** (`test_labels`) predictions. The previously discussed pattern repeats as yet again class 6 has the lowest TPR. I ascribe this to the previously discussed similarity in pixel distribution [see linked plot from section 2.4.1](https://colab.research.google.com/drive/1sfiID3MhXOyF_xI_Q4U80VecAwBIR6YX#scrollTo=XtzN9bnwpuLq&line=1&uniqifier=1).\n",
        "\n",
        "# 4.5 Generating New SVM Model on Entire Training Set\n",
        "\n",
        "To see if I can get an even better accuracy I will repeat the training `train_images_f` whit a subsequent testing step on the `test_images_f`. This will create a classifies trained on **60 000** samples which will subsequntly be tested on the **10 000** test samples."
      ],
      "metadata": {
        "id": "aF6gvD0qUS_G"
      }
    },
    {
      "cell_type": "code",
      "execution_count": null,
      "metadata": {
        "id": "A7ZtHKQXyFI_"
      },
      "outputs": [],
      "source": [
        "start_svm = time.time()\n",
        "\n",
        "# Training support vector classifyer\n",
        "svm_cls = SVC(kernel='rbf', C=100, gamma='auto')\n",
        "# Fit the classifier to training data:\n",
        "svm_cls.fit(train_images_f, train_labels)\n",
        "\n",
        "end_svm = time.time()\n",
        "svm_time = end_svm-start_svm"
      ]
    },
    {
      "cell_type": "code",
      "source": [
        "# SVM predictions and analysis\n",
        "print('starting svm prediction')\n",
        "svm_predictions = svm_cls.predict(test_images_f)\n",
        "svm_f1 = metrics.f1_score(test_labels, svm_predictions, average= \"weighted\")\n",
        "svm_accuracy = metrics.accuracy_score(test_labels, svm_predictions)\n",
        "svm_cm = metrics.confusion_matrix(test_labels, svm_predictions)\n",
        "\n",
        "print(metrics.classification_report(test_labels, svm_predictions))\n",
        "print('\\n')\n",
        "print('-----------------SVM Report---------------')\n",
        "print('F1 score: {}'.format(svm_f1))\n",
        "print('Accuracy score: {}'.format(svm_accuracy))\n",
        "print('Confusion matrix: \\n')\n",
        "print('\\n')\n",
        "print('Plotting confusion matrix')\n",
        "\n",
        "sns.heatmap(svm_cm, annot=True, fmt='d', cmap='YlGnBu')"
      ],
      "metadata": {
        "id": "k9tShXszpHF1"
      },
      "execution_count": null,
      "outputs": []
    },
    {
      "cell_type": "markdown",
      "source": [
        "By increasing the training data given in input I was able to increase accuracy by 3 percentage points from 85% to 88% on the testing set. Its not much but I did what I could to improve the performance of my SVM classifier.\n",
        "\n",
        "<div>\n",
        "   <img src=\"https://s2.qwant.com/thumbr/0x380/c/f/8fb4af1ef5c9807e47c01ac555160a2a39e0ec31ca0afd412a81a37fb4bc08/f06bdrfictf31.jpg?u=https%3A%2F%2Fi.redd.it%2Ff06bdrfictf31.jpg&q=0&b=1&p=0&a=0\" width=\"200\">\n",
        "</div>"
      ],
      "metadata": {
        "id": "KPf8C-ewcaae"
      }
    },
    {
      "cell_type": "markdown",
      "source": [
        "# 5 K-Nearest Neighbors\n",
        "\n",
        "K-Nearest Neighbors (KNN) is one of the simplest algorithms used in ML and uses the training data given in input to classify new data points based on **similarity measures** such as the distance function. The classification is done by a majority vote to its **neighbors**. Choosing the $k$ in KNN is done by parameter tuning. \n",
        "\n",
        "The advantage of KNN is its time complexity $O(n*d)$\n",
        "\n",
        "For: \n",
        "\n",
        "* $n$: number of points in the training dataset\n",
        "* $d$: data dimensionality\n",
        "* $k$: number of neighbors that we consider for voting\n",
        "\n",
        "\n",
        "We can usse the following methods:\n",
        "\n",
        "* Brute force method\n",
        "    * Were \n",
        "        * training time complexity is $O(1)$\n",
        "        * prediciton time is $O(k*n*d)$\n",
        "        * prediciton space complexity is $O(1)\n",
        "* $k-d$ tree method\n",
        "    * Were\n",
        "        * training time complexity is $O(d * n * log(n))$\n",
        "        * training space complexity is $O(d * n)$\n",
        "        * prediciton time complexity is $O(k * log(n))$\n",
        "        * prediciton space complexity is $O(1)$\n",
        "* Ball tree method\n",
        "    * Where\n",
        "        * training time complexity: O(d * n * log(n))\n",
        "        * training space complexity: O(d * n)\n",
        "        * prediction time complexity: O(k * log(n))\n",
        "        * prediction space complexity: O(1)\n",
        "\n",
        "Resources:\n",
        "\n",
        "[KNN explained](https://towardsdatascience.com/k-nearest-neighbors-computational-complexity-502d2c440d5)\n",
        "\n",
        "[Time complexity](https://stats.stackexchange.com/questions/219655/k-nn-computational-complexity)\n",
        "\n",
        "[sklearn knn documentation](https://scikit-learn.org/stable/modules/generated/sklearn.neighbors.KNeighborsClassifier.html)\n",
        "\n"
      ],
      "metadata": {
        "id": "kC_C7gRyYvJt"
      }
    },
    {
      "cell_type": "markdown",
      "source": [
        "The reocurring theme: class 6 has the lowest number of true positives."
      ],
      "metadata": {
        "id": "ink4fKj5rKV3"
      }
    },
    {
      "cell_type": "code",
      "source": [
        "## 1. KNN Model BRUTE FORCE = bf\n",
        "start_knn_bf = time.time()\n",
        "\n",
        "knn_bf = KNeighborsClassifier(n_neighbors=5, algorithm='brute')\n",
        "knn_bf.fit(train_images_f, train_labels)\n",
        "knn_bf_pred_labels = knn_bf.predict(test_images_f)\n",
        "\n",
        "end_knn_bf = time.time()\n",
        "knn_bf_time = end_knn_bf-start_knn_bf"
      ],
      "metadata": {
        "id": "-0hgyf99i9Jt"
      },
      "execution_count": null,
      "outputs": []
    },
    {
      "cell_type": "code",
      "source": [
        "## 2. KNN Model: k d tree = kd\n",
        "start_knn_kd = time.time()\n",
        "\n",
        "knn_kd = KNeighborsClassifier(n_neighbors=5)\n",
        "knn_kd.fit(train_images_f, train_labels)\n",
        "knn_kd_pred_labels = knn_kd.predict(test_images_f)\n",
        "\n",
        "end_knn_kd = time.time()\n",
        "knn_time_kd = end_knn_kd-start_knn_kd"
      ],
      "metadata": {
        "id": "_1EIN6uJjWqt"
      },
      "execution_count": null,
      "outputs": []
    },
    {
      "cell_type": "code",
      "source": [
        "## 3. KNN Model: ball tree = bt\n",
        "start_knn_bt = time.time()\n",
        "\n",
        "knn_bt = KNeighborsClassifier(n_neighbors=5)\n",
        "knn_bt.fit(train_images_f, train_labels)\n",
        "knn_bt_pred_labels = knn_bt.predict(test_images_f)\n",
        "\n",
        "end_knn_bt = time.time()\n",
        "knn_time_bt = end_knn_bt-start_knn_bt"
      ],
      "metadata": {
        "id": "Kd3GpN1umhwy"
      },
      "execution_count": null,
      "outputs": []
    },
    {
      "cell_type": "markdown",
      "source": [
        "## 5.1 Predictions of the three types of KNN"
      ],
      "metadata": {
        "id": "Hd5Lv73X9Ez_"
      }
    },
    {
      "cell_type": "code",
      "source": [
        "# KNN BRUTE FORCE report and analysis\n",
        "knn_bf_f1 = metrics.f1_score(test_labels, knn_bf_pred_labels, average= 'weighted')\n",
        "knn_bf_accuracy = metrics.accuracy_score(test_labels, knn_bf_pred_labels)\n",
        "knn_bf_cm = metrics.confusion_matrix(test_labels, knn_bf_pred_labels)\n",
        "\n",
        "print(metrics.classification_report(test_labels, knn_bf_pred_labels))\n",
        "print('\\n')\n",
        "print('-----------------K-nearest Neighbors Brute Force Report---------------')\n",
        "print('F1 score:\\t {}'.format(knn_bf_f1))\n",
        "print('Accuracy score:\\t {}'.format(knn_bf_accuracy))\n",
        "print('Confusion matrix: \\n', knn_bf_cm)\n",
        "print('\\n')\n",
        "print('Plotting confusion matrix')\n",
        "\n",
        "sns.heatmap(knn_bf_cm, annot=True, fmt='d', cmap='BuPu')"
      ],
      "metadata": {
        "id": "p0JhgEkU9I6w"
      },
      "execution_count": null,
      "outputs": []
    },
    {
      "cell_type": "code",
      "source": [
        "# KNN k-d Tree Report and Analysis\n",
        "knn_kd_f1 = metrics.f1_score(test_labels, knn_kd_pred_labels, average= 'weighted')\n",
        "knn_kd_accuracy = metrics.accuracy_score(test_labels, knn_kd_pred_labels)\n",
        "knn_kd_cm = metrics.confusion_matrix(test_labels, knn_kd_pred_labels)\n",
        "\n",
        "print(metrics.classification_report(test_labels, knn_kd_pred_labels))\n",
        "print('\\n')\n",
        "print('-----------------K-nearest Neighbors k-d Tree Report---------------')\n",
        "print('F1 score:\\t {}'.format(knn_kd_f1))\n",
        "print('Accuracy score:\\t {}'.format(knn_kd_accuracy))\n",
        "print('Confusion matrix: \\n', knn_kd_cm)\n",
        "print('\\n')\n",
        "print('Plotting confusion matrix')\n",
        "\n",
        "sns.heatmap(knn_kd_cm, annot=True, fmt='d', cmap='BuPu')"
      ],
      "metadata": {
        "id": "1Mi3E7fY-Lsr"
      },
      "execution_count": null,
      "outputs": []
    },
    {
      "cell_type": "code",
      "source": [
        "# KNN Ball Tree Report and Analysis\n",
        "knn_bt_f1 = metrics.f1_score(test_labels, knn_bt_pred_labels, average= 'weighted')\n",
        "knn_bt_accuracy = metrics.accuracy_score(test_labels, knn_bt_pred_labels)\n",
        "knn_bt_cm = metrics.confusion_matrix(test_labels, knn_bt_pred_labels)\n",
        "\n",
        "print(metrics.classification_report(test_labels, knn_bt_pred_labels))\n",
        "print('\\n')\n",
        "print('-----------------K-nearest Neighbors Ball Tree Report---------------')\n",
        "print('F1 score:\\t {}'.format(knn_bt_f1))\n",
        "print('Accuracy score:\\t {}'.format(knn_bt_accuracy))\n",
        "print('Confusion matrix: \\n', knn_bt_cm)\n",
        "print('\\n')\n",
        "print('Plotting confusion matrix')\n",
        "\n",
        "sns.heatmap(knn_bt_cm, annot=True, fmt='d', cmap='BuPu')"
      ],
      "metadata": {
        "id": "INX0OHLI-8_c"
      },
      "execution_count": null,
      "outputs": []
    },
    {
      "cell_type": "code",
      "source": [
        "print('-----------------K-nearest Neighbors Brute Force Report---------------')\n",
        "print('F1 score:\\t {}'.format(knn_bf_f1))\n",
        "print('Accuracy score:\\t {}'.format(knn_bf_accuracy))\n",
        "print('\\n')\n",
        "\n",
        "print('\\n')\n",
        "print('-----------------K-nearest Neighbors k-d Tree Report---------------')\n",
        "print('F1 score:\\t {}'.format(knn_kd_f1))\n",
        "print('Accuracy score:\\t {}'.format(knn_kd_accuracy))\n",
        "print('\\n')\n",
        "\n",
        "print('\\n')\n",
        "print('-----------------K-nearest Neighbors Ball Tree Report---------------')\n",
        "print('F1 score:\\t {}'.format(knn_bt_f1))\n",
        "print('Accuracy score:\\t {}'.format(knn_bt_accuracy))\n",
        "print('\\n')"
      ],
      "metadata": {
        "id": "RyRiT73yBMAn"
      },
      "execution_count": null,
      "outputs": []
    },
    {
      "cell_type": "markdown",
      "source": [
        "Above we can see that all KNN methods yeilded the same accuracy (\\~85,6%) and F1 (\\~85,5%) score. Despite the large amount of input all three methods terminated training and prediction within milliseconds. "
      ],
      "metadata": {
        "id": "ARKuRQ6jBYlU"
      }
    },
    {
      "cell_type": "markdown",
      "metadata": {
        "id": "lB-AV5SQn-eL"
      },
      "source": [
        "# 6 Decision Tree Classifier\n",
        "\n",
        "Decision Trees (DT) are amongst the most popular algorithms for data mining and artificial intelligence. DT is a supervised learning model that can be used to solve classification as well as regression problems. It uses a tree-like model of decisions and their possible concequences to solve the problem. Each internal node represents an attribute and each leaf node represents a class label [see](https://en.wikipedia.org/wiki/Decision_tree). The advantage of DT is that it requires very little preparation of data when comparing it to other methods. In addition the training process is rather fast in comarision to other methods.\n",
        "\n",
        "As always, overfitting can be an issue but this can be mitigated by setting a **maximum depth of the tree**, a **minimum number of samples required at a leaf split**, a **dimensionality reduction** or **pruning**. The simpler the model the less likely it is overfitting.\n",
        "\n",
        "\n",
        "We flatten and reshape the data.\n",
        "\n",
        "We do several trees with different depths rangeing from 1 - 30. We decide the desired depth according to the plateau of the accuracy.\n"
      ]
    },
    {
      "cell_type": "code",
      "execution_count": null,
      "metadata": {
        "id": "HN6DLo_fs-wr"
      },
      "outputs": [],
      "source": [
        "# list holding accuracy of DT:\n",
        "dt_acc = []\n",
        "\n",
        "# loop for generating different trees:\n",
        "for i in range(30):\n",
        "  # decision tree classifier = dt_clf\n",
        "  dt_clf = tree.DecisionTreeClassifier(max_depth=i+1, random_state=0)\n",
        "  # fitting model\n",
        "  dt_clf.fit(train_images_f, train_labels)\n",
        "  # predictions; dt_pred\n",
        "  dt_pred =  dt_clf.predict(test_images_f)\n",
        "  # appending acc score to dt_acc\n",
        "  dt_acc.append(accuracy_score(test_labels, dt_pred))\n",
        "  # to stdout\n",
        "  print('Depth: ', (i+1), 'Accuracy: ', accuracy_score(test_labels, dt_pred))\n",
        "\n"
      ]
    },
    {
      "cell_type": "code",
      "execution_count": null,
      "metadata": {
        "id": "7-u9BxQ51T50"
      },
      "outputs": [],
      "source": [
        "plt.plot(list(range(1,31)), dt_acc)\n",
        "plt.xticks(list(range(1,31,2)))\n",
        "plt.ylabel('Accuracy')\n",
        "plt.xlabel('Maximum Depth')\n",
        "plt.grid(True)\n",
        "\n",
        "# test_images.shape"
      ]
    },
    {
      "cell_type": "markdown",
      "source": [
        "## 6.1 Training the DT Classifier with a Maximum Depth of 13\n",
        "\n",
        "We can see in the plot above that the accuracy starts to flatten out after a peak at 13. Thus I will run DT training with the maximum depth of 13."
      ],
      "metadata": {
        "id": "kd1paeY2VoSE"
      }
    },
    {
      "cell_type": "code",
      "execution_count": null,
      "metadata": {
        "id": "FDISNZrmyfBI"
      },
      "outputs": [],
      "source": [
        "# Decision Tree\n",
        "start_dt = time.time()\n",
        "\n",
        "tree_cls = DecisionTreeClassifier(max_depth=13, criterion='entropy')\n",
        "tree_cls.fit(train_images_f, train_labels)\n",
        "\n",
        "end_dt = time.time()\n",
        "dt_time = end_dt-start_dt\n"
      ]
    },
    {
      "cell_type": "code",
      "source": [
        "dt_image = tree_cls.fit(train_images_f,train_labels)\n",
        "tree.plot_tree(dt_image)\n",
        "plt.figure(figsize=(500, 300))\n",
        "plt.show()"
      ],
      "metadata": {
        "id": "vefjS_A3YPmR"
      },
      "execution_count": null,
      "outputs": []
    },
    {
      "cell_type": "markdown",
      "source": [
        "Given the input is pixles the decision tree is not informative to the human eye. I still left it in the report as it shows that the package is capable of visualizing the decision tree.\n",
        "\n",
        "Evaluating DT using a confusion matrix"
      ],
      "metadata": {
        "id": "xu13CblCYp41"
      }
    },
    {
      "cell_type": "markdown",
      "source": [
        "## 6.2 Prediction using the Decision Tree Classifier"
      ],
      "metadata": {
        "id": "NoWReQ4OpULt"
      }
    },
    {
      "cell_type": "code",
      "source": [
        "dt_predictions = tree_cls.predict(test_images_f)\n",
        "print(f'Decision Tree Classification Report \\n Decision Tree with a Depth of 13: \\n {classification_report(test_labels,dt_predictions)}')"
      ],
      "metadata": {
        "id": "NaTkgdXGYorn"
      },
      "execution_count": null,
      "outputs": []
    },
    {
      "cell_type": "code",
      "source": [
        "dt_confusion = confusion_matrix(test_labels, dt_predictions)\n",
        "sns.heatmap(dt_confusion, annot=True, fmt='d', cmap='Reds')"
      ],
      "metadata": {
        "id": "v7L_NX1-foVJ"
      },
      "execution_count": null,
      "outputs": []
    },
    {
      "cell_type": "code",
      "source": [
        "print(\"Accuracy:\", accuracy_score(test_labels, dt_predictions))"
      ],
      "metadata": {
        "id": "fGcncq2BqAnl"
      },
      "execution_count": null,
      "outputs": []
    },
    {
      "cell_type": "markdown",
      "source": [
        "From the confusion matrix we can see that class 1 the trousers, have the highest true positives, while the class 6, the shirt has the lowest. This can again be explained by the similarity between all long armed apparrel, which might even be confused by the human eye. The trousers and the T-shirt on the other hand, has short arms which is reflected in a more distinguished pixel distribution and a better TPR. The overall accuracy of the decision tree reached 81.38% "
      ],
      "metadata": {
        "id": "ZEcKPQ2Eglks"
      }
    },
    {
      "cell_type": "markdown",
      "source": [
        "# 7 Random Forest Classifier\n",
        "\n",
        "Random forest (RF) is a machine learning algorithm that combines the output of multible decision trees to reach a single result. Like DT it can solve both classification and regression problems.\n"
      ],
      "metadata": {
        "id": "4utXKOYjqwFD"
      }
    },
    {
      "cell_type": "code",
      "execution_count": null,
      "metadata": {
        "id": "fr4wkxzqeMyU"
      },
      "outputs": [],
      "source": [
        "# Random Forest\n",
        "start_rf = time.time()\n",
        "\n",
        "random_forest = RandomForestClassifier(criterion='entropy', max_depth=70, n_estimators=100)\n",
        "random_forest.fit(train_images_f, train_labels)\n",
        "\n",
        "end_rf = time.time()\n",
        "rf_time = end_rf-start_rf\n"
      ]
    },
    {
      "cell_type": "code",
      "source": [
        "rf_predictions = random_forest.predict(test_images_f)"
      ],
      "metadata": {
        "id": "CHNWyaD7hwN_"
      },
      "execution_count": null,
      "outputs": []
    },
    {
      "cell_type": "code",
      "source": [
        "rf_report = classification_report(test_labels, rf_predictions)\n",
        "print('Classification Report \\n Random Forest: ',rf_report)\n",
        "\n",
        "accuracy = accuracy_score(test_labels,rf_predictions)\n",
        "print(\"Accuracy: \",accuracy)"
      ],
      "metadata": {
        "id": "t10N7ioWiDz4"
      },
      "execution_count": null,
      "outputs": []
    },
    {
      "cell_type": "code",
      "source": [
        "rf_confusion = confusion_matrix(test_labels, rf_predictions)\n",
        "sns.heatmap(rf_confusion, annot=True, fmt=\"d\", cmap=\"Greens\")"
      ],
      "metadata": {
        "id": "8neT-f_5i_1u"
      },
      "execution_count": null,
      "outputs": []
    },
    {
      "cell_type": "markdown",
      "source": [
        "The random forest clasifier outperformed the decision tree by aproximately 6 percentage points with an accuracy of 87,6%. Yet again the shirt (class 6) has the lowest level of correct classifications. To see if this score can still be improved I will do a cross validation.\n",
        "\n",
        "# 7.1 Five-Fold Cross Validation on Random Forest Classifier"
      ],
      "metadata": {
        "id": "8W0votSyilLh"
      }
    },
    {
      "cell_type": "code",
      "source": [
        "X = np.vstack((test_images_f,train_images_f))\n",
        "y = np.concatenate((test_labels, train_labels))\n",
        "scores = cross_val_score(random_forest, X,y,cv=5, scoring='accuracy', verbose=3)\n",
        "print(np.mean(scores))"
      ],
      "metadata": {
        "id": "Dp76xVxylTxJ"
      },
      "execution_count": null,
      "outputs": []
    },
    {
      "cell_type": "markdown",
      "source": [
        "The accuracy improved from 87,6% to 88,4% after 5-fold cross validation."
      ],
      "metadata": {
        "id": "re5vJcNoqsF-"
      }
    },
    {
      "cell_type": "markdown",
      "source": [
        "# Comparing Run Time of the Different Implemented Classifyers"
      ],
      "metadata": {
        "id": "k6lHYCKOGFu6"
      }
    },
    {
      "cell_type": "code",
      "execution_count": null,
      "metadata": {
        "id": "RNI0A2lpxj8v"
      },
      "outputs": [],
      "source": [
        "print('NN Time\\t\\t{:0.2f} minute'.format(nn_time/60.0))\n",
        "print('CNN Time\\t\\t{:0.2f} minute'.format(cnn_time/60.0))\n",
        "print('CNN Time\\t\\t{:0.2f} minute'.format(cnn2_time/60.0))\n",
        "print('SVM Time\\t\\t{:0.2f} minute'.format(svm_time/60.0))\n",
        "print('SVM PCA \\t\\t{:0.2f} minute'.format(svm_pca_time/60.0))\n",
        "print('KNN bf Time\\t\\t{:0.2f} minute'.format(knn_bf_time/60.0))\n",
        "print('KNN kd Time \\t \\t{:0.2f} minute'.format(knn_time_kd/60.0))\n",
        "print('KNN bt Time \\t \\t{:0.2f} minute'.format(knn_time_bt/60.0))\n",
        "\n",
        "print('Decision Tree Time: \\t{:0.2f} minute'.format(dt_time/60.0))\n",
        "print('Random Forest Time: \\t{:0.2f} minute'.format(rf_time/60.0))\n",
        "print('\\n')"
      ]
    }
  ],
  "metadata": {
    "colab": {
      "collapsed_sections": [],
      "name": "Englander_AML_1_and_2.ipynb",
      "provenance": [],
      "toc_visible": true,
      "include_colab_link": true
    },
    "interpreter": {
      "hash": "aee8b7b246df8f9039afb4144a1f6fd8d2ca17a180786b69acc140d282b71a49"
    },
    "kernelspec": {
      "display_name": "Python 3.9.1 64-bit",
      "name": "python3"
    },
    "language_info": {
      "codemirror_mode": {
        "name": "ipython",
        "version": 3
      },
      "file_extension": ".py",
      "mimetype": "text/x-python",
      "name": "python",
      "nbconvert_exporter": "python",
      "pygments_lexer": "ipython3",
      "version": "3.9.1"
    },
    "accelerator": "GPU"
  },
  "nbformat": 4,
  "nbformat_minor": 0
}