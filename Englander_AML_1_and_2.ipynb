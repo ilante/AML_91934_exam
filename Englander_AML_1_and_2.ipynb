{
  "cells": [
    {
      "cell_type": "markdown",
      "metadata": {
        "id": "view-in-github",
        "colab_type": "text"
      },
      "source": [
        "<a href=\"https://colab.research.google.com/github/ilante/AML_91934_exam/blob/main/Englander_AML_1_and_2.ipynb\" target=\"_parent\"><img src=\"https://colab.research.google.com/assets/colab-badge.svg\" alt=\"Open In Colab\"/></a>"
      ]
    },
    {
      "cell_type": "markdown",
      "metadata": {
        "id": "JOa1ja7JAUzW"
      },
      "source": [
        "# My First Machine Learning Project\n",
        "\n",
        "## Fashion-MNIST \n",
        "\n",
        "### International Master of Bioinformatics, University of Bologna\n",
        "\n",
        "#### Immanuela Antigone Engländer\n",
        "\n",
        "## 1. Aim of this Project\n",
        "\n",
        "The goal of this project is to apply several Machine Learning approaches for the clasiffication of 10 different labels\n",
        "\n",
        "First, a *Exploratory Data Analysis* will be performed to summarize the main features of the dataset. Then, after processing the data, different Machine Learning (ML) methods will be compared in terms of accuracy score. The ML methods developed are:\n",
        "\n",
        "1. Artificial Neural Network (ANN)\n",
        "2. k-nearest neighbors (k-NN)\n",
        "3. Support Vector Machine (SVM)\n",
        "4. Decision Tree (DT)\n",
        "5. Random Forest (RF)\n",
        "6. Convolutional Neural Network (CNN)\n",
        "\n",
        "In particular, for each Machine Learning method two procedures are used for training and testing:\n",
        "\n",
        "1. train-test split;\n",
        "2. 5-fold cross-validation.\n",
        "\n",
        "The highest accuracy for both procedures is computed optimizing the values of some parameters such as seed (`random_state`) and number of folds (`5_splits`). Different statistical measures are computed for the best model obtained:\n",
        "\n",
        "- The **F1 score** can be interpreted as a harmonic mean of the precision and recall, where an F1 score reaches its best value at 1 and worst score at 0. The relative contribution of precision and recall to the F1 score are equal. The formula for the F1 score is:\n",
        "\n",
        "F1 = 2 * (precision * recall) / (precision + recall)\n",
        "In the multi-class and multi-label case, this is the average of the F1 score of each class with weighting depending on the average parameter.\n",
        "\n",
        "- **accuracy** is the proportion of correct predictions (both true positives and true negatives) among the total number of cases examined\n",
        "\n",
        "  $ACC = \\frac{TP + TN}{TP + TN + FP + FN}$\n",
        "\n",
        "- **recall** (also known as true positive rate or sensitivity) is the proportion of positives that are correctly identified;\n",
        "\n",
        "  $TPR = \\frac{TP}{TP + FN}$ \n",
        "\n",
        "- **precision** (also known as positive predicted value) is the fraction of correct positive prediction over the total of positive predictions;\n",
        "\n",
        "  $PPV = \\frac{TP}{TP + FP}$\n",
        "\n",
        "\n",
        "- **confusion matrix**: is a specific table storing the number of true positives (TP), true negative (TN), false positive (FP) and false negative (FN) that have been predicted by a supervised ML method\n",
        "\n",
        "\n",
        "The best method is selected according to the highest mean accuracy score between train-test split and *k*-fold cross-validation. At the end, Ensamble methods are developed to study if the final accuracy reached by single ML apporaches can be improved."
      ]
    },
    {
      "cell_type": "markdown",
      "metadata": {
        "id": "B_Cy8ytG4HaD"
      },
      "source": [
        "# 1.1 Background of the Data Set\n",
        "\n",
        "The dataset is taken from Zalando's article images with a considerable size of 60 000 samples and a test set of 10 000 samples. Each sample is a 28x28 grayscale image, associated with a label from 10 classes. The Fashion-MNIST serves as a variant of original MNIST dataset for benchmarking machine learning algorithms. It shares the same image size and structure of training and testing splits.\n",
        "\n",
        "I choose it to be sure that I don't have the same project as my fellow students.\n",
        "\n",
        "Here an example of how the data looks like\n",
        "\n",
        "![](https://raw.githubusercontent.com/ilante/AML_91934_exam/main/fashion-mnist-example-img.png)"
      ]
    },
    {
      "cell_type": "markdown",
      "metadata": {
        "id": "3jP0JLooRSSu"
      },
      "source": [
        "The authors of Fashion-MNIST argue that it may replace the original MNIST. So far the original has been used as a benchmark. But they argue that the original may be to simple. Reasons to choose Fashion-MNIST over the original are:\n",
        "\n",
        "* **MNIST is too easy**. Convolutional nets can achieve 99.7% on MNIST. Classic machine learning algorithms can also achieve 97% easily. Check out our side-by-side benchmark for Fashion-MNIST vs. MNIST, and read \"Most pairs of MNIST digits can be distinguished pretty well by just one pixel.\"\n",
        "\n",
        "* **MNIST is overused.** In [this April 2017 Twitter thread](https://twitter.com/goodfellow_ian/status/852591106655043584), Google Brain research scientist and deep learning expert Ian Goodfellow calls for people to move away from MNIST.\n",
        "* **MNIST can not represent modern CV tasks**, as noted in [this April 2017 Twitter thread](https://twitter.com/fchollet/status/852594987527045120), deep learning expert/Keras author François Chollet.\n",
        "\n",
        "\n",
        "## Reference of Fashion-MNIST:\n",
        "\n",
        "https://arxiv.org/abs/1708.07747 \n",
        "\n",
        "Here the abstract;\n",
        "\n",
        "![](https://raw.githubusercontent.com/ilante/AML_91934_exam/main/citation.png)"
      ]
    },
    {
      "cell_type": "markdown",
      "metadata": {
        "id": "4kBQpD_tT5vC"
      },
      "source": [
        "# 2. Importing the Required Libraries"
      ]
    },
    {
      "cell_type": "code",
      "execution_count": null,
      "metadata": {
        "id": "s-Z5VL-VPvhw"
      },
      "outputs": [],
      "source": [
        "# to disconnect the runtime\n",
        "# that way I can reconnect before going to bed and train a model on the full\n",
        "# 12hrs they allocate per session\n",
        "\n",
        "!kill -9 -1"
      ]
    },
    {
      "cell_type": "code",
      "execution_count": 1,
      "metadata": {
        "colab": {
          "base_uri": "https://localhost:8080/"
        },
        "id": "rm0l9kn64HaJ",
        "outputId": "d42778c6-2d7d-4751-f06b-f30b6394e357"
      },
      "outputs": [
        {
          "output_type": "stream",
          "name": "stdout",
          "text": [
            "Collecting ipython-autotime\n",
            "  Downloading ipython_autotime-0.3.1-py2.py3-none-any.whl (6.8 kB)\n",
            "Requirement already satisfied: ipython in /usr/local/lib/python3.7/dist-packages (from ipython-autotime) (5.5.0)\n",
            "Requirement already satisfied: setuptools>=18.5 in /usr/local/lib/python3.7/dist-packages (from ipython->ipython-autotime) (57.4.0)\n",
            "Requirement already satisfied: decorator in /usr/local/lib/python3.7/dist-packages (from ipython->ipython-autotime) (4.4.2)\n",
            "Requirement already satisfied: pickleshare in /usr/local/lib/python3.7/dist-packages (from ipython->ipython-autotime) (0.7.5)\n",
            "Requirement already satisfied: prompt-toolkit<2.0.0,>=1.0.4 in /usr/local/lib/python3.7/dist-packages (from ipython->ipython-autotime) (1.0.18)\n",
            "Requirement already satisfied: simplegeneric>0.8 in /usr/local/lib/python3.7/dist-packages (from ipython->ipython-autotime) (0.8.1)\n",
            "Requirement already satisfied: pexpect in /usr/local/lib/python3.7/dist-packages (from ipython->ipython-autotime) (4.8.0)\n",
            "Requirement already satisfied: traitlets>=4.2 in /usr/local/lib/python3.7/dist-packages (from ipython->ipython-autotime) (5.1.1)\n",
            "Requirement already satisfied: pygments in /usr/local/lib/python3.7/dist-packages (from ipython->ipython-autotime) (2.6.1)\n",
            "Requirement already satisfied: wcwidth in /usr/local/lib/python3.7/dist-packages (from prompt-toolkit<2.0.0,>=1.0.4->ipython->ipython-autotime) (0.2.5)\n",
            "Requirement already satisfied: six>=1.9.0 in /usr/local/lib/python3.7/dist-packages (from prompt-toolkit<2.0.0,>=1.0.4->ipython->ipython-autotime) (1.15.0)\n",
            "Requirement already satisfied: ptyprocess>=0.5 in /usr/local/lib/python3.7/dist-packages (from pexpect->ipython->ipython-autotime) (0.7.0)\n",
            "Installing collected packages: ipython-autotime\n",
            "Successfully installed ipython-autotime-0.3.1\n",
            "time: 2.45 ms (started: 2021-12-12 19:56:15 +00:00)\n"
          ]
        }
      ],
      "source": [
        "# # !pip install -q colabcode\n",
        "# # from colabcode import ColabCode\n",
        "\n",
        "# # Loading module to monitor time:\n",
        "!pip install ipython-autotime\n",
        "%load_ext autotime\n",
        "\n",
        "# to measure execution time\n",
        "import time"
      ]
    },
    {
      "cell_type": "markdown",
      "metadata": {
        "id": "rqu8VV4wUz3j"
      },
      "source": [
        "Libraries:"
      ]
    },
    {
      "cell_type": "code",
      "execution_count": 44,
      "metadata": {
        "colab": {
          "base_uri": "https://localhost:8080/"
        },
        "id": "b9j6gG5pTgEm",
        "outputId": "8764f282-8283-4086-9caf-1ba7e2e2d8e4"
      },
      "outputs": [
        {
          "output_type": "stream",
          "name": "stdout",
          "text": [
            "time: 18.4 ms (started: 2021-12-12 21:41:13 +00:00)\n"
          ]
        }
      ],
      "source": [
        "import numpy as np\n",
        "import pandas as pd\n",
        "import matplotlib.pyplot as plt\n",
        "import seaborn as sns\n",
        "\n",
        "# TensorFlow and tf.keras\n",
        "import tensorflow as tf\n",
        "from tensorflow import keras\n",
        "import sklearn\n",
        "\n",
        "# k-fold Cross Validation\n",
        "from sklearn.model_selection import cross_val_score\n",
        "# PCA\n",
        "from sklearn.decomposition import PCA\n",
        "# SVM\n",
        "from sklearn.svm import SVC\n",
        "from sklearn import metrics\n",
        "# Grid search for SVM: maybe make smaller test runs for gridsearch???\n",
        "from sklearn.model_selection import GridSearchCV\n",
        "from sklearn.model_selection import train_test_split \n",
        "# confusion matrix\n",
        "from sklearn.metrics import classification_report, confusion_matrix\n",
        "# KNN\n",
        "from sklearn.neighbors import KNeighborsClassifier\n",
        "# DT\n",
        "from sklearn import tree\n",
        "from sklearn.metrics import accuracy_score\n",
        "from sklearn.tree import DecisionTreeClassifier\n",
        "# RF\n",
        "from sklearn.ensemble import RandomForestClassifier"
      ]
    },
    {
      "cell_type": "markdown",
      "metadata": {
        "id": "fFLEOE4YVEs_"
      },
      "source": [
        "We import the Fashion-MNIST set from keras in an already vectorized numpy format:"
      ]
    },
    {
      "cell_type": "code",
      "execution_count": 3,
      "metadata": {
        "colab": {
          "base_uri": "https://localhost:8080/"
        },
        "id": "FWOEbvRrWBRf",
        "outputId": "7321c396-db1d-4f37-fc5c-4d36f3a6fde7"
      },
      "outputs": [
        {
          "output_type": "stream",
          "name": "stdout",
          "text": [
            "Downloading data from https://storage.googleapis.com/tensorflow/tf-keras-datasets/train-labels-idx1-ubyte.gz\n",
            "32768/29515 [=================================] - 0s 0us/step\n",
            "40960/29515 [=========================================] - 0s 0us/step\n",
            "Downloading data from https://storage.googleapis.com/tensorflow/tf-keras-datasets/train-images-idx3-ubyte.gz\n",
            "26427392/26421880 [==============================] - 0s 0us/step\n",
            "26435584/26421880 [==============================] - 0s 0us/step\n",
            "Downloading data from https://storage.googleapis.com/tensorflow/tf-keras-datasets/t10k-labels-idx1-ubyte.gz\n",
            "16384/5148 [===============================================================================================] - 0s 0us/step\n",
            "Downloading data from https://storage.googleapis.com/tensorflow/tf-keras-datasets/t10k-images-idx3-ubyte.gz\n",
            "4423680/4422102 [==============================] - 0s 0us/step\n",
            "4431872/4422102 [==============================] - 0s 0us/step\n",
            "time: 1 s (started: 2021-12-12 19:56:41 +00:00)\n"
          ]
        }
      ],
      "source": [
        "f_mnist = keras.datasets.fashion_mnist\n",
        "\n",
        "(train_images, train_labels), (test_images, test_labels) = f_mnist.load_data()\n",
        "class_names = ['T-shirt/top', 'Trouser', 'Pullover', 'Dress', 'Coat',\n",
        "               'Sandal', 'Shirt', 'Sneaker', 'Bag', 'Ankle boot']\n",
        "\n",
        "\n",
        "# REMEMBER TO run cell that changes the range from [0, 255] to [0, 1] \n",
        "# when rerunning"
      ]
    },
    {
      "cell_type": "code",
      "source": [
        "train_images.shape"
      ],
      "metadata": {
        "colab": {
          "base_uri": "https://localhost:8080/"
        },
        "id": "Ggbo_R5UH8BW",
        "outputId": "c16f381a-873c-49a0-f36c-ebff4f7525d1"
      },
      "execution_count": null,
      "outputs": [
        {
          "output_type": "execute_result",
          "data": {
            "text/plain": [
              "(60000, 28, 28)"
            ]
          },
          "metadata": {},
          "execution_count": 4
        },
        {
          "output_type": "stream",
          "name": "stdout",
          "text": [
            "time: 4.32 ms (started: 2021-12-11 20:12:12 +00:00)\n"
          ]
        }
      ]
    },
    {
      "cell_type": "code",
      "execution_count": null,
      "metadata": {
        "colab": {
          "base_uri": "https://localhost:8080/"
        },
        "id": "bM3bqRizCf1k",
        "outputId": "fdedbc8b-7c20-48c3-c98b-81e58d718412"
      },
      "outputs": [
        {
          "output_type": "stream",
          "name": "stdout",
          "text": [
            "<class 'numpy.ndarray'>\n",
            "<class 'numpy.ndarray'>\n",
            "time: 2.87 ms (started: 2021-12-11 19:31:49 +00:00)\n"
          ]
        }
      ],
      "source": [
        "print(type(train_images))\n",
        "print(type(train_labels))"
      ]
    },
    {
      "cell_type": "code",
      "execution_count": null,
      "metadata": {
        "colab": {
          "base_uri": "https://localhost:8080/"
        },
        "id": "oknPYRxoHMhs",
        "outputId": "dffe7afb-9028-44f0-a60b-c6d76eb2187f"
      },
      "outputs": [
        {
          "output_type": "stream",
          "name": "stdout",
          "text": [
            "<class 'list'>\n",
            "<class 'list'>\n",
            "time: 7.1 ms (started: 2021-12-11 19:31:53 +00:00)\n"
          ]
        }
      ],
      "source": [
        "copy_train_labels = train_labels\n",
        "train_labels_list = copy_train_labels.tolist()\n",
        "print(type(train_labels_list))\n",
        "\n",
        "copy_test_labels = test_labels\n",
        "test_labels_list = copy_test_labels.tolist()\n",
        "print(type(test_labels_list))"
      ]
    },
    {
      "cell_type": "code",
      "execution_count": null,
      "metadata": {
        "colab": {
          "base_uri": "https://localhost:8080/"
        },
        "id": "7HCYa0aKHvGV",
        "outputId": "768d5569-1fee-46d3-8cd1-d288971ca5a3"
      },
      "outputs": [
        {
          "name": "stdout",
          "output_type": "stream",
          "text": [
            "class 0   6000\n",
            "class 1   6000\n",
            "class 2   6000\n",
            "class 3   6000\n",
            "class 4   6000\n",
            "class 5   6000\n",
            "class 6   6000\n",
            "class 7   6000\n",
            "class 8   6000\n",
            "class 9   6000\n"
          ]
        }
      ],
      "source": [
        "# distribution of labels in training set\n",
        "for i in range(10):\n",
        "  print('class', i , ' ', train_labels_list.count(i))"
      ]
    },
    {
      "cell_type": "code",
      "execution_count": null,
      "metadata": {
        "colab": {
          "base_uri": "https://localhost:8080/"
        },
        "id": "5ixt4x06L10Z",
        "outputId": "79bd353a-7841-4c0e-daa3-6fe150dfc16c"
      },
      "outputs": [
        {
          "name": "stdout",
          "output_type": "stream",
          "text": [
            "class 0   1000\n",
            "class 1   1000\n",
            "class 2   1000\n",
            "class 3   1000\n",
            "class 4   1000\n",
            "class 5   1000\n",
            "class 6   1000\n",
            "class 7   1000\n",
            "class 8   1000\n",
            "class 9   1000\n"
          ]
        }
      ],
      "source": [
        "# distribution of labels in testing set\n",
        "for i in range(10):\n",
        "  print('class', i , ' ', test_labels_list.count(i))"
      ]
    },
    {
      "cell_type": "code",
      "execution_count": null,
      "metadata": {
        "colab": {
          "base_uri": "https://localhost:8080/"
        },
        "id": "HFhDBMLYplNR",
        "outputId": "c2517ca0-e9f4-49a6-82bc-e7d979e33aa8"
      },
      "outputs": [
        {
          "name": "stdout",
          "output_type": "stream",
          "text": [
            "0.  T-shirt/top\n",
            "1.  Trouser\n",
            "2.  Pullover\n",
            "3.  Dress\n",
            "4.  Coat\n",
            "5.  Sandal\n",
            "6.  Shirt\n",
            "7.  Sneaker\n",
            "8.  Bag\n",
            "9.  Ankle boot\n",
            "time: 1.69 ms (started: 2021-12-07 14:01:53 +00:00)\n"
          ]
        }
      ],
      "source": [
        "for i in range(len(class_names)):\n",
        "  print(str(i)+'. ', class_names[i])"
      ]
    },
    {
      "cell_type": "markdown",
      "metadata": {
        "id": "vvnr6MkzpV6j"
      },
      "source": [
        "The data set contains 10 different classes: \n",
        "\n",
        "1.  T-shirt/top\n",
        "1.  Trouser\n",
        "2.  Pullover\n",
        "3.  Dress\n",
        "4.  Coat\n",
        "5.  Sandal\n",
        "6.  Shirt\n",
        "7.  Sneaker\n",
        "8.  Bag\n",
        "9.  Ankle boot\n",
        "\n"
      ]
    },
    {
      "cell_type": "markdown",
      "metadata": {
        "id": "lQlO9zt2a4sr"
      },
      "source": [
        "# 2.1 Exploring the Data"
      ]
    },
    {
      "cell_type": "markdown",
      "metadata": {
        "id": "GIq7wMFcWhde"
      },
      "source": [
        "Lets see how many samples we got;"
      ]
    },
    {
      "cell_type": "code",
      "execution_count": null,
      "metadata": {
        "colab": {
          "base_uri": "https://localhost:8080/"
        },
        "id": "x5OUEGK4WXHp",
        "outputId": "0151fce5-fe54-4815-cee1-68b4f92a31d9"
      },
      "outputs": [
        {
          "name": "stdout",
          "output_type": "stream",
          "text": [
            "train_images:  (60000, 28, 28)\n",
            "n of train_labels:  60000\n",
            "\n",
            "\n",
            "test_images:  (10000, 28, 28)\n",
            "n labels in test_images:  10000\n",
            "time: 2.55 ms (started: 2021-12-07 14:01:53 +00:00)\n"
          ]
        }
      ],
      "source": [
        "# inspect train_images\n",
        "print('train_images: ', train_images.shape)\n",
        "# n of labels:\n",
        "print('n of train_labels: ', len(train_labels))\n",
        "print('\\n')\n",
        "# inspect test_images\n",
        "print('test_images: ', test_images.shape)\n",
        "# n of labels in test set\n",
        "print('n labels in test_images: ', len(test_labels))"
      ]
    },
    {
      "cell_type": "markdown",
      "metadata": {
        "id": "OKsOSAyuqQx0"
      },
      "source": [
        "# 2.2 Preprocessing and Reshaping the Data\n",
        "\n",
        "By inspecting an original image we can see that it is scaled in the range [0, 255] but we prefer to have a scaling from [0, 1] &rarr; thus we have to divide each pixel value by **255**.\n",
        "\n",
        "Below an image of a pullover item 707 from the training set.\n",
        "\n"
      ]
    },
    {
      "cell_type": "code",
      "execution_count": null,
      "metadata": {
        "colab": {
          "base_uri": "https://localhost:8080/",
          "height": 286
        },
        "id": "5fNnMrGqtrEO",
        "outputId": "718a7e42-005c-45e8-c342-0124b7f3fdfd"
      },
      "outputs": [
        {
          "data": {
            "image/png": "[encoded data removed]",
            "text/plain": [
              "<Figure size 432x288 with 2 Axes>"
            ]
          },
          "metadata": {},
          "output_type": "display_data"
        },
        {
          "name": "stdout",
          "output_type": "stream",
          "text": [
            "time: 364 ms (started: 2021-12-07 14:01:53 +00:00)\n"
          ]
        }
      ],
      "source": [
        "plt.figure()\n",
        "plt.imshow(train_images[707])\n",
        "plt.colorbar()\n",
        "plt.grid(False)"
      ]
    },
    {
      "cell_type": "markdown",
      "metadata": {
        "id": "2U3Iwl4IMb34"
      },
      "source": [
        "# !!!!!! Normalizing the data run everytime you restart!!!\n",
        "\n",
        "The images inside f_minst are black and white and you get a value between 0 and 255. Where black is 0.\n",
        "We convert **both** training AND testing set to scale from [0, 1]:"
      ]
    },
    {
      "cell_type": "code",
      "execution_count": 4,
      "metadata": {
        "colab": {
          "base_uri": "https://localhost:8080/"
        },
        "id": "ritAT69Dt7Ks",
        "outputId": "1f21f043-e925-46be-aa12-7ebb6c780195"
      },
      "outputs": [
        {
          "output_type": "stream",
          "name": "stdout",
          "text": [
            "time: 199 ms (started: 2021-12-12 19:57:25 +00:00)\n"
          ]
        }
      ],
      "source": [
        "train_images = train_images/255.0\n",
        "test_images = test_images/255.0"
      ]
    },
    {
      "cell_type": "markdown",
      "metadata": {
        "id": "nNevj32YXwhN"
      },
      "source": [
        "# 2.3 Example images from both training - and testing set:\n",
        "\n",
        "Here  9 examples from the training set:\n"
      ]
    },
    {
      "cell_type": "code",
      "execution_count": null,
      "metadata": {
        "colab": {
          "base_uri": "https://localhost:8080/",
          "height": 392
        },
        "id": "E64vTxHcYNPD",
        "outputId": "dfe582bc-f845-458c-a5a1-a70bae36a46a"
      },
      "outputs": [
        {
          "data": {
            "image/png": "[encoded data removed]",
            "text/plain": [
              "<Figure size 432x432 with 9 Axes>"
            ]
          },
          "metadata": {},
          "output_type": "display_data"
        },
        {
          "name": "stdout",
          "output_type": "stream",
          "text": [
            "time: 368 ms (started: 2021-12-07 14:01:54 +00:00)\n"
          ]
        }
      ],
      "source": [
        "plt.figure(figsize=(6,6))\n",
        "for i in range(9):\n",
        "  plt.subplot(3,3,i+1)\n",
        "  plt.xticks([])\n",
        "  plt.yticks([])\n",
        "  plt.grid(False)\n",
        "  plt.imshow(train_images[i], cmap=plt.cm.binary)\n",
        "  plt.xlabel(class_names[train_labels[i]])\n",
        "plt.show()"
      ]
    },
    {
      "cell_type": "markdown",
      "metadata": {
        "id": "TEhQQEL5ZtG_"
      },
      "source": [
        "Here nine sample images of the testing set:"
      ]
    },
    {
      "cell_type": "code",
      "execution_count": null,
      "metadata": {
        "colab": {
          "base_uri": "https://localhost:8080/",
          "height": 392
        },
        "id": "jtW0PvfZZcGh",
        "outputId": "a97f661a-331c-4f7e-c555-4c1f5851f25f"
      },
      "outputs": [
        {
          "data": {
            "image/png": "[encoded data removed]",
            "text/plain": [
              "<Figure size 432x432 with 9 Axes>"
            ]
          },
          "metadata": {},
          "output_type": "display_data"
        },
        {
          "name": "stdout",
          "output_type": "stream",
          "text": [
            "time: 335 ms (started: 2021-12-07 14:01:54 +00:00)\n"
          ]
        }
      ],
      "source": [
        "plt.figure(figsize=(6,6))\n",
        "for i in range(9):\n",
        "  plt.subplot(3,3,i+1)\n",
        "  plt.xticks([])\n",
        "  plt.yticks([])\n",
        "  plt.grid(False)\n",
        "  plt.imshow(test_images[i], cmap=plt.cm.binary)\n",
        "  plt.xlabel(class_names[test_labels[i]])\n",
        "plt.show()"
      ]
    },
    {
      "cell_type": "markdown",
      "metadata": {
        "id": "a51e_G8o4HaJ"
      },
      "source": [
        "## 2.4 Visualizing the distribution of classes within training and testing set:\n",
        "\n",
        "It is crucial to inspect the distribution of classes, as a skewed data set is prone to overfitting and not able to generate a model that is able to **generalize for unseen data**. We decided to do a count plot as it is a good way to visualize the distribution of classes. The first figure shows the distribution of the 9 classes of the training set, while the second figure shows the distribution of the testing set. We can appreciate that both sets are balanced.\n"
      ]
    },
    {
      "cell_type": "code",
      "execution_count": null,
      "metadata": {
        "colab": {
          "base_uri": "https://localhost:8080/",
          "height": 378
        },
        "id": "ZW0WUhSO-4MN",
        "outputId": "9742a39f-ff4c-49f2-b5c7-91ec65f75f6f"
      },
      "outputs": [
        {
          "name": "stderr",
          "output_type": "stream",
          "text": [
            "/usr/local/lib/python3.7/dist-packages/seaborn/_decorators.py:43: FutureWarning: Pass the following variable as a keyword arg: x. From version 0.12, the only valid positional argument will be `data`, and passing other arguments without an explicit keyword will result in an error or misinterpretation.\n",
            "  FutureWarning\n"
          ]
        },
        {
          "data": {
            "text/plain": [
              "[Text(0, 0.5, 'count'), Text(0.5, 0, 'classes')]"
            ]
          },
          "execution_count": 10,
          "metadata": {},
          "output_type": "execute_result"
        },
        {
          "data": {
            "image/png": "[encoded data removed]",
            "text/plain": [
              "<Figure size 432x288 with 1 Axes>"
            ]
          },
          "metadata": {},
          "output_type": "display_data"
        },
        {
          "name": "stdout",
          "output_type": "stream",
          "text": [
            "time: 239 ms (started: 2021-12-07 14:01:55 +00:00)\n"
          ]
        }
      ],
      "source": [
        "# Plotting dist. training set:\n",
        "count_plt = sns.countplot(train_labels,palette=\"rainbow\")\n",
        "count_plt.set(xlabel='classes', ylabel='count')"
      ]
    },
    {
      "cell_type": "code",
      "execution_count": null,
      "metadata": {
        "id": "vR2jsp0DCYlw"
      },
      "outputs": [],
      "source": [
        "get_count_per_class(np.argmax(y_val,axis=1))"
      ]
    },
    {
      "cell_type": "code",
      "execution_count": null,
      "metadata": {
        "colab": {
          "base_uri": "https://localhost:8080/",
          "height": 378
        },
        "id": "MDvmMSknbM-R",
        "outputId": "caa0d521-430c-487f-dc18-337600a8c171"
      },
      "outputs": [
        {
          "name": "stderr",
          "output_type": "stream",
          "text": [
            "/usr/local/lib/python3.7/dist-packages/seaborn/_decorators.py:43: FutureWarning: Pass the following variable as a keyword arg: x. From version 0.12, the only valid positional argument will be `data`, and passing other arguments without an explicit keyword will result in an error or misinterpretation.\n",
            "  FutureWarning\n"
          ]
        },
        {
          "data": {
            "text/plain": [
              "[Text(0, 0.5, 'count'), Text(0.5, 0, 'classes')]"
            ]
          },
          "execution_count": 11,
          "metadata": {},
          "output_type": "execute_result"
        },
        {
          "data": {
            "image/png": "[encoded data removed]",
            "text/plain": [
              "<Figure size 432x288 with 1 Axes>"
            ]
          },
          "metadata": {},
          "output_type": "display_data"
        },
        {
          "name": "stdout",
          "output_type": "stream",
          "text": [
            "time: 206 ms (started: 2021-12-07 14:01:55 +00:00)\n"
          ]
        }
      ],
      "source": [
        "# Plotting dist. testing set:\n",
        "count_plt = sns.countplot(test_labels,palette=\"colorblind\")\n",
        "count_plt.set(xlabel='classes', ylabel='count')"
      ]
    },
    {
      "cell_type": "code",
      "execution_count": 5,
      "metadata": {
        "colab": {
          "base_uri": "https://localhost:8080/",
          "height": 1000
        },
        "id": "XtzN9bnwpuLq",
        "outputId": "6892850a-57ce-469c-c031-bec073c801fa"
      },
      "outputs": [
        {
          "output_type": "display_data",
          "data": {
            "image/png": "[encoded data removed]",
            "text/plain": [
              "<Figure size 1296x1296 with 16 Axes>"
            ]
          },
          "metadata": {
            "needs_background": "light"
          }
        },
        {
          "output_type": "stream",
          "name": "stdout",
          "text": [
            "time: 10.1 s (started: 2021-12-12 19:58:33 +00:00)\n"
          ]
        }
      ],
      "source": [
        "plt.figure(figsize=(18,18))\n",
        "for i in range(16):\n",
        "  plt.subplot(4,4,i+1)\n",
        "  plt.hist(train_images[i])\n",
        "  plt.title(f'Pixel distribution of:  {class_names[train_labels[i]]}')\n",
        "plt.show()"
      ]
    },
    {
      "cell_type": "markdown",
      "metadata": {
        "id": "KCW8IeOBvkj2"
      },
      "source": [
        "# 3. Building a Model using Neural Networks\n",
        "\n",
        "Aka as Artificial Neural Networks (ANN) are a subeset of ML methods that are at the core of deep learning algorithms. Their structure was inspired by the biological neurons of the brain which coined their name Neural Networks (NN).\n",
        "\n",
        "NNs are made of a node layers that contain an input layer, one or more hidden layers and an output layer. Each artificial neuron connects to another and has an associated threashold and and associated weight.\n",
        "\n",
        "To build the NN we have to configure the layers of the model before compiling it.\n",
        "\n",
        "## 3.1 Setting up the Layers of the NN\n",
        "\n",
        "The layers are the basic building blocks of an NN and extract the representations from the given data. Most of deep learning consists of chaining together these layers. Layers as `tf.keras.layres.Dense` have apramenters that are learned during the training. \n",
        "\n",
        "For our training we will use the Rectified Linear Unit (ReLU). It is a simple calculation that returns the value provided as input directly, or the value 0.0 if the input is 0.0 **or less** [see](https://en.wikipedia.org/wiki/Rectifier_(neural_networks)).\n",
        "\n",
        "Here and image of the ReLU:\n",
        "\n",
        "![](https://s2.qwant.com/thumbr/474x351/f/e/354d8f54c966180968777154786e5562a78953d12002e5e24010e54e3cfcf1/th.jpg?u=https%3A%2F%2Ftse3.mm.bing.net%2Fth%3Fid%3DOIP.FZ3MiYnlLaNu6igVodW4LQHaFf%26pid%3DApi&q=0&b=1&p=0&a=0)\n",
        "\n"
      ]
    },
    {
      "cell_type": "markdown",
      "metadata": {
        "id": "vlUpmc3PGrwj"
      },
      "source": [
        "The first layer in my network `tf.keras.layers.Flatten` transforms the format of the images from a 2-dimensional array\n",
        "(of 28 * 28 = 748 pixles) to a one dimensional array holding 784 pixels\n",
        "This layer basically is 'unstacking' the rows of pixles in the image and lining them up.\n",
        "This layer does NOT have to learn any parameters; it only reformats the data."
      ]
    },
    {
      "cell_type": "code",
      "execution_count": null,
      "metadata": {
        "colab": {
          "base_uri": "https://localhost:8080/"
        },
        "id": "uSuhFHXtzrSZ",
        "outputId": "7f50d7f1-639a-469b-9885-f410cd9c6c13"
      },
      "outputs": [
        {
          "name": "stdout",
          "output_type": "stream",
          "text": [
            "time: 215 ms (started: 2021-12-07 14:02:05 +00:00)\n"
          ]
        }
      ],
      "source": [
        "model = tf.keras.Sequential([\n",
        "    tf.keras.layers.Flatten(input_shape=(28, 28)),\n",
        "    tf.keras.layers.Dense(128, activation='relu'),\n",
        "    tf.keras.layers.Dense(10)\n",
        "])\n"
      ]
    },
    {
      "cell_type": "code",
      "execution_count": null,
      "metadata": {
        "colab": {
          "base_uri": "https://localhost:8080/"
        },
        "id": "rwW-eXEVgxq9",
        "outputId": "59b269d4-14ce-4808-f3a2-3c2bfe4aa98d"
      },
      "outputs": [
        {
          "name": "stdout",
          "output_type": "stream",
          "text": [
            "Model: \"sequential\"\n",
            "_________________________________________________________________\n",
            " Layer (type)                Output Shape              Param #   \n",
            "=================================================================\n",
            " flatten (Flatten)           (None, 784)               0         \n",
            "                                                                 \n",
            " dense (Dense)               (None, 128)               100480    \n",
            "                                                                 \n",
            " dense_1 (Dense)             (None, 10)                1290      \n",
            "                                                                 \n",
            "=================================================================\n",
            "Total params: 101,770\n",
            "Trainable params: 101,770\n",
            "Non-trainable params: 0\n",
            "_________________________________________________________________\n",
            "time: 5.36 ms (started: 2021-12-07 15:29:16 +00:00)\n"
          ]
        }
      ],
      "source": [
        "model.summary()"
      ]
    },
    {
      "cell_type": "markdown",
      "metadata": {
        "id": "7E_osaJoHW2E"
      },
      "source": [
        "After flattening the pixels, the network is composed of a sequence of two `tf.keras.layers.Dense` layers. They are densely connected, or fully connected neural layers. The first layer has 128 neurons. The last layer returns a logits array of lenght 10. Each neuron will contain a score for the current image corresponding to the classes.\n",
        "\n",
        "## 3.2 Compiling the Model\n",
        "\n",
        "To get the model ready for training it needs some more settings. We add them during the model's **compile** step.\n",
        "\n",
        "* We need to set a **loss function** (aka error function). It measures how accurate the model is during the training. Obviously we want to minimize this function to minimize the error and 'steer' the model into the right direction.\n",
        "* We need an **optimizer** which defines how the model is updated based on the data that it is given and depending on the **loss function**. Here we use an optimizer that implements the Adam algorithm.\n",
        "* Metrics are used for monitoring training and testing steps. Here we use accuracy = the fraction of images that are correctly classified.\n",
        "\n"
      ]
    },
    {
      "cell_type": "code",
      "execution_count": null,
      "metadata": {
        "colab": {
          "base_uri": "https://localhost:8080/"
        },
        "id": "eAVdOS4NOZzI",
        "outputId": "9da21ea8-5052-4877-e7ae-ae2d97a591bc"
      },
      "outputs": [
        {
          "name": "stdout",
          "output_type": "stream",
          "text": [
            "time: 9.86 ms (started: 2021-12-07 14:02:05 +00:00)\n"
          ]
        }
      ],
      "source": [
        "model.compile(optimizer='adam',\n",
        "              loss=tf.keras.losses.SparseCategoricalCrossentropy(from_logits=True),\n",
        "              metrics=['accuracy'])\n"
      ]
    },
    {
      "cell_type": "markdown",
      "metadata": {
        "id": "vsQI8opbOi1V"
      },
      "source": [
        "## 3.3 Training the Model\n",
        "\n",
        "The training of a nn model requires 4 steps:\n",
        "\n",
        "1. Feeding the training data to the model. The training data here is held by the two arrays; `train_images` and `train_labels`\n",
        "\n",
        "2. The model has to learn the associated images and labels\n",
        "\n",
        "3. Testing the model by making predictions on an independent test set &rarr; `test_images` array\n",
        "\n",
        "4. Verifying that the predictions made actually match the labels by comparing the predicted lables to the `test_labels` array\n",
        "\n",
        "## 3.1.1 Feeding the Model\n",
        "\n",
        "To initiate training we call the `model.fit` method. The name is very descriptive. As it fits the model to the training data."
      ]
    },
    {
      "cell_type": "code",
      "execution_count": null,
      "metadata": {
        "colab": {
          "base_uri": "https://localhost:8080/"
        },
        "id": "goBfk9XJOftI",
        "outputId": "25302047-8c06-46c4-9a01-68f1a98f225d"
      },
      "outputs": [
        {
          "name": "stdout",
          "output_type": "stream",
          "text": [
            "Epoch 1/10\n",
            "1875/1875 [==============================] - 3s 2ms/step - loss: 0.5003 - accuracy: 0.8230\n",
            "Epoch 2/10\n",
            "1875/1875 [==============================] - 3s 1ms/step - loss: 0.3778 - accuracy: 0.8627\n",
            "Epoch 3/10\n",
            "1875/1875 [==============================] - 3s 2ms/step - loss: 0.3406 - accuracy: 0.8751\n",
            "Epoch 4/10\n",
            "1875/1875 [==============================] - 3s 1ms/step - loss: 0.3145 - accuracy: 0.8848\n",
            "Epoch 5/10\n",
            "1875/1875 [==============================] - 3s 1ms/step - loss: 0.2971 - accuracy: 0.8911\n",
            "Epoch 6/10\n",
            "1875/1875 [==============================] - 3s 2ms/step - loss: 0.2824 - accuracy: 0.8957\n",
            "Epoch 7/10\n",
            "1875/1875 [==============================] - 3s 2ms/step - loss: 0.2703 - accuracy: 0.8999\n",
            "Epoch 8/10\n",
            "1875/1875 [==============================] - 3s 1ms/step - loss: 0.2577 - accuracy: 0.9042\n",
            "Epoch 9/10\n",
            "1875/1875 [==============================] - 3s 2ms/step - loss: 0.2504 - accuracy: 0.9069\n",
            "Epoch 10/10\n",
            "1875/1875 [==============================] - 3s 1ms/step - loss: 0.2411 - accuracy: 0.9102\n"
          ]
        },
        {
          "data": {
            "text/plain": [
              "<keras.callbacks.History at 0x7f19012e5d10>"
            ]
          },
          "execution_count": 15,
          "metadata": {},
          "output_type": "execute_result"
        },
        {
          "name": "stdout",
          "output_type": "stream",
          "text": [
            "time: 29 s (started: 2021-12-07 14:02:05 +00:00)\n"
          ]
        }
      ],
      "source": [
        "model.fit(train_images, train_labels, epochs=10)"
      ]
    },
    {
      "cell_type": "markdown",
      "metadata": {
        "id": "cA1mZsekQUHi"
      },
      "source": [
        "We can see how the model trains and in the starndard output above we see accuracy in output for each epoch. Our model reaches an accuracy of ~ 0.91 = 91% of the images are correctly classified.\n",
        "\n",
        "## 3.1.2 Evaluating the Accuracy on our Testing set"
      ]
    },
    {
      "cell_type": "code",
      "execution_count": null,
      "metadata": {
        "colab": {
          "base_uri": "https://localhost:8080/"
        },
        "id": "SJQVF4ZTRQNU",
        "outputId": "c5b7470f-4536-4079-fca7-de887fbe33f9"
      },
      "outputs": [
        {
          "name": "stdout",
          "output_type": "stream",
          "text": [
            "313/313 - 0s - loss: 0.3437 - accuracy: 0.8819 - 253ms/epoch - 809us/step\n",
            "Test loos: 0.34367984533309937\n",
            "Test accuracy: 0.8819000124931335\n",
            "time: 349 ms (started: 2021-12-07 16:11:24 +00:00)\n"
          ]
        }
      ],
      "source": [
        "test_loss, test_acc = model.evaluate(test_images,  test_labels, verbose=2)\n",
        "\n",
        "print('Test loos: {}'.format(test_loss))\n",
        "print('Test accuracy: {}'.format(test_acc))"
      ]
    },
    {
      "cell_type": "markdown",
      "metadata": {
        "id": "rxiACiiLRaWJ"
      },
      "source": [
        "We can see that the accuracy was slightly lower with only ~ 89% of images correctly classified. The difference between the training and testing accuracy can be explained by *overfitting*. So we know that the model has 'memorized' the noise and details in the training dataset this leads to the slightly lower performance on the testing set (or any new unseen data).\n",
        "\n",
        "We can mitigate overfitting by:\n",
        "\n",
        "* Getting more training data\n",
        "* Reducing the capacity of the network\n",
        "* Adding weight regularization\n",
        "* Adding dropout\n",
        "* Data augmentation\n",
        "* Batch normalization\n",
        "\n",
        "Usually it is best to combine the above methods.\n",
        "\n",
        "As the goal for this project is to show several methods, we wil however continue with the model as is.\n",
        "\n",
        "\n",
        "## 3.1.3 Testing the Model by Making Predictions on an Independent Test Set \n",
        "\n",
        "The independent testing set is our `test_images` array. Logits is the vector of raw (non-normalized) predicitons that a classification model generates. It is then passed to a normalization function, in our case the `softmax` function. The `softmax` function generates a vector of normalized probabilities with one value for each possible class. These probabilities are easy to interpret."
      ]
    },
    {
      "cell_type": "code",
      "execution_count": null,
      "metadata": {
        "colab": {
          "base_uri": "https://localhost:8080/"
        },
        "id": "892FsJ_TUXTU",
        "outputId": "5f5d3b00-6a54-4162-c563-af0b79340c8e"
      },
      "outputs": [
        {
          "name": "stdout",
          "output_type": "stream",
          "text": [
            "time: 958 ms (started: 2021-12-07 14:02:35 +00:00)\n"
          ]
        }
      ],
      "source": [
        "probability_model = tf.keras.Sequential([model, tf.keras.layers.Softmax()])\n",
        "predictions = probability_model.predict(test_images)\n"
      ]
    },
    {
      "cell_type": "markdown",
      "metadata": {
        "id": "Y3B217B1UlWr"
      },
      "source": [
        "Now the model has predicted the label of **each** image in the **testing_set**. Below we are inspecting the first prediction:"
      ]
    },
    {
      "cell_type": "code",
      "execution_count": null,
      "metadata": {
        "colab": {
          "base_uri": "https://localhost:8080/"
        },
        "id": "r1O9pDAkU02s",
        "outputId": "8b621c24-7632-4ffd-9dbe-92b93def19f4"
      },
      "outputs": [
        {
          "name": "stdout",
          "output_type": "stream",
          "text": [
            "[3.1837157e-09 3.2106282e-08 4.2215670e-10 3.5235679e-09 5.8144805e-09\n",
            " 7.0657006e-05 1.4703160e-09 2.0182377e-03 9.4068916e-08 9.9791092e-01]\n",
            "10\n",
            "time: 3.31 ms (started: 2021-12-07 14:02:36 +00:00)\n"
          ]
        }
      ],
      "source": [
        "print(predictions[0])\n",
        "print(len(predictions[0]))"
      ]
    },
    {
      "cell_type": "markdown",
      "metadata": {
        "id": "AfE25mQhU_hu"
      },
      "source": [
        "We can appreciate that each prediciton is an array of 10 numbers, which represent the models confidence that the image corresponds to each of the 10 different classes (labels of clothing). The label with the highest confidence is the class called for the item."
      ]
    },
    {
      "cell_type": "code",
      "execution_count": null,
      "metadata": {
        "colab": {
          "base_uri": "https://localhost:8080/"
        },
        "id": "gfex0AfhVdWi",
        "outputId": "dd8f23aa-46e4-471d-a0ae-d2767a0a2c58"
      },
      "outputs": [
        {
          "name": "stdout",
          "output_type": "stream",
          "text": [
            "9\n",
            "\n",
            "\n",
            "time: 3.08 ms (started: 2021-12-07 14:02:36 +00:00)\n"
          ]
        }
      ],
      "source": [
        "print(np.argmax(predictions[0]))\n",
        "\n",
        "print('\\n') # forcing autotime to print into next line\n"
      ]
    },
    {
      "cell_type": "code",
      "execution_count": null,
      "metadata": {
        "colab": {
          "base_uri": "https://localhost:8080/",
          "height": 36
        },
        "id": "Ku9vitjjWiyX",
        "outputId": "25355c53-6278-4bec-89e1-13be5c5acc38"
      },
      "outputs": [
        {
          "data": {
            "application/vnd.google.colaboratory.intrinsic+json": {
              "type": "string"
            },
            "text/plain": [
              "'Ankle boot'"
            ]
          },
          "execution_count": 20,
          "metadata": {},
          "output_type": "execute_result"
        },
        {
          "name": "stdout",
          "output_type": "stream",
          "text": [
            "time: 3.24 ms (started: 2021-12-07 14:02:36 +00:00)\n"
          ]
        }
      ],
      "source": [
        "class_names[9]"
      ]
    },
    {
      "cell_type": "markdown",
      "metadata": {
        "id": "tDLjDo-rVsB-"
      },
      "source": [
        "We now know that the model is most confident that the class of that the image is an ankle boot. To find out weather this call was correct we can examine the `test_labels`:"
      ]
    },
    {
      "cell_type": "code",
      "execution_count": null,
      "metadata": {
        "colab": {
          "base_uri": "https://localhost:8080/"
        },
        "id": "TD1MSVPuW7Mb",
        "outputId": "7ab35690-0ebe-45fb-8146-4d24b609b0ba"
      },
      "outputs": [
        {
          "data": {
            "text/plain": [
              "9"
            ]
          },
          "execution_count": 21,
          "metadata": {},
          "output_type": "execute_result"
        },
        {
          "name": "stdout",
          "output_type": "stream",
          "text": [
            "time: 3.55 ms (started: 2021-12-07 14:02:36 +00:00)\n"
          ]
        }
      ],
      "source": [
        "test_labels[0] # dunno why time module is printed right after 9"
      ]
    },
    {
      "cell_type": "markdown",
      "metadata": {
        "id": "paYUFO45X-c0"
      },
      "source": [
        "## 3.1.4 Verifying predictions\n",
        "\n",
        "First we write functions to visualize the full set of 10 class predictions.\n",
        "\n",
        "Then we make predictions about some images using the trained model.\n",
        "\n"
      ]
    },
    {
      "cell_type": "code",
      "execution_count": null,
      "metadata": {
        "colab": {
          "base_uri": "https://localhost:8080/"
        },
        "id": "72EGvwkeXS1M",
        "outputId": "45bb8239-9ffd-48b1-9cc5-3aa4da2731c0"
      },
      "outputs": [
        {
          "name": "stdout",
          "output_type": "stream",
          "text": [
            "time: 18 ms (started: 2021-12-07 14:02:36 +00:00)\n"
          ]
        }
      ],
      "source": [
        "def plot_image(i, predictions_array, true_label, img):\n",
        "  true_label, img = true_label[i], img[i]\n",
        "  plt.grid(False)\n",
        "  plt.xticks([])\n",
        "  plt.yticks([])\n",
        "\n",
        "  plt.imshow(img, cmap=plt.cm.binary)\n",
        "\n",
        "  predicted_label = np.argmax(predictions_array)\n",
        "  if predicted_label == true_label:\n",
        "    color = 'green'\n",
        "  else:\n",
        "    color = 'red'\n",
        "\n",
        "  plt.xlabel(\"{} {:2.0f}% ({})\".format(class_names[predicted_label],\n",
        "                                100*np.max(predictions_array),\n",
        "                                class_names[true_label]),\n",
        "                                color=color)\n",
        "\n",
        "def plot_value_array(i, predictions_array, true_label):\n",
        "  true_label = true_label[i]\n",
        "  plt.grid(False)\n",
        "  plt.xticks(range(10))\n",
        "  plt.yticks([])\n",
        "  thisplot = plt.bar(range(10), predictions_array, color=\"#777777\")\n",
        "  plt.ylim([0, 1])\n",
        "  predicted_label = np.argmax(predictions_array)\n",
        "\n",
        "  thisplot[predicted_label].set_color('red')\n",
        "  thisplot[true_label].set_color('green')\n"
      ]
    },
    {
      "cell_type": "markdown",
      "metadata": {
        "id": "AheIykEHYruk"
      },
      "source": [
        "As you can see in the function above: correctly classified images are labelled green while wrongly classified ones are red."
      ]
    },
    {
      "cell_type": "code",
      "execution_count": null,
      "metadata": {
        "colab": {
          "base_uri": "https://localhost:8080/",
          "height": 231
        },
        "id": "NPY3_qmvY40a",
        "outputId": "9bd4ae56-6759-4611-f9cd-f28836482609"
      },
      "outputs": [
        {
          "data": {
            "image/png": "[encoded data removed]",
            "text/plain": [
              "<Figure size 432x216 with 2 Axes>"
            ]
          },
          "metadata": {},
          "output_type": "display_data"
        },
        {
          "name": "stdout",
          "output_type": "stream",
          "text": [
            "time: 169 ms (started: 2021-12-07 14:02:36 +00:00)\n"
          ]
        }
      ],
      "source": [
        "i = 0\n",
        "plt.figure(figsize=(6,3))\n",
        "plt.subplot(1,2,1)\n",
        "plot_image(i, predictions[i], test_labels, test_images)\n",
        "plt.subplot(1,2,2)\n",
        "plot_value_array(i, predictions[i],  test_labels)\n",
        "plt.show()\n"
      ]
    },
    {
      "cell_type": "code",
      "execution_count": null,
      "metadata": {
        "colab": {
          "base_uri": "https://localhost:8080/",
          "height": 231
        },
        "id": "y0aumHyTZGum",
        "outputId": "e3cc35ff-eea9-40af-fc8f-912d79915e90"
      },
      "outputs": [
        {
          "data": {
            "image/png": "[encoded data removed]",
            "text/plain": [
              "<Figure size 432x216 with 2 Axes>"
            ]
          },
          "metadata": {},
          "output_type": "display_data"
        },
        {
          "name": "stdout",
          "output_type": "stream",
          "text": [
            "time: 183 ms (started: 2021-12-07 14:02:36 +00:00)\n"
          ]
        }
      ],
      "source": [
        "i = 113\n",
        "plt.figure(figsize=(6,3))\n",
        "plt.subplot(1,2,1)\n",
        "plot_image(i, predictions[i], test_labels, test_images)\n",
        "plt.subplot(1,2,2)\n",
        "plot_value_array(i, predictions[i],  test_labels)\n",
        "plt.show()\n"
      ]
    },
    {
      "cell_type": "code",
      "execution_count": null,
      "metadata": {
        "colab": {
          "base_uri": "https://localhost:8080/",
          "height": 231
        },
        "id": "fpUf5RqYZNjm",
        "outputId": "a7cf2bd1-dd56-446b-9252-85ae2a12c0d0"
      },
      "outputs": [
        {
          "data": {
            "image/png": "[encoded data removed]",
            "text/plain": [
              "<Figure size 432x216 with 2 Axes>"
            ]
          },
          "metadata": {},
          "output_type": "display_data"
        },
        {
          "name": "stdout",
          "output_type": "stream",
          "text": [
            "time: 176 ms (started: 2021-12-07 14:02:36 +00:00)\n"
          ]
        }
      ],
      "source": [
        "i = 12\n",
        "plt.figure(figsize=(6,3))\n",
        "plt.subplot(1,2,1)\n",
        "plot_image(i, predictions[i], test_labels, test_images)\n",
        "plt.subplot(1,2,2)\n",
        "plot_value_array(i, predictions[i],  test_labels)\n",
        "plt.show()\n"
      ]
    },
    {
      "cell_type": "markdown",
      "metadata": {
        "id": "TIyDclieZdBm"
      },
      "source": [
        "Below we are plotting several images including their predictions in a grid: We can see that the model can be wrong (red) even if it is very confident."
      ]
    },
    {
      "cell_type": "code",
      "execution_count": null,
      "metadata": {
        "colab": {
          "base_uri": "https://localhost:8080/",
          "height": 704
        },
        "id": "8NhRfQBEZplL",
        "outputId": "ce4d7033-0957-4ed2-ce0a-847e6556c6bb"
      },
      "outputs": [
        {
          "data": {
            "image/png": "[encoded data removed]",
            "text/plain": [
              "<Figure size 1152x864 with 48 Axes>"
            ]
          },
          "metadata": {},
          "output_type": "display_data"
        },
        {
          "name": "stdout",
          "output_type": "stream",
          "text": [
            "time: 4.68 s (started: 2021-12-07 14:02:36 +00:00)\n"
          ]
        }
      ],
      "source": [
        "# Plot the first X test images, their predicted labels, and the true labels.\n",
        "# Color correct predictions in blue and incorrect predictions in red.\n",
        "num_rows = 6\n",
        "num_cols = 4\n",
        "num_images = num_rows*num_cols\n",
        "plt.figure(figsize=(2*2*num_cols, 2*num_rows))\n",
        "for i in range(num_images):\n",
        "  plt.subplot(num_rows, 2*num_cols, 2*i+1)\n",
        "  plot_image(i, predictions[i], test_labels, test_images)\n",
        "  plt.subplot(num_rows, 2*num_cols, 2*i+2)\n",
        "  plot_value_array(i, predictions[i], test_labels)\n",
        "plt.tight_layout()\n",
        "plt.show()\n"
      ]
    },
    {
      "cell_type": "markdown",
      "metadata": {
        "id": "Z9YXykw6Tz7a"
      },
      "source": [
        "# NN CONFUSION"
      ]
    },
    {
      "cell_type": "code",
      "execution_count": null,
      "metadata": {
        "colab": {
          "base_uri": "https://localhost:8080/"
        },
        "id": "9BcoRP3HkeJB",
        "outputId": "c195de54-353a-4b82-cacd-cadc302c7ae3"
      },
      "outputs": [
        {
          "name": "stdout",
          "output_type": "stream",
          "text": [
            "[[853   1  21  48   6   2  60   0   9   0]\n",
            " [  0 972   0  22   3   0   2   0   1   0]\n",
            " [ 13   1 841   6  83   1  54   0   1   0]\n",
            " [ 18   2  13 882  59   0  21   0   5   0]\n",
            " [  0   1 122  14 811   0  49   0   3   0]\n",
            " [  0   0   0   1   0 940   0  30   0  29]\n",
            " [143   0 106  42  69   0 631   0   9   0]\n",
            " [  0   0   0   0   0   7   0 926   0  67]\n",
            " [  3   0   5   2   3   2   2   3 980   0]\n",
            " [  0   0   0   0   0   6   1  10   0 983]]\n",
            "time: 5.78 ms (started: 2021-12-07 14:24:32 +00:00)\n"
          ]
        }
      ],
      "source": [
        "# predicted = model1.predict(X_test) \n",
        "test_predicted = np.argmax(predictions, axis=1) #predictions\n",
        "# generating confusion matrix using the test set labels and the predictions of the test set:\n",
        "nn_confusion = confusion_matrix(test_labels, test_predicted)\n",
        "print(confusion)"
      ]
    },
    {
      "cell_type": "code",
      "execution_count": null,
      "metadata": {
        "colab": {
          "base_uri": "https://localhost:8080/",
          "height": 340
        },
        "id": "Kh8A4ZnPSTZT",
        "outputId": "43db85f4-ab2d-462a-e32d-8301ea281dd5"
      },
      "outputs": [
        {
          "data": {
            "image/png": "[encoded data removed]",
            "text/plain": [
              "<Figure size 504x360 with 2 Axes>"
            ]
          },
          "metadata": {},
          "output_type": "display_data"
        },
        {
          "name": "stdout",
          "output_type": "stream",
          "text": [
            "time: 479 ms (started: 2021-12-07 14:44:41 +00:00)\n"
          ]
        }
      ],
      "source": [
        "f,ax = plt.subplots(figsize=(7,5))\n",
        "sns.heatmap(confusion, annot=True, cmap=\"BuPu\", fmt='',ax=ax)\n",
        "plt.show()"
      ]
    },
    {
      "cell_type": "code",
      "execution_count": null,
      "metadata": {
        "colab": {
          "base_uri": "https://localhost:8080/"
        },
        "id": "rXJKGH4WsFIr",
        "outputId": "3ce0e426-5efd-4b9f-debf-dd81f936c54f"
      },
      "outputs": [
        {
          "name": "stdout",
          "output_type": "stream",
          "text": [
            "<class 'list'>\n",
            "T-shirt/top, Trouser, Pullover, Dress, Coat, Sandal, Shirt, Sneaker, Bag, Ankle boot, time: 4.99 ms (started: 2021-12-07 16:42:56 +00:00)\n"
          ]
        }
      ],
      "source": [
        "print(type(class_names))\n",
        "for i in class_names:\n",
        "  print(i, end=\", \")"
      ]
    },
    {
      "cell_type": "code",
      "execution_count": null,
      "metadata": {
        "colab": {
          "base_uri": "https://localhost:8080/"
        },
        "id": "sOp6WUearPME",
        "outputId": "05e5a0dd-59f3-459c-d6ed-c73f6e18face"
      },
      "outputs": [
        {
          "name": "stdout",
          "output_type": "stream",
          "text": [
            "<class 'numpy.ndarray'>\n",
            "853 T-shirt/top\n",
            "972 Trouser\n",
            "841 Pullover\n",
            "882 Dress\n",
            "811 Coat\n",
            "940 Sandal\n",
            "631 Shirt\n",
            "926 Sneaker\n",
            "980 Bag\n",
            "983 Ankle boot\n",
            "\n",
            "\n",
            "True positives: \n",
            "[853, 972, 841, 882, 811, 940, 631, 926, 980, 983] \n",
            "\n",
            "True positives sorted: \n",
            "[631, 811, 841, 853, 882, 926, 940, 972, 980, 983] \n",
            "\n",
            "time: 5.95 ms (started: 2021-12-07 16:58:08 +00:00)\n"
          ]
        }
      ],
      "source": [
        "tp_list = [] # generating list of true positives\n",
        "for i in range(len(confusion)):\n",
        "  print(confusion[i][i], class_names[i])\n",
        "  tp_list.append(confusion[i][i])\n",
        "\n",
        "print('\\n')\n",
        "print('True positives: ')\n",
        "print(tp_list, '\\n')\n",
        "tp_list.sort()\n",
        "print('True positives sorted: ')\n",
        "print(tp_list, '\\n')"
      ]
    },
    {
      "cell_type": "markdown",
      "metadata": {
        "id": "cNAcTNBfq3EX"
      },
      "source": [
        "# Discussing the differences in true positives\n",
        "\n",
        "Looking at the diagonal in the heatmap above we can see all true positives (TP). That is, the predicted class is in congruence with the label of the class.\n",
        "\n",
        "I have extracted all TP into a list and sorted them from smallest to largest. As outlined in data exploration the classes of the **testing set** were completely balanced thus we can draw direct conclusions.\n",
        "\n",
        "Labels sorted from least TP to highest TP value:\n",
        "\n",
        "1. Shirt 631 \n",
        "2. Coat 811\n",
        "3. Pullover 841\n",
        "4. T-Shirt/top 853\n",
        "5. Dress 882\n",
        "6. Sneaker 926\n",
        "7. Sandal 940\n",
        "8. Trouser 972\n",
        "9. Bag 980\n",
        "10. Ankle boot 983\n",
        "\n",
        "The first three might have had these lower scores given their similar pixle distribution. It is evident to the human eye that shirts coats and pullovers all have the same shape. While the difference in shape between sandals, ankle boots and sneakers is more pronounced and thus might lead to a pixel profile that is more distinguishable."
      ]
    },
    {
      "cell_type": "markdown",
      "metadata": {
        "id": "--LRFAoUaqaZ"
      },
      "source": [
        "# SVM"
      ]
    },
    {
      "cell_type": "markdown",
      "source": [
        "# Concattenate for full run\n",
        "\n",
        "# Flatten"
      ],
      "metadata": {
        "id": "aFvzLkzuCZ2A"
      }
    },
    {
      "cell_type": "code",
      "execution_count": 6,
      "metadata": {
        "colab": {
          "base_uri": "https://localhost:8080/"
        },
        "id": "vbhTpLPN2d8h",
        "outputId": "46f71665-af8b-4aaf-fb62-377e0ad3ae8a"
      },
      "outputs": [
        {
          "output_type": "stream",
          "name": "stdout",
          "text": [
            "(60000, 784)\n",
            "(10000, 784)\n",
            "time: 225 ms (started: 2021-12-12 20:01:41 +00:00)\n"
          ]
        }
      ],
      "source": [
        "# Flatten both test and train arrays\n",
        "train_images_f = train_images.flatten().reshape(60000,784)\n",
        "test_images_f = test_images.flatten().reshape(10000,784)\n",
        "print(train_images_f.shape)\n",
        "print(test_images_f.shape)"
      ]
    },
    {
      "cell_type": "markdown",
      "metadata": {
        "id": "20WiEsfV4RSJ"
      },
      "source": [
        "# SVM Grid Search 5-fold Cross Validation on Reduced Set\n",
        "\n",
        "To reduce computational time of the grid search with 5-fold corss validation I only the training set (as imported from `tf.keras`). \n",
        "\n",
        "That means that for the train test split I will do the oposite of what is usually done. I will use the **smaller portion** for **training** as it is more computationally intensive than testing.\n",
        "\n",
        "I will use 10% of the 60 000 samples for training while I will use the bulk of the samples for (90%) for testing. I chose this as I wanted to speed up the step of the grid search. From the grid search we can find the best parameters. I will use them to train a model using the entire input and testing on the corresponding testing set.\n",
        "\n",
        "Once the best parameters are found, I will build a model using the **original train test splits** as imported from `tf.keras` and do a final test of performance. This will be done by again using the `train_test_split` function but this time on the entire data set. The model will built with the usual \n",
        "\n",
        "```\n",
        "# train the model on train set\n",
        "model = SVC()\n",
        "model.fit(X_train, y_train)\n",
        "\n",
        "# test model on test set and print prediction results\n",
        "predictions = model.predict(X_test)\n",
        "print(classification_report(y_test, predictions))\n",
        "```\n",
        "\n",
        "[A user's guide to support vector machines, Asa Ben-Hur, Jason Weston](https://pubmed.ncbi.nlm.nih.gov/20221922/)"
      ]
    },
    {
      "cell_type": "markdown",
      "metadata": {
        "id": "pqzeVVrH0OGS"
      },
      "source": [
        "From the documentation: https://scikit-learn.org/stable/modules/generated/sklearn.svm.SVC.html \n",
        "\n",
        ">The implementation is based on **libsvm**. The fit **time scales at least quadratically** with the number of samples and may be **impractical beyond tens** of thousands of samples. For large datasets consider using LinearSVC or SGDClassifier instead, possibly after a Nystroem transformer."
      ]
    },
    {
      "cell_type": "code",
      "execution_count": null,
      "metadata": {
        "colab": {
          "base_uri": "https://localhost:8080/"
        },
        "id": "KV65owia35WU",
        "outputId": "9dbc013d-4ad4-432b-dd5d-19df995c2977"
      },
      "outputs": [
        {
          "name": "stdout",
          "output_type": "stream",
          "text": [
            "Fitting 5 folds for each of 25 candidates, totalling 125 fits\n",
            "[CV 1/5] END ......C=0.001, gamma=1, kernel=rbf;, score=0.102 total time=  15.0s\n",
            "[CV 2/5] END ......C=0.001, gamma=1, kernel=rbf;, score=0.102 total time=  19.8s\n",
            "[CV 3/5] END ......C=0.001, gamma=1, kernel=rbf;, score=0.102 total time=  20.0s\n",
            "[CV 4/5] END ......C=0.001, gamma=1, kernel=rbf;, score=0.102 total time=  21.8s\n",
            "[CV 5/5] END ......C=0.001, gamma=1, kernel=rbf;, score=0.102 total time=  20.5s\n",
            "[CV 1/5] END ....C=0.001, gamma=0.1, kernel=rbf;, score=0.102 total time=  15.6s\n",
            "[CV 2/5] END ....C=0.001, gamma=0.1, kernel=rbf;, score=0.102 total time=  14.9s\n",
            "[CV 3/5] END ....C=0.001, gamma=0.1, kernel=rbf;, score=0.102 total time=  15.0s\n",
            "[CV 4/5] END ....C=0.001, gamma=0.1, kernel=rbf;, score=0.102 total time=  14.9s\n",
            "[CV 5/5] END ....C=0.001, gamma=0.1, kernel=rbf;, score=0.102 total time=  17.3s\n",
            "[CV 1/5] END ...C=0.001, gamma=0.01, kernel=rbf;, score=0.102 total time=  20.4s\n",
            "[CV 2/5] END ...C=0.001, gamma=0.01, kernel=rbf;, score=0.102 total time=  20.6s\n",
            "[CV 3/5] END ...C=0.001, gamma=0.01, kernel=rbf;, score=0.102 total time=  22.4s\n",
            "[CV 4/5] END ...C=0.001, gamma=0.01, kernel=rbf;, score=0.102 total time=  15.5s\n",
            "[CV 5/5] END ...C=0.001, gamma=0.01, kernel=rbf;, score=0.102 total time=  14.9s\n",
            "[CV 1/5] END ..C=0.001, gamma=0.001, kernel=rbf;, score=0.102 total time=  14.9s\n",
            "[CV 2/5] END ..C=0.001, gamma=0.001, kernel=rbf;, score=0.102 total time=  14.9s\n",
            "[CV 3/5] END ..C=0.001, gamma=0.001, kernel=rbf;, score=0.102 total time=  14.9s\n",
            "[CV 4/5] END ..C=0.001, gamma=0.001, kernel=rbf;, score=0.102 total time=  19.5s\n",
            "[CV 5/5] END ..C=0.001, gamma=0.001, kernel=rbf;, score=0.102 total time=  20.9s\n",
            "[CV 1/5] END .C=0.001, gamma=0.0001, kernel=rbf;, score=0.102 total time=  24.7s\n",
            "[CV 2/5] END .C=0.001, gamma=0.0001, kernel=rbf;, score=0.102 total time=  18.9s\n",
            "[CV 3/5] END .C=0.001, gamma=0.0001, kernel=rbf;, score=0.102 total time=  16.2s\n",
            "[CV 4/5] END .C=0.001, gamma=0.0001, kernel=rbf;, score=0.102 total time=  16.1s\n",
            "[CV 5/5] END .C=0.001, gamma=0.0001, kernel=rbf;, score=0.102 total time=  16.2s\n",
            "[CV 1/5] END .......C=0.01, gamma=1, kernel=rbf;, score=0.102 total time=  20.6s\n",
            "[CV 2/5] END .......C=0.01, gamma=1, kernel=rbf;, score=0.102 total time=  19.7s\n",
            "[CV 3/5] END .......C=0.01, gamma=1, kernel=rbf;, score=0.102 total time=  19.7s\n",
            "[CV 4/5] END .......C=0.01, gamma=1, kernel=rbf;, score=0.102 total time=  19.8s\n",
            "[CV 5/5] END .......C=0.01, gamma=1, kernel=rbf;, score=0.102 total time=  15.7s\n",
            "[CV 1/5] END .....C=0.01, gamma=0.1, kernel=rbf;, score=0.102 total time=  15.0s\n",
            "[CV 2/5] END .....C=0.01, gamma=0.1, kernel=rbf;, score=0.102 total time=  15.1s\n",
            "[CV 3/5] END .....C=0.01, gamma=0.1, kernel=rbf;, score=0.102 total time=  15.0s\n",
            "[CV 4/5] END .....C=0.01, gamma=0.1, kernel=rbf;, score=0.102 total time=  16.0s\n",
            "[CV 5/5] END .....C=0.01, gamma=0.1, kernel=rbf;, score=0.102 total time=  20.4s\n",
            "[CV 1/5] END ....C=0.01, gamma=0.01, kernel=rbf;, score=0.102 total time=  21.3s\n",
            "[CV 2/5] END ....C=0.01, gamma=0.01, kernel=rbf;, score=0.102 total time=  21.3s\n",
            "[CV 3/5] END ....C=0.01, gamma=0.01, kernel=rbf;, score=0.102 total time=  17.4s\n",
            "[CV 4/5] END ....C=0.01, gamma=0.01, kernel=rbf;, score=0.102 total time=  15.3s\n",
            "[CV 5/5] END ....C=0.01, gamma=0.01, kernel=rbf;, score=0.102 total time=  15.0s\n",
            "[CV 1/5] END ...C=0.01, gamma=0.001, kernel=rbf;, score=0.102 total time=  15.0s\n",
            "[CV 2/5] END ...C=0.01, gamma=0.001, kernel=rbf;, score=0.102 total time=  16.3s\n",
            "[CV 3/5] END ...C=0.01, gamma=0.001, kernel=rbf;, score=0.102 total time=  17.3s\n",
            "[CV 4/5] END ...C=0.01, gamma=0.001, kernel=rbf;, score=0.102 total time=  21.6s\n",
            "[CV 5/5] END ...C=0.01, gamma=0.001, kernel=rbf;, score=0.102 total time=  22.4s\n",
            "[CV 1/5] END ..C=0.01, gamma=0.0001, kernel=rbf;, score=0.102 total time=  20.1s\n",
            "[CV 2/5] END ..C=0.01, gamma=0.0001, kernel=rbf;, score=0.102 total time=  16.8s\n",
            "[CV 3/5] END ..C=0.01, gamma=0.0001, kernel=rbf;, score=0.102 total time=  16.3s\n",
            "[CV 4/5] END ..C=0.01, gamma=0.0001, kernel=rbf;, score=0.102 total time=  21.1s\n",
            "[CV 5/5] END ..C=0.01, gamma=0.0001, kernel=rbf;, score=0.102 total time=  22.0s\n",
            "[CV 1/5] END ........C=0.1, gamma=1, kernel=rbf;, score=0.102 total time=  18.2s\n",
            "[CV 2/5] END ........C=0.1, gamma=1, kernel=rbf;, score=0.102 total time=  23.3s\n",
            "[CV 3/5] END ........C=0.1, gamma=1, kernel=rbf;, score=0.102 total time=  15.9s\n",
            "[CV 4/5] END ........C=0.1, gamma=1, kernel=rbf;, score=0.102 total time=  15.1s\n",
            "[CV 5/5] END ........C=0.1, gamma=1, kernel=rbf;, score=0.102 total time=  15.0s\n",
            "[CV 1/5] END ......C=0.1, gamma=0.1, kernel=rbf;, score=0.102 total time=  20.4s\n",
            "[CV 2/5] END ......C=0.1, gamma=0.1, kernel=rbf;, score=0.102 total time=  20.8s\n",
            "[CV 3/5] END ......C=0.1, gamma=0.1, kernel=rbf;, score=0.102 total time=  21.0s\n",
            "[CV 4/5] END ......C=0.1, gamma=0.1, kernel=rbf;, score=0.102 total time=  22.1s\n",
            "[CV 5/5] END ......C=0.1, gamma=0.1, kernel=rbf;, score=0.102 total time=  15.9s\n",
            "[CV 1/5] END .....C=0.1, gamma=0.01, kernel=rbf;, score=0.102 total time=  15.2s\n",
            "[CV 2/5] END .....C=0.1, gamma=0.01, kernel=rbf;, score=0.102 total time=  15.0s\n",
            "[CV 3/5] END .....C=0.1, gamma=0.01, kernel=rbf;, score=0.102 total time=  14.9s\n",
            "[CV 4/5] END .....C=0.1, gamma=0.01, kernel=rbf;, score=0.102 total time=  15.1s\n",
            "[CV 5/5] END .....C=0.1, gamma=0.01, kernel=rbf;, score=0.102 total time=  20.2s\n",
            "[CV 1/5] END ....C=0.1, gamma=0.001, kernel=rbf;, score=0.102 total time=  21.2s\n",
            "[CV 2/5] END ....C=0.1, gamma=0.001, kernel=rbf;, score=0.102 total time=  18.6s\n",
            "[CV 3/5] END ....C=0.1, gamma=0.001, kernel=rbf;, score=0.102 total time=  22.8s\n",
            "[CV 4/5] END ....C=0.1, gamma=0.001, kernel=rbf;, score=0.102 total time=  15.6s\n",
            "[CV 5/5] END ....C=0.1, gamma=0.001, kernel=rbf;, score=0.102 total time=  15.0s\n",
            "[CV 1/5] END ...C=0.1, gamma=0.0001, kernel=rbf;, score=0.102 total time=  16.4s\n",
            "[CV 2/5] END ...C=0.1, gamma=0.0001, kernel=rbf;, score=0.102 total time=  16.6s\n",
            "[CV 3/5] END ...C=0.1, gamma=0.0001, kernel=rbf;, score=0.102 total time=  18.7s\n",
            "[CV 4/5] END ...C=0.1, gamma=0.0001, kernel=rbf;, score=0.102 total time=  22.1s\n",
            "[CV 5/5] END ...C=0.1, gamma=0.0001, kernel=rbf;, score=0.102 total time=  23.6s\n",
            "[CV 1/5] END ..........C=1, gamma=1, kernel=rbf;, score=0.102 total time=  20.3s\n",
            "[CV 2/5] END ..........C=1, gamma=1, kernel=rbf;, score=0.102 total time=  15.5s\n",
            "[CV 3/5] END ..........C=1, gamma=1, kernel=rbf;, score=0.102 total time=  15.2s\n",
            "[CV 4/5] END ..........C=1, gamma=1, kernel=rbf;, score=0.102 total time=  15.2s\n",
            "[CV 5/5] END ..........C=1, gamma=1, kernel=rbf;, score=0.102 total time=  15.2s\n",
            "[CV 1/5] END ........C=1, gamma=0.1, kernel=rbf;, score=0.102 total time=  21.4s\n",
            "[CV 2/5] END ........C=1, gamma=0.1, kernel=rbf;, score=0.102 total time=  19.6s\n",
            "[CV 3/5] END ........C=1, gamma=0.1, kernel=rbf;, score=0.102 total time=  18.7s\n",
            "[CV 4/5] END ........C=1, gamma=0.1, kernel=rbf;, score=0.102 total time=  22.6s\n",
            "[CV 5/5] END ........C=1, gamma=0.1, kernel=rbf;, score=0.102 total time=  16.3s\n",
            "[CV 1/5] END .......C=1, gamma=0.01, kernel=rbf;, score=0.102 total time=  15.2s\n",
            "[CV 2/5] END .......C=1, gamma=0.01, kernel=rbf;, score=0.102 total time=  15.3s\n",
            "[CV 3/5] END .......C=1, gamma=0.01, kernel=rbf;, score=0.102 total time=  16.4s\n",
            "[CV 4/5] END .......C=1, gamma=0.01, kernel=rbf;, score=0.102 total time=  21.7s\n",
            "[CV 5/5] END .......C=1, gamma=0.01, kernel=rbf;, score=0.102 total time=  21.0s\n",
            "[CV 1/5] END ......C=1, gamma=0.001, kernel=rbf;, score=0.102 total time=  19.0s\n",
            "[CV 2/5] END ......C=1, gamma=0.001, kernel=rbf;, score=0.102 total time=  19.8s\n",
            "[CV 3/5] END ......C=1, gamma=0.001, kernel=rbf;, score=0.102 total time=  15.6s\n",
            "[CV 4/5] END ......C=1, gamma=0.001, kernel=rbf;, score=0.102 total time=  15.2s\n",
            "[CV 5/5] END ......C=1, gamma=0.001, kernel=rbf;, score=0.102 total time=  15.4s\n",
            "[CV 1/5] END .....C=1, gamma=0.0001, kernel=rbf;, score=0.102 total time=  18.1s\n",
            "[CV 2/5] END .....C=1, gamma=0.0001, kernel=rbf;, score=0.102 total time=  19.3s\n",
            "[CV 3/5] END .....C=1, gamma=0.0001, kernel=rbf;, score=0.102 total time=  25.6s\n",
            "[CV 4/5] END .....C=1, gamma=0.0001, kernel=rbf;, score=0.102 total time=  20.4s\n",
            "[CV 5/5] END .....C=1, gamma=0.0001, kernel=rbf;, score=0.102 total time=  18.0s\n",
            "[CV 1/5] END .........C=10, gamma=1, kernel=rbf;, score=0.102 total time=  17.5s\n",
            "[CV 2/5] END .........C=10, gamma=1, kernel=rbf;, score=0.102 total time=  15.3s\n",
            "[CV 3/5] END .........C=10, gamma=1, kernel=rbf;, score=0.102 total time=  15.2s\n",
            "[CV 4/5] END .........C=10, gamma=1, kernel=rbf;, score=0.102 total time=  17.3s\n",
            "[CV 5/5] END .........C=10, gamma=1, kernel=rbf;, score=0.102 total time=  17.8s\n",
            "[CV 1/5] END .......C=10, gamma=0.1, kernel=rbf;, score=0.102 total time=  18.4s\n",
            "[CV 2/5] END .......C=10, gamma=0.1, kernel=rbf;, score=0.102 total time=  20.4s\n",
            "[CV 3/5] END .......C=10, gamma=0.1, kernel=rbf;, score=0.102 total time=  19.8s\n",
            "[CV 4/5] END .......C=10, gamma=0.1, kernel=rbf;, score=0.102 total time=  15.6s\n",
            "[CV 5/5] END .......C=10, gamma=0.1, kernel=rbf;, score=0.102 total time=  15.2s\n",
            "[CV 1/5] END ......C=10, gamma=0.01, kernel=rbf;, score=0.102 total time=  15.2s\n",
            "[CV 2/5] END ......C=10, gamma=0.01, kernel=rbf;, score=0.102 total time=  15.3s\n",
            "[CV 3/5] END ......C=10, gamma=0.01, kernel=rbf;, score=0.102 total time=  20.0s\n",
            "[CV 4/5] END ......C=10, gamma=0.01, kernel=rbf;, score=0.102 total time=  20.6s\n",
            "[CV 5/5] END ......C=10, gamma=0.01, kernel=rbf;, score=0.102 total time=  18.2s\n",
            "[CV 1/5] END .....C=10, gamma=0.001, kernel=rbf;, score=0.102 total time=  22.2s\n",
            "[CV 2/5] END .....C=10, gamma=0.001, kernel=rbf;, score=0.102 total time=  15.8s\n",
            "[CV 3/5] END .....C=10, gamma=0.001, kernel=rbf;, score=0.102 total time=  15.2s\n",
            "[CV 4/5] END .....C=10, gamma=0.001, kernel=rbf;, score=0.102 total time=  15.3s\n",
            "[CV 5/5] END .....C=10, gamma=0.001, kernel=rbf;, score=0.102 total time=  15.3s\n",
            "[CV 1/5] END ....C=10, gamma=0.0001, kernel=rbf;, score=0.102 total time=  19.8s\n",
            "[CV 2/5] END ....C=10, gamma=0.0001, kernel=rbf;, score=0.102 total time=  22.1s\n",
            "[CV 3/5] END ....C=10, gamma=0.0001, kernel=rbf;, score=0.102 total time=  21.1s\n",
            "[CV 4/5] END ....C=10, gamma=0.0001, kernel=rbf;, score=0.102 total time=  24.4s\n",
            "[CV 5/5] END ....C=10, gamma=0.0001, kernel=rbf;, score=0.102 total time=  17.3s\n"
          ]
        },
        {
          "data": {
            "text/plain": [
              "GridSearchCV(estimator=SVC(),\n",
              "             param_grid={'C': [0.001, 0.01, 0.1, 1, 10],\n",
              "                         'gamma': [1, 0.1, 0.01, 0.001, 0.0001],\n",
              "                         'kernel': ['rbf']},\n",
              "             verbose=3)"
            ]
          },
          "execution_count": 20,
          "metadata": {},
          "output_type": "execute_result"
        },
        {
          "name": "stdout",
          "output_type": "stream",
          "text": [
            "time: 38min 4s (started: 2021-12-10 10:38:28 +00:00)\n"
          ]
        }
      ],
      "source": [
        "# SVM Model: Reduced train set\n",
        "# Grid search CV: using testing set because it is smaller and split it into test \n",
        "\n",
        "# Randomly picking ONLY 10 percent of the 10 000 entries to do the gridsearch.\n",
        "# That way I can speed up the computation and still pick the best model\n",
        "# This is obviously done only because theis is an exercize to learn about the methods\n",
        "\n",
        "\n",
        "# Total input = 60 000 samples from train_images_f\n",
        "# test_size to 90% --> training size = 10%\n",
        "# given the previous run on only 10 000 took 25 minutes 5000 train / 5000 test\n",
        "# I guess it will run roughly 40 (I was right)\n",
        "\n",
        "X_train_ten, X_test_ninty, y_train_ten, y_test_ninty = train_test_split(\n",
        "    train_images_f, train_labels, test_size=0.90, stratify=all_labels) \n",
        "\n",
        "parameters_grid = {'C':[0.001, 0.01, 0.1, 1, 10], 'gamma': [1, 0.1, 0.01, 0.001, 0.0001],\n",
        "            'kernel': ['rbf']}\n",
        "grid = GridSearchCV(SVC(),parameters_grid, refit = True, verbose = 3)\n",
        "grid.fit(X_train_ten, y_train_ten)"
      ]
    },
    {
      "cell_type": "markdown",
      "metadata": {
        "id": "hAr_osYTHg10"
      },
      "source": [
        "I want to know the best parameters obtained in the grid search cross validation. See the functions below:"
      ]
    },
    {
      "cell_type": "code",
      "execution_count": null,
      "metadata": {
        "colab": {
          "base_uri": "https://localhost:8080/"
        },
        "id": "yNWBsqTrAh0m",
        "outputId": "70b9f108-9d22-4698-ca53-6851eb3ec008"
      },
      "outputs": [
        {
          "name": "stdout",
          "output_type": "stream",
          "text": [
            "[0.10233333 0.10233333 0.10233333 0.10233333 0.10233333 0.10233333\n",
            " 0.10233333 0.10233333 0.10233333 0.10233333 0.10233333 0.10233333\n",
            " 0.10233333 0.10233333 0.10233333 0.10233333 0.10233333 0.10233333\n",
            " 0.10233333 0.10233333 0.10233333 0.10233333 0.10233333 0.10233333\n",
            " 0.10233333]\n",
            "time: 3.47 ms (started: 2021-12-10 20:25:13 +00:00)\n"
          ]
        }
      ],
      "source": [
        "# trained on 6000 samples tested on 54000\n",
        "svm_grid_search_mean_test_score = grid.cv_results_['mean_test_score']\n",
        "print(svm_grid_search_mean_test_score)"
      ]
    },
    {
      "cell_type": "code",
      "execution_count": null,
      "metadata": {
        "colab": {
          "base_uri": "https://localhost:8080/"
        },
        "id": "3NHeZas5BLyZ",
        "outputId": "c5ffdf00-3c2c-47d1-c87a-a53486c4e7ba"
      },
      "outputs": [
        {
          "data": {
            "text/plain": [
              "0"
            ]
          },
          "execution_count": 56,
          "metadata": {},
          "output_type": "execute_result"
        },
        {
          "name": "stdout",
          "output_type": "stream",
          "text": [
            "time: 12.3 ms (started: 2021-12-10 20:24:59 +00:00)\n"
          ]
        }
      ],
      "source": [
        "np.argmax(svm_grid_search_mean_test_score)"
      ]
    },
    {
      "cell_type": "code",
      "execution_count": null,
      "metadata": {
        "colab": {
          "base_uri": "https://localhost:8080/"
        },
        "id": "M8CeMnZEHfli",
        "outputId": "e3abe73b-476d-4155-e277-0686f992b1f5"
      },
      "outputs": [
        {
          "name": "stdout",
          "output_type": "stream",
          "text": [
            "{'C': 0.001, 'gamma': 1, 'kernel': 'rbf'}\n",
            "SVC(C=0.001, gamma=1)\n",
            "time: 4.81 ms (started: 2021-12-10 12:03:36 +00:00)\n"
          ]
        }
      ],
      "source": [
        "# trained on 6000 samples tested on 54000\n",
        "print(grid.cv_results_)\n",
        "\n",
        "# printing best parameter after tuning\n",
        "print(grid.best_params_)\n",
        " \n",
        "# printing how my model looks after hyper-parameter tuning\n",
        "print(grid.best_estimator_)"
      ]
    },
    {
      "cell_type": "markdown",
      "metadata": {
        "id": "V32obQAkCPPm"
      },
      "source": [
        "In the output of the cell above we can see that the best performance was achieved with the following parameters: \n",
        "\n",
        "* C of 0.001\n",
        "* $\\gamma$ of 0.0001\n",
        "\n",
        "I have used only an rbf kernel.\n",
        "\n",
        "```\n",
        "{'C': 0.001, 'gamma': 1, 'kernel': 'rbf'}\n",
        "SVC(C=0.001, gamma=1)\n",
        "time: 6.41 ms (started: 2021-12-10 11:33:43 +00:00)\n",
        "```\n",
        "I will do the actual run on the entire dataset with the 'real size' train test\n",
        "split: I will use these parameters to train and test the final SVM model on the 'original' train_images / _labels and test_images / _labels as these splits are perfectly balanced. See figures in section [2.4 Visualizing the distribution of classes within training and testing set](https://colab.research.google.com/drive/1gVS_R4GPpgS9GpumwBETzsln9vwhAfle#scrollTo=a51e_G8o4HaJ)."
      ]
    },
    {
      "cell_type": "code",
      "execution_count": null,
      "metadata": {
        "colab": {
          "base_uri": "https://localhost:8080/"
        },
        "id": "id5Snwe4D04R",
        "outputId": "b065024b-01e4-4380-bbb1-9326d4e68364"
      },
      "outputs": [
        {
          "name": "stdout",
          "output_type": "stream",
          "text": [
            "(60000, 784)\n",
            "(10000, 784)\n",
            "time: 1.4 ms (started: 2021-12-10 12:14:56 +00:00)\n"
          ]
        }
      ],
      "source": [
        "print(train_images_f.shape)\n",
        "print(test_images_f.shape)"
      ]
    },
    {
      "cell_type": "markdown",
      "source": [
        "# SVM\n",
        "\n",
        "Explain PCA and why\n",
        "\n",
        "# K-Nearest Neighbors\n",
        "\n",
        "K-Nearest Neighbors (KNN) is one of the simplest algorithms used in ML and uses the training data given in input to classify new data points based on **similarity measures** such as the distance function. The classification is done by a majority vote to its **neighbors**. Choosing the $k$ in KNN is done by parameter tuning. \n",
        "\n",
        "The advantage of KNN is its time complexity $\\O(n*d)\n",
        "\n",
        "For: \n",
        "\n",
        "* $n$: number of points in the training dataset\n",
        "* $d$: data dimensionality\n",
        "* $k$: number of neighbors that we consider for voting\n",
        "\n",
        "\n",
        "We can usse the following methods:\n",
        "\n",
        "* Brute force method\n",
        "    * Were \n",
        "        * training time complexity is $O(1)$\n",
        "        * prediciton time is $O(k*n*d)$\n",
        "        * prediciton space complexity is $O(1)\n",
        "* $k-d$ tree method\n",
        "    * Were\n",
        "        * training time complexity is $O(d * n * log(n))$\n",
        "        * training space complexity is $O(d * n)$\n",
        "        * prediciton time complexity is $O(k * log(n))$\n",
        "        * prediciton space complexity is $O(1)$\n",
        "* Ball tree method\n",
        "    * Where\n",
        "        * training time complexity: O(d * n * log(n))\n",
        "        * training space complexity: O(d * n)\n",
        "        * prediction time complexity: O(k * log(n))\n",
        "        * prediction space complexity: O(1)\n",
        "\n",
        "Resources:\n",
        "\n",
        "[KNN explained](https://towardsdatascience.com/k-nearest-neighbors-computational-complexity-502d2c440d5)\n",
        "\n",
        "[Time complexity](https://stats.stackexchange.com/questions/219655/k-nn-computational-complexity)\n",
        "\n",
        "[sklearn knn documentation](https://scikit-learn.org/stable/modules/generated/sklearn.neighbors.KNeighborsClassifier.html)\n",
        "\n"
      ],
      "metadata": {
        "id": "kC_C7gRyYvJt"
      }
    },
    {
      "cell_type": "markdown",
      "source": [
        "# New stuff"
      ],
      "metadata": {
        "id": "pB5FPtYJQB9X"
      }
    },
    {
      "cell_type": "markdown",
      "source": [
        "# monday"
      ],
      "metadata": {
        "id": "LXPSUrL9q_-s"
      }
    },
    {
      "cell_type": "code",
      "execution_count": null,
      "metadata": {
        "colab": {
          "base_uri": "https://localhost:8080/"
        },
        "id": "A7ZtHKQXyFI_",
        "outputId": "18562964-0c6a-4b41-dfeb-fd3a6c8c874f"
      },
      "outputs": [
        {
          "name": "stdout",
          "output_type": "stream",
          "text": [
            "time: 1h 45min 37s (started: 2021-12-10 14:41:09 +00:00)\n"
          ]
        }
      ],
      "source": [
        "start_svm = time.time()\n",
        "\n",
        "# Training support vector classifyer\n",
        "svm_cls = SVC(kernel='rbf', C=1, gamma='auto')\n",
        "# Fit the classifier to training data:\n",
        "svm_cls.fit(train_images_f, train_labels)\n",
        "\n",
        "end_svm = time.time()\n",
        "svm_time = end_svm-start_svm"
      ]
    },
    {
      "cell_type": "code",
      "source": [
        "# print prediction results\n",
        "svm_predictions = svm_cls.predict(test_images_f)\n",
        "\n",
        "\n",
        "# SVM predictions and analysis\n",
        "y_pred_svc = svc.predict(x_test)\n",
        "svc_f1 = metrics.f1_score(y_test, y_pred_svc, average= \"weighted\")\n",
        "svc_accuracy = metrics.accuracy_score(y_test, y_pred_svc)\n",
        "svc_cm = metrics.confusion_matrix(y_test, y_pred_svc)\n",
        "print(\"-----------------SVM Report---------------\")\n",
        "print(\"F1 score: {}\".format(svc_f1))\n",
        "print(\"Accuracy score: {}\".format(svc_accuracy))\n",
        "print(\"Confusion matrix: \\n\", svc_cm)\n",
        "print('Plotting confusion matrix')\n",
        "\n",
        "plt.figure()\n",
        "plot_confusion_matrix(svc_cm, labelNames)\n",
        "plt.show()\n",
        "\n",
        "print(metrics.classification_report(y_test, y_pred_svc))\n"
      ],
      "metadata": {
        "id": "k9tShXszpHF1"
      },
      "execution_count": null,
      "outputs": []
    },
    {
      "cell_type": "markdown",
      "source": [
        "monday end."
      ],
      "metadata": {
        "id": "ink4fKj5rKV3"
      }
    },
    {
      "cell_type": "code",
      "source": [
        "## 1. KNN Model BRUTE FORCE = bf\n",
        "start_knn_bf = time.time()\n",
        "\n",
        "knn_bf = KNeighborsClassifier(n_neighbors=5, algorithm='brute')\n",
        "knn_bf.fit(train_images_f, train_labels)\n",
        "knn_bf_pred_labels = knn_bf.predict(test_images_f)\n",
        "\n",
        "end_knn_bf = time.time()\n",
        "knn_bf_time = end_knn_bf-start_knn_bf"
      ],
      "metadata": {
        "id": "-0hgyf99i9Jt",
        "colab": {
          "base_uri": "https://localhost:8080/"
        },
        "outputId": "fc286e57-a93e-472d-b932-6fa6c10dccbc"
      },
      "execution_count": 7,
      "outputs": [
        {
          "output_type": "stream",
          "name": "stdout",
          "text": [
            "time: 40.5 s (started: 2021-12-12 20:10:03 +00:00)\n"
          ]
        }
      ]
    },
    {
      "cell_type": "code",
      "source": [
        "## 2. KNN Model: k d tree = kd\n",
        "start_knn_kd = time.time()\n",
        "\n",
        "knn_kd = KNeighborsClassifier(n_neighbors=5)\n",
        "knn_kd.fit(train_images_f, train_labels)\n",
        "knn_kd_pred_labels = knn_kd.predict(test_images_f)\n",
        "\n",
        "end_knn_kd = time.time()\n",
        "knn_time_kd = end_knn_kd-start_knn_kd"
      ],
      "metadata": {
        "id": "_1EIN6uJjWqt",
        "colab": {
          "base_uri": "https://localhost:8080/"
        },
        "outputId": "c412191d-fffa-42ef-8abf-39490642d7a0"
      },
      "execution_count": 8,
      "outputs": [
        {
          "output_type": "stream",
          "name": "stdout",
          "text": [
            "time: 39.9 s (started: 2021-12-12 20:10:44 +00:00)\n"
          ]
        }
      ]
    },
    {
      "cell_type": "code",
      "source": [
        "## 3. KNN Model: ball tree = bt\n",
        "start_knn_bt = time.time()\n",
        "\n",
        "knn_bt = KNeighborsClassifier(n_neighbors=5)\n",
        "knn_bt.fit(train_images_f, train_labels)\n",
        "knn_bt_pred_labels = knn_bt.predict(test_images_f)\n",
        "\n",
        "end_knn_bt = time.time()\n",
        "knn_time_bt = end_knn_bt-start_knn_bt"
      ],
      "metadata": {
        "id": "Kd3GpN1umhwy",
        "colab": {
          "base_uri": "https://localhost:8080/"
        },
        "outputId": "1504fb29-02a8-4729-a79d-8aa475b43228"
      },
      "execution_count": 45,
      "outputs": [
        {
          "output_type": "stream",
          "name": "stdout",
          "text": [
            "time: 41.7 s (started: 2021-12-12 21:41:46 +00:00)\n"
          ]
        }
      ]
    },
    {
      "cell_type": "markdown",
      "metadata": {
        "id": "lB-AV5SQn-eL"
      },
      "source": [
        "# 4. Generating a Decision Tree\n",
        "\n",
        "DT is a supervised learning model that can be used to solve classification as well as regression problems. It uses a tree-like model of decisions and their possible concequences to solve the problem. Each internal node represents an attribute and each leaf node represents a class label [see](https://en.wikipedia.org/wiki/Decision_tree). The advantage of DT is that it requires very little preparation of data when comparing it to other methods. In addition the training process is rather fast in comarision to other methods.\n",
        "\n",
        "As always, overfitting can be an issue but this can be mitigated by setting a **maximum depth of the tree**, a **minimum number of samples required at a leaf split**, a **dimensionality reduction** or **pruning**. The simpler the model the less likely it is overfitting.\n",
        "\n",
        "\n",
        "We flatten and reshape the data.\n",
        "\n",
        "We do several trees with different depths rangeing from 1 - 30. We decide the desired depth according to the plateau of the accuracy.\n"
      ]
    },
    {
      "cell_type": "code",
      "execution_count": 13,
      "metadata": {
        "id": "HN6DLo_fs-wr",
        "colab": {
          "base_uri": "https://localhost:8080/"
        },
        "outputId": "e762a9d5-9827-4148-ec3a-77618d9ba0b5"
      },
      "outputs": [
        {
          "output_type": "stream",
          "name": "stdout",
          "text": [
            "Depth:  1 Accuracy:  0.1992\n",
            "Depth:  2 Accuracy:  0.3543\n",
            "Depth:  3 Accuracy:  0.4988\n",
            "Depth:  4 Accuracy:  0.6446\n",
            "Depth:  5 Accuracy:  0.6938\n",
            "Depth:  6 Accuracy:  0.7199\n",
            "Depth:  7 Accuracy:  0.7555\n",
            "Depth:  8 Accuracy:  0.7818\n",
            "Depth:  9 Accuracy:  0.7973\n",
            "Depth:  10 Accuracy:  0.8008\n",
            "Depth:  11 Accuracy:  0.805\n",
            "Depth:  12 Accuracy:  0.8022\n",
            "Depth:  13 Accuracy:  0.8111\n",
            "Depth:  14 Accuracy:  0.8087\n",
            "Depth:  15 Accuracy:  0.8072\n",
            "Depth:  16 Accuracy:  0.8064\n",
            "Depth:  17 Accuracy:  0.8039\n",
            "Depth:  18 Accuracy:  0.8012\n",
            "Depth:  19 Accuracy:  0.7991\n",
            "Depth:  20 Accuracy:  0.7984\n",
            "Depth:  21 Accuracy:  0.7969\n",
            "Depth:  22 Accuracy:  0.7976\n",
            "Depth:  23 Accuracy:  0.7962\n",
            "Depth:  24 Accuracy:  0.7963\n",
            "Depth:  25 Accuracy:  0.7957\n",
            "Depth:  26 Accuracy:  0.7931\n",
            "Depth:  27 Accuracy:  0.7951\n",
            "Depth:  28 Accuracy:  0.7959\n",
            "Depth:  29 Accuracy:  0.7941\n",
            "Depth:  30 Accuracy:  0.7901\n",
            "time: 13min 39s (started: 2021-12-12 20:17:20 +00:00)\n"
          ]
        }
      ],
      "source": [
        "# list holding accuracy of DT:\n",
        "dt_acc = []\n",
        "\n",
        "# loop for generating different trees:\n",
        "for i in range(30):\n",
        "  # decision tree classifier = dt_clf\n",
        "  dt_clf = tree.DecisionTreeClassifier(max_depth=i+1, random_state=0)\n",
        "  # fitting model\n",
        "  dt_clf.fit(train_images_f, train_labels)\n",
        "  # predictions; dt_pred\n",
        "  dt_pred =  dt_clf.predict(test_images_f)\n",
        "  # appending acc score to dt_acc\n",
        "  dt_acc.append(accuracy_score(test_labels, dt_pred))\n",
        "  # to stdout\n",
        "  print('Depth: ', (i+1), 'Accuracy: ', accuracy_score(test_labels, dt_pred))\n",
        "\n"
      ]
    },
    {
      "cell_type": "code",
      "execution_count": 20,
      "metadata": {
        "colab": {
          "base_uri": "https://localhost:8080/",
          "height": 297
        },
        "id": "7-u9BxQ51T50",
        "outputId": "2edc8f52-6475-4fce-d3fb-ebdc9f4c8251"
      },
      "outputs": [
        {
          "output_type": "display_data",
          "data": {
            "image/png": "[encoded data removed]",
            "text/plain": [
              "<Figure size 432x288 with 1 Axes>"
            ]
          },
          "metadata": {
            "needs_background": "light"
          }
        },
        {
          "output_type": "stream",
          "name": "stdout",
          "text": [
            "time: 863 ms (started: 2021-12-12 20:37:11 +00:00)\n"
          ]
        }
      ],
      "source": [
        "plt.plot(list(range(1,31)), dt_acc)\n",
        "plt.xticks(list(range(1,31,2)))\n",
        "plt.ylabel('Accuracy')\n",
        "plt.xlabel('Maximum Depth')\n",
        "plt.grid(True)\n",
        "\n",
        "# test_images.shape"
      ]
    },
    {
      "cell_type": "markdown",
      "source": [
        "We can see in the plot above that the accuracy starts to flatten out after a peak at 13. Thus I will run DT training with the maximum depth of 13."
      ],
      "metadata": {
        "id": "kd1paeY2VoSE"
      }
    },
    {
      "cell_type": "code",
      "execution_count": 32,
      "metadata": {
        "colab": {
          "base_uri": "https://localhost:8080/"
        },
        "id": "FDISNZrmyfBI",
        "outputId": "84456729-2d55-45cf-d7ce-8b796876b856"
      },
      "outputs": [
        {
          "output_type": "stream",
          "name": "stdout",
          "text": [
            "time: 36.8 s (started: 2021-12-12 21:10:03 +00:00)\n"
          ]
        }
      ],
      "source": [
        "# Decision Tree\n",
        "start_dt = time.time()\n",
        "\n",
        "tree_cls = DecisionTreeClassifier(max_depth=13, criterion='entropy')\n",
        "tree_cls.fit(train_images_f, train_labels)\n",
        "\n",
        "end_dt = time.time()\n",
        "dt_time = end_dt-start_dt\n"
      ]
    },
    {
      "cell_type": "code",
      "source": [
        "# dt_image=tree.fit(train_images_f,train_labels)\n",
        "sklearn.tree.plot_tree(dt_image)\n",
        "plt.figure(figsize=(500, 300))\n",
        "plt.show()"
      ],
      "metadata": {
        "colab": {
          "base_uri": "https://localhost:8080/",
          "height": 285
        },
        "id": "vefjS_A3YPmR",
        "outputId": "40d25850-4fe7-4e37-b036-69004cf2bdca"
      },
      "execution_count": 34,
      "outputs": [
        {
          "output_type": "display_data",
          "data": {
            "image/png": "[encoded data removed]",
            "text/plain": [
              "<Figure size 432x288 with 1 Axes>"
            ]
          },
          "metadata": {
            "needs_background": "light"
          }
        },
        {
          "output_type": "display_data",
          "data": {
            "text/plain": [
              "<Figure size 36000x21600 with 0 Axes>"
            ]
          },
          "metadata": {}
        },
        {
          "output_type": "stream",
          "name": "stdout",
          "text": [
            "time: 1min 34s (started: 2021-12-12 21:11:04 +00:00)\n"
          ]
        }
      ]
    },
    {
      "cell_type": "markdown",
      "source": [
        "Given the input is pixles the decision tree is not informative to the human eye. I still left it in the report as it shows that the package is capable of visualizing the decision tree.\n",
        "\n",
        "Evaluating DT using a confusion matrix"
      ],
      "metadata": {
        "id": "xu13CblCYp41"
      }
    },
    {
      "cell_type": "code",
      "source": [
        "dt_predictions = tree_cls.predict(test_images_f)\n",
        "print(f'Decision Tree Classification Report \\n Decision Tree with a Depth of 13: \\n {classification_report(test_labels,dt_predictions)}')"
      ],
      "metadata": {
        "colab": {
          "base_uri": "https://localhost:8080/"
        },
        "id": "NaTkgdXGYorn",
        "outputId": "9df1018a-7517-4c14-d3db-74faca0f067e"
      },
      "execution_count": 35,
      "outputs": [
        {
          "output_type": "stream",
          "name": "stdout",
          "text": [
            "Decision Tree Classification Report \n",
            " Decision Tree with a Depth of 13: \n",
            "               precision    recall  f1-score   support\n",
            "\n",
            "           0       0.76      0.77      0.76      1000\n",
            "           1       0.96      0.94      0.95      1000\n",
            "           2       0.69      0.72      0.70      1000\n",
            "           3       0.83      0.80      0.82      1000\n",
            "           4       0.67      0.74      0.70      1000\n",
            "           5       0.92      0.90      0.91      1000\n",
            "           6       0.60      0.54      0.57      1000\n",
            "           7       0.88      0.89      0.88      1000\n",
            "           8       0.93      0.93      0.93      1000\n",
            "           9       0.91      0.92      0.91      1000\n",
            "\n",
            "    accuracy                           0.82     10000\n",
            "   macro avg       0.82      0.82      0.82     10000\n",
            "weighted avg       0.82      0.82      0.82     10000\n",
            "\n",
            "time: 56.6 ms (started: 2021-12-12 21:13:09 +00:00)\n"
          ]
        }
      ]
    },
    {
      "cell_type": "code",
      "source": [
        "dt_confusion = confusion_matrix(test_labels, dt_predictions)\n",
        "sns.heatmap(dt_confusion, annot=True, fmt='d', cmap='Reds')"
      ],
      "metadata": {
        "colab": {
          "base_uri": "https://localhost:8080/",
          "height": 302
        },
        "id": "v7L_NX1-foVJ",
        "outputId": "bb994300-268a-422b-df00-8fb6c2b125da"
      },
      "execution_count": 36,
      "outputs": [
        {
          "output_type": "execute_result",
          "data": {
            "text/plain": [
              "<matplotlib.axes._subplots.AxesSubplot at 0x7f6ebd527510>"
            ]
          },
          "metadata": {},
          "execution_count": 36
        },
        {
          "output_type": "display_data",
          "data": {
            "image/png": "[encoded data removed]",
            "text/plain": [
              "<Figure size 432x288 with 2 Axes>"
            ]
          },
          "metadata": {
            "needs_background": "light"
          }
        },
        {
          "output_type": "stream",
          "name": "stdout",
          "text": [
            "time: 647 ms (started: 2021-12-12 21:14:57 +00:00)\n"
          ]
        }
      ]
    },
    {
      "cell_type": "code",
      "source": [
        "print(\"Accuracy:\", accuracy_score(test_labels, dt_predictions))"
      ],
      "metadata": {
        "colab": {
          "base_uri": "https://localhost:8080/"
        },
        "id": "mNz3hHFAgICb",
        "outputId": "e4f4c1ea-1902-482d-9a52-1a5401540cab"
      },
      "execution_count": 38,
      "outputs": [
        {
          "output_type": "stream",
          "name": "stdout",
          "text": [
            "Accuracy: 0.8155\n",
            "time: 4.16 ms (started: 2021-12-12 21:17:09 +00:00)\n"
          ]
        }
      ]
    },
    {
      "cell_type": "markdown",
      "source": [
        "From the confusion matrix we can see that class 1 the trousers, have the highest true positives, while the class 6, the shirt has the lowest. This can again be explained by the similarity between all long armed apparrel, which might even be confused by the human eye. The trousers and the T-shirt on the other hand, has short arms which is reflected in a more distinguished pixel distribution and a better TPR. The overall accuracy of the decision tree reached 81.55% "
      ],
      "metadata": {
        "id": "ZEcKPQ2Eglks"
      }
    },
    {
      "cell_type": "code",
      "execution_count": 39,
      "metadata": {
        "colab": {
          "base_uri": "https://localhost:8080/"
        },
        "id": "fr4wkxzqeMyU",
        "outputId": "7c3bf688-6855-42d1-8d59-3891b1140fcd"
      },
      "outputs": [
        {
          "output_type": "stream",
          "name": "stdout",
          "text": [
            "time: 2min 6s (started: 2021-12-12 21:23:30 +00:00)\n"
          ]
        }
      ],
      "source": [
        "# Random Forest\n",
        "start_rf = time.time()\n",
        "\n",
        "random_forest = RandomForestClassifier(criterion='entropy', max_depth=70, n_estimators=100)\n",
        "random_forest.fit(train_images_f, train_labels)\n",
        "\n",
        "end_rf = time.time()\n",
        "rf_time = end_rf-start_rf\n"
      ]
    },
    {
      "cell_type": "code",
      "source": [
        "rf_predictions = random_forest.predict(test_images_f)"
      ],
      "metadata": {
        "colab": {
          "base_uri": "https://localhost:8080/"
        },
        "id": "CHNWyaD7hwN_",
        "outputId": "33e8976a-d96f-4872-f4b4-a4d58054e0c3"
      },
      "execution_count": 40,
      "outputs": [
        {
          "output_type": "stream",
          "name": "stdout",
          "text": [
            "time: 486 ms (started: 2021-12-12 21:25:54 +00:00)\n"
          ]
        }
      ]
    },
    {
      "cell_type": "code",
      "source": [
        "rf_report = classification_report(test_labels, rf_predictions)\n",
        "print('Classification Report \\n Random Forest: ',rf_report)\n",
        "\n",
        "accuracy = accuracy_score(test_labels,rf_predictions)\n",
        "print(\"Accuracy: \",accuracy)"
      ],
      "metadata": {
        "colab": {
          "base_uri": "https://localhost:8080/"
        },
        "id": "t10N7ioWiDz4",
        "outputId": "609700f1-6787-4265-b4ea-11b092eb40e5"
      },
      "execution_count": 41,
      "outputs": [
        {
          "output_type": "stream",
          "name": "stdout",
          "text": [
            "Classification Report \n",
            " Random Forest:                precision    recall  f1-score   support\n",
            "\n",
            "           0       0.82      0.86      0.84      1000\n",
            "           1       0.99      0.96      0.98      1000\n",
            "           2       0.77      0.80      0.78      1000\n",
            "           3       0.88      0.91      0.89      1000\n",
            "           4       0.77      0.81      0.79      1000\n",
            "           5       0.98      0.95      0.97      1000\n",
            "           6       0.73      0.59      0.65      1000\n",
            "           7       0.92      0.95      0.94      1000\n",
            "           8       0.95      0.97      0.96      1000\n",
            "           9       0.95      0.95      0.95      1000\n",
            "\n",
            "    accuracy                           0.88     10000\n",
            "   macro avg       0.88      0.88      0.87     10000\n",
            "weighted avg       0.88      0.88      0.87     10000\n",
            "\n",
            "Accuracy:  0.8763\n",
            "time: 39.1 ms (started: 2021-12-12 21:26:18 +00:00)\n"
          ]
        }
      ]
    },
    {
      "cell_type": "code",
      "source": [
        "rf_confusion = confusion_matrix(test_labels, rf_predictions)\n",
        "sns.heatmap(rf_confusion, annot=True, fmt=\"d\", cmap=\"Greens\")"
      ],
      "metadata": {
        "colab": {
          "base_uri": "https://localhost:8080/",
          "height": 302
        },
        "id": "8neT-f_5i_1u",
        "outputId": "4cd1dfe4-38f1-4f37-d540-0ab1a0b9f1ed"
      },
      "execution_count": 43,
      "outputs": [
        {
          "output_type": "execute_result",
          "data": {
            "text/plain": [
              "<matplotlib.axes._subplots.AxesSubplot at 0x7f6ebc638890>"
            ]
          },
          "metadata": {},
          "execution_count": 43
        },
        {
          "output_type": "display_data",
          "data": {
            "image/png": "[encoded data removed]",
            "text/plain": [
              "<Figure size 432x288 with 2 Axes>"
            ]
          },
          "metadata": {
            "needs_background": "light"
          }
        },
        {
          "output_type": "stream",
          "name": "stdout",
          "text": [
            "time: 661 ms (started: 2021-12-12 21:29:13 +00:00)\n"
          ]
        }
      ]
    },
    {
      "cell_type": "markdown",
      "source": [
        "The random forest clasifier outperformed the decision tree by aproximately 6 percentage points with an accuracy of 87,6%. Yet again the shirt (class 6) has the lowest level of correct classifications. To see if this score can still be improved I will do a cross validation.\n",
        "\n",
        "# 5-fold Cross Validation on Random Forest Classifier"
      ],
      "metadata": {
        "id": "8W0votSyilLh"
      }
    },
    {
      "cell_type": "code",
      "source": [
        "X = np.vstack((test_images_f,train_images_f))\n",
        "y = np.concatenate((test_labels, train_labels))\n",
        "scores = cross_val_score(random_forest, X,y,cv=5, scoring='accuracy', verbose=3)\n",
        "print(np.mean(scores))"
      ],
      "metadata": {
        "colab": {
          "base_uri": "https://localhost:8080/"
        },
        "id": "Dp76xVxylTxJ",
        "outputId": "1067aff8-aa71-4259-9741-b1d371453613"
      },
      "execution_count": 52,
      "outputs": [
        {
          "output_type": "stream",
          "name": "stderr",
          "text": [
            "[Parallel(n_jobs=1)]: Using backend SequentialBackend with 1 concurrent workers.\n"
          ]
        },
        {
          "output_type": "stream",
          "name": "stdout",
          "text": [
            "[CV] END ................................ score: (test=0.877) total time= 2.1min\n"
          ]
        },
        {
          "output_type": "stream",
          "name": "stderr",
          "text": [
            "[Parallel(n_jobs=1)]: Done   1 out of   1 | elapsed:  2.1min remaining:    0.0s\n"
          ]
        },
        {
          "output_type": "stream",
          "name": "stdout",
          "text": [
            "[CV] END ................................ score: (test=0.881) total time= 2.1min\n"
          ]
        },
        {
          "output_type": "stream",
          "name": "stderr",
          "text": [
            "[Parallel(n_jobs=1)]: Done   2 out of   2 | elapsed:  4.2min remaining:    0.0s\n"
          ]
        },
        {
          "output_type": "stream",
          "name": "stdout",
          "text": [
            "[CV] END ................................ score: (test=0.885) total time= 2.1min\n",
            "[CV] END ................................ score: (test=0.889) total time= 2.1min\n",
            "[CV] END ................................ score: (test=0.884) total time= 2.1min\n",
            "0.8834428571428571\n",
            "time: 10min 34s (started: 2021-12-12 21:48:57 +00:00)\n"
          ]
        },
        {
          "output_type": "stream",
          "name": "stderr",
          "text": [
            "[Parallel(n_jobs=1)]: Done   5 out of   5 | elapsed: 10.6min finished\n"
          ]
        }
      ]
    },
    {
      "cell_type": "markdown",
      "source": [
        ""
      ],
      "metadata": {
        "id": "re5vJcNoqsF-"
      }
    },
    {
      "cell_type": "code",
      "execution_count": null,
      "metadata": {
        "colab": {
          "base_uri": "https://localhost:8080/"
        },
        "id": "Zm9bcl-QOISw",
        "outputId": "c7018098-2a3a-446b-8bb0-2b86efdb4907"
      },
      "outputs": [
        {
          "name": "stdout",
          "output_type": "stream",
          "text": [
            "              precision    recall  f1-score   support\n",
            "\n",
            "           0       1.00      0.00      0.00      1000\n",
            "           1       0.00      0.00      0.00      1000\n",
            "           2       0.00      0.00      0.00      1000\n",
            "           3       0.00      0.00      0.00      1000\n",
            "           4       0.00      0.00      0.00      1000\n",
            "           5       0.00      0.00      0.00      1000\n",
            "           6       0.00      0.00      0.00      1000\n",
            "           7       0.00      0.00      0.00      1000\n",
            "           8       0.00      0.00      0.00      1000\n",
            "           9       0.10      1.00      0.18      1000\n",
            "\n",
            "    accuracy                           0.10     10000\n",
            "   macro avg       0.11      0.10      0.02     10000\n",
            "weighted avg       0.11      0.10      0.02     10000\n",
            "\n",
            "time: 10min 29s (started: 2021-12-10 18:47:29 +00:00)\n"
          ]
        },
        {
          "name": "stderr",
          "output_type": "stream",
          "text": [
            "/usr/local/lib/python3.7/dist-packages/sklearn/metrics/_classification.py:1308: UndefinedMetricWarning: Precision and F-score are ill-defined and being set to 0.0 in labels with no predicted samples. Use `zero_division` parameter to control this behavior.\n",
            "  _warn_prf(average, modifier, msg_start, len(result))\n",
            "/usr/local/lib/python3.7/dist-packages/sklearn/metrics/_classification.py:1308: UndefinedMetricWarning: Precision and F-score are ill-defined and being set to 0.0 in labels with no predicted samples. Use `zero_division` parameter to control this behavior.\n",
            "  _warn_prf(average, modifier, msg_start, len(result))\n",
            "/usr/local/lib/python3.7/dist-packages/sklearn/metrics/_classification.py:1308: UndefinedMetricWarning: Precision and F-score are ill-defined and being set to 0.0 in labels with no predicted samples. Use `zero_division` parameter to control this behavior.\n",
            "  _warn_prf(average, modifier, msg_start, len(result))\n"
          ]
        }
      ],
      "source": [
        "# train the model on train set\n",
        "svm_cls = SVC(kernel='rbf', C=1.0, gamma='auto')\n",
        "svm_cls.fit(train_images_f, train_labels)\n",
        " \n",
        "# print prediction results\n",
        "svm_predictions = svm_cls.predict(test_images_f)\n"
      ]
    },
    {
      "cell_type": "code",
      "execution_count": 51,
      "metadata": {
        "colab": {
          "base_uri": "https://localhost:8080/"
        },
        "id": "RNI0A2lpxj8v",
        "outputId": "0f6adb3d-1c81-4404-e0c5-54da71b08637"
      },
      "outputs": [
        {
          "output_type": "stream",
          "name": "stdout",
          "text": [
            "KNN bf Time\t\t0.67 minute\n",
            "KNN kd Time \t \t0.67 minute\n",
            "KNN bt Time \t \t0.70 minute\n",
            "Decision Tree Time: \t0.61 minute\n",
            "Random Forest Time: \t2.10 minute\n",
            "time: 5.54 ms (started: 2021-12-12 21:47:45 +00:00)\n"
          ]
        }
      ],
      "source": [
        "print(\"KNN bf Time\\t\\t{:0.2f} minute\".format(knn_bf_time/60.0))\n",
        "print(\"KNN kd Time \\t \\t{:0.2f} minute\".format(knn_time_kd/60.0))\n",
        "print(\"KNN bt Time \\t \\t{:0.2f} minute\".format(knn_time_bt/60.0))\n",
        "\n",
        "print(\"Decision Tree Time: \\t{:0.2f} minute\".format(dt_time/60.0))\n",
        "print(\"Random Forest Time: \\t{:0.2f} minute\".format(rf_time/60.0))\n"
      ]
    },
    {
      "cell_type": "code",
      "source": [
        "# print(\"SVM Time:\\t {:0.2f} minute\".format(svm_time/60.0))"
      ],
      "metadata": {
        "id": "gRPfEe8qrcK4"
      },
      "execution_count": null,
      "outputs": []
    },
    {
      "cell_type": "code",
      "execution_count": null,
      "metadata": {
        "colab": {
          "base_uri": "https://localhost:8080/"
        },
        "id": "wD9s2XJrrDsH",
        "outputId": "f3a91b35-e9a6-441f-b6d0-26bf1d746f29"
      },
      "outputs": [
        {
          "name": "stdout",
          "output_type": "stream",
          "text": [
            "              precision    recall  f1-score   support\n",
            "\n",
            "           0       1.00      0.00      0.00      1000\n",
            "           1       0.00      0.00      0.00      1000\n",
            "           2       0.00      0.00      0.00      1000\n",
            "           3       0.00      0.00      0.00      1000\n",
            "           4       0.00      0.00      0.00      1000\n",
            "           5       0.00      0.00      0.00      1000\n",
            "           6       0.00      0.00      0.00      1000\n",
            "           7       0.00      0.00      0.00      1000\n",
            "           8       0.00      0.00      0.00      1000\n",
            "           9       0.10      1.00      0.18      1000\n",
            "\n",
            "    accuracy                           0.10     10000\n",
            "   macro avg       0.11      0.10      0.02     10000\n",
            "weighted avg       0.11      0.10      0.02     10000\n",
            "\n",
            "time: 30.7 ms (started: 2021-12-10 18:57:58 +00:00)\n"
          ]
        },
        {
          "name": "stderr",
          "output_type": "stream",
          "text": [
            "/usr/local/lib/python3.7/dist-packages/sklearn/metrics/_classification.py:1308: UndefinedMetricWarning: Precision and F-score are ill-defined and being set to 0.0 in labels with no predicted samples. Use `zero_division` parameter to control this behavior.\n",
            "  _warn_prf(average, modifier, msg_start, len(result))\n",
            "/usr/local/lib/python3.7/dist-packages/sklearn/metrics/_classification.py:1308: UndefinedMetricWarning: Precision and F-score are ill-defined and being set to 0.0 in labels with no predicted samples. Use `zero_division` parameter to control this behavior.\n",
            "  _warn_prf(average, modifier, msg_start, len(result))\n",
            "/usr/local/lib/python3.7/dist-packages/sklearn/metrics/_classification.py:1308: UndefinedMetricWarning: Precision and F-score are ill-defined and being set to 0.0 in labels with no predicted samples. Use `zero_division` parameter to control this behavior.\n",
            "  _warn_prf(average, modifier, msg_start, len(result))\n"
          ]
        }
      ],
      "source": [
        "print(classification_report(test_labels, svm_predictions))"
      ]
    },
    {
      "cell_type": "code",
      "execution_count": null,
      "metadata": {
        "colab": {
          "base_uri": "https://localhost:8080/"
        },
        "id": "BgNqAOhM4E8v",
        "outputId": "94b3fa69-aebc-4f6d-85d2-724608dd9222"
      },
      "outputs": [
        {
          "name": "stdout",
          "output_type": "stream",
          "text": [
            "              precision    recall  f1-score   support\n",
            "\n",
            "           0       1.00      0.00      0.00      1000\n",
            "           1       0.00      0.00      0.00      1000\n",
            "           2       0.00      0.00      0.00      1000\n",
            "           3       0.00      0.00      0.00      1000\n",
            "           4       0.00      0.00      0.00      1000\n",
            "           5       0.00      0.00      0.00      1000\n",
            "           6       0.00      0.00      0.00      1000\n",
            "           7       0.00      0.00      0.00      1000\n",
            "           8       0.00      0.00      0.00      1000\n",
            "           9       0.10      1.00      0.18      1000\n",
            "\n",
            "    accuracy                           0.10     10000\n",
            "   macro avg       0.11      0.10      0.02     10000\n",
            "weighted avg       0.11      0.10      0.02     10000\n",
            "\n",
            "time: 32.8 ms (started: 2021-12-10 19:47:59 +00:00)\n"
          ]
        },
        {
          "name": "stderr",
          "output_type": "stream",
          "text": [
            "/usr/local/lib/python3.7/dist-packages/sklearn/metrics/_classification.py:1308: UndefinedMetricWarning: Precision and F-score are ill-defined and being set to 0.0 in labels with no predicted samples. Use `zero_division` parameter to control this behavior.\n",
            "  _warn_prf(average, modifier, msg_start, len(result))\n",
            "/usr/local/lib/python3.7/dist-packages/sklearn/metrics/_classification.py:1308: UndefinedMetricWarning: Precision and F-score are ill-defined and being set to 0.0 in labels with no predicted samples. Use `zero_division` parameter to control this behavior.\n",
            "  _warn_prf(average, modifier, msg_start, len(result))\n",
            "/usr/local/lib/python3.7/dist-packages/sklearn/metrics/_classification.py:1308: UndefinedMetricWarning: Precision and F-score are ill-defined and being set to 0.0 in labels with no predicted samples. Use `zero_division` parameter to control this behavior.\n",
            "  _warn_prf(average, modifier, msg_start, len(result))\n"
          ]
        }
      ],
      "source": [
        "print(metrics.classification_report(test_labels, svm_predictions))"
      ]
    },
    {
      "cell_type": "code",
      "execution_count": null,
      "metadata": {
        "colab": {
          "base_uri": "https://localhost:8080/"
        },
        "id": "M_SAjmi_M3pL",
        "outputId": "0de9c845-5377-4c13-aa98-cb6e318db273"
      },
      "outputs": [
        {
          "name": "stdout",
          "output_type": "stream",
          "text": [
            "Fitting 5 folds for each of 50 candidates, totalling 250 fits\n",
            "[CV 1/5] END ......C=0.001, gamma=1, kernel=rbf;, score=0.105 total time=  23.6s\n",
            "[CV 2/5] END ......C=0.001, gamma=1, kernel=rbf;, score=0.105 total time=  25.2s\n",
            "[CV 3/5] END ......C=0.001, gamma=1, kernel=rbf;, score=0.104 total time=  24.9s\n",
            "[CV 4/5] END ......C=0.001, gamma=1, kernel=rbf;, score=0.104 total time=  23.3s\n",
            "[CV 5/5] END ......C=0.001, gamma=1, kernel=rbf;, score=0.105 total time=  24.3s\n",
            "[CV 1/5] END .....C=0.001, gamma=1, kernel=poly;, score=0.811 total time=   2.7s\n",
            "[CV 2/5] END .....C=0.001, gamma=1, kernel=poly;, score=0.836 total time=   3.0s\n",
            "[CV 3/5] END .....C=0.001, gamma=1, kernel=poly;, score=0.824 total time=   3.1s\n",
            "[CV 4/5] END .....C=0.001, gamma=1, kernel=poly;, score=0.824 total time=   3.1s\n",
            "[CV 5/5] END .....C=0.001, gamma=1, kernel=poly;, score=0.828 total time=   2.9s\n",
            "[CV 1/5] END ....C=0.001, gamma=0.1, kernel=rbf;, score=0.105 total time=  24.4s\n",
            "[CV 2/5] END ....C=0.001, gamma=0.1, kernel=rbf;, score=0.105 total time=  23.9s\n",
            "[CV 3/5] END ....C=0.001, gamma=0.1, kernel=rbf;, score=0.104 total time=  25.0s\n",
            "[CV 4/5] END ....C=0.001, gamma=0.1, kernel=rbf;, score=0.104 total time=  25.0s\n",
            "[CV 5/5] END ....C=0.001, gamma=0.1, kernel=rbf;, score=0.105 total time=  25.3s\n",
            "[CV 1/5] END ...C=0.001, gamma=0.1, kernel=poly;, score=0.781 total time=   4.4s\n",
            "[CV 2/5] END ...C=0.001, gamma=0.1, kernel=poly;, score=0.804 total time=   4.7s\n",
            "[CV 3/5] END ...C=0.001, gamma=0.1, kernel=poly;, score=0.807 total time=   5.3s\n",
            "[CV 4/5] END ...C=0.001, gamma=0.1, kernel=poly;, score=0.798 total time=   5.3s\n",
            "[CV 5/5] END ...C=0.001, gamma=0.1, kernel=poly;, score=0.799 total time=   5.2s\n",
            "[CV 1/5] END ...C=0.001, gamma=0.01, kernel=rbf;, score=0.105 total time=  25.1s\n",
            "[CV 2/5] END ...C=0.001, gamma=0.01, kernel=rbf;, score=0.105 total time=  25.3s\n",
            "[CV 3/5] END ...C=0.001, gamma=0.01, kernel=rbf;, score=0.104 total time=  25.3s\n",
            "[CV 4/5] END ...C=0.001, gamma=0.01, kernel=rbf;, score=0.104 total time=  24.9s\n",
            "[CV 5/5] END ...C=0.001, gamma=0.01, kernel=rbf;, score=0.105 total time=  23.9s\n",
            "[CV 1/5] END ..C=0.001, gamma=0.01, kernel=poly;, score=0.407 total time=  18.3s\n",
            "[CV 2/5] END ..C=0.001, gamma=0.01, kernel=poly;, score=0.409 total time=  18.8s\n",
            "[CV 3/5] END ..C=0.001, gamma=0.01, kernel=poly;, score=0.427 total time=  18.6s\n",
            "[CV 4/5] END ..C=0.001, gamma=0.01, kernel=poly;, score=0.421 total time=  17.9s\n",
            "[CV 5/5] END ..C=0.001, gamma=0.01, kernel=poly;, score=0.418 total time=  18.3s\n",
            "[CV 1/5] END ..C=0.001, gamma=0.001, kernel=rbf;, score=0.105 total time=  25.4s\n",
            "[CV 2/5] END ..C=0.001, gamma=0.001, kernel=rbf;, score=0.105 total time=  24.9s\n",
            "[CV 3/5] END ..C=0.001, gamma=0.001, kernel=rbf;, score=0.104 total time=  24.8s\n",
            "[CV 4/5] END ..C=0.001, gamma=0.001, kernel=rbf;, score=0.104 total time=  24.1s\n",
            "[CV 5/5] END ..C=0.001, gamma=0.001, kernel=rbf;, score=0.105 total time=  24.5s\n",
            "[CV 1/5] END .C=0.001, gamma=0.001, kernel=poly;, score=0.105 total time=  20.7s\n",
            "[CV 2/5] END .C=0.001, gamma=0.001, kernel=poly;, score=0.105 total time=  19.7s\n",
            "[CV 3/5] END .C=0.001, gamma=0.001, kernel=poly;, score=0.104 total time=  20.0s\n",
            "[CV 4/5] END .C=0.001, gamma=0.001, kernel=poly;, score=0.104 total time=  20.0s\n",
            "[CV 5/5] END .C=0.001, gamma=0.001, kernel=poly;, score=0.105 total time=  20.9s\n",
            "[CV 1/5] END .C=0.001, gamma=0.0001, kernel=rbf;, score=0.105 total time=  24.0s\n",
            "[CV 2/5] END .C=0.001, gamma=0.0001, kernel=rbf;, score=0.105 total time=  24.7s\n",
            "[CV 3/5] END .C=0.001, gamma=0.0001, kernel=rbf;, score=0.104 total time=  24.8s\n",
            "[CV 4/5] END .C=0.001, gamma=0.0001, kernel=rbf;, score=0.104 total time=  24.5s\n",
            "[CV 5/5] END .C=0.001, gamma=0.0001, kernel=rbf;, score=0.105 total time=  24.3s\n",
            "[CV 1/5] END C=0.001, gamma=0.0001, kernel=poly;, score=0.105 total time=  20.4s\n",
            "[CV 2/5] END C=0.001, gamma=0.0001, kernel=poly;, score=0.105 total time=  20.1s\n",
            "[CV 3/5] END C=0.001, gamma=0.0001, kernel=poly;, score=0.104 total time=  20.2s\n",
            "[CV 4/5] END C=0.001, gamma=0.0001, kernel=poly;, score=0.104 total time=  20.8s\n",
            "[CV 5/5] END C=0.001, gamma=0.0001, kernel=poly;, score=0.105 total time=  20.0s\n",
            "[CV 1/5] END .......C=0.01, gamma=1, kernel=rbf;, score=0.105 total time=  24.8s\n",
            "[CV 2/5] END .......C=0.01, gamma=1, kernel=rbf;, score=0.105 total time=  26.6s\n",
            "[CV 3/5] END .......C=0.01, gamma=1, kernel=rbf;, score=0.104 total time=  26.3s\n",
            "[CV 4/5] END .......C=0.01, gamma=1, kernel=rbf;, score=0.104 total time=  25.6s\n",
            "[CV 5/5] END .......C=0.01, gamma=1, kernel=rbf;, score=0.105 total time=  26.7s\n",
            "[CV 1/5] END ......C=0.01, gamma=1, kernel=poly;, score=0.806 total time=   3.0s\n",
            "[CV 2/5] END ......C=0.01, gamma=1, kernel=poly;, score=0.833 total time=   3.1s\n",
            "[CV 3/5] END ......C=0.01, gamma=1, kernel=poly;, score=0.829 total time=   3.3s\n",
            "[CV 4/5] END ......C=0.01, gamma=1, kernel=poly;, score=0.826 total time=   3.3s\n",
            "[CV 5/5] END ......C=0.01, gamma=1, kernel=poly;, score=0.818 total time=   3.1s\n",
            "[CV 1/5] END .....C=0.01, gamma=0.1, kernel=rbf;, score=0.105 total time=  25.2s\n",
            "[CV 2/5] END .....C=0.01, gamma=0.1, kernel=rbf;, score=0.105 total time=  25.4s\n",
            "[CV 3/5] END .....C=0.01, gamma=0.1, kernel=rbf;, score=0.104 total time=  25.3s\n",
            "[CV 4/5] END .....C=0.01, gamma=0.1, kernel=rbf;, score=0.104 total time=  24.6s\n",
            "[CV 5/5] END .....C=0.01, gamma=0.1, kernel=rbf;, score=0.105 total time=  25.7s\n",
            "[CV 1/5] END ....C=0.01, gamma=0.1, kernel=poly;, score=0.814 total time=   4.2s\n",
            "[CV 2/5] END ....C=0.01, gamma=0.1, kernel=poly;, score=0.834 total time=   4.3s\n",
            "[CV 3/5] END ....C=0.01, gamma=0.1, kernel=poly;, score=0.836 total time=   4.6s\n",
            "[CV 4/5] END ....C=0.01, gamma=0.1, kernel=poly;, score=0.816 total time=   4.4s\n",
            "[CV 5/5] END ....C=0.01, gamma=0.1, kernel=poly;, score=0.836 total time=   4.5s\n",
            "[CV 1/5] END ....C=0.01, gamma=0.01, kernel=rbf;, score=0.636 total time=  22.2s\n",
            "[CV 2/5] END ....C=0.01, gamma=0.01, kernel=rbf;, score=0.649 total time=  21.6s\n",
            "[CV 3/5] END ....C=0.01, gamma=0.01, kernel=rbf;, score=0.666 total time=  22.4s\n",
            "[CV 4/5] END ....C=0.01, gamma=0.01, kernel=rbf;, score=0.646 total time=  21.7s\n",
            "[CV 5/5] END ....C=0.01, gamma=0.01, kernel=rbf;, score=0.636 total time=  21.4s\n",
            "[CV 1/5] END ...C=0.01, gamma=0.01, kernel=poly;, score=0.629 total time=  12.2s\n",
            "[CV 2/5] END ...C=0.01, gamma=0.01, kernel=poly;, score=0.631 total time=  12.7s\n",
            "[CV 3/5] END ...C=0.01, gamma=0.01, kernel=poly;, score=0.627 total time=  12.5s\n",
            "[CV 4/5] END ...C=0.01, gamma=0.01, kernel=poly;, score=0.613 total time=  12.4s\n",
            "[CV 5/5] END ...C=0.01, gamma=0.01, kernel=poly;, score=0.614 total time=  12.2s\n",
            "[CV 1/5] END ...C=0.01, gamma=0.001, kernel=rbf;, score=0.179 total time=  26.2s\n",
            "[CV 2/5] END ...C=0.01, gamma=0.001, kernel=rbf;, score=0.136 total time=  25.5s\n",
            "[CV 3/5] END ...C=0.01, gamma=0.001, kernel=rbf;, score=0.134 total time=  25.6s\n",
            "[CV 4/5] END ...C=0.01, gamma=0.001, kernel=rbf;, score=0.149 total time=  26.4s\n",
            "[CV 5/5] END ...C=0.01, gamma=0.001, kernel=rbf;, score=0.156 total time=  25.1s\n",
            "[CV 1/5] END ..C=0.01, gamma=0.001, kernel=poly;, score=0.105 total time=  22.0s\n",
            "[CV 2/5] END ..C=0.01, gamma=0.001, kernel=poly;, score=0.105 total time=  21.8s\n",
            "[CV 3/5] END ..C=0.01, gamma=0.001, kernel=poly;, score=0.104 total time=  21.0s\n",
            "[CV 4/5] END ..C=0.01, gamma=0.001, kernel=poly;, score=0.104 total time=  21.9s\n",
            "[CV 5/5] END ..C=0.01, gamma=0.001, kernel=poly;, score=0.105 total time=  21.9s\n",
            "[CV 1/5] END ..C=0.01, gamma=0.0001, kernel=rbf;, score=0.105 total time=  24.7s\n",
            "[CV 2/5] END ..C=0.01, gamma=0.0001, kernel=rbf;, score=0.105 total time=  26.4s\n",
            "[CV 3/5] END ..C=0.01, gamma=0.0001, kernel=rbf;, score=0.104 total time=  25.3s\n",
            "[CV 4/5] END ..C=0.01, gamma=0.0001, kernel=rbf;, score=0.104 total time=  25.0s\n",
            "[CV 5/5] END ..C=0.01, gamma=0.0001, kernel=rbf;, score=0.105 total time=  25.5s\n",
            "[CV 1/5] END .C=0.01, gamma=0.0001, kernel=poly;, score=0.105 total time=  22.0s\n",
            "[CV 2/5] END .C=0.01, gamma=0.0001, kernel=poly;, score=0.105 total time=  21.0s\n",
            "[CV 3/5] END .C=0.01, gamma=0.0001, kernel=poly;, score=0.104 total time=  21.2s\n",
            "[CV 4/5] END .C=0.01, gamma=0.0001, kernel=poly;, score=0.104 total time=  20.9s\n",
            "[CV 5/5] END .C=0.01, gamma=0.0001, kernel=poly;, score=0.105 total time=  21.7s\n",
            "[CV 1/5] END ........C=0.1, gamma=1, kernel=rbf;, score=0.105 total time=  25.3s\n",
            "[CV 2/5] END ........C=0.1, gamma=1, kernel=rbf;, score=0.105 total time=  28.1s\n",
            "[CV 3/5] END ........C=0.1, gamma=1, kernel=rbf;, score=0.104 total time=  24.9s\n",
            "[CV 4/5] END ........C=0.1, gamma=1, kernel=rbf;, score=0.104 total time=  26.3s\n",
            "[CV 5/5] END ........C=0.1, gamma=1, kernel=rbf;, score=0.105 total time=  25.6s\n",
            "[CV 1/5] END .......C=0.1, gamma=1, kernel=poly;, score=0.806 total time=   3.0s\n",
            "[CV 2/5] END .......C=0.1, gamma=1, kernel=poly;, score=0.833 total time=   2.8s\n",
            "[CV 3/5] END .......C=0.1, gamma=1, kernel=poly;, score=0.829 total time=   3.0s\n",
            "[CV 4/5] END .......C=0.1, gamma=1, kernel=poly;, score=0.826 total time=   3.1s\n",
            "[CV 5/5] END .......C=0.1, gamma=1, kernel=poly;, score=0.818 total time=   3.1s\n",
            "[CV 1/5] END ......C=0.1, gamma=0.1, kernel=rbf;, score=0.386 total time=  23.7s\n",
            "[CV 2/5] END ......C=0.1, gamma=0.1, kernel=rbf;, score=0.389 total time=  23.4s\n",
            "[CV 3/5] END ......C=0.1, gamma=0.1, kernel=rbf;, score=0.406 total time=  23.7s\n",
            "[CV 4/5] END ......C=0.1, gamma=0.1, kernel=rbf;, score=0.401 total time=  23.7s\n",
            "[CV 5/5] END ......C=0.1, gamma=0.1, kernel=rbf;, score=0.384 total time=  23.0s\n",
            "[CV 1/5] END .....C=0.1, gamma=0.1, kernel=poly;, score=0.823 total time=   3.1s\n",
            "[CV 2/5] END .....C=0.1, gamma=0.1, kernel=poly;, score=0.841 total time=   3.4s\n",
            "[CV 3/5] END .....C=0.1, gamma=0.1, kernel=poly;, score=0.838 total time=   3.4s\n",
            "[CV 4/5] END .....C=0.1, gamma=0.1, kernel=poly;, score=0.817 total time=   3.5s\n",
            "[CV 5/5] END .....C=0.1, gamma=0.1, kernel=poly;, score=0.829 total time=   3.8s\n",
            "[CV 1/5] END .....C=0.1, gamma=0.01, kernel=rbf;, score=0.759 total time=  10.6s\n",
            "[CV 2/5] END .....C=0.1, gamma=0.01, kernel=rbf;, score=0.773 total time=  13.3s\n",
            "[CV 3/5] END .....C=0.1, gamma=0.01, kernel=rbf;, score=0.795 total time=  15.7s\n",
            "[CV 4/5] END .....C=0.1, gamma=0.01, kernel=rbf;, score=0.779 total time=  11.3s\n",
            "[CV 5/5] END .....C=0.1, gamma=0.01, kernel=rbf;, score=0.769 total time=  11.5s\n",
            "[CV 1/5] END ....C=0.1, gamma=0.01, kernel=poly;, score=0.721 total time=   8.6s\n",
            "[CV 2/5] END ....C=0.1, gamma=0.01, kernel=poly;, score=0.734 total time=   7.6s\n",
            "[CV 3/5] END ....C=0.1, gamma=0.01, kernel=poly;, score=0.754 total time=   7.4s\n",
            "[CV 4/5] END ....C=0.1, gamma=0.01, kernel=poly;, score=0.732 total time=   7.6s\n",
            "[CV 5/5] END ....C=0.1, gamma=0.01, kernel=poly;, score=0.731 total time=   7.4s\n",
            "[CV 1/5] END ....C=0.1, gamma=0.001, kernel=rbf;, score=0.691 total time=  17.2s\n",
            "[CV 2/5] END ....C=0.1, gamma=0.001, kernel=rbf;, score=0.700 total time=  17.4s\n",
            "[CV 3/5] END ....C=0.1, gamma=0.001, kernel=rbf;, score=0.711 total time=  17.0s\n",
            "[CV 4/5] END ....C=0.1, gamma=0.001, kernel=rbf;, score=0.708 total time=  17.3s\n",
            "[CV 5/5] END ....C=0.1, gamma=0.001, kernel=rbf;, score=0.702 total time=  16.6s\n",
            "[CV 1/5] END ...C=0.1, gamma=0.001, kernel=poly;, score=0.105 total time=  21.7s\n",
            "[CV 2/5] END ...C=0.1, gamma=0.001, kernel=poly;, score=0.105 total time=  19.5s\n",
            "[CV 3/5] END ...C=0.1, gamma=0.001, kernel=poly;, score=0.104 total time=  21.5s\n",
            "[CV 4/5] END ...C=0.1, gamma=0.001, kernel=poly;, score=0.104 total time=  21.7s\n",
            "[CV 5/5] END ...C=0.1, gamma=0.001, kernel=poly;, score=0.105 total time=  22.8s\n",
            "[CV 1/5] END ...C=0.1, gamma=0.0001, kernel=rbf;, score=0.273 total time=  26.0s\n",
            "[CV 2/5] END ...C=0.1, gamma=0.0001, kernel=rbf;, score=0.269 total time=  23.6s\n",
            "[CV 3/5] END ...C=0.1, gamma=0.0001, kernel=rbf;, score=0.267 total time=  24.0s\n",
            "[CV 4/5] END ...C=0.1, gamma=0.0001, kernel=rbf;, score=0.258 total time=  25.2s\n",
            "[CV 5/5] END ...C=0.1, gamma=0.0001, kernel=rbf;, score=0.294 total time=  25.7s\n",
            "[CV 1/5] END ..C=0.1, gamma=0.0001, kernel=poly;, score=0.105 total time=  20.6s\n",
            "[CV 2/5] END ..C=0.1, gamma=0.0001, kernel=poly;, score=0.105 total time=  20.1s\n",
            "[CV 3/5] END ..C=0.1, gamma=0.0001, kernel=poly;, score=0.104 total time=  21.1s\n",
            "[CV 4/5] END ..C=0.1, gamma=0.0001, kernel=poly;, score=0.104 total time=  21.4s\n",
            "[CV 5/5] END ..C=0.1, gamma=0.0001, kernel=poly;, score=0.105 total time=  21.9s\n",
            "[CV 1/5] END ..........C=1, gamma=1, kernel=rbf;, score=0.114 total time=  27.3s\n",
            "[CV 2/5] END ..........C=1, gamma=1, kernel=rbf;, score=0.115 total time=  25.5s\n",
            "[CV 3/5] END ..........C=1, gamma=1, kernel=rbf;, score=0.111 total time=  26.8s\n",
            "[CV 4/5] END ..........C=1, gamma=1, kernel=rbf;, score=0.109 total time=  27.6s\n",
            "[CV 5/5] END ..........C=1, gamma=1, kernel=rbf;, score=0.109 total time=  27.8s\n",
            "[CV 1/5] END .........C=1, gamma=1, kernel=poly;, score=0.806 total time=   3.0s\n",
            "[CV 2/5] END .........C=1, gamma=1, kernel=poly;, score=0.833 total time=   3.4s\n",
            "[CV 3/5] END .........C=1, gamma=1, kernel=poly;, score=0.829 total time=   3.4s\n",
            "[CV 4/5] END .........C=1, gamma=1, kernel=poly;, score=0.826 total time=   3.8s\n",
            "[CV 5/5] END .........C=1, gamma=1, kernel=poly;, score=0.818 total time=   3.4s\n",
            "[CV 1/5] END ........C=1, gamma=0.1, kernel=rbf;, score=0.769 total time=  23.6s\n",
            "[CV 2/5] END ........C=1, gamma=0.1, kernel=rbf;, score=0.785 total time=  23.9s\n",
            "[CV 3/5] END ........C=1, gamma=0.1, kernel=rbf;, score=0.789 total time=  24.4s\n",
            "[CV 4/5] END ........C=1, gamma=0.1, kernel=rbf;, score=0.771 total time=  24.6s\n",
            "[CV 5/5] END ........C=1, gamma=0.1, kernel=rbf;, score=0.768 total time=  23.0s\n",
            "[CV 1/5] END .......C=1, gamma=0.1, kernel=poly;, score=0.811 total time=   3.2s\n",
            "[CV 2/5] END .......C=1, gamma=0.1, kernel=poly;, score=0.836 total time=   3.5s\n",
            "[CV 3/5] END .......C=1, gamma=0.1, kernel=poly;, score=0.824 total time=   3.6s\n",
            "[CV 4/5] END .......C=1, gamma=0.1, kernel=poly;, score=0.824 total time=   3.5s\n",
            "[CV 5/5] END .......C=1, gamma=0.1, kernel=poly;, score=0.828 total time=   3.7s\n",
            "[CV 1/5] END .......C=1, gamma=0.01, kernel=rbf;, score=0.841 total time=   7.7s\n",
            "[CV 2/5] END .......C=1, gamma=0.01, kernel=rbf;, score=0.848 total time=   8.2s\n",
            "[CV 3/5] END .......C=1, gamma=0.01, kernel=rbf;, score=0.860 total time=   7.6s\n",
            "[CV 4/5] END .......C=1, gamma=0.01, kernel=rbf;, score=0.844 total time=   8.0s\n",
            "[CV 5/5] END .......C=1, gamma=0.01, kernel=rbf;, score=0.846 total time=   7.5s\n",
            "[CV 1/5] END ......C=1, gamma=0.01, kernel=poly;, score=0.781 total time=   5.3s\n",
            "[CV 2/5] END ......C=1, gamma=0.01, kernel=poly;, score=0.804 total time=   5.5s\n",
            "[CV 3/5] END ......C=1, gamma=0.01, kernel=poly;, score=0.807 total time=   5.7s\n",
            "[CV 4/5] END ......C=1, gamma=0.01, kernel=poly;, score=0.798 total time=   5.9s\n",
            "[CV 5/5] END ......C=1, gamma=0.01, kernel=poly;, score=0.799 total time=   5.6s\n",
            "[CV 1/5] END ......C=1, gamma=0.001, kernel=rbf;, score=0.771 total time=   9.8s\n",
            "[CV 2/5] END ......C=1, gamma=0.001, kernel=rbf;, score=0.791 total time=   9.9s\n",
            "[CV 3/5] END ......C=1, gamma=0.001, kernel=rbf;, score=0.802 total time=   9.9s\n",
            "[CV 4/5] END ......C=1, gamma=0.001, kernel=rbf;, score=0.794 total time=   9.7s\n",
            "[CV 5/5] END ......C=1, gamma=0.001, kernel=rbf;, score=0.790 total time=   9.4s\n",
            "[CV 1/5] END .....C=1, gamma=0.001, kernel=poly;, score=0.407 total time=  18.6s\n",
            "[CV 2/5] END .....C=1, gamma=0.001, kernel=poly;, score=0.409 total time=  19.1s\n",
            "[CV 3/5] END .....C=1, gamma=0.001, kernel=poly;, score=0.427 total time=  18.9s\n",
            "[CV 4/5] END .....C=1, gamma=0.001, kernel=poly;, score=0.421 total time=  18.4s\n",
            "[CV 5/5] END .....C=1, gamma=0.001, kernel=poly;, score=0.418 total time=  18.5s\n",
            "[CV 1/5] END .....C=1, gamma=0.0001, kernel=rbf;, score=0.694 total time=  16.3s\n",
            "[CV 2/5] END .....C=1, gamma=0.0001, kernel=rbf;, score=0.702 total time=  16.8s\n",
            "[CV 3/5] END .....C=1, gamma=0.0001, kernel=rbf;, score=0.710 total time=  15.8s\n",
            "[CV 4/5] END .....C=1, gamma=0.0001, kernel=rbf;, score=0.709 total time=  15.7s\n",
            "[CV 5/5] END .....C=1, gamma=0.0001, kernel=rbf;, score=0.703 total time=  16.0s\n",
            "[CV 1/5] END ....C=1, gamma=0.0001, kernel=poly;, score=0.105 total time=  22.4s\n",
            "[CV 2/5] END ....C=1, gamma=0.0001, kernel=poly;, score=0.105 total time=  21.4s\n",
            "[CV 3/5] END ....C=1, gamma=0.0001, kernel=poly;, score=0.104 total time=  21.7s\n",
            "[CV 4/5] END ....C=1, gamma=0.0001, kernel=poly;, score=0.104 total time=  22.4s\n",
            "[CV 5/5] END ....C=1, gamma=0.0001, kernel=poly;, score=0.105 total time=  20.7s\n",
            "[CV 1/5] END .........C=10, gamma=1, kernel=rbf;, score=0.119 total time=  26.1s\n",
            "[CV 2/5] END .........C=10, gamma=1, kernel=rbf;, score=0.124 total time=  27.1s\n",
            "[CV 3/5] END .........C=10, gamma=1, kernel=rbf;, score=0.122 total time=  25.7s\n",
            "[CV 4/5] END .........C=10, gamma=1, kernel=rbf;, score=0.116 total time=  27.0s\n",
            "[CV 5/5] END .........C=10, gamma=1, kernel=rbf;, score=0.115 total time=  26.8s\n",
            "[CV 1/5] END ........C=10, gamma=1, kernel=poly;, score=0.806 total time=   2.7s\n",
            "[CV 2/5] END ........C=10, gamma=1, kernel=poly;, score=0.833 total time=   3.0s\n",
            "[CV 3/5] END ........C=10, gamma=1, kernel=poly;, score=0.829 total time=   3.2s\n",
            "[CV 4/5] END ........C=10, gamma=1, kernel=poly;, score=0.826 total time=   3.2s\n",
            "[CV 5/5] END ........C=10, gamma=1, kernel=poly;, score=0.818 total time=   3.2s\n",
            "[CV 1/5] END .......C=10, gamma=0.1, kernel=rbf;, score=0.778 total time=  23.2s\n",
            "[CV 2/5] END .......C=10, gamma=0.1, kernel=rbf;, score=0.795 total time=  24.3s\n",
            "[CV 3/5] END .......C=10, gamma=0.1, kernel=rbf;, score=0.798 total time=  23.6s\n",
            "[CV 4/5] END .......C=10, gamma=0.1, kernel=rbf;, score=0.781 total time=  22.6s\n",
            "[CV 5/5] END .......C=10, gamma=0.1, kernel=rbf;, score=0.785 total time=  23.4s\n",
            "[CV 1/5] END ......C=10, gamma=0.1, kernel=poly;, score=0.806 total time=   3.0s\n",
            "[CV 2/5] END ......C=10, gamma=0.1, kernel=poly;, score=0.833 total time=   3.4s\n",
            "[CV 3/5] END ......C=10, gamma=0.1, kernel=poly;, score=0.829 total time=   3.6s\n",
            "[CV 4/5] END ......C=10, gamma=0.1, kernel=poly;, score=0.826 total time=   3.4s\n",
            "[CV 5/5] END ......C=10, gamma=0.1, kernel=poly;, score=0.818 total time=   3.4s\n",
            "[CV 1/5] END ......C=10, gamma=0.01, kernel=rbf;, score=0.848 total time=   6.7s\n",
            "[CV 2/5] END ......C=10, gamma=0.01, kernel=rbf;, score=0.877 total time=   6.9s\n",
            "[CV 3/5] END ......C=10, gamma=0.01, kernel=rbf;, score=0.864 total time=   6.8s\n",
            "[CV 4/5] END ......C=10, gamma=0.01, kernel=rbf;, score=0.862 total time=   6.8s\n",
            "[CV 5/5] END ......C=10, gamma=0.01, kernel=rbf;, score=0.861 total time=   6.4s\n",
            "[CV 1/5] END .....C=10, gamma=0.01, kernel=poly;, score=0.814 total time=   4.0s\n",
            "[CV 2/5] END .....C=10, gamma=0.01, kernel=poly;, score=0.834 total time=   4.3s\n",
            "[CV 3/5] END .....C=10, gamma=0.01, kernel=poly;, score=0.836 total time=   3.8s\n",
            "[CV 4/5] END .....C=10, gamma=0.01, kernel=poly;, score=0.816 total time=   3.8s\n",
            "[CV 5/5] END .....C=10, gamma=0.01, kernel=poly;, score=0.836 total time=   3.7s\n",
            "[CV 1/5] END .....C=10, gamma=0.001, kernel=rbf;, score=0.833 total time=   6.1s\n",
            "[CV 2/5] END .....C=10, gamma=0.001, kernel=rbf;, score=0.851 total time=   6.2s\n",
            "[CV 3/5] END .....C=10, gamma=0.001, kernel=rbf;, score=0.847 total time=   5.7s\n",
            "[CV 4/5] END .....C=10, gamma=0.001, kernel=rbf;, score=0.844 total time=   6.5s\n",
            "[CV 5/5] END .....C=10, gamma=0.001, kernel=rbf;, score=0.836 total time=   5.7s\n",
            "[CV 1/5] END ....C=10, gamma=0.001, kernel=poly;, score=0.629 total time=  14.5s\n",
            "[CV 2/5] END ....C=10, gamma=0.001, kernel=poly;, score=0.631 total time=  13.6s\n",
            "[CV 3/5] END ....C=10, gamma=0.001, kernel=poly;, score=0.627 total time=  13.9s\n",
            "[CV 4/5] END ....C=10, gamma=0.001, kernel=poly;, score=0.613 total time=  12.9s\n",
            "[CV 5/5] END ....C=10, gamma=0.001, kernel=poly;, score=0.614 total time=  13.2s\n",
            "[CV 1/5] END ....C=10, gamma=0.0001, kernel=rbf;, score=0.771 total time=  11.1s\n",
            "[CV 2/5] END ....C=10, gamma=0.0001, kernel=rbf;, score=0.791 total time=  13.0s\n",
            "[CV 3/5] END ....C=10, gamma=0.0001, kernel=rbf;, score=0.801 total time=   9.8s\n",
            "[CV 4/5] END ....C=10, gamma=0.0001, kernel=rbf;, score=0.794 total time=  10.4s\n",
            "[CV 5/5] END ....C=10, gamma=0.0001, kernel=rbf;, score=0.787 total time=  10.1s\n",
            "[CV 1/5] END ...C=10, gamma=0.0001, kernel=poly;, score=0.105 total time=  21.0s\n",
            "[CV 2/5] END ...C=10, gamma=0.0001, kernel=poly;, score=0.105 total time=  22.5s\n",
            "[CV 3/5] END ...C=10, gamma=0.0001, kernel=poly;, score=0.104 total time=  22.5s\n",
            "[CV 4/5] END ...C=10, gamma=0.0001, kernel=poly;, score=0.104 total time=  21.5s\n",
            "[CV 5/5] END ...C=10, gamma=0.0001, kernel=poly;, score=0.105 total time=  21.8s\n"
          ]
        },
        {
          "data": {
            "text/plain": [
              "GridSearchCV(estimator=SVC(),\n",
              "             param_grid={'C': [0.001, 0.01, 0.1, 1, 10],\n",
              "                         'gamma': [1, 0.1, 0.01, 0.001, 0.0001],\n",
              "                         'kernel': ['rbf', 'poly']},\n",
              "             verbose=3)"
            ]
          },
          "execution_count": 11,
          "metadata": {},
          "output_type": "execute_result"
        },
        {
          "name": "stdout",
          "output_type": "stream",
          "text": [
            "time: 1h 6min 18s (started: 2021-12-10 22:27:45 +00:00)\n"
          ]
        }
      ],
      "source": [
        "# SVM Model: Entire data set\n",
        "\n",
        "\n",
        "# Total input = 70 000 samples from train_images_f\n",
        "# test_size to 10% --> training size = 90%\n",
        "# According to the doc it scales quadratically given the previous run I assume \n",
        "# 1 hr 20 min for grid search CVp\n",
        "\n",
        "X_train_ten, X_test_ninty, y_train_ten, y_test_ninty  = train_test_split(\n",
        "    all_images_f, all_labels, test_size = 0.90, random_state = 101, stratify=all_labels)\n",
        "\n",
        "parameters_grid = {'C':[0.001, 0.01, 0.1, 1, 10], 'gamma': [1, 0.1, 0.01, 0.001, 0.0001],\n",
        "            'kernel': ['rbf', 'poly']}\n",
        "svm_grid = GridSearchCV(SVC(),parameters_grid, refit = True, verbose = 3)\n",
        "svm_grid.fit(X_train_all, y_train_all) # fitting the model for grid search"
      ]
    },
    {
      "cell_type": "code",
      "execution_count": null,
      "metadata": {
        "colab": {
          "base_uri": "https://localhost:8080/"
        },
        "id": "an3p2XJQdSmt",
        "outputId": "1f8c31e6-c6d4-4b46-d121-545af6b7dfa4"
      },
      "outputs": [
        {
          "name": "stdout",
          "output_type": "stream",
          "text": [
            "{'C': 10, 'gamma': 0.01, 'kernel': 'rbf'}\n",
            "SVC(C=10, gamma=0.01)\n",
            "time: 2.38 ms (started: 2021-12-10 23:34:05 +00:00)\n"
          ]
        }
      ],
      "source": [
        "# print best parameter after tuning\n",
        "print(svm_grid.best_params_)\n",
        " \n",
        "# print how our model looks after hyper-parameter tuning\n",
        "print(svm_grid.best_estimator_)"
      ]
    },
    {
      "cell_type": "code",
      "execution_count": null,
      "metadata": {
        "colab": {
          "base_uri": "https://localhost:8080/"
        },
        "id": "sxLm6NorcARa",
        "outputId": "bcd011ea-3800-473d-c371-4dca04dff11e"
      },
      "outputs": [
        {
          "name": "stdout",
          "output_type": "stream",
          "text": [
            "time: 3min 33s (started: 2021-12-10 23:34:05 +00:00)\n"
          ]
        }
      ],
      "source": [
        "# train the model on train set\n",
        "# model = SVC()\n",
        "# model.fit(X_train, y_train)\n",
        " \n",
        "# print prediction results\n",
        "svm_grid_predictions = svm_grid.predict(X_test_all)"
      ]
    },
    {
      "cell_type": "code",
      "execution_count": null,
      "metadata": {
        "colab": {
          "base_uri": "https://localhost:8080/"
        },
        "id": "m3Hha-G4e7L5",
        "outputId": "ecff3357-e379-4126-90ec-a979b71f1fd2"
      },
      "outputs": [
        {
          "name": "stdout",
          "output_type": "stream",
          "text": [
            "              precision    recall  f1-score   support\n",
            "\n",
            "           0       0.80      0.83      0.81      6341\n",
            "           1       0.99      0.97      0.98      6310\n",
            "           2       0.77      0.79      0.78      6279\n",
            "           3       0.87      0.89      0.88      6292\n",
            "           4       0.79      0.81      0.80      6290\n",
            "           5       0.96      0.94      0.95      6332\n",
            "           6       0.70      0.63      0.66      6307\n",
            "           7       0.92      0.94      0.93      6280\n",
            "           8       0.96      0.96      0.96      6267\n",
            "           9       0.95      0.95      0.95      6302\n",
            "\n",
            "    accuracy                           0.87     63000\n",
            "   macro avg       0.87      0.87      0.87     63000\n",
            "weighted avg       0.87      0.87      0.87     63000\n",
            "\n",
            "time: 2min 45s (started: 2021-12-10 23:50:02 +00:00)\n"
          ]
        }
      ],
      "source": [
        "# print classification report\n",
        "print(classification_report(y_test_all, svm_grid_predictions))\n"
      ]
    },
    {
      "cell_type": "code",
      "execution_count": null,
      "metadata": {
        "colab": {
          "base_uri": "https://localhost:8080/"
        },
        "id": "dJlGOUZ-wquY",
        "outputId": "0909a192-3265-4cee-ef8f-dd92aed234d4"
      },
      "outputs": [
        {
          "name": "stdout",
          "output_type": "stream",
          "text": [
            "              precision    recall  f1-score   support\n",
            "\n",
            "           0       0.80      0.83      0.81      6341\n",
            "           1       0.99      0.97      0.98      6310\n",
            "           2       0.77      0.79      0.78      6279\n",
            "           3       0.87      0.89      0.88      6292\n",
            "           4       0.79      0.81      0.80      6290\n",
            "           5       0.96      0.94      0.95      6332\n",
            "           6       0.70      0.63      0.66      6307\n",
            "           7       0.92      0.94      0.93      6280\n",
            "           8       0.96      0.96      0.96      6267\n",
            "           9       0.95      0.95      0.95      6302\n",
            "\n",
            "    accuracy                           0.87     63000\n",
            "   macro avg       0.87      0.87      0.87     63000\n",
            "weighted avg       0.87      0.87      0.87     63000\n",
            "\n",
            "time: 156 ms (started: 2021-12-10 23:54:33 +00:00)\n"
          ]
        }
      ],
      "source": [
        "# match labels of classes  to the predicted classes\n",
        "print(metrics.classification_report(y_test_all, svm_grid_predictions)) \n"
      ]
    },
    {
      "cell_type": "code",
      "execution_count": null,
      "metadata": {
        "id": "k4FFQiPIwdbh"
      },
      "outputs": [],
      "source": [
        "# SVM report and analysis\n",
        "\n",
        "# svc_f1 = metrics.f1_score(y_test, y_pred_svc, average= \"weighted\")\n",
        "# svc_accuracy = metrics.accuracy_score(y_test, y_pred_svc)\n",
        "# svc_cm = metrics.confusion_matrix(y_test, y_pred_svc)\n",
        "# print(\"-----------------SVM Report---------------\")\n",
        "# print(\"F1 score: {}\".format(svc_f1))\n",
        "# print(\"Accuracy score: {}\".format(svc_accuracy))\n",
        "# print(\"Confusion matrix: \\n\", svc_cm)\n",
        "# print('Plotting confusion matrix')\n",
        "\n",
        "# plt.figure()\n",
        "# plot_confusion_matrix(svc_cm, labelNames)\n",
        "# plt.show()\n",
        "\n",
        "# print(metrics.classification_report(y_test, y_pred_svc))"
      ]
    },
    {
      "cell_type": "markdown",
      "metadata": {
        "id": "p8HXMwl6yuLL"
      },
      "source": [
        "# Last all SVM"
      ]
    },
    {
      "cell_type": "code",
      "execution_count": null,
      "metadata": {
        "colab": {
          "base_uri": "https://localhost:8080/",
          "height": 247
        },
        "id": "wluJ8P0eytwy",
        "outputId": "1b424d74-2a99-4f97-f94f-e975f262a3b2"
      },
      "outputs": [
        {
          "output_type": "error",
          "ename": "NameError",
          "evalue": "ignored",
          "traceback": [
            "\u001b[0;31m---------------------------------------------------------------------------\u001b[0m",
            "\u001b[0;31mNameError\u001b[0m                                 Traceback (most recent call last)",
            "\u001b[0;32m<ipython-input-1-689d993ec1f3>\u001b[0m in \u001b[0;36m<module>\u001b[0;34m()\u001b[0m\n\u001b[1;32m      7\u001b[0m \u001b[0;31m# I guess it will run roughly 40 (I was right)\u001b[0m\u001b[0;34m\u001b[0m\u001b[0;34m\u001b[0m\u001b[0;34m\u001b[0m\u001b[0m\n\u001b[1;32m      8\u001b[0m \u001b[0;34m\u001b[0m\u001b[0m\n\u001b[0;32m----> 9\u001b[0;31m X_train_all, X_test_all, y_train_all, y_test_all = train_test_split(\n\u001b[0m\u001b[1;32m     10\u001b[0m     all_images_f, all_labels, test_size = 0.60, random_state = 101)\n\u001b[1;32m     11\u001b[0m \u001b[0;34m\u001b[0m\u001b[0m\n",
            "\u001b[0;31mNameError\u001b[0m: name 'train_test_split' is not defined"
          ]
        }
      ],
      "source": [
        "# SVM Model: Entire data set\n",
        "\n",
        "\n",
        "# Total input = 70 000 samples from train_images_f\n",
        "# test_size to 40% --> training size = 60%\n",
        "# given the previous run on only 10 000 took 25 minutes 5000 train / 5000 test\n",
        "# I guess it will run roughly 40 (I was right)\n",
        "\n",
        "X_train_all, X_test_all, y_train_all, y_test_all = train_test_split(\n",
        "    all_images_f, all_labels, test_size = 0.60, random_state = 101, stratify=all_labels)\n",
        "\n",
        "svm_parameters_grid = {'C':[0.01, 0.1, 1, 10, 100], 'gamma': [1, 0.1, 0.01, 0.001, 0.0001],\n",
        "            'kernel': ['rbf', 'poly'], 'degree': [3,4,5,6]}\n",
        "svm_grid = GridSearchCV(SVC(),svm_parameters_grid, refit = True, verbose = 3)\n",
        "svm_grid.fit(X_train_all, y_train_all) # fitting the model for grid search"
      ]
    },
    {
      "cell_type": "code",
      "execution_count": null,
      "metadata": {
        "id": "wXDraaay0sI0",
        "colab": {
          "base_uri": "https://localhost:8080/",
          "height": 209
        },
        "outputId": "74eeacaf-3503-4f16-9d24-4534c1b02aee"
      },
      "outputs": [
        {
          "output_type": "error",
          "ename": "NameError",
          "evalue": "ignored",
          "traceback": [
            "\u001b[0;31m---------------------------------------------------------------------------\u001b[0m",
            "\u001b[0;31mNameError\u001b[0m                                 Traceback (most recent call last)",
            "\u001b[0;32m<ipython-input-1-9cb74492564d>\u001b[0m in \u001b[0;36m<module>\u001b[0;34m()\u001b[0m\n\u001b[1;32m      1\u001b[0m \u001b[0;31m# print prediction results\u001b[0m\u001b[0;34m\u001b[0m\u001b[0;34m\u001b[0m\u001b[0;34m\u001b[0m\u001b[0m\n\u001b[0;32m----> 2\u001b[0;31m \u001b[0msvm_grid_predictions\u001b[0m \u001b[0;34m=\u001b[0m \u001b[0msvm_grid\u001b[0m\u001b[0;34m.\u001b[0m\u001b[0mpredict\u001b[0m\u001b[0;34m(\u001b[0m\u001b[0mX_test_all\u001b[0m\u001b[0;34m)\u001b[0m\u001b[0;34m\u001b[0m\u001b[0;34m\u001b[0m\u001b[0m\n\u001b[0m\u001b[1;32m      3\u001b[0m \u001b[0mprint\u001b[0m\u001b[0;34m(\u001b[0m\u001b[0mclassification_report\u001b[0m\u001b[0;34m(\u001b[0m\u001b[0my_test_all\u001b[0m\u001b[0;34m,\u001b[0m \u001b[0msvm_grid_predictions\u001b[0m\u001b[0;34m)\u001b[0m\u001b[0;34m)\u001b[0m\u001b[0;34m\u001b[0m\u001b[0;34m\u001b[0m\u001b[0m\n",
            "\u001b[0;31mNameError\u001b[0m: name 'svm_grid' is not defined"
          ]
        }
      ],
      "source": [
        "# print prediction results\n",
        "svm_grid_predictions = svm_grid.predict(X_test_all)\n",
        "print(classification_report(y_test_all, svm_grid_predictions))\n"
      ]
    },
    {
      "cell_type": "code",
      "execution_count": null,
      "metadata": {
        "id": "Vv5tZ-mm1FLI"
      },
      "outputs": [],
      "source": [
        "# match labels of classes  to the predicted classes\n",
        "print(metrics.classification_report(y_test_all, svm_grid_predictions)) \n"
      ]
    },
    {
      "cell_type": "markdown",
      "source": [
        "# Reducing Dimensionality using PCA \n",
        "\n",
        "This shall make the SVM gridsearch more efficient and of course faster."
      ],
      "metadata": {
        "id": "1CIc6_nKc8F1"
      }
    },
    {
      "cell_type": "code",
      "source": [
        "# 70 000\n",
        "# `stratify` makes sure that the number of each class (support) is equal for \n",
        "# each split\n",
        "X_train_all, X_test_all, y_train_all, y_test_all = train_test_split(\n",
        "    all_images_f, all_labels, test_size = 0.9, random_state = 101, stratify=all_labels)"
      ],
      "metadata": {
        "id": "cfb9UO7segF0",
        "colab": {
          "base_uri": "https://localhost:8080/"
        },
        "outputId": "d7b55f87-923c-468e-b8b7-352f860b1157"
      },
      "execution_count": null,
      "outputs": [
        {
          "output_type": "stream",
          "name": "stdout",
          "text": [
            "time: 319 ms (started: 2021-12-12 14:43:23 +00:00)\n"
          ]
        }
      ]
    },
    {
      "cell_type": "code",
      "source": [
        "print('train: ',X_train_all.shape)\n",
        "print('tr labels: ',y_train_all.shape)\n",
        "\n",
        "print('test: ', X_test_all.shape)\n",
        "print('te labels: ',y_test_all.shape)\n",
        "\n"
      ],
      "metadata": {
        "colab": {
          "base_uri": "https://localhost:8080/"
        },
        "id": "XhpE2L84FNsz",
        "outputId": "686661a2-77e1-4582-9971-94b0fc818809"
      },
      "execution_count": null,
      "outputs": [
        {
          "output_type": "stream",
          "name": "stdout",
          "text": [
            "train:  (7000, 784)\n",
            "tr labels:  (7000,)\n",
            "test:  (63000, 784)\n",
            "te labels:  (63000,)\n",
            "time: 6.79 ms (started: 2021-12-12 19:26:05 +00:00)\n"
          ]
        }
      ]
    },
    {
      "cell_type": "code",
      "source": [
        ""
      ],
      "metadata": {
        "colab": {
          "base_uri": "https://localhost:8080/"
        },
        "id": "WBOVVKAJFSMe",
        "outputId": "610cb284-b0f1-402b-ee88-abb508a447ad"
      },
      "execution_count": null,
      "outputs": [
        {
          "output_type": "execute_result",
          "data": {
            "text/plain": [
              "(63000, 784)"
            ]
          },
          "metadata": {},
          "execution_count": 41
        },
        {
          "output_type": "stream",
          "name": "stdout",
          "text": [
            "time: 3.38 ms (started: 2021-12-12 19:18:45 +00:00)\n"
          ]
        }
      ]
    },
    {
      "cell_type": "markdown",
      "source": [
        "## Standardizing images;\n",
        "\n",
        "Below I show you the images before standardization:"
      ],
      "metadata": {
        "id": "mcdj5B1FGf2g"
      }
    },
    {
      "cell_type": "code",
      "source": [
        "n_row = 1\n",
        "n_col = 5\n",
        "plt.figure(figsize=(10,8))\n",
        "for i in list(range(n_row*n_col)):\n",
        "    plt.subplot(n_row, n_col, i+1)\n",
        "    plt.imshow(X_train_all[i,:].reshape(28,28), cmap=\"gray\")\n",
        "    title_text = \"Image\" + str(i+1)\n",
        "    plt.title(title_text, size=6.5)"
      ],
      "metadata": {
        "colab": {
          "base_uri": "https://localhost:8080/",
          "height": 177
        },
        "id": "TQB2lz_Vf3oj",
        "outputId": "718846a6-3b92-409f-a1b5-58805ba1b9a3"
      },
      "execution_count": null,
      "outputs": [
        {
          "output_type": "display_data",
          "data": {
            "image/png": "[encoded data removed]",
            "text/plain": [
              "<Figure size 720x576 with 5 Axes>"
            ]
          },
          "metadata": {}
        },
        {
          "output_type": "stream",
          "name": "stdout",
          "text": [
            "time: 1.46 s (started: 2021-12-12 14:44:43 +00:00)\n"
          ]
        }
      ]
    },
    {
      "cell_type": "code",
      "source": [
        "from sklearn.preprocessing import StandardScaler\n",
        "# Standardizing\n",
        "X_train_all_std = StandardScaler().fit_transform(X_train_all)\n",
        "X_test_all_std = StandardScaler().fit_transform(X_test_all)"
      ],
      "metadata": {
        "colab": {
          "base_uri": "https://localhost:8080/"
        },
        "id": "0alTweadfSZR",
        "outputId": "9806d878-b929-4e36-f736-25c0baecaa09"
      },
      "execution_count": null,
      "outputs": [
        {
          "output_type": "stream",
          "name": "stdout",
          "text": [
            "time: 941 ms (started: 2021-12-12 14:45:19 +00:00)\n"
          ]
        }
      ]
    },
    {
      "cell_type": "markdown",
      "source": [
        "Below you can see the images **after** standardization and normalization;"
      ],
      "metadata": {
        "id": "9Ia0gBRpgAWT"
      }
    },
    {
      "cell_type": "code",
      "source": [
        "n_row = 1\n",
        "n_col = 5\n",
        "plt.figure(figsize=(10,8))\n",
        "for i in list(range(n_row*n_col)):\n",
        "    plt.subplot(n_row, n_col, i+1)\n",
        "    plt.imshow(X_train_all_std[i,:].reshape(28,28), cmap=\"gray\")\n",
        "    title_text = \"Image\" + str(i+1)\n",
        "    plt.title(title_text, size=6.5)"
      ],
      "metadata": {
        "colab": {
          "base_uri": "https://localhost:8080/",
          "height": 177
        },
        "id": "iXZu0x6xfuLD",
        "outputId": "af8253e0-9ee1-4803-9583-c6066b9e542e"
      },
      "execution_count": null,
      "outputs": [
        {
          "output_type": "display_data",
          "data": {
            "image/png": "[encoded data removed]",
            "text/plain": [
              "<Figure size 720x576 with 5 Axes>"
            ]
          },
          "metadata": {}
        },
        {
          "output_type": "stream",
          "name": "stdout",
          "text": [
            "time: 1.31 s (started: 2021-12-12 14:45:46 +00:00)\n"
          ]
        }
      ]
    },
    {
      "cell_type": "markdown",
      "source": [
        "# Computing Eigenvectors Eigenvalues and Covariance Matrix\n",
        "\n",
        "We want to find the parameter k for PCA\n",
        "\n",
        "PCA tries to minimize the average squared projection errors: $$\\frac{1}{m} \\sum^{m}_{i=1} || x^{(i)} - x^{(i)}_{approx} ||^2$$\n",
        "And the total variation in the data: $$\\frac{1}{m}\\sum^{m}_{i=1}||x^{(i)}||^2$$\n",
        "\n",
        "We want to choose **k** such that it is the smallest value of the ratio between the average squared projection errors and the total variation in the data: \n",
        "\n",
        "\n",
        "$\\frac{\\frac{1}{m}\\sum^{m}_{i=1}||x^{(i)}-x^{(i)}_{approx}||^2}{\\frac{1}{m}\\sum^{m}_{i=1}||x^{(i)}||^2} \\leq 0.01$ \n",
        "\n",
        "So we want to retain 99% of the variance!"
      ],
      "metadata": {
        "id": "iMoubqxogRXZ"
      }
    },
    {
      "cell_type": "code",
      "source": [
        "mean_vec = np.mean(X_train_all_std, axis=0)\n",
        "cov_mat = np.cov(X_train_all_std.T)\n",
        "eig_vals, eig_vecs = np.linalg.eig(cov_mat)\n",
        "print(\"Shape of Covariance matrix: \", cov_mat.shape)\n",
        "eig_pairs = [(np.abs(eig_vals[i]),eig_vecs[:,i]) for i in range(len(eig_vals))]\n",
        "eig_pairs.sort(key = lambda x: x[0], reverse=True)\n",
        "tot = sum(eig_vals)\n",
        "var_exp = [(i/tot)*100 for i in sorted(eig_vals, reverse=True)]\n",
        "cum_var_exp = np.cumsum(var_exp) # Cumulative explained variance"
      ],
      "metadata": {
        "colab": {
          "base_uri": "https://localhost:8080/"
        },
        "id": "RZVc0uuzdh_k",
        "outputId": "26b3f2ec-6aa3-489b-ccc0-e934c59b87a5"
      },
      "execution_count": null,
      "outputs": [
        {
          "output_type": "stream",
          "name": "stdout",
          "text": [
            "Shape of Covariance matrix:  (784, 784)\n",
            "time: 1.22 s (started: 2021-12-12 14:46:03 +00:00)\n"
          ]
        }
      ]
    },
    {
      "cell_type": "code",
      "source": [
        "# played with k until I had 99.00 % of the variance retained.\n",
        "add =0.0\n",
        "for i in range(502):\n",
        "    add+= var_exp[i]\n",
        "\n",
        "print('first 502 components average variance: %.2f' % add)  "
      ],
      "metadata": {
        "colab": {
          "base_uri": "https://localhost:8080/"
        },
        "id": "zwix7O9cldw9",
        "outputId": "28446d4e-75c7-4940-b550-46ad23511be1"
      },
      "execution_count": null,
      "outputs": [
        {
          "output_type": "stream",
          "name": "stdout",
          "text": [
            "first 502 components average variance: 99.00\n",
            "time: 4.28 ms (started: 2021-12-12 14:47:44 +00:00)\n"
          ]
        }
      ]
    },
    {
      "cell_type": "code",
      "source": [
        "size = 502\n",
        "plt.figure(figsize=(8,5))\n",
        "plt.bar(range(size), var_exp[0:size], align='center');\n",
        "plt.xlabel(\"Principal components\")\n",
        "plt.ylabel(\"Explained variance ratio\");\n",
        "\n",
        "# what happened to the colors???\n"
      ],
      "metadata": {
        "colab": {
          "base_uri": "https://localhost:8080/",
          "height": 358
        },
        "id": "GtF03DQemTAU",
        "outputId": "2d2d7887-1994-493c-f001-b178ea0b0285"
      },
      "execution_count": null,
      "outputs": [
        {
          "output_type": "display_data",
          "data": {
            "image/png": "[encoded data removed]",
            "text/plain": [
              "<Figure size 576x360 with 1 Axes>"
            ]
          },
          "metadata": {}
        },
        {
          "output_type": "stream",
          "name": "stdout",
          "text": [
            "time: 1.38 s (started: 2021-12-12 14:47:50 +00:00)\n"
          ]
        }
      ]
    },
    {
      "cell_type": "code",
      "source": [
        "pca = PCA(n_components=502)\n",
        "X_train_pca = pca.fit_transform(X_train_all_std) # input for svm.fit()\n",
        "X_test_pca = pca.fit_transform(X_test_all_std) # input for svm.predict()\n"
      ],
      "metadata": {
        "colab": {
          "base_uri": "https://localhost:8080/"
        },
        "id": "ahmIyEYQdGNm",
        "outputId": "2b1d10ac-3e48-4719-aa4f-f9737039209b"
      },
      "execution_count": null,
      "outputs": [
        {
          "output_type": "stream",
          "name": "stdout",
          "text": [
            "time: 37.4 s (started: 2021-12-12 14:47:56 +00:00)\n"
          ]
        }
      ]
    },
    {
      "cell_type": "code",
      "source": [
        "eigenvalues = pca.components_.reshape(502, 28, 28)\n",
        "eigenvalues = pca.components_\n",
        "print(\"Eigenvalues shape:\", eigenvalues.shape)\n",
        "\n",
        "n_row = 1\n",
        "n_col = 5\n",
        "plt.figure(figsize=(10,8))\n",
        "for i in list(range(n_row*n_col)):\n",
        "    plt.subplot(n_row, n_col, i+1)\n",
        "    plt.imshow(eigenvalues[i,:].reshape(28,28), cmap=\"gray\")\n",
        "    title_text = \"Image\" + str(i+1)\n",
        "    plt.title(title_text, size=6.5)\n",
        "\n",
        "plt.show()"
      ],
      "metadata": {
        "colab": {
          "base_uri": "https://localhost:8080/",
          "height": 195
        },
        "id": "_oNczGr3opqF",
        "outputId": "050938e6-e748-404b-9398-d1ea5cc0cc72"
      },
      "execution_count": null,
      "outputs": [
        {
          "output_type": "stream",
          "name": "stdout",
          "text": [
            "Eigenvalues shape: (502, 784)\n"
          ]
        },
        {
          "output_type": "display_data",
          "data": {
            "image/png": "[encoded data removed]",
            "text/plain": [
              "<Figure size 720x576 with 5 Axes>"
            ]
          },
          "metadata": {}
        },
        {
          "output_type": "stream",
          "name": "stdout",
          "text": [
            "time: 1.33 s (started: 2021-12-12 14:48:34 +00:00)\n"
          ]
        }
      ]
    },
    {
      "cell_type": "code",
      "source": [
        "# Fitting 5 folds for each of 50 candidates, totalling 250 fits\n",
        "\n",
        "# Should take 4,5 hrs."
      ],
      "metadata": {
        "id": "iKC0-fCs3An0"
      },
      "execution_count": null,
      "outputs": []
    },
    {
      "cell_type": "code",
      "source": [
        "svm_parameters_grid = {'C':[0.01, 0.1, 1, 10, 100], 'gamma': [1, 0.1, 0.01, 0.001, 0.0001],\n",
        "            'kernel': ['rbf', 'poly'], 'degree': [2,3,4]}\n",
        "svm = GridSearchCV(SVC(),svm_parameters_grid, refit = True, verbose = 3)\n",
        "svm.fit(X_train_pca, y_train_all) # fitting the model for grid search"
      ],
      "metadata": {
        "id": "oktvl5Hn8UyA",
        "colab": {
          "base_uri": "https://localhost:8080/"
        },
        "outputId": "a9b907d9-4862-45ff-c6e9-c242adce292e"
      },
      "execution_count": null,
      "outputs": [
        {
          "output_type": "stream",
          "name": "stdout",
          "text": [
            "Fitting 5 folds for each of 150 candidates, totalling 750 fits\n",
            "[CV 1/5] END C=0.01, degree=2, gamma=1, kernel=rbf;, score=0.360 total time=  21.7s\n",
            "[CV 2/5] END C=0.01, degree=2, gamma=1, kernel=rbf;, score=0.351 total time=  21.5s\n",
            "[CV 3/5] END C=0.01, degree=2, gamma=1, kernel=rbf;, score=0.352 total time=  21.6s\n",
            "[CV 4/5] END C=0.01, degree=2, gamma=1, kernel=rbf;, score=0.258 total time=  21.7s\n",
            "[CV 5/5] END C=0.01, degree=2, gamma=1, kernel=rbf;, score=0.283 total time=  21.5s\n",
            "[CV 1/5] END C=0.01, degree=2, gamma=1, kernel=poly;, score=0.865 total time=   4.6s\n",
            "[CV 2/5] END C=0.01, degree=2, gamma=1, kernel=poly;, score=0.859 total time=   4.9s\n",
            "[CV 3/5] END C=0.01, degree=2, gamma=1, kernel=poly;, score=0.845 total time=   4.8s\n",
            "[CV 4/5] END C=0.01, degree=2, gamma=1, kernel=poly;, score=0.841 total time=   4.7s\n",
            "[CV 5/5] END C=0.01, degree=2, gamma=1, kernel=poly;, score=0.861 total time=   4.6s\n",
            "[CV 1/5] END C=0.01, degree=2, gamma=0.1, kernel=rbf;, score=0.107 total time=  21.8s\n",
            "[CV 2/5] END C=0.01, degree=2, gamma=0.1, kernel=rbf;, score=0.105 total time=  21.7s\n",
            "[CV 3/5] END C=0.01, degree=2, gamma=0.1, kernel=rbf;, score=0.107 total time=  21.5s\n",
            "[CV 4/5] END C=0.01, degree=2, gamma=0.1, kernel=rbf;, score=0.103 total time=  21.7s\n",
            "[CV 5/5] END C=0.01, degree=2, gamma=0.1, kernel=rbf;, score=0.107 total time=  21.7s\n",
            "[CV 1/5] END C=0.01, degree=2, gamma=0.1, kernel=poly;, score=0.866 total time=   4.5s\n",
            "[CV 2/5] END C=0.01, degree=2, gamma=0.1, kernel=poly;, score=0.862 total time=   4.5s\n",
            "[CV 3/5] END C=0.01, degree=2, gamma=0.1, kernel=poly;, score=0.846 total time=   4.4s\n",
            "[CV 4/5] END C=0.01, degree=2, gamma=0.1, kernel=poly;, score=0.843 total time=   4.4s\n",
            "[CV 5/5] END C=0.01, degree=2, gamma=0.1, kernel=poly;, score=0.865 total time=   4.5s\n",
            "[CV 1/5] END C=0.01, degree=2, gamma=0.01, kernel=rbf;, score=0.299 total time=  21.6s\n",
            "[CV 2/5] END C=0.01, degree=2, gamma=0.01, kernel=rbf;, score=0.307 total time=  21.6s\n",
            "[CV 3/5] END C=0.01, degree=2, gamma=0.01, kernel=rbf;, score=0.297 total time=  21.6s\n",
            "[CV 4/5] END C=0.01, degree=2, gamma=0.01, kernel=rbf;, score=0.294 total time=  21.5s\n",
            "[CV 5/5] END C=0.01, degree=2, gamma=0.01, kernel=rbf;, score=0.301 total time=  21.5s\n",
            "[CV 1/5] END C=0.01, degree=2, gamma=0.01, kernel=poly;, score=0.835 total time=   5.7s\n",
            "[CV 2/5] END C=0.01, degree=2, gamma=0.01, kernel=poly;, score=0.817 total time=   5.6s\n",
            "[CV 3/5] END C=0.01, degree=2, gamma=0.01, kernel=poly;, score=0.800 total time=   5.5s\n",
            "[CV 4/5] END C=0.01, degree=2, gamma=0.01, kernel=poly;, score=0.828 total time=   5.7s\n",
            "[CV 5/5] END C=0.01, degree=2, gamma=0.01, kernel=poly;, score=0.824 total time=   5.5s\n",
            "[CV 1/5] END C=0.01, degree=2, gamma=0.001, kernel=rbf;, score=0.714 total time=  18.7s\n",
            "[CV 2/5] END C=0.01, degree=2, gamma=0.001, kernel=rbf;, score=0.694 total time=  18.6s\n",
            "[CV 3/5] END C=0.01, degree=2, gamma=0.001, kernel=rbf;, score=0.662 total time=  18.7s\n",
            "[CV 4/5] END C=0.01, degree=2, gamma=0.001, kernel=rbf;, score=0.694 total time=  18.6s\n",
            "[CV 5/5] END C=0.01, degree=2, gamma=0.001, kernel=rbf;, score=0.677 total time=  18.6s\n",
            "[CV 1/5] END C=0.01, degree=2, gamma=0.001, kernel=poly;, score=0.542 total time=  17.4s\n",
            "[CV 2/5] END C=0.01, degree=2, gamma=0.001, kernel=poly;, score=0.504 total time=  17.4s\n",
            "[CV 3/5] END C=0.01, degree=2, gamma=0.001, kernel=poly;, score=0.494 total time=  17.3s\n",
            "[CV 4/5] END C=0.01, degree=2, gamma=0.001, kernel=poly;, score=0.524 total time=  17.2s\n",
            "[CV 5/5] END C=0.01, degree=2, gamma=0.001, kernel=poly;, score=0.521 total time=  17.5s\n",
            "[CV 1/5] END C=0.01, degree=2, gamma=0.0001, kernel=rbf;, score=0.650 total time=  22.5s\n",
            "[CV 2/5] END C=0.01, degree=2, gamma=0.0001, kernel=rbf;, score=0.613 total time=  22.9s\n",
            "[CV 3/5] END C=0.01, degree=2, gamma=0.0001, kernel=rbf;, score=0.606 total time=  21.7s\n",
            "[CV 4/5] END C=0.01, degree=2, gamma=0.0001, kernel=rbf;, score=0.621 total time=  21.6s\n",
            "[CV 5/5] END C=0.01, degree=2, gamma=0.0001, kernel=rbf;, score=0.611 total time=  21.9s\n",
            "[CV 1/5] END C=0.01, degree=2, gamma=0.0001, kernel=poly;, score=0.424 total time=  18.4s\n",
            "[CV 2/5] END C=0.01, degree=2, gamma=0.0001, kernel=poly;, score=0.368 total time=  18.5s\n",
            "[CV 3/5] END C=0.01, degree=2, gamma=0.0001, kernel=poly;, score=0.358 total time=  18.3s\n",
            "[CV 4/5] END C=0.01, degree=2, gamma=0.0001, kernel=poly;, score=0.421 total time=  18.2s\n",
            "[CV 5/5] END C=0.01, degree=2, gamma=0.0001, kernel=poly;, score=0.415 total time=  18.5s\n",
            "[CV 1/5] END C=0.01, degree=3, gamma=1, kernel=rbf;, score=0.360 total time=  22.0s\n",
            "[CV 2/5] END C=0.01, degree=3, gamma=1, kernel=rbf;, score=0.351 total time=  21.5s\n",
            "[CV 3/5] END C=0.01, degree=3, gamma=1, kernel=rbf;, score=0.352 total time=  21.7s\n",
            "[CV 4/5] END C=0.01, degree=3, gamma=1, kernel=rbf;, score=0.258 total time=  21.6s\n",
            "[CV 5/5] END C=0.01, degree=3, gamma=1, kernel=rbf;, score=0.283 total time=  21.8s\n",
            "[CV 1/5] END C=0.01, degree=3, gamma=1, kernel=poly;, score=0.863 total time=   4.8s\n",
            "[CV 2/5] END C=0.01, degree=3, gamma=1, kernel=poly;, score=0.846 total time=   4.6s\n",
            "[CV 3/5] END C=0.01, degree=3, gamma=1, kernel=poly;, score=0.844 total time=   4.7s\n",
            "[CV 4/5] END C=0.01, degree=3, gamma=1, kernel=poly;, score=0.843 total time=   4.8s\n",
            "[CV 5/5] END C=0.01, degree=3, gamma=1, kernel=poly;, score=0.864 total time=   4.7s\n",
            "[CV 1/5] END C=0.01, degree=3, gamma=0.1, kernel=rbf;, score=0.107 total time=  21.7s\n",
            "[CV 2/5] END C=0.01, degree=3, gamma=0.1, kernel=rbf;, score=0.105 total time=  21.7s\n",
            "[CV 3/5] END C=0.01, degree=3, gamma=0.1, kernel=rbf;, score=0.107 total time=  21.8s\n",
            "[CV 4/5] END C=0.01, degree=3, gamma=0.1, kernel=rbf;, score=0.103 total time=  21.7s\n",
            "[CV 5/5] END C=0.01, degree=3, gamma=0.1, kernel=rbf;, score=0.107 total time=  21.9s\n",
            "[CV 1/5] END C=0.01, degree=3, gamma=0.1, kernel=poly;, score=0.863 total time=   4.8s\n",
            "[CV 2/5] END C=0.01, degree=3, gamma=0.1, kernel=poly;, score=0.846 total time=   4.6s\n",
            "[CV 3/5] END C=0.01, degree=3, gamma=0.1, kernel=poly;, score=0.844 total time=   4.7s\n",
            "[CV 4/5] END C=0.01, degree=3, gamma=0.1, kernel=poly;, score=0.843 total time=   4.6s\n",
            "[CV 5/5] END C=0.01, degree=3, gamma=0.1, kernel=poly;, score=0.864 total time=   4.8s\n",
            "[CV 1/5] END C=0.01, degree=3, gamma=0.01, kernel=rbf;, score=0.299 total time=  21.9s\n",
            "[CV 2/5] END C=0.01, degree=3, gamma=0.01, kernel=rbf;, score=0.307 total time=  23.1s\n",
            "[CV 3/5] END C=0.01, degree=3, gamma=0.01, kernel=rbf;, score=0.297 total time=  21.8s\n",
            "[CV 4/5] END C=0.01, degree=3, gamma=0.01, kernel=rbf;, score=0.294 total time=  21.7s\n",
            "[CV 5/5] END C=0.01, degree=3, gamma=0.01, kernel=rbf;, score=0.301 total time=  21.7s\n",
            "[CV 1/5] END C=0.01, degree=3, gamma=0.01, kernel=poly;, score=0.866 total time=   4.8s\n",
            "[CV 2/5] END C=0.01, degree=3, gamma=0.01, kernel=poly;, score=0.845 total time=   4.7s\n",
            "[CV 3/5] END C=0.01, degree=3, gamma=0.01, kernel=poly;, score=0.829 total time=   4.6s\n",
            "[CV 4/5] END C=0.01, degree=3, gamma=0.01, kernel=poly;, score=0.850 total time=   4.7s\n",
            "[CV 5/5] END C=0.01, degree=3, gamma=0.01, kernel=poly;, score=0.850 total time=   4.7s\n",
            "[CV 1/5] END C=0.01, degree=3, gamma=0.001, kernel=rbf;, score=0.714 total time=  19.0s\n",
            "[CV 2/5] END C=0.01, degree=3, gamma=0.001, kernel=rbf;, score=0.694 total time=  19.0s\n",
            "[CV 3/5] END C=0.01, degree=3, gamma=0.001, kernel=rbf;, score=0.662 total time=  18.8s\n",
            "[CV 4/5] END C=0.01, degree=3, gamma=0.001, kernel=rbf;, score=0.694 total time=  18.8s\n",
            "[CV 5/5] END C=0.01, degree=3, gamma=0.001, kernel=rbf;, score=0.677 total time=  19.0s\n",
            "[CV 1/5] END C=0.01, degree=3, gamma=0.001, kernel=poly;, score=0.341 total time=  17.7s\n",
            "[CV 2/5] END C=0.01, degree=3, gamma=0.001, kernel=poly;, score=0.337 total time=  18.1s\n",
            "[CV 3/5] END C=0.01, degree=3, gamma=0.001, kernel=poly;, score=0.340 total time=  17.7s\n",
            "[CV 4/5] END C=0.01, degree=3, gamma=0.001, kernel=poly;, score=0.430 total time=  17.8s\n",
            "[CV 5/5] END C=0.01, degree=3, gamma=0.001, kernel=poly;, score=0.348 total time=  17.8s\n",
            "[CV 1/5] END C=0.01, degree=3, gamma=0.0001, kernel=rbf;, score=0.650 total time=  21.7s\n",
            "[CV 2/5] END C=0.01, degree=3, gamma=0.0001, kernel=rbf;, score=0.613 total time=  21.9s\n",
            "[CV 3/5] END C=0.01, degree=3, gamma=0.0001, kernel=rbf;, score=0.606 total time=  21.8s\n",
            "[CV 4/5] END C=0.01, degree=3, gamma=0.0001, kernel=rbf;, score=0.621 total time=  22.0s\n",
            "[CV 5/5] END C=0.01, degree=3, gamma=0.0001, kernel=rbf;, score=0.611 total time=  21.9s\n",
            "[CV 1/5] END C=0.01, degree=3, gamma=0.0001, kernel=poly;, score=0.268 total time=  18.2s\n",
            "[CV 2/5] END C=0.01, degree=3, gamma=0.0001, kernel=poly;, score=0.260 total time=  18.5s\n",
            "[CV 3/5] END C=0.01, degree=3, gamma=0.0001, kernel=poly;, score=0.252 total time=  18.3s\n",
            "[CV 4/5] END C=0.01, degree=3, gamma=0.0001, kernel=poly;, score=0.356 total time=  18.5s\n",
            "[CV 5/5] END C=0.01, degree=3, gamma=0.0001, kernel=poly;, score=0.268 total time=  18.4s\n",
            "[CV 1/5] END C=0.01, degree=4, gamma=1, kernel=rbf;, score=0.360 total time=  21.9s\n",
            "[CV 2/5] END C=0.01, degree=4, gamma=1, kernel=rbf;, score=0.351 total time=  21.8s\n",
            "[CV 3/5] END C=0.01, degree=4, gamma=1, kernel=rbf;, score=0.352 total time=  21.8s\n",
            "[CV 4/5] END C=0.01, degree=4, gamma=1, kernel=rbf;, score=0.258 total time=  21.7s\n",
            "[CV 5/5] END C=0.01, degree=4, gamma=1, kernel=rbf;, score=0.283 total time=  21.9s\n",
            "[CV 1/5] END C=0.01, degree=4, gamma=1, kernel=poly;, score=0.842 total time=   6.1s\n",
            "[CV 2/5] END C=0.01, degree=4, gamma=1, kernel=poly;, score=0.834 total time=   6.1s\n",
            "[CV 3/5] END C=0.01, degree=4, gamma=1, kernel=poly;, score=0.819 total time=   5.9s\n",
            "[CV 4/5] END C=0.01, degree=4, gamma=1, kernel=poly;, score=0.814 total time=   5.9s\n",
            "[CV 5/5] END C=0.01, degree=4, gamma=1, kernel=poly;, score=0.832 total time=   5.9s\n",
            "[CV 1/5] END C=0.01, degree=4, gamma=0.1, kernel=rbf;, score=0.107 total time=  22.0s\n",
            "[CV 2/5] END C=0.01, degree=4, gamma=0.1, kernel=rbf;, score=0.105 total time=  22.0s\n",
            "[CV 3/5] END C=0.01, degree=4, gamma=0.1, kernel=rbf;, score=0.107 total time=  21.9s\n",
            "[CV 4/5] END C=0.01, degree=4, gamma=0.1, kernel=rbf;, score=0.103 total time=  21.9s\n",
            "[CV 5/5] END C=0.01, degree=4, gamma=0.1, kernel=rbf;, score=0.107 total time=  21.8s\n",
            "[CV 1/5] END C=0.01, degree=4, gamma=0.1, kernel=poly;, score=0.842 total time=   6.2s\n",
            "[CV 2/5] END C=0.01, degree=4, gamma=0.1, kernel=poly;, score=0.834 total time=   6.1s\n",
            "[CV 3/5] END C=0.01, degree=4, gamma=0.1, kernel=poly;, score=0.819 total time=   5.9s\n",
            "[CV 4/5] END C=0.01, degree=4, gamma=0.1, kernel=poly;, score=0.814 total time=   5.7s\n",
            "[CV 5/5] END C=0.01, degree=4, gamma=0.1, kernel=poly;, score=0.832 total time=   5.2s\n",
            "[CV 1/5] END C=0.01, degree=4, gamma=0.01, kernel=rbf;, score=0.299 total time=  18.0s\n",
            "[CV 2/5] END C=0.01, degree=4, gamma=0.01, kernel=rbf;, score=0.307 total time=  18.1s\n",
            "[CV 3/5] END C=0.01, degree=4, gamma=0.01, kernel=rbf;, score=0.297 total time=  18.0s\n",
            "[CV 4/5] END C=0.01, degree=4, gamma=0.01, kernel=rbf;, score=0.294 total time=  17.6s\n",
            "[CV 5/5] END C=0.01, degree=4, gamma=0.01, kernel=rbf;, score=0.301 total time=  18.3s\n",
            "[CV 1/5] END C=0.01, degree=4, gamma=0.01, kernel=poly;, score=0.842 total time=   5.0s\n",
            "[CV 2/5] END C=0.01, degree=4, gamma=0.01, kernel=poly;, score=0.834 total time=   4.9s\n",
            "[CV 3/5] END C=0.01, degree=4, gamma=0.01, kernel=poly;, score=0.821 total time=   4.8s\n",
            "[CV 4/5] END C=0.01, degree=4, gamma=0.01, kernel=poly;, score=0.814 total time=   5.0s\n",
            "[CV 5/5] END C=0.01, degree=4, gamma=0.01, kernel=poly;, score=0.835 total time=   4.9s\n",
            "[CV 1/5] END C=0.01, degree=4, gamma=0.001, kernel=rbf;, score=0.714 total time=  15.8s\n",
            "[CV 2/5] END C=0.01, degree=4, gamma=0.001, kernel=rbf;, score=0.694 total time=  15.9s\n",
            "[CV 3/5] END C=0.01, degree=4, gamma=0.001, kernel=rbf;, score=0.662 total time=  15.8s\n",
            "[CV 4/5] END C=0.01, degree=4, gamma=0.001, kernel=rbf;, score=0.694 total time=  15.8s\n",
            "[CV 5/5] END C=0.01, degree=4, gamma=0.001, kernel=rbf;, score=0.677 total time=  15.8s\n",
            "[CV 1/5] END C=0.01, degree=4, gamma=0.001, kernel=poly;, score=0.238 total time=  14.4s\n",
            "[CV 2/5] END C=0.01, degree=4, gamma=0.001, kernel=poly;, score=0.236 total time=  14.4s\n",
            "[CV 3/5] END C=0.01, degree=4, gamma=0.001, kernel=poly;, score=0.239 total time=  14.7s\n",
            "[CV 4/5] END C=0.01, degree=4, gamma=0.001, kernel=poly;, score=0.291 total time=  14.9s\n",
            "[CV 5/5] END C=0.01, degree=4, gamma=0.001, kernel=poly;, score=0.230 total time=  14.8s\n",
            "[CV 1/5] END C=0.01, degree=4, gamma=0.0001, kernel=rbf;, score=0.650 total time=  18.0s\n",
            "[CV 2/5] END C=0.01, degree=4, gamma=0.0001, kernel=rbf;, score=0.613 total time=  18.1s\n",
            "[CV 3/5] END C=0.01, degree=4, gamma=0.0001, kernel=rbf;, score=0.606 total time=  18.1s\n",
            "[CV 4/5] END C=0.01, degree=4, gamma=0.0001, kernel=rbf;, score=0.621 total time=  18.2s\n",
            "[CV 5/5] END C=0.01, degree=4, gamma=0.0001, kernel=rbf;, score=0.611 total time=  18.1s\n",
            "[CV 1/5] END C=0.01, degree=4, gamma=0.0001, kernel=poly;, score=0.192 total time=  14.9s\n",
            "[CV 2/5] END C=0.01, degree=4, gamma=0.0001, kernel=poly;, score=0.190 total time=  14.9s\n",
            "[CV 3/5] END C=0.01, degree=4, gamma=0.0001, kernel=poly;, score=0.199 total time=  14.8s\n",
            "[CV 4/5] END C=0.01, degree=4, gamma=0.0001, kernel=poly;, score=0.249 total time=  15.0s\n",
            "[CV 5/5] END C=0.01, degree=4, gamma=0.0001, kernel=poly;, score=0.189 total time=  14.9s\n",
            "[CV 1/5] END C=0.1, degree=2, gamma=1, kernel=rbf;, score=0.268 total time=  18.2s\n",
            "[CV 2/5] END C=0.1, degree=2, gamma=1, kernel=rbf;, score=0.352 total time=  18.1s\n",
            "[CV 3/5] END C=0.1, degree=2, gamma=1, kernel=rbf;, score=0.270 total time=  18.1s\n",
            "[CV 4/5] END C=0.1, degree=2, gamma=1, kernel=rbf;, score=0.177 total time=  18.2s\n",
            "[CV 5/5] END C=0.1, degree=2, gamma=1, kernel=rbf;, score=0.283 total time=  18.3s\n",
            "[CV 1/5] END C=0.1, degree=2, gamma=1, kernel=poly;, score=0.865 total time=   3.9s\n",
            "[CV 2/5] END C=0.1, degree=2, gamma=1, kernel=poly;, score=0.859 total time=   3.8s\n",
            "[CV 3/5] END C=0.1, degree=2, gamma=1, kernel=poly;, score=0.845 total time=   3.8s\n",
            "[CV 4/5] END C=0.1, degree=2, gamma=1, kernel=poly;, score=0.841 total time=   3.9s\n",
            "[CV 5/5] END C=0.1, degree=2, gamma=1, kernel=poly;, score=0.861 total time=   3.8s\n",
            "[CV 1/5] END C=0.1, degree=2, gamma=0.1, kernel=rbf;, score=0.107 total time=  18.3s\n",
            "[CV 2/5] END C=0.1, degree=2, gamma=0.1, kernel=rbf;, score=0.105 total time=  17.9s\n",
            "[CV 3/5] END C=0.1, degree=2, gamma=0.1, kernel=rbf;, score=0.107 total time=  18.1s\n",
            "[CV 4/5] END C=0.1, degree=2, gamma=0.1, kernel=rbf;, score=0.103 total time=  18.0s\n",
            "[CV 5/5] END C=0.1, degree=2, gamma=0.1, kernel=rbf;, score=0.107 total time=  17.9s\n",
            "[CV 1/5] END C=0.1, degree=2, gamma=0.1, kernel=poly;, score=0.865 total time=   3.8s\n",
            "[CV 2/5] END C=0.1, degree=2, gamma=0.1, kernel=poly;, score=0.859 total time=   3.9s\n",
            "[CV 3/5] END C=0.1, degree=2, gamma=0.1, kernel=poly;, score=0.845 total time=   3.8s\n",
            "[CV 4/5] END C=0.1, degree=2, gamma=0.1, kernel=poly;, score=0.841 total time=   3.8s\n",
            "[CV 5/5] END C=0.1, degree=2, gamma=0.1, kernel=poly;, score=0.861 total time=   3.8s\n",
            "[CV 1/5] END C=0.1, degree=2, gamma=0.01, kernel=rbf;, score=0.399 total time=  17.2s\n",
            "[CV 2/5] END C=0.1, degree=2, gamma=0.01, kernel=rbf;, score=0.400 total time=  16.8s\n",
            "[CV 3/5] END C=0.1, degree=2, gamma=0.01, kernel=rbf;, score=0.398 total time=  16.9s\n",
            "[CV 4/5] END C=0.1, degree=2, gamma=0.01, kernel=rbf;, score=0.400 total time=  17.0s\n",
            "[CV 5/5] END C=0.1, degree=2, gamma=0.01, kernel=rbf;, score=0.395 total time=  16.8s\n",
            "[CV 1/5] END C=0.1, degree=2, gamma=0.01, kernel=poly;, score=0.871 total time=   3.9s\n",
            "[CV 2/5] END C=0.1, degree=2, gamma=0.01, kernel=poly;, score=0.866 total time=   4.1s\n",
            "[CV 3/5] END C=0.1, degree=2, gamma=0.01, kernel=poly;, score=0.846 total time=   3.9s\n",
            "[CV 4/5] END C=0.1, degree=2, gamma=0.01, kernel=poly;, score=0.860 total time=   3.9s\n",
            "[CV 5/5] END C=0.1, degree=2, gamma=0.01, kernel=poly;, score=0.870 total time=   4.2s\n",
            "[CV 1/5] END C=0.1, degree=2, gamma=0.001, kernel=rbf;, score=0.795 total time=   8.2s\n",
            "[CV 2/5] END C=0.1, degree=2, gamma=0.001, kernel=rbf;, score=0.769 total time=   8.0s\n",
            "[CV 3/5] END C=0.1, degree=2, gamma=0.001, kernel=rbf;, score=0.766 total time=   8.0s\n",
            "[CV 4/5] END C=0.1, degree=2, gamma=0.001, kernel=rbf;, score=0.779 total time=   8.0s\n",
            "[CV 5/5] END C=0.1, degree=2, gamma=0.001, kernel=rbf;, score=0.778 total time=   8.2s\n",
            "[CV 1/5] END C=0.1, degree=2, gamma=0.001, kernel=poly;, score=0.724 total time=   8.9s\n",
            "[CV 2/5] END C=0.1, degree=2, gamma=0.001, kernel=poly;, score=0.708 total time=   8.8s\n",
            "[CV 3/5] END C=0.1, degree=2, gamma=0.001, kernel=poly;, score=0.670 total time=   8.6s\n",
            "[CV 4/5] END C=0.1, degree=2, gamma=0.001, kernel=poly;, score=0.708 total time=   8.8s\n",
            "[CV 5/5] END C=0.1, degree=2, gamma=0.001, kernel=poly;, score=0.706 total time=   8.8s\n",
            "[CV 1/5] END C=0.1, degree=2, gamma=0.0001, kernel=rbf;, score=0.741 total time=  12.0s\n",
            "[CV 2/5] END C=0.1, degree=2, gamma=0.0001, kernel=rbf;, score=0.715 total time=  11.9s\n",
            "[CV 3/5] END C=0.1, degree=2, gamma=0.0001, kernel=rbf;, score=0.693 total time=  11.9s\n",
            "[CV 4/5] END C=0.1, degree=2, gamma=0.0001, kernel=rbf;, score=0.715 total time=  11.9s\n",
            "[CV 5/5] END C=0.1, degree=2, gamma=0.0001, kernel=rbf;, score=0.707 total time=  12.0s\n",
            "[CV 1/5] END C=0.1, degree=2, gamma=0.0001, kernel=poly;, score=0.424 total time=  15.1s\n",
            "[CV 2/5] END C=0.1, degree=2, gamma=0.0001, kernel=poly;, score=0.368 total time=  14.8s\n",
            "[CV 3/5] END C=0.1, degree=2, gamma=0.0001, kernel=poly;, score=0.358 total time=  14.7s\n",
            "[CV 4/5] END C=0.1, degree=2, gamma=0.0001, kernel=poly;, score=0.421 total time=  14.7s\n",
            "[CV 5/5] END C=0.1, degree=2, gamma=0.0001, kernel=poly;, score=0.415 total time=  14.8s\n",
            "[CV 1/5] END C=0.1, degree=3, gamma=1, kernel=rbf;, score=0.268 total time=  18.0s\n",
            "[CV 2/5] END C=0.1, degree=3, gamma=1, kernel=rbf;, score=0.352 total time=  17.9s\n",
            "[CV 3/5] END C=0.1, degree=3, gamma=1, kernel=rbf;, score=0.270 total time=  18.2s\n",
            "[CV 4/5] END C=0.1, degree=3, gamma=1, kernel=rbf;, score=0.177 total time=  18.0s\n",
            "[CV 5/5] END C=0.1, degree=3, gamma=1, kernel=rbf;, score=0.283 total time=  18.2s\n",
            "[CV 1/5] END C=0.1, degree=3, gamma=1, kernel=poly;, score=0.863 total time=   4.1s\n",
            "[CV 2/5] END C=0.1, degree=3, gamma=1, kernel=poly;, score=0.846 total time=   3.9s\n",
            "[CV 3/5] END C=0.1, degree=3, gamma=1, kernel=poly;, score=0.844 total time=   4.0s\n",
            "[CV 4/5] END C=0.1, degree=3, gamma=1, kernel=poly;, score=0.843 total time=   4.0s\n",
            "[CV 5/5] END C=0.1, degree=3, gamma=1, kernel=poly;, score=0.864 total time=   4.2s\n",
            "[CV 1/5] END C=0.1, degree=3, gamma=0.1, kernel=rbf;, score=0.107 total time=  18.2s\n",
            "[CV 2/5] END C=0.1, degree=3, gamma=0.1, kernel=rbf;, score=0.105 total time=  18.5s\n",
            "[CV 3/5] END C=0.1, degree=3, gamma=0.1, kernel=rbf;, score=0.107 total time=  18.2s\n",
            "[CV 4/5] END C=0.1, degree=3, gamma=0.1, kernel=rbf;, score=0.103 total time=  18.2s\n",
            "[CV 5/5] END C=0.1, degree=3, gamma=0.1, kernel=rbf;, score=0.107 total time=  18.4s\n",
            "[CV 1/5] END C=0.1, degree=3, gamma=0.1, kernel=poly;, score=0.863 total time=   4.1s\n",
            "[CV 2/5] END C=0.1, degree=3, gamma=0.1, kernel=poly;, score=0.846 total time=   3.8s\n",
            "[CV 3/5] END C=0.1, degree=3, gamma=0.1, kernel=poly;, score=0.844 total time=   3.9s\n",
            "[CV 4/5] END C=0.1, degree=3, gamma=0.1, kernel=poly;, score=0.843 total time=   4.0s\n",
            "[CV 5/5] END C=0.1, degree=3, gamma=0.1, kernel=poly;, score=0.864 total time=   3.9s\n",
            "[CV 1/5] END C=0.1, degree=3, gamma=0.01, kernel=rbf;, score=0.399 total time=  17.1s\n",
            "[CV 2/5] END C=0.1, degree=3, gamma=0.01, kernel=rbf;, score=0.400 total time=  17.0s\n",
            "[CV 3/5] END C=0.1, degree=3, gamma=0.01, kernel=rbf;, score=0.398 total time=  16.8s\n",
            "[CV 4/5] END C=0.1, degree=3, gamma=0.01, kernel=rbf;, score=0.400 total time=  16.6s\n",
            "[CV 5/5] END C=0.1, degree=3, gamma=0.01, kernel=rbf;, score=0.395 total time=  16.9s\n",
            "[CV 1/5] END C=0.1, degree=3, gamma=0.01, kernel=poly;, score=0.858 total time=   4.1s\n",
            "[CV 2/5] END C=0.1, degree=3, gamma=0.01, kernel=poly;, score=0.845 total time=   3.9s\n",
            "[CV 3/5] END C=0.1, degree=3, gamma=0.01, kernel=poly;, score=0.845 total time=   4.0s\n",
            "[CV 4/5] END C=0.1, degree=3, gamma=0.01, kernel=poly;, score=0.844 total time=   4.0s\n",
            "[CV 5/5] END C=0.1, degree=3, gamma=0.01, kernel=poly;, score=0.864 total time=   4.0s\n",
            "[CV 1/5] END C=0.1, degree=3, gamma=0.001, kernel=rbf;, score=0.795 total time=   8.0s\n",
            "[CV 2/5] END C=0.1, degree=3, gamma=0.001, kernel=rbf;, score=0.769 total time=   8.0s\n",
            "[CV 3/5] END C=0.1, degree=3, gamma=0.001, kernel=rbf;, score=0.766 total time=   7.9s\n",
            "[CV 4/5] END C=0.1, degree=3, gamma=0.001, kernel=rbf;, score=0.779 total time=   8.0s\n",
            "[CV 5/5] END C=0.1, degree=3, gamma=0.001, kernel=rbf;, score=0.778 total time=   7.9s\n",
            "[CV 1/5] END C=0.1, degree=3, gamma=0.001, kernel=poly;, score=0.670 total time=   9.9s\n",
            "[CV 2/5] END C=0.1, degree=3, gamma=0.001, kernel=poly;, score=0.660 total time=  10.1s\n",
            "[CV 3/5] END C=0.1, degree=3, gamma=0.001, kernel=poly;, score=0.624 total time=   9.8s\n",
            "[CV 4/5] END C=0.1, degree=3, gamma=0.001, kernel=poly;, score=0.664 total time=  10.0s\n",
            "[CV 5/5] END C=0.1, degree=3, gamma=0.001, kernel=poly;, score=0.647 total time=  10.0s\n",
            "[CV 1/5] END C=0.1, degree=3, gamma=0.0001, kernel=rbf;, score=0.741 total time=  12.3s\n",
            "[CV 2/5] END C=0.1, degree=3, gamma=0.0001, kernel=rbf;, score=0.715 total time=  11.9s\n",
            "[CV 3/5] END C=0.1, degree=3, gamma=0.0001, kernel=rbf;, score=0.693 total time=  11.9s\n",
            "[CV 4/5] END C=0.1, degree=3, gamma=0.0001, kernel=rbf;, score=0.715 total time=  12.1s\n",
            "[CV 5/5] END C=0.1, degree=3, gamma=0.0001, kernel=rbf;, score=0.707 total time=  12.0s\n",
            "[CV 1/5] END C=0.1, degree=3, gamma=0.0001, kernel=poly;, score=0.268 total time=  14.7s\n",
            "[CV 2/5] END C=0.1, degree=3, gamma=0.0001, kernel=poly;, score=0.260 total time=  14.9s\n",
            "[CV 3/5] END C=0.1, degree=3, gamma=0.0001, kernel=poly;, score=0.252 total time=  14.8s\n",
            "[CV 4/5] END C=0.1, degree=3, gamma=0.0001, kernel=poly;, score=0.356 total time=  14.8s\n",
            "[CV 5/5] END C=0.1, degree=3, gamma=0.0001, kernel=poly;, score=0.268 total time=  14.7s\n",
            "[CV 1/5] END C=0.1, degree=4, gamma=1, kernel=rbf;, score=0.268 total time=  18.2s\n",
            "[CV 2/5] END C=0.1, degree=4, gamma=1, kernel=rbf;, score=0.352 total time=  17.8s\n",
            "[CV 3/5] END C=0.1, degree=4, gamma=1, kernel=rbf;, score=0.270 total time=  17.8s\n",
            "[CV 4/5] END C=0.1, degree=4, gamma=1, kernel=rbf;, score=0.177 total time=  18.1s\n",
            "[CV 5/5] END C=0.1, degree=4, gamma=1, kernel=rbf;, score=0.283 total time=  18.0s\n",
            "[CV 1/5] END C=0.1, degree=4, gamma=1, kernel=poly;, score=0.842 total time=   5.2s\n",
            "[CV 2/5] END C=0.1, degree=4, gamma=1, kernel=poly;, score=0.834 total time=   5.2s\n",
            "[CV 3/5] END C=0.1, degree=4, gamma=1, kernel=poly;, score=0.819 total time=   5.1s\n",
            "[CV 4/5] END C=0.1, degree=4, gamma=1, kernel=poly;, score=0.814 total time=   5.0s\n",
            "[CV 5/5] END C=0.1, degree=4, gamma=1, kernel=poly;, score=0.832 total time=   5.1s\n",
            "[CV 1/5] END C=0.1, degree=4, gamma=0.1, kernel=rbf;, score=0.107 total time=  18.4s\n",
            "[CV 2/5] END C=0.1, degree=4, gamma=0.1, kernel=rbf;, score=0.105 total time=  18.2s\n",
            "[CV 3/5] END C=0.1, degree=4, gamma=0.1, kernel=rbf;, score=0.107 total time=  18.2s\n",
            "[CV 4/5] END C=0.1, degree=4, gamma=0.1, kernel=rbf;, score=0.103 total time=  18.0s\n",
            "[CV 5/5] END C=0.1, degree=4, gamma=0.1, kernel=rbf;, score=0.107 total time=  18.0s\n",
            "[CV 1/5] END C=0.1, degree=4, gamma=0.1, kernel=poly;, score=0.842 total time=   5.3s\n",
            "[CV 2/5] END C=0.1, degree=4, gamma=0.1, kernel=poly;, score=0.834 total time=   5.4s\n",
            "[CV 3/5] END C=0.1, degree=4, gamma=0.1, kernel=poly;, score=0.819 total time=   5.1s\n",
            "[CV 4/5] END C=0.1, degree=4, gamma=0.1, kernel=poly;, score=0.814 total time=   5.2s\n",
            "[CV 5/5] END C=0.1, degree=4, gamma=0.1, kernel=poly;, score=0.832 total time=   5.2s\n",
            "[CV 1/5] END C=0.1, degree=4, gamma=0.01, kernel=rbf;, score=0.399 total time=  16.9s\n",
            "[CV 2/5] END C=0.1, degree=4, gamma=0.01, kernel=rbf;, score=0.400 total time=  17.0s\n",
            "[CV 3/5] END C=0.1, degree=4, gamma=0.01, kernel=rbf;, score=0.398 total time=  16.9s\n",
            "[CV 4/5] END C=0.1, degree=4, gamma=0.01, kernel=rbf;, score=0.400 total time=  17.0s\n",
            "[CV 5/5] END C=0.1, degree=4, gamma=0.01, kernel=rbf;, score=0.395 total time=  17.1s\n",
            "[CV 1/5] END C=0.1, degree=4, gamma=0.01, kernel=poly;, score=0.843 total time=   5.2s\n",
            "[CV 2/5] END C=0.1, degree=4, gamma=0.01, kernel=poly;, score=0.833 total time=   5.2s\n",
            "[CV 3/5] END C=0.1, degree=4, gamma=0.01, kernel=poly;, score=0.818 total time=   5.0s\n",
            "[CV 4/5] END C=0.1, degree=4, gamma=0.01, kernel=poly;, score=0.815 total time=   5.2s\n",
            "[CV 5/5] END C=0.1, degree=4, gamma=0.01, kernel=poly;, score=0.831 total time=   5.0s\n",
            "[CV 1/5] END C=0.1, degree=4, gamma=0.001, kernel=rbf;, score=0.795 total time=   8.1s\n",
            "[CV 2/5] END C=0.1, degree=4, gamma=0.001, kernel=rbf;, score=0.769 total time=   8.1s\n",
            "[CV 3/5] END C=0.1, degree=4, gamma=0.001, kernel=rbf;, score=0.766 total time=   7.9s\n",
            "[CV 4/5] END C=0.1, degree=4, gamma=0.001, kernel=rbf;, score=0.779 total time=   8.0s\n",
            "[CV 5/5] END C=0.1, degree=4, gamma=0.001, kernel=rbf;, score=0.778 total time=   7.9s\n",
            "[CV 1/5] END C=0.1, degree=4, gamma=0.001, kernel=poly;, score=0.509 total time=  12.2s\n",
            "[CV 2/5] END C=0.1, degree=4, gamma=0.001, kernel=poly;, score=0.509 total time=  12.3s\n",
            "[CV 3/5] END C=0.1, degree=4, gamma=0.001, kernel=poly;, score=0.481 total time=  12.0s\n",
            "[CV 4/5] END C=0.1, degree=4, gamma=0.001, kernel=poly;, score=0.507 total time=  12.5s\n",
            "[CV 5/5] END C=0.1, degree=4, gamma=0.001, kernel=poly;, score=0.486 total time=  12.1s\n",
            "[CV 1/5] END C=0.1, degree=4, gamma=0.0001, kernel=rbf;, score=0.741 total time=  12.1s\n",
            "[CV 2/5] END C=0.1, degree=4, gamma=0.0001, kernel=rbf;, score=0.715 total time=  12.2s\n",
            "[CV 3/5] END C=0.1, degree=4, gamma=0.0001, kernel=rbf;, score=0.693 total time=  12.0s\n",
            "[CV 4/5] END C=0.1, degree=4, gamma=0.0001, kernel=rbf;, score=0.715 total time=  12.1s\n",
            "[CV 5/5] END C=0.1, degree=4, gamma=0.0001, kernel=rbf;, score=0.707 total time=  12.1s\n",
            "[CV 1/5] END C=0.1, degree=4, gamma=0.0001, kernel=poly;, score=0.192 total time=  14.9s\n",
            "[CV 2/5] END C=0.1, degree=4, gamma=0.0001, kernel=poly;, score=0.190 total time=  14.8s\n",
            "[CV 3/5] END C=0.1, degree=4, gamma=0.0001, kernel=poly;, score=0.199 total time=  14.6s\n",
            "[CV 4/5] END C=0.1, degree=4, gamma=0.0001, kernel=poly;, score=0.249 total time=  15.1s\n",
            "[CV 5/5] END C=0.1, degree=4, gamma=0.0001, kernel=poly;, score=0.189 total time=  15.1s\n",
            "[CV 1/5] END C=1, degree=2, gamma=1, kernel=rbf;, score=0.104 total time=  18.3s\n",
            "[CV 2/5] END C=1, degree=2, gamma=1, kernel=rbf;, score=0.104 total time=  18.6s\n",
            "[CV 3/5] END C=1, degree=2, gamma=1, kernel=rbf;, score=0.104 total time=  18.2s\n",
            "[CV 4/5] END C=1, degree=2, gamma=1, kernel=rbf;, score=0.102 total time=  21.8s\n",
            "[CV 5/5] END C=1, degree=2, gamma=1, kernel=rbf;, score=0.104 total time=  18.2s\n",
            "[CV 1/5] END C=1, degree=2, gamma=1, kernel=poly;, score=0.865 total time=   4.2s\n",
            "[CV 2/5] END C=1, degree=2, gamma=1, kernel=poly;, score=0.859 total time=   3.9s\n",
            "[CV 3/5] END C=1, degree=2, gamma=1, kernel=poly;, score=0.845 total time=   3.9s\n",
            "[CV 4/5] END C=1, degree=2, gamma=1, kernel=poly;, score=0.841 total time=   4.1s\n",
            "[CV 5/5] END C=1, degree=2, gamma=1, kernel=poly;, score=0.861 total time=   4.0s\n",
            "[CV 1/5] END C=1, degree=2, gamma=0.1, kernel=rbf;, score=0.182 total time=  18.9s\n",
            "[CV 2/5] END C=1, degree=2, gamma=0.1, kernel=rbf;, score=0.179 total time=  18.9s\n",
            "[CV 3/5] END C=1, degree=2, gamma=0.1, kernel=rbf;, score=0.186 total time=  18.5s\n",
            "[CV 4/5] END C=1, degree=2, gamma=0.1, kernel=rbf;, score=0.168 total time=  19.1s\n",
            "[CV 5/5] END C=1, degree=2, gamma=0.1, kernel=rbf;, score=0.196 total time=  18.7s\n",
            "[CV 1/5] END C=1, degree=2, gamma=0.1, kernel=poly;, score=0.865 total time=   3.9s\n",
            "[CV 2/5] END C=1, degree=2, gamma=0.1, kernel=poly;, score=0.859 total time=   3.8s\n",
            "[CV 3/5] END C=1, degree=2, gamma=0.1, kernel=poly;, score=0.845 total time=   3.9s\n",
            "[CV 4/5] END C=1, degree=2, gamma=0.1, kernel=poly;, score=0.841 total time=   4.0s\n",
            "[CV 5/5] END C=1, degree=2, gamma=0.1, kernel=poly;, score=0.861 total time=   4.1s\n",
            "[CV 1/5] END C=1, degree=2, gamma=0.01, kernel=rbf;, score=0.721 total time=  17.1s\n",
            "[CV 2/5] END C=1, degree=2, gamma=0.01, kernel=rbf;, score=0.710 total time=  17.0s\n",
            "[CV 3/5] END C=1, degree=2, gamma=0.01, kernel=rbf;, score=0.714 total time=  17.0s\n",
            "[CV 4/5] END C=1, degree=2, gamma=0.01, kernel=rbf;, score=0.714 total time=  16.9s\n",
            "[CV 5/5] END C=1, degree=2, gamma=0.01, kernel=rbf;, score=0.719 total time=  16.7s\n",
            "[CV 1/5] END C=1, degree=2, gamma=0.01, kernel=poly;, score=0.866 total time=   4.0s\n",
            "[CV 2/5] END C=1, degree=2, gamma=0.01, kernel=poly;, score=0.862 total time=   3.9s\n",
            "[CV 3/5] END C=1, degree=2, gamma=0.01, kernel=poly;, score=0.846 total time=   3.8s\n",
            "[CV 4/5] END C=1, degree=2, gamma=0.01, kernel=poly;, score=0.843 total time=   3.9s\n",
            "[CV 5/5] END C=1, degree=2, gamma=0.01, kernel=poly;, score=0.865 total time=   3.9s\n",
            "[CV 1/5] END C=1, degree=2, gamma=0.001, kernel=rbf;, score=0.857 total time=   5.3s\n",
            "[CV 2/5] END C=1, degree=2, gamma=0.001, kernel=rbf;, score=0.840 total time=   5.3s\n",
            "[CV 3/5] END C=1, degree=2, gamma=0.001, kernel=rbf;, score=0.828 total time=   5.2s\n",
            "[CV 4/5] END C=1, degree=2, gamma=0.001, kernel=rbf;, score=0.852 total time=   5.2s\n",
            "[CV 5/5] END C=1, degree=2, gamma=0.001, kernel=rbf;, score=0.846 total time=   5.2s\n",
            "[CV 1/5] END C=1, degree=2, gamma=0.001, kernel=poly;, score=0.835 total time=   5.0s\n",
            "[CV 2/5] END C=1, degree=2, gamma=0.001, kernel=poly;, score=0.817 total time=   5.0s\n",
            "[CV 3/5] END C=1, degree=2, gamma=0.001, kernel=poly;, score=0.800 total time=   5.0s\n",
            "[CV 4/5] END C=1, degree=2, gamma=0.001, kernel=poly;, score=0.828 total time=   4.8s\n",
            "[CV 5/5] END C=1, degree=2, gamma=0.001, kernel=poly;, score=0.824 total time=   4.9s\n",
            "[CV 1/5] END C=1, degree=2, gamma=0.0001, kernel=rbf;, score=0.809 total time=   6.5s\n",
            "[CV 2/5] END C=1, degree=2, gamma=0.0001, kernel=rbf;, score=0.786 total time=   6.5s\n",
            "[CV 3/5] END C=1, degree=2, gamma=0.0001, kernel=rbf;, score=0.781 total time=   6.4s\n",
            "[CV 4/5] END C=1, degree=2, gamma=0.0001, kernel=rbf;, score=0.791 total time=   6.4s\n",
            "[CV 5/5] END C=1, degree=2, gamma=0.0001, kernel=rbf;, score=0.796 total time=   6.3s\n",
            "[CV 1/5] END C=1, degree=2, gamma=0.0001, kernel=poly;, score=0.542 total time=  14.4s\n",
            "[CV 2/5] END C=1, degree=2, gamma=0.0001, kernel=poly;, score=0.504 total time=  14.5s\n",
            "[CV 3/5] END C=1, degree=2, gamma=0.0001, kernel=poly;, score=0.494 total time=  14.6s\n",
            "[CV 4/5] END C=1, degree=2, gamma=0.0001, kernel=poly;, score=0.524 total time=  14.4s\n",
            "[CV 5/5] END C=1, degree=2, gamma=0.0001, kernel=poly;, score=0.521 total time=  14.3s\n",
            "[CV 1/5] END C=1, degree=3, gamma=1, kernel=rbf;, score=0.104 total time=  18.3s\n",
            "[CV 2/5] END C=1, degree=3, gamma=1, kernel=rbf;, score=0.104 total time=  18.2s\n",
            "[CV 3/5] END C=1, degree=3, gamma=1, kernel=rbf;, score=0.104 total time=  18.2s\n",
            "[CV 4/5] END C=1, degree=3, gamma=1, kernel=rbf;, score=0.102 total time=  18.2s\n",
            "[CV 5/5] END C=1, degree=3, gamma=1, kernel=rbf;, score=0.104 total time=  18.2s\n",
            "[CV 1/5] END C=1, degree=3, gamma=1, kernel=poly;, score=0.863 total time=   4.1s\n",
            "[CV 2/5] END C=1, degree=3, gamma=1, kernel=poly;, score=0.846 total time=   4.1s\n",
            "[CV 3/5] END C=1, degree=3, gamma=1, kernel=poly;, score=0.844 total time=   4.1s\n",
            "[CV 4/5] END C=1, degree=3, gamma=1, kernel=poly;, score=0.843 total time=   4.2s\n",
            "[CV 5/5] END C=1, degree=3, gamma=1, kernel=poly;, score=0.864 total time=   4.1s\n",
            "[CV 1/5] END C=1, degree=3, gamma=0.1, kernel=rbf;, score=0.182 total time=  19.0s\n",
            "[CV 2/5] END C=1, degree=3, gamma=0.1, kernel=rbf;, score=0.179 total time=  19.0s\n",
            "[CV 3/5] END C=1, degree=3, gamma=0.1, kernel=rbf;, score=0.186 total time=  18.9s\n",
            "[CV 4/5] END C=1, degree=3, gamma=0.1, kernel=rbf;, score=0.168 total time=  18.5s\n",
            "[CV 5/5] END C=1, degree=3, gamma=0.1, kernel=rbf;, score=0.196 total time=  18.6s\n",
            "[CV 1/5] END C=1, degree=3, gamma=0.1, kernel=poly;, score=0.863 total time=   4.2s\n",
            "[CV 2/5] END C=1, degree=3, gamma=0.1, kernel=poly;, score=0.846 total time=   4.0s\n",
            "[CV 3/5] END C=1, degree=3, gamma=0.1, kernel=poly;, score=0.844 total time=   4.0s\n",
            "[CV 4/5] END C=1, degree=3, gamma=0.1, kernel=poly;, score=0.843 total time=   4.0s\n",
            "[CV 5/5] END C=1, degree=3, gamma=0.1, kernel=poly;, score=0.864 total time=   3.9s\n",
            "[CV 1/5] END C=1, degree=3, gamma=0.01, kernel=rbf;, score=0.721 total time=  17.0s\n",
            "[CV 2/5] END C=1, degree=3, gamma=0.01, kernel=rbf;, score=0.710 total time=  16.9s\n",
            "[CV 3/5] END C=1, degree=3, gamma=0.01, kernel=rbf;, score=0.714 total time=  16.7s\n",
            "[CV 4/5] END C=1, degree=3, gamma=0.01, kernel=rbf;, score=0.714 total time=  16.9s\n",
            "[CV 5/5] END C=1, degree=3, gamma=0.01, kernel=rbf;, score=0.719 total time=  17.0s\n",
            "[CV 1/5] END C=1, degree=3, gamma=0.01, kernel=poly;, score=0.863 total time=   4.2s\n",
            "[CV 2/5] END C=1, degree=3, gamma=0.01, kernel=poly;, score=0.846 total time=   4.0s\n",
            "[CV 3/5] END C=1, degree=3, gamma=0.01, kernel=poly;, score=0.844 total time=   4.1s\n",
            "[CV 4/5] END C=1, degree=3, gamma=0.01, kernel=poly;, score=0.843 total time=   4.2s\n",
            "[CV 5/5] END C=1, degree=3, gamma=0.01, kernel=poly;, score=0.864 total time=   4.2s\n",
            "[CV 1/5] END C=1, degree=3, gamma=0.001, kernel=rbf;, score=0.857 total time=   5.4s\n",
            "[CV 2/5] END C=1, degree=3, gamma=0.001, kernel=rbf;, score=0.840 total time=   5.4s\n",
            "[CV 3/5] END C=1, degree=3, gamma=0.001, kernel=rbf;, score=0.828 total time=   5.3s\n",
            "[CV 4/5] END C=1, degree=3, gamma=0.001, kernel=rbf;, score=0.852 total time=   5.3s\n",
            "[CV 5/5] END C=1, degree=3, gamma=0.001, kernel=rbf;, score=0.846 total time=   5.3s\n",
            "[CV 1/5] END C=1, degree=3, gamma=0.001, kernel=poly;, score=0.786 total time=   5.7s\n",
            "[CV 2/5] END C=1, degree=3, gamma=0.001, kernel=poly;, score=0.770 total time=   5.6s\n",
            "[CV 3/5] END C=1, degree=3, gamma=0.001, kernel=poly;, score=0.744 total time=   5.5s\n",
            "[CV 4/5] END C=1, degree=3, gamma=0.001, kernel=poly;, score=0.778 total time=   5.6s\n",
            "[CV 5/5] END C=1, degree=3, gamma=0.001, kernel=poly;, score=0.779 total time=   5.7s\n",
            "[CV 1/5] END C=1, degree=3, gamma=0.0001, kernel=rbf;, score=0.809 total time=   6.7s\n",
            "[CV 2/5] END C=1, degree=3, gamma=0.0001, kernel=rbf;, score=0.786 total time=   6.7s\n",
            "[CV 3/5] END C=1, degree=3, gamma=0.0001, kernel=rbf;, score=0.781 total time=   6.5s\n",
            "[CV 4/5] END C=1, degree=3, gamma=0.0001, kernel=rbf;, score=0.791 total time=   6.4s\n",
            "[CV 5/5] END C=1, degree=3, gamma=0.0001, kernel=rbf;, score=0.796 total time=   6.4s\n",
            "[CV 1/5] END C=1, degree=3, gamma=0.0001, kernel=poly;, score=0.268 total time=  15.2s\n",
            "[CV 2/5] END C=1, degree=3, gamma=0.0001, kernel=poly;, score=0.263 total time=  14.9s\n",
            "[CV 3/5] END C=1, degree=3, gamma=0.0001, kernel=poly;, score=0.253 total time=  15.0s\n",
            "[CV 4/5] END C=1, degree=3, gamma=0.0001, kernel=poly;, score=0.357 total time=  14.9s\n",
            "[CV 5/5] END C=1, degree=3, gamma=0.0001, kernel=poly;, score=0.268 total time=  14.8s\n",
            "[CV 1/5] END C=1, degree=4, gamma=1, kernel=rbf;, score=0.104 total time=  18.2s\n",
            "[CV 2/5] END C=1, degree=4, gamma=1, kernel=rbf;, score=0.104 total time=  18.5s\n",
            "[CV 3/5] END C=1, degree=4, gamma=1, kernel=rbf;, score=0.104 total time=  18.0s\n",
            "[CV 4/5] END C=1, degree=4, gamma=1, kernel=rbf;, score=0.102 total time=  18.3s\n",
            "[CV 5/5] END C=1, degree=4, gamma=1, kernel=rbf;, score=0.104 total time=  18.3s\n",
            "[CV 1/5] END C=1, degree=4, gamma=1, kernel=poly;, score=0.842 total time=   5.2s\n",
            "[CV 2/5] END C=1, degree=4, gamma=1, kernel=poly;, score=0.834 total time=   5.1s\n",
            "[CV 3/5] END C=1, degree=4, gamma=1, kernel=poly;, score=0.819 total time=   5.0s\n",
            "[CV 4/5] END C=1, degree=4, gamma=1, kernel=poly;, score=0.814 total time=   5.0s\n",
            "[CV 5/5] END C=1, degree=4, gamma=1, kernel=poly;, score=0.832 total time=   5.1s\n",
            "[CV 1/5] END C=1, degree=4, gamma=0.1, kernel=rbf;, score=0.182 total time=  18.8s\n",
            "[CV 2/5] END C=1, degree=4, gamma=0.1, kernel=rbf;, score=0.179 total time=  18.8s\n",
            "[CV 3/5] END C=1, degree=4, gamma=0.1, kernel=rbf;, score=0.186 total time=  18.8s\n",
            "[CV 4/5] END C=1, degree=4, gamma=0.1, kernel=rbf;, score=0.168 total time=  18.8s\n",
            "[CV 5/5] END C=1, degree=4, gamma=0.1, kernel=rbf;, score=0.196 total time=  18.8s\n",
            "[CV 1/5] END C=1, degree=4, gamma=0.1, kernel=poly;, score=0.842 total time=   5.2s\n",
            "[CV 2/5] END C=1, degree=4, gamma=0.1, kernel=poly;, score=0.834 total time=   5.1s\n",
            "[CV 3/5] END C=1, degree=4, gamma=0.1, kernel=poly;, score=0.819 total time=   4.9s\n",
            "[CV 4/5] END C=1, degree=4, gamma=0.1, kernel=poly;, score=0.814 total time=   5.1s\n",
            "[CV 5/5] END C=1, degree=4, gamma=0.1, kernel=poly;, score=0.832 total time=   5.1s\n",
            "[CV 1/5] END C=1, degree=4, gamma=0.01, kernel=rbf;, score=0.721 total time=  17.0s\n",
            "[CV 2/5] END C=1, degree=4, gamma=0.01, kernel=rbf;, score=0.710 total time=  17.2s\n",
            "[CV 3/5] END C=1, degree=4, gamma=0.01, kernel=rbf;, score=0.714 total time=  17.2s\n",
            "[CV 4/5] END C=1, degree=4, gamma=0.01, kernel=rbf;, score=0.714 total time=  17.3s\n",
            "[CV 5/5] END C=1, degree=4, gamma=0.01, kernel=rbf;, score=0.719 total time=  16.8s\n",
            "[CV 1/5] END C=1, degree=4, gamma=0.01, kernel=poly;, score=0.842 total time=   5.5s\n",
            "[CV 2/5] END C=1, degree=4, gamma=0.01, kernel=poly;, score=0.834 total time=   5.5s\n",
            "[CV 3/5] END C=1, degree=4, gamma=0.01, kernel=poly;, score=0.819 total time=   5.1s\n",
            "[CV 4/5] END C=1, degree=4, gamma=0.01, kernel=poly;, score=0.814 total time=   5.2s\n",
            "[CV 5/5] END C=1, degree=4, gamma=0.01, kernel=poly;, score=0.832 total time=   5.1s\n",
            "[CV 1/5] END C=1, degree=4, gamma=0.001, kernel=rbf;, score=0.857 total time=   5.4s\n",
            "[CV 2/5] END C=1, degree=4, gamma=0.001, kernel=rbf;, score=0.840 total time=   5.3s\n",
            "[CV 3/5] END C=1, degree=4, gamma=0.001, kernel=rbf;, score=0.828 total time=   5.2s\n",
            "[CV 4/5] END C=1, degree=4, gamma=0.001, kernel=rbf;, score=0.852 total time=   5.2s\n",
            "[CV 5/5] END C=1, degree=4, gamma=0.001, kernel=rbf;, score=0.846 total time=   5.3s\n",
            "[CV 1/5] END C=1, degree=4, gamma=0.001, kernel=poly;, score=0.689 total time=   8.0s\n",
            "[CV 2/5] END C=1, degree=4, gamma=0.001, kernel=poly;, score=0.694 total time=   7.9s\n",
            "[CV 3/5] END C=1, degree=4, gamma=0.001, kernel=poly;, score=0.649 total time=   7.6s\n",
            "[CV 4/5] END C=1, degree=4, gamma=0.001, kernel=poly;, score=0.694 total time=   7.8s\n",
            "[CV 5/5] END C=1, degree=4, gamma=0.001, kernel=poly;, score=0.690 total time=   7.7s\n",
            "[CV 1/5] END C=1, degree=4, gamma=0.0001, kernel=rbf;, score=0.809 total time=   6.3s\n",
            "[CV 2/5] END C=1, degree=4, gamma=0.0001, kernel=rbf;, score=0.786 total time=   6.3s\n",
            "[CV 3/5] END C=1, degree=4, gamma=0.0001, kernel=rbf;, score=0.781 total time=   6.3s\n",
            "[CV 4/5] END C=1, degree=4, gamma=0.0001, kernel=rbf;, score=0.791 total time=   6.3s\n",
            "[CV 5/5] END C=1, degree=4, gamma=0.0001, kernel=rbf;, score=0.796 total time=   6.3s\n",
            "[CV 1/5] END C=1, degree=4, gamma=0.0001, kernel=poly;, score=0.192 total time=  14.8s\n",
            "[CV 2/5] END C=1, degree=4, gamma=0.0001, kernel=poly;, score=0.190 total time=  15.1s\n",
            "[CV 3/5] END C=1, degree=4, gamma=0.0001, kernel=poly;, score=0.199 total time=  14.8s\n",
            "[CV 4/5] END C=1, degree=4, gamma=0.0001, kernel=poly;, score=0.250 total time=  15.0s\n",
            "[CV 5/5] END C=1, degree=4, gamma=0.0001, kernel=poly;, score=0.189 total time=  14.9s\n",
            "[CV 1/5] END C=10, degree=2, gamma=1, kernel=rbf;, score=0.107 total time=  18.2s\n",
            "[CV 2/5] END C=10, degree=2, gamma=1, kernel=rbf;, score=0.106 total time=  18.3s\n",
            "[CV 3/5] END C=10, degree=2, gamma=1, kernel=rbf;, score=0.106 total time=  18.4s\n",
            "[CV 4/5] END C=10, degree=2, gamma=1, kernel=rbf;, score=0.105 total time=  18.9s\n",
            "[CV 5/5] END C=10, degree=2, gamma=1, kernel=rbf;, score=0.108 total time=  18.4s\n",
            "[CV 1/5] END C=10, degree=2, gamma=1, kernel=poly;, score=0.865 total time=   4.1s\n",
            "[CV 2/5] END C=10, degree=2, gamma=1, kernel=poly;, score=0.859 total time=   3.9s\n",
            "[CV 3/5] END C=10, degree=2, gamma=1, kernel=poly;, score=0.845 total time=   4.0s\n",
            "[CV 4/5] END C=10, degree=2, gamma=1, kernel=poly;, score=0.841 total time=   4.1s\n",
            "[CV 5/5] END C=10, degree=2, gamma=1, kernel=poly;, score=0.861 total time=   4.0s\n",
            "[CV 1/5] END C=10, degree=2, gamma=0.1, kernel=rbf;, score=0.199 total time=  18.7s\n",
            "[CV 2/5] END C=10, degree=2, gamma=0.1, kernel=rbf;, score=0.193 total time=  19.1s\n",
            "[CV 3/5] END C=10, degree=2, gamma=0.1, kernel=rbf;, score=0.201 total time=  18.8s\n",
            "[CV 4/5] END C=10, degree=2, gamma=0.1, kernel=rbf;, score=0.181 total time=  19.0s\n",
            "[CV 5/5] END C=10, degree=2, gamma=0.1, kernel=rbf;, score=0.206 total time=  19.1s\n",
            "[CV 1/5] END C=10, degree=2, gamma=0.1, kernel=poly;, score=0.865 total time=   4.2s\n",
            "[CV 2/5] END C=10, degree=2, gamma=0.1, kernel=poly;, score=0.859 total time=   4.1s\n",
            "[CV 3/5] END C=10, degree=2, gamma=0.1, kernel=poly;, score=0.845 total time=   3.9s\n",
            "[CV 4/5] END C=10, degree=2, gamma=0.1, kernel=poly;, score=0.841 total time=   4.0s\n",
            "[CV 5/5] END C=10, degree=2, gamma=0.1, kernel=poly;, score=0.861 total time=   4.1s\n",
            "[CV 1/5] END C=10, degree=2, gamma=0.01, kernel=rbf;, score=0.743 total time=  17.6s\n",
            "[CV 2/5] END C=10, degree=2, gamma=0.01, kernel=rbf;, score=0.731 total time=  17.1s\n",
            "[CV 3/5] END C=10, degree=2, gamma=0.01, kernel=rbf;, score=0.728 total time=  17.3s\n",
            "[CV 4/5] END C=10, degree=2, gamma=0.01, kernel=rbf;, score=0.729 total time=  17.3s\n",
            "[CV 5/5] END C=10, degree=2, gamma=0.01, kernel=rbf;, score=0.729 total time=  17.1s\n",
            "[CV 1/5] END C=10, degree=2, gamma=0.01, kernel=poly;, score=0.865 total time=   4.0s\n",
            "[CV 2/5] END C=10, degree=2, gamma=0.01, kernel=poly;, score=0.859 total time=   3.9s\n",
            "[CV 3/5] END C=10, degree=2, gamma=0.01, kernel=poly;, score=0.845 total time=   3.9s\n",
            "[CV 4/5] END C=10, degree=2, gamma=0.01, kernel=poly;, score=0.841 total time=   3.9s\n",
            "[CV 5/5] END C=10, degree=2, gamma=0.01, kernel=poly;, score=0.861 total time=   3.9s\n",
            "[CV 1/5] END C=10, degree=2, gamma=0.001, kernel=rbf;, score=0.883 total time=   5.1s\n",
            "[CV 2/5] END C=10, degree=2, gamma=0.001, kernel=rbf;, score=0.857 total time=   4.9s\n",
            "[CV 3/5] END C=10, degree=2, gamma=0.001, kernel=rbf;, score=0.843 total time=   4.8s\n",
            "[CV 4/5] END C=10, degree=2, gamma=0.001, kernel=rbf;, score=0.855 total time=   4.9s\n",
            "[CV 5/5] END C=10, degree=2, gamma=0.001, kernel=rbf;, score=0.864 total time=   4.9s\n",
            "[CV 1/5] END C=10, degree=2, gamma=0.001, kernel=poly;, score=0.871 total time=   3.9s\n",
            "[CV 2/5] END C=10, degree=2, gamma=0.001, kernel=poly;, score=0.866 total time=   4.0s\n",
            "[CV 3/5] END C=10, degree=2, gamma=0.001, kernel=poly;, score=0.846 total time=   3.8s\n",
            "[CV 4/5] END C=10, degree=2, gamma=0.001, kernel=poly;, score=0.860 total time=   3.8s\n",
            "[CV 5/5] END C=10, degree=2, gamma=0.001, kernel=poly;, score=0.870 total time=   3.9s\n",
            "[CV 1/5] END C=10, degree=2, gamma=0.0001, kernel=rbf;, score=0.854 total time=   4.1s\n",
            "[CV 2/5] END C=10, degree=2, gamma=0.0001, kernel=rbf;, score=0.840 total time=   3.9s\n",
            "[CV 3/5] END C=10, degree=2, gamma=0.0001, kernel=rbf;, score=0.831 total time=   3.9s\n",
            "[CV 4/5] END C=10, degree=2, gamma=0.0001, kernel=rbf;, score=0.852 total time=   4.0s\n",
            "[CV 5/5] END C=10, degree=2, gamma=0.0001, kernel=rbf;, score=0.854 total time=   4.0s\n",
            "[CV 1/5] END C=10, degree=2, gamma=0.0001, kernel=poly;, score=0.724 total time=   8.9s\n",
            "[CV 2/5] END C=10, degree=2, gamma=0.0001, kernel=poly;, score=0.708 total time=   8.7s\n",
            "[CV 3/5] END C=10, degree=2, gamma=0.0001, kernel=poly;, score=0.670 total time=   8.7s\n",
            "[CV 4/5] END C=10, degree=2, gamma=0.0001, kernel=poly;, score=0.708 total time=   8.8s\n",
            "[CV 5/5] END C=10, degree=2, gamma=0.0001, kernel=poly;, score=0.706 total time=   8.6s\n",
            "[CV 1/5] END C=10, degree=3, gamma=1, kernel=rbf;, score=0.107 total time=  18.2s\n",
            "[CV 2/5] END C=10, degree=3, gamma=1, kernel=rbf;, score=0.106 total time=  18.3s\n",
            "[CV 3/5] END C=10, degree=3, gamma=1, kernel=rbf;, score=0.106 total time=  18.5s\n",
            "[CV 4/5] END C=10, degree=3, gamma=1, kernel=rbf;, score=0.105 total time=  18.4s\n",
            "[CV 5/5] END C=10, degree=3, gamma=1, kernel=rbf;, score=0.108 total time=  18.3s\n",
            "[CV 1/5] END C=10, degree=3, gamma=1, kernel=poly;, score=0.863 total time=   4.0s\n",
            "[CV 2/5] END C=10, degree=3, gamma=1, kernel=poly;, score=0.846 total time=   3.9s\n",
            "[CV 3/5] END C=10, degree=3, gamma=1, kernel=poly;, score=0.844 total time=   3.9s\n",
            "[CV 4/5] END C=10, degree=3, gamma=1, kernel=poly;, score=0.843 total time=   3.9s\n",
            "[CV 5/5] END C=10, degree=3, gamma=1, kernel=poly;, score=0.864 total time=   4.0s\n",
            "[CV 1/5] END C=10, degree=3, gamma=0.1, kernel=rbf;, score=0.199 total time=  18.8s\n",
            "[CV 2/5] END C=10, degree=3, gamma=0.1, kernel=rbf;, score=0.193 total time=  18.9s\n",
            "[CV 3/5] END C=10, degree=3, gamma=0.1, kernel=rbf;, score=0.201 total time=  18.7s\n",
            "[CV 4/5] END C=10, degree=3, gamma=0.1, kernel=rbf;, score=0.181 total time=  18.7s\n",
            "[CV 5/5] END C=10, degree=3, gamma=0.1, kernel=rbf;, score=0.206 total time=  18.7s\n",
            "[CV 1/5] END C=10, degree=3, gamma=0.1, kernel=poly;, score=0.863 total time=   4.1s\n",
            "[CV 2/5] END C=10, degree=3, gamma=0.1, kernel=poly;, score=0.846 total time=   3.9s\n",
            "[CV 3/5] END C=10, degree=3, gamma=0.1, kernel=poly;, score=0.844 total time=   3.9s\n",
            "[CV 4/5] END C=10, degree=3, gamma=0.1, kernel=poly;, score=0.843 total time=   3.9s\n",
            "[CV 5/5] END C=10, degree=3, gamma=0.1, kernel=poly;, score=0.864 total time=   3.9s\n",
            "[CV 1/5] END C=10, degree=3, gamma=0.01, kernel=rbf;, score=0.743 total time=  16.9s\n",
            "[CV 2/5] END C=10, degree=3, gamma=0.01, kernel=rbf;, score=0.731 total time=  17.1s\n",
            "[CV 3/5] END C=10, degree=3, gamma=0.01, kernel=rbf;, score=0.728 total time=  17.0s\n",
            "[CV 4/5] END C=10, degree=3, gamma=0.01, kernel=rbf;, score=0.729 total time=  17.0s\n",
            "[CV 5/5] END C=10, degree=3, gamma=0.01, kernel=rbf;, score=0.729 total time=  17.1s\n",
            "[CV 1/5] END C=10, degree=3, gamma=0.01, kernel=poly;, score=0.863 total time=   4.0s\n",
            "[CV 2/5] END C=10, degree=3, gamma=0.01, kernel=poly;, score=0.846 total time=   4.0s\n",
            "[CV 3/5] END C=10, degree=3, gamma=0.01, kernel=poly;, score=0.844 total time=   3.9s\n",
            "[CV 4/5] END C=10, degree=3, gamma=0.01, kernel=poly;, score=0.843 total time=   4.0s\n",
            "[CV 5/5] END C=10, degree=3, gamma=0.01, kernel=poly;, score=0.864 total time=   3.9s\n",
            "[CV 1/5] END C=10, degree=3, gamma=0.001, kernel=rbf;, score=0.883 total time=   4.8s\n",
            "[CV 2/5] END C=10, degree=3, gamma=0.001, kernel=rbf;, score=0.857 total time=   4.8s\n",
            "[CV 3/5] END C=10, degree=3, gamma=0.001, kernel=rbf;, score=0.843 total time=   4.7s\n",
            "[CV 4/5] END C=10, degree=3, gamma=0.001, kernel=rbf;, score=0.855 total time=   4.8s\n",
            "[CV 5/5] END C=10, degree=3, gamma=0.001, kernel=rbf;, score=0.864 total time=   4.8s\n",
            "[CV 1/5] END C=10, degree=3, gamma=0.001, kernel=poly;, score=0.866 total time=   4.0s\n",
            "[CV 2/5] END C=10, degree=3, gamma=0.001, kernel=poly;, score=0.845 total time=   3.9s\n",
            "[CV 3/5] END C=10, degree=3, gamma=0.001, kernel=poly;, score=0.829 total time=   3.9s\n",
            "[CV 4/5] END C=10, degree=3, gamma=0.001, kernel=poly;, score=0.850 total time=   4.0s\n",
            "[CV 5/5] END C=10, degree=3, gamma=0.001, kernel=poly;, score=0.850 total time=   3.9s\n",
            "[CV 1/5] END C=10, degree=3, gamma=0.0001, kernel=rbf;, score=0.854 total time=   4.0s\n",
            "[CV 2/5] END C=10, degree=3, gamma=0.0001, kernel=rbf;, score=0.840 total time=   3.9s\n",
            "[CV 3/5] END C=10, degree=3, gamma=0.0001, kernel=rbf;, score=0.831 total time=   3.9s\n",
            "[CV 4/5] END C=10, degree=3, gamma=0.0001, kernel=rbf;, score=0.852 total time=   3.9s\n",
            "[CV 5/5] END C=10, degree=3, gamma=0.0001, kernel=rbf;, score=0.854 total time=   3.9s\n",
            "[CV 1/5] END C=10, degree=3, gamma=0.0001, kernel=poly;, score=0.341 total time=  14.4s\n",
            "[CV 2/5] END C=10, degree=3, gamma=0.0001, kernel=poly;, score=0.337 total time=  14.5s\n",
            "[CV 3/5] END C=10, degree=3, gamma=0.0001, kernel=poly;, score=0.340 total time=  14.5s\n",
            "[CV 4/5] END C=10, degree=3, gamma=0.0001, kernel=poly;, score=0.430 total time=  14.4s\n",
            "[CV 5/5] END C=10, degree=3, gamma=0.0001, kernel=poly;, score=0.348 total time=  14.6s\n",
            "[CV 1/5] END C=10, degree=4, gamma=1, kernel=rbf;, score=0.107 total time=  18.4s\n",
            "[CV 2/5] END C=10, degree=4, gamma=1, kernel=rbf;, score=0.106 total time=  18.4s\n",
            "[CV 3/5] END C=10, degree=4, gamma=1, kernel=rbf;, score=0.106 total time=  18.0s\n",
            "[CV 4/5] END C=10, degree=4, gamma=1, kernel=rbf;, score=0.105 total time=  18.5s\n",
            "[CV 5/5] END C=10, degree=4, gamma=1, kernel=rbf;, score=0.108 total time=  18.3s\n",
            "[CV 1/5] END C=10, degree=4, gamma=1, kernel=poly;, score=0.842 total time=   5.2s\n",
            "[CV 2/5] END C=10, degree=4, gamma=1, kernel=poly;, score=0.834 total time=   5.1s\n",
            "[CV 3/5] END C=10, degree=4, gamma=1, kernel=poly;, score=0.819 total time=   5.0s\n",
            "[CV 4/5] END C=10, degree=4, gamma=1, kernel=poly;, score=0.814 total time=   5.1s\n",
            "[CV 5/5] END C=10, degree=4, gamma=1, kernel=poly;, score=0.832 total time=   5.1s\n",
            "[CV 1/5] END C=10, degree=4, gamma=0.1, kernel=rbf;, score=0.199 total time=  18.7s\n",
            "[CV 2/5] END C=10, degree=4, gamma=0.1, kernel=rbf;, score=0.193 total time=  18.7s\n",
            "[CV 3/5] END C=10, degree=4, gamma=0.1, kernel=rbf;, score=0.201 total time=  18.4s\n",
            "[CV 4/5] END C=10, degree=4, gamma=0.1, kernel=rbf;, score=0.181 total time=  18.7s\n",
            "[CV 5/5] END C=10, degree=4, gamma=0.1, kernel=rbf;, score=0.206 total time=  18.6s\n",
            "[CV 1/5] END C=10, degree=4, gamma=0.1, kernel=poly;, score=0.842 total time=   5.1s\n",
            "[CV 2/5] END C=10, degree=4, gamma=0.1, kernel=poly;, score=0.834 total time=   5.1s\n",
            "[CV 3/5] END C=10, degree=4, gamma=0.1, kernel=poly;, score=0.819 total time=   5.1s\n",
            "[CV 4/5] END C=10, degree=4, gamma=0.1, kernel=poly;, score=0.814 total time=   5.0s\n",
            "[CV 5/5] END C=10, degree=4, gamma=0.1, kernel=poly;, score=0.832 total time=   5.1s\n",
            "[CV 1/5] END C=10, degree=4, gamma=0.01, kernel=rbf;, score=0.743 total time=  16.7s\n",
            "[CV 2/5] END C=10, degree=4, gamma=0.01, kernel=rbf;, score=0.731 total time=  17.1s\n",
            "[CV 3/5] END C=10, degree=4, gamma=0.01, kernel=rbf;, score=0.728 total time=  16.8s\n",
            "[CV 4/5] END C=10, degree=4, gamma=0.01, kernel=rbf;, score=0.729 total time=  17.2s\n",
            "[CV 5/5] END C=10, degree=4, gamma=0.01, kernel=rbf;, score=0.729 total time=  16.7s\n",
            "[CV 1/5] END C=10, degree=4, gamma=0.01, kernel=poly;, score=0.842 total time=   5.4s\n",
            "[CV 2/5] END C=10, degree=4, gamma=0.01, kernel=poly;, score=0.834 total time=   5.1s\n",
            "[CV 3/5] END C=10, degree=4, gamma=0.01, kernel=poly;, score=0.819 total time=   5.1s\n",
            "[CV 4/5] END C=10, degree=4, gamma=0.01, kernel=poly;, score=0.814 total time=   5.1s\n",
            "[CV 5/5] END C=10, degree=4, gamma=0.01, kernel=poly;, score=0.832 total time=   5.2s\n",
            "[CV 1/5] END C=10, degree=4, gamma=0.001, kernel=rbf;, score=0.883 total time=   5.1s\n",
            "[CV 2/5] END C=10, degree=4, gamma=0.001, kernel=rbf;, score=0.857 total time=   5.0s\n",
            "[CV 3/5] END C=10, degree=4, gamma=0.001, kernel=rbf;, score=0.843 total time=   5.1s\n",
            "[CV 4/5] END C=10, degree=4, gamma=0.001, kernel=rbf;, score=0.855 total time=   5.0s\n",
            "[CV 5/5] END C=10, degree=4, gamma=0.001, kernel=rbf;, score=0.864 total time=   5.1s\n",
            "[CV 1/5] END C=10, degree=4, gamma=0.001, kernel=poly;, score=0.806 total time=   5.6s\n",
            "[CV 2/5] END C=10, degree=4, gamma=0.001, kernel=poly;, score=0.801 total time=   5.4s\n",
            "[CV 3/5] END C=10, degree=4, gamma=0.001, kernel=poly;, score=0.777 total time=   5.5s\n",
            "[CV 4/5] END C=10, degree=4, gamma=0.001, kernel=poly;, score=0.793 total time=   5.6s\n",
            "[CV 5/5] END C=10, degree=4, gamma=0.001, kernel=poly;, score=0.791 total time=   5.5s\n",
            "[CV 1/5] END C=10, degree=4, gamma=0.0001, kernel=rbf;, score=0.854 total time=   4.1s\n",
            "[CV 2/5] END C=10, degree=4, gamma=0.0001, kernel=rbf;, score=0.840 total time=   4.0s\n",
            "[CV 3/5] END C=10, degree=4, gamma=0.0001, kernel=rbf;, score=0.831 total time=   4.0s\n",
            "[CV 4/5] END C=10, degree=4, gamma=0.0001, kernel=rbf;, score=0.852 total time=   4.1s\n",
            "[CV 5/5] END C=10, degree=4, gamma=0.0001, kernel=rbf;, score=0.854 total time=   4.2s\n",
            "[CV 1/5] END C=10, degree=4, gamma=0.0001, kernel=poly;, score=0.195 total time=  14.7s\n",
            "[CV 2/5] END C=10, degree=4, gamma=0.0001, kernel=poly;, score=0.195 total time=  14.8s\n",
            "[CV 3/5] END C=10, degree=4, gamma=0.0001, kernel=poly;, score=0.203 total time=  15.1s\n",
            "[CV 4/5] END C=10, degree=4, gamma=0.0001, kernel=poly;, score=0.254 total time=  14.9s\n",
            "[CV 5/5] END C=10, degree=4, gamma=0.0001, kernel=poly;, score=0.190 total time=  14.7s\n",
            "[CV 1/5] END C=100, degree=2, gamma=1, kernel=rbf;, score=0.107 total time=  18.2s\n",
            "[CV 2/5] END C=100, degree=2, gamma=1, kernel=rbf;, score=0.106 total time=  18.0s\n",
            "[CV 3/5] END C=100, degree=2, gamma=1, kernel=rbf;, score=0.106 total time=  18.1s\n",
            "[CV 4/5] END C=100, degree=2, gamma=1, kernel=rbf;, score=0.105 total time=  18.0s\n",
            "[CV 5/5] END C=100, degree=2, gamma=1, kernel=rbf;, score=0.108 total time=  18.0s\n",
            "[CV 1/5] END C=100, degree=2, gamma=1, kernel=poly;, score=0.865 total time=   3.9s\n",
            "[CV 2/5] END C=100, degree=2, gamma=1, kernel=poly;, score=0.859 total time=   3.8s\n",
            "[CV 3/5] END C=100, degree=2, gamma=1, kernel=poly;, score=0.845 total time=   3.8s\n",
            "[CV 4/5] END C=100, degree=2, gamma=1, kernel=poly;, score=0.841 total time=   3.9s\n",
            "[CV 5/5] END C=100, degree=2, gamma=1, kernel=poly;, score=0.861 total time=   3.9s\n",
            "[CV 1/5] END C=100, degree=2, gamma=0.1, kernel=rbf;, score=0.199 total time=  18.9s\n",
            "[CV 2/5] END C=100, degree=2, gamma=0.1, kernel=rbf;, score=0.193 total time=  18.9s\n",
            "[CV 3/5] END C=100, degree=2, gamma=0.1, kernel=rbf;, score=0.201 total time=  18.8s\n",
            "[CV 4/5] END C=100, degree=2, gamma=0.1, kernel=rbf;, score=0.181 total time=  18.9s\n",
            "[CV 5/5] END C=100, degree=2, gamma=0.1, kernel=rbf;, score=0.206 total time=  18.6s\n",
            "[CV 1/5] END C=100, degree=2, gamma=0.1, kernel=poly;, score=0.865 total time=   3.8s\n",
            "[CV 2/5] END C=100, degree=2, gamma=0.1, kernel=poly;, score=0.859 total time=   3.8s\n",
            "[CV 3/5] END C=100, degree=2, gamma=0.1, kernel=poly;, score=0.845 total time=   3.7s\n",
            "[CV 4/5] END C=100, degree=2, gamma=0.1, kernel=poly;, score=0.841 total time=   3.7s\n",
            "[CV 5/5] END C=100, degree=2, gamma=0.1, kernel=poly;, score=0.861 total time=   3.8s\n",
            "[CV 1/5] END C=100, degree=2, gamma=0.01, kernel=rbf;, score=0.743 total time=  17.2s\n",
            "[CV 2/5] END C=100, degree=2, gamma=0.01, kernel=rbf;, score=0.731 total time=  17.0s\n",
            "[CV 3/5] END C=100, degree=2, gamma=0.01, kernel=rbf;, score=0.728 total time=  17.1s\n",
            "[CV 4/5] END C=100, degree=2, gamma=0.01, kernel=rbf;, score=0.729 total time=  17.0s\n",
            "[CV 5/5] END C=100, degree=2, gamma=0.01, kernel=rbf;, score=0.729 total time=  17.1s\n",
            "[CV 1/5] END C=100, degree=2, gamma=0.01, kernel=poly;, score=0.865 total time=   3.9s\n",
            "[CV 2/5] END C=100, degree=2, gamma=0.01, kernel=poly;, score=0.859 total time=   3.8s\n",
            "[CV 3/5] END C=100, degree=2, gamma=0.01, kernel=poly;, score=0.845 total time=   3.7s\n",
            "[CV 4/5] END C=100, degree=2, gamma=0.01, kernel=poly;, score=0.841 total time=   3.8s\n",
            "[CV 5/5] END C=100, degree=2, gamma=0.01, kernel=poly;, score=0.861 total time=   3.8s\n",
            "[CV 1/5] END C=100, degree=2, gamma=0.001, kernel=rbf;, score=0.870 total time=   4.9s\n",
            "[CV 2/5] END C=100, degree=2, gamma=0.001, kernel=rbf;, score=0.853 total time=   4.9s\n",
            "[CV 3/5] END C=100, degree=2, gamma=0.001, kernel=rbf;, score=0.848 total time=   4.8s\n",
            "[CV 4/5] END C=100, degree=2, gamma=0.001, kernel=rbf;, score=0.851 total time=   4.9s\n",
            "[CV 5/5] END C=100, degree=2, gamma=0.001, kernel=rbf;, score=0.858 total time=   5.0s\n",
            "[CV 1/5] END C=100, degree=2, gamma=0.001, kernel=poly;, score=0.866 total time=   3.9s\n",
            "[CV 2/5] END C=100, degree=2, gamma=0.001, kernel=poly;, score=0.862 total time=   3.9s\n",
            "[CV 3/5] END C=100, degree=2, gamma=0.001, kernel=poly;, score=0.846 total time=   3.9s\n",
            "[CV 4/5] END C=100, degree=2, gamma=0.001, kernel=poly;, score=0.843 total time=   3.8s\n",
            "[CV 5/5] END C=100, degree=2, gamma=0.001, kernel=poly;, score=0.865 total time=   3.9s\n",
            "[CV 1/5] END C=100, degree=2, gamma=0.0001, kernel=rbf;, score=0.859 total time=   3.8s\n",
            "[CV 2/5] END C=100, degree=2, gamma=0.0001, kernel=rbf;, score=0.844 total time=   3.6s\n",
            "[CV 3/5] END C=100, degree=2, gamma=0.0001, kernel=rbf;, score=0.831 total time=   3.6s\n",
            "[CV 4/5] END C=100, degree=2, gamma=0.0001, kernel=rbf;, score=0.851 total time=   3.7s\n",
            "[CV 5/5] END C=100, degree=2, gamma=0.0001, kernel=rbf;, score=0.860 total time=   3.6s\n",
            "[CV 1/5] END C=100, degree=2, gamma=0.0001, kernel=poly;, score=0.835 total time=   4.9s\n",
            "[CV 2/5] END C=100, degree=2, gamma=0.0001, kernel=poly;, score=0.817 total time=   4.8s\n",
            "[CV 3/5] END C=100, degree=2, gamma=0.0001, kernel=poly;, score=0.800 total time=   4.8s\n",
            "[CV 4/5] END C=100, degree=2, gamma=0.0001, kernel=poly;, score=0.828 total time=   4.8s\n",
            "[CV 5/5] END C=100, degree=2, gamma=0.0001, kernel=poly;, score=0.824 total time=   4.7s\n",
            "[CV 1/5] END C=100, degree=3, gamma=1, kernel=rbf;, score=0.107 total time=  18.3s\n",
            "[CV 2/5] END C=100, degree=3, gamma=1, kernel=rbf;, score=0.106 total time=  18.2s\n",
            "[CV 3/5] END C=100, degree=3, gamma=1, kernel=rbf;, score=0.106 total time=  18.3s\n",
            "[CV 4/5] END C=100, degree=3, gamma=1, kernel=rbf;, score=0.105 total time=  18.4s\n",
            "[CV 5/5] END C=100, degree=3, gamma=1, kernel=rbf;, score=0.108 total time=  18.2s\n",
            "[CV 1/5] END C=100, degree=3, gamma=1, kernel=poly;, score=0.863 total time=   4.1s\n",
            "[CV 2/5] END C=100, degree=3, gamma=1, kernel=poly;, score=0.846 total time=   3.9s\n",
            "[CV 3/5] END C=100, degree=3, gamma=1, kernel=poly;, score=0.844 total time=   3.9s\n",
            "[CV 4/5] END C=100, degree=3, gamma=1, kernel=poly;, score=0.843 total time=   3.9s\n",
            "[CV 5/5] END C=100, degree=3, gamma=1, kernel=poly;, score=0.864 total time=   3.9s\n",
            "[CV 1/5] END C=100, degree=3, gamma=0.1, kernel=rbf;, score=0.199 total time=  18.5s\n",
            "[CV 2/5] END C=100, degree=3, gamma=0.1, kernel=rbf;, score=0.193 total time=  18.7s\n",
            "[CV 3/5] END C=100, degree=3, gamma=0.1, kernel=rbf;, score=0.201 total time=  18.8s\n",
            "[CV 4/5] END C=100, degree=3, gamma=0.1, kernel=rbf;, score=0.181 total time=  18.8s\n",
            "[CV 5/5] END C=100, degree=3, gamma=0.1, kernel=rbf;, score=0.206 total time=  18.6s\n",
            "[CV 1/5] END C=100, degree=3, gamma=0.1, kernel=poly;, score=0.863 total time=   4.1s\n",
            "[CV 2/5] END C=100, degree=3, gamma=0.1, kernel=poly;, score=0.846 total time=   3.9s\n",
            "[CV 3/5] END C=100, degree=3, gamma=0.1, kernel=poly;, score=0.844 total time=   3.9s\n",
            "[CV 4/5] END C=100, degree=3, gamma=0.1, kernel=poly;, score=0.843 total time=   3.9s\n",
            "[CV 5/5] END C=100, degree=3, gamma=0.1, kernel=poly;, score=0.864 total time=   4.0s\n",
            "[CV 1/5] END C=100, degree=3, gamma=0.01, kernel=rbf;, score=0.743 total time=  17.1s\n",
            "[CV 2/5] END C=100, degree=3, gamma=0.01, kernel=rbf;, score=0.731 total time=  16.9s\n",
            "[CV 3/5] END C=100, degree=3, gamma=0.01, kernel=rbf;, score=0.728 total time=  17.0s\n",
            "[CV 4/5] END C=100, degree=3, gamma=0.01, kernel=rbf;, score=0.729 total time=  16.9s\n",
            "[CV 5/5] END C=100, degree=3, gamma=0.01, kernel=rbf;, score=0.729 total time=  17.0s\n",
            "[CV 1/5] END C=100, degree=3, gamma=0.01, kernel=poly;, score=0.863 total time=   4.1s\n",
            "[CV 2/5] END C=100, degree=3, gamma=0.01, kernel=poly;, score=0.846 total time=   3.9s\n",
            "[CV 3/5] END C=100, degree=3, gamma=0.01, kernel=poly;, score=0.844 total time=   4.0s\n",
            "[CV 4/5] END C=100, degree=3, gamma=0.01, kernel=poly;, score=0.843 total time=   3.9s\n",
            "[CV 5/5] END C=100, degree=3, gamma=0.01, kernel=poly;, score=0.864 total time=   3.9s\n",
            "[CV 1/5] END C=100, degree=3, gamma=0.001, kernel=rbf;, score=0.870 total time=   5.0s\n",
            "[CV 2/5] END C=100, degree=3, gamma=0.001, kernel=rbf;, score=0.853 total time=   4.8s\n",
            "[CV 3/5] END C=100, degree=3, gamma=0.001, kernel=rbf;, score=0.848 total time=   4.8s\n",
            "[CV 4/5] END C=100, degree=3, gamma=0.001, kernel=rbf;, score=0.851 total time=   4.9s\n",
            "[CV 5/5] END C=100, degree=3, gamma=0.001, kernel=rbf;, score=0.858 total time=   4.9s\n",
            "[CV 1/5] END C=100, degree=3, gamma=0.001, kernel=poly;, score=0.858 total time=   4.0s\n",
            "[CV 2/5] END C=100, degree=3, gamma=0.001, kernel=poly;, score=0.845 total time=   3.9s\n",
            "[CV 3/5] END C=100, degree=3, gamma=0.001, kernel=poly;, score=0.845 total time=   3.9s\n",
            "[CV 4/5] END C=100, degree=3, gamma=0.001, kernel=poly;, score=0.844 total time=   3.8s\n",
            "[CV 5/5] END C=100, degree=3, gamma=0.001, kernel=poly;, score=0.864 total time=   3.9s\n",
            "[CV 1/5] END C=100, degree=3, gamma=0.0001, kernel=rbf;, score=0.859 total time=   3.6s\n",
            "[CV 2/5] END C=100, degree=3, gamma=0.0001, kernel=rbf;, score=0.844 total time=   3.6s\n",
            "[CV 3/5] END C=100, degree=3, gamma=0.0001, kernel=rbf;, score=0.831 total time=   3.5s\n",
            "[CV 4/5] END C=100, degree=3, gamma=0.0001, kernel=rbf;, score=0.851 total time=   3.7s\n",
            "[CV 5/5] END C=100, degree=3, gamma=0.0001, kernel=rbf;, score=0.860 total time=   3.6s\n",
            "[CV 1/5] END C=100, degree=3, gamma=0.0001, kernel=poly;, score=0.670 total time=  10.0s\n",
            "[CV 2/5] END C=100, degree=3, gamma=0.0001, kernel=poly;, score=0.660 total time=   9.9s\n",
            "[CV 3/5] END C=100, degree=3, gamma=0.0001, kernel=poly;, score=0.624 total time=   9.9s\n",
            "[CV 4/5] END C=100, degree=3, gamma=0.0001, kernel=poly;, score=0.664 total time=  10.1s\n",
            "[CV 5/5] END C=100, degree=3, gamma=0.0001, kernel=poly;, score=0.647 total time=  10.0s\n",
            "[CV 1/5] END C=100, degree=4, gamma=1, kernel=rbf;, score=0.107 total time=  18.1s\n",
            "[CV 2/5] END C=100, degree=4, gamma=1, kernel=rbf;, score=0.106 total time=  18.4s\n",
            "[CV 3/5] END C=100, degree=4, gamma=1, kernel=rbf;, score=0.106 total time=  18.3s\n",
            "[CV 4/5] END C=100, degree=4, gamma=1, kernel=rbf;, score=0.105 total time=  18.4s\n",
            "[CV 5/5] END C=100, degree=4, gamma=1, kernel=rbf;, score=0.108 total time=  18.2s\n",
            "[CV 1/5] END C=100, degree=4, gamma=1, kernel=poly;, score=0.842 total time=   5.2s\n",
            "[CV 2/5] END C=100, degree=4, gamma=1, kernel=poly;, score=0.834 total time=   5.1s\n",
            "[CV 3/5] END C=100, degree=4, gamma=1, kernel=poly;, score=0.819 total time=   5.2s\n",
            "[CV 4/5] END C=100, degree=4, gamma=1, kernel=poly;, score=0.814 total time=   5.2s\n",
            "[CV 5/5] END C=100, degree=4, gamma=1, kernel=poly;, score=0.832 total time=   5.1s\n",
            "[CV 1/5] END C=100, degree=4, gamma=0.1, kernel=rbf;, score=0.199 total time=  18.6s\n",
            "[CV 2/5] END C=100, degree=4, gamma=0.1, kernel=rbf;, score=0.193 total time=  18.8s\n",
            "[CV 3/5] END C=100, degree=4, gamma=0.1, kernel=rbf;, score=0.201 total time=  18.7s\n",
            "[CV 4/5] END C=100, degree=4, gamma=0.1, kernel=rbf;, score=0.181 total time=  18.6s\n",
            "[CV 5/5] END C=100, degree=4, gamma=0.1, kernel=rbf;, score=0.206 total time=  18.4s\n",
            "[CV 1/5] END C=100, degree=4, gamma=0.1, kernel=poly;, score=0.842 total time=   5.2s\n",
            "[CV 2/5] END C=100, degree=4, gamma=0.1, kernel=poly;, score=0.834 total time=   5.2s\n",
            "[CV 3/5] END C=100, degree=4, gamma=0.1, kernel=poly;, score=0.819 total time=   5.0s\n",
            "[CV 4/5] END C=100, degree=4, gamma=0.1, kernel=poly;, score=0.814 total time=   5.1s\n",
            "[CV 5/5] END C=100, degree=4, gamma=0.1, kernel=poly;, score=0.832 total time=   5.1s\n",
            "[CV 1/5] END C=100, degree=4, gamma=0.01, kernel=rbf;, score=0.743 total time=  17.0s\n",
            "[CV 2/5] END C=100, degree=4, gamma=0.01, kernel=rbf;, score=0.731 total time=  17.1s\n",
            "[CV 3/5] END C=100, degree=4, gamma=0.01, kernel=rbf;, score=0.728 total time=  17.1s\n",
            "[CV 4/5] END C=100, degree=4, gamma=0.01, kernel=rbf;, score=0.729 total time=  17.2s\n",
            "[CV 5/5] END C=100, degree=4, gamma=0.01, kernel=rbf;, score=0.729 total time=  17.1s\n",
            "[CV 1/5] END C=100, degree=4, gamma=0.01, kernel=poly;, score=0.842 total time=   5.3s\n",
            "[CV 2/5] END C=100, degree=4, gamma=0.01, kernel=poly;, score=0.834 total time=   5.2s\n",
            "[CV 3/5] END C=100, degree=4, gamma=0.01, kernel=poly;, score=0.819 total time=   5.0s\n",
            "[CV 4/5] END C=100, degree=4, gamma=0.01, kernel=poly;, score=0.814 total time=   5.1s\n",
            "[CV 5/5] END C=100, degree=4, gamma=0.01, kernel=poly;, score=0.832 total time=   5.2s\n",
            "[CV 1/5] END C=100, degree=4, gamma=0.001, kernel=rbf;, score=0.870 total time=   5.0s\n",
            "[CV 2/5] END C=100, degree=4, gamma=0.001, kernel=rbf;, score=0.853 total time=   4.9s\n",
            "[CV 3/5] END C=100, degree=4, gamma=0.001, kernel=rbf;, score=0.848 total time=   4.8s\n",
            "[CV 4/5] END C=100, degree=4, gamma=0.001, kernel=rbf;, score=0.851 total time=   4.9s\n",
            "[CV 5/5] END C=100, degree=4, gamma=0.001, kernel=rbf;, score=0.858 total time=   4.9s\n",
            "[CV 1/5] END C=100, degree=4, gamma=0.001, kernel=poly;, score=0.842 total time=   5.0s\n",
            "[CV 2/5] END C=100, degree=4, gamma=0.001, kernel=poly;, score=0.834 total time=   4.8s\n",
            "[CV 3/5] END C=100, degree=4, gamma=0.001, kernel=poly;, score=0.821 total time=   4.8s\n",
            "[CV 4/5] END C=100, degree=4, gamma=0.001, kernel=poly;, score=0.814 total time=   5.1s\n",
            "[CV 5/5] END C=100, degree=4, gamma=0.001, kernel=poly;, score=0.835 total time=   4.9s\n",
            "[CV 1/5] END C=100, degree=4, gamma=0.0001, kernel=rbf;, score=0.859 total time=   3.6s\n",
            "[CV 2/5] END C=100, degree=4, gamma=0.0001, kernel=rbf;, score=0.844 total time=   3.6s\n",
            "[CV 3/5] END C=100, degree=4, gamma=0.0001, kernel=rbf;, score=0.831 total time=   3.5s\n",
            "[CV 4/5] END C=100, degree=4, gamma=0.0001, kernel=rbf;, score=0.851 total time=   3.6s\n",
            "[CV 5/5] END C=100, degree=4, gamma=0.0001, kernel=rbf;, score=0.860 total time=   3.6s\n",
            "[CV 1/5] END C=100, degree=4, gamma=0.0001, kernel=poly;, score=0.238 total time=  14.5s\n",
            "[CV 2/5] END C=100, degree=4, gamma=0.0001, kernel=poly;, score=0.236 total time=  14.8s\n",
            "[CV 3/5] END C=100, degree=4, gamma=0.0001, kernel=poly;, score=0.239 total time=  14.5s\n",
            "[CV 4/5] END C=100, degree=4, gamma=0.0001, kernel=poly;, score=0.291 total time=  14.6s\n",
            "[CV 5/5] END C=100, degree=4, gamma=0.0001, kernel=poly;, score=0.230 total time=  14.5s\n"
          ]
        },
        {
          "output_type": "execute_result",
          "data": {
            "text/plain": [
              "GridSearchCV(estimator=SVC(),\n",
              "             param_grid={'C': [0.01, 0.1, 1, 10, 100], 'degree': [2, 3, 4],\n",
              "                         'gamma': [1, 0.1, 0.01, 0.001, 0.0001],\n",
              "                         'kernel': ['rbf', 'poly']},\n",
              "             verbose=3)"
            ]
          },
          "metadata": {},
          "execution_count": 28
        },
        {
          "output_type": "stream",
          "name": "stdout",
          "text": [
            "time: 2h 16min 30s (started: 2021-12-12 14:59:47 +00:00)\n"
          ]
        }
      ]
    },
    {
      "cell_type": "code",
      "source": [
        "# print best parameter after tuning\n",
        "print(svm.best_params_)\n",
        " \n",
        "# print how our model looks after hyper-parameter tuning\n",
        "print(svm.best_estimator_)"
      ],
      "metadata": {
        "colab": {
          "base_uri": "https://localhost:8080/"
        },
        "id": "vcbhtnxbuuY1",
        "outputId": "4c25ed09-5b05-4ad8-c490-0a0598194d5e"
      },
      "execution_count": null,
      "outputs": [
        {
          "output_type": "stream",
          "name": "stdout",
          "text": [
            "{'C': 0.1, 'degree': 2, 'gamma': 0.01, 'kernel': 'poly'}\n",
            "SVC(C=0.1, degree=2, gamma=0.01, kernel='poly')\n",
            "time: 4.55 ms (started: 2021-12-12 17:40:56 +00:00)\n"
          ]
        }
      ]
    },
    {
      "cell_type": "code",
      "source": [
        "svm.best_score_"
      ],
      "metadata": {
        "colab": {
          "base_uri": "https://localhost:8080/"
        },
        "id": "5xzhVuLyvjfB",
        "outputId": "43eb8747-83f8-442f-bdc9-929d78c7aeca"
      },
      "execution_count": null,
      "outputs": [
        {
          "output_type": "execute_result",
          "data": {
            "text/plain": [
              "0.8625714285714284"
            ]
          },
          "metadata": {},
          "execution_count": 32
        },
        {
          "output_type": "stream",
          "name": "stdout",
          "text": [
            "time: 5.68 ms (started: 2021-12-12 17:43:59 +00:00)\n"
          ]
        }
      ]
    },
    {
      "cell_type": "code",
      "source": [
        "svm.refit_time_"
      ],
      "metadata": {
        "colab": {
          "base_uri": "https://localhost:8080/"
        },
        "id": "ajuRY1aqwFpj",
        "outputId": "d013441d-704b-4b94-d8b1-f58ff7f46735"
      },
      "execution_count": null,
      "outputs": [
        {
          "output_type": "execute_result",
          "data": {
            "text/plain": [
              "3.9599649906158447"
            ]
          },
          "metadata": {},
          "execution_count": 33
        },
        {
          "output_type": "stream",
          "name": "stdout",
          "text": [
            "time: 3.72 ms (started: 2021-12-12 17:46:03 +00:00)\n"
          ]
        }
      ]
    },
    {
      "cell_type": "markdown",
      "source": [
        "# Inspecting the Output of the Grid Search 5-fold Cross Validation \n",
        "\n",
        "In the output of the cell above we can see that the best performance was achieved with the following parameters: \n",
        "\n",
        "The best performing kernel was XXX\n",
        "\n",
        "* C of 0.001\n",
        "* $\\gamma$ of 0.0001\n",
        "\n",
        "\n",
        "\n",
        "# Predicting Labels of Testing set with the Model that had the Best Parameters:"
      ],
      "metadata": {
        "id": "_vpn6yrBKmIn"
      }
    },
    {
      "cell_type": "code",
      "source": [
        "# X_train_all, X_test_all, y_train_all, y_test_all\n",
        "svm_predict = svm.predict(X_test_pca)\n",
        "\n",
        "print(metrics.classification_report(y_test_all, svm_predict))\n",
        "accuracy = metrics.accuracy_score(y_test_all, svm_predict)\n",
        "average_accuracy = np.mean(y_test_all == svm_predict) * 100\n",
        "print(\"The average_accuracy is {0:.1f}%\".format(average_accuracy))"
      ],
      "metadata": {
        "id": "I0yVNkI3_Zv_",
        "colab": {
          "base_uri": "https://localhost:8080/"
        },
        "outputId": "71758553-c49a-4702-f470-04ba7d2bc6f2"
      },
      "execution_count": null,
      "outputs": [
        {
          "output_type": "stream",
          "name": "stdout",
          "text": [
            "              precision    recall  f1-score   support\n",
            "\n",
            "           0       0.65      0.67      0.66      6300\n",
            "           1       0.58      0.65      0.61      6300\n",
            "           2       0.27      0.27      0.27      6300\n",
            "           3       0.48      0.54      0.51      6300\n",
            "           4       0.41      0.25      0.31      6300\n",
            "           5       0.38      0.35      0.36      6300\n",
            "           6       0.25      0.31      0.27      6300\n",
            "           7       0.61      0.74      0.66      6300\n",
            "           8       0.80      0.75      0.78      6300\n",
            "           9       0.17      0.13      0.15      6300\n",
            "\n",
            "    accuracy                           0.47     63000\n",
            "   macro avg       0.46      0.47      0.46     63000\n",
            "weighted avg       0.46      0.47      0.46     63000\n",
            "\n",
            "The average_accuracy is 46.6%\n",
            "time: 54.1 s (started: 2021-12-12 17:31:27 +00:00)\n"
          ]
        }
      ]
    },
    {
      "cell_type": "code",
      "source": [
        "# SVM report and analysis\n",
        "x_pred_svc_pca = svm.predict(X_train_pca)\n",
        "svc_pca_f1 = metrics.f1_score(y_train_all, x_pred_svc_pca, average= \"weighted\")\n",
        "svc_pca_accuracy = metrics.accuracy_score(y_train_all, x_pred_svc_pca)\n",
        "svc_pca_cm = metrics.confusion_matrix(y_train_all, x_pred_svc_pca)\n",
        "print(\"-----------------SVM Report---------------\")\n",
        "print(\"F1 score: {}\".format(svc_pca_f1))\n",
        "print(\"Accuracy score: {}\".format(svc_pca_accuracy))\n",
        "print(\"Confusion matrix: \\n\", svc_pca_cm)\n",
        "print('Plotting confusion matrix')\n",
        "\n",
        "plt.figure()\n",
        "plot_confusion_matrix(svc_pca_cm, labelNames)\n",
        "plt.show()\n",
        "\n",
        "print(metrics.classification_report(y_train_all, x_pred_svc_pca))"
      ],
      "metadata": {
        "colab": {
          "base_uri": "https://localhost:8080/",
          "height": 564
        },
        "id": "RQgb9IsVuj4I",
        "outputId": "83ab08de-3074-4fb5-a10d-515f39bc40a3"
      },
      "execution_count": null,
      "outputs": [
        {
          "output_type": "stream",
          "name": "stdout",
          "text": [
            "-----------------SVM Report---------------\n",
            "F1 score: 0.9653750149681656\n",
            "Accuracy score: 0.9654285714285714\n",
            "Confusion matrix: \n",
            " [[676   0   3  12   0   0   9   0   0   0]\n",
            " [  0 690   0   7   1   0   2   0   0   0]\n",
            " [  5   0 658   7  21   0   9   0   0   0]\n",
            " [  4   0   1 681   9   0   5   0   0   0]\n",
            " [  0   0  19   9 655   0  17   0   0   0]\n",
            " [  0   0   0   0   0 696   0   4   0   0]\n",
            " [ 27   0  19  11  22   0 621   0   0   0]\n",
            " [  0   0   0   0   0   3   0 696   0   1]\n",
            " [  0   0   0   4   0   0   0   0 696   0]\n",
            " [  0   0   0   0   0   0   0  11   0 689]]\n",
            "Plotting confusion matrix\n"
          ]
        },
        {
          "output_type": "error",
          "ename": "NameError",
          "evalue": "ignored",
          "traceback": [
            "\u001b[0;31m---------------------------------------------------------------------------\u001b[0m",
            "\u001b[0;31mNameError\u001b[0m                                 Traceback (most recent call last)",
            "\u001b[0;32m<ipython-input-39-fe07b483b89a>\u001b[0m in \u001b[0;36m<module>\u001b[0;34m()\u001b[0m\n\u001b[1;32m     11\u001b[0m \u001b[0;34m\u001b[0m\u001b[0m\n\u001b[1;32m     12\u001b[0m \u001b[0mplt\u001b[0m\u001b[0;34m.\u001b[0m\u001b[0mfigure\u001b[0m\u001b[0;34m(\u001b[0m\u001b[0;34m)\u001b[0m\u001b[0;34m\u001b[0m\u001b[0;34m\u001b[0m\u001b[0m\n\u001b[0;32m---> 13\u001b[0;31m \u001b[0mplot_confusion_matrix\u001b[0m\u001b[0;34m(\u001b[0m\u001b[0msvc_pca_cm\u001b[0m\u001b[0;34m,\u001b[0m \u001b[0mlabelNames\u001b[0m\u001b[0;34m)\u001b[0m\u001b[0;34m\u001b[0m\u001b[0;34m\u001b[0m\u001b[0m\n\u001b[0m\u001b[1;32m     14\u001b[0m \u001b[0mplt\u001b[0m\u001b[0;34m.\u001b[0m\u001b[0mshow\u001b[0m\u001b[0;34m(\u001b[0m\u001b[0;34m)\u001b[0m\u001b[0;34m\u001b[0m\u001b[0;34m\u001b[0m\u001b[0m\n\u001b[1;32m     15\u001b[0m \u001b[0;34m\u001b[0m\u001b[0m\n",
            "\u001b[0;31mNameError\u001b[0m: name 'plot_confusion_matrix' is not defined"
          ]
        },
        {
          "output_type": "display_data",
          "data": {
            "text/plain": [
              "<Figure size 432x288 with 0 Axes>"
            ]
          },
          "metadata": {}
        },
        {
          "output_type": "stream",
          "name": "stdout",
          "text": [
            "time: 5.58 s (started: 2021-12-12 18:35:55 +00:00)\n"
          ]
        }
      ]
    },
    {
      "cell_type": "code",
      "source": [
        ""
      ],
      "metadata": {
        "id": "b_WvQXaiFKMr"
      },
      "execution_count": null,
      "outputs": []
    },
    {
      "cell_type": "code",
      "source": [
        "# SVM report and analysis\n",
        "y_pred_svc = svc.predict(x_test)\n",
        "svc_f1 = metrics.f1_score(y_test, y_pred_svc, average= \"weighted\")\n",
        "svc_accuracy = metrics.accuracy_score(y_test, y_pred_svc)\n",
        "svc_cm = metrics.confusion_matrix(y_test, y_pred_svc)\n",
        "print(\"-----------------SVM Report---------------\")\n",
        "print(\"F1 score: {}\".format(svc_f1))\n",
        "print(\"Accuracy score: {}\".format(svc_accuracy))\n",
        "print(\"Confusion matrix: \\n\", svc_cm)\n",
        "print('Plotting confusion matrix')\n",
        "\n",
        "plt.figure()\n",
        "plot_confusion_matrix(svc_cm, labelNames)\n",
        "plt.show()\n",
        "\n",
        "print(metrics.classification_report(y_test, y_pred_svc))"
      ],
      "metadata": {
        "id": "k7yiUKOqr9HW"
      },
      "execution_count": null,
      "outputs": []
    }
  ],
  "metadata": {
    "colab": {
      "collapsed_sections": [
        "a51e_G8o4HaJ",
        "7E_osaJoHW2E",
        "vsQI8opbOi1V",
        "rxiACiiLRaWJ",
        "paYUFO45X-c0"
      ],
      "name": "Englander_AML_1_and_2.ipynb",
      "provenance": [],
      "include_colab_link": true
    },
    "interpreter": {
      "hash": "aee8b7b246df8f9039afb4144a1f6fd8d2ca17a180786b69acc140d282b71a49"
    },
    "kernelspec": {
      "display_name": "Python 3.9.1 64-bit",
      "name": "python3"
    },
    "language_info": {
      "codemirror_mode": {
        "name": "ipython",
        "version": 3
      },
      "file_extension": ".py",
      "mimetype": "text/x-python",
      "name": "python",
      "nbconvert_exporter": "python",
      "pygments_lexer": "ipython3",
      "version": "3.9.1"
    },
    "accelerator": "TPU"
  },
  "nbformat": 4,
  "nbformat_minor": 0
}