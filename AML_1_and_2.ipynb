{
  "cells": [
    {
      "cell_type": "markdown",
      "metadata": {
        "id": "view-in-github",
        "colab_type": "text"
      },
      "source": [
        "<a href=\"https://colab.research.google.com/github/ilante/AML_91934_exam/blob/main/AML_1_and_2.ipynb\" target=\"_parent\"><img src=\"https://colab.research.google.com/assets/colab-badge.svg\" alt=\"Open In Colab\"/></a>"
      ]
    },
    {
      "cell_type": "markdown",
      "metadata": {
        "id": "JOa1ja7JAUzW"
      },
      "source": [
        "# My First Machine Learning Project\n",
        "\n",
        "## Fashion-MNIST \n",
        "\n",
        "### International Master of Bioinformatics, University of Bologna\n",
        "\n",
        "#### Immanuela Antigone Engländer\n",
        "\n",
        "## 1. Aim of this Project\n",
        "\n",
        "The goal of this project is to apply several Machine Learning approaches for the clasiffication of 10 different labels\n",
        "\n",
        "First, a *Exploratory Data Analysis* will be performed to summarize the main features of the dataset. Then, after processing the data, different Machine Learning (ML) methods will be compared in terms of accuracy score. The ML methods developed are:\n",
        "\n",
        "1. Artificial Neural Network (ANN)\n",
        "2. k-nearest neighbors (k-NN)\n",
        "3. Support Vector Machine (SVM)\n",
        "4. Decision Tree (DT)\n",
        "5. Random Forest (RF)\n",
        "6. Convolutional Neural Network (CNN)\n",
        "\n",
        "In particular, for each Machine Learning method two procedures are used for training and testing:\n",
        "\n",
        "1. train-test split;\n",
        "2. 5-fold cross-validation.\n",
        "\n",
        "The highest accuracy for both procedures is computed optimizing the values of some parameters such as seed (`random_state`) and number of folds (`5_splits`). Different statistical measures are computed for the best model obtained:\n",
        "\n",
        "- The **F1 score** can be interpreted as a harmonic mean of the precision and recall, where an F1 score reaches its best value at 1 and worst score at 0. The relative contribution of precision and recall to the F1 score are equal. The formula for the F1 score is:\n",
        "\n",
        "F1 = 2 * (precision * recall) / (precision + recall)\n",
        "In the multi-class and multi-label case, this is the average of the F1 score of each class with weighting depending on the average parameter.\n",
        "\n",
        "- **accuracy** is the proportion of correct predictions (both true positives and true negatives) among the total number of cases examined\n",
        "\n",
        "  $ACC = \\frac{TP + TN}{TP + TN + FP + FN}$\n",
        "\n",
        "- **recall** (also known as true positive rate or sensitivity) is the proportion of positives that are correctly identified;\n",
        "\n",
        "  $TPR = \\frac{TP}{TP + FN}$ \n",
        "\n",
        "- **precision** (also known as positive predicted value) is the fraction of correct positive prediction over the total of positive predictions;\n",
        "\n",
        "  $PPV = \\frac{TP}{TP + FP}$\n",
        "\n",
        "\n",
        "- **confusion matrix**: is a specific table storing the number of true positives (TP), true negative (TN), false positive (FP) and false negative (FN) that have been predicted by a supervised ML method\n",
        "\n",
        "\n",
        "The best method is selected according to the highest mean accuracy score between train-test split and *k*-fold cross-validation. At the end, Ensamble methods are developed to study if the final accuracy reached by single ML apporaches can be improved."
      ]
    },
    {
      "cell_type": "code",
      "execution_count": null,
      "metadata": {
        "id": "Drm-6agMsJ5t"
      },
      "outputs": [],
      "source": [
        "# - **ROC curve** is created by plotting the true positive rate (TPR) against the false positive rate (FPR) at various threshold settings. The **Area Under the Curve** (AUC) is then computed. "
      ]
    },
    {
      "cell_type": "markdown",
      "metadata": {
        "id": "B_Cy8ytG4HaD"
      },
      "source": [
        "# 1.1 Background of the Data Set\n",
        "\n",
        "The dataset is taken from Zalando's article images with a considerable size of 60 000 samples and a test set of 10 000 samples. Each sample is a 28x28 grayscale image, associated with a label from 10 classes. The Fashion-MNIST serves as a variant of original MNIST dataset for benchmarking machine learning algorithms. It shares the same image size and structure of training and testing splits.\n",
        "\n",
        "I choose it to be sure that I don't have the same project as my fellow students.\n",
        "\n",
        "Here an example of how the data looks like\n",
        "\n",
        "![](https://raw.githubusercontent.com/ilante/AML_91934_exam/main/fashion-mnist-example-img.png)"
      ]
    },
    {
      "cell_type": "markdown",
      "metadata": {
        "id": "3jP0JLooRSSu"
      },
      "source": [
        "The authors of Fashion-MNIST argue that it may replace the original MNIST. So far the original has been used as a benchmark. But they argue that the original may be to simple. Reasons to choose Fashion-MNIST over the original are:\n",
        "\n",
        "* **MNIST is too easy**. Convolutional nets can achieve 99.7% on MNIST. Classic machine learning algorithms can also achieve 97% easily. Check out our side-by-side benchmark for Fashion-MNIST vs. MNIST, and read \"Most pairs of MNIST digits can be distinguished pretty well by just one pixel.\"\n",
        "\n",
        "* **MNIST is overused.** In [this April 2017 Twitter thread](https://twitter.com/goodfellow_ian/status/852591106655043584), Google Brain research scientist and deep learning expert Ian Goodfellow calls for people to move away from MNIST.\n",
        "* **MNIST can not represent modern CV tasks**, as noted in [this April 2017 Twitter thread](https://twitter.com/fchollet/status/852594987527045120), deep learning expert/Keras author François Chollet.\n",
        "\n",
        "\n",
        "## Reference of Fashion-MNIST:\n",
        "\n",
        "https://arxiv.org/abs/1708.07747 \n",
        "\n",
        "Here the abstract;\n",
        "\n",
        "![](https://raw.githubusercontent.com/ilante/AML_91934_exam/main/citation.png)"
      ]
    },
    {
      "cell_type": "markdown",
      "metadata": {
        "id": "4kBQpD_tT5vC"
      },
      "source": [
        "# 2. Importing the Required Libraries"
      ]
    },
    {
      "cell_type": "code",
      "execution_count": null,
      "metadata": {
        "id": "s-Z5VL-VPvhw"
      },
      "outputs": [],
      "source": [
        "# to disconnect the runtime\n",
        "# that way I can reconnect before going to bed and train a model on the full\n",
        "# 12hrs they allocate per session\n",
        "\n",
        "!kill -9 -1"
      ]
    },
    {
      "cell_type": "code",
      "execution_count": 1,
      "metadata": {
        "colab": {
          "base_uri": "https://localhost:8080/"
        },
        "id": "rm0l9kn64HaJ",
        "outputId": "491c5f70-7488-4f48-8a2c-3c90c6c36aa8"
      },
      "outputs": [
        {
          "output_type": "stream",
          "name": "stdout",
          "text": [
            "Collecting ipython-autotime\n",
            "  Downloading ipython_autotime-0.3.1-py2.py3-none-any.whl (6.8 kB)\n",
            "Requirement already satisfied: ipython in /usr/local/lib/python3.7/dist-packages (from ipython-autotime) (5.5.0)\n",
            "Requirement already satisfied: simplegeneric>0.8 in /usr/local/lib/python3.7/dist-packages (from ipython->ipython-autotime) (0.8.1)\n",
            "Requirement already satisfied: pygments in /usr/local/lib/python3.7/dist-packages (from ipython->ipython-autotime) (2.6.1)\n",
            "Requirement already satisfied: prompt-toolkit<2.0.0,>=1.0.4 in /usr/local/lib/python3.7/dist-packages (from ipython->ipython-autotime) (1.0.18)\n",
            "Requirement already satisfied: pexpect in /usr/local/lib/python3.7/dist-packages (from ipython->ipython-autotime) (4.8.0)\n",
            "Requirement already satisfied: decorator in /usr/local/lib/python3.7/dist-packages (from ipython->ipython-autotime) (4.4.2)\n",
            "Requirement already satisfied: setuptools>=18.5 in /usr/local/lib/python3.7/dist-packages (from ipython->ipython-autotime) (57.4.0)\n",
            "Requirement already satisfied: traitlets>=4.2 in /usr/local/lib/python3.7/dist-packages (from ipython->ipython-autotime) (5.1.1)\n",
            "Requirement already satisfied: pickleshare in /usr/local/lib/python3.7/dist-packages (from ipython->ipython-autotime) (0.7.5)\n",
            "Requirement already satisfied: wcwidth in /usr/local/lib/python3.7/dist-packages (from prompt-toolkit<2.0.0,>=1.0.4->ipython->ipython-autotime) (0.2.5)\n",
            "Requirement already satisfied: six>=1.9.0 in /usr/local/lib/python3.7/dist-packages (from prompt-toolkit<2.0.0,>=1.0.4->ipython->ipython-autotime) (1.15.0)\n",
            "Requirement already satisfied: ptyprocess>=0.5 in /usr/local/lib/python3.7/dist-packages (from pexpect->ipython->ipython-autotime) (0.7.0)\n",
            "Installing collected packages: ipython-autotime\n",
            "Successfully installed ipython-autotime-0.3.1\n",
            "time: 2.81 ms (started: 2021-12-12 14:16:14 +00:00)\n"
          ]
        }
      ],
      "source": [
        "# # !pip install -q colabcode\n",
        "# # from colabcode import ColabCode\n",
        "\n",
        "# # Loading module to monitor time:\n",
        "!pip install ipython-autotime\n",
        "%load_ext autotime\n",
        "\n",
        "# to measure execution time\n",
        "import time"
      ]
    },
    {
      "cell_type": "markdown",
      "metadata": {
        "id": "rqu8VV4wUz3j"
      },
      "source": [
        "Libraries:"
      ]
    },
    {
      "cell_type": "code",
      "execution_count": 7,
      "metadata": {
        "colab": {
          "base_uri": "https://localhost:8080/"
        },
        "id": "b9j6gG5pTgEm",
        "outputId": "902dd472-e6cb-402d-fe23-74c92a23674a"
      },
      "outputs": [
        {
          "output_type": "stream",
          "name": "stdout",
          "text": [
            "time: 16.2 ms (started: 2021-12-12 14:39:26 +00:00)\n"
          ]
        }
      ],
      "source": [
        "import numpy as np\n",
        "import pandas as pd\n",
        "import matplotlib.pyplot as plt\n",
        "import seaborn as sns\n",
        "# sns.set() # loading seaborns default theme\n",
        "\n",
        "# TensorFlow and tf.keras\n",
        "import tensorflow as tf\n",
        "from tensorflow import keras\n",
        "import sklearn\n",
        "\n",
        "# PCA\n",
        "from sklearn.decomposition import PCA\n",
        "# SVM\n",
        "from sklearn.svm import SVC\n",
        "from sklearn import metrics\n",
        "# Grid search for SVM: maybe make smaller test runs for gridsearch???\n",
        "from sklearn.model_selection import GridSearchCV\n",
        "from sklearn.model_selection import train_test_split \n",
        "# confusion matrix\n",
        "from sklearn.metrics import classification_report, confusion_matrix\n",
        "# KNN\n",
        "from sklearn.neighbors import KNeighborsClassifier\n",
        "# DT\n",
        "from sklearn.tree import DecisionTreeClassifier\n",
        "# RF\n",
        "from sklearn.ensemble import RandomForestClassifier"
      ]
    },
    {
      "cell_type": "markdown",
      "metadata": {
        "id": "fFLEOE4YVEs_"
      },
      "source": [
        "We import the Fashion-MNIST set from keras in an already vectorized numpy format:"
      ]
    },
    {
      "cell_type": "code",
      "execution_count": 3,
      "metadata": {
        "colab": {
          "base_uri": "https://localhost:8080/"
        },
        "id": "FWOEbvRrWBRf",
        "outputId": "ec641cbb-8073-4d05-9fa0-4dfcbc9a2fd1"
      },
      "outputs": [
        {
          "output_type": "stream",
          "name": "stdout",
          "text": [
            "Downloading data from https://storage.googleapis.com/tensorflow/tf-keras-datasets/train-labels-idx1-ubyte.gz\n",
            "32768/29515 [=================================] - 0s 0us/step\n",
            "40960/29515 [=========================================] - 0s 0us/step\n",
            "Downloading data from https://storage.googleapis.com/tensorflow/tf-keras-datasets/train-images-idx3-ubyte.gz\n",
            "26427392/26421880 [==============================] - 0s 0us/step\n",
            "26435584/26421880 [==============================] - 0s 0us/step\n",
            "Downloading data from https://storage.googleapis.com/tensorflow/tf-keras-datasets/t10k-labels-idx1-ubyte.gz\n",
            "16384/5148 [===============================================================================================] - 0s 0us/step\n",
            "Downloading data from https://storage.googleapis.com/tensorflow/tf-keras-datasets/t10k-images-idx3-ubyte.gz\n",
            "4423680/4422102 [==============================] - 0s 0us/step\n",
            "4431872/4422102 [==============================] - 0s 0us/step\n",
            "time: 1.14 s (started: 2021-12-12 14:16:20 +00:00)\n"
          ]
        }
      ],
      "source": [
        "f_mnist = keras.datasets.fashion_mnist\n",
        "\n",
        "\n",
        "(train_images, train_labels), (test_images, test_labels) = f_mnist.load_data()\n",
        "class_names = ['T-shirt/top', 'Trouser', 'Pullover', 'Dress', 'Coat',\n",
        "               'Sandal', 'Shirt', 'Sneaker', 'Bag', 'Ankle boot']\n",
        "\n",
        "\n",
        "# REMEMBER TO run cell that changes the range from [0, 255] to [0, 1] \n",
        "# when rerunning"
      ]
    },
    {
      "cell_type": "code",
      "source": [
        "train_images.shape"
      ],
      "metadata": {
        "colab": {
          "base_uri": "https://localhost:8080/"
        },
        "id": "Ggbo_R5UH8BW",
        "outputId": "c16f381a-873c-49a0-f36c-ebff4f7525d1"
      },
      "execution_count": null,
      "outputs": [
        {
          "output_type": "execute_result",
          "data": {
            "text/plain": [
              "(60000, 28, 28)"
            ]
          },
          "metadata": {},
          "execution_count": 4
        },
        {
          "output_type": "stream",
          "name": "stdout",
          "text": [
            "time: 4.32 ms (started: 2021-12-11 20:12:12 +00:00)\n"
          ]
        }
      ]
    },
    {
      "cell_type": "code",
      "execution_count": null,
      "metadata": {
        "colab": {
          "base_uri": "https://localhost:8080/"
        },
        "id": "bM3bqRizCf1k",
        "outputId": "fdedbc8b-7c20-48c3-c98b-81e58d718412"
      },
      "outputs": [
        {
          "output_type": "stream",
          "name": "stdout",
          "text": [
            "<class 'numpy.ndarray'>\n",
            "<class 'numpy.ndarray'>\n",
            "time: 2.87 ms (started: 2021-12-11 19:31:49 +00:00)\n"
          ]
        }
      ],
      "source": [
        "print(type(train_images))\n",
        "print(type(train_labels))"
      ]
    },
    {
      "cell_type": "code",
      "execution_count": null,
      "metadata": {
        "colab": {
          "base_uri": "https://localhost:8080/"
        },
        "id": "oknPYRxoHMhs",
        "outputId": "dffe7afb-9028-44f0-a60b-c6d76eb2187f"
      },
      "outputs": [
        {
          "output_type": "stream",
          "name": "stdout",
          "text": [
            "<class 'list'>\n",
            "<class 'list'>\n",
            "time: 7.1 ms (started: 2021-12-11 19:31:53 +00:00)\n"
          ]
        }
      ],
      "source": [
        "copy_train_labels = train_labels\n",
        "train_labels_list = copy_train_labels.tolist()\n",
        "print(type(train_labels_list))\n",
        "\n",
        "copy_test_labels = test_labels\n",
        "test_labels_list = copy_test_labels.tolist()\n",
        "print(type(test_labels_list))"
      ]
    },
    {
      "cell_type": "code",
      "execution_count": null,
      "metadata": {
        "colab": {
          "base_uri": "https://localhost:8080/"
        },
        "id": "7HCYa0aKHvGV",
        "outputId": "768d5569-1fee-46d3-8cd1-d288971ca5a3"
      },
      "outputs": [
        {
          "name": "stdout",
          "output_type": "stream",
          "text": [
            "class 0   6000\n",
            "class 1   6000\n",
            "class 2   6000\n",
            "class 3   6000\n",
            "class 4   6000\n",
            "class 5   6000\n",
            "class 6   6000\n",
            "class 7   6000\n",
            "class 8   6000\n",
            "class 9   6000\n"
          ]
        }
      ],
      "source": [
        "# distribution of labels in training set\n",
        "for i in range(10):\n",
        "  print('class', i , ' ', train_labels_list.count(i))"
      ]
    },
    {
      "cell_type": "code",
      "execution_count": null,
      "metadata": {
        "colab": {
          "base_uri": "https://localhost:8080/"
        },
        "id": "5ixt4x06L10Z",
        "outputId": "79bd353a-7841-4c0e-daa3-6fe150dfc16c"
      },
      "outputs": [
        {
          "name": "stdout",
          "output_type": "stream",
          "text": [
            "class 0   1000\n",
            "class 1   1000\n",
            "class 2   1000\n",
            "class 3   1000\n",
            "class 4   1000\n",
            "class 5   1000\n",
            "class 6   1000\n",
            "class 7   1000\n",
            "class 8   1000\n",
            "class 9   1000\n"
          ]
        }
      ],
      "source": [
        "# distribution of labels in testing set\n",
        "for i in range(10):\n",
        "  print('class', i , ' ', test_labels_list.count(i))"
      ]
    },
    {
      "cell_type": "markdown",
      "metadata": {
        "id": "q-w_NTWj3pax"
      },
      "source": [
        "The images inside f_minst are black and white and you get a value between 0 and 255. Where black is 0."
      ]
    },
    {
      "cell_type": "code",
      "source": [
        ""
      ],
      "metadata": {
        "id": "88uYb47p_MCD"
      },
      "execution_count": null,
      "outputs": []
    },
    {
      "cell_type": "code",
      "execution_count": null,
      "metadata": {
        "colab": {
          "base_uri": "https://localhost:8080/"
        },
        "id": "HFhDBMLYplNR",
        "outputId": "c2517ca0-e9f4-49a6-82bc-e7d979e33aa8"
      },
      "outputs": [
        {
          "name": "stdout",
          "output_type": "stream",
          "text": [
            "0.  T-shirt/top\n",
            "1.  Trouser\n",
            "2.  Pullover\n",
            "3.  Dress\n",
            "4.  Coat\n",
            "5.  Sandal\n",
            "6.  Shirt\n",
            "7.  Sneaker\n",
            "8.  Bag\n",
            "9.  Ankle boot\n",
            "time: 1.69 ms (started: 2021-12-07 14:01:53 +00:00)\n"
          ]
        }
      ],
      "source": [
        "for i in range(len(class_names)):\n",
        "  print(str(i)+'. ', class_names[i])"
      ]
    },
    {
      "cell_type": "markdown",
      "metadata": {
        "id": "vvnr6MkzpV6j"
      },
      "source": [
        "The data set contains 10 different classes: \n",
        "\n",
        "1.  T-shirt/top\n",
        "1.  Trouser\n",
        "2.  Pullover\n",
        "3.  Dress\n",
        "4.  Coat\n",
        "5.  Sandal\n",
        "6.  Shirt\n",
        "7.  Sneaker\n",
        "8.  Bag\n",
        "9.  Ankle boot\n",
        "\n"
      ]
    },
    {
      "cell_type": "markdown",
      "metadata": {
        "id": "lQlO9zt2a4sr"
      },
      "source": [
        "# 2.1 Exploring the Data"
      ]
    },
    {
      "cell_type": "markdown",
      "metadata": {
        "id": "GIq7wMFcWhde"
      },
      "source": [
        "Lets see how many samples we got;"
      ]
    },
    {
      "cell_type": "code",
      "execution_count": null,
      "metadata": {
        "colab": {
          "base_uri": "https://localhost:8080/"
        },
        "id": "x5OUEGK4WXHp",
        "outputId": "0151fce5-fe54-4815-cee1-68b4f92a31d9"
      },
      "outputs": [
        {
          "name": "stdout",
          "output_type": "stream",
          "text": [
            "train_images:  (60000, 28, 28)\n",
            "n of train_labels:  60000\n",
            "\n",
            "\n",
            "test_images:  (10000, 28, 28)\n",
            "n labels in test_images:  10000\n",
            "time: 2.55 ms (started: 2021-12-07 14:01:53 +00:00)\n"
          ]
        }
      ],
      "source": [
        "# inspect train_images\n",
        "print('train_images: ', train_images.shape)\n",
        "# n of labels:\n",
        "print('n of train_labels: ', len(train_labels))\n",
        "print('\\n')\n",
        "# inspect test_images\n",
        "print('test_images: ', test_images.shape)\n",
        "# n of labels in test set\n",
        "print('n labels in test_images: ', len(test_labels))"
      ]
    },
    {
      "cell_type": "markdown",
      "metadata": {
        "id": "OKsOSAyuqQx0"
      },
      "source": [
        "# 2.2 Preprocessing and Reshaping the Data\n",
        "\n",
        "By inspecting an original image we can see that it is scaled in the range [0, 255] but we prefer to have a scaling from [0, 1] &rarr; thus we have to divide each pixel value by **255**.\n",
        "\n",
        "Below an image of a pullover item 707 from the training set.\n",
        "\n"
      ]
    },
    {
      "cell_type": "code",
      "execution_count": null,
      "metadata": {
        "colab": {
          "base_uri": "https://localhost:8080/",
          "height": 286
        },
        "id": "5fNnMrGqtrEO",
        "outputId": "718a7e42-005c-45e8-c342-0124b7f3fdfd"
      },
      "outputs": [
        {
          "data": {
            "image/png": "[encoded data removed]",
            "text/plain": [
              "<Figure size 432x288 with 2 Axes>"
            ]
          },
          "metadata": {},
          "output_type": "display_data"
        },
        {
          "name": "stdout",
          "output_type": "stream",
          "text": [
            "time: 364 ms (started: 2021-12-07 14:01:53 +00:00)\n"
          ]
        }
      ],
      "source": [
        "plt.figure()\n",
        "plt.imshow(train_images[707])\n",
        "plt.colorbar()\n",
        "plt.grid(False)"
      ]
    },
    {
      "cell_type": "markdown",
      "metadata": {
        "id": "2U3Iwl4IMb34"
      },
      "source": [
        "# !!!!!! Normalizing the data run everytime you restart!!!\n",
        "\n",
        "We convert **both** training AND testing set to scale from [0, 1]:"
      ]
    },
    {
      "cell_type": "code",
      "execution_count": 4,
      "metadata": {
        "colab": {
          "base_uri": "https://localhost:8080/"
        },
        "id": "ritAT69Dt7Ks",
        "outputId": "dbb724ff-3ef6-4d8f-d42f-fbbb18badd5c"
      },
      "outputs": [
        {
          "output_type": "stream",
          "name": "stdout",
          "text": [
            "time: 198 ms (started: 2021-12-12 14:17:26 +00:00)\n"
          ]
        }
      ],
      "source": [
        "train_images = train_images/255.0\n",
        "test_images = test_images/255.0"
      ]
    },
    {
      "cell_type": "markdown",
      "metadata": {
        "id": "nNevj32YXwhN"
      },
      "source": [
        "# 2.3 Example images from both training - and testing set:\n",
        "\n",
        "Here  9 examples from the training set:\n"
      ]
    },
    {
      "cell_type": "code",
      "execution_count": null,
      "metadata": {
        "colab": {
          "base_uri": "https://localhost:8080/",
          "height": 392
        },
        "id": "E64vTxHcYNPD",
        "outputId": "dfe582bc-f845-458c-a5a1-a70bae36a46a"
      },
      "outputs": [
        {
          "data": {
            "image/png": "[encoded data removed]",
            "text/plain": [
              "<Figure size 432x432 with 9 Axes>"
            ]
          },
          "metadata": {},
          "output_type": "display_data"
        },
        {
          "name": "stdout",
          "output_type": "stream",
          "text": [
            "time: 368 ms (started: 2021-12-07 14:01:54 +00:00)\n"
          ]
        }
      ],
      "source": [
        "plt.figure(figsize=(6,6))\n",
        "for i in range(9):\n",
        "  plt.subplot(3,3,i+1)\n",
        "  plt.xticks([])\n",
        "  plt.yticks([])\n",
        "  plt.grid(False)\n",
        "  plt.imshow(train_images[i], cmap=plt.cm.binary)\n",
        "  plt.xlabel(class_names[train_labels[i]])\n",
        "plt.show()"
      ]
    },
    {
      "cell_type": "markdown",
      "metadata": {
        "id": "TEhQQEL5ZtG_"
      },
      "source": [
        "Here nine sample images of the testing set:"
      ]
    },
    {
      "cell_type": "code",
      "execution_count": null,
      "metadata": {
        "colab": {
          "base_uri": "https://localhost:8080/",
          "height": 392
        },
        "id": "jtW0PvfZZcGh",
        "outputId": "a97f661a-331c-4f7e-c555-4c1f5851f25f"
      },
      "outputs": [
        {
          "data": {
            "image/png": "[encoded data removed]",
            "text/plain": [
              "<Figure size 432x432 with 9 Axes>"
            ]
          },
          "metadata": {},
          "output_type": "display_data"
        },
        {
          "name": "stdout",
          "output_type": "stream",
          "text": [
            "time: 335 ms (started: 2021-12-07 14:01:54 +00:00)\n"
          ]
        }
      ],
      "source": [
        "plt.figure(figsize=(6,6))\n",
        "for i in range(9):\n",
        "  plt.subplot(3,3,i+1)\n",
        "  plt.xticks([])\n",
        "  plt.yticks([])\n",
        "  plt.grid(False)\n",
        "  plt.imshow(test_images[i], cmap=plt.cm.binary)\n",
        "  plt.xlabel(class_names[test_labels[i]])\n",
        "plt.show()"
      ]
    },
    {
      "cell_type": "markdown",
      "metadata": {
        "id": "a51e_G8o4HaJ"
      },
      "source": [
        "## 2.4 Visualizing the distribution of classes within training and testing set:\n",
        "\n",
        "It is crucial to inspect the distribution of classes, as a skewed data set is prone to overfitting and not able to generate a model that is able to **generalize for unseen data**. We decided to do a count plot as it is a good way to visualize the distribution of classes. The first figure shows the distribution of the 9 classes of the training set, while the second figure shows the distribution of the testing set. We can appreciate that both sets are balanced.\n"
      ]
    },
    {
      "cell_type": "code",
      "execution_count": null,
      "metadata": {
        "colab": {
          "base_uri": "https://localhost:8080/",
          "height": 378
        },
        "id": "ZW0WUhSO-4MN",
        "outputId": "9742a39f-ff4c-49f2-b5c7-91ec65f75f6f"
      },
      "outputs": [
        {
          "name": "stderr",
          "output_type": "stream",
          "text": [
            "/usr/local/lib/python3.7/dist-packages/seaborn/_decorators.py:43: FutureWarning: Pass the following variable as a keyword arg: x. From version 0.12, the only valid positional argument will be `data`, and passing other arguments without an explicit keyword will result in an error or misinterpretation.\n",
            "  FutureWarning\n"
          ]
        },
        {
          "data": {
            "text/plain": [
              "[Text(0, 0.5, 'count'), Text(0.5, 0, 'classes')]"
            ]
          },
          "execution_count": 10,
          "metadata": {},
          "output_type": "execute_result"
        },
        {
          "data": {
            "image/png": "[encoded data removed]",
            "text/plain": [
              "<Figure size 432x288 with 1 Axes>"
            ]
          },
          "metadata": {},
          "output_type": "display_data"
        },
        {
          "name": "stdout",
          "output_type": "stream",
          "text": [
            "time: 239 ms (started: 2021-12-07 14:01:55 +00:00)\n"
          ]
        }
      ],
      "source": [
        "# Plotting dist. training set:\n",
        "count_plt = sns.countplot(train_labels,palette=\"rainbow\")\n",
        "count_plt.set(xlabel='classes', ylabel='count')"
      ]
    },
    {
      "cell_type": "code",
      "execution_count": null,
      "metadata": {
        "id": "vR2jsp0DCYlw"
      },
      "outputs": [],
      "source": [
        "get_count_per_class(np.argmax(y_val,axis=1))"
      ]
    },
    {
      "cell_type": "code",
      "execution_count": null,
      "metadata": {
        "colab": {
          "base_uri": "https://localhost:8080/",
          "height": 378
        },
        "id": "MDvmMSknbM-R",
        "outputId": "caa0d521-430c-487f-dc18-337600a8c171"
      },
      "outputs": [
        {
          "name": "stderr",
          "output_type": "stream",
          "text": [
            "/usr/local/lib/python3.7/dist-packages/seaborn/_decorators.py:43: FutureWarning: Pass the following variable as a keyword arg: x. From version 0.12, the only valid positional argument will be `data`, and passing other arguments without an explicit keyword will result in an error or misinterpretation.\n",
            "  FutureWarning\n"
          ]
        },
        {
          "data": {
            "text/plain": [
              "[Text(0, 0.5, 'count'), Text(0.5, 0, 'classes')]"
            ]
          },
          "execution_count": 11,
          "metadata": {},
          "output_type": "execute_result"
        },
        {
          "data": {
            "image/png": "[encoded data removed]",
            "text/plain": [
              "<Figure size 432x288 with 1 Axes>"
            ]
          },
          "metadata": {},
          "output_type": "display_data"
        },
        {
          "name": "stdout",
          "output_type": "stream",
          "text": [
            "time: 206 ms (started: 2021-12-07 14:01:55 +00:00)\n"
          ]
        }
      ],
      "source": [
        "# Plotting dist. testing set:\n",
        "count_plt = sns.countplot(test_labels,palette=\"colorblind\")\n",
        "count_plt.set(xlabel='classes', ylabel='count')"
      ]
    },
    {
      "cell_type": "code",
      "execution_count": null,
      "metadata": {
        "colab": {
          "base_uri": "https://localhost:8080/",
          "height": 920
        },
        "id": "XtzN9bnwpuLq",
        "outputId": "b9028f11-229a-4967-ef66-ef0900552e4c"
      },
      "outputs": [
        {
          "data": {
            "image/png": "[encoded data removed]",
            "text/plain": [
              "<Figure size 1296x1296 with 16 Axes>"
            ]
          },
          "metadata": {},
          "output_type": "display_data"
        },
        {
          "name": "stdout",
          "output_type": "stream",
          "text": [
            "time: 10.7 s (started: 2021-12-07 17:44:47 +00:00)\n"
          ]
        }
      ],
      "source": [
        "plt.figure(figsize=(18,18))\n",
        "for i in range(16):\n",
        "  plt.subplot(4,4,i+1)\n",
        "  plt.hist(train_images[i])\n",
        "  plt.title(f'Pixel distribution of:  {class_names[train_labels[i]]}')\n",
        "plt.show()"
      ]
    },
    {
      "cell_type": "markdown",
      "metadata": {
        "id": "KCW8IeOBvkj2"
      },
      "source": [
        "# 3. Building a Model using Neural Networks\n",
        "\n",
        "Aka as Artificial Neural Networks (ANN) are a subeset of ML methods that are at the core of deep learning algorithms. Their structure was inspired by the biological neurons of the brain which coined their name Neural Networks (NN).\n",
        "\n",
        "NNs are made of a node layers that contain an input layer, one or more hidden layers and an output layer. Each artificial neuron connects to another and has an associated threashold and and associated weight.\n",
        "\n",
        "To build the NN we have to configure the layers of the model before compiling it.\n",
        "\n",
        "## 3.1 Setting up the Layers of the NN\n",
        "\n",
        "The layers are the basic building blocks of an NN and extract the representations from the given data. Most of deep learning consists of chaining together these layers. Layers as `tf.keras.layres.Dense` have apramenters that are learned during the training. \n",
        "\n",
        "For our training we will use the Rectified Linear Unit (ReLU). It is a simple calculation that returns the value provided as input directly, or the value 0.0 if the input is 0.0 **or less** [see](https://en.wikipedia.org/wiki/Rectifier_(neural_networks)).\n",
        "\n",
        "Here and image of the ReLU:\n",
        "\n",
        "![](https://s2.qwant.com/thumbr/474x351/f/e/354d8f54c966180968777154786e5562a78953d12002e5e24010e54e3cfcf1/th.jpg?u=https%3A%2F%2Ftse3.mm.bing.net%2Fth%3Fid%3DOIP.FZ3MiYnlLaNu6igVodW4LQHaFf%26pid%3DApi&q=0&b=1&p=0&a=0)\n",
        "\n"
      ]
    },
    {
      "cell_type": "markdown",
      "metadata": {
        "id": "vlUpmc3PGrwj"
      },
      "source": [
        "The first layer in my network `tf.keras.layers.Flatten` transforms the format of the images from a 2-dimensional array\n",
        "(of 28 * 28 = 748 pixles) to a one dimensional array holding 784 pixels\n",
        "This layer basically is 'unstacking' the rows of pixles in the image and lining them up.\n",
        "This layer does NOT have to learn any parameters; it only reformats the data."
      ]
    },
    {
      "cell_type": "code",
      "execution_count": null,
      "metadata": {
        "colab": {
          "base_uri": "https://localhost:8080/"
        },
        "id": "uSuhFHXtzrSZ",
        "outputId": "7f50d7f1-639a-469b-9885-f410cd9c6c13"
      },
      "outputs": [
        {
          "name": "stdout",
          "output_type": "stream",
          "text": [
            "time: 215 ms (started: 2021-12-07 14:02:05 +00:00)\n"
          ]
        }
      ],
      "source": [
        "model = tf.keras.Sequential([\n",
        "    tf.keras.layers.Flatten(input_shape=(28, 28)),\n",
        "    tf.keras.layers.Dense(128, activation='relu'),\n",
        "    tf.keras.layers.Dense(10)\n",
        "])\n"
      ]
    },
    {
      "cell_type": "code",
      "execution_count": null,
      "metadata": {
        "colab": {
          "base_uri": "https://localhost:8080/"
        },
        "id": "rwW-eXEVgxq9",
        "outputId": "59b269d4-14ce-4808-f3a2-3c2bfe4aa98d"
      },
      "outputs": [
        {
          "name": "stdout",
          "output_type": "stream",
          "text": [
            "Model: \"sequential\"\n",
            "_________________________________________________________________\n",
            " Layer (type)                Output Shape              Param #   \n",
            "=================================================================\n",
            " flatten (Flatten)           (None, 784)               0         \n",
            "                                                                 \n",
            " dense (Dense)               (None, 128)               100480    \n",
            "                                                                 \n",
            " dense_1 (Dense)             (None, 10)                1290      \n",
            "                                                                 \n",
            "=================================================================\n",
            "Total params: 101,770\n",
            "Trainable params: 101,770\n",
            "Non-trainable params: 0\n",
            "_________________________________________________________________\n",
            "time: 5.36 ms (started: 2021-12-07 15:29:16 +00:00)\n"
          ]
        }
      ],
      "source": [
        "model.summary()"
      ]
    },
    {
      "cell_type": "markdown",
      "metadata": {
        "id": "7E_osaJoHW2E"
      },
      "source": [
        "After flattening the pixels, the network is composed of a sequence of two `tf.keras.layers.Dense` layers. They are densely connected, or fully connected neural layers. The first layer has 128 neurons. The last layer returns a logits array of lenght 10. Each neuron will contain a score for the current image corresponding to the classes.\n",
        "\n",
        "## 3.2 Compiling the Model\n",
        "\n",
        "To get the model ready for training it needs some more settings. We add them during the model's **compile** step.\n",
        "\n",
        "* We need to set a **loss function** (aka error function). It measures how accurate the model is during the training. Obviously we want to minimize this function to minimize the error and 'steer' the model into the right direction.\n",
        "* We need an **optimizer** which defines how the model is updated based on the data that it is given and depending on the **loss function**. Here we use an optimizer that implements the Adam algorithm.\n",
        "* Metrics are used for monitoring training and testing steps. Here we use accuracy = the fraction of images that are correctly classified.\n",
        "\n"
      ]
    },
    {
      "cell_type": "code",
      "execution_count": null,
      "metadata": {
        "colab": {
          "base_uri": "https://localhost:8080/"
        },
        "id": "eAVdOS4NOZzI",
        "outputId": "9da21ea8-5052-4877-e7ae-ae2d97a591bc"
      },
      "outputs": [
        {
          "name": "stdout",
          "output_type": "stream",
          "text": [
            "time: 9.86 ms (started: 2021-12-07 14:02:05 +00:00)\n"
          ]
        }
      ],
      "source": [
        "model.compile(optimizer='adam',\n",
        "              loss=tf.keras.losses.SparseCategoricalCrossentropy(from_logits=True),\n",
        "              metrics=['accuracy'])\n"
      ]
    },
    {
      "cell_type": "markdown",
      "metadata": {
        "id": "vsQI8opbOi1V"
      },
      "source": [
        "## 3.3 Training the Model\n",
        "\n",
        "The training of a nn model requires 4 steps:\n",
        "\n",
        "1. Feeding the training data to the model. The training data here is held by the two arrays; `train_images` and `train_labels`\n",
        "\n",
        "2. The model has to learn the associated images and labels\n",
        "\n",
        "3. Testing the model by making predictions on an independent test set &rarr; `test_images` array\n",
        "\n",
        "4. Verifying that the predictions made actually match the labels by comparing the predicted lables to the `test_labels` array\n",
        "\n",
        "## 3.1.1 Feeding the Model\n",
        "\n",
        "To initiate training we call the `model.fit` method. The name is very descriptive. As it fits the model to the training data."
      ]
    },
    {
      "cell_type": "code",
      "execution_count": null,
      "metadata": {
        "colab": {
          "base_uri": "https://localhost:8080/"
        },
        "id": "goBfk9XJOftI",
        "outputId": "25302047-8c06-46c4-9a01-68f1a98f225d"
      },
      "outputs": [
        {
          "name": "stdout",
          "output_type": "stream",
          "text": [
            "Epoch 1/10\n",
            "1875/1875 [==============================] - 3s 2ms/step - loss: 0.5003 - accuracy: 0.8230\n",
            "Epoch 2/10\n",
            "1875/1875 [==============================] - 3s 1ms/step - loss: 0.3778 - accuracy: 0.8627\n",
            "Epoch 3/10\n",
            "1875/1875 [==============================] - 3s 2ms/step - loss: 0.3406 - accuracy: 0.8751\n",
            "Epoch 4/10\n",
            "1875/1875 [==============================] - 3s 1ms/step - loss: 0.3145 - accuracy: 0.8848\n",
            "Epoch 5/10\n",
            "1875/1875 [==============================] - 3s 1ms/step - loss: 0.2971 - accuracy: 0.8911\n",
            "Epoch 6/10\n",
            "1875/1875 [==============================] - 3s 2ms/step - loss: 0.2824 - accuracy: 0.8957\n",
            "Epoch 7/10\n",
            "1875/1875 [==============================] - 3s 2ms/step - loss: 0.2703 - accuracy: 0.8999\n",
            "Epoch 8/10\n",
            "1875/1875 [==============================] - 3s 1ms/step - loss: 0.2577 - accuracy: 0.9042\n",
            "Epoch 9/10\n",
            "1875/1875 [==============================] - 3s 2ms/step - loss: 0.2504 - accuracy: 0.9069\n",
            "Epoch 10/10\n",
            "1875/1875 [==============================] - 3s 1ms/step - loss: 0.2411 - accuracy: 0.9102\n"
          ]
        },
        {
          "data": {
            "text/plain": [
              "<keras.callbacks.History at 0x7f19012e5d10>"
            ]
          },
          "execution_count": 15,
          "metadata": {},
          "output_type": "execute_result"
        },
        {
          "name": "stdout",
          "output_type": "stream",
          "text": [
            "time: 29 s (started: 2021-12-07 14:02:05 +00:00)\n"
          ]
        }
      ],
      "source": [
        "model.fit(train_images, train_labels, epochs=10)"
      ]
    },
    {
      "cell_type": "markdown",
      "metadata": {
        "id": "cA1mZsekQUHi"
      },
      "source": [
        "We can see how the model trains and in the starndard output above we see accuracy in output for each epoch. Our model reaches an accuracy of ~ 0.91 = 91% of the images are correctly classified.\n",
        "\n",
        "## 3.1.2 Evaluating the Accuracy on our Testing set"
      ]
    },
    {
      "cell_type": "code",
      "execution_count": null,
      "metadata": {
        "colab": {
          "base_uri": "https://localhost:8080/"
        },
        "id": "SJQVF4ZTRQNU",
        "outputId": "c5b7470f-4536-4079-fca7-de887fbe33f9"
      },
      "outputs": [
        {
          "name": "stdout",
          "output_type": "stream",
          "text": [
            "313/313 - 0s - loss: 0.3437 - accuracy: 0.8819 - 253ms/epoch - 809us/step\n",
            "Test loos: 0.34367984533309937\n",
            "Test accuracy: 0.8819000124931335\n",
            "time: 349 ms (started: 2021-12-07 16:11:24 +00:00)\n"
          ]
        }
      ],
      "source": [
        "test_loss, test_acc = model.evaluate(test_images,  test_labels, verbose=2)\n",
        "\n",
        "print('Test loos: {}'.format(test_loss))\n",
        "print('Test accuracy: {}'.format(test_acc))"
      ]
    },
    {
      "cell_type": "markdown",
      "metadata": {
        "id": "rxiACiiLRaWJ"
      },
      "source": [
        "We can see that the accuracy was slightly lower with only ~ 89% of images correctly classified. The difference between the training and testing accuracy can be explained by *overfitting*. So we know that the model has 'memorized' the noise and details in the training dataset this leads to the slightly lower performance on the testing set (or any new unseen data).\n",
        "\n",
        "We can mitigate overfitting by:\n",
        "\n",
        "* Getting more training data\n",
        "* Reducing the capacity of the network\n",
        "* Adding weight regularization\n",
        "* Adding dropout\n",
        "* Data augmentation\n",
        "* Batch normalization\n",
        "\n",
        "Usually it is best to combine the above methods.\n",
        "\n",
        "As the goal for this project is to show several methods, we wil however continue with the model as is.\n",
        "\n",
        "\n",
        "## 3.1.3 Testing the Model by Making Predictions on an Independent Test Set \n",
        "\n",
        "The independent testing set is our `test_images` array. Logits is the vector of raw (non-normalized) predicitons that a classification model generates. It is then passed to a normalization function, in our case the `softmax` function. The `softmax` function generates a vector of normalized probabilities with one value for each possible class. These probabilities are easy to interpret."
      ]
    },
    {
      "cell_type": "code",
      "execution_count": null,
      "metadata": {
        "colab": {
          "base_uri": "https://localhost:8080/"
        },
        "id": "892FsJ_TUXTU",
        "outputId": "5f5d3b00-6a54-4162-c563-af0b79340c8e"
      },
      "outputs": [
        {
          "name": "stdout",
          "output_type": "stream",
          "text": [
            "time: 958 ms (started: 2021-12-07 14:02:35 +00:00)\n"
          ]
        }
      ],
      "source": [
        "probability_model = tf.keras.Sequential([model, tf.keras.layers.Softmax()])\n",
        "predictions = probability_model.predict(test_images)\n"
      ]
    },
    {
      "cell_type": "markdown",
      "metadata": {
        "id": "Y3B217B1UlWr"
      },
      "source": [
        "Now the model has predicted the label of **each** image in the **testing_set**. Below we are inspecting the first prediction:"
      ]
    },
    {
      "cell_type": "code",
      "execution_count": null,
      "metadata": {
        "colab": {
          "base_uri": "https://localhost:8080/"
        },
        "id": "r1O9pDAkU02s",
        "outputId": "8b621c24-7632-4ffd-9dbe-92b93def19f4"
      },
      "outputs": [
        {
          "name": "stdout",
          "output_type": "stream",
          "text": [
            "[3.1837157e-09 3.2106282e-08 4.2215670e-10 3.5235679e-09 5.8144805e-09\n",
            " 7.0657006e-05 1.4703160e-09 2.0182377e-03 9.4068916e-08 9.9791092e-01]\n",
            "10\n",
            "time: 3.31 ms (started: 2021-12-07 14:02:36 +00:00)\n"
          ]
        }
      ],
      "source": [
        "print(predictions[0])\n",
        "print(len(predictions[0]))"
      ]
    },
    {
      "cell_type": "markdown",
      "metadata": {
        "id": "AfE25mQhU_hu"
      },
      "source": [
        "We can appreciate that each prediciton is an array of 10 numbers, which represent the models confidence that the image corresponds to each of the 10 different classes (labels of clothing). The label with the highest confidence is the class called for the item."
      ]
    },
    {
      "cell_type": "code",
      "execution_count": null,
      "metadata": {
        "colab": {
          "base_uri": "https://localhost:8080/"
        },
        "id": "gfex0AfhVdWi",
        "outputId": "dd8f23aa-46e4-471d-a0ae-d2767a0a2c58"
      },
      "outputs": [
        {
          "name": "stdout",
          "output_type": "stream",
          "text": [
            "9\n",
            "\n",
            "\n",
            "time: 3.08 ms (started: 2021-12-07 14:02:36 +00:00)\n"
          ]
        }
      ],
      "source": [
        "print(np.argmax(predictions[0]))\n",
        "\n",
        "print('\\n') # forcing autotime to print into next line\n"
      ]
    },
    {
      "cell_type": "code",
      "execution_count": null,
      "metadata": {
        "colab": {
          "base_uri": "https://localhost:8080/",
          "height": 36
        },
        "id": "Ku9vitjjWiyX",
        "outputId": "25355c53-6278-4bec-89e1-13be5c5acc38"
      },
      "outputs": [
        {
          "data": {
            "application/vnd.google.colaboratory.intrinsic+json": {
              "type": "string"
            },
            "text/plain": [
              "'Ankle boot'"
            ]
          },
          "execution_count": 20,
          "metadata": {},
          "output_type": "execute_result"
        },
        {
          "name": "stdout",
          "output_type": "stream",
          "text": [
            "time: 3.24 ms (started: 2021-12-07 14:02:36 +00:00)\n"
          ]
        }
      ],
      "source": [
        "class_names[9]"
      ]
    },
    {
      "cell_type": "markdown",
      "metadata": {
        "id": "tDLjDo-rVsB-"
      },
      "source": [
        "We now know that the model is most confident that the class of that the image is an ankle boot. To find out weather this call was correct we can examine the `test_labels`:"
      ]
    },
    {
      "cell_type": "code",
      "execution_count": null,
      "metadata": {
        "colab": {
          "base_uri": "https://localhost:8080/"
        },
        "id": "TD1MSVPuW7Mb",
        "outputId": "7ab35690-0ebe-45fb-8146-4d24b609b0ba"
      },
      "outputs": [
        {
          "data": {
            "text/plain": [
              "9"
            ]
          },
          "execution_count": 21,
          "metadata": {},
          "output_type": "execute_result"
        },
        {
          "name": "stdout",
          "output_type": "stream",
          "text": [
            "time: 3.55 ms (started: 2021-12-07 14:02:36 +00:00)\n"
          ]
        }
      ],
      "source": [
        "test_labels[0] # dunno why time module is printed right after 9"
      ]
    },
    {
      "cell_type": "markdown",
      "metadata": {
        "id": "paYUFO45X-c0"
      },
      "source": [
        "## 3.1.4 Verifying predictions\n",
        "\n",
        "First we write functions to visualize the full set of 10 class predictions.\n",
        "\n",
        "Then we make predictions about some images using the trained model.\n",
        "\n"
      ]
    },
    {
      "cell_type": "code",
      "execution_count": null,
      "metadata": {
        "colab": {
          "base_uri": "https://localhost:8080/"
        },
        "id": "72EGvwkeXS1M",
        "outputId": "45bb8239-9ffd-48b1-9cc5-3aa4da2731c0"
      },
      "outputs": [
        {
          "name": "stdout",
          "output_type": "stream",
          "text": [
            "time: 18 ms (started: 2021-12-07 14:02:36 +00:00)\n"
          ]
        }
      ],
      "source": [
        "def plot_image(i, predictions_array, true_label, img):\n",
        "  true_label, img = true_label[i], img[i]\n",
        "  plt.grid(False)\n",
        "  plt.xticks([])\n",
        "  plt.yticks([])\n",
        "\n",
        "  plt.imshow(img, cmap=plt.cm.binary)\n",
        "\n",
        "  predicted_label = np.argmax(predictions_array)\n",
        "  if predicted_label == true_label:\n",
        "    color = 'green'\n",
        "  else:\n",
        "    color = 'red'\n",
        "\n",
        "  plt.xlabel(\"{} {:2.0f}% ({})\".format(class_names[predicted_label],\n",
        "                                100*np.max(predictions_array),\n",
        "                                class_names[true_label]),\n",
        "                                color=color)\n",
        "\n",
        "def plot_value_array(i, predictions_array, true_label):\n",
        "  true_label = true_label[i]\n",
        "  plt.grid(False)\n",
        "  plt.xticks(range(10))\n",
        "  plt.yticks([])\n",
        "  thisplot = plt.bar(range(10), predictions_array, color=\"#777777\")\n",
        "  plt.ylim([0, 1])\n",
        "  predicted_label = np.argmax(predictions_array)\n",
        "\n",
        "  thisplot[predicted_label].set_color('red')\n",
        "  thisplot[true_label].set_color('green')\n"
      ]
    },
    {
      "cell_type": "markdown",
      "metadata": {
        "id": "AheIykEHYruk"
      },
      "source": [
        "As you can see in the function above: correctly classified images are labelled green while wrongly classified ones are red."
      ]
    },
    {
      "cell_type": "code",
      "execution_count": null,
      "metadata": {
        "colab": {
          "base_uri": "https://localhost:8080/",
          "height": 231
        },
        "id": "NPY3_qmvY40a",
        "outputId": "9bd4ae56-6759-4611-f9cd-f28836482609"
      },
      "outputs": [
        {
          "data": {
            "image/png": "[encoded data removed]",
            "text/plain": [
              "<Figure size 432x216 with 2 Axes>"
            ]
          },
          "metadata": {},
          "output_type": "display_data"
        },
        {
          "name": "stdout",
          "output_type": "stream",
          "text": [
            "time: 169 ms (started: 2021-12-07 14:02:36 +00:00)\n"
          ]
        }
      ],
      "source": [
        "i = 0\n",
        "plt.figure(figsize=(6,3))\n",
        "plt.subplot(1,2,1)\n",
        "plot_image(i, predictions[i], test_labels, test_images)\n",
        "plt.subplot(1,2,2)\n",
        "plot_value_array(i, predictions[i],  test_labels)\n",
        "plt.show()\n"
      ]
    },
    {
      "cell_type": "code",
      "execution_count": null,
      "metadata": {
        "colab": {
          "base_uri": "https://localhost:8080/",
          "height": 231
        },
        "id": "y0aumHyTZGum",
        "outputId": "e3cc35ff-eea9-40af-fc8f-912d79915e90"
      },
      "outputs": [
        {
          "data": {
            "image/png": "[encoded data removed]",
            "text/plain": [
              "<Figure size 432x216 with 2 Axes>"
            ]
          },
          "metadata": {},
          "output_type": "display_data"
        },
        {
          "name": "stdout",
          "output_type": "stream",
          "text": [
            "time: 183 ms (started: 2021-12-07 14:02:36 +00:00)\n"
          ]
        }
      ],
      "source": [
        "i = 113\n",
        "plt.figure(figsize=(6,3))\n",
        "plt.subplot(1,2,1)\n",
        "plot_image(i, predictions[i], test_labels, test_images)\n",
        "plt.subplot(1,2,2)\n",
        "plot_value_array(i, predictions[i],  test_labels)\n",
        "plt.show()\n"
      ]
    },
    {
      "cell_type": "code",
      "execution_count": null,
      "metadata": {
        "colab": {
          "base_uri": "https://localhost:8080/",
          "height": 231
        },
        "id": "fpUf5RqYZNjm",
        "outputId": "a7cf2bd1-dd56-446b-9252-85ae2a12c0d0"
      },
      "outputs": [
        {
          "data": {
            "image/png": "[encoded data removed]",
            "text/plain": [
              "<Figure size 432x216 with 2 Axes>"
            ]
          },
          "metadata": {},
          "output_type": "display_data"
        },
        {
          "name": "stdout",
          "output_type": "stream",
          "text": [
            "time: 176 ms (started: 2021-12-07 14:02:36 +00:00)\n"
          ]
        }
      ],
      "source": [
        "i = 12\n",
        "plt.figure(figsize=(6,3))\n",
        "plt.subplot(1,2,1)\n",
        "plot_image(i, predictions[i], test_labels, test_images)\n",
        "plt.subplot(1,2,2)\n",
        "plot_value_array(i, predictions[i],  test_labels)\n",
        "plt.show()\n"
      ]
    },
    {
      "cell_type": "markdown",
      "metadata": {
        "id": "TIyDclieZdBm"
      },
      "source": [
        "Below we are plotting several images including their predictions in a grid: We can see that the model can be wrong (red) even if it is very confident."
      ]
    },
    {
      "cell_type": "code",
      "execution_count": null,
      "metadata": {
        "colab": {
          "base_uri": "https://localhost:8080/",
          "height": 704
        },
        "id": "8NhRfQBEZplL",
        "outputId": "ce4d7033-0957-4ed2-ce0a-847e6556c6bb"
      },
      "outputs": [
        {
          "data": {
            "image/png": "[encoded data removed]",
            "text/plain": [
              "<Figure size 1152x864 with 48 Axes>"
            ]
          },
          "metadata": {},
          "output_type": "display_data"
        },
        {
          "name": "stdout",
          "output_type": "stream",
          "text": [
            "time: 4.68 s (started: 2021-12-07 14:02:36 +00:00)\n"
          ]
        }
      ],
      "source": [
        "# Plot the first X test images, their predicted labels, and the true labels.\n",
        "# Color correct predictions in blue and incorrect predictions in red.\n",
        "num_rows = 6\n",
        "num_cols = 4\n",
        "num_images = num_rows*num_cols\n",
        "plt.figure(figsize=(2*2*num_cols, 2*num_rows))\n",
        "for i in range(num_images):\n",
        "  plt.subplot(num_rows, 2*num_cols, 2*i+1)\n",
        "  plot_image(i, predictions[i], test_labels, test_images)\n",
        "  plt.subplot(num_rows, 2*num_cols, 2*i+2)\n",
        "  plot_value_array(i, predictions[i], test_labels)\n",
        "plt.tight_layout()\n",
        "plt.show()\n"
      ]
    },
    {
      "cell_type": "markdown",
      "metadata": {
        "id": "Z9YXykw6Tz7a"
      },
      "source": [
        "# NN CONFUSION"
      ]
    },
    {
      "cell_type": "code",
      "execution_count": null,
      "metadata": {
        "colab": {
          "base_uri": "https://localhost:8080/"
        },
        "id": "9BcoRP3HkeJB",
        "outputId": "c195de54-353a-4b82-cacd-cadc302c7ae3"
      },
      "outputs": [
        {
          "name": "stdout",
          "output_type": "stream",
          "text": [
            "[[853   1  21  48   6   2  60   0   9   0]\n",
            " [  0 972   0  22   3   0   2   0   1   0]\n",
            " [ 13   1 841   6  83   1  54   0   1   0]\n",
            " [ 18   2  13 882  59   0  21   0   5   0]\n",
            " [  0   1 122  14 811   0  49   0   3   0]\n",
            " [  0   0   0   1   0 940   0  30   0  29]\n",
            " [143   0 106  42  69   0 631   0   9   0]\n",
            " [  0   0   0   0   0   7   0 926   0  67]\n",
            " [  3   0   5   2   3   2   2   3 980   0]\n",
            " [  0   0   0   0   0   6   1  10   0 983]]\n",
            "time: 5.78 ms (started: 2021-12-07 14:24:32 +00:00)\n"
          ]
        }
      ],
      "source": [
        "# predicted = model1.predict(X_test) \n",
        "test_predicted = np.argmax(predictions, axis=1) #predictions\n",
        "# generating confusion matrix using the test set labels and the predictions of the test set:\n",
        "nn_confusion = confusion_matrix(test_labels, test_predicted)\n",
        "print(confusion)"
      ]
    },
    {
      "cell_type": "code",
      "execution_count": null,
      "metadata": {
        "colab": {
          "base_uri": "https://localhost:8080/",
          "height": 340
        },
        "id": "Kh8A4ZnPSTZT",
        "outputId": "43db85f4-ab2d-462a-e32d-8301ea281dd5"
      },
      "outputs": [
        {
          "data": {
            "image/png": "[encoded data removed]",
            "text/plain": [
              "<Figure size 504x360 with 2 Axes>"
            ]
          },
          "metadata": {},
          "output_type": "display_data"
        },
        {
          "name": "stdout",
          "output_type": "stream",
          "text": [
            "time: 479 ms (started: 2021-12-07 14:44:41 +00:00)\n"
          ]
        }
      ],
      "source": [
        "f,ax = plt.subplots(figsize=(7,5))\n",
        "sns.heatmap(confusion, annot=True, cmap=\"BuPu\", fmt='',ax=ax)\n",
        "plt.show()"
      ]
    },
    {
      "cell_type": "code",
      "execution_count": null,
      "metadata": {
        "colab": {
          "base_uri": "https://localhost:8080/"
        },
        "id": "rXJKGH4WsFIr",
        "outputId": "3ce0e426-5efd-4b9f-debf-dd81f936c54f"
      },
      "outputs": [
        {
          "name": "stdout",
          "output_type": "stream",
          "text": [
            "<class 'list'>\n",
            "T-shirt/top, Trouser, Pullover, Dress, Coat, Sandal, Shirt, Sneaker, Bag, Ankle boot, time: 4.99 ms (started: 2021-12-07 16:42:56 +00:00)\n"
          ]
        }
      ],
      "source": [
        "print(type(class_names))\n",
        "for i in class_names:\n",
        "  print(i, end=\", \")"
      ]
    },
    {
      "cell_type": "code",
      "execution_count": null,
      "metadata": {
        "colab": {
          "base_uri": "https://localhost:8080/"
        },
        "id": "sOp6WUearPME",
        "outputId": "05e5a0dd-59f3-459c-d6ed-c73f6e18face"
      },
      "outputs": [
        {
          "name": "stdout",
          "output_type": "stream",
          "text": [
            "<class 'numpy.ndarray'>\n",
            "853 T-shirt/top\n",
            "972 Trouser\n",
            "841 Pullover\n",
            "882 Dress\n",
            "811 Coat\n",
            "940 Sandal\n",
            "631 Shirt\n",
            "926 Sneaker\n",
            "980 Bag\n",
            "983 Ankle boot\n",
            "\n",
            "\n",
            "True positives: \n",
            "[853, 972, 841, 882, 811, 940, 631, 926, 980, 983] \n",
            "\n",
            "True positives sorted: \n",
            "[631, 811, 841, 853, 882, 926, 940, 972, 980, 983] \n",
            "\n",
            "time: 5.95 ms (started: 2021-12-07 16:58:08 +00:00)\n"
          ]
        }
      ],
      "source": [
        "tp_list = [] # generating list of true positives\n",
        "for i in range(len(confusion)):\n",
        "  print(confusion[i][i], class_names[i])\n",
        "  tp_list.append(confusion[i][i])\n",
        "\n",
        "print('\\n')\n",
        "print('True positives: ')\n",
        "print(tp_list, '\\n')\n",
        "tp_list.sort()\n",
        "print('True positives sorted: ')\n",
        "print(tp_list, '\\n')"
      ]
    },
    {
      "cell_type": "markdown",
      "metadata": {
        "id": "cNAcTNBfq3EX"
      },
      "source": [
        "# Discussing the differences in true positives\n",
        "\n",
        "Looking at the diagonal in the heatmap above we can see all true positives (TP). That is, the predicted class is in congruence with the label of the class.\n",
        "\n",
        "I have extracted all TP into a list and sorted them from smallest to largest. As outlined in data exploration the classes of the **testing set** were completely balanced thus we can draw direct conclusions.\n",
        "\n",
        "Labels sorted from least TP to highest TP value:\n",
        "\n",
        "1. Shirt 631 \n",
        "2. Coat 811\n",
        "3. Pullover 841\n",
        "4. T-Shirt/top 853\n",
        "5. Dress 882\n",
        "6. Sneaker 926\n",
        "7. Sandal 940\n",
        "8. Trouser 972\n",
        "9. Bag 980\n",
        "10. Ankle boot 983\n",
        "\n",
        "The first three might have had these lower scores given their similar pixle distribution. It is evident to the human eye that shirts coats and pullovers all have the same shape. While the difference in shape between sandals, ankle boots and sneakers is more pronounced and thus might lead to a pixel profile that is more distinguishable."
      ]
    },
    {
      "cell_type": "markdown",
      "metadata": {
        "id": "sHcghT19wMqx"
      },
      "source": [
        "# 5. Logistic Regression\n",
        "\n",
        "Logistic Regression (RG), a statistical method for predicting binary classes, and an extension of linear regression. It name comes from the use of the logistic function (=sigmoid function). The advantages of Logistic regression are: \n",
        "\n",
        "1. It is easy to implement which is why I choose it for this report\n",
        "2. It is very fast in classifying unknown records\n",
        "3. It can overfit in high dimensional datasets then we can use regularization technique to avoid overfitting\n",
        "4. It has good accuracy and performs well when the data is linearly separable\n",
        "\n",
        "But the disadvantages of logistic regression are the following:\n",
        "1. It does work well when data is correlated, but that is not always the case\n",
        "2. Complex relationships cannot be obtained by logistic regression\n",
        "3. Nonlinear problems cannot be solved by it"
      ]
    },
    {
      "cell_type": "code",
      "execution_count": null,
      "metadata": {
        "colab": {
          "base_uri": "https://localhost:8080/",
          "height": 452
        },
        "id": "MUnz5YoEx77z",
        "outputId": "3c19a59d-00d9-48de-f74a-8ac2a8c59850"
      },
      "outputs": [
        {
          "ename": "ValueError",
          "evalue": "ignored",
          "output_type": "error",
          "traceback": [
            "\u001b[0;31m---------------------------------------------------------------------------\u001b[0m",
            "\u001b[0;31mValueError\u001b[0m                                Traceback (most recent call last)",
            "\u001b[0;32m<ipython-input-23-d5b6fa025ffb>\u001b[0m in \u001b[0;36m<module>\u001b[0;34m()\u001b[0m\n\u001b[1;32m     17\u001b[0m \u001b[0;31m# start_time = time.time()\u001b[0m\u001b[0;34m\u001b[0m\u001b[0;34m\u001b[0m\u001b[0;34m\u001b[0m\u001b[0m\n\u001b[1;32m     18\u001b[0m \u001b[0mlog_reg\u001b[0m \u001b[0;34m=\u001b[0m \u001b[0mLogisticRegression\u001b[0m\u001b[0;34m(\u001b[0m\u001b[0msolver\u001b[0m\u001b[0;34m=\u001b[0m\u001b[0;34m'liblinear'\u001b[0m\u001b[0;34m)\u001b[0m\u001b[0;34m\u001b[0m\u001b[0;34m\u001b[0m\u001b[0m\n\u001b[0;32m---> 19\u001b[0;31m \u001b[0mlog_reg\u001b[0m\u001b[0;34m.\u001b[0m\u001b[0mfit\u001b[0m\u001b[0;34m(\u001b[0m\u001b[0mtrain_images\u001b[0m\u001b[0;34m,\u001b[0m \u001b[0mtrain_labels\u001b[0m\u001b[0;34m.\u001b[0m\u001b[0mravel\u001b[0m\u001b[0;34m(\u001b[0m\u001b[0;34m)\u001b[0m\u001b[0;34m)\u001b[0m\u001b[0;34m\u001b[0m\u001b[0;34m\u001b[0m\u001b[0m\n\u001b[0m\u001b[1;32m     20\u001b[0m \u001b[0mtrain_images_prd\u001b[0m \u001b[0;34m=\u001b[0m \u001b[0mlg\u001b[0m\u001b[0;34m.\u001b[0m\u001b[0mpredict\u001b[0m\u001b[0;34m(\u001b[0m\u001b[0mtrain_images\u001b[0m\u001b[0;34m)\u001b[0m\u001b[0;34m\u001b[0m\u001b[0;34m\u001b[0m\u001b[0m\n\u001b[1;32m     21\u001b[0m \u001b[0mtest_images_prd\u001b[0m \u001b[0;34m=\u001b[0m \u001b[0mlg\u001b[0m\u001b[0;34m.\u001b[0m\u001b[0mpredict\u001b[0m\u001b[0;34m(\u001b[0m\u001b[0mtest_images\u001b[0m\u001b[0;34m)\u001b[0m\u001b[0;34m\u001b[0m\u001b[0;34m\u001b[0m\u001b[0m\n",
            "\u001b[0;32m/usr/local/lib/python3.7/dist-packages/sklearn/linear_model/_logistic.py\u001b[0m in \u001b[0;36mfit\u001b[0;34m(self, X, y, sample_weight)\u001b[0m\n\u001b[1;32m   1512\u001b[0m             \u001b[0mdtype\u001b[0m\u001b[0;34m=\u001b[0m\u001b[0m_dtype\u001b[0m\u001b[0;34m,\u001b[0m\u001b[0;34m\u001b[0m\u001b[0;34m\u001b[0m\u001b[0m\n\u001b[1;32m   1513\u001b[0m             \u001b[0morder\u001b[0m\u001b[0;34m=\u001b[0m\u001b[0;34m\"C\"\u001b[0m\u001b[0;34m,\u001b[0m\u001b[0;34m\u001b[0m\u001b[0;34m\u001b[0m\u001b[0m\n\u001b[0;32m-> 1514\u001b[0;31m             \u001b[0maccept_large_sparse\u001b[0m\u001b[0;34m=\u001b[0m\u001b[0msolver\u001b[0m \u001b[0;32mnot\u001b[0m \u001b[0;32min\u001b[0m \u001b[0;34m[\u001b[0m\u001b[0;34m\"liblinear\"\u001b[0m\u001b[0;34m,\u001b[0m \u001b[0;34m\"sag\"\u001b[0m\u001b[0;34m,\u001b[0m \u001b[0;34m\"saga\"\u001b[0m\u001b[0;34m]\u001b[0m\u001b[0;34m,\u001b[0m\u001b[0;34m\u001b[0m\u001b[0;34m\u001b[0m\u001b[0m\n\u001b[0m\u001b[1;32m   1515\u001b[0m         )\n\u001b[1;32m   1516\u001b[0m         \u001b[0mcheck_classification_targets\u001b[0m\u001b[0;34m(\u001b[0m\u001b[0my\u001b[0m\u001b[0;34m)\u001b[0m\u001b[0;34m\u001b[0m\u001b[0;34m\u001b[0m\u001b[0m\n",
            "\u001b[0;32m/usr/local/lib/python3.7/dist-packages/sklearn/base.py\u001b[0m in \u001b[0;36m_validate_data\u001b[0;34m(self, X, y, reset, validate_separately, **check_params)\u001b[0m\n\u001b[1;32m    574\u001b[0m                 \u001b[0my\u001b[0m \u001b[0;34m=\u001b[0m \u001b[0mcheck_array\u001b[0m\u001b[0;34m(\u001b[0m\u001b[0my\u001b[0m\u001b[0;34m,\u001b[0m \u001b[0;34m**\u001b[0m\u001b[0mcheck_y_params\u001b[0m\u001b[0;34m)\u001b[0m\u001b[0;34m\u001b[0m\u001b[0;34m\u001b[0m\u001b[0m\n\u001b[1;32m    575\u001b[0m             \u001b[0;32melse\u001b[0m\u001b[0;34m:\u001b[0m\u001b[0;34m\u001b[0m\u001b[0;34m\u001b[0m\u001b[0m\n\u001b[0;32m--> 576\u001b[0;31m                 \u001b[0mX\u001b[0m\u001b[0;34m,\u001b[0m \u001b[0my\u001b[0m \u001b[0;34m=\u001b[0m \u001b[0mcheck_X_y\u001b[0m\u001b[0;34m(\u001b[0m\u001b[0mX\u001b[0m\u001b[0;34m,\u001b[0m \u001b[0my\u001b[0m\u001b[0;34m,\u001b[0m \u001b[0;34m**\u001b[0m\u001b[0mcheck_params\u001b[0m\u001b[0;34m)\u001b[0m\u001b[0;34m\u001b[0m\u001b[0;34m\u001b[0m\u001b[0m\n\u001b[0m\u001b[1;32m    577\u001b[0m             \u001b[0mout\u001b[0m \u001b[0;34m=\u001b[0m \u001b[0mX\u001b[0m\u001b[0;34m,\u001b[0m \u001b[0my\u001b[0m\u001b[0;34m\u001b[0m\u001b[0;34m\u001b[0m\u001b[0m\n\u001b[1;32m    578\u001b[0m \u001b[0;34m\u001b[0m\u001b[0m\n",
            "\u001b[0;32m/usr/local/lib/python3.7/dist-packages/sklearn/utils/validation.py\u001b[0m in \u001b[0;36mcheck_X_y\u001b[0;34m(X, y, accept_sparse, accept_large_sparse, dtype, order, copy, force_all_finite, ensure_2d, allow_nd, multi_output, ensure_min_samples, ensure_min_features, y_numeric, estimator)\u001b[0m\n\u001b[1;32m    966\u001b[0m         \u001b[0mensure_min_samples\u001b[0m\u001b[0;34m=\u001b[0m\u001b[0mensure_min_samples\u001b[0m\u001b[0;34m,\u001b[0m\u001b[0;34m\u001b[0m\u001b[0;34m\u001b[0m\u001b[0m\n\u001b[1;32m    967\u001b[0m         \u001b[0mensure_min_features\u001b[0m\u001b[0;34m=\u001b[0m\u001b[0mensure_min_features\u001b[0m\u001b[0;34m,\u001b[0m\u001b[0;34m\u001b[0m\u001b[0;34m\u001b[0m\u001b[0m\n\u001b[0;32m--> 968\u001b[0;31m         \u001b[0mestimator\u001b[0m\u001b[0;34m=\u001b[0m\u001b[0mestimator\u001b[0m\u001b[0;34m,\u001b[0m\u001b[0;34m\u001b[0m\u001b[0;34m\u001b[0m\u001b[0m\n\u001b[0m\u001b[1;32m    969\u001b[0m     )\n\u001b[1;32m    970\u001b[0m \u001b[0;34m\u001b[0m\u001b[0m\n",
            "\u001b[0;32m/usr/local/lib/python3.7/dist-packages/sklearn/utils/validation.py\u001b[0m in \u001b[0;36mcheck_array\u001b[0;34m(array, accept_sparse, accept_large_sparse, dtype, order, copy, force_all_finite, ensure_2d, allow_nd, ensure_min_samples, ensure_min_features, estimator)\u001b[0m\n\u001b[1;32m    786\u001b[0m             raise ValueError(\n\u001b[1;32m    787\u001b[0m                 \u001b[0;34m\"Found array with dim %d. %s expected <= 2.\"\u001b[0m\u001b[0;34m\u001b[0m\u001b[0;34m\u001b[0m\u001b[0m\n\u001b[0;32m--> 788\u001b[0;31m                 \u001b[0;34m%\u001b[0m \u001b[0;34m(\u001b[0m\u001b[0marray\u001b[0m\u001b[0;34m.\u001b[0m\u001b[0mndim\u001b[0m\u001b[0;34m,\u001b[0m \u001b[0mestimator_name\u001b[0m\u001b[0;34m)\u001b[0m\u001b[0;34m\u001b[0m\u001b[0;34m\u001b[0m\u001b[0m\n\u001b[0m\u001b[1;32m    789\u001b[0m             )\n\u001b[1;32m    790\u001b[0m \u001b[0;34m\u001b[0m\u001b[0m\n",
            "\u001b[0;31mValueError\u001b[0m: Found array with dim 3. Estimator expected <= 2."
          ]
        }
      ],
      "source": [
        "# # importing necessary types from sklearn submodules\n",
        "# from sklearn.linear_model import LogisticRegression\n",
        "# from sklearn.metrics import classification_report\n",
        "# from sklearn.model_selection import cross_val_predict\n",
        "# from sklearn.pipeline import Pipeline\n",
        "# from sklearn.preprocessing import MinMaxScaler\n",
        "\n",
        "# # log_reg_pipeline = Pipeline([\n",
        "# #     ('scaler', MinMaxScaler()),\n",
        "# #     ('lg_clf', LogisticRegression(multi_class='ovr'))\n",
        "# # ])\n",
        "\n",
        "# # log_reg_pred = cross_val_predict(log_reg_pipeline, train_images, train_labels, \n",
        "# #                                  cv=5, n_jobs=1, verbose=2)\n",
        "\n",
        "\n",
        "\n",
        "# # log_reg = LogisticRegression(solver='liblinear')  \n",
        "# # log_reg.fit(train_images, train_labels.ravel())\n",
        "# # train_images_prd = lg.predict(train_images)\n",
        "# # test_images_prd = lg.predict(test_images)\n",
        "# # acc_train_lg=accuracy_score(train_labels,train_images_prd)\n",
        "# # acc_test_lg=accuracy_score(test_labels,test_images_prd)\n",
        "# # print(\"accuracy on train set:{:.4f}\\naccuracy on validation set:{:.4f}\".format(acc_train_lg,\n",
        "# # acc_test_lg))\n",
        "\n",
        "# # Initialize Multinomial Logistic Regression Model\n",
        "# LR = LogisticRegression()\n",
        "# LR.fit(Xtrn_nm, Ytrn)\n",
        "\n",
        "# # Predict labels according\n",
        "# Y_pred = LR.predict(Xtst_nm)\n",
        "\n",
        "# # Print accuracy on test data and labels\n",
        "# accuracy = LR.score(Xtst_nm, Ytst)\n",
        "\n",
        "# # Print Confusion Matrix\n",
        "# conf_matrix =  confusion_matrix(Ytst, Y_pred)\n",
        "\n",
        "# PlotConfusionMatrix(conf_matrix, list(range(0,10)), normalize=True)\n",
        "# print(f\"LR Model's accuracy: {accuracy}\") \n"
      ]
    },
    {
      "cell_type": "markdown",
      "metadata": {
        "id": "--LRFAoUaqaZ"
      },
      "source": [
        "# SVM"
      ]
    },
    {
      "cell_type": "code",
      "execution_count": 5,
      "metadata": {
        "colab": {
          "base_uri": "https://localhost:8080/"
        },
        "id": "pnX4t9JIDTy3",
        "outputId": "7b4a7bda-00f7-4661-8915-17c069578d70"
      },
      "outputs": [
        {
          "output_type": "stream",
          "name": "stdout",
          "text": [
            "time: 551 ms (started: 2021-12-12 14:18:38 +00:00)\n"
          ]
        }
      ],
      "source": [
        "# from sklearn.svm import SVC\n",
        "# from sklearn import metrics\n",
        "# from sklearn.model_selection import train_test_split \n",
        "# from sklearn.metrics import classification_report, confusion_matrix\n",
        "# # maybe make smaller test runs for gridsearch???\n",
        "# from sklearn.model_selection import GridSearchCV\n",
        "# from sklearn.neighbors import KNeighborsClassifier\n",
        "# from sklearn.ensemble import RandomForestClassifier\n",
        "# from sklearn.tree import DecisionTreeClassifier\n",
        "# from sklearn.decomposition import PCA"
      ]
    },
    {
      "cell_type": "markdown",
      "source": [
        "# Concattenate for full run\n",
        "\n",
        "# Flatten"
      ],
      "metadata": {
        "id": "aFvzLkzuCZ2A"
      }
    },
    {
      "cell_type": "code",
      "execution_count": 6,
      "metadata": {
        "colab": {
          "base_uri": "https://localhost:8080/"
        },
        "id": "XzKiwTV75wo9",
        "outputId": "ca65f7a3-e2db-4c46-8dba-b2f69362c559"
      },
      "outputs": [
        {
          "output_type": "stream",
          "name": "stdout",
          "text": [
            "(70000, 28, 28)\n",
            "(70000,)\n",
            "(70000, 784)\n",
            "time: 1.1 s (started: 2021-12-12 14:34:45 +00:00)\n"
          ]
        }
      ],
      "source": [
        "# As data was imported from keras with \n",
        "# `# (train_images, train_labels), (test_images, test_labels) = f_mnist.load_data()`\n",
        "# I have to unify the test and train set again\n",
        "# Given the structure of the functions of sklearn it makes sense to \n",
        "# merge the sets into one big set as the `train_test_split()` function \n",
        "# takes ONE single set in input and splits it for CV\n",
        "\n",
        "# concattenate train and test to use in gridsearch:\n",
        "all_images = np.concatenate((train_images, test_images))\n",
        "all_labels = np.concatenate((train_labels, test_labels))\n",
        "\n",
        "# Check if it makes sense\n",
        "print(all_images.shape)\n",
        "print(all_labels.shape)\n",
        "\n",
        "# flatten to unstack pixels\n",
        "# all_images_f is the input to the CV splits and will \n",
        "# be used to train the final model\n",
        "all_images_f = all_images.flatten().reshape(70000,784)\n",
        "\n",
        "print(all_images_f.shape)"
      ]
    },
    {
      "cell_type": "code",
      "execution_count": null,
      "metadata": {
        "colab": {
          "base_uri": "https://localhost:8080/"
        },
        "id": "vbhTpLPN2d8h",
        "outputId": "30f6b327-53a4-447f-822b-ad254f263d0b"
      },
      "outputs": [
        {
          "name": "stdout",
          "output_type": "stream",
          "text": [
            "(60000, 784)\n",
            "(10000, 784)\n",
            "time: 210 ms (started: 2021-12-11 09:21:02 +00:00)\n"
          ]
        }
      ],
      "source": [
        "# Flatten both original test and train arrays\n",
        "train_images_f = train_images.flatten().reshape(60000,784)\n",
        "test_images_f = test_images.flatten().reshape(10000,784)\n",
        "print(train_images_f.shape)\n",
        "print(test_images_f.shape)"
      ]
    },
    {
      "cell_type": "code",
      "source": [
        "# X_train_all, X_test_all, y_train_all, y_test_all = train_test_split(\n",
        "#     all_images_f, all_labels, test_size = 0.90, random_state = 101, stratify=all_labels)# from sklearn.svm import SVC #double"
      ],
      "metadata": {
        "id": "D-i-krP4EEbi"
      },
      "execution_count": null,
      "outputs": []
    },
    {
      "cell_type": "markdown",
      "metadata": {
        "id": "20WiEsfV4RSJ"
      },
      "source": [
        "# SVM Grid Search 5-fold Cross Validation on Reduced Set\n",
        "\n",
        "To reduce computational time of the grid search with 5-fold corss validation I only the training set (as imported from `tf.keras`). \n",
        "\n",
        "That means that for the train test split I will do the oposite of what is usually done. I will use the **smaller portion** for **training** as it is more computationally intensive than testing.\n",
        "\n",
        "I will use 10% of the 60 000 samples for training while I will use the bulk of the samples for (90%) for testing. I chose this as I wanted to speed up the step of the grid search. From the grid search we can find the best parameters. I will use them to train a model using the entire input and testing on the corresponding testing set.\n",
        "\n",
        "Once the best parameters are found, I will build a model using the **original train test splits** as imported from `tf.keras` and do a final test of performance. This will be done by again using the `train_test_split` function but this time on the entire data set. The model will built with the usual \n",
        "\n",
        "```\n",
        "# train the model on train set\n",
        "model = SVC()\n",
        "model.fit(X_train, y_train)\n",
        "\n",
        "# test model on test set and print prediction results\n",
        "predictions = model.predict(X_test)\n",
        "print(classification_report(y_test, predictions))\n",
        "```\n",
        "\n",
        "[A user's guide to support vector machines, Asa Ben-Hur, Jason Weston](https://pubmed.ncbi.nlm.nih.gov/20221922/)"
      ]
    },
    {
      "cell_type": "markdown",
      "metadata": {
        "id": "pqzeVVrH0OGS"
      },
      "source": [
        "From the documentation: https://scikit-learn.org/stable/modules/generated/sklearn.svm.SVC.html \n",
        "\n",
        ">The implementation is based on **libsvm**. The fit **time scales at least quadratically** with the number of samples and may be **impractical beyond tens** of thousands of samples. For large datasets consider using LinearSVC or SGDClassifier instead, possibly after a Nystroem transformer."
      ]
    },
    {
      "cell_type": "code",
      "execution_count": null,
      "metadata": {
        "colab": {
          "base_uri": "https://localhost:8080/"
        },
        "id": "KV65owia35WU",
        "outputId": "9dbc013d-4ad4-432b-dd5d-19df995c2977"
      },
      "outputs": [
        {
          "name": "stdout",
          "output_type": "stream",
          "text": [
            "Fitting 5 folds for each of 25 candidates, totalling 125 fits\n",
            "[CV 1/5] END ......C=0.001, gamma=1, kernel=rbf;, score=0.102 total time=  15.0s\n",
            "[CV 2/5] END ......C=0.001, gamma=1, kernel=rbf;, score=0.102 total time=  19.8s\n",
            "[CV 3/5] END ......C=0.001, gamma=1, kernel=rbf;, score=0.102 total time=  20.0s\n",
            "[CV 4/5] END ......C=0.001, gamma=1, kernel=rbf;, score=0.102 total time=  21.8s\n",
            "[CV 5/5] END ......C=0.001, gamma=1, kernel=rbf;, score=0.102 total time=  20.5s\n",
            "[CV 1/5] END ....C=0.001, gamma=0.1, kernel=rbf;, score=0.102 total time=  15.6s\n",
            "[CV 2/5] END ....C=0.001, gamma=0.1, kernel=rbf;, score=0.102 total time=  14.9s\n",
            "[CV 3/5] END ....C=0.001, gamma=0.1, kernel=rbf;, score=0.102 total time=  15.0s\n",
            "[CV 4/5] END ....C=0.001, gamma=0.1, kernel=rbf;, score=0.102 total time=  14.9s\n",
            "[CV 5/5] END ....C=0.001, gamma=0.1, kernel=rbf;, score=0.102 total time=  17.3s\n",
            "[CV 1/5] END ...C=0.001, gamma=0.01, kernel=rbf;, score=0.102 total time=  20.4s\n",
            "[CV 2/5] END ...C=0.001, gamma=0.01, kernel=rbf;, score=0.102 total time=  20.6s\n",
            "[CV 3/5] END ...C=0.001, gamma=0.01, kernel=rbf;, score=0.102 total time=  22.4s\n",
            "[CV 4/5] END ...C=0.001, gamma=0.01, kernel=rbf;, score=0.102 total time=  15.5s\n",
            "[CV 5/5] END ...C=0.001, gamma=0.01, kernel=rbf;, score=0.102 total time=  14.9s\n",
            "[CV 1/5] END ..C=0.001, gamma=0.001, kernel=rbf;, score=0.102 total time=  14.9s\n",
            "[CV 2/5] END ..C=0.001, gamma=0.001, kernel=rbf;, score=0.102 total time=  14.9s\n",
            "[CV 3/5] END ..C=0.001, gamma=0.001, kernel=rbf;, score=0.102 total time=  14.9s\n",
            "[CV 4/5] END ..C=0.001, gamma=0.001, kernel=rbf;, score=0.102 total time=  19.5s\n",
            "[CV 5/5] END ..C=0.001, gamma=0.001, kernel=rbf;, score=0.102 total time=  20.9s\n",
            "[CV 1/5] END .C=0.001, gamma=0.0001, kernel=rbf;, score=0.102 total time=  24.7s\n",
            "[CV 2/5] END .C=0.001, gamma=0.0001, kernel=rbf;, score=0.102 total time=  18.9s\n",
            "[CV 3/5] END .C=0.001, gamma=0.0001, kernel=rbf;, score=0.102 total time=  16.2s\n",
            "[CV 4/5] END .C=0.001, gamma=0.0001, kernel=rbf;, score=0.102 total time=  16.1s\n",
            "[CV 5/5] END .C=0.001, gamma=0.0001, kernel=rbf;, score=0.102 total time=  16.2s\n",
            "[CV 1/5] END .......C=0.01, gamma=1, kernel=rbf;, score=0.102 total time=  20.6s\n",
            "[CV 2/5] END .......C=0.01, gamma=1, kernel=rbf;, score=0.102 total time=  19.7s\n",
            "[CV 3/5] END .......C=0.01, gamma=1, kernel=rbf;, score=0.102 total time=  19.7s\n",
            "[CV 4/5] END .......C=0.01, gamma=1, kernel=rbf;, score=0.102 total time=  19.8s\n",
            "[CV 5/5] END .......C=0.01, gamma=1, kernel=rbf;, score=0.102 total time=  15.7s\n",
            "[CV 1/5] END .....C=0.01, gamma=0.1, kernel=rbf;, score=0.102 total time=  15.0s\n",
            "[CV 2/5] END .....C=0.01, gamma=0.1, kernel=rbf;, score=0.102 total time=  15.1s\n",
            "[CV 3/5] END .....C=0.01, gamma=0.1, kernel=rbf;, score=0.102 total time=  15.0s\n",
            "[CV 4/5] END .....C=0.01, gamma=0.1, kernel=rbf;, score=0.102 total time=  16.0s\n",
            "[CV 5/5] END .....C=0.01, gamma=0.1, kernel=rbf;, score=0.102 total time=  20.4s\n",
            "[CV 1/5] END ....C=0.01, gamma=0.01, kernel=rbf;, score=0.102 total time=  21.3s\n",
            "[CV 2/5] END ....C=0.01, gamma=0.01, kernel=rbf;, score=0.102 total time=  21.3s\n",
            "[CV 3/5] END ....C=0.01, gamma=0.01, kernel=rbf;, score=0.102 total time=  17.4s\n",
            "[CV 4/5] END ....C=0.01, gamma=0.01, kernel=rbf;, score=0.102 total time=  15.3s\n",
            "[CV 5/5] END ....C=0.01, gamma=0.01, kernel=rbf;, score=0.102 total time=  15.0s\n",
            "[CV 1/5] END ...C=0.01, gamma=0.001, kernel=rbf;, score=0.102 total time=  15.0s\n",
            "[CV 2/5] END ...C=0.01, gamma=0.001, kernel=rbf;, score=0.102 total time=  16.3s\n",
            "[CV 3/5] END ...C=0.01, gamma=0.001, kernel=rbf;, score=0.102 total time=  17.3s\n",
            "[CV 4/5] END ...C=0.01, gamma=0.001, kernel=rbf;, score=0.102 total time=  21.6s\n",
            "[CV 5/5] END ...C=0.01, gamma=0.001, kernel=rbf;, score=0.102 total time=  22.4s\n",
            "[CV 1/5] END ..C=0.01, gamma=0.0001, kernel=rbf;, score=0.102 total time=  20.1s\n",
            "[CV 2/5] END ..C=0.01, gamma=0.0001, kernel=rbf;, score=0.102 total time=  16.8s\n",
            "[CV 3/5] END ..C=0.01, gamma=0.0001, kernel=rbf;, score=0.102 total time=  16.3s\n",
            "[CV 4/5] END ..C=0.01, gamma=0.0001, kernel=rbf;, score=0.102 total time=  21.1s\n",
            "[CV 5/5] END ..C=0.01, gamma=0.0001, kernel=rbf;, score=0.102 total time=  22.0s\n",
            "[CV 1/5] END ........C=0.1, gamma=1, kernel=rbf;, score=0.102 total time=  18.2s\n",
            "[CV 2/5] END ........C=0.1, gamma=1, kernel=rbf;, score=0.102 total time=  23.3s\n",
            "[CV 3/5] END ........C=0.1, gamma=1, kernel=rbf;, score=0.102 total time=  15.9s\n",
            "[CV 4/5] END ........C=0.1, gamma=1, kernel=rbf;, score=0.102 total time=  15.1s\n",
            "[CV 5/5] END ........C=0.1, gamma=1, kernel=rbf;, score=0.102 total time=  15.0s\n",
            "[CV 1/5] END ......C=0.1, gamma=0.1, kernel=rbf;, score=0.102 total time=  20.4s\n",
            "[CV 2/5] END ......C=0.1, gamma=0.1, kernel=rbf;, score=0.102 total time=  20.8s\n",
            "[CV 3/5] END ......C=0.1, gamma=0.1, kernel=rbf;, score=0.102 total time=  21.0s\n",
            "[CV 4/5] END ......C=0.1, gamma=0.1, kernel=rbf;, score=0.102 total time=  22.1s\n",
            "[CV 5/5] END ......C=0.1, gamma=0.1, kernel=rbf;, score=0.102 total time=  15.9s\n",
            "[CV 1/5] END .....C=0.1, gamma=0.01, kernel=rbf;, score=0.102 total time=  15.2s\n",
            "[CV 2/5] END .....C=0.1, gamma=0.01, kernel=rbf;, score=0.102 total time=  15.0s\n",
            "[CV 3/5] END .....C=0.1, gamma=0.01, kernel=rbf;, score=0.102 total time=  14.9s\n",
            "[CV 4/5] END .....C=0.1, gamma=0.01, kernel=rbf;, score=0.102 total time=  15.1s\n",
            "[CV 5/5] END .....C=0.1, gamma=0.01, kernel=rbf;, score=0.102 total time=  20.2s\n",
            "[CV 1/5] END ....C=0.1, gamma=0.001, kernel=rbf;, score=0.102 total time=  21.2s\n",
            "[CV 2/5] END ....C=0.1, gamma=0.001, kernel=rbf;, score=0.102 total time=  18.6s\n",
            "[CV 3/5] END ....C=0.1, gamma=0.001, kernel=rbf;, score=0.102 total time=  22.8s\n",
            "[CV 4/5] END ....C=0.1, gamma=0.001, kernel=rbf;, score=0.102 total time=  15.6s\n",
            "[CV 5/5] END ....C=0.1, gamma=0.001, kernel=rbf;, score=0.102 total time=  15.0s\n",
            "[CV 1/5] END ...C=0.1, gamma=0.0001, kernel=rbf;, score=0.102 total time=  16.4s\n",
            "[CV 2/5] END ...C=0.1, gamma=0.0001, kernel=rbf;, score=0.102 total time=  16.6s\n",
            "[CV 3/5] END ...C=0.1, gamma=0.0001, kernel=rbf;, score=0.102 total time=  18.7s\n",
            "[CV 4/5] END ...C=0.1, gamma=0.0001, kernel=rbf;, score=0.102 total time=  22.1s\n",
            "[CV 5/5] END ...C=0.1, gamma=0.0001, kernel=rbf;, score=0.102 total time=  23.6s\n",
            "[CV 1/5] END ..........C=1, gamma=1, kernel=rbf;, score=0.102 total time=  20.3s\n",
            "[CV 2/5] END ..........C=1, gamma=1, kernel=rbf;, score=0.102 total time=  15.5s\n",
            "[CV 3/5] END ..........C=1, gamma=1, kernel=rbf;, score=0.102 total time=  15.2s\n",
            "[CV 4/5] END ..........C=1, gamma=1, kernel=rbf;, score=0.102 total time=  15.2s\n",
            "[CV 5/5] END ..........C=1, gamma=1, kernel=rbf;, score=0.102 total time=  15.2s\n",
            "[CV 1/5] END ........C=1, gamma=0.1, kernel=rbf;, score=0.102 total time=  21.4s\n",
            "[CV 2/5] END ........C=1, gamma=0.1, kernel=rbf;, score=0.102 total time=  19.6s\n",
            "[CV 3/5] END ........C=1, gamma=0.1, kernel=rbf;, score=0.102 total time=  18.7s\n",
            "[CV 4/5] END ........C=1, gamma=0.1, kernel=rbf;, score=0.102 total time=  22.6s\n",
            "[CV 5/5] END ........C=1, gamma=0.1, kernel=rbf;, score=0.102 total time=  16.3s\n",
            "[CV 1/5] END .......C=1, gamma=0.01, kernel=rbf;, score=0.102 total time=  15.2s\n",
            "[CV 2/5] END .......C=1, gamma=0.01, kernel=rbf;, score=0.102 total time=  15.3s\n",
            "[CV 3/5] END .......C=1, gamma=0.01, kernel=rbf;, score=0.102 total time=  16.4s\n",
            "[CV 4/5] END .......C=1, gamma=0.01, kernel=rbf;, score=0.102 total time=  21.7s\n",
            "[CV 5/5] END .......C=1, gamma=0.01, kernel=rbf;, score=0.102 total time=  21.0s\n",
            "[CV 1/5] END ......C=1, gamma=0.001, kernel=rbf;, score=0.102 total time=  19.0s\n",
            "[CV 2/5] END ......C=1, gamma=0.001, kernel=rbf;, score=0.102 total time=  19.8s\n",
            "[CV 3/5] END ......C=1, gamma=0.001, kernel=rbf;, score=0.102 total time=  15.6s\n",
            "[CV 4/5] END ......C=1, gamma=0.001, kernel=rbf;, score=0.102 total time=  15.2s\n",
            "[CV 5/5] END ......C=1, gamma=0.001, kernel=rbf;, score=0.102 total time=  15.4s\n",
            "[CV 1/5] END .....C=1, gamma=0.0001, kernel=rbf;, score=0.102 total time=  18.1s\n",
            "[CV 2/5] END .....C=1, gamma=0.0001, kernel=rbf;, score=0.102 total time=  19.3s\n",
            "[CV 3/5] END .....C=1, gamma=0.0001, kernel=rbf;, score=0.102 total time=  25.6s\n",
            "[CV 4/5] END .....C=1, gamma=0.0001, kernel=rbf;, score=0.102 total time=  20.4s\n",
            "[CV 5/5] END .....C=1, gamma=0.0001, kernel=rbf;, score=0.102 total time=  18.0s\n",
            "[CV 1/5] END .........C=10, gamma=1, kernel=rbf;, score=0.102 total time=  17.5s\n",
            "[CV 2/5] END .........C=10, gamma=1, kernel=rbf;, score=0.102 total time=  15.3s\n",
            "[CV 3/5] END .........C=10, gamma=1, kernel=rbf;, score=0.102 total time=  15.2s\n",
            "[CV 4/5] END .........C=10, gamma=1, kernel=rbf;, score=0.102 total time=  17.3s\n",
            "[CV 5/5] END .........C=10, gamma=1, kernel=rbf;, score=0.102 total time=  17.8s\n",
            "[CV 1/5] END .......C=10, gamma=0.1, kernel=rbf;, score=0.102 total time=  18.4s\n",
            "[CV 2/5] END .......C=10, gamma=0.1, kernel=rbf;, score=0.102 total time=  20.4s\n",
            "[CV 3/5] END .......C=10, gamma=0.1, kernel=rbf;, score=0.102 total time=  19.8s\n",
            "[CV 4/5] END .......C=10, gamma=0.1, kernel=rbf;, score=0.102 total time=  15.6s\n",
            "[CV 5/5] END .......C=10, gamma=0.1, kernel=rbf;, score=0.102 total time=  15.2s\n",
            "[CV 1/5] END ......C=10, gamma=0.01, kernel=rbf;, score=0.102 total time=  15.2s\n",
            "[CV 2/5] END ......C=10, gamma=0.01, kernel=rbf;, score=0.102 total time=  15.3s\n",
            "[CV 3/5] END ......C=10, gamma=0.01, kernel=rbf;, score=0.102 total time=  20.0s\n",
            "[CV 4/5] END ......C=10, gamma=0.01, kernel=rbf;, score=0.102 total time=  20.6s\n",
            "[CV 5/5] END ......C=10, gamma=0.01, kernel=rbf;, score=0.102 total time=  18.2s\n",
            "[CV 1/5] END .....C=10, gamma=0.001, kernel=rbf;, score=0.102 total time=  22.2s\n",
            "[CV 2/5] END .....C=10, gamma=0.001, kernel=rbf;, score=0.102 total time=  15.8s\n",
            "[CV 3/5] END .....C=10, gamma=0.001, kernel=rbf;, score=0.102 total time=  15.2s\n",
            "[CV 4/5] END .....C=10, gamma=0.001, kernel=rbf;, score=0.102 total time=  15.3s\n",
            "[CV 5/5] END .....C=10, gamma=0.001, kernel=rbf;, score=0.102 total time=  15.3s\n",
            "[CV 1/5] END ....C=10, gamma=0.0001, kernel=rbf;, score=0.102 total time=  19.8s\n",
            "[CV 2/5] END ....C=10, gamma=0.0001, kernel=rbf;, score=0.102 total time=  22.1s\n",
            "[CV 3/5] END ....C=10, gamma=0.0001, kernel=rbf;, score=0.102 total time=  21.1s\n",
            "[CV 4/5] END ....C=10, gamma=0.0001, kernel=rbf;, score=0.102 total time=  24.4s\n",
            "[CV 5/5] END ....C=10, gamma=0.0001, kernel=rbf;, score=0.102 total time=  17.3s\n"
          ]
        },
        {
          "data": {
            "text/plain": [
              "GridSearchCV(estimator=SVC(),\n",
              "             param_grid={'C': [0.001, 0.01, 0.1, 1, 10],\n",
              "                         'gamma': [1, 0.1, 0.01, 0.001, 0.0001],\n",
              "                         'kernel': ['rbf']},\n",
              "             verbose=3)"
            ]
          },
          "execution_count": 20,
          "metadata": {},
          "output_type": "execute_result"
        },
        {
          "name": "stdout",
          "output_type": "stream",
          "text": [
            "time: 38min 4s (started: 2021-12-10 10:38:28 +00:00)\n"
          ]
        }
      ],
      "source": [
        "# SVM Model: Reduced train set\n",
        "# Grid search CV: using testing set because it is smaller and split it into test \n",
        "\n",
        "# Randomly picking ONLY 10 percent of the 10 000 entries to do the gridsearch.\n",
        "# That way I can speed up the computation and still pick the best model\n",
        "# This is obviously done only because theis is an exercize to learn about the methods\n",
        "\n",
        "\n",
        "# Total input = 60 000 samples from train_images_f\n",
        "# test_size to 90% --> training size = 10%\n",
        "# given the previous run on only 10 000 took 25 minutes 5000 train / 5000 test\n",
        "# I guess it will run roughly 40 (I was right)\n",
        "\n",
        "X_train_ten, X_test_ninty, y_train_ten, y_test_ninty = train_test_split(\n",
        "    train_images_f, train_labels, test_size=0.90, stratify=all_labels) \n",
        "\n",
        "parameters_grid = {'C':[0.001, 0.01, 0.1, 1, 10], 'gamma': [1, 0.1, 0.01, 0.001, 0.0001],\n",
        "            'kernel': ['rbf']}\n",
        "grid = GridSearchCV(SVC(),parameters_grid, refit = True, verbose = 3)\n",
        "grid.fit(X_train_ten, y_train_ten)"
      ]
    },
    {
      "cell_type": "markdown",
      "metadata": {
        "id": "hAr_osYTHg10"
      },
      "source": [
        "I want to know the best parameters obtained in the grid search cross validation. See the functions below:"
      ]
    },
    {
      "cell_type": "code",
      "execution_count": null,
      "metadata": {
        "colab": {
          "base_uri": "https://localhost:8080/"
        },
        "id": "yNWBsqTrAh0m",
        "outputId": "70b9f108-9d22-4698-ca53-6851eb3ec008"
      },
      "outputs": [
        {
          "name": "stdout",
          "output_type": "stream",
          "text": [
            "[0.10233333 0.10233333 0.10233333 0.10233333 0.10233333 0.10233333\n",
            " 0.10233333 0.10233333 0.10233333 0.10233333 0.10233333 0.10233333\n",
            " 0.10233333 0.10233333 0.10233333 0.10233333 0.10233333 0.10233333\n",
            " 0.10233333 0.10233333 0.10233333 0.10233333 0.10233333 0.10233333\n",
            " 0.10233333]\n",
            "time: 3.47 ms (started: 2021-12-10 20:25:13 +00:00)\n"
          ]
        }
      ],
      "source": [
        "# trained on 6000 samples tested on 54000\n",
        "svm_grid_search_mean_test_score = grid.cv_results_['mean_test_score']\n",
        "print(svm_grid_search_mean_test_score)"
      ]
    },
    {
      "cell_type": "code",
      "execution_count": null,
      "metadata": {
        "colab": {
          "base_uri": "https://localhost:8080/"
        },
        "id": "3NHeZas5BLyZ",
        "outputId": "c5ffdf00-3c2c-47d1-c87a-a53486c4e7ba"
      },
      "outputs": [
        {
          "data": {
            "text/plain": [
              "0"
            ]
          },
          "execution_count": 56,
          "metadata": {},
          "output_type": "execute_result"
        },
        {
          "name": "stdout",
          "output_type": "stream",
          "text": [
            "time: 12.3 ms (started: 2021-12-10 20:24:59 +00:00)\n"
          ]
        }
      ],
      "source": [
        "np.argmax(svm_grid_search_mean_test_score)"
      ]
    },
    {
      "cell_type": "code",
      "execution_count": null,
      "metadata": {
        "colab": {
          "base_uri": "https://localhost:8080/"
        },
        "id": "M8CeMnZEHfli",
        "outputId": "e3abe73b-476d-4155-e277-0686f992b1f5"
      },
      "outputs": [
        {
          "name": "stdout",
          "output_type": "stream",
          "text": [
            "{'C': 0.001, 'gamma': 1, 'kernel': 'rbf'}\n",
            "SVC(C=0.001, gamma=1)\n",
            "time: 4.81 ms (started: 2021-12-10 12:03:36 +00:00)\n"
          ]
        }
      ],
      "source": [
        "# trained on 6000 samples tested on 54000\n",
        "print(grid.cv_results_)\n",
        "\n",
        "# printing best parameter after tuning\n",
        "print(grid.best_params_)\n",
        " \n",
        "# printing how my model looks after hyper-parameter tuning\n",
        "print(grid.best_estimator_)"
      ]
    },
    {
      "cell_type": "markdown",
      "metadata": {
        "id": "V32obQAkCPPm"
      },
      "source": [
        "In the output of the cell above we can see that the best performance was achieved with the following parameters: \n",
        "\n",
        "* C of 0.001\n",
        "* $\\gamma$ of 0.0001\n",
        "\n",
        "I have used only an rbf kernel.\n",
        "\n",
        "```\n",
        "{'C': 0.001, 'gamma': 1, 'kernel': 'rbf'}\n",
        "SVC(C=0.001, gamma=1)\n",
        "time: 6.41 ms (started: 2021-12-10 11:33:43 +00:00)\n",
        "```\n",
        "I will do the actual run on the entire dataset with the 'real size' train test\n",
        "split: I will use these parameters to train and test the final SVM model on the 'original' train_images / _labels and test_images / _labels as these splits are perfectly balanced. See figures in section [2.4 Visualizing the distribution of classes within training and testing set](https://colab.research.google.com/drive/1gVS_R4GPpgS9GpumwBETzsln9vwhAfle#scrollTo=a51e_G8o4HaJ)."
      ]
    },
    {
      "cell_type": "code",
      "execution_count": null,
      "metadata": {
        "colab": {
          "base_uri": "https://localhost:8080/"
        },
        "id": "id5Snwe4D04R",
        "outputId": "b065024b-01e4-4380-bbb1-9326d4e68364"
      },
      "outputs": [
        {
          "name": "stdout",
          "output_type": "stream",
          "text": [
            "(60000, 784)\n",
            "(10000, 784)\n",
            "time: 1.4 ms (started: 2021-12-10 12:14:56 +00:00)\n"
          ]
        }
      ],
      "source": [
        "print(train_images_f.shape)\n",
        "print(test_images_f.shape)"
      ]
    },
    {
      "cell_type": "markdown",
      "source": [
        "# SVM\n",
        "\n",
        "Explain PCA and why\n",
        "\n",
        "# K-Nearest Neighbors\n",
        "\n",
        "K-Nearest Neighbors (KNN) is one of the simplest algorithms used in ML and uses the training data given in input to classify new data points based on **similarity measures** such as the distance function. The classification is done by a majority vote to its **neighbors**. Choosing the $k$ in KNN is done by parameter tuning. \n",
        "\n",
        "The advantage of KNN is its time complexity $\\O(n*d)\n",
        "\n",
        "For: \n",
        "\n",
        "* $n$: number of points in the training dataset\n",
        "* $d$: data dimensionality\n",
        "* $k$: number of neighbors that we consider for voting\n",
        "\n",
        "\n",
        "We can usse the following methods:\n",
        "\n",
        "* Brute force method\n",
        "    * Were \n",
        "        * training time complexity is $O(1)$\n",
        "        * prediciton time is $O(k*n*d)$\n",
        "        * prediciton space complexity is $O(1)\n",
        "* $k-d$ tree method\n",
        "    * Were\n",
        "        * training time complexity is $O(d * n * log(n))$\n",
        "        * training space complexity is $O(d * n)$\n",
        "        * prediciton time complexity is $O(k * log(n))$\n",
        "        * prediciton space complexity is $O(1)$\n",
        "* Ball tree method\n",
        "    * Where\n",
        "        * training time complexity: O(d * n * log(n))\n",
        "        * training space complexity: O(d * n)\n",
        "        * prediction time complexity: O(k * log(n))\n",
        "        * prediction space complexity: O(1)\n",
        "\n",
        "Resources:\n",
        "\n",
        "[KNN explained](https://towardsdatascience.com/k-nearest-neighbors-computational-complexity-502d2c440d5)\n",
        "\n",
        "[Time complexity](https://stats.stackexchange.com/questions/219655/k-nn-computational-complexity)\n",
        "\n",
        "[sklearn knn documentation](https://scikit-learn.org/stable/modules/generated/sklearn.neighbors.KNeighborsClassifier.html)\n",
        "\n"
      ],
      "metadata": {
        "id": "kC_C7gRyYvJt"
      }
    },
    {
      "cell_type": "code",
      "execution_count": null,
      "metadata": {
        "colab": {
          "base_uri": "https://localhost:8080/"
        },
        "id": "A7ZtHKQXyFI_",
        "outputId": "18562964-0c6a-4b41-dfeb-fd3a6c8c874f"
      },
      "outputs": [
        {
          "name": "stdout",
          "output_type": "stream",
          "text": [
            "time: 1h 45min 37s (started: 2021-12-10 14:41:09 +00:00)\n"
          ]
        }
      ],
      "source": [
        "start_svm = time.time()\n",
        "# picking the best split generating model from ACTUAL training data and \n",
        "# testing on testing data\n",
        "svc = SVC(C=0.001, kernel='rbf', gamma=1)\n",
        "svc.fit(train_images_f, train_labels)\n",
        "\n",
        "end_svm = time.time()\n",
        "svm_time = end_svm-start_svm"
      ]
    },
    {
      "cell_type": "code",
      "source": [
        "# ORIGINAL:"
      ],
      "metadata": {
        "id": "pHI0cqAZj4ht"
      },
      "execution_count": null,
      "outputs": []
    },
    {
      "cell_type": "code",
      "execution_count": null,
      "metadata": {
        "colab": {
          "base_uri": "https://localhost:8080/"
        },
        "id": "j_TLQ-fryabg",
        "outputId": "19bc8c6a-cc0c-4a71-fbca-aeb9687be023"
      },
      "outputs": [
        {
          "name": "stdout",
          "output_type": "stream",
          "text": [
            "time: 40.9 s (started: 2021-12-10 16:28:44 +00:00)\n"
          ]
        }
      ],
      "source": [
        "## KNN Model\n",
        "start_knn = time.time()\n",
        "\n",
        "knn = KNeighborsClassifier(n_neighbors=5)\n",
        "knn.fit(train_images_f, train_labels)\n",
        "knn_pred_labels = knn.predict(test_images_f)\n",
        "\n",
        "end_knn = time.time()\n",
        "knn_time = end_knn-start_knn"
      ]
    },
    {
      "cell_type": "code",
      "source": [
        "## 1. KNN Model BRUTE FORCE = bf\n",
        "start_knn_bf = time.time()\n",
        "\n",
        "knn_bf = KNeighborsClassifier(n_neighbors=5, algorithm='brute')\n",
        "knn_bf.fit(train_images_f, train_labels)\n",
        "knn_bf_pred_labels = knn_bf.predict(test_images_f)\n",
        "\n",
        "end_knn_bf = time.time()\n",
        "knn_bf_time = end_knn_bf-start_knn_bf"
      ],
      "metadata": {
        "id": "-0hgyf99i9Jt"
      },
      "execution_count": null,
      "outputs": []
    },
    {
      "cell_type": "code",
      "source": [
        "## 2. KNN Model: k d tree = kd\n",
        "start_knn_kd = time.time()\n",
        "\n",
        "knn_kd = KNeighborsClassifier(n_neighbors=5)\n",
        "knn_kd.fit(train_images_f, train_labels)\n",
        "knn_kd_pred_labels = knn_kd.predict(test_images_f)\n",
        "\n",
        "end_knn_kd = time.time()\n",
        "knn_time_kd = end_knn_kd-start_knn_kd"
      ],
      "metadata": {
        "id": "_1EIN6uJjWqt"
      },
      "execution_count": null,
      "outputs": []
    },
    {
      "cell_type": "code",
      "source": [
        "## 3. KNN Model: ball tree = bt\n",
        "start_knn_bt = time.time()\n",
        "\n",
        "knn_bt = KNeighborsClassifier(n_neighbors=5)\n",
        "knn_bt.fit(train_images_f, train_labels)\n",
        "knn_bt_pred_labels = knn_bt.predict(test_images_f)\n",
        "\n",
        "end_knn_bt = time.time()\n",
        "knn_time = end_knn_bt-start_knn_bt"
      ],
      "metadata": {
        "id": "Kd3GpN1umhwy"
      },
      "execution_count": null,
      "outputs": []
    },
    {
      "cell_type": "code",
      "execution_count": null,
      "metadata": {
        "colab": {
          "base_uri": "https://localhost:8080/"
        },
        "id": "FDISNZrmyfBI",
        "outputId": "edf8dfd9-cb37-4676-98bd-ce36a96e1940"
      },
      "outputs": [
        {
          "name": "stdout",
          "output_type": "stream",
          "text": [
            "time: 46.3 s (started: 2021-12-10 16:29:42 +00:00)\n"
          ]
        }
      ],
      "source": [
        "# Decision Tree\n",
        "start_dt = time.time()\n",
        "\n",
        "tree = DecisionTreeClassifier(max_depth=100, criterion='entropy')\n",
        "tree.fit(train_images_f, train_labels)\n",
        "\n",
        "end_dt = time.time()\n",
        "dt_time = end_dt-start_dt\n"
      ]
    },
    {
      "cell_type": "code",
      "execution_count": null,
      "metadata": {
        "colab": {
          "base_uri": "https://localhost:8080/"
        },
        "id": "fr4wkxzqeMyU",
        "outputId": "ecdfa608-9157-4fa5-db06-1fce5618c96a"
      },
      "outputs": [
        {
          "name": "stdout",
          "output_type": "stream",
          "text": [
            "time: 2min 7s (started: 2021-12-10 16:30:28 +00:00)\n"
          ]
        }
      ],
      "source": [
        "# Random Forest\n",
        "start_rf = time.time()\n",
        "\n",
        "random_forest = RandomForestClassifier(criterion='entropy', max_depth=70, n_estimators=100)\n",
        "random_forest.fit(train_images_f, train_labels)\n",
        "\n",
        "end_rf = time.time()\n",
        "rf_time = end_rf-start_rf\n",
        "\n",
        "\n",
        "\n"
      ]
    },
    {
      "cell_type": "code",
      "execution_count": null,
      "metadata": {
        "colab": {
          "base_uri": "https://localhost:8080/"
        },
        "id": "RNI0A2lpxj8v",
        "outputId": "b0bd2805-e5b7-47d9-c678-f722ce2dc384"
      },
      "outputs": [
        {
          "name": "stdout",
          "output_type": "stream",
          "text": [
            "SVM Time: 105.62 minute\n",
            "KNN Time: 0.68 minute\n",
            "Decision Tree Time: 0.77 minute\n",
            "Random Forest Time: 2.12 minute\n",
            "time: 2.42 ms (started: 2021-12-10 16:32:46 +00:00)\n"
          ]
        }
      ],
      "source": [
        "print(\"SVM Time: {:0.2f} minute\".format(svm_time/60.0))\n",
        "print(\"KNN Time: {:0.2f} minute\".format(knn_time/60.0))\n",
        "print(\"Decision Tree Time: {:0.2f} minute\".format(dt_time/60.0))\n",
        "print(\"Random Forest Time: {:0.2f} minute\".format(rf_time/60.0))\n"
      ]
    },
    {
      "cell_type": "code",
      "execution_count": null,
      "metadata": {
        "colab": {
          "base_uri": "https://localhost:8080/"
        },
        "id": "Zm9bcl-QOISw",
        "outputId": "c7018098-2a3a-446b-8bb0-2b86efdb4907"
      },
      "outputs": [
        {
          "name": "stdout",
          "output_type": "stream",
          "text": [
            "              precision    recall  f1-score   support\n",
            "\n",
            "           0       1.00      0.00      0.00      1000\n",
            "           1       0.00      0.00      0.00      1000\n",
            "           2       0.00      0.00      0.00      1000\n",
            "           3       0.00      0.00      0.00      1000\n",
            "           4       0.00      0.00      0.00      1000\n",
            "           5       0.00      0.00      0.00      1000\n",
            "           6       0.00      0.00      0.00      1000\n",
            "           7       0.00      0.00      0.00      1000\n",
            "           8       0.00      0.00      0.00      1000\n",
            "           9       0.10      1.00      0.18      1000\n",
            "\n",
            "    accuracy                           0.10     10000\n",
            "   macro avg       0.11      0.10      0.02     10000\n",
            "weighted avg       0.11      0.10      0.02     10000\n",
            "\n",
            "time: 10min 29s (started: 2021-12-10 18:47:29 +00:00)\n"
          ]
        },
        {
          "name": "stderr",
          "output_type": "stream",
          "text": [
            "/usr/local/lib/python3.7/dist-packages/sklearn/metrics/_classification.py:1308: UndefinedMetricWarning: Precision and F-score are ill-defined and being set to 0.0 in labels with no predicted samples. Use `zero_division` parameter to control this behavior.\n",
            "  _warn_prf(average, modifier, msg_start, len(result))\n",
            "/usr/local/lib/python3.7/dist-packages/sklearn/metrics/_classification.py:1308: UndefinedMetricWarning: Precision and F-score are ill-defined and being set to 0.0 in labels with no predicted samples. Use `zero_division` parameter to control this behavior.\n",
            "  _warn_prf(average, modifier, msg_start, len(result))\n",
            "/usr/local/lib/python3.7/dist-packages/sklearn/metrics/_classification.py:1308: UndefinedMetricWarning: Precision and F-score are ill-defined and being set to 0.0 in labels with no predicted samples. Use `zero_division` parameter to control this behavior.\n",
            "  _warn_prf(average, modifier, msg_start, len(result))\n"
          ]
        }
      ],
      "source": [
        "# train the model on train set\n",
        "# model = SVC()\n",
        "# model.fit(X_train, y_train)\n",
        " \n",
        "# print prediction results\n",
        "svm_predictions = svc.predict(test_images_f)\n"
      ]
    },
    {
      "cell_type": "code",
      "execution_count": null,
      "metadata": {
        "colab": {
          "base_uri": "https://localhost:8080/"
        },
        "id": "wD9s2XJrrDsH",
        "outputId": "f3a91b35-e9a6-441f-b6d0-26bf1d746f29"
      },
      "outputs": [
        {
          "name": "stdout",
          "output_type": "stream",
          "text": [
            "              precision    recall  f1-score   support\n",
            "\n",
            "           0       1.00      0.00      0.00      1000\n",
            "           1       0.00      0.00      0.00      1000\n",
            "           2       0.00      0.00      0.00      1000\n",
            "           3       0.00      0.00      0.00      1000\n",
            "           4       0.00      0.00      0.00      1000\n",
            "           5       0.00      0.00      0.00      1000\n",
            "           6       0.00      0.00      0.00      1000\n",
            "           7       0.00      0.00      0.00      1000\n",
            "           8       0.00      0.00      0.00      1000\n",
            "           9       0.10      1.00      0.18      1000\n",
            "\n",
            "    accuracy                           0.10     10000\n",
            "   macro avg       0.11      0.10      0.02     10000\n",
            "weighted avg       0.11      0.10      0.02     10000\n",
            "\n",
            "time: 30.7 ms (started: 2021-12-10 18:57:58 +00:00)\n"
          ]
        },
        {
          "name": "stderr",
          "output_type": "stream",
          "text": [
            "/usr/local/lib/python3.7/dist-packages/sklearn/metrics/_classification.py:1308: UndefinedMetricWarning: Precision and F-score are ill-defined and being set to 0.0 in labels with no predicted samples. Use `zero_division` parameter to control this behavior.\n",
            "  _warn_prf(average, modifier, msg_start, len(result))\n",
            "/usr/local/lib/python3.7/dist-packages/sklearn/metrics/_classification.py:1308: UndefinedMetricWarning: Precision and F-score are ill-defined and being set to 0.0 in labels with no predicted samples. Use `zero_division` parameter to control this behavior.\n",
            "  _warn_prf(average, modifier, msg_start, len(result))\n",
            "/usr/local/lib/python3.7/dist-packages/sklearn/metrics/_classification.py:1308: UndefinedMetricWarning: Precision and F-score are ill-defined and being set to 0.0 in labels with no predicted samples. Use `zero_division` parameter to control this behavior.\n",
            "  _warn_prf(average, modifier, msg_start, len(result))\n"
          ]
        }
      ],
      "source": [
        "print(classification_report(test_labels, svm_predictions))"
      ]
    },
    {
      "cell_type": "code",
      "execution_count": null,
      "metadata": {
        "colab": {
          "base_uri": "https://localhost:8080/"
        },
        "id": "BgNqAOhM4E8v",
        "outputId": "94b3fa69-aebc-4f6d-85d2-724608dd9222"
      },
      "outputs": [
        {
          "name": "stdout",
          "output_type": "stream",
          "text": [
            "              precision    recall  f1-score   support\n",
            "\n",
            "           0       1.00      0.00      0.00      1000\n",
            "           1       0.00      0.00      0.00      1000\n",
            "           2       0.00      0.00      0.00      1000\n",
            "           3       0.00      0.00      0.00      1000\n",
            "           4       0.00      0.00      0.00      1000\n",
            "           5       0.00      0.00      0.00      1000\n",
            "           6       0.00      0.00      0.00      1000\n",
            "           7       0.00      0.00      0.00      1000\n",
            "           8       0.00      0.00      0.00      1000\n",
            "           9       0.10      1.00      0.18      1000\n",
            "\n",
            "    accuracy                           0.10     10000\n",
            "   macro avg       0.11      0.10      0.02     10000\n",
            "weighted avg       0.11      0.10      0.02     10000\n",
            "\n",
            "time: 32.8 ms (started: 2021-12-10 19:47:59 +00:00)\n"
          ]
        },
        {
          "name": "stderr",
          "output_type": "stream",
          "text": [
            "/usr/local/lib/python3.7/dist-packages/sklearn/metrics/_classification.py:1308: UndefinedMetricWarning: Precision and F-score are ill-defined and being set to 0.0 in labels with no predicted samples. Use `zero_division` parameter to control this behavior.\n",
            "  _warn_prf(average, modifier, msg_start, len(result))\n",
            "/usr/local/lib/python3.7/dist-packages/sklearn/metrics/_classification.py:1308: UndefinedMetricWarning: Precision and F-score are ill-defined and being set to 0.0 in labels with no predicted samples. Use `zero_division` parameter to control this behavior.\n",
            "  _warn_prf(average, modifier, msg_start, len(result))\n",
            "/usr/local/lib/python3.7/dist-packages/sklearn/metrics/_classification.py:1308: UndefinedMetricWarning: Precision and F-score are ill-defined and being set to 0.0 in labels with no predicted samples. Use `zero_division` parameter to control this behavior.\n",
            "  _warn_prf(average, modifier, msg_start, len(result))\n"
          ]
        }
      ],
      "source": [
        "print(metrics.classification_report(test_labels, svm_predictions))"
      ]
    },
    {
      "cell_type": "markdown",
      "metadata": {
        "id": "lB-AV5SQn-eL"
      },
      "source": [
        "# 4. Generating a Decision Tree\n",
        "\n",
        "DT is a supervised learning model that can be used to solve classification as well as regression problems. It uses a tree-like model of decisions and their possible concequences to solve the problem. Each internal node represents an attribute and each leaf node represents a class label [see](https://en.wikipedia.org/wiki/Decision_tree). The advantage of DT is that it requires very little preparation of data when comparing it to other methods. In addition the training process is rather fast in comarision to other methods.\n",
        "\n",
        "As always, overfitting can be an issue but this can be mitigated by setting a **maximum depth of the tree**, a **minimum number of samples required at a leaf split**, a **dimensionality reduction** or **pruning**. The simpler the model the less likely it is overfitting.\n",
        "\n",
        "\n",
        "We flatten and reshape the data.\n",
        "\n",
        "We do several trees with different depths rangeing from 1 - 25. We decide the desired depth according to the plateau of the accuracy.\n"
      ]
    },
    {
      "cell_type": "code",
      "execution_count": null,
      "metadata": {
        "id": "HN6DLo_fs-wr"
      },
      "outputs": [],
      "source": [
        "# # list holding accuracy of DT:\n",
        "# dt_acc = []\n",
        "\n",
        "# # loop for generating different trees:\n",
        "# for i in range(25):\n",
        "#   # decision tree classifier = dt_clf\n",
        "#   dt_clf = tree.DecisionTreeClassifier(max_depth=i+1, random_state=0)\n",
        "#   # fitting model\n",
        "#   dt_clf.fit(train_images_re, train_labels)\n",
        "#   # predictions; dt_pred\n",
        "#   dt_pred =  dt_clf.predict(test_images_re)\n",
        "#   # appending acc score to dt_acc\n",
        "#   dt_acc.append(accuracy_score(test_labels, dt_pred))\n",
        "#   # to stdout\n",
        "#   print('Depth: ', (i+1), 'Accuracy: ', accuracy_score(test_labels, dt_pred))\n",
        "\n"
      ]
    },
    {
      "cell_type": "markdown",
      "metadata": {
        "id": "kFTqKaA2y_QN"
      },
      "source": [
        ""
      ]
    },
    {
      "cell_type": "code",
      "execution_count": null,
      "metadata": {
        "colab": {
          "base_uri": "https://localhost:8080/"
        },
        "id": "7-u9BxQ51T50",
        "outputId": "43096291-b488-4ecb-e7ba-ae042772cf88"
      },
      "outputs": [
        {
          "data": {
            "text/plain": [
              "(10000, 28, 28)"
            ]
          },
          "execution_count": 5,
          "metadata": {},
          "output_type": "execute_result"
        }
      ],
      "source": [
        "# plt.plot(list(range(1,26)), dt_acc)\n",
        "# plt.ylabel('Accuracy')\n",
        "# plt.xlabel('Maximum Depth')\n",
        "# plt.grid(True)\n",
        "\n",
        "test_images.shape"
      ]
    },
    {
      "cell_type": "code",
      "execution_count": null,
      "metadata": {
        "colab": {
          "base_uri": "https://localhost:8080/"
        },
        "id": "M_SAjmi_M3pL",
        "outputId": "0de9c845-5377-4c13-aa98-cb6e318db273"
      },
      "outputs": [
        {
          "name": "stdout",
          "output_type": "stream",
          "text": [
            "Fitting 5 folds for each of 50 candidates, totalling 250 fits\n",
            "[CV 1/5] END ......C=0.001, gamma=1, kernel=rbf;, score=0.105 total time=  23.6s\n",
            "[CV 2/5] END ......C=0.001, gamma=1, kernel=rbf;, score=0.105 total time=  25.2s\n",
            "[CV 3/5] END ......C=0.001, gamma=1, kernel=rbf;, score=0.104 total time=  24.9s\n",
            "[CV 4/5] END ......C=0.001, gamma=1, kernel=rbf;, score=0.104 total time=  23.3s\n",
            "[CV 5/5] END ......C=0.001, gamma=1, kernel=rbf;, score=0.105 total time=  24.3s\n",
            "[CV 1/5] END .....C=0.001, gamma=1, kernel=poly;, score=0.811 total time=   2.7s\n",
            "[CV 2/5] END .....C=0.001, gamma=1, kernel=poly;, score=0.836 total time=   3.0s\n",
            "[CV 3/5] END .....C=0.001, gamma=1, kernel=poly;, score=0.824 total time=   3.1s\n",
            "[CV 4/5] END .....C=0.001, gamma=1, kernel=poly;, score=0.824 total time=   3.1s\n",
            "[CV 5/5] END .....C=0.001, gamma=1, kernel=poly;, score=0.828 total time=   2.9s\n",
            "[CV 1/5] END ....C=0.001, gamma=0.1, kernel=rbf;, score=0.105 total time=  24.4s\n",
            "[CV 2/5] END ....C=0.001, gamma=0.1, kernel=rbf;, score=0.105 total time=  23.9s\n",
            "[CV 3/5] END ....C=0.001, gamma=0.1, kernel=rbf;, score=0.104 total time=  25.0s\n",
            "[CV 4/5] END ....C=0.001, gamma=0.1, kernel=rbf;, score=0.104 total time=  25.0s\n",
            "[CV 5/5] END ....C=0.001, gamma=0.1, kernel=rbf;, score=0.105 total time=  25.3s\n",
            "[CV 1/5] END ...C=0.001, gamma=0.1, kernel=poly;, score=0.781 total time=   4.4s\n",
            "[CV 2/5] END ...C=0.001, gamma=0.1, kernel=poly;, score=0.804 total time=   4.7s\n",
            "[CV 3/5] END ...C=0.001, gamma=0.1, kernel=poly;, score=0.807 total time=   5.3s\n",
            "[CV 4/5] END ...C=0.001, gamma=0.1, kernel=poly;, score=0.798 total time=   5.3s\n",
            "[CV 5/5] END ...C=0.001, gamma=0.1, kernel=poly;, score=0.799 total time=   5.2s\n",
            "[CV 1/5] END ...C=0.001, gamma=0.01, kernel=rbf;, score=0.105 total time=  25.1s\n",
            "[CV 2/5] END ...C=0.001, gamma=0.01, kernel=rbf;, score=0.105 total time=  25.3s\n",
            "[CV 3/5] END ...C=0.001, gamma=0.01, kernel=rbf;, score=0.104 total time=  25.3s\n",
            "[CV 4/5] END ...C=0.001, gamma=0.01, kernel=rbf;, score=0.104 total time=  24.9s\n",
            "[CV 5/5] END ...C=0.001, gamma=0.01, kernel=rbf;, score=0.105 total time=  23.9s\n",
            "[CV 1/5] END ..C=0.001, gamma=0.01, kernel=poly;, score=0.407 total time=  18.3s\n",
            "[CV 2/5] END ..C=0.001, gamma=0.01, kernel=poly;, score=0.409 total time=  18.8s\n",
            "[CV 3/5] END ..C=0.001, gamma=0.01, kernel=poly;, score=0.427 total time=  18.6s\n",
            "[CV 4/5] END ..C=0.001, gamma=0.01, kernel=poly;, score=0.421 total time=  17.9s\n",
            "[CV 5/5] END ..C=0.001, gamma=0.01, kernel=poly;, score=0.418 total time=  18.3s\n",
            "[CV 1/5] END ..C=0.001, gamma=0.001, kernel=rbf;, score=0.105 total time=  25.4s\n",
            "[CV 2/5] END ..C=0.001, gamma=0.001, kernel=rbf;, score=0.105 total time=  24.9s\n",
            "[CV 3/5] END ..C=0.001, gamma=0.001, kernel=rbf;, score=0.104 total time=  24.8s\n",
            "[CV 4/5] END ..C=0.001, gamma=0.001, kernel=rbf;, score=0.104 total time=  24.1s\n",
            "[CV 5/5] END ..C=0.001, gamma=0.001, kernel=rbf;, score=0.105 total time=  24.5s\n",
            "[CV 1/5] END .C=0.001, gamma=0.001, kernel=poly;, score=0.105 total time=  20.7s\n",
            "[CV 2/5] END .C=0.001, gamma=0.001, kernel=poly;, score=0.105 total time=  19.7s\n",
            "[CV 3/5] END .C=0.001, gamma=0.001, kernel=poly;, score=0.104 total time=  20.0s\n",
            "[CV 4/5] END .C=0.001, gamma=0.001, kernel=poly;, score=0.104 total time=  20.0s\n",
            "[CV 5/5] END .C=0.001, gamma=0.001, kernel=poly;, score=0.105 total time=  20.9s\n",
            "[CV 1/5] END .C=0.001, gamma=0.0001, kernel=rbf;, score=0.105 total time=  24.0s\n",
            "[CV 2/5] END .C=0.001, gamma=0.0001, kernel=rbf;, score=0.105 total time=  24.7s\n",
            "[CV 3/5] END .C=0.001, gamma=0.0001, kernel=rbf;, score=0.104 total time=  24.8s\n",
            "[CV 4/5] END .C=0.001, gamma=0.0001, kernel=rbf;, score=0.104 total time=  24.5s\n",
            "[CV 5/5] END .C=0.001, gamma=0.0001, kernel=rbf;, score=0.105 total time=  24.3s\n",
            "[CV 1/5] END C=0.001, gamma=0.0001, kernel=poly;, score=0.105 total time=  20.4s\n",
            "[CV 2/5] END C=0.001, gamma=0.0001, kernel=poly;, score=0.105 total time=  20.1s\n",
            "[CV 3/5] END C=0.001, gamma=0.0001, kernel=poly;, score=0.104 total time=  20.2s\n",
            "[CV 4/5] END C=0.001, gamma=0.0001, kernel=poly;, score=0.104 total time=  20.8s\n",
            "[CV 5/5] END C=0.001, gamma=0.0001, kernel=poly;, score=0.105 total time=  20.0s\n",
            "[CV 1/5] END .......C=0.01, gamma=1, kernel=rbf;, score=0.105 total time=  24.8s\n",
            "[CV 2/5] END .......C=0.01, gamma=1, kernel=rbf;, score=0.105 total time=  26.6s\n",
            "[CV 3/5] END .......C=0.01, gamma=1, kernel=rbf;, score=0.104 total time=  26.3s\n",
            "[CV 4/5] END .......C=0.01, gamma=1, kernel=rbf;, score=0.104 total time=  25.6s\n",
            "[CV 5/5] END .......C=0.01, gamma=1, kernel=rbf;, score=0.105 total time=  26.7s\n",
            "[CV 1/5] END ......C=0.01, gamma=1, kernel=poly;, score=0.806 total time=   3.0s\n",
            "[CV 2/5] END ......C=0.01, gamma=1, kernel=poly;, score=0.833 total time=   3.1s\n",
            "[CV 3/5] END ......C=0.01, gamma=1, kernel=poly;, score=0.829 total time=   3.3s\n",
            "[CV 4/5] END ......C=0.01, gamma=1, kernel=poly;, score=0.826 total time=   3.3s\n",
            "[CV 5/5] END ......C=0.01, gamma=1, kernel=poly;, score=0.818 total time=   3.1s\n",
            "[CV 1/5] END .....C=0.01, gamma=0.1, kernel=rbf;, score=0.105 total time=  25.2s\n",
            "[CV 2/5] END .....C=0.01, gamma=0.1, kernel=rbf;, score=0.105 total time=  25.4s\n",
            "[CV 3/5] END .....C=0.01, gamma=0.1, kernel=rbf;, score=0.104 total time=  25.3s\n",
            "[CV 4/5] END .....C=0.01, gamma=0.1, kernel=rbf;, score=0.104 total time=  24.6s\n",
            "[CV 5/5] END .....C=0.01, gamma=0.1, kernel=rbf;, score=0.105 total time=  25.7s\n",
            "[CV 1/5] END ....C=0.01, gamma=0.1, kernel=poly;, score=0.814 total time=   4.2s\n",
            "[CV 2/5] END ....C=0.01, gamma=0.1, kernel=poly;, score=0.834 total time=   4.3s\n",
            "[CV 3/5] END ....C=0.01, gamma=0.1, kernel=poly;, score=0.836 total time=   4.6s\n",
            "[CV 4/5] END ....C=0.01, gamma=0.1, kernel=poly;, score=0.816 total time=   4.4s\n",
            "[CV 5/5] END ....C=0.01, gamma=0.1, kernel=poly;, score=0.836 total time=   4.5s\n",
            "[CV 1/5] END ....C=0.01, gamma=0.01, kernel=rbf;, score=0.636 total time=  22.2s\n",
            "[CV 2/5] END ....C=0.01, gamma=0.01, kernel=rbf;, score=0.649 total time=  21.6s\n",
            "[CV 3/5] END ....C=0.01, gamma=0.01, kernel=rbf;, score=0.666 total time=  22.4s\n",
            "[CV 4/5] END ....C=0.01, gamma=0.01, kernel=rbf;, score=0.646 total time=  21.7s\n",
            "[CV 5/5] END ....C=0.01, gamma=0.01, kernel=rbf;, score=0.636 total time=  21.4s\n",
            "[CV 1/5] END ...C=0.01, gamma=0.01, kernel=poly;, score=0.629 total time=  12.2s\n",
            "[CV 2/5] END ...C=0.01, gamma=0.01, kernel=poly;, score=0.631 total time=  12.7s\n",
            "[CV 3/5] END ...C=0.01, gamma=0.01, kernel=poly;, score=0.627 total time=  12.5s\n",
            "[CV 4/5] END ...C=0.01, gamma=0.01, kernel=poly;, score=0.613 total time=  12.4s\n",
            "[CV 5/5] END ...C=0.01, gamma=0.01, kernel=poly;, score=0.614 total time=  12.2s\n",
            "[CV 1/5] END ...C=0.01, gamma=0.001, kernel=rbf;, score=0.179 total time=  26.2s\n",
            "[CV 2/5] END ...C=0.01, gamma=0.001, kernel=rbf;, score=0.136 total time=  25.5s\n",
            "[CV 3/5] END ...C=0.01, gamma=0.001, kernel=rbf;, score=0.134 total time=  25.6s\n",
            "[CV 4/5] END ...C=0.01, gamma=0.001, kernel=rbf;, score=0.149 total time=  26.4s\n",
            "[CV 5/5] END ...C=0.01, gamma=0.001, kernel=rbf;, score=0.156 total time=  25.1s\n",
            "[CV 1/5] END ..C=0.01, gamma=0.001, kernel=poly;, score=0.105 total time=  22.0s\n",
            "[CV 2/5] END ..C=0.01, gamma=0.001, kernel=poly;, score=0.105 total time=  21.8s\n",
            "[CV 3/5] END ..C=0.01, gamma=0.001, kernel=poly;, score=0.104 total time=  21.0s\n",
            "[CV 4/5] END ..C=0.01, gamma=0.001, kernel=poly;, score=0.104 total time=  21.9s\n",
            "[CV 5/5] END ..C=0.01, gamma=0.001, kernel=poly;, score=0.105 total time=  21.9s\n",
            "[CV 1/5] END ..C=0.01, gamma=0.0001, kernel=rbf;, score=0.105 total time=  24.7s\n",
            "[CV 2/5] END ..C=0.01, gamma=0.0001, kernel=rbf;, score=0.105 total time=  26.4s\n",
            "[CV 3/5] END ..C=0.01, gamma=0.0001, kernel=rbf;, score=0.104 total time=  25.3s\n",
            "[CV 4/5] END ..C=0.01, gamma=0.0001, kernel=rbf;, score=0.104 total time=  25.0s\n",
            "[CV 5/5] END ..C=0.01, gamma=0.0001, kernel=rbf;, score=0.105 total time=  25.5s\n",
            "[CV 1/5] END .C=0.01, gamma=0.0001, kernel=poly;, score=0.105 total time=  22.0s\n",
            "[CV 2/5] END .C=0.01, gamma=0.0001, kernel=poly;, score=0.105 total time=  21.0s\n",
            "[CV 3/5] END .C=0.01, gamma=0.0001, kernel=poly;, score=0.104 total time=  21.2s\n",
            "[CV 4/5] END .C=0.01, gamma=0.0001, kernel=poly;, score=0.104 total time=  20.9s\n",
            "[CV 5/5] END .C=0.01, gamma=0.0001, kernel=poly;, score=0.105 total time=  21.7s\n",
            "[CV 1/5] END ........C=0.1, gamma=1, kernel=rbf;, score=0.105 total time=  25.3s\n",
            "[CV 2/5] END ........C=0.1, gamma=1, kernel=rbf;, score=0.105 total time=  28.1s\n",
            "[CV 3/5] END ........C=0.1, gamma=1, kernel=rbf;, score=0.104 total time=  24.9s\n",
            "[CV 4/5] END ........C=0.1, gamma=1, kernel=rbf;, score=0.104 total time=  26.3s\n",
            "[CV 5/5] END ........C=0.1, gamma=1, kernel=rbf;, score=0.105 total time=  25.6s\n",
            "[CV 1/5] END .......C=0.1, gamma=1, kernel=poly;, score=0.806 total time=   3.0s\n",
            "[CV 2/5] END .......C=0.1, gamma=1, kernel=poly;, score=0.833 total time=   2.8s\n",
            "[CV 3/5] END .......C=0.1, gamma=1, kernel=poly;, score=0.829 total time=   3.0s\n",
            "[CV 4/5] END .......C=0.1, gamma=1, kernel=poly;, score=0.826 total time=   3.1s\n",
            "[CV 5/5] END .......C=0.1, gamma=1, kernel=poly;, score=0.818 total time=   3.1s\n",
            "[CV 1/5] END ......C=0.1, gamma=0.1, kernel=rbf;, score=0.386 total time=  23.7s\n",
            "[CV 2/5] END ......C=0.1, gamma=0.1, kernel=rbf;, score=0.389 total time=  23.4s\n",
            "[CV 3/5] END ......C=0.1, gamma=0.1, kernel=rbf;, score=0.406 total time=  23.7s\n",
            "[CV 4/5] END ......C=0.1, gamma=0.1, kernel=rbf;, score=0.401 total time=  23.7s\n",
            "[CV 5/5] END ......C=0.1, gamma=0.1, kernel=rbf;, score=0.384 total time=  23.0s\n",
            "[CV 1/5] END .....C=0.1, gamma=0.1, kernel=poly;, score=0.823 total time=   3.1s\n",
            "[CV 2/5] END .....C=0.1, gamma=0.1, kernel=poly;, score=0.841 total time=   3.4s\n",
            "[CV 3/5] END .....C=0.1, gamma=0.1, kernel=poly;, score=0.838 total time=   3.4s\n",
            "[CV 4/5] END .....C=0.1, gamma=0.1, kernel=poly;, score=0.817 total time=   3.5s\n",
            "[CV 5/5] END .....C=0.1, gamma=0.1, kernel=poly;, score=0.829 total time=   3.8s\n",
            "[CV 1/5] END .....C=0.1, gamma=0.01, kernel=rbf;, score=0.759 total time=  10.6s\n",
            "[CV 2/5] END .....C=0.1, gamma=0.01, kernel=rbf;, score=0.773 total time=  13.3s\n",
            "[CV 3/5] END .....C=0.1, gamma=0.01, kernel=rbf;, score=0.795 total time=  15.7s\n",
            "[CV 4/5] END .....C=0.1, gamma=0.01, kernel=rbf;, score=0.779 total time=  11.3s\n",
            "[CV 5/5] END .....C=0.1, gamma=0.01, kernel=rbf;, score=0.769 total time=  11.5s\n",
            "[CV 1/5] END ....C=0.1, gamma=0.01, kernel=poly;, score=0.721 total time=   8.6s\n",
            "[CV 2/5] END ....C=0.1, gamma=0.01, kernel=poly;, score=0.734 total time=   7.6s\n",
            "[CV 3/5] END ....C=0.1, gamma=0.01, kernel=poly;, score=0.754 total time=   7.4s\n",
            "[CV 4/5] END ....C=0.1, gamma=0.01, kernel=poly;, score=0.732 total time=   7.6s\n",
            "[CV 5/5] END ....C=0.1, gamma=0.01, kernel=poly;, score=0.731 total time=   7.4s\n",
            "[CV 1/5] END ....C=0.1, gamma=0.001, kernel=rbf;, score=0.691 total time=  17.2s\n",
            "[CV 2/5] END ....C=0.1, gamma=0.001, kernel=rbf;, score=0.700 total time=  17.4s\n",
            "[CV 3/5] END ....C=0.1, gamma=0.001, kernel=rbf;, score=0.711 total time=  17.0s\n",
            "[CV 4/5] END ....C=0.1, gamma=0.001, kernel=rbf;, score=0.708 total time=  17.3s\n",
            "[CV 5/5] END ....C=0.1, gamma=0.001, kernel=rbf;, score=0.702 total time=  16.6s\n",
            "[CV 1/5] END ...C=0.1, gamma=0.001, kernel=poly;, score=0.105 total time=  21.7s\n",
            "[CV 2/5] END ...C=0.1, gamma=0.001, kernel=poly;, score=0.105 total time=  19.5s\n",
            "[CV 3/5] END ...C=0.1, gamma=0.001, kernel=poly;, score=0.104 total time=  21.5s\n",
            "[CV 4/5] END ...C=0.1, gamma=0.001, kernel=poly;, score=0.104 total time=  21.7s\n",
            "[CV 5/5] END ...C=0.1, gamma=0.001, kernel=poly;, score=0.105 total time=  22.8s\n",
            "[CV 1/5] END ...C=0.1, gamma=0.0001, kernel=rbf;, score=0.273 total time=  26.0s\n",
            "[CV 2/5] END ...C=0.1, gamma=0.0001, kernel=rbf;, score=0.269 total time=  23.6s\n",
            "[CV 3/5] END ...C=0.1, gamma=0.0001, kernel=rbf;, score=0.267 total time=  24.0s\n",
            "[CV 4/5] END ...C=0.1, gamma=0.0001, kernel=rbf;, score=0.258 total time=  25.2s\n",
            "[CV 5/5] END ...C=0.1, gamma=0.0001, kernel=rbf;, score=0.294 total time=  25.7s\n",
            "[CV 1/5] END ..C=0.1, gamma=0.0001, kernel=poly;, score=0.105 total time=  20.6s\n",
            "[CV 2/5] END ..C=0.1, gamma=0.0001, kernel=poly;, score=0.105 total time=  20.1s\n",
            "[CV 3/5] END ..C=0.1, gamma=0.0001, kernel=poly;, score=0.104 total time=  21.1s\n",
            "[CV 4/5] END ..C=0.1, gamma=0.0001, kernel=poly;, score=0.104 total time=  21.4s\n",
            "[CV 5/5] END ..C=0.1, gamma=0.0001, kernel=poly;, score=0.105 total time=  21.9s\n",
            "[CV 1/5] END ..........C=1, gamma=1, kernel=rbf;, score=0.114 total time=  27.3s\n",
            "[CV 2/5] END ..........C=1, gamma=1, kernel=rbf;, score=0.115 total time=  25.5s\n",
            "[CV 3/5] END ..........C=1, gamma=1, kernel=rbf;, score=0.111 total time=  26.8s\n",
            "[CV 4/5] END ..........C=1, gamma=1, kernel=rbf;, score=0.109 total time=  27.6s\n",
            "[CV 5/5] END ..........C=1, gamma=1, kernel=rbf;, score=0.109 total time=  27.8s\n",
            "[CV 1/5] END .........C=1, gamma=1, kernel=poly;, score=0.806 total time=   3.0s\n",
            "[CV 2/5] END .........C=1, gamma=1, kernel=poly;, score=0.833 total time=   3.4s\n",
            "[CV 3/5] END .........C=1, gamma=1, kernel=poly;, score=0.829 total time=   3.4s\n",
            "[CV 4/5] END .........C=1, gamma=1, kernel=poly;, score=0.826 total time=   3.8s\n",
            "[CV 5/5] END .........C=1, gamma=1, kernel=poly;, score=0.818 total time=   3.4s\n",
            "[CV 1/5] END ........C=1, gamma=0.1, kernel=rbf;, score=0.769 total time=  23.6s\n",
            "[CV 2/5] END ........C=1, gamma=0.1, kernel=rbf;, score=0.785 total time=  23.9s\n",
            "[CV 3/5] END ........C=1, gamma=0.1, kernel=rbf;, score=0.789 total time=  24.4s\n",
            "[CV 4/5] END ........C=1, gamma=0.1, kernel=rbf;, score=0.771 total time=  24.6s\n",
            "[CV 5/5] END ........C=1, gamma=0.1, kernel=rbf;, score=0.768 total time=  23.0s\n",
            "[CV 1/5] END .......C=1, gamma=0.1, kernel=poly;, score=0.811 total time=   3.2s\n",
            "[CV 2/5] END .......C=1, gamma=0.1, kernel=poly;, score=0.836 total time=   3.5s\n",
            "[CV 3/5] END .......C=1, gamma=0.1, kernel=poly;, score=0.824 total time=   3.6s\n",
            "[CV 4/5] END .......C=1, gamma=0.1, kernel=poly;, score=0.824 total time=   3.5s\n",
            "[CV 5/5] END .......C=1, gamma=0.1, kernel=poly;, score=0.828 total time=   3.7s\n",
            "[CV 1/5] END .......C=1, gamma=0.01, kernel=rbf;, score=0.841 total time=   7.7s\n",
            "[CV 2/5] END .......C=1, gamma=0.01, kernel=rbf;, score=0.848 total time=   8.2s\n",
            "[CV 3/5] END .......C=1, gamma=0.01, kernel=rbf;, score=0.860 total time=   7.6s\n",
            "[CV 4/5] END .......C=1, gamma=0.01, kernel=rbf;, score=0.844 total time=   8.0s\n",
            "[CV 5/5] END .......C=1, gamma=0.01, kernel=rbf;, score=0.846 total time=   7.5s\n",
            "[CV 1/5] END ......C=1, gamma=0.01, kernel=poly;, score=0.781 total time=   5.3s\n",
            "[CV 2/5] END ......C=1, gamma=0.01, kernel=poly;, score=0.804 total time=   5.5s\n",
            "[CV 3/5] END ......C=1, gamma=0.01, kernel=poly;, score=0.807 total time=   5.7s\n",
            "[CV 4/5] END ......C=1, gamma=0.01, kernel=poly;, score=0.798 total time=   5.9s\n",
            "[CV 5/5] END ......C=1, gamma=0.01, kernel=poly;, score=0.799 total time=   5.6s\n",
            "[CV 1/5] END ......C=1, gamma=0.001, kernel=rbf;, score=0.771 total time=   9.8s\n",
            "[CV 2/5] END ......C=1, gamma=0.001, kernel=rbf;, score=0.791 total time=   9.9s\n",
            "[CV 3/5] END ......C=1, gamma=0.001, kernel=rbf;, score=0.802 total time=   9.9s\n",
            "[CV 4/5] END ......C=1, gamma=0.001, kernel=rbf;, score=0.794 total time=   9.7s\n",
            "[CV 5/5] END ......C=1, gamma=0.001, kernel=rbf;, score=0.790 total time=   9.4s\n",
            "[CV 1/5] END .....C=1, gamma=0.001, kernel=poly;, score=0.407 total time=  18.6s\n",
            "[CV 2/5] END .....C=1, gamma=0.001, kernel=poly;, score=0.409 total time=  19.1s\n",
            "[CV 3/5] END .....C=1, gamma=0.001, kernel=poly;, score=0.427 total time=  18.9s\n",
            "[CV 4/5] END .....C=1, gamma=0.001, kernel=poly;, score=0.421 total time=  18.4s\n",
            "[CV 5/5] END .....C=1, gamma=0.001, kernel=poly;, score=0.418 total time=  18.5s\n",
            "[CV 1/5] END .....C=1, gamma=0.0001, kernel=rbf;, score=0.694 total time=  16.3s\n",
            "[CV 2/5] END .....C=1, gamma=0.0001, kernel=rbf;, score=0.702 total time=  16.8s\n",
            "[CV 3/5] END .....C=1, gamma=0.0001, kernel=rbf;, score=0.710 total time=  15.8s\n",
            "[CV 4/5] END .....C=1, gamma=0.0001, kernel=rbf;, score=0.709 total time=  15.7s\n",
            "[CV 5/5] END .....C=1, gamma=0.0001, kernel=rbf;, score=0.703 total time=  16.0s\n",
            "[CV 1/5] END ....C=1, gamma=0.0001, kernel=poly;, score=0.105 total time=  22.4s\n",
            "[CV 2/5] END ....C=1, gamma=0.0001, kernel=poly;, score=0.105 total time=  21.4s\n",
            "[CV 3/5] END ....C=1, gamma=0.0001, kernel=poly;, score=0.104 total time=  21.7s\n",
            "[CV 4/5] END ....C=1, gamma=0.0001, kernel=poly;, score=0.104 total time=  22.4s\n",
            "[CV 5/5] END ....C=1, gamma=0.0001, kernel=poly;, score=0.105 total time=  20.7s\n",
            "[CV 1/5] END .........C=10, gamma=1, kernel=rbf;, score=0.119 total time=  26.1s\n",
            "[CV 2/5] END .........C=10, gamma=1, kernel=rbf;, score=0.124 total time=  27.1s\n",
            "[CV 3/5] END .........C=10, gamma=1, kernel=rbf;, score=0.122 total time=  25.7s\n",
            "[CV 4/5] END .........C=10, gamma=1, kernel=rbf;, score=0.116 total time=  27.0s\n",
            "[CV 5/5] END .........C=10, gamma=1, kernel=rbf;, score=0.115 total time=  26.8s\n",
            "[CV 1/5] END ........C=10, gamma=1, kernel=poly;, score=0.806 total time=   2.7s\n",
            "[CV 2/5] END ........C=10, gamma=1, kernel=poly;, score=0.833 total time=   3.0s\n",
            "[CV 3/5] END ........C=10, gamma=1, kernel=poly;, score=0.829 total time=   3.2s\n",
            "[CV 4/5] END ........C=10, gamma=1, kernel=poly;, score=0.826 total time=   3.2s\n",
            "[CV 5/5] END ........C=10, gamma=1, kernel=poly;, score=0.818 total time=   3.2s\n",
            "[CV 1/5] END .......C=10, gamma=0.1, kernel=rbf;, score=0.778 total time=  23.2s\n",
            "[CV 2/5] END .......C=10, gamma=0.1, kernel=rbf;, score=0.795 total time=  24.3s\n",
            "[CV 3/5] END .......C=10, gamma=0.1, kernel=rbf;, score=0.798 total time=  23.6s\n",
            "[CV 4/5] END .......C=10, gamma=0.1, kernel=rbf;, score=0.781 total time=  22.6s\n",
            "[CV 5/5] END .......C=10, gamma=0.1, kernel=rbf;, score=0.785 total time=  23.4s\n",
            "[CV 1/5] END ......C=10, gamma=0.1, kernel=poly;, score=0.806 total time=   3.0s\n",
            "[CV 2/5] END ......C=10, gamma=0.1, kernel=poly;, score=0.833 total time=   3.4s\n",
            "[CV 3/5] END ......C=10, gamma=0.1, kernel=poly;, score=0.829 total time=   3.6s\n",
            "[CV 4/5] END ......C=10, gamma=0.1, kernel=poly;, score=0.826 total time=   3.4s\n",
            "[CV 5/5] END ......C=10, gamma=0.1, kernel=poly;, score=0.818 total time=   3.4s\n",
            "[CV 1/5] END ......C=10, gamma=0.01, kernel=rbf;, score=0.848 total time=   6.7s\n",
            "[CV 2/5] END ......C=10, gamma=0.01, kernel=rbf;, score=0.877 total time=   6.9s\n",
            "[CV 3/5] END ......C=10, gamma=0.01, kernel=rbf;, score=0.864 total time=   6.8s\n",
            "[CV 4/5] END ......C=10, gamma=0.01, kernel=rbf;, score=0.862 total time=   6.8s\n",
            "[CV 5/5] END ......C=10, gamma=0.01, kernel=rbf;, score=0.861 total time=   6.4s\n",
            "[CV 1/5] END .....C=10, gamma=0.01, kernel=poly;, score=0.814 total time=   4.0s\n",
            "[CV 2/5] END .....C=10, gamma=0.01, kernel=poly;, score=0.834 total time=   4.3s\n",
            "[CV 3/5] END .....C=10, gamma=0.01, kernel=poly;, score=0.836 total time=   3.8s\n",
            "[CV 4/5] END .....C=10, gamma=0.01, kernel=poly;, score=0.816 total time=   3.8s\n",
            "[CV 5/5] END .....C=10, gamma=0.01, kernel=poly;, score=0.836 total time=   3.7s\n",
            "[CV 1/5] END .....C=10, gamma=0.001, kernel=rbf;, score=0.833 total time=   6.1s\n",
            "[CV 2/5] END .....C=10, gamma=0.001, kernel=rbf;, score=0.851 total time=   6.2s\n",
            "[CV 3/5] END .....C=10, gamma=0.001, kernel=rbf;, score=0.847 total time=   5.7s\n",
            "[CV 4/5] END .....C=10, gamma=0.001, kernel=rbf;, score=0.844 total time=   6.5s\n",
            "[CV 5/5] END .....C=10, gamma=0.001, kernel=rbf;, score=0.836 total time=   5.7s\n",
            "[CV 1/5] END ....C=10, gamma=0.001, kernel=poly;, score=0.629 total time=  14.5s\n",
            "[CV 2/5] END ....C=10, gamma=0.001, kernel=poly;, score=0.631 total time=  13.6s\n",
            "[CV 3/5] END ....C=10, gamma=0.001, kernel=poly;, score=0.627 total time=  13.9s\n",
            "[CV 4/5] END ....C=10, gamma=0.001, kernel=poly;, score=0.613 total time=  12.9s\n",
            "[CV 5/5] END ....C=10, gamma=0.001, kernel=poly;, score=0.614 total time=  13.2s\n",
            "[CV 1/5] END ....C=10, gamma=0.0001, kernel=rbf;, score=0.771 total time=  11.1s\n",
            "[CV 2/5] END ....C=10, gamma=0.0001, kernel=rbf;, score=0.791 total time=  13.0s\n",
            "[CV 3/5] END ....C=10, gamma=0.0001, kernel=rbf;, score=0.801 total time=   9.8s\n",
            "[CV 4/5] END ....C=10, gamma=0.0001, kernel=rbf;, score=0.794 total time=  10.4s\n",
            "[CV 5/5] END ....C=10, gamma=0.0001, kernel=rbf;, score=0.787 total time=  10.1s\n",
            "[CV 1/5] END ...C=10, gamma=0.0001, kernel=poly;, score=0.105 total time=  21.0s\n",
            "[CV 2/5] END ...C=10, gamma=0.0001, kernel=poly;, score=0.105 total time=  22.5s\n",
            "[CV 3/5] END ...C=10, gamma=0.0001, kernel=poly;, score=0.104 total time=  22.5s\n",
            "[CV 4/5] END ...C=10, gamma=0.0001, kernel=poly;, score=0.104 total time=  21.5s\n",
            "[CV 5/5] END ...C=10, gamma=0.0001, kernel=poly;, score=0.105 total time=  21.8s\n"
          ]
        },
        {
          "data": {
            "text/plain": [
              "GridSearchCV(estimator=SVC(),\n",
              "             param_grid={'C': [0.001, 0.01, 0.1, 1, 10],\n",
              "                         'gamma': [1, 0.1, 0.01, 0.001, 0.0001],\n",
              "                         'kernel': ['rbf', 'poly']},\n",
              "             verbose=3)"
            ]
          },
          "execution_count": 11,
          "metadata": {},
          "output_type": "execute_result"
        },
        {
          "name": "stdout",
          "output_type": "stream",
          "text": [
            "time: 1h 6min 18s (started: 2021-12-10 22:27:45 +00:00)\n"
          ]
        }
      ],
      "source": [
        "# SVM Model: Entire data set\n",
        "\n",
        "\n",
        "# Total input = 70 000 samples from train_images_f\n",
        "# test_size to 10% --> training size = 90%\n",
        "# According to the doc it scales quadratically given the previous run I assume \n",
        "# 1 hr 20 min for grid search CVp\n",
        "\n",
        "X_train_ten, X_test_ninty, y_train_ten, y_test_ninty  = train_test_split(\n",
        "    all_images_f, all_labels, test_size = 0.90, random_state = 101, stratify=all_labels)\n",
        "\n",
        "parameters_grid = {'C':[0.001, 0.01, 0.1, 1, 10], 'gamma': [1, 0.1, 0.01, 0.001, 0.0001],\n",
        "            'kernel': ['rbf', 'poly']}\n",
        "svm_grid = GridSearchCV(SVC(),parameters_grid, refit = True, verbose = 3)\n",
        "svm_grid.fit(X_train_all, y_train_all) # fitting the model for grid search"
      ]
    },
    {
      "cell_type": "code",
      "execution_count": null,
      "metadata": {
        "colab": {
          "base_uri": "https://localhost:8080/"
        },
        "id": "an3p2XJQdSmt",
        "outputId": "1f8c31e6-c6d4-4b46-d121-545af6b7dfa4"
      },
      "outputs": [
        {
          "name": "stdout",
          "output_type": "stream",
          "text": [
            "{'C': 10, 'gamma': 0.01, 'kernel': 'rbf'}\n",
            "SVC(C=10, gamma=0.01)\n",
            "time: 2.38 ms (started: 2021-12-10 23:34:05 +00:00)\n"
          ]
        }
      ],
      "source": [
        "# print best parameter after tuning\n",
        "print(svm_grid.best_params_)\n",
        " \n",
        "# print how our model looks after hyper-parameter tuning\n",
        "print(svm_grid.best_estimator_)"
      ]
    },
    {
      "cell_type": "code",
      "execution_count": null,
      "metadata": {
        "colab": {
          "base_uri": "https://localhost:8080/"
        },
        "id": "sxLm6NorcARa",
        "outputId": "bcd011ea-3800-473d-c371-4dca04dff11e"
      },
      "outputs": [
        {
          "name": "stdout",
          "output_type": "stream",
          "text": [
            "time: 3min 33s (started: 2021-12-10 23:34:05 +00:00)\n"
          ]
        }
      ],
      "source": [
        "# train the model on train set\n",
        "# model = SVC()\n",
        "# model.fit(X_train, y_train)\n",
        " \n",
        "# print prediction results\n",
        "svm_grid_predictions = svm_grid.predict(X_test_all)"
      ]
    },
    {
      "cell_type": "code",
      "execution_count": null,
      "metadata": {
        "colab": {
          "base_uri": "https://localhost:8080/"
        },
        "id": "m3Hha-G4e7L5",
        "outputId": "ecff3357-e379-4126-90ec-a979b71f1fd2"
      },
      "outputs": [
        {
          "name": "stdout",
          "output_type": "stream",
          "text": [
            "              precision    recall  f1-score   support\n",
            "\n",
            "           0       0.80      0.83      0.81      6341\n",
            "           1       0.99      0.97      0.98      6310\n",
            "           2       0.77      0.79      0.78      6279\n",
            "           3       0.87      0.89      0.88      6292\n",
            "           4       0.79      0.81      0.80      6290\n",
            "           5       0.96      0.94      0.95      6332\n",
            "           6       0.70      0.63      0.66      6307\n",
            "           7       0.92      0.94      0.93      6280\n",
            "           8       0.96      0.96      0.96      6267\n",
            "           9       0.95      0.95      0.95      6302\n",
            "\n",
            "    accuracy                           0.87     63000\n",
            "   macro avg       0.87      0.87      0.87     63000\n",
            "weighted avg       0.87      0.87      0.87     63000\n",
            "\n",
            "time: 2min 45s (started: 2021-12-10 23:50:02 +00:00)\n"
          ]
        }
      ],
      "source": [
        "# print classification report\n",
        "print(classification_report(y_test_all, svm_grid_predictions))\n"
      ]
    },
    {
      "cell_type": "code",
      "execution_count": null,
      "metadata": {
        "colab": {
          "base_uri": "https://localhost:8080/"
        },
        "id": "dJlGOUZ-wquY",
        "outputId": "0909a192-3265-4cee-ef8f-dd92aed234d4"
      },
      "outputs": [
        {
          "name": "stdout",
          "output_type": "stream",
          "text": [
            "              precision    recall  f1-score   support\n",
            "\n",
            "           0       0.80      0.83      0.81      6341\n",
            "           1       0.99      0.97      0.98      6310\n",
            "           2       0.77      0.79      0.78      6279\n",
            "           3       0.87      0.89      0.88      6292\n",
            "           4       0.79      0.81      0.80      6290\n",
            "           5       0.96      0.94      0.95      6332\n",
            "           6       0.70      0.63      0.66      6307\n",
            "           7       0.92      0.94      0.93      6280\n",
            "           8       0.96      0.96      0.96      6267\n",
            "           9       0.95      0.95      0.95      6302\n",
            "\n",
            "    accuracy                           0.87     63000\n",
            "   macro avg       0.87      0.87      0.87     63000\n",
            "weighted avg       0.87      0.87      0.87     63000\n",
            "\n",
            "time: 156 ms (started: 2021-12-10 23:54:33 +00:00)\n"
          ]
        }
      ],
      "source": [
        "# match labels of classes  to the predicted classes\n",
        "print(metrics.classification_report(y_test_all, svm_grid_predictions)) \n"
      ]
    },
    {
      "cell_type": "code",
      "execution_count": null,
      "metadata": {
        "id": "k4FFQiPIwdbh"
      },
      "outputs": [],
      "source": [
        "# SVM report and analysis\n",
        "\n",
        "# svc_f1 = metrics.f1_score(y_test, y_pred_svc, average= \"weighted\")\n",
        "# svc_accuracy = metrics.accuracy_score(y_test, y_pred_svc)\n",
        "# svc_cm = metrics.confusion_matrix(y_test, y_pred_svc)\n",
        "# print(\"-----------------SVM Report---------------\")\n",
        "# print(\"F1 score: {}\".format(svc_f1))\n",
        "# print(\"Accuracy score: {}\".format(svc_accuracy))\n",
        "# print(\"Confusion matrix: \\n\", svc_cm)\n",
        "# print('Plotting confusion matrix')\n",
        "\n",
        "# plt.figure()\n",
        "# plot_confusion_matrix(svc_cm, labelNames)\n",
        "# plt.show()\n",
        "\n",
        "# print(metrics.classification_report(y_test, y_pred_svc))"
      ]
    },
    {
      "cell_type": "markdown",
      "metadata": {
        "id": "p8HXMwl6yuLL"
      },
      "source": [
        "# Last all SVM"
      ]
    },
    {
      "cell_type": "code",
      "execution_count": null,
      "metadata": {
        "colab": {
          "base_uri": "https://localhost:8080/",
          "height": 247
        },
        "id": "wluJ8P0eytwy",
        "outputId": "1b424d74-2a99-4f97-f94f-e975f262a3b2"
      },
      "outputs": [
        {
          "output_type": "error",
          "ename": "NameError",
          "evalue": "ignored",
          "traceback": [
            "\u001b[0;31m---------------------------------------------------------------------------\u001b[0m",
            "\u001b[0;31mNameError\u001b[0m                                 Traceback (most recent call last)",
            "\u001b[0;32m<ipython-input-1-689d993ec1f3>\u001b[0m in \u001b[0;36m<module>\u001b[0;34m()\u001b[0m\n\u001b[1;32m      7\u001b[0m \u001b[0;31m# I guess it will run roughly 40 (I was right)\u001b[0m\u001b[0;34m\u001b[0m\u001b[0;34m\u001b[0m\u001b[0;34m\u001b[0m\u001b[0m\n\u001b[1;32m      8\u001b[0m \u001b[0;34m\u001b[0m\u001b[0m\n\u001b[0;32m----> 9\u001b[0;31m X_train_all, X_test_all, y_train_all, y_test_all = train_test_split(\n\u001b[0m\u001b[1;32m     10\u001b[0m     all_images_f, all_labels, test_size = 0.60, random_state = 101)\n\u001b[1;32m     11\u001b[0m \u001b[0;34m\u001b[0m\u001b[0m\n",
            "\u001b[0;31mNameError\u001b[0m: name 'train_test_split' is not defined"
          ]
        }
      ],
      "source": [
        "# SVM Model: Entire data set\n",
        "\n",
        "\n",
        "# Total input = 70 000 samples from train_images_f\n",
        "# test_size to 40% --> training size = 60%\n",
        "# given the previous run on only 10 000 took 25 minutes 5000 train / 5000 test\n",
        "# I guess it will run roughly 40 (I was right)\n",
        "\n",
        "X_train_all, X_test_all, y_train_all, y_test_all = train_test_split(\n",
        "    all_images_f, all_labels, test_size = 0.60, random_state = 101, stratify=all_labels)\n",
        "\n",
        "svm_parameters_grid = {'C':[0.01, 0.1, 1, 10, 100], 'gamma': [1, 0.1, 0.01, 0.001, 0.0001],\n",
        "            'kernel': ['rbf', 'poly'], 'degree': [3,4,5,6]}\n",
        "svm_grid = GridSearchCV(SVC(),svm_parameters_grid, refit = True, verbose = 3)\n",
        "svm_grid.fit(X_train_all, y_train_all) # fitting the model for grid search"
      ]
    },
    {
      "cell_type": "code",
      "execution_count": null,
      "metadata": {
        "id": "wXDraaay0sI0",
        "colab": {
          "base_uri": "https://localhost:8080/",
          "height": 209
        },
        "outputId": "74eeacaf-3503-4f16-9d24-4534c1b02aee"
      },
      "outputs": [
        {
          "output_type": "error",
          "ename": "NameError",
          "evalue": "ignored",
          "traceback": [
            "\u001b[0;31m---------------------------------------------------------------------------\u001b[0m",
            "\u001b[0;31mNameError\u001b[0m                                 Traceback (most recent call last)",
            "\u001b[0;32m<ipython-input-1-9cb74492564d>\u001b[0m in \u001b[0;36m<module>\u001b[0;34m()\u001b[0m\n\u001b[1;32m      1\u001b[0m \u001b[0;31m# print prediction results\u001b[0m\u001b[0;34m\u001b[0m\u001b[0;34m\u001b[0m\u001b[0;34m\u001b[0m\u001b[0m\n\u001b[0;32m----> 2\u001b[0;31m \u001b[0msvm_grid_predictions\u001b[0m \u001b[0;34m=\u001b[0m \u001b[0msvm_grid\u001b[0m\u001b[0;34m.\u001b[0m\u001b[0mpredict\u001b[0m\u001b[0;34m(\u001b[0m\u001b[0mX_test_all\u001b[0m\u001b[0;34m)\u001b[0m\u001b[0;34m\u001b[0m\u001b[0;34m\u001b[0m\u001b[0m\n\u001b[0m\u001b[1;32m      3\u001b[0m \u001b[0mprint\u001b[0m\u001b[0;34m(\u001b[0m\u001b[0mclassification_report\u001b[0m\u001b[0;34m(\u001b[0m\u001b[0my_test_all\u001b[0m\u001b[0;34m,\u001b[0m \u001b[0msvm_grid_predictions\u001b[0m\u001b[0;34m)\u001b[0m\u001b[0;34m)\u001b[0m\u001b[0;34m\u001b[0m\u001b[0;34m\u001b[0m\u001b[0m\n",
            "\u001b[0;31mNameError\u001b[0m: name 'svm_grid' is not defined"
          ]
        }
      ],
      "source": [
        "# print prediction results\n",
        "svm_grid_predictions = svm_grid.predict(X_test_all)\n",
        "print(classification_report(y_test_all, svm_grid_predictions))\n"
      ]
    },
    {
      "cell_type": "code",
      "execution_count": null,
      "metadata": {
        "id": "Vv5tZ-mm1FLI"
      },
      "outputs": [],
      "source": [
        "# match labels of classes  to the predicted classes\n",
        "print(metrics.classification_report(y_test_all, svm_grid_predictions)) \n"
      ]
    },
    {
      "cell_type": "markdown",
      "source": [
        "# Reducing Dimensionality using PCA \n",
        "\n",
        "This shall make the SVM gridsearch more efficient and of course faster."
      ],
      "metadata": {
        "id": "1CIc6_nKc8F1"
      }
    },
    {
      "cell_type": "code",
      "source": [
        "# 70 000\n",
        "# `stratify` makes sure that the number of each class (support) is equal for \n",
        "# each split\n",
        "X_train_all, X_test_all, y_train_all, y_test_all = train_test_split(\n",
        "    all_images_f, all_labels, test_size = 0.9, random_state = 101, stratify=all_labels)"
      ],
      "metadata": {
        "id": "cfb9UO7segF0",
        "colab": {
          "base_uri": "https://localhost:8080/"
        },
        "outputId": "d7b55f87-923c-468e-b8b7-352f860b1157"
      },
      "execution_count": 8,
      "outputs": [
        {
          "output_type": "stream",
          "name": "stdout",
          "text": [
            "time: 319 ms (started: 2021-12-12 14:43:23 +00:00)\n"
          ]
        }
      ]
    },
    {
      "cell_type": "markdown",
      "source": [
        "## Standardizing images;\n",
        "\n",
        "Below I show you the images before standardization:"
      ],
      "metadata": {
        "id": "mcdj5B1FGf2g"
      }
    },
    {
      "cell_type": "code",
      "source": [
        "n_row = 1\n",
        "n_col = 5\n",
        "plt.figure(figsize=(10,8))\n",
        "for i in list(range(n_row*n_col)):\n",
        "    plt.subplot(n_row, n_col, i+1)\n",
        "    plt.imshow(X_train_all[i,:].reshape(28,28), cmap=\"gray\")\n",
        "    title_text = \"Image\" + str(i+1)\n",
        "    plt.title(title_text, size=6.5)"
      ],
      "metadata": {
        "colab": {
          "base_uri": "https://localhost:8080/",
          "height": 177
        },
        "id": "TQB2lz_Vf3oj",
        "outputId": "718846a6-3b92-409f-a1b5-58805ba1b9a3"
      },
      "execution_count": 9,
      "outputs": [
        {
          "output_type": "display_data",
          "data": {
            "image/png": "[encoded data removed]",
            "text/plain": [
              "<Figure size 720x576 with 5 Axes>"
            ]
          },
          "metadata": {}
        },
        {
          "output_type": "stream",
          "name": "stdout",
          "text": [
            "time: 1.46 s (started: 2021-12-12 14:44:43 +00:00)\n"
          ]
        }
      ]
    },
    {
      "cell_type": "code",
      "source": [
        "from sklearn.preprocessing import StandardScaler\n",
        "# Standardizing\n",
        "X_train_all_std = StandardScaler().fit_transform(X_train_all)\n",
        "X_test_all_std = StandardScaler().fit_transform(X_test_all)"
      ],
      "metadata": {
        "colab": {
          "base_uri": "https://localhost:8080/"
        },
        "id": "0alTweadfSZR",
        "outputId": "9806d878-b929-4e36-f736-25c0baecaa09"
      },
      "execution_count": 10,
      "outputs": [
        {
          "output_type": "stream",
          "name": "stdout",
          "text": [
            "time: 941 ms (started: 2021-12-12 14:45:19 +00:00)\n"
          ]
        }
      ]
    },
    {
      "cell_type": "markdown",
      "source": [
        "Below you can see the images **after** standardization and normalization;"
      ],
      "metadata": {
        "id": "9Ia0gBRpgAWT"
      }
    },
    {
      "cell_type": "code",
      "source": [
        "n_row = 1\n",
        "n_col = 5\n",
        "plt.figure(figsize=(10,8))\n",
        "for i in list(range(n_row*n_col)):\n",
        "    plt.subplot(n_row, n_col, i+1)\n",
        "    plt.imshow(X_train_all_std[i,:].reshape(28,28), cmap=\"gray\")\n",
        "    title_text = \"Image\" + str(i+1)\n",
        "    plt.title(title_text, size=6.5)"
      ],
      "metadata": {
        "colab": {
          "base_uri": "https://localhost:8080/",
          "height": 177
        },
        "id": "iXZu0x6xfuLD",
        "outputId": "af8253e0-9ee1-4803-9583-c6066b9e542e"
      },
      "execution_count": 11,
      "outputs": [
        {
          "output_type": "display_data",
          "data": {
            "image/png": "[encoded data removed]",
            "text/plain": [
              "<Figure size 720x576 with 5 Axes>"
            ]
          },
          "metadata": {}
        },
        {
          "output_type": "stream",
          "name": "stdout",
          "text": [
            "time: 1.31 s (started: 2021-12-12 14:45:46 +00:00)\n"
          ]
        }
      ]
    },
    {
      "cell_type": "markdown",
      "source": [
        "# Computing Eigenvectors Eigenvalues and Covariance Matrix\n",
        "\n",
        "We want to find the parameter k for PCA\n",
        "\n",
        "PCA tries to minimize the average squared projection errors: $$\\frac{1}{m} \\sum^{m}_{i=1} || x^{(i)} - x^{(i)}_{approx} ||^2$$\n",
        "And the total variation in the data: $$\\frac{1}{m}\\sum^{m}_{i=1}||x^{(i)}||^2$$\n",
        "\n",
        "We want to choose **k** such that it is the smallest value of the ratio between the average squared projection errors and the total variation in the data: \n",
        "\n",
        "\n",
        "$\\frac{\\frac{1}{m}\\sum^{m}_{i=1}||x^{(i)}-x^{(i)}_{approx}||^2}{\\frac{1}{m}\\sum^{m}_{i=1}||x^{(i)}||^2} \\leq 0.01$ \n",
        "\n",
        "So we want to retain 99% of the variance!"
      ],
      "metadata": {
        "id": "iMoubqxogRXZ"
      }
    },
    {
      "cell_type": "code",
      "source": [
        "mean_vec = np.mean(X_train_all_std, axis=0)\n",
        "cov_mat = np.cov(X_train_all_std.T)\n",
        "eig_vals, eig_vecs = np.linalg.eig(cov_mat)\n",
        "print(\"Shape of Covariance matrix: \", cov_mat.shape)\n",
        "eig_pairs = [(np.abs(eig_vals[i]),eig_vecs[:,i]) for i in range(len(eig_vals))]\n",
        "eig_pairs.sort(key = lambda x: x[0], reverse=True)\n",
        "tot = sum(eig_vals)\n",
        "var_exp = [(i/tot)*100 for i in sorted(eig_vals, reverse=True)]\n",
        "cum_var_exp = np.cumsum(var_exp) # Cumulative explained variance"
      ],
      "metadata": {
        "colab": {
          "base_uri": "https://localhost:8080/"
        },
        "id": "RZVc0uuzdh_k",
        "outputId": "26b3f2ec-6aa3-489b-ccc0-e934c59b87a5"
      },
      "execution_count": 12,
      "outputs": [
        {
          "output_type": "stream",
          "name": "stdout",
          "text": [
            "Shape of Covariance matrix:  (784, 784)\n",
            "time: 1.22 s (started: 2021-12-12 14:46:03 +00:00)\n"
          ]
        }
      ]
    },
    {
      "cell_type": "code",
      "source": [
        "# played with k until I had 99.00 % of the variance retained.\n",
        "add =0.0\n",
        "for i in range(502):\n",
        "    add+= var_exp[i]\n",
        "\n",
        "print('first 502 components average variance: %.2f' % add)  "
      ],
      "metadata": {
        "colab": {
          "base_uri": "https://localhost:8080/"
        },
        "id": "zwix7O9cldw9",
        "outputId": "28446d4e-75c7-4940-b550-46ad23511be1"
      },
      "execution_count": 24,
      "outputs": [
        {
          "output_type": "stream",
          "name": "stdout",
          "text": [
            "first 502 components average variance: 99.00\n",
            "time: 4.28 ms (started: 2021-12-12 14:47:44 +00:00)\n"
          ]
        }
      ]
    },
    {
      "cell_type": "code",
      "source": [
        "size = 502\n",
        "plt.figure(figsize=(8,5))\n",
        "plt.bar(range(size), var_exp[0:size], align='center');\n",
        "plt.xlabel(\"Principal components\")\n",
        "plt.ylabel(\"Explained variance ratio\");\n",
        "\n",
        "# what happened to the colors???\n"
      ],
      "metadata": {
        "colab": {
          "base_uri": "https://localhost:8080/",
          "height": 358
        },
        "id": "GtF03DQemTAU",
        "outputId": "2d2d7887-1994-493c-f001-b178ea0b0285"
      },
      "execution_count": 25,
      "outputs": [
        {
          "output_type": "display_data",
          "data": {
            "image/png": "[encoded data removed]",
            "text/plain": [
              "<Figure size 576x360 with 1 Axes>"
            ]
          },
          "metadata": {}
        },
        {
          "output_type": "stream",
          "name": "stdout",
          "text": [
            "time: 1.38 s (started: 2021-12-12 14:47:50 +00:00)\n"
          ]
        }
      ]
    },
    {
      "cell_type": "code",
      "source": [
        "pca = PCA(n_components=502)\n",
        "X_train_pca = pca.fit_transform(X_train_all_std) # input for svm.fit()\n",
        "X_test_pca = pca.fit_transform(X_test_all_std) # input for svm.predict()\n"
      ],
      "metadata": {
        "colab": {
          "base_uri": "https://localhost:8080/"
        },
        "id": "ahmIyEYQdGNm",
        "outputId": "2b1d10ac-3e48-4719-aa4f-f9737039209b"
      },
      "execution_count": 26,
      "outputs": [
        {
          "output_type": "stream",
          "name": "stdout",
          "text": [
            "time: 37.4 s (started: 2021-12-12 14:47:56 +00:00)\n"
          ]
        }
      ]
    },
    {
      "cell_type": "code",
      "source": [
        "eigenvalues = pca.components_.reshape(502, 28, 28)\n",
        "eigenvalues = pca.components_\n",
        "print(\"Eigenvalues shape:\", eigenvalues.shape)\n",
        "\n",
        "n_row = 1\n",
        "n_col = 5\n",
        "plt.figure(figsize=(10,8))\n",
        "for i in list(range(n_row*n_col)):\n",
        "    plt.subplot(n_row, n_col, i+1)\n",
        "    plt.imshow(eigenvalues[i,:].reshape(28,28), cmap=\"gray\")\n",
        "    title_text = \"Image\" + str(i+1)\n",
        "    plt.title(title_text, size=6.5)\n",
        "\n",
        "plt.show()"
      ],
      "metadata": {
        "colab": {
          "base_uri": "https://localhost:8080/",
          "height": 195
        },
        "id": "_oNczGr3opqF",
        "outputId": "050938e6-e748-404b-9398-d1ea5cc0cc72"
      },
      "execution_count": 27,
      "outputs": [
        {
          "output_type": "stream",
          "name": "stdout",
          "text": [
            "Eigenvalues shape: (502, 784)\n"
          ]
        },
        {
          "output_type": "display_data",
          "data": {
            "image/png": "[encoded data removed]",
            "text/plain": [
              "<Figure size 720x576 with 5 Axes>"
            ]
          },
          "metadata": {}
        },
        {
          "output_type": "stream",
          "name": "stdout",
          "text": [
            "time: 1.33 s (started: 2021-12-12 14:48:34 +00:00)\n"
          ]
        }
      ]
    },
    {
      "cell_type": "code",
      "source": [
        "# Fitting 5 folds for each of 50 candidates, totalling 250 fits\n",
        "\n",
        "# Should take 4,5 hrs."
      ],
      "metadata": {
        "id": "iKC0-fCs3An0"
      },
      "execution_count": null,
      "outputs": []
    },
    {
      "cell_type": "code",
      "source": [
        "svm_parameters_grid = {'C':[0.01, 0.1, 1, 10, 100], 'gamma': [1, 0.1, 0.01, 0.001, 0.0001],\n",
        "            'kernel': ['rbf', 'poly'], 'degree': [2,3,4]}\n",
        "svm = GridSearchCV(SVC(),svm_parameters_grid, refit = True, verbose = 3)\n",
        "svm.fit(X_train_pca, y_train_all) # fitting the model for grid search"
      ],
      "metadata": {
        "id": "oktvl5Hn8UyA",
        "colab": {
          "base_uri": "https://localhost:8080/"
        },
        "outputId": "a9b907d9-4862-45ff-c6e9-c242adce292e"
      },
      "execution_count": 28,
      "outputs": [
        {
          "output_type": "stream",
          "name": "stdout",
          "text": [
            "Fitting 5 folds for each of 150 candidates, totalling 750 fits\n",
            "[CV 1/5] END C=0.01, degree=2, gamma=1, kernel=rbf;, score=0.360 total time=  21.7s\n",
            "[CV 2/5] END C=0.01, degree=2, gamma=1, kernel=rbf;, score=0.351 total time=  21.5s\n",
            "[CV 3/5] END C=0.01, degree=2, gamma=1, kernel=rbf;, score=0.352 total time=  21.6s\n",
            "[CV 4/5] END C=0.01, degree=2, gamma=1, kernel=rbf;, score=0.258 total time=  21.7s\n",
            "[CV 5/5] END C=0.01, degree=2, gamma=1, kernel=rbf;, score=0.283 total time=  21.5s\n",
            "[CV 1/5] END C=0.01, degree=2, gamma=1, kernel=poly;, score=0.865 total time=   4.6s\n",
            "[CV 2/5] END C=0.01, degree=2, gamma=1, kernel=poly;, score=0.859 total time=   4.9s\n",
            "[CV 3/5] END C=0.01, degree=2, gamma=1, kernel=poly;, score=0.845 total time=   4.8s\n",
            "[CV 4/5] END C=0.01, degree=2, gamma=1, kernel=poly;, score=0.841 total time=   4.7s\n",
            "[CV 5/5] END C=0.01, degree=2, gamma=1, kernel=poly;, score=0.861 total time=   4.6s\n",
            "[CV 1/5] END C=0.01, degree=2, gamma=0.1, kernel=rbf;, score=0.107 total time=  21.8s\n",
            "[CV 2/5] END C=0.01, degree=2, gamma=0.1, kernel=rbf;, score=0.105 total time=  21.7s\n",
            "[CV 3/5] END C=0.01, degree=2, gamma=0.1, kernel=rbf;, score=0.107 total time=  21.5s\n",
            "[CV 4/5] END C=0.01, degree=2, gamma=0.1, kernel=rbf;, score=0.103 total time=  21.7s\n",
            "[CV 5/5] END C=0.01, degree=2, gamma=0.1, kernel=rbf;, score=0.107 total time=  21.7s\n",
            "[CV 1/5] END C=0.01, degree=2, gamma=0.1, kernel=poly;, score=0.866 total time=   4.5s\n",
            "[CV 2/5] END C=0.01, degree=2, gamma=0.1, kernel=poly;, score=0.862 total time=   4.5s\n",
            "[CV 3/5] END C=0.01, degree=2, gamma=0.1, kernel=poly;, score=0.846 total time=   4.4s\n",
            "[CV 4/5] END C=0.01, degree=2, gamma=0.1, kernel=poly;, score=0.843 total time=   4.4s\n",
            "[CV 5/5] END C=0.01, degree=2, gamma=0.1, kernel=poly;, score=0.865 total time=   4.5s\n",
            "[CV 1/5] END C=0.01, degree=2, gamma=0.01, kernel=rbf;, score=0.299 total time=  21.6s\n",
            "[CV 2/5] END C=0.01, degree=2, gamma=0.01, kernel=rbf;, score=0.307 total time=  21.6s\n",
            "[CV 3/5] END C=0.01, degree=2, gamma=0.01, kernel=rbf;, score=0.297 total time=  21.6s\n",
            "[CV 4/5] END C=0.01, degree=2, gamma=0.01, kernel=rbf;, score=0.294 total time=  21.5s\n",
            "[CV 5/5] END C=0.01, degree=2, gamma=0.01, kernel=rbf;, score=0.301 total time=  21.5s\n",
            "[CV 1/5] END C=0.01, degree=2, gamma=0.01, kernel=poly;, score=0.835 total time=   5.7s\n",
            "[CV 2/5] END C=0.01, degree=2, gamma=0.01, kernel=poly;, score=0.817 total time=   5.6s\n",
            "[CV 3/5] END C=0.01, degree=2, gamma=0.01, kernel=poly;, score=0.800 total time=   5.5s\n",
            "[CV 4/5] END C=0.01, degree=2, gamma=0.01, kernel=poly;, score=0.828 total time=   5.7s\n",
            "[CV 5/5] END C=0.01, degree=2, gamma=0.01, kernel=poly;, score=0.824 total time=   5.5s\n",
            "[CV 1/5] END C=0.01, degree=2, gamma=0.001, kernel=rbf;, score=0.714 total time=  18.7s\n",
            "[CV 2/5] END C=0.01, degree=2, gamma=0.001, kernel=rbf;, score=0.694 total time=  18.6s\n",
            "[CV 3/5] END C=0.01, degree=2, gamma=0.001, kernel=rbf;, score=0.662 total time=  18.7s\n",
            "[CV 4/5] END C=0.01, degree=2, gamma=0.001, kernel=rbf;, score=0.694 total time=  18.6s\n",
            "[CV 5/5] END C=0.01, degree=2, gamma=0.001, kernel=rbf;, score=0.677 total time=  18.6s\n",
            "[CV 1/5] END C=0.01, degree=2, gamma=0.001, kernel=poly;, score=0.542 total time=  17.4s\n",
            "[CV 2/5] END C=0.01, degree=2, gamma=0.001, kernel=poly;, score=0.504 total time=  17.4s\n",
            "[CV 3/5] END C=0.01, degree=2, gamma=0.001, kernel=poly;, score=0.494 total time=  17.3s\n",
            "[CV 4/5] END C=0.01, degree=2, gamma=0.001, kernel=poly;, score=0.524 total time=  17.2s\n",
            "[CV 5/5] END C=0.01, degree=2, gamma=0.001, kernel=poly;, score=0.521 total time=  17.5s\n",
            "[CV 1/5] END C=0.01, degree=2, gamma=0.0001, kernel=rbf;, score=0.650 total time=  22.5s\n",
            "[CV 2/5] END C=0.01, degree=2, gamma=0.0001, kernel=rbf;, score=0.613 total time=  22.9s\n",
            "[CV 3/5] END C=0.01, degree=2, gamma=0.0001, kernel=rbf;, score=0.606 total time=  21.7s\n",
            "[CV 4/5] END C=0.01, degree=2, gamma=0.0001, kernel=rbf;, score=0.621 total time=  21.6s\n",
            "[CV 5/5] END C=0.01, degree=2, gamma=0.0001, kernel=rbf;, score=0.611 total time=  21.9s\n",
            "[CV 1/5] END C=0.01, degree=2, gamma=0.0001, kernel=poly;, score=0.424 total time=  18.4s\n",
            "[CV 2/5] END C=0.01, degree=2, gamma=0.0001, kernel=poly;, score=0.368 total time=  18.5s\n",
            "[CV 3/5] END C=0.01, degree=2, gamma=0.0001, kernel=poly;, score=0.358 total time=  18.3s\n",
            "[CV 4/5] END C=0.01, degree=2, gamma=0.0001, kernel=poly;, score=0.421 total time=  18.2s\n",
            "[CV 5/5] END C=0.01, degree=2, gamma=0.0001, kernel=poly;, score=0.415 total time=  18.5s\n",
            "[CV 1/5] END C=0.01, degree=3, gamma=1, kernel=rbf;, score=0.360 total time=  22.0s\n",
            "[CV 2/5] END C=0.01, degree=3, gamma=1, kernel=rbf;, score=0.351 total time=  21.5s\n",
            "[CV 3/5] END C=0.01, degree=3, gamma=1, kernel=rbf;, score=0.352 total time=  21.7s\n",
            "[CV 4/5] END C=0.01, degree=3, gamma=1, kernel=rbf;, score=0.258 total time=  21.6s\n",
            "[CV 5/5] END C=0.01, degree=3, gamma=1, kernel=rbf;, score=0.283 total time=  21.8s\n",
            "[CV 1/5] END C=0.01, degree=3, gamma=1, kernel=poly;, score=0.863 total time=   4.8s\n",
            "[CV 2/5] END C=0.01, degree=3, gamma=1, kernel=poly;, score=0.846 total time=   4.6s\n",
            "[CV 3/5] END C=0.01, degree=3, gamma=1, kernel=poly;, score=0.844 total time=   4.7s\n",
            "[CV 4/5] END C=0.01, degree=3, gamma=1, kernel=poly;, score=0.843 total time=   4.8s\n",
            "[CV 5/5] END C=0.01, degree=3, gamma=1, kernel=poly;, score=0.864 total time=   4.7s\n",
            "[CV 1/5] END C=0.01, degree=3, gamma=0.1, kernel=rbf;, score=0.107 total time=  21.7s\n",
            "[CV 2/5] END C=0.01, degree=3, gamma=0.1, kernel=rbf;, score=0.105 total time=  21.7s\n",
            "[CV 3/5] END C=0.01, degree=3, gamma=0.1, kernel=rbf;, score=0.107 total time=  21.8s\n",
            "[CV 4/5] END C=0.01, degree=3, gamma=0.1, kernel=rbf;, score=0.103 total time=  21.7s\n",
            "[CV 5/5] END C=0.01, degree=3, gamma=0.1, kernel=rbf;, score=0.107 total time=  21.9s\n",
            "[CV 1/5] END C=0.01, degree=3, gamma=0.1, kernel=poly;, score=0.863 total time=   4.8s\n",
            "[CV 2/5] END C=0.01, degree=3, gamma=0.1, kernel=poly;, score=0.846 total time=   4.6s\n",
            "[CV 3/5] END C=0.01, degree=3, gamma=0.1, kernel=poly;, score=0.844 total time=   4.7s\n",
            "[CV 4/5] END C=0.01, degree=3, gamma=0.1, kernel=poly;, score=0.843 total time=   4.6s\n",
            "[CV 5/5] END C=0.01, degree=3, gamma=0.1, kernel=poly;, score=0.864 total time=   4.8s\n",
            "[CV 1/5] END C=0.01, degree=3, gamma=0.01, kernel=rbf;, score=0.299 total time=  21.9s\n",
            "[CV 2/5] END C=0.01, degree=3, gamma=0.01, kernel=rbf;, score=0.307 total time=  23.1s\n",
            "[CV 3/5] END C=0.01, degree=3, gamma=0.01, kernel=rbf;, score=0.297 total time=  21.8s\n",
            "[CV 4/5] END C=0.01, degree=3, gamma=0.01, kernel=rbf;, score=0.294 total time=  21.7s\n",
            "[CV 5/5] END C=0.01, degree=3, gamma=0.01, kernel=rbf;, score=0.301 total time=  21.7s\n",
            "[CV 1/5] END C=0.01, degree=3, gamma=0.01, kernel=poly;, score=0.866 total time=   4.8s\n",
            "[CV 2/5] END C=0.01, degree=3, gamma=0.01, kernel=poly;, score=0.845 total time=   4.7s\n",
            "[CV 3/5] END C=0.01, degree=3, gamma=0.01, kernel=poly;, score=0.829 total time=   4.6s\n",
            "[CV 4/5] END C=0.01, degree=3, gamma=0.01, kernel=poly;, score=0.850 total time=   4.7s\n",
            "[CV 5/5] END C=0.01, degree=3, gamma=0.01, kernel=poly;, score=0.850 total time=   4.7s\n",
            "[CV 1/5] END C=0.01, degree=3, gamma=0.001, kernel=rbf;, score=0.714 total time=  19.0s\n",
            "[CV 2/5] END C=0.01, degree=3, gamma=0.001, kernel=rbf;, score=0.694 total time=  19.0s\n",
            "[CV 3/5] END C=0.01, degree=3, gamma=0.001, kernel=rbf;, score=0.662 total time=  18.8s\n",
            "[CV 4/5] END C=0.01, degree=3, gamma=0.001, kernel=rbf;, score=0.694 total time=  18.8s\n",
            "[CV 5/5] END C=0.01, degree=3, gamma=0.001, kernel=rbf;, score=0.677 total time=  19.0s\n",
            "[CV 1/5] END C=0.01, degree=3, gamma=0.001, kernel=poly;, score=0.341 total time=  17.7s\n",
            "[CV 2/5] END C=0.01, degree=3, gamma=0.001, kernel=poly;, score=0.337 total time=  18.1s\n",
            "[CV 3/5] END C=0.01, degree=3, gamma=0.001, kernel=poly;, score=0.340 total time=  17.7s\n",
            "[CV 4/5] END C=0.01, degree=3, gamma=0.001, kernel=poly;, score=0.430 total time=  17.8s\n",
            "[CV 5/5] END C=0.01, degree=3, gamma=0.001, kernel=poly;, score=0.348 total time=  17.8s\n",
            "[CV 1/5] END C=0.01, degree=3, gamma=0.0001, kernel=rbf;, score=0.650 total time=  21.7s\n",
            "[CV 2/5] END C=0.01, degree=3, gamma=0.0001, kernel=rbf;, score=0.613 total time=  21.9s\n",
            "[CV 3/5] END C=0.01, degree=3, gamma=0.0001, kernel=rbf;, score=0.606 total time=  21.8s\n",
            "[CV 4/5] END C=0.01, degree=3, gamma=0.0001, kernel=rbf;, score=0.621 total time=  22.0s\n",
            "[CV 5/5] END C=0.01, degree=3, gamma=0.0001, kernel=rbf;, score=0.611 total time=  21.9s\n",
            "[CV 1/5] END C=0.01, degree=3, gamma=0.0001, kernel=poly;, score=0.268 total time=  18.2s\n",
            "[CV 2/5] END C=0.01, degree=3, gamma=0.0001, kernel=poly;, score=0.260 total time=  18.5s\n",
            "[CV 3/5] END C=0.01, degree=3, gamma=0.0001, kernel=poly;, score=0.252 total time=  18.3s\n",
            "[CV 4/5] END C=0.01, degree=3, gamma=0.0001, kernel=poly;, score=0.356 total time=  18.5s\n",
            "[CV 5/5] END C=0.01, degree=3, gamma=0.0001, kernel=poly;, score=0.268 total time=  18.4s\n",
            "[CV 1/5] END C=0.01, degree=4, gamma=1, kernel=rbf;, score=0.360 total time=  21.9s\n",
            "[CV 2/5] END C=0.01, degree=4, gamma=1, kernel=rbf;, score=0.351 total time=  21.8s\n",
            "[CV 3/5] END C=0.01, degree=4, gamma=1, kernel=rbf;, score=0.352 total time=  21.8s\n",
            "[CV 4/5] END C=0.01, degree=4, gamma=1, kernel=rbf;, score=0.258 total time=  21.7s\n",
            "[CV 5/5] END C=0.01, degree=4, gamma=1, kernel=rbf;, score=0.283 total time=  21.9s\n",
            "[CV 1/5] END C=0.01, degree=4, gamma=1, kernel=poly;, score=0.842 total time=   6.1s\n",
            "[CV 2/5] END C=0.01, degree=4, gamma=1, kernel=poly;, score=0.834 total time=   6.1s\n",
            "[CV 3/5] END C=0.01, degree=4, gamma=1, kernel=poly;, score=0.819 total time=   5.9s\n",
            "[CV 4/5] END C=0.01, degree=4, gamma=1, kernel=poly;, score=0.814 total time=   5.9s\n",
            "[CV 5/5] END C=0.01, degree=4, gamma=1, kernel=poly;, score=0.832 total time=   5.9s\n",
            "[CV 1/5] END C=0.01, degree=4, gamma=0.1, kernel=rbf;, score=0.107 total time=  22.0s\n",
            "[CV 2/5] END C=0.01, degree=4, gamma=0.1, kernel=rbf;, score=0.105 total time=  22.0s\n",
            "[CV 3/5] END C=0.01, degree=4, gamma=0.1, kernel=rbf;, score=0.107 total time=  21.9s\n",
            "[CV 4/5] END C=0.01, degree=4, gamma=0.1, kernel=rbf;, score=0.103 total time=  21.9s\n",
            "[CV 5/5] END C=0.01, degree=4, gamma=0.1, kernel=rbf;, score=0.107 total time=  21.8s\n",
            "[CV 1/5] END C=0.01, degree=4, gamma=0.1, kernel=poly;, score=0.842 total time=   6.2s\n",
            "[CV 2/5] END C=0.01, degree=4, gamma=0.1, kernel=poly;, score=0.834 total time=   6.1s\n",
            "[CV 3/5] END C=0.01, degree=4, gamma=0.1, kernel=poly;, score=0.819 total time=   5.9s\n",
            "[CV 4/5] END C=0.01, degree=4, gamma=0.1, kernel=poly;, score=0.814 total time=   5.7s\n",
            "[CV 5/5] END C=0.01, degree=4, gamma=0.1, kernel=poly;, score=0.832 total time=   5.2s\n",
            "[CV 1/5] END C=0.01, degree=4, gamma=0.01, kernel=rbf;, score=0.299 total time=  18.0s\n",
            "[CV 2/5] END C=0.01, degree=4, gamma=0.01, kernel=rbf;, score=0.307 total time=  18.1s\n",
            "[CV 3/5] END C=0.01, degree=4, gamma=0.01, kernel=rbf;, score=0.297 total time=  18.0s\n",
            "[CV 4/5] END C=0.01, degree=4, gamma=0.01, kernel=rbf;, score=0.294 total time=  17.6s\n",
            "[CV 5/5] END C=0.01, degree=4, gamma=0.01, kernel=rbf;, score=0.301 total time=  18.3s\n",
            "[CV 1/5] END C=0.01, degree=4, gamma=0.01, kernel=poly;, score=0.842 total time=   5.0s\n",
            "[CV 2/5] END C=0.01, degree=4, gamma=0.01, kernel=poly;, score=0.834 total time=   4.9s\n",
            "[CV 3/5] END C=0.01, degree=4, gamma=0.01, kernel=poly;, score=0.821 total time=   4.8s\n",
            "[CV 4/5] END C=0.01, degree=4, gamma=0.01, kernel=poly;, score=0.814 total time=   5.0s\n",
            "[CV 5/5] END C=0.01, degree=4, gamma=0.01, kernel=poly;, score=0.835 total time=   4.9s\n",
            "[CV 1/5] END C=0.01, degree=4, gamma=0.001, kernel=rbf;, score=0.714 total time=  15.8s\n",
            "[CV 2/5] END C=0.01, degree=4, gamma=0.001, kernel=rbf;, score=0.694 total time=  15.9s\n",
            "[CV 3/5] END C=0.01, degree=4, gamma=0.001, kernel=rbf;, score=0.662 total time=  15.8s\n",
            "[CV 4/5] END C=0.01, degree=4, gamma=0.001, kernel=rbf;, score=0.694 total time=  15.8s\n",
            "[CV 5/5] END C=0.01, degree=4, gamma=0.001, kernel=rbf;, score=0.677 total time=  15.8s\n",
            "[CV 1/5] END C=0.01, degree=4, gamma=0.001, kernel=poly;, score=0.238 total time=  14.4s\n",
            "[CV 2/5] END C=0.01, degree=4, gamma=0.001, kernel=poly;, score=0.236 total time=  14.4s\n",
            "[CV 3/5] END C=0.01, degree=4, gamma=0.001, kernel=poly;, score=0.239 total time=  14.7s\n",
            "[CV 4/5] END C=0.01, degree=4, gamma=0.001, kernel=poly;, score=0.291 total time=  14.9s\n",
            "[CV 5/5] END C=0.01, degree=4, gamma=0.001, kernel=poly;, score=0.230 total time=  14.8s\n",
            "[CV 1/5] END C=0.01, degree=4, gamma=0.0001, kernel=rbf;, score=0.650 total time=  18.0s\n",
            "[CV 2/5] END C=0.01, degree=4, gamma=0.0001, kernel=rbf;, score=0.613 total time=  18.1s\n",
            "[CV 3/5] END C=0.01, degree=4, gamma=0.0001, kernel=rbf;, score=0.606 total time=  18.1s\n",
            "[CV 4/5] END C=0.01, degree=4, gamma=0.0001, kernel=rbf;, score=0.621 total time=  18.2s\n",
            "[CV 5/5] END C=0.01, degree=4, gamma=0.0001, kernel=rbf;, score=0.611 total time=  18.1s\n",
            "[CV 1/5] END C=0.01, degree=4, gamma=0.0001, kernel=poly;, score=0.192 total time=  14.9s\n",
            "[CV 2/5] END C=0.01, degree=4, gamma=0.0001, kernel=poly;, score=0.190 total time=  14.9s\n",
            "[CV 3/5] END C=0.01, degree=4, gamma=0.0001, kernel=poly;, score=0.199 total time=  14.8s\n",
            "[CV 4/5] END C=0.01, degree=4, gamma=0.0001, kernel=poly;, score=0.249 total time=  15.0s\n",
            "[CV 5/5] END C=0.01, degree=4, gamma=0.0001, kernel=poly;, score=0.189 total time=  14.9s\n",
            "[CV 1/5] END C=0.1, degree=2, gamma=1, kernel=rbf;, score=0.268 total time=  18.2s\n",
            "[CV 2/5] END C=0.1, degree=2, gamma=1, kernel=rbf;, score=0.352 total time=  18.1s\n",
            "[CV 3/5] END C=0.1, degree=2, gamma=1, kernel=rbf;, score=0.270 total time=  18.1s\n",
            "[CV 4/5] END C=0.1, degree=2, gamma=1, kernel=rbf;, score=0.177 total time=  18.2s\n",
            "[CV 5/5] END C=0.1, degree=2, gamma=1, kernel=rbf;, score=0.283 total time=  18.3s\n",
            "[CV 1/5] END C=0.1, degree=2, gamma=1, kernel=poly;, score=0.865 total time=   3.9s\n",
            "[CV 2/5] END C=0.1, degree=2, gamma=1, kernel=poly;, score=0.859 total time=   3.8s\n",
            "[CV 3/5] END C=0.1, degree=2, gamma=1, kernel=poly;, score=0.845 total time=   3.8s\n",
            "[CV 4/5] END C=0.1, degree=2, gamma=1, kernel=poly;, score=0.841 total time=   3.9s\n",
            "[CV 5/5] END C=0.1, degree=2, gamma=1, kernel=poly;, score=0.861 total time=   3.8s\n",
            "[CV 1/5] END C=0.1, degree=2, gamma=0.1, kernel=rbf;, score=0.107 total time=  18.3s\n",
            "[CV 2/5] END C=0.1, degree=2, gamma=0.1, kernel=rbf;, score=0.105 total time=  17.9s\n",
            "[CV 3/5] END C=0.1, degree=2, gamma=0.1, kernel=rbf;, score=0.107 total time=  18.1s\n",
            "[CV 4/5] END C=0.1, degree=2, gamma=0.1, kernel=rbf;, score=0.103 total time=  18.0s\n",
            "[CV 5/5] END C=0.1, degree=2, gamma=0.1, kernel=rbf;, score=0.107 total time=  17.9s\n",
            "[CV 1/5] END C=0.1, degree=2, gamma=0.1, kernel=poly;, score=0.865 total time=   3.8s\n",
            "[CV 2/5] END C=0.1, degree=2, gamma=0.1, kernel=poly;, score=0.859 total time=   3.9s\n",
            "[CV 3/5] END C=0.1, degree=2, gamma=0.1, kernel=poly;, score=0.845 total time=   3.8s\n",
            "[CV 4/5] END C=0.1, degree=2, gamma=0.1, kernel=poly;, score=0.841 total time=   3.8s\n",
            "[CV 5/5] END C=0.1, degree=2, gamma=0.1, kernel=poly;, score=0.861 total time=   3.8s\n",
            "[CV 1/5] END C=0.1, degree=2, gamma=0.01, kernel=rbf;, score=0.399 total time=  17.2s\n",
            "[CV 2/5] END C=0.1, degree=2, gamma=0.01, kernel=rbf;, score=0.400 total time=  16.8s\n",
            "[CV 3/5] END C=0.1, degree=2, gamma=0.01, kernel=rbf;, score=0.398 total time=  16.9s\n",
            "[CV 4/5] END C=0.1, degree=2, gamma=0.01, kernel=rbf;, score=0.400 total time=  17.0s\n",
            "[CV 5/5] END C=0.1, degree=2, gamma=0.01, kernel=rbf;, score=0.395 total time=  16.8s\n",
            "[CV 1/5] END C=0.1, degree=2, gamma=0.01, kernel=poly;, score=0.871 total time=   3.9s\n",
            "[CV 2/5] END C=0.1, degree=2, gamma=0.01, kernel=poly;, score=0.866 total time=   4.1s\n",
            "[CV 3/5] END C=0.1, degree=2, gamma=0.01, kernel=poly;, score=0.846 total time=   3.9s\n",
            "[CV 4/5] END C=0.1, degree=2, gamma=0.01, kernel=poly;, score=0.860 total time=   3.9s\n",
            "[CV 5/5] END C=0.1, degree=2, gamma=0.01, kernel=poly;, score=0.870 total time=   4.2s\n",
            "[CV 1/5] END C=0.1, degree=2, gamma=0.001, kernel=rbf;, score=0.795 total time=   8.2s\n",
            "[CV 2/5] END C=0.1, degree=2, gamma=0.001, kernel=rbf;, score=0.769 total time=   8.0s\n",
            "[CV 3/5] END C=0.1, degree=2, gamma=0.001, kernel=rbf;, score=0.766 total time=   8.0s\n",
            "[CV 4/5] END C=0.1, degree=2, gamma=0.001, kernel=rbf;, score=0.779 total time=   8.0s\n",
            "[CV 5/5] END C=0.1, degree=2, gamma=0.001, kernel=rbf;, score=0.778 total time=   8.2s\n",
            "[CV 1/5] END C=0.1, degree=2, gamma=0.001, kernel=poly;, score=0.724 total time=   8.9s\n",
            "[CV 2/5] END C=0.1, degree=2, gamma=0.001, kernel=poly;, score=0.708 total time=   8.8s\n",
            "[CV 3/5] END C=0.1, degree=2, gamma=0.001, kernel=poly;, score=0.670 total time=   8.6s\n",
            "[CV 4/5] END C=0.1, degree=2, gamma=0.001, kernel=poly;, score=0.708 total time=   8.8s\n",
            "[CV 5/5] END C=0.1, degree=2, gamma=0.001, kernel=poly;, score=0.706 total time=   8.8s\n",
            "[CV 1/5] END C=0.1, degree=2, gamma=0.0001, kernel=rbf;, score=0.741 total time=  12.0s\n",
            "[CV 2/5] END C=0.1, degree=2, gamma=0.0001, kernel=rbf;, score=0.715 total time=  11.9s\n",
            "[CV 3/5] END C=0.1, degree=2, gamma=0.0001, kernel=rbf;, score=0.693 total time=  11.9s\n",
            "[CV 4/5] END C=0.1, degree=2, gamma=0.0001, kernel=rbf;, score=0.715 total time=  11.9s\n",
            "[CV 5/5] END C=0.1, degree=2, gamma=0.0001, kernel=rbf;, score=0.707 total time=  12.0s\n",
            "[CV 1/5] END C=0.1, degree=2, gamma=0.0001, kernel=poly;, score=0.424 total time=  15.1s\n",
            "[CV 2/5] END C=0.1, degree=2, gamma=0.0001, kernel=poly;, score=0.368 total time=  14.8s\n",
            "[CV 3/5] END C=0.1, degree=2, gamma=0.0001, kernel=poly;, score=0.358 total time=  14.7s\n",
            "[CV 4/5] END C=0.1, degree=2, gamma=0.0001, kernel=poly;, score=0.421 total time=  14.7s\n",
            "[CV 5/5] END C=0.1, degree=2, gamma=0.0001, kernel=poly;, score=0.415 total time=  14.8s\n",
            "[CV 1/5] END C=0.1, degree=3, gamma=1, kernel=rbf;, score=0.268 total time=  18.0s\n",
            "[CV 2/5] END C=0.1, degree=3, gamma=1, kernel=rbf;, score=0.352 total time=  17.9s\n",
            "[CV 3/5] END C=0.1, degree=3, gamma=1, kernel=rbf;, score=0.270 total time=  18.2s\n",
            "[CV 4/5] END C=0.1, degree=3, gamma=1, kernel=rbf;, score=0.177 total time=  18.0s\n",
            "[CV 5/5] END C=0.1, degree=3, gamma=1, kernel=rbf;, score=0.283 total time=  18.2s\n",
            "[CV 1/5] END C=0.1, degree=3, gamma=1, kernel=poly;, score=0.863 total time=   4.1s\n",
            "[CV 2/5] END C=0.1, degree=3, gamma=1, kernel=poly;, score=0.846 total time=   3.9s\n",
            "[CV 3/5] END C=0.1, degree=3, gamma=1, kernel=poly;, score=0.844 total time=   4.0s\n",
            "[CV 4/5] END C=0.1, degree=3, gamma=1, kernel=poly;, score=0.843 total time=   4.0s\n",
            "[CV 5/5] END C=0.1, degree=3, gamma=1, kernel=poly;, score=0.864 total time=   4.2s\n",
            "[CV 1/5] END C=0.1, degree=3, gamma=0.1, kernel=rbf;, score=0.107 total time=  18.2s\n",
            "[CV 2/5] END C=0.1, degree=3, gamma=0.1, kernel=rbf;, score=0.105 total time=  18.5s\n",
            "[CV 3/5] END C=0.1, degree=3, gamma=0.1, kernel=rbf;, score=0.107 total time=  18.2s\n",
            "[CV 4/5] END C=0.1, degree=3, gamma=0.1, kernel=rbf;, score=0.103 total time=  18.2s\n",
            "[CV 5/5] END C=0.1, degree=3, gamma=0.1, kernel=rbf;, score=0.107 total time=  18.4s\n",
            "[CV 1/5] END C=0.1, degree=3, gamma=0.1, kernel=poly;, score=0.863 total time=   4.1s\n",
            "[CV 2/5] END C=0.1, degree=3, gamma=0.1, kernel=poly;, score=0.846 total time=   3.8s\n",
            "[CV 3/5] END C=0.1, degree=3, gamma=0.1, kernel=poly;, score=0.844 total time=   3.9s\n",
            "[CV 4/5] END C=0.1, degree=3, gamma=0.1, kernel=poly;, score=0.843 total time=   4.0s\n",
            "[CV 5/5] END C=0.1, degree=3, gamma=0.1, kernel=poly;, score=0.864 total time=   3.9s\n",
            "[CV 1/5] END C=0.1, degree=3, gamma=0.01, kernel=rbf;, score=0.399 total time=  17.1s\n",
            "[CV 2/5] END C=0.1, degree=3, gamma=0.01, kernel=rbf;, score=0.400 total time=  17.0s\n",
            "[CV 3/5] END C=0.1, degree=3, gamma=0.01, kernel=rbf;, score=0.398 total time=  16.8s\n",
            "[CV 4/5] END C=0.1, degree=3, gamma=0.01, kernel=rbf;, score=0.400 total time=  16.6s\n",
            "[CV 5/5] END C=0.1, degree=3, gamma=0.01, kernel=rbf;, score=0.395 total time=  16.9s\n",
            "[CV 1/5] END C=0.1, degree=3, gamma=0.01, kernel=poly;, score=0.858 total time=   4.1s\n",
            "[CV 2/5] END C=0.1, degree=3, gamma=0.01, kernel=poly;, score=0.845 total time=   3.9s\n",
            "[CV 3/5] END C=0.1, degree=3, gamma=0.01, kernel=poly;, score=0.845 total time=   4.0s\n",
            "[CV 4/5] END C=0.1, degree=3, gamma=0.01, kernel=poly;, score=0.844 total time=   4.0s\n",
            "[CV 5/5] END C=0.1, degree=3, gamma=0.01, kernel=poly;, score=0.864 total time=   4.0s\n",
            "[CV 1/5] END C=0.1, degree=3, gamma=0.001, kernel=rbf;, score=0.795 total time=   8.0s\n",
            "[CV 2/5] END C=0.1, degree=3, gamma=0.001, kernel=rbf;, score=0.769 total time=   8.0s\n",
            "[CV 3/5] END C=0.1, degree=3, gamma=0.001, kernel=rbf;, score=0.766 total time=   7.9s\n",
            "[CV 4/5] END C=0.1, degree=3, gamma=0.001, kernel=rbf;, score=0.779 total time=   8.0s\n",
            "[CV 5/5] END C=0.1, degree=3, gamma=0.001, kernel=rbf;, score=0.778 total time=   7.9s\n",
            "[CV 1/5] END C=0.1, degree=3, gamma=0.001, kernel=poly;, score=0.670 total time=   9.9s\n",
            "[CV 2/5] END C=0.1, degree=3, gamma=0.001, kernel=poly;, score=0.660 total time=  10.1s\n",
            "[CV 3/5] END C=0.1, degree=3, gamma=0.001, kernel=poly;, score=0.624 total time=   9.8s\n",
            "[CV 4/5] END C=0.1, degree=3, gamma=0.001, kernel=poly;, score=0.664 total time=  10.0s\n",
            "[CV 5/5] END C=0.1, degree=3, gamma=0.001, kernel=poly;, score=0.647 total time=  10.0s\n",
            "[CV 1/5] END C=0.1, degree=3, gamma=0.0001, kernel=rbf;, score=0.741 total time=  12.3s\n",
            "[CV 2/5] END C=0.1, degree=3, gamma=0.0001, kernel=rbf;, score=0.715 total time=  11.9s\n",
            "[CV 3/5] END C=0.1, degree=3, gamma=0.0001, kernel=rbf;, score=0.693 total time=  11.9s\n",
            "[CV 4/5] END C=0.1, degree=3, gamma=0.0001, kernel=rbf;, score=0.715 total time=  12.1s\n",
            "[CV 5/5] END C=0.1, degree=3, gamma=0.0001, kernel=rbf;, score=0.707 total time=  12.0s\n",
            "[CV 1/5] END C=0.1, degree=3, gamma=0.0001, kernel=poly;, score=0.268 total time=  14.7s\n",
            "[CV 2/5] END C=0.1, degree=3, gamma=0.0001, kernel=poly;, score=0.260 total time=  14.9s\n",
            "[CV 3/5] END C=0.1, degree=3, gamma=0.0001, kernel=poly;, score=0.252 total time=  14.8s\n",
            "[CV 4/5] END C=0.1, degree=3, gamma=0.0001, kernel=poly;, score=0.356 total time=  14.8s\n",
            "[CV 5/5] END C=0.1, degree=3, gamma=0.0001, kernel=poly;, score=0.268 total time=  14.7s\n",
            "[CV 1/5] END C=0.1, degree=4, gamma=1, kernel=rbf;, score=0.268 total time=  18.2s\n",
            "[CV 2/5] END C=0.1, degree=4, gamma=1, kernel=rbf;, score=0.352 total time=  17.8s\n",
            "[CV 3/5] END C=0.1, degree=4, gamma=1, kernel=rbf;, score=0.270 total time=  17.8s\n",
            "[CV 4/5] END C=0.1, degree=4, gamma=1, kernel=rbf;, score=0.177 total time=  18.1s\n",
            "[CV 5/5] END C=0.1, degree=4, gamma=1, kernel=rbf;, score=0.283 total time=  18.0s\n",
            "[CV 1/5] END C=0.1, degree=4, gamma=1, kernel=poly;, score=0.842 total time=   5.2s\n",
            "[CV 2/5] END C=0.1, degree=4, gamma=1, kernel=poly;, score=0.834 total time=   5.2s\n",
            "[CV 3/5] END C=0.1, degree=4, gamma=1, kernel=poly;, score=0.819 total time=   5.1s\n",
            "[CV 4/5] END C=0.1, degree=4, gamma=1, kernel=poly;, score=0.814 total time=   5.0s\n",
            "[CV 5/5] END C=0.1, degree=4, gamma=1, kernel=poly;, score=0.832 total time=   5.1s\n",
            "[CV 1/5] END C=0.1, degree=4, gamma=0.1, kernel=rbf;, score=0.107 total time=  18.4s\n",
            "[CV 2/5] END C=0.1, degree=4, gamma=0.1, kernel=rbf;, score=0.105 total time=  18.2s\n",
            "[CV 3/5] END C=0.1, degree=4, gamma=0.1, kernel=rbf;, score=0.107 total time=  18.2s\n",
            "[CV 4/5] END C=0.1, degree=4, gamma=0.1, kernel=rbf;, score=0.103 total time=  18.0s\n",
            "[CV 5/5] END C=0.1, degree=4, gamma=0.1, kernel=rbf;, score=0.107 total time=  18.0s\n",
            "[CV 1/5] END C=0.1, degree=4, gamma=0.1, kernel=poly;, score=0.842 total time=   5.3s\n",
            "[CV 2/5] END C=0.1, degree=4, gamma=0.1, kernel=poly;, score=0.834 total time=   5.4s\n",
            "[CV 3/5] END C=0.1, degree=4, gamma=0.1, kernel=poly;, score=0.819 total time=   5.1s\n",
            "[CV 4/5] END C=0.1, degree=4, gamma=0.1, kernel=poly;, score=0.814 total time=   5.2s\n",
            "[CV 5/5] END C=0.1, degree=4, gamma=0.1, kernel=poly;, score=0.832 total time=   5.2s\n",
            "[CV 1/5] END C=0.1, degree=4, gamma=0.01, kernel=rbf;, score=0.399 total time=  16.9s\n",
            "[CV 2/5] END C=0.1, degree=4, gamma=0.01, kernel=rbf;, score=0.400 total time=  17.0s\n",
            "[CV 3/5] END C=0.1, degree=4, gamma=0.01, kernel=rbf;, score=0.398 total time=  16.9s\n",
            "[CV 4/5] END C=0.1, degree=4, gamma=0.01, kernel=rbf;, score=0.400 total time=  17.0s\n",
            "[CV 5/5] END C=0.1, degree=4, gamma=0.01, kernel=rbf;, score=0.395 total time=  17.1s\n",
            "[CV 1/5] END C=0.1, degree=4, gamma=0.01, kernel=poly;, score=0.843 total time=   5.2s\n",
            "[CV 2/5] END C=0.1, degree=4, gamma=0.01, kernel=poly;, score=0.833 total time=   5.2s\n",
            "[CV 3/5] END C=0.1, degree=4, gamma=0.01, kernel=poly;, score=0.818 total time=   5.0s\n",
            "[CV 4/5] END C=0.1, degree=4, gamma=0.01, kernel=poly;, score=0.815 total time=   5.2s\n",
            "[CV 5/5] END C=0.1, degree=4, gamma=0.01, kernel=poly;, score=0.831 total time=   5.0s\n",
            "[CV 1/5] END C=0.1, degree=4, gamma=0.001, kernel=rbf;, score=0.795 total time=   8.1s\n",
            "[CV 2/5] END C=0.1, degree=4, gamma=0.001, kernel=rbf;, score=0.769 total time=   8.1s\n",
            "[CV 3/5] END C=0.1, degree=4, gamma=0.001, kernel=rbf;, score=0.766 total time=   7.9s\n",
            "[CV 4/5] END C=0.1, degree=4, gamma=0.001, kernel=rbf;, score=0.779 total time=   8.0s\n",
            "[CV 5/5] END C=0.1, degree=4, gamma=0.001, kernel=rbf;, score=0.778 total time=   7.9s\n",
            "[CV 1/5] END C=0.1, degree=4, gamma=0.001, kernel=poly;, score=0.509 total time=  12.2s\n",
            "[CV 2/5] END C=0.1, degree=4, gamma=0.001, kernel=poly;, score=0.509 total time=  12.3s\n",
            "[CV 3/5] END C=0.1, degree=4, gamma=0.001, kernel=poly;, score=0.481 total time=  12.0s\n",
            "[CV 4/5] END C=0.1, degree=4, gamma=0.001, kernel=poly;, score=0.507 total time=  12.5s\n",
            "[CV 5/5] END C=0.1, degree=4, gamma=0.001, kernel=poly;, score=0.486 total time=  12.1s\n",
            "[CV 1/5] END C=0.1, degree=4, gamma=0.0001, kernel=rbf;, score=0.741 total time=  12.1s\n",
            "[CV 2/5] END C=0.1, degree=4, gamma=0.0001, kernel=rbf;, score=0.715 total time=  12.2s\n",
            "[CV 3/5] END C=0.1, degree=4, gamma=0.0001, kernel=rbf;, score=0.693 total time=  12.0s\n",
            "[CV 4/5] END C=0.1, degree=4, gamma=0.0001, kernel=rbf;, score=0.715 total time=  12.1s\n",
            "[CV 5/5] END C=0.1, degree=4, gamma=0.0001, kernel=rbf;, score=0.707 total time=  12.1s\n",
            "[CV 1/5] END C=0.1, degree=4, gamma=0.0001, kernel=poly;, score=0.192 total time=  14.9s\n",
            "[CV 2/5] END C=0.1, degree=4, gamma=0.0001, kernel=poly;, score=0.190 total time=  14.8s\n",
            "[CV 3/5] END C=0.1, degree=4, gamma=0.0001, kernel=poly;, score=0.199 total time=  14.6s\n",
            "[CV 4/5] END C=0.1, degree=4, gamma=0.0001, kernel=poly;, score=0.249 total time=  15.1s\n",
            "[CV 5/5] END C=0.1, degree=4, gamma=0.0001, kernel=poly;, score=0.189 total time=  15.1s\n",
            "[CV 1/5] END C=1, degree=2, gamma=1, kernel=rbf;, score=0.104 total time=  18.3s\n",
            "[CV 2/5] END C=1, degree=2, gamma=1, kernel=rbf;, score=0.104 total time=  18.6s\n",
            "[CV 3/5] END C=1, degree=2, gamma=1, kernel=rbf;, score=0.104 total time=  18.2s\n",
            "[CV 4/5] END C=1, degree=2, gamma=1, kernel=rbf;, score=0.102 total time=  21.8s\n",
            "[CV 5/5] END C=1, degree=2, gamma=1, kernel=rbf;, score=0.104 total time=  18.2s\n",
            "[CV 1/5] END C=1, degree=2, gamma=1, kernel=poly;, score=0.865 total time=   4.2s\n",
            "[CV 2/5] END C=1, degree=2, gamma=1, kernel=poly;, score=0.859 total time=   3.9s\n",
            "[CV 3/5] END C=1, degree=2, gamma=1, kernel=poly;, score=0.845 total time=   3.9s\n",
            "[CV 4/5] END C=1, degree=2, gamma=1, kernel=poly;, score=0.841 total time=   4.1s\n",
            "[CV 5/5] END C=1, degree=2, gamma=1, kernel=poly;, score=0.861 total time=   4.0s\n",
            "[CV 1/5] END C=1, degree=2, gamma=0.1, kernel=rbf;, score=0.182 total time=  18.9s\n",
            "[CV 2/5] END C=1, degree=2, gamma=0.1, kernel=rbf;, score=0.179 total time=  18.9s\n",
            "[CV 3/5] END C=1, degree=2, gamma=0.1, kernel=rbf;, score=0.186 total time=  18.5s\n",
            "[CV 4/5] END C=1, degree=2, gamma=0.1, kernel=rbf;, score=0.168 total time=  19.1s\n",
            "[CV 5/5] END C=1, degree=2, gamma=0.1, kernel=rbf;, score=0.196 total time=  18.7s\n",
            "[CV 1/5] END C=1, degree=2, gamma=0.1, kernel=poly;, score=0.865 total time=   3.9s\n",
            "[CV 2/5] END C=1, degree=2, gamma=0.1, kernel=poly;, score=0.859 total time=   3.8s\n",
            "[CV 3/5] END C=1, degree=2, gamma=0.1, kernel=poly;, score=0.845 total time=   3.9s\n",
            "[CV 4/5] END C=1, degree=2, gamma=0.1, kernel=poly;, score=0.841 total time=   4.0s\n",
            "[CV 5/5] END C=1, degree=2, gamma=0.1, kernel=poly;, score=0.861 total time=   4.1s\n",
            "[CV 1/5] END C=1, degree=2, gamma=0.01, kernel=rbf;, score=0.721 total time=  17.1s\n",
            "[CV 2/5] END C=1, degree=2, gamma=0.01, kernel=rbf;, score=0.710 total time=  17.0s\n",
            "[CV 3/5] END C=1, degree=2, gamma=0.01, kernel=rbf;, score=0.714 total time=  17.0s\n",
            "[CV 4/5] END C=1, degree=2, gamma=0.01, kernel=rbf;, score=0.714 total time=  16.9s\n",
            "[CV 5/5] END C=1, degree=2, gamma=0.01, kernel=rbf;, score=0.719 total time=  16.7s\n",
            "[CV 1/5] END C=1, degree=2, gamma=0.01, kernel=poly;, score=0.866 total time=   4.0s\n",
            "[CV 2/5] END C=1, degree=2, gamma=0.01, kernel=poly;, score=0.862 total time=   3.9s\n",
            "[CV 3/5] END C=1, degree=2, gamma=0.01, kernel=poly;, score=0.846 total time=   3.8s\n",
            "[CV 4/5] END C=1, degree=2, gamma=0.01, kernel=poly;, score=0.843 total time=   3.9s\n",
            "[CV 5/5] END C=1, degree=2, gamma=0.01, kernel=poly;, score=0.865 total time=   3.9s\n",
            "[CV 1/5] END C=1, degree=2, gamma=0.001, kernel=rbf;, score=0.857 total time=   5.3s\n",
            "[CV 2/5] END C=1, degree=2, gamma=0.001, kernel=rbf;, score=0.840 total time=   5.3s\n",
            "[CV 3/5] END C=1, degree=2, gamma=0.001, kernel=rbf;, score=0.828 total time=   5.2s\n",
            "[CV 4/5] END C=1, degree=2, gamma=0.001, kernel=rbf;, score=0.852 total time=   5.2s\n",
            "[CV 5/5] END C=1, degree=2, gamma=0.001, kernel=rbf;, score=0.846 total time=   5.2s\n",
            "[CV 1/5] END C=1, degree=2, gamma=0.001, kernel=poly;, score=0.835 total time=   5.0s\n",
            "[CV 2/5] END C=1, degree=2, gamma=0.001, kernel=poly;, score=0.817 total time=   5.0s\n",
            "[CV 3/5] END C=1, degree=2, gamma=0.001, kernel=poly;, score=0.800 total time=   5.0s\n",
            "[CV 4/5] END C=1, degree=2, gamma=0.001, kernel=poly;, score=0.828 total time=   4.8s\n",
            "[CV 5/5] END C=1, degree=2, gamma=0.001, kernel=poly;, score=0.824 total time=   4.9s\n",
            "[CV 1/5] END C=1, degree=2, gamma=0.0001, kernel=rbf;, score=0.809 total time=   6.5s\n",
            "[CV 2/5] END C=1, degree=2, gamma=0.0001, kernel=rbf;, score=0.786 total time=   6.5s\n",
            "[CV 3/5] END C=1, degree=2, gamma=0.0001, kernel=rbf;, score=0.781 total time=   6.4s\n",
            "[CV 4/5] END C=1, degree=2, gamma=0.0001, kernel=rbf;, score=0.791 total time=   6.4s\n",
            "[CV 5/5] END C=1, degree=2, gamma=0.0001, kernel=rbf;, score=0.796 total time=   6.3s\n",
            "[CV 1/5] END C=1, degree=2, gamma=0.0001, kernel=poly;, score=0.542 total time=  14.4s\n",
            "[CV 2/5] END C=1, degree=2, gamma=0.0001, kernel=poly;, score=0.504 total time=  14.5s\n",
            "[CV 3/5] END C=1, degree=2, gamma=0.0001, kernel=poly;, score=0.494 total time=  14.6s\n",
            "[CV 4/5] END C=1, degree=2, gamma=0.0001, kernel=poly;, score=0.524 total time=  14.4s\n",
            "[CV 5/5] END C=1, degree=2, gamma=0.0001, kernel=poly;, score=0.521 total time=  14.3s\n",
            "[CV 1/5] END C=1, degree=3, gamma=1, kernel=rbf;, score=0.104 total time=  18.3s\n",
            "[CV 2/5] END C=1, degree=3, gamma=1, kernel=rbf;, score=0.104 total time=  18.2s\n",
            "[CV 3/5] END C=1, degree=3, gamma=1, kernel=rbf;, score=0.104 total time=  18.2s\n",
            "[CV 4/5] END C=1, degree=3, gamma=1, kernel=rbf;, score=0.102 total time=  18.2s\n",
            "[CV 5/5] END C=1, degree=3, gamma=1, kernel=rbf;, score=0.104 total time=  18.2s\n",
            "[CV 1/5] END C=1, degree=3, gamma=1, kernel=poly;, score=0.863 total time=   4.1s\n",
            "[CV 2/5] END C=1, degree=3, gamma=1, kernel=poly;, score=0.846 total time=   4.1s\n",
            "[CV 3/5] END C=1, degree=3, gamma=1, kernel=poly;, score=0.844 total time=   4.1s\n",
            "[CV 4/5] END C=1, degree=3, gamma=1, kernel=poly;, score=0.843 total time=   4.2s\n",
            "[CV 5/5] END C=1, degree=3, gamma=1, kernel=poly;, score=0.864 total time=   4.1s\n",
            "[CV 1/5] END C=1, degree=3, gamma=0.1, kernel=rbf;, score=0.182 total time=  19.0s\n",
            "[CV 2/5] END C=1, degree=3, gamma=0.1, kernel=rbf;, score=0.179 total time=  19.0s\n",
            "[CV 3/5] END C=1, degree=3, gamma=0.1, kernel=rbf;, score=0.186 total time=  18.9s\n",
            "[CV 4/5] END C=1, degree=3, gamma=0.1, kernel=rbf;, score=0.168 total time=  18.5s\n",
            "[CV 5/5] END C=1, degree=3, gamma=0.1, kernel=rbf;, score=0.196 total time=  18.6s\n",
            "[CV 1/5] END C=1, degree=3, gamma=0.1, kernel=poly;, score=0.863 total time=   4.2s\n",
            "[CV 2/5] END C=1, degree=3, gamma=0.1, kernel=poly;, score=0.846 total time=   4.0s\n",
            "[CV 3/5] END C=1, degree=3, gamma=0.1, kernel=poly;, score=0.844 total time=   4.0s\n",
            "[CV 4/5] END C=1, degree=3, gamma=0.1, kernel=poly;, score=0.843 total time=   4.0s\n",
            "[CV 5/5] END C=1, degree=3, gamma=0.1, kernel=poly;, score=0.864 total time=   3.9s\n",
            "[CV 1/5] END C=1, degree=3, gamma=0.01, kernel=rbf;, score=0.721 total time=  17.0s\n",
            "[CV 2/5] END C=1, degree=3, gamma=0.01, kernel=rbf;, score=0.710 total time=  16.9s\n",
            "[CV 3/5] END C=1, degree=3, gamma=0.01, kernel=rbf;, score=0.714 total time=  16.7s\n",
            "[CV 4/5] END C=1, degree=3, gamma=0.01, kernel=rbf;, score=0.714 total time=  16.9s\n",
            "[CV 5/5] END C=1, degree=3, gamma=0.01, kernel=rbf;, score=0.719 total time=  17.0s\n",
            "[CV 1/5] END C=1, degree=3, gamma=0.01, kernel=poly;, score=0.863 total time=   4.2s\n",
            "[CV 2/5] END C=1, degree=3, gamma=0.01, kernel=poly;, score=0.846 total time=   4.0s\n",
            "[CV 3/5] END C=1, degree=3, gamma=0.01, kernel=poly;, score=0.844 total time=   4.1s\n",
            "[CV 4/5] END C=1, degree=3, gamma=0.01, kernel=poly;, score=0.843 total time=   4.2s\n",
            "[CV 5/5] END C=1, degree=3, gamma=0.01, kernel=poly;, score=0.864 total time=   4.2s\n",
            "[CV 1/5] END C=1, degree=3, gamma=0.001, kernel=rbf;, score=0.857 total time=   5.4s\n",
            "[CV 2/5] END C=1, degree=3, gamma=0.001, kernel=rbf;, score=0.840 total time=   5.4s\n",
            "[CV 3/5] END C=1, degree=3, gamma=0.001, kernel=rbf;, score=0.828 total time=   5.3s\n",
            "[CV 4/5] END C=1, degree=3, gamma=0.001, kernel=rbf;, score=0.852 total time=   5.3s\n",
            "[CV 5/5] END C=1, degree=3, gamma=0.001, kernel=rbf;, score=0.846 total time=   5.3s\n",
            "[CV 1/5] END C=1, degree=3, gamma=0.001, kernel=poly;, score=0.786 total time=   5.7s\n",
            "[CV 2/5] END C=1, degree=3, gamma=0.001, kernel=poly;, score=0.770 total time=   5.6s\n",
            "[CV 3/5] END C=1, degree=3, gamma=0.001, kernel=poly;, score=0.744 total time=   5.5s\n",
            "[CV 4/5] END C=1, degree=3, gamma=0.001, kernel=poly;, score=0.778 total time=   5.6s\n",
            "[CV 5/5] END C=1, degree=3, gamma=0.001, kernel=poly;, score=0.779 total time=   5.7s\n",
            "[CV 1/5] END C=1, degree=3, gamma=0.0001, kernel=rbf;, score=0.809 total time=   6.7s\n",
            "[CV 2/5] END C=1, degree=3, gamma=0.0001, kernel=rbf;, score=0.786 total time=   6.7s\n",
            "[CV 3/5] END C=1, degree=3, gamma=0.0001, kernel=rbf;, score=0.781 total time=   6.5s\n",
            "[CV 4/5] END C=1, degree=3, gamma=0.0001, kernel=rbf;, score=0.791 total time=   6.4s\n",
            "[CV 5/5] END C=1, degree=3, gamma=0.0001, kernel=rbf;, score=0.796 total time=   6.4s\n",
            "[CV 1/5] END C=1, degree=3, gamma=0.0001, kernel=poly;, score=0.268 total time=  15.2s\n",
            "[CV 2/5] END C=1, degree=3, gamma=0.0001, kernel=poly;, score=0.263 total time=  14.9s\n",
            "[CV 3/5] END C=1, degree=3, gamma=0.0001, kernel=poly;, score=0.253 total time=  15.0s\n",
            "[CV 4/5] END C=1, degree=3, gamma=0.0001, kernel=poly;, score=0.357 total time=  14.9s\n",
            "[CV 5/5] END C=1, degree=3, gamma=0.0001, kernel=poly;, score=0.268 total time=  14.8s\n",
            "[CV 1/5] END C=1, degree=4, gamma=1, kernel=rbf;, score=0.104 total time=  18.2s\n",
            "[CV 2/5] END C=1, degree=4, gamma=1, kernel=rbf;, score=0.104 total time=  18.5s\n",
            "[CV 3/5] END C=1, degree=4, gamma=1, kernel=rbf;, score=0.104 total time=  18.0s\n",
            "[CV 4/5] END C=1, degree=4, gamma=1, kernel=rbf;, score=0.102 total time=  18.3s\n",
            "[CV 5/5] END C=1, degree=4, gamma=1, kernel=rbf;, score=0.104 total time=  18.3s\n",
            "[CV 1/5] END C=1, degree=4, gamma=1, kernel=poly;, score=0.842 total time=   5.2s\n",
            "[CV 2/5] END C=1, degree=4, gamma=1, kernel=poly;, score=0.834 total time=   5.1s\n",
            "[CV 3/5] END C=1, degree=4, gamma=1, kernel=poly;, score=0.819 total time=   5.0s\n",
            "[CV 4/5] END C=1, degree=4, gamma=1, kernel=poly;, score=0.814 total time=   5.0s\n",
            "[CV 5/5] END C=1, degree=4, gamma=1, kernel=poly;, score=0.832 total time=   5.1s\n",
            "[CV 1/5] END C=1, degree=4, gamma=0.1, kernel=rbf;, score=0.182 total time=  18.8s\n",
            "[CV 2/5] END C=1, degree=4, gamma=0.1, kernel=rbf;, score=0.179 total time=  18.8s\n",
            "[CV 3/5] END C=1, degree=4, gamma=0.1, kernel=rbf;, score=0.186 total time=  18.8s\n",
            "[CV 4/5] END C=1, degree=4, gamma=0.1, kernel=rbf;, score=0.168 total time=  18.8s\n",
            "[CV 5/5] END C=1, degree=4, gamma=0.1, kernel=rbf;, score=0.196 total time=  18.8s\n",
            "[CV 1/5] END C=1, degree=4, gamma=0.1, kernel=poly;, score=0.842 total time=   5.2s\n",
            "[CV 2/5] END C=1, degree=4, gamma=0.1, kernel=poly;, score=0.834 total time=   5.1s\n",
            "[CV 3/5] END C=1, degree=4, gamma=0.1, kernel=poly;, score=0.819 total time=   4.9s\n",
            "[CV 4/5] END C=1, degree=4, gamma=0.1, kernel=poly;, score=0.814 total time=   5.1s\n",
            "[CV 5/5] END C=1, degree=4, gamma=0.1, kernel=poly;, score=0.832 total time=   5.1s\n",
            "[CV 1/5] END C=1, degree=4, gamma=0.01, kernel=rbf;, score=0.721 total time=  17.0s\n",
            "[CV 2/5] END C=1, degree=4, gamma=0.01, kernel=rbf;, score=0.710 total time=  17.2s\n",
            "[CV 3/5] END C=1, degree=4, gamma=0.01, kernel=rbf;, score=0.714 total time=  17.2s\n",
            "[CV 4/5] END C=1, degree=4, gamma=0.01, kernel=rbf;, score=0.714 total time=  17.3s\n",
            "[CV 5/5] END C=1, degree=4, gamma=0.01, kernel=rbf;, score=0.719 total time=  16.8s\n",
            "[CV 1/5] END C=1, degree=4, gamma=0.01, kernel=poly;, score=0.842 total time=   5.5s\n",
            "[CV 2/5] END C=1, degree=4, gamma=0.01, kernel=poly;, score=0.834 total time=   5.5s\n",
            "[CV 3/5] END C=1, degree=4, gamma=0.01, kernel=poly;, score=0.819 total time=   5.1s\n",
            "[CV 4/5] END C=1, degree=4, gamma=0.01, kernel=poly;, score=0.814 total time=   5.2s\n",
            "[CV 5/5] END C=1, degree=4, gamma=0.01, kernel=poly;, score=0.832 total time=   5.1s\n",
            "[CV 1/5] END C=1, degree=4, gamma=0.001, kernel=rbf;, score=0.857 total time=   5.4s\n",
            "[CV 2/5] END C=1, degree=4, gamma=0.001, kernel=rbf;, score=0.840 total time=   5.3s\n",
            "[CV 3/5] END C=1, degree=4, gamma=0.001, kernel=rbf;, score=0.828 total time=   5.2s\n",
            "[CV 4/5] END C=1, degree=4, gamma=0.001, kernel=rbf;, score=0.852 total time=   5.2s\n",
            "[CV 5/5] END C=1, degree=4, gamma=0.001, kernel=rbf;, score=0.846 total time=   5.3s\n",
            "[CV 1/5] END C=1, degree=4, gamma=0.001, kernel=poly;, score=0.689 total time=   8.0s\n",
            "[CV 2/5] END C=1, degree=4, gamma=0.001, kernel=poly;, score=0.694 total time=   7.9s\n",
            "[CV 3/5] END C=1, degree=4, gamma=0.001, kernel=poly;, score=0.649 total time=   7.6s\n",
            "[CV 4/5] END C=1, degree=4, gamma=0.001, kernel=poly;, score=0.694 total time=   7.8s\n",
            "[CV 5/5] END C=1, degree=4, gamma=0.001, kernel=poly;, score=0.690 total time=   7.7s\n",
            "[CV 1/5] END C=1, degree=4, gamma=0.0001, kernel=rbf;, score=0.809 total time=   6.3s\n",
            "[CV 2/5] END C=1, degree=4, gamma=0.0001, kernel=rbf;, score=0.786 total time=   6.3s\n",
            "[CV 3/5] END C=1, degree=4, gamma=0.0001, kernel=rbf;, score=0.781 total time=   6.3s\n",
            "[CV 4/5] END C=1, degree=4, gamma=0.0001, kernel=rbf;, score=0.791 total time=   6.3s\n",
            "[CV 5/5] END C=1, degree=4, gamma=0.0001, kernel=rbf;, score=0.796 total time=   6.3s\n",
            "[CV 1/5] END C=1, degree=4, gamma=0.0001, kernel=poly;, score=0.192 total time=  14.8s\n",
            "[CV 2/5] END C=1, degree=4, gamma=0.0001, kernel=poly;, score=0.190 total time=  15.1s\n",
            "[CV 3/5] END C=1, degree=4, gamma=0.0001, kernel=poly;, score=0.199 total time=  14.8s\n",
            "[CV 4/5] END C=1, degree=4, gamma=0.0001, kernel=poly;, score=0.250 total time=  15.0s\n",
            "[CV 5/5] END C=1, degree=4, gamma=0.0001, kernel=poly;, score=0.189 total time=  14.9s\n",
            "[CV 1/5] END C=10, degree=2, gamma=1, kernel=rbf;, score=0.107 total time=  18.2s\n",
            "[CV 2/5] END C=10, degree=2, gamma=1, kernel=rbf;, score=0.106 total time=  18.3s\n",
            "[CV 3/5] END C=10, degree=2, gamma=1, kernel=rbf;, score=0.106 total time=  18.4s\n",
            "[CV 4/5] END C=10, degree=2, gamma=1, kernel=rbf;, score=0.105 total time=  18.9s\n",
            "[CV 5/5] END C=10, degree=2, gamma=1, kernel=rbf;, score=0.108 total time=  18.4s\n",
            "[CV 1/5] END C=10, degree=2, gamma=1, kernel=poly;, score=0.865 total time=   4.1s\n",
            "[CV 2/5] END C=10, degree=2, gamma=1, kernel=poly;, score=0.859 total time=   3.9s\n",
            "[CV 3/5] END C=10, degree=2, gamma=1, kernel=poly;, score=0.845 total time=   4.0s\n",
            "[CV 4/5] END C=10, degree=2, gamma=1, kernel=poly;, score=0.841 total time=   4.1s\n",
            "[CV 5/5] END C=10, degree=2, gamma=1, kernel=poly;, score=0.861 total time=   4.0s\n",
            "[CV 1/5] END C=10, degree=2, gamma=0.1, kernel=rbf;, score=0.199 total time=  18.7s\n",
            "[CV 2/5] END C=10, degree=2, gamma=0.1, kernel=rbf;, score=0.193 total time=  19.1s\n",
            "[CV 3/5] END C=10, degree=2, gamma=0.1, kernel=rbf;, score=0.201 total time=  18.8s\n",
            "[CV 4/5] END C=10, degree=2, gamma=0.1, kernel=rbf;, score=0.181 total time=  19.0s\n",
            "[CV 5/5] END C=10, degree=2, gamma=0.1, kernel=rbf;, score=0.206 total time=  19.1s\n",
            "[CV 1/5] END C=10, degree=2, gamma=0.1, kernel=poly;, score=0.865 total time=   4.2s\n",
            "[CV 2/5] END C=10, degree=2, gamma=0.1, kernel=poly;, score=0.859 total time=   4.1s\n",
            "[CV 3/5] END C=10, degree=2, gamma=0.1, kernel=poly;, score=0.845 total time=   3.9s\n",
            "[CV 4/5] END C=10, degree=2, gamma=0.1, kernel=poly;, score=0.841 total time=   4.0s\n",
            "[CV 5/5] END C=10, degree=2, gamma=0.1, kernel=poly;, score=0.861 total time=   4.1s\n",
            "[CV 1/5] END C=10, degree=2, gamma=0.01, kernel=rbf;, score=0.743 total time=  17.6s\n",
            "[CV 2/5] END C=10, degree=2, gamma=0.01, kernel=rbf;, score=0.731 total time=  17.1s\n",
            "[CV 3/5] END C=10, degree=2, gamma=0.01, kernel=rbf;, score=0.728 total time=  17.3s\n",
            "[CV 4/5] END C=10, degree=2, gamma=0.01, kernel=rbf;, score=0.729 total time=  17.3s\n",
            "[CV 5/5] END C=10, degree=2, gamma=0.01, kernel=rbf;, score=0.729 total time=  17.1s\n",
            "[CV 1/5] END C=10, degree=2, gamma=0.01, kernel=poly;, score=0.865 total time=   4.0s\n",
            "[CV 2/5] END C=10, degree=2, gamma=0.01, kernel=poly;, score=0.859 total time=   3.9s\n",
            "[CV 3/5] END C=10, degree=2, gamma=0.01, kernel=poly;, score=0.845 total time=   3.9s\n",
            "[CV 4/5] END C=10, degree=2, gamma=0.01, kernel=poly;, score=0.841 total time=   3.9s\n",
            "[CV 5/5] END C=10, degree=2, gamma=0.01, kernel=poly;, score=0.861 total time=   3.9s\n",
            "[CV 1/5] END C=10, degree=2, gamma=0.001, kernel=rbf;, score=0.883 total time=   5.1s\n",
            "[CV 2/5] END C=10, degree=2, gamma=0.001, kernel=rbf;, score=0.857 total time=   4.9s\n",
            "[CV 3/5] END C=10, degree=2, gamma=0.001, kernel=rbf;, score=0.843 total time=   4.8s\n",
            "[CV 4/5] END C=10, degree=2, gamma=0.001, kernel=rbf;, score=0.855 total time=   4.9s\n",
            "[CV 5/5] END C=10, degree=2, gamma=0.001, kernel=rbf;, score=0.864 total time=   4.9s\n",
            "[CV 1/5] END C=10, degree=2, gamma=0.001, kernel=poly;, score=0.871 total time=   3.9s\n",
            "[CV 2/5] END C=10, degree=2, gamma=0.001, kernel=poly;, score=0.866 total time=   4.0s\n",
            "[CV 3/5] END C=10, degree=2, gamma=0.001, kernel=poly;, score=0.846 total time=   3.8s\n",
            "[CV 4/5] END C=10, degree=2, gamma=0.001, kernel=poly;, score=0.860 total time=   3.8s\n",
            "[CV 5/5] END C=10, degree=2, gamma=0.001, kernel=poly;, score=0.870 total time=   3.9s\n",
            "[CV 1/5] END C=10, degree=2, gamma=0.0001, kernel=rbf;, score=0.854 total time=   4.1s\n",
            "[CV 2/5] END C=10, degree=2, gamma=0.0001, kernel=rbf;, score=0.840 total time=   3.9s\n",
            "[CV 3/5] END C=10, degree=2, gamma=0.0001, kernel=rbf;, score=0.831 total time=   3.9s\n",
            "[CV 4/5] END C=10, degree=2, gamma=0.0001, kernel=rbf;, score=0.852 total time=   4.0s\n",
            "[CV 5/5] END C=10, degree=2, gamma=0.0001, kernel=rbf;, score=0.854 total time=   4.0s\n",
            "[CV 1/5] END C=10, degree=2, gamma=0.0001, kernel=poly;, score=0.724 total time=   8.9s\n",
            "[CV 2/5] END C=10, degree=2, gamma=0.0001, kernel=poly;, score=0.708 total time=   8.7s\n",
            "[CV 3/5] END C=10, degree=2, gamma=0.0001, kernel=poly;, score=0.670 total time=   8.7s\n",
            "[CV 4/5] END C=10, degree=2, gamma=0.0001, kernel=poly;, score=0.708 total time=   8.8s\n",
            "[CV 5/5] END C=10, degree=2, gamma=0.0001, kernel=poly;, score=0.706 total time=   8.6s\n",
            "[CV 1/5] END C=10, degree=3, gamma=1, kernel=rbf;, score=0.107 total time=  18.2s\n",
            "[CV 2/5] END C=10, degree=3, gamma=1, kernel=rbf;, score=0.106 total time=  18.3s\n",
            "[CV 3/5] END C=10, degree=3, gamma=1, kernel=rbf;, score=0.106 total time=  18.5s\n",
            "[CV 4/5] END C=10, degree=3, gamma=1, kernel=rbf;, score=0.105 total time=  18.4s\n",
            "[CV 5/5] END C=10, degree=3, gamma=1, kernel=rbf;, score=0.108 total time=  18.3s\n",
            "[CV 1/5] END C=10, degree=3, gamma=1, kernel=poly;, score=0.863 total time=   4.0s\n",
            "[CV 2/5] END C=10, degree=3, gamma=1, kernel=poly;, score=0.846 total time=   3.9s\n",
            "[CV 3/5] END C=10, degree=3, gamma=1, kernel=poly;, score=0.844 total time=   3.9s\n",
            "[CV 4/5] END C=10, degree=3, gamma=1, kernel=poly;, score=0.843 total time=   3.9s\n",
            "[CV 5/5] END C=10, degree=3, gamma=1, kernel=poly;, score=0.864 total time=   4.0s\n",
            "[CV 1/5] END C=10, degree=3, gamma=0.1, kernel=rbf;, score=0.199 total time=  18.8s\n",
            "[CV 2/5] END C=10, degree=3, gamma=0.1, kernel=rbf;, score=0.193 total time=  18.9s\n",
            "[CV 3/5] END C=10, degree=3, gamma=0.1, kernel=rbf;, score=0.201 total time=  18.7s\n",
            "[CV 4/5] END C=10, degree=3, gamma=0.1, kernel=rbf;, score=0.181 total time=  18.7s\n",
            "[CV 5/5] END C=10, degree=3, gamma=0.1, kernel=rbf;, score=0.206 total time=  18.7s\n",
            "[CV 1/5] END C=10, degree=3, gamma=0.1, kernel=poly;, score=0.863 total time=   4.1s\n",
            "[CV 2/5] END C=10, degree=3, gamma=0.1, kernel=poly;, score=0.846 total time=   3.9s\n",
            "[CV 3/5] END C=10, degree=3, gamma=0.1, kernel=poly;, score=0.844 total time=   3.9s\n",
            "[CV 4/5] END C=10, degree=3, gamma=0.1, kernel=poly;, score=0.843 total time=   3.9s\n",
            "[CV 5/5] END C=10, degree=3, gamma=0.1, kernel=poly;, score=0.864 total time=   3.9s\n",
            "[CV 1/5] END C=10, degree=3, gamma=0.01, kernel=rbf;, score=0.743 total time=  16.9s\n",
            "[CV 2/5] END C=10, degree=3, gamma=0.01, kernel=rbf;, score=0.731 total time=  17.1s\n",
            "[CV 3/5] END C=10, degree=3, gamma=0.01, kernel=rbf;, score=0.728 total time=  17.0s\n",
            "[CV 4/5] END C=10, degree=3, gamma=0.01, kernel=rbf;, score=0.729 total time=  17.0s\n",
            "[CV 5/5] END C=10, degree=3, gamma=0.01, kernel=rbf;, score=0.729 total time=  17.1s\n",
            "[CV 1/5] END C=10, degree=3, gamma=0.01, kernel=poly;, score=0.863 total time=   4.0s\n",
            "[CV 2/5] END C=10, degree=3, gamma=0.01, kernel=poly;, score=0.846 total time=   4.0s\n",
            "[CV 3/5] END C=10, degree=3, gamma=0.01, kernel=poly;, score=0.844 total time=   3.9s\n",
            "[CV 4/5] END C=10, degree=3, gamma=0.01, kernel=poly;, score=0.843 total time=   4.0s\n",
            "[CV 5/5] END C=10, degree=3, gamma=0.01, kernel=poly;, score=0.864 total time=   3.9s\n",
            "[CV 1/5] END C=10, degree=3, gamma=0.001, kernel=rbf;, score=0.883 total time=   4.8s\n",
            "[CV 2/5] END C=10, degree=3, gamma=0.001, kernel=rbf;, score=0.857 total time=   4.8s\n",
            "[CV 3/5] END C=10, degree=3, gamma=0.001, kernel=rbf;, score=0.843 total time=   4.7s\n",
            "[CV 4/5] END C=10, degree=3, gamma=0.001, kernel=rbf;, score=0.855 total time=   4.8s\n",
            "[CV 5/5] END C=10, degree=3, gamma=0.001, kernel=rbf;, score=0.864 total time=   4.8s\n",
            "[CV 1/5] END C=10, degree=3, gamma=0.001, kernel=poly;, score=0.866 total time=   4.0s\n",
            "[CV 2/5] END C=10, degree=3, gamma=0.001, kernel=poly;, score=0.845 total time=   3.9s\n",
            "[CV 3/5] END C=10, degree=3, gamma=0.001, kernel=poly;, score=0.829 total time=   3.9s\n",
            "[CV 4/5] END C=10, degree=3, gamma=0.001, kernel=poly;, score=0.850 total time=   4.0s\n",
            "[CV 5/5] END C=10, degree=3, gamma=0.001, kernel=poly;, score=0.850 total time=   3.9s\n",
            "[CV 1/5] END C=10, degree=3, gamma=0.0001, kernel=rbf;, score=0.854 total time=   4.0s\n",
            "[CV 2/5] END C=10, degree=3, gamma=0.0001, kernel=rbf;, score=0.840 total time=   3.9s\n",
            "[CV 3/5] END C=10, degree=3, gamma=0.0001, kernel=rbf;, score=0.831 total time=   3.9s\n",
            "[CV 4/5] END C=10, degree=3, gamma=0.0001, kernel=rbf;, score=0.852 total time=   3.9s\n",
            "[CV 5/5] END C=10, degree=3, gamma=0.0001, kernel=rbf;, score=0.854 total time=   3.9s\n",
            "[CV 1/5] END C=10, degree=3, gamma=0.0001, kernel=poly;, score=0.341 total time=  14.4s\n",
            "[CV 2/5] END C=10, degree=3, gamma=0.0001, kernel=poly;, score=0.337 total time=  14.5s\n",
            "[CV 3/5] END C=10, degree=3, gamma=0.0001, kernel=poly;, score=0.340 total time=  14.5s\n",
            "[CV 4/5] END C=10, degree=3, gamma=0.0001, kernel=poly;, score=0.430 total time=  14.4s\n",
            "[CV 5/5] END C=10, degree=3, gamma=0.0001, kernel=poly;, score=0.348 total time=  14.6s\n",
            "[CV 1/5] END C=10, degree=4, gamma=1, kernel=rbf;, score=0.107 total time=  18.4s\n",
            "[CV 2/5] END C=10, degree=4, gamma=1, kernel=rbf;, score=0.106 total time=  18.4s\n",
            "[CV 3/5] END C=10, degree=4, gamma=1, kernel=rbf;, score=0.106 total time=  18.0s\n",
            "[CV 4/5] END C=10, degree=4, gamma=1, kernel=rbf;, score=0.105 total time=  18.5s\n",
            "[CV 5/5] END C=10, degree=4, gamma=1, kernel=rbf;, score=0.108 total time=  18.3s\n",
            "[CV 1/5] END C=10, degree=4, gamma=1, kernel=poly;, score=0.842 total time=   5.2s\n",
            "[CV 2/5] END C=10, degree=4, gamma=1, kernel=poly;, score=0.834 total time=   5.1s\n",
            "[CV 3/5] END C=10, degree=4, gamma=1, kernel=poly;, score=0.819 total time=   5.0s\n",
            "[CV 4/5] END C=10, degree=4, gamma=1, kernel=poly;, score=0.814 total time=   5.1s\n",
            "[CV 5/5] END C=10, degree=4, gamma=1, kernel=poly;, score=0.832 total time=   5.1s\n",
            "[CV 1/5] END C=10, degree=4, gamma=0.1, kernel=rbf;, score=0.199 total time=  18.7s\n",
            "[CV 2/5] END C=10, degree=4, gamma=0.1, kernel=rbf;, score=0.193 total time=  18.7s\n",
            "[CV 3/5] END C=10, degree=4, gamma=0.1, kernel=rbf;, score=0.201 total time=  18.4s\n",
            "[CV 4/5] END C=10, degree=4, gamma=0.1, kernel=rbf;, score=0.181 total time=  18.7s\n",
            "[CV 5/5] END C=10, degree=4, gamma=0.1, kernel=rbf;, score=0.206 total time=  18.6s\n",
            "[CV 1/5] END C=10, degree=4, gamma=0.1, kernel=poly;, score=0.842 total time=   5.1s\n",
            "[CV 2/5] END C=10, degree=4, gamma=0.1, kernel=poly;, score=0.834 total time=   5.1s\n",
            "[CV 3/5] END C=10, degree=4, gamma=0.1, kernel=poly;, score=0.819 total time=   5.1s\n",
            "[CV 4/5] END C=10, degree=4, gamma=0.1, kernel=poly;, score=0.814 total time=   5.0s\n",
            "[CV 5/5] END C=10, degree=4, gamma=0.1, kernel=poly;, score=0.832 total time=   5.1s\n",
            "[CV 1/5] END C=10, degree=4, gamma=0.01, kernel=rbf;, score=0.743 total time=  16.7s\n",
            "[CV 2/5] END C=10, degree=4, gamma=0.01, kernel=rbf;, score=0.731 total time=  17.1s\n",
            "[CV 3/5] END C=10, degree=4, gamma=0.01, kernel=rbf;, score=0.728 total time=  16.8s\n",
            "[CV 4/5] END C=10, degree=4, gamma=0.01, kernel=rbf;, score=0.729 total time=  17.2s\n",
            "[CV 5/5] END C=10, degree=4, gamma=0.01, kernel=rbf;, score=0.729 total time=  16.7s\n",
            "[CV 1/5] END C=10, degree=4, gamma=0.01, kernel=poly;, score=0.842 total time=   5.4s\n",
            "[CV 2/5] END C=10, degree=4, gamma=0.01, kernel=poly;, score=0.834 total time=   5.1s\n",
            "[CV 3/5] END C=10, degree=4, gamma=0.01, kernel=poly;, score=0.819 total time=   5.1s\n",
            "[CV 4/5] END C=10, degree=4, gamma=0.01, kernel=poly;, score=0.814 total time=   5.1s\n",
            "[CV 5/5] END C=10, degree=4, gamma=0.01, kernel=poly;, score=0.832 total time=   5.2s\n",
            "[CV 1/5] END C=10, degree=4, gamma=0.001, kernel=rbf;, score=0.883 total time=   5.1s\n",
            "[CV 2/5] END C=10, degree=4, gamma=0.001, kernel=rbf;, score=0.857 total time=   5.0s\n",
            "[CV 3/5] END C=10, degree=4, gamma=0.001, kernel=rbf;, score=0.843 total time=   5.1s\n",
            "[CV 4/5] END C=10, degree=4, gamma=0.001, kernel=rbf;, score=0.855 total time=   5.0s\n",
            "[CV 5/5] END C=10, degree=4, gamma=0.001, kernel=rbf;, score=0.864 total time=   5.1s\n",
            "[CV 1/5] END C=10, degree=4, gamma=0.001, kernel=poly;, score=0.806 total time=   5.6s\n",
            "[CV 2/5] END C=10, degree=4, gamma=0.001, kernel=poly;, score=0.801 total time=   5.4s\n",
            "[CV 3/5] END C=10, degree=4, gamma=0.001, kernel=poly;, score=0.777 total time=   5.5s\n",
            "[CV 4/5] END C=10, degree=4, gamma=0.001, kernel=poly;, score=0.793 total time=   5.6s\n",
            "[CV 5/5] END C=10, degree=4, gamma=0.001, kernel=poly;, score=0.791 total time=   5.5s\n",
            "[CV 1/5] END C=10, degree=4, gamma=0.0001, kernel=rbf;, score=0.854 total time=   4.1s\n",
            "[CV 2/5] END C=10, degree=4, gamma=0.0001, kernel=rbf;, score=0.840 total time=   4.0s\n",
            "[CV 3/5] END C=10, degree=4, gamma=0.0001, kernel=rbf;, score=0.831 total time=   4.0s\n",
            "[CV 4/5] END C=10, degree=4, gamma=0.0001, kernel=rbf;, score=0.852 total time=   4.1s\n",
            "[CV 5/5] END C=10, degree=4, gamma=0.0001, kernel=rbf;, score=0.854 total time=   4.2s\n",
            "[CV 1/5] END C=10, degree=4, gamma=0.0001, kernel=poly;, score=0.195 total time=  14.7s\n",
            "[CV 2/5] END C=10, degree=4, gamma=0.0001, kernel=poly;, score=0.195 total time=  14.8s\n",
            "[CV 3/5] END C=10, degree=4, gamma=0.0001, kernel=poly;, score=0.203 total time=  15.1s\n",
            "[CV 4/5] END C=10, degree=4, gamma=0.0001, kernel=poly;, score=0.254 total time=  14.9s\n",
            "[CV 5/5] END C=10, degree=4, gamma=0.0001, kernel=poly;, score=0.190 total time=  14.7s\n",
            "[CV 1/5] END C=100, degree=2, gamma=1, kernel=rbf;, score=0.107 total time=  18.2s\n",
            "[CV 2/5] END C=100, degree=2, gamma=1, kernel=rbf;, score=0.106 total time=  18.0s\n",
            "[CV 3/5] END C=100, degree=2, gamma=1, kernel=rbf;, score=0.106 total time=  18.1s\n",
            "[CV 4/5] END C=100, degree=2, gamma=1, kernel=rbf;, score=0.105 total time=  18.0s\n",
            "[CV 5/5] END C=100, degree=2, gamma=1, kernel=rbf;, score=0.108 total time=  18.0s\n",
            "[CV 1/5] END C=100, degree=2, gamma=1, kernel=poly;, score=0.865 total time=   3.9s\n",
            "[CV 2/5] END C=100, degree=2, gamma=1, kernel=poly;, score=0.859 total time=   3.8s\n",
            "[CV 3/5] END C=100, degree=2, gamma=1, kernel=poly;, score=0.845 total time=   3.8s\n",
            "[CV 4/5] END C=100, degree=2, gamma=1, kernel=poly;, score=0.841 total time=   3.9s\n",
            "[CV 5/5] END C=100, degree=2, gamma=1, kernel=poly;, score=0.861 total time=   3.9s\n",
            "[CV 1/5] END C=100, degree=2, gamma=0.1, kernel=rbf;, score=0.199 total time=  18.9s\n",
            "[CV 2/5] END C=100, degree=2, gamma=0.1, kernel=rbf;, score=0.193 total time=  18.9s\n",
            "[CV 3/5] END C=100, degree=2, gamma=0.1, kernel=rbf;, score=0.201 total time=  18.8s\n",
            "[CV 4/5] END C=100, degree=2, gamma=0.1, kernel=rbf;, score=0.181 total time=  18.9s\n",
            "[CV 5/5] END C=100, degree=2, gamma=0.1, kernel=rbf;, score=0.206 total time=  18.6s\n",
            "[CV 1/5] END C=100, degree=2, gamma=0.1, kernel=poly;, score=0.865 total time=   3.8s\n",
            "[CV 2/5] END C=100, degree=2, gamma=0.1, kernel=poly;, score=0.859 total time=   3.8s\n",
            "[CV 3/5] END C=100, degree=2, gamma=0.1, kernel=poly;, score=0.845 total time=   3.7s\n",
            "[CV 4/5] END C=100, degree=2, gamma=0.1, kernel=poly;, score=0.841 total time=   3.7s\n",
            "[CV 5/5] END C=100, degree=2, gamma=0.1, kernel=poly;, score=0.861 total time=   3.8s\n",
            "[CV 1/5] END C=100, degree=2, gamma=0.01, kernel=rbf;, score=0.743 total time=  17.2s\n",
            "[CV 2/5] END C=100, degree=2, gamma=0.01, kernel=rbf;, score=0.731 total time=  17.0s\n",
            "[CV 3/5] END C=100, degree=2, gamma=0.01, kernel=rbf;, score=0.728 total time=  17.1s\n",
            "[CV 4/5] END C=100, degree=2, gamma=0.01, kernel=rbf;, score=0.729 total time=  17.0s\n",
            "[CV 5/5] END C=100, degree=2, gamma=0.01, kernel=rbf;, score=0.729 total time=  17.1s\n",
            "[CV 1/5] END C=100, degree=2, gamma=0.01, kernel=poly;, score=0.865 total time=   3.9s\n",
            "[CV 2/5] END C=100, degree=2, gamma=0.01, kernel=poly;, score=0.859 total time=   3.8s\n",
            "[CV 3/5] END C=100, degree=2, gamma=0.01, kernel=poly;, score=0.845 total time=   3.7s\n",
            "[CV 4/5] END C=100, degree=2, gamma=0.01, kernel=poly;, score=0.841 total time=   3.8s\n",
            "[CV 5/5] END C=100, degree=2, gamma=0.01, kernel=poly;, score=0.861 total time=   3.8s\n",
            "[CV 1/5] END C=100, degree=2, gamma=0.001, kernel=rbf;, score=0.870 total time=   4.9s\n",
            "[CV 2/5] END C=100, degree=2, gamma=0.001, kernel=rbf;, score=0.853 total time=   4.9s\n",
            "[CV 3/5] END C=100, degree=2, gamma=0.001, kernel=rbf;, score=0.848 total time=   4.8s\n",
            "[CV 4/5] END C=100, degree=2, gamma=0.001, kernel=rbf;, score=0.851 total time=   4.9s\n",
            "[CV 5/5] END C=100, degree=2, gamma=0.001, kernel=rbf;, score=0.858 total time=   5.0s\n",
            "[CV 1/5] END C=100, degree=2, gamma=0.001, kernel=poly;, score=0.866 total time=   3.9s\n",
            "[CV 2/5] END C=100, degree=2, gamma=0.001, kernel=poly;, score=0.862 total time=   3.9s\n",
            "[CV 3/5] END C=100, degree=2, gamma=0.001, kernel=poly;, score=0.846 total time=   3.9s\n",
            "[CV 4/5] END C=100, degree=2, gamma=0.001, kernel=poly;, score=0.843 total time=   3.8s\n",
            "[CV 5/5] END C=100, degree=2, gamma=0.001, kernel=poly;, score=0.865 total time=   3.9s\n",
            "[CV 1/5] END C=100, degree=2, gamma=0.0001, kernel=rbf;, score=0.859 total time=   3.8s\n",
            "[CV 2/5] END C=100, degree=2, gamma=0.0001, kernel=rbf;, score=0.844 total time=   3.6s\n",
            "[CV 3/5] END C=100, degree=2, gamma=0.0001, kernel=rbf;, score=0.831 total time=   3.6s\n",
            "[CV 4/5] END C=100, degree=2, gamma=0.0001, kernel=rbf;, score=0.851 total time=   3.7s\n",
            "[CV 5/5] END C=100, degree=2, gamma=0.0001, kernel=rbf;, score=0.860 total time=   3.6s\n",
            "[CV 1/5] END C=100, degree=2, gamma=0.0001, kernel=poly;, score=0.835 total time=   4.9s\n",
            "[CV 2/5] END C=100, degree=2, gamma=0.0001, kernel=poly;, score=0.817 total time=   4.8s\n",
            "[CV 3/5] END C=100, degree=2, gamma=0.0001, kernel=poly;, score=0.800 total time=   4.8s\n",
            "[CV 4/5] END C=100, degree=2, gamma=0.0001, kernel=poly;, score=0.828 total time=   4.8s\n",
            "[CV 5/5] END C=100, degree=2, gamma=0.0001, kernel=poly;, score=0.824 total time=   4.7s\n",
            "[CV 1/5] END C=100, degree=3, gamma=1, kernel=rbf;, score=0.107 total time=  18.3s\n",
            "[CV 2/5] END C=100, degree=3, gamma=1, kernel=rbf;, score=0.106 total time=  18.2s\n",
            "[CV 3/5] END C=100, degree=3, gamma=1, kernel=rbf;, score=0.106 total time=  18.3s\n",
            "[CV 4/5] END C=100, degree=3, gamma=1, kernel=rbf;, score=0.105 total time=  18.4s\n",
            "[CV 5/5] END C=100, degree=3, gamma=1, kernel=rbf;, score=0.108 total time=  18.2s\n",
            "[CV 1/5] END C=100, degree=3, gamma=1, kernel=poly;, score=0.863 total time=   4.1s\n",
            "[CV 2/5] END C=100, degree=3, gamma=1, kernel=poly;, score=0.846 total time=   3.9s\n",
            "[CV 3/5] END C=100, degree=3, gamma=1, kernel=poly;, score=0.844 total time=   3.9s\n",
            "[CV 4/5] END C=100, degree=3, gamma=1, kernel=poly;, score=0.843 total time=   3.9s\n",
            "[CV 5/5] END C=100, degree=3, gamma=1, kernel=poly;, score=0.864 total time=   3.9s\n",
            "[CV 1/5] END C=100, degree=3, gamma=0.1, kernel=rbf;, score=0.199 total time=  18.5s\n",
            "[CV 2/5] END C=100, degree=3, gamma=0.1, kernel=rbf;, score=0.193 total time=  18.7s\n",
            "[CV 3/5] END C=100, degree=3, gamma=0.1, kernel=rbf;, score=0.201 total time=  18.8s\n",
            "[CV 4/5] END C=100, degree=3, gamma=0.1, kernel=rbf;, score=0.181 total time=  18.8s\n",
            "[CV 5/5] END C=100, degree=3, gamma=0.1, kernel=rbf;, score=0.206 total time=  18.6s\n",
            "[CV 1/5] END C=100, degree=3, gamma=0.1, kernel=poly;, score=0.863 total time=   4.1s\n",
            "[CV 2/5] END C=100, degree=3, gamma=0.1, kernel=poly;, score=0.846 total time=   3.9s\n",
            "[CV 3/5] END C=100, degree=3, gamma=0.1, kernel=poly;, score=0.844 total time=   3.9s\n",
            "[CV 4/5] END C=100, degree=3, gamma=0.1, kernel=poly;, score=0.843 total time=   3.9s\n",
            "[CV 5/5] END C=100, degree=3, gamma=0.1, kernel=poly;, score=0.864 total time=   4.0s\n",
            "[CV 1/5] END C=100, degree=3, gamma=0.01, kernel=rbf;, score=0.743 total time=  17.1s\n",
            "[CV 2/5] END C=100, degree=3, gamma=0.01, kernel=rbf;, score=0.731 total time=  16.9s\n",
            "[CV 3/5] END C=100, degree=3, gamma=0.01, kernel=rbf;, score=0.728 total time=  17.0s\n",
            "[CV 4/5] END C=100, degree=3, gamma=0.01, kernel=rbf;, score=0.729 total time=  16.9s\n",
            "[CV 5/5] END C=100, degree=3, gamma=0.01, kernel=rbf;, score=0.729 total time=  17.0s\n",
            "[CV 1/5] END C=100, degree=3, gamma=0.01, kernel=poly;, score=0.863 total time=   4.1s\n",
            "[CV 2/5] END C=100, degree=3, gamma=0.01, kernel=poly;, score=0.846 total time=   3.9s\n",
            "[CV 3/5] END C=100, degree=3, gamma=0.01, kernel=poly;, score=0.844 total time=   4.0s\n",
            "[CV 4/5] END C=100, degree=3, gamma=0.01, kernel=poly;, score=0.843 total time=   3.9s\n",
            "[CV 5/5] END C=100, degree=3, gamma=0.01, kernel=poly;, score=0.864 total time=   3.9s\n",
            "[CV 1/5] END C=100, degree=3, gamma=0.001, kernel=rbf;, score=0.870 total time=   5.0s\n",
            "[CV 2/5] END C=100, degree=3, gamma=0.001, kernel=rbf;, score=0.853 total time=   4.8s\n",
            "[CV 3/5] END C=100, degree=3, gamma=0.001, kernel=rbf;, score=0.848 total time=   4.8s\n",
            "[CV 4/5] END C=100, degree=3, gamma=0.001, kernel=rbf;, score=0.851 total time=   4.9s\n",
            "[CV 5/5] END C=100, degree=3, gamma=0.001, kernel=rbf;, score=0.858 total time=   4.9s\n",
            "[CV 1/5] END C=100, degree=3, gamma=0.001, kernel=poly;, score=0.858 total time=   4.0s\n",
            "[CV 2/5] END C=100, degree=3, gamma=0.001, kernel=poly;, score=0.845 total time=   3.9s\n",
            "[CV 3/5] END C=100, degree=3, gamma=0.001, kernel=poly;, score=0.845 total time=   3.9s\n",
            "[CV 4/5] END C=100, degree=3, gamma=0.001, kernel=poly;, score=0.844 total time=   3.8s\n",
            "[CV 5/5] END C=100, degree=3, gamma=0.001, kernel=poly;, score=0.864 total time=   3.9s\n",
            "[CV 1/5] END C=100, degree=3, gamma=0.0001, kernel=rbf;, score=0.859 total time=   3.6s\n",
            "[CV 2/5] END C=100, degree=3, gamma=0.0001, kernel=rbf;, score=0.844 total time=   3.6s\n",
            "[CV 3/5] END C=100, degree=3, gamma=0.0001, kernel=rbf;, score=0.831 total time=   3.5s\n",
            "[CV 4/5] END C=100, degree=3, gamma=0.0001, kernel=rbf;, score=0.851 total time=   3.7s\n",
            "[CV 5/5] END C=100, degree=3, gamma=0.0001, kernel=rbf;, score=0.860 total time=   3.6s\n",
            "[CV 1/5] END C=100, degree=3, gamma=0.0001, kernel=poly;, score=0.670 total time=  10.0s\n",
            "[CV 2/5] END C=100, degree=3, gamma=0.0001, kernel=poly;, score=0.660 total time=   9.9s\n",
            "[CV 3/5] END C=100, degree=3, gamma=0.0001, kernel=poly;, score=0.624 total time=   9.9s\n",
            "[CV 4/5] END C=100, degree=3, gamma=0.0001, kernel=poly;, score=0.664 total time=  10.1s\n",
            "[CV 5/5] END C=100, degree=3, gamma=0.0001, kernel=poly;, score=0.647 total time=  10.0s\n",
            "[CV 1/5] END C=100, degree=4, gamma=1, kernel=rbf;, score=0.107 total time=  18.1s\n",
            "[CV 2/5] END C=100, degree=4, gamma=1, kernel=rbf;, score=0.106 total time=  18.4s\n",
            "[CV 3/5] END C=100, degree=4, gamma=1, kernel=rbf;, score=0.106 total time=  18.3s\n",
            "[CV 4/5] END C=100, degree=4, gamma=1, kernel=rbf;, score=0.105 total time=  18.4s\n",
            "[CV 5/5] END C=100, degree=4, gamma=1, kernel=rbf;, score=0.108 total time=  18.2s\n",
            "[CV 1/5] END C=100, degree=4, gamma=1, kernel=poly;, score=0.842 total time=   5.2s\n",
            "[CV 2/5] END C=100, degree=4, gamma=1, kernel=poly;, score=0.834 total time=   5.1s\n",
            "[CV 3/5] END C=100, degree=4, gamma=1, kernel=poly;, score=0.819 total time=   5.2s\n",
            "[CV 4/5] END C=100, degree=4, gamma=1, kernel=poly;, score=0.814 total time=   5.2s\n",
            "[CV 5/5] END C=100, degree=4, gamma=1, kernel=poly;, score=0.832 total time=   5.1s\n",
            "[CV 1/5] END C=100, degree=4, gamma=0.1, kernel=rbf;, score=0.199 total time=  18.6s\n",
            "[CV 2/5] END C=100, degree=4, gamma=0.1, kernel=rbf;, score=0.193 total time=  18.8s\n",
            "[CV 3/5] END C=100, degree=4, gamma=0.1, kernel=rbf;, score=0.201 total time=  18.7s\n",
            "[CV 4/5] END C=100, degree=4, gamma=0.1, kernel=rbf;, score=0.181 total time=  18.6s\n",
            "[CV 5/5] END C=100, degree=4, gamma=0.1, kernel=rbf;, score=0.206 total time=  18.4s\n",
            "[CV 1/5] END C=100, degree=4, gamma=0.1, kernel=poly;, score=0.842 total time=   5.2s\n",
            "[CV 2/5] END C=100, degree=4, gamma=0.1, kernel=poly;, score=0.834 total time=   5.2s\n",
            "[CV 3/5] END C=100, degree=4, gamma=0.1, kernel=poly;, score=0.819 total time=   5.0s\n",
            "[CV 4/5] END C=100, degree=4, gamma=0.1, kernel=poly;, score=0.814 total time=   5.1s\n",
            "[CV 5/5] END C=100, degree=4, gamma=0.1, kernel=poly;, score=0.832 total time=   5.1s\n",
            "[CV 1/5] END C=100, degree=4, gamma=0.01, kernel=rbf;, score=0.743 total time=  17.0s\n",
            "[CV 2/5] END C=100, degree=4, gamma=0.01, kernel=rbf;, score=0.731 total time=  17.1s\n",
            "[CV 3/5] END C=100, degree=4, gamma=0.01, kernel=rbf;, score=0.728 total time=  17.1s\n",
            "[CV 4/5] END C=100, degree=4, gamma=0.01, kernel=rbf;, score=0.729 total time=  17.2s\n",
            "[CV 5/5] END C=100, degree=4, gamma=0.01, kernel=rbf;, score=0.729 total time=  17.1s\n",
            "[CV 1/5] END C=100, degree=4, gamma=0.01, kernel=poly;, score=0.842 total time=   5.3s\n",
            "[CV 2/5] END C=100, degree=4, gamma=0.01, kernel=poly;, score=0.834 total time=   5.2s\n",
            "[CV 3/5] END C=100, degree=4, gamma=0.01, kernel=poly;, score=0.819 total time=   5.0s\n",
            "[CV 4/5] END C=100, degree=4, gamma=0.01, kernel=poly;, score=0.814 total time=   5.1s\n",
            "[CV 5/5] END C=100, degree=4, gamma=0.01, kernel=poly;, score=0.832 total time=   5.2s\n",
            "[CV 1/5] END C=100, degree=4, gamma=0.001, kernel=rbf;, score=0.870 total time=   5.0s\n",
            "[CV 2/5] END C=100, degree=4, gamma=0.001, kernel=rbf;, score=0.853 total time=   4.9s\n",
            "[CV 3/5] END C=100, degree=4, gamma=0.001, kernel=rbf;, score=0.848 total time=   4.8s\n",
            "[CV 4/5] END C=100, degree=4, gamma=0.001, kernel=rbf;, score=0.851 total time=   4.9s\n",
            "[CV 5/5] END C=100, degree=4, gamma=0.001, kernel=rbf;, score=0.858 total time=   4.9s\n",
            "[CV 1/5] END C=100, degree=4, gamma=0.001, kernel=poly;, score=0.842 total time=   5.0s\n",
            "[CV 2/5] END C=100, degree=4, gamma=0.001, kernel=poly;, score=0.834 total time=   4.8s\n",
            "[CV 3/5] END C=100, degree=4, gamma=0.001, kernel=poly;, score=0.821 total time=   4.8s\n",
            "[CV 4/5] END C=100, degree=4, gamma=0.001, kernel=poly;, score=0.814 total time=   5.1s\n",
            "[CV 5/5] END C=100, degree=4, gamma=0.001, kernel=poly;, score=0.835 total time=   4.9s\n",
            "[CV 1/5] END C=100, degree=4, gamma=0.0001, kernel=rbf;, score=0.859 total time=   3.6s\n",
            "[CV 2/5] END C=100, degree=4, gamma=0.0001, kernel=rbf;, score=0.844 total time=   3.6s\n",
            "[CV 3/5] END C=100, degree=4, gamma=0.0001, kernel=rbf;, score=0.831 total time=   3.5s\n",
            "[CV 4/5] END C=100, degree=4, gamma=0.0001, kernel=rbf;, score=0.851 total time=   3.6s\n",
            "[CV 5/5] END C=100, degree=4, gamma=0.0001, kernel=rbf;, score=0.860 total time=   3.6s\n",
            "[CV 1/5] END C=100, degree=4, gamma=0.0001, kernel=poly;, score=0.238 total time=  14.5s\n",
            "[CV 2/5] END C=100, degree=4, gamma=0.0001, kernel=poly;, score=0.236 total time=  14.8s\n",
            "[CV 3/5] END C=100, degree=4, gamma=0.0001, kernel=poly;, score=0.239 total time=  14.5s\n",
            "[CV 4/5] END C=100, degree=4, gamma=0.0001, kernel=poly;, score=0.291 total time=  14.6s\n",
            "[CV 5/5] END C=100, degree=4, gamma=0.0001, kernel=poly;, score=0.230 total time=  14.5s\n"
          ]
        },
        {
          "output_type": "execute_result",
          "data": {
            "text/plain": [
              "GridSearchCV(estimator=SVC(),\n",
              "             param_grid={'C': [0.01, 0.1, 1, 10, 100], 'degree': [2, 3, 4],\n",
              "                         'gamma': [1, 0.1, 0.01, 0.001, 0.0001],\n",
              "                         'kernel': ['rbf', 'poly']},\n",
              "             verbose=3)"
            ]
          },
          "metadata": {},
          "execution_count": 28
        },
        {
          "output_type": "stream",
          "name": "stdout",
          "text": [
            "time: 2h 16min 30s (started: 2021-12-12 14:59:47 +00:00)\n"
          ]
        }
      ]
    },
    {
      "cell_type": "markdown",
      "source": [
        "# Inspecting the Output of the Grid Search 5-fold Cross Validation \n",
        "\n",
        "In the output of the cell above we can see that the best performance was achieved with the following parameters: \n",
        "\n",
        "The best performing kernel was XXX\n",
        "\n",
        "* C of 0.001\n",
        "* $\\gamma$ of 0.0001\n",
        "\n",
        "\n",
        "\n",
        "# Predicting Labels of Testing set with the Model that had the Best Parameters:"
      ],
      "metadata": {
        "id": "_vpn6yrBKmIn"
      }
    },
    {
      "cell_type": "code",
      "source": [
        "svm_predict = svm.predict(X_test_pca)\n",
        "\n",
        "print(metrics.classification_report(y_test, svm_predict))\n",
        "accuracy = metrics.accuracy_score(y_test, svm_predict)\n",
        "average_accuracy = np.mean(y_test == svm_predict) * 100\n",
        "print(\"The average_accuracy is {0:.1f}%\".format(average_accuracy))"
      ],
      "metadata": {
        "id": "I0yVNkI3_Zv_"
      },
      "execution_count": null,
      "outputs": []
    }
  ],
  "metadata": {
    "colab": {
      "collapsed_sections": [
        "a51e_G8o4HaJ",
        "7E_osaJoHW2E",
        "vsQI8opbOi1V",
        "rxiACiiLRaWJ",
        "paYUFO45X-c0"
      ],
      "name": "AML_1_and_2.ipynb",
      "provenance": [],
      "include_colab_link": true
    },
    "interpreter": {
      "hash": "aee8b7b246df8f9039afb4144a1f6fd8d2ca17a180786b69acc140d282b71a49"
    },
    "kernelspec": {
      "display_name": "Python 3.9.1 64-bit",
      "name": "python3"
    },
    "language_info": {
      "codemirror_mode": {
        "name": "ipython",
        "version": 3
      },
      "file_extension": ".py",
      "mimetype": "text/x-python",
      "name": "python",
      "nbconvert_exporter": "python",
      "pygments_lexer": "ipython3",
      "version": "3.9.1"
    },
    "accelerator": "TPU"
  },
  "nbformat": 4,
  "nbformat_minor": 0
}