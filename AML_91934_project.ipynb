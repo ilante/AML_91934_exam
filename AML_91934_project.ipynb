{
 "cells": [
  {
   "cell_type": "markdown",
   "source": [
    "# My First Machine Learning Project\n",
    "## International Master of Bioinformatics, University of Bologna\n",
    "\n",
    "### Immanuela Antigone Engländer\n",
    "\n",
    "Loading module to monitor time:"
   ],
   "metadata": {}
  },
  {
   "cell_type": "code",
   "execution_count": 2,
   "source": [
    "%load_ext autotime"
   ],
   "outputs": [
    {
     "output_type": "stream",
     "name": "stdout",
     "text": [
      "The autotime extension is already loaded. To reload it, use:\n",
      "  %reload_ext autotime\n",
      "time: 2.84 ms\n"
     ]
    }
   ],
   "metadata": {}
  },
  {
   "cell_type": "markdown",
   "source": [
    "Importing libraries"
   ],
   "metadata": {}
  },
  {
   "cell_type": "code",
   "execution_count": null,
   "source": [
    "import numpy as np\n",
    "import pandas as pd\n",
    "import matplotlib.pyplot as plt\n",
    "import seaborn as sns\n",
    "import scikit-learn as sklearn\n",
    "\n",
    "# TensorFlow and tf.keras\n",
    "import tensorflow as tf\n",
    "from tensorflow import keras\n",
    "\n"
   ],
   "outputs": [],
   "metadata": {}
  },
  {
   "cell_type": "code",
   "execution_count": null,
   "source": [
    "sns.set() # loading seaborns default theme"
   ],
   "outputs": [],
   "metadata": {}
  },
  {
   "cell_type": "markdown",
   "source": [
    "## 1. The Cleaveland Heart Disease (UCI Repository) Dataset — Classification With Various Models\n",
    "\n",
    "Heart disease is also sometimes referred to as cardiovascular disease (CVD) and is the most common cause of death in EU countries; accounting for 37% of all deaths in 2017. Second most common cause of death is cancer responsible for 26% of all deaths in EU countries in 2017.\n",
    "![Main causes of mortatilty in EU countries 2017](https://www.oecd-ilibrary.org/sites/82129230-en/images/images/03-chapter3/media/image8.png)\n",
    "\n",
    "For more information please refer to the OECD report:\n",
    "<a href='https://read.oecd.org/10.1787/82129230-en?format=html' title='Health at a Glance: Europe 2020 State of Health in the EU Cycle'><img src='https://assets.oecdcode.org/covers/340/82129230.jpg' alt='Health at a Glance: Europe 2020 State of Health in the EU Cycle'/></a>\n",
    "\n",
    "The scientific community estimates that up to 90% of CVD is preventable by diminishing risk factors by:\n",
    "* Healthy eating\n",
    "* Exercise\n",
    "* Avoiding tobacco\n",
    "* Limiting alcohol intake \n",
    "\n",
    "Though it is well known in the scientific and medical community that symptoms of CVD vary significantly between women and men, the general population seems to require more information on the topic as mean are still diagnosed 7 to 10 years earlier than women [1](https://web.archive.org/web/20140817123106/http://whqlibdoc.who.int/publications/2011/9789241564373_eng.pdf?ua=1).\n",
    "Developing a preictor could help lay people to assess their risk and recognize the illness at an early and treatable stage.\n",
    "\n",
    "For more information please refer to https://en.wikipedia.org/wiki/Cardiovascular_disease\n",
    "### Importing the Data\n"
   ],
   "metadata": {}
  },
  {
   "cell_type": "markdown",
   "source": [],
   "metadata": {}
  }
 ],
 "metadata": {
  "kernelspec": {
   "display_name": "Python 3",
   "language": "python",
   "name": "python3"
  },
  "language_info": {
   "codemirror_mode": {
    "name": "ipython",
    "version": 3
   },
   "file_extension": ".py",
   "mimetype": "text/x-python",
   "name": "python",
   "nbconvert_exporter": "python",
   "pygments_lexer": "ipython3",
   "version": "3.7.2"
  }
 },
 "nbformat": 4,
 "nbformat_minor": 4
}