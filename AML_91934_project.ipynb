{
  "nbformat": 4,
  "nbformat_minor": 0,
  "metadata": {
    "kernelspec": {
      "name": "python3",
      "display_name": "Python 3.9.1 64-bit"
    },
    "language_info": {
      "codemirror_mode": {
        "name": "ipython",
        "version": 3
      },
      "file_extension": ".py",
      "mimetype": "text/x-python",
      "name": "python",
      "nbconvert_exporter": "python",
      "pygments_lexer": "ipython3",
      "version": "3.9.1"
    },
    "interpreter": {
      "hash": "aee8b7b246df8f9039afb4144a1f6fd8d2ca17a180786b69acc140d282b71a49"
    },
    "colab": {
      "name": "AML_91934_project.ipynb",
      "provenance": []
    }
  },
  "cells": [
    {
      "cell_type": "markdown",
      "metadata": {
        "id": "B_Cy8ytG4HaD"
      },
      "source": [
        "# My First Machine Learning Project\n",
        "## International Master of Bioinformatics, University of Bologna\n",
        "\n",
        "### Immanuela Antigone Engländer\n",
        "\n"
      ]
    },
    {
      "cell_type": "markdown",
      "metadata": {
        "id": "0NzV1zUf4HaG"
      },
      "source": [
        "## 1. The Cleaveland Heart Disease (UCI Repository) Dataset — Classification With Various Models\n",
        "\n",
        "Heart disease is also sometimes referred to as cardiovascular disease (CVD) and is the most common cause of death in EU countries; accounting for 37% of all deaths in 2017. Second most common cause of death is cancer responsible for 26% of all deaths in EU countries in 2017.\n",
        "\n",
        "![Main causes of mortatilty in EU countries 2017](https://www.oecd-ilibrary.org/sites/82129230-en/images/images/03-chapter3/media/image8.png)\n",
        "\n",
        "For more information please refer to the OECD report:\n",
        "\n",
        "<a href='https://read.oecd.org/10.1787/82129230-en?format=html' title='Health at a Glance: Europe 2020 State of Health in the EU Cycle'><img src='https://assets.oecdcode.org/covers/340/82129230.jpg' alt='Health at a Glance: Europe 2020 State of Health in the EU Cycle'/></a>\n",
        "\n",
        "The scientific community estimates that up to 90% of CVD is preventable by diminishing risk factors by:\n",
        "* Healthy eating\n",
        "* Exercise\n",
        "* Avoiding tobacco\n",
        "* Limiting alcohol intake \n",
        "\n",
        "Though it is well known in the scientific and medical community that symptoms of CVD vary significantly between women and men, the general population seems to require more information on the topic as mean are still diagnosed 7 to 10 years earlier than women [[1](https://web.archive.org/web/20140817123106/http://whqlibdoc.who.int/publications/2011/9789241564373_eng.pdf?ua=1)].\n",
        "Developing a predictor could help lay people to assess their risk and recognize the illness at an early and treatable stage.\n",
        "\n",
        "For more information please refer to https://en.wikipedia.org/wiki/Cardiovascular_disease\n",
        "\n",
        "\n",
        "## 2. The Dataset\n",
        "\n",
        "The dataset was created by the following entities:\n",
        "\n",
        "* Hungarian Institute of Cardiology. Budapest: Andras Janosi, M.D.\n",
        "* University Hospital, Zurich, Switzerland: William Steinbrunn, M.D.\n",
        "* University Hospital, Basel, Switzerland: Matthias Pfisterer, M.D.\n",
        "* V.A. Medical Center, Long Beach and Cleveland Clinic Foundation: Robert Detrano, M.D., Ph.D.\n",
        "\n",
        "## 3. Attributes of the Dataset\n",
        "\n",
        "1. age\n",
        "1. sex\n",
        "1. chest pain type (4 values)\n",
        "1. resting blood pressure\n",
        "1. serum cholestoral in mg/dl\n",
        "1. fasting blood sugar > 120 mg/dl\n",
        "1. resting electrocardiographic results (values 0,1,2)\n",
        "1. maximum heart rate achieved\n",
        "1. exercise induced angina\n",
        "1. oldpeak = ST depression induced by exercise relative to rest\n",
        "1. the slope of the peak exercise ST segment\n",
        "1. number of major vessels (0-3) colored by flourosopy\n",
        "1. thal: 3 = normal; 6 = fixed defect; 7 = reversable defect\n",
        "\n",
        "The label can have 5 different values; 1, 2, 3, 4 indicating that the disease is present and 0 indicating the absence of the illness.\n",
        "\n",
        "## 4. Importing the Required Libraries"
      ]
    },
    {
      "cell_type": "code",
      "metadata": {
        "id": "VJXnDNcw4HaI"
      },
      "source": [
        "!pip install -q colabcode\n",
        "from colabcode import ColabCode"
      ],
      "execution_count": null,
      "outputs": []
    },
    {
      "cell_type": "code",
      "metadata": {
        "id": "3Wb5jwR44HaJ"
      },
      "source": [
        "# Loading module to monitor time:\n",
        "%load_ext autotime"
      ],
      "execution_count": null,
      "outputs": []
    },
    {
      "cell_type": "code",
      "metadata": {
        "id": "rm0l9kn64HaJ"
      },
      "source": [
        "import numpy as p\n",
        "import pandas as pd\n",
        "import matplotlib.pyplot as plt\n",
        "import seaborn as sns\n",
        "import scikit-learn as sklearn\n",
        "\n",
        "# TensorFlow and tf.keras\n",
        "import tensorflow as tf\n",
        "from tensorflow import keras\n",
        "sns.set() # loading seaborns default theme"
      ],
      "execution_count": null,
      "outputs": []
    },
    {
      "cell_type": "code",
      "metadata": {
        "id": "IeN3DzsZYl9I"
      },
      "source": [
        "# Libraries imported\n",
        "import itertools\n",
        "import numpy as np\n",
        "import pandas as pd\n",
        "import matplotlib.pyplot as plt\n",
        "import seaborn as sns\n",
        "import sklearn\n",
        "import keras\n",
        "from pandas import read_csv, set_option\n",
        "from matplotlib import pyplot\n",
        "from sklearn.preprocessing import StandardScaler, OneHotEncoder\n",
        "from sklearn.model_selection import train_test_split, GridSearchCV, cross_val_score, KFold\n",
        "from sklearn.metrics import confusion_matrix, accuracy_score, classification_report\n",
        "from sklearn.linear_model import LogisticRegression\n",
        "from sklearn.tree import DecisionTreeClassifier, plot_tree\n",
        "from sklearn.svm import SVC, LinearSVC\n",
        "from sklearn.ensemble import RandomForestClassifier, VotingClassifier, AdaBoostClassifier, GradientBoostingClassifier\n",
        "from sklearn.pipeline import Pipeline\n",
        "from keras.utils.np_utils import to_categorical\n",
        "from keras.models import Sequential\n",
        "from keras.layers import Dense\n",
        "from keras.utils.vis_utils import plot_model"
      ],
      "execution_count": 8,
      "outputs": []
    },
    {
      "cell_type": "markdown",
      "metadata": {
        "id": "a51e_G8o4HaJ"
      },
      "source": [
        "## 5. Loading the Data\n",
        "\n",
        "The data was acquired from the UCI Machine Learning Repository at the following [link](https://archive.ics.uci.edu/ml/datasets/Heart+Disease).\n",
        "\n",
        "Here I'm loading the data from my GitHub repository. Doing it this way makes it reproducible for other students without the need for downloading the data set."
      ]
    },
    {
      "cell_type": "code",
      "metadata": {
        "colab": {
          "base_uri": "https://localhost:8080/",
          "height": 419
        },
        "id": "ZW0WUhSO-4MN",
        "outputId": "8de702ec-9c53-4d9c-fb48-2029c9e350cd"
      },
      "source": [
        "url = 'https://raw.githubusercontent.com/ilante/AML_91934_exam/main/heart.csv'\n",
        "data = pd.read_csv(url, header=0)\n",
        "data "
      ],
      "execution_count": 13,
      "outputs": [
        {
          "output_type": "execute_result",
          "data": {
            "text/html": [
              "<div>\n",
              "<style scoped>\n",
              "    .dataframe tbody tr th:only-of-type {\n",
              "        vertical-align: middle;\n",
              "    }\n",
              "\n",
              "    .dataframe tbody tr th {\n",
              "        vertical-align: top;\n",
              "    }\n",
              "\n",
              "    .dataframe thead th {\n",
              "        text-align: right;\n",
              "    }\n",
              "</style>\n",
              "<table border=\"1\" class=\"dataframe\">\n",
              "  <thead>\n",
              "    <tr style=\"text-align: right;\">\n",
              "      <th></th>\n",
              "      <th>age</th>\n",
              "      <th>sex</th>\n",
              "      <th>cp</th>\n",
              "      <th>trestbps</th>\n",
              "      <th>chol</th>\n",
              "      <th>fbs</th>\n",
              "      <th>restecg</th>\n",
              "      <th>thalach</th>\n",
              "      <th>exang</th>\n",
              "      <th>oldpeak</th>\n",
              "      <th>slope</th>\n",
              "      <th>ca</th>\n",
              "      <th>thal</th>\n",
              "      <th>target</th>\n",
              "    </tr>\n",
              "  </thead>\n",
              "  <tbody>\n",
              "    <tr>\n",
              "      <th>0</th>\n",
              "      <td>63</td>\n",
              "      <td>1</td>\n",
              "      <td>3</td>\n",
              "      <td>145</td>\n",
              "      <td>233</td>\n",
              "      <td>1</td>\n",
              "      <td>0</td>\n",
              "      <td>150</td>\n",
              "      <td>0</td>\n",
              "      <td>2.3</td>\n",
              "      <td>0</td>\n",
              "      <td>0</td>\n",
              "      <td>1</td>\n",
              "      <td>1</td>\n",
              "    </tr>\n",
              "    <tr>\n",
              "      <th>1</th>\n",
              "      <td>37</td>\n",
              "      <td>1</td>\n",
              "      <td>2</td>\n",
              "      <td>130</td>\n",
              "      <td>250</td>\n",
              "      <td>0</td>\n",
              "      <td>1</td>\n",
              "      <td>187</td>\n",
              "      <td>0</td>\n",
              "      <td>3.5</td>\n",
              "      <td>0</td>\n",
              "      <td>0</td>\n",
              "      <td>2</td>\n",
              "      <td>1</td>\n",
              "    </tr>\n",
              "    <tr>\n",
              "      <th>2</th>\n",
              "      <td>41</td>\n",
              "      <td>0</td>\n",
              "      <td>1</td>\n",
              "      <td>130</td>\n",
              "      <td>204</td>\n",
              "      <td>0</td>\n",
              "      <td>0</td>\n",
              "      <td>172</td>\n",
              "      <td>0</td>\n",
              "      <td>1.4</td>\n",
              "      <td>2</td>\n",
              "      <td>0</td>\n",
              "      <td>2</td>\n",
              "      <td>1</td>\n",
              "    </tr>\n",
              "    <tr>\n",
              "      <th>3</th>\n",
              "      <td>56</td>\n",
              "      <td>1</td>\n",
              "      <td>1</td>\n",
              "      <td>120</td>\n",
              "      <td>236</td>\n",
              "      <td>0</td>\n",
              "      <td>1</td>\n",
              "      <td>178</td>\n",
              "      <td>0</td>\n",
              "      <td>0.8</td>\n",
              "      <td>2</td>\n",
              "      <td>0</td>\n",
              "      <td>2</td>\n",
              "      <td>1</td>\n",
              "    </tr>\n",
              "    <tr>\n",
              "      <th>4</th>\n",
              "      <td>57</td>\n",
              "      <td>0</td>\n",
              "      <td>0</td>\n",
              "      <td>120</td>\n",
              "      <td>354</td>\n",
              "      <td>0</td>\n",
              "      <td>1</td>\n",
              "      <td>163</td>\n",
              "      <td>1</td>\n",
              "      <td>0.6</td>\n",
              "      <td>2</td>\n",
              "      <td>0</td>\n",
              "      <td>2</td>\n",
              "      <td>1</td>\n",
              "    </tr>\n",
              "    <tr>\n",
              "      <th>...</th>\n",
              "      <td>...</td>\n",
              "      <td>...</td>\n",
              "      <td>...</td>\n",
              "      <td>...</td>\n",
              "      <td>...</td>\n",
              "      <td>...</td>\n",
              "      <td>...</td>\n",
              "      <td>...</td>\n",
              "      <td>...</td>\n",
              "      <td>...</td>\n",
              "      <td>...</td>\n",
              "      <td>...</td>\n",
              "      <td>...</td>\n",
              "      <td>...</td>\n",
              "    </tr>\n",
              "    <tr>\n",
              "      <th>298</th>\n",
              "      <td>57</td>\n",
              "      <td>0</td>\n",
              "      <td>0</td>\n",
              "      <td>140</td>\n",
              "      <td>241</td>\n",
              "      <td>0</td>\n",
              "      <td>1</td>\n",
              "      <td>123</td>\n",
              "      <td>1</td>\n",
              "      <td>0.2</td>\n",
              "      <td>1</td>\n",
              "      <td>0</td>\n",
              "      <td>3</td>\n",
              "      <td>0</td>\n",
              "    </tr>\n",
              "    <tr>\n",
              "      <th>299</th>\n",
              "      <td>45</td>\n",
              "      <td>1</td>\n",
              "      <td>3</td>\n",
              "      <td>110</td>\n",
              "      <td>264</td>\n",
              "      <td>0</td>\n",
              "      <td>1</td>\n",
              "      <td>132</td>\n",
              "      <td>0</td>\n",
              "      <td>1.2</td>\n",
              "      <td>1</td>\n",
              "      <td>0</td>\n",
              "      <td>3</td>\n",
              "      <td>0</td>\n",
              "    </tr>\n",
              "    <tr>\n",
              "      <th>300</th>\n",
              "      <td>68</td>\n",
              "      <td>1</td>\n",
              "      <td>0</td>\n",
              "      <td>144</td>\n",
              "      <td>193</td>\n",
              "      <td>1</td>\n",
              "      <td>1</td>\n",
              "      <td>141</td>\n",
              "      <td>0</td>\n",
              "      <td>3.4</td>\n",
              "      <td>1</td>\n",
              "      <td>2</td>\n",
              "      <td>3</td>\n",
              "      <td>0</td>\n",
              "    </tr>\n",
              "    <tr>\n",
              "      <th>301</th>\n",
              "      <td>57</td>\n",
              "      <td>1</td>\n",
              "      <td>0</td>\n",
              "      <td>130</td>\n",
              "      <td>131</td>\n",
              "      <td>0</td>\n",
              "      <td>1</td>\n",
              "      <td>115</td>\n",
              "      <td>1</td>\n",
              "      <td>1.2</td>\n",
              "      <td>1</td>\n",
              "      <td>1</td>\n",
              "      <td>3</td>\n",
              "      <td>0</td>\n",
              "    </tr>\n",
              "    <tr>\n",
              "      <th>302</th>\n",
              "      <td>57</td>\n",
              "      <td>0</td>\n",
              "      <td>1</td>\n",
              "      <td>130</td>\n",
              "      <td>236</td>\n",
              "      <td>0</td>\n",
              "      <td>0</td>\n",
              "      <td>174</td>\n",
              "      <td>0</td>\n",
              "      <td>0.0</td>\n",
              "      <td>1</td>\n",
              "      <td>1</td>\n",
              "      <td>2</td>\n",
              "      <td>0</td>\n",
              "    </tr>\n",
              "  </tbody>\n",
              "</table>\n",
              "<p>303 rows × 14 columns</p>\n",
              "</div>"
            ],
            "text/plain": [
              "     age  sex  cp  trestbps  chol  fbs  ...  exang  oldpeak  slope  ca  thal  target\n",
              "0     63    1   3       145   233    1  ...      0      2.3      0   0     1       1\n",
              "1     37    1   2       130   250    0  ...      0      3.5      0   0     2       1\n",
              "2     41    0   1       130   204    0  ...      0      1.4      2   0     2       1\n",
              "3     56    1   1       120   236    0  ...      0      0.8      2   0     2       1\n",
              "4     57    0   0       120   354    0  ...      1      0.6      2   0     2       1\n",
              "..   ...  ...  ..       ...   ...  ...  ...    ...      ...    ...  ..   ...     ...\n",
              "298   57    0   0       140   241    0  ...      1      0.2      1   0     3       0\n",
              "299   45    1   3       110   264    0  ...      0      1.2      1   0     3       0\n",
              "300   68    1   0       144   193    1  ...      0      3.4      1   2     3       0\n",
              "301   57    1   0       130   131    0  ...      1      1.2      1   1     3       0\n",
              "302   57    0   1       130   236    0  ...      0      0.0      1   1     2       0\n",
              "\n",
              "[303 rows x 14 columns]"
            ]
          },
          "metadata": {
            "tags": []
          },
          "execution_count": 13
        }
      ]
    },
    {
      "cell_type": "code",
      "metadata": {
        "id": "MDvmMSknbM-R",
        "outputId": "b949dfa5-a70f-4c25-e57b-97aeb60187f3",
        "colab": {
          "base_uri": "https://localhost:8080/"
        }
      },
      "source": [
        "data.shape"
      ],
      "execution_count": 14,
      "outputs": [
        {
          "output_type": "execute_result",
          "data": {
            "text/plain": [
              "(303, 14)"
            ]
          },
          "metadata": {
            "tags": []
          },
          "execution_count": 14
        }
      ]
    },
    {
      "cell_type": "markdown",
      "metadata": {
        "id": "1GI3JJG1azGi"
      },
      "source": [
        "As we can see that the dataset is made up of 302 observations and 14 colums. The 'target' column corresponds to either \n",
        "* 0 no heart disease present or \n",
        "* 1 indicating the presence of the disease. It is the attribute to be predicted. "
      ]
    },
    {
      "cell_type": "markdown",
      "metadata": {
        "id": "gEF6_4Ujcn8u"
      },
      "source": [
        "## 5.1 Exploring the Data\n",
        "\n",
        "Getting familiar with the dataset is helpful for finding out how the data is distributed and to catch relations between the given variables."
      ]
    },
    {
      "cell_type": "code",
      "metadata": {
        "id": "LC2U1KFHZ0Aq",
        "outputId": "c35e30ae-bc77-4bcb-f3c2-477323952575",
        "colab": {
          "base_uri": "https://localhost:8080/"
        }
      },
      "source": [
        "data.dtypes"
      ],
      "execution_count": 15,
      "outputs": [
        {
          "output_type": "execute_result",
          "data": {
            "text/plain": [
              "age           int64\n",
              "sex           int64\n",
              "cp            int64\n",
              "trestbps      int64\n",
              "chol          int64\n",
              "fbs           int64\n",
              "restecg       int64\n",
              "thalach       int64\n",
              "exang         int64\n",
              "oldpeak     float64\n",
              "slope         int64\n",
              "ca            int64\n",
              "thal          int64\n",
              "target        int64\n",
              "dtype: object"
            ]
          },
          "metadata": {
            "tags": []
          },
          "execution_count": 15
        }
      ]
    },
    {
      "cell_type": "markdown",
      "metadata": {
        "id": "4hNBRFLVcZdF"
      },
      "source": [
        "All data types except old peak are integers; oldpeak refers to the systolic depression induced by exercice relative to rest."
      ]
    },
    {
      "cell_type": "code",
      "metadata": {
        "id": "eDscuMHQbhJn"
      },
      "source": [
        "pd.set_option('display.max_columns', None) # to avoid truncation\n",
        "pd.set_option('display.max_rows', None)\n",
        "pd.set_option('precision', 10) # decimals after the comma"
      ],
      "execution_count": 21,
      "outputs": []
    },
    {
      "cell_type": "code",
      "metadata": {
        "id": "bsHfvIGteikf",
        "outputId": "e49f5d6c-389c-41ec-a1fd-5112de2a0839",
        "colab": {
          "base_uri": "https://localhost:8080/",
          "height": 317
        }
      },
      "source": [
        "data.describe()"
      ],
      "execution_count": 22,
      "outputs": [
        {
          "output_type": "execute_result",
          "data": {
            "text/html": [
              "<div>\n",
              "<style scoped>\n",
              "    .dataframe tbody tr th:only-of-type {\n",
              "        vertical-align: middle;\n",
              "    }\n",
              "\n",
              "    .dataframe tbody tr th {\n",
              "        vertical-align: top;\n",
              "    }\n",
              "\n",
              "    .dataframe thead th {\n",
              "        text-align: right;\n",
              "    }\n",
              "</style>\n",
              "<table border=\"1\" class=\"dataframe\">\n",
              "  <thead>\n",
              "    <tr style=\"text-align: right;\">\n",
              "      <th></th>\n",
              "      <th>age</th>\n",
              "      <th>sex</th>\n",
              "      <th>cp</th>\n",
              "      <th>trestbps</th>\n",
              "      <th>chol</th>\n",
              "      <th>fbs</th>\n",
              "      <th>restecg</th>\n",
              "      <th>thalach</th>\n",
              "      <th>exang</th>\n",
              "      <th>oldpeak</th>\n",
              "      <th>slope</th>\n",
              "      <th>ca</th>\n",
              "      <th>thal</th>\n",
              "      <th>target</th>\n",
              "    </tr>\n",
              "  </thead>\n",
              "  <tbody>\n",
              "    <tr>\n",
              "      <th>count</th>\n",
              "      <td>303.0000000000</td>\n",
              "      <td>303.0000000000</td>\n",
              "      <td>303.0000000000</td>\n",
              "      <td>303.0000000000</td>\n",
              "      <td>303.0000000000</td>\n",
              "      <td>303.0000000000</td>\n",
              "      <td>303.0000000000</td>\n",
              "      <td>303.0000000000</td>\n",
              "      <td>303.0000000000</td>\n",
              "      <td>303.0000000000</td>\n",
              "      <td>303.0000000000</td>\n",
              "      <td>303.0000000000</td>\n",
              "      <td>303.0000000000</td>\n",
              "      <td>303.0000000000</td>\n",
              "    </tr>\n",
              "    <tr>\n",
              "      <th>mean</th>\n",
              "      <td>54.3663366337</td>\n",
              "      <td>0.6831683168</td>\n",
              "      <td>0.9669966997</td>\n",
              "      <td>131.6237623762</td>\n",
              "      <td>246.2640264026</td>\n",
              "      <td>0.1485148515</td>\n",
              "      <td>0.5280528053</td>\n",
              "      <td>149.6468646865</td>\n",
              "      <td>0.3267326733</td>\n",
              "      <td>1.0396039604</td>\n",
              "      <td>1.3993399340</td>\n",
              "      <td>0.7293729373</td>\n",
              "      <td>2.3135313531</td>\n",
              "      <td>0.5445544554</td>\n",
              "    </tr>\n",
              "    <tr>\n",
              "      <th>std</th>\n",
              "      <td>9.0821009898</td>\n",
              "      <td>0.4660108233</td>\n",
              "      <td>1.0320524895</td>\n",
              "      <td>17.5381428135</td>\n",
              "      <td>51.8307509879</td>\n",
              "      <td>0.3561978749</td>\n",
              "      <td>0.5258595964</td>\n",
              "      <td>22.9051611149</td>\n",
              "      <td>0.4697944645</td>\n",
              "      <td>1.1610750221</td>\n",
              "      <td>0.6162261453</td>\n",
              "      <td>1.0226063650</td>\n",
              "      <td>0.6122765073</td>\n",
              "      <td>0.4988347842</td>\n",
              "    </tr>\n",
              "    <tr>\n",
              "      <th>min</th>\n",
              "      <td>29.0000000000</td>\n",
              "      <td>0.0000000000</td>\n",
              "      <td>0.0000000000</td>\n",
              "      <td>94.0000000000</td>\n",
              "      <td>126.0000000000</td>\n",
              "      <td>0.0000000000</td>\n",
              "      <td>0.0000000000</td>\n",
              "      <td>71.0000000000</td>\n",
              "      <td>0.0000000000</td>\n",
              "      <td>0.0000000000</td>\n",
              "      <td>0.0000000000</td>\n",
              "      <td>0.0000000000</td>\n",
              "      <td>0.0000000000</td>\n",
              "      <td>0.0000000000</td>\n",
              "    </tr>\n",
              "    <tr>\n",
              "      <th>25%</th>\n",
              "      <td>47.5000000000</td>\n",
              "      <td>0.0000000000</td>\n",
              "      <td>0.0000000000</td>\n",
              "      <td>120.0000000000</td>\n",
              "      <td>211.0000000000</td>\n",
              "      <td>0.0000000000</td>\n",
              "      <td>0.0000000000</td>\n",
              "      <td>133.5000000000</td>\n",
              "      <td>0.0000000000</td>\n",
              "      <td>0.0000000000</td>\n",
              "      <td>1.0000000000</td>\n",
              "      <td>0.0000000000</td>\n",
              "      <td>2.0000000000</td>\n",
              "      <td>0.0000000000</td>\n",
              "    </tr>\n",
              "    <tr>\n",
              "      <th>50%</th>\n",
              "      <td>55.0000000000</td>\n",
              "      <td>1.0000000000</td>\n",
              "      <td>1.0000000000</td>\n",
              "      <td>130.0000000000</td>\n",
              "      <td>240.0000000000</td>\n",
              "      <td>0.0000000000</td>\n",
              "      <td>1.0000000000</td>\n",
              "      <td>153.0000000000</td>\n",
              "      <td>0.0000000000</td>\n",
              "      <td>0.8000000000</td>\n",
              "      <td>1.0000000000</td>\n",
              "      <td>0.0000000000</td>\n",
              "      <td>2.0000000000</td>\n",
              "      <td>1.0000000000</td>\n",
              "    </tr>\n",
              "    <tr>\n",
              "      <th>75%</th>\n",
              "      <td>61.0000000000</td>\n",
              "      <td>1.0000000000</td>\n",
              "      <td>2.0000000000</td>\n",
              "      <td>140.0000000000</td>\n",
              "      <td>274.5000000000</td>\n",
              "      <td>0.0000000000</td>\n",
              "      <td>1.0000000000</td>\n",
              "      <td>166.0000000000</td>\n",
              "      <td>1.0000000000</td>\n",
              "      <td>1.6000000000</td>\n",
              "      <td>2.0000000000</td>\n",
              "      <td>1.0000000000</td>\n",
              "      <td>3.0000000000</td>\n",
              "      <td>1.0000000000</td>\n",
              "    </tr>\n",
              "    <tr>\n",
              "      <th>max</th>\n",
              "      <td>77.0000000000</td>\n",
              "      <td>1.0000000000</td>\n",
              "      <td>3.0000000000</td>\n",
              "      <td>200.0000000000</td>\n",
              "      <td>564.0000000000</td>\n",
              "      <td>1.0000000000</td>\n",
              "      <td>2.0000000000</td>\n",
              "      <td>202.0000000000</td>\n",
              "      <td>1.0000000000</td>\n",
              "      <td>6.2000000000</td>\n",
              "      <td>2.0000000000</td>\n",
              "      <td>4.0000000000</td>\n",
              "      <td>3.0000000000</td>\n",
              "      <td>1.0000000000</td>\n",
              "    </tr>\n",
              "  </tbody>\n",
              "</table>\n",
              "</div>"
            ],
            "text/plain": [
              "                  age             sex              cp        trestbps            chol             fbs         restecg         thalach           exang         oldpeak           slope              ca  \\\n",
              "count  303.0000000000  303.0000000000  303.0000000000  303.0000000000  303.0000000000  303.0000000000  303.0000000000  303.0000000000  303.0000000000  303.0000000000  303.0000000000  303.0000000000   \n",
              "mean    54.3663366337    0.6831683168    0.9669966997  131.6237623762  246.2640264026    0.1485148515    0.5280528053  149.6468646865    0.3267326733    1.0396039604    1.3993399340    0.7293729373   \n",
              "std      9.0821009898    0.4660108233    1.0320524895   17.5381428135   51.8307509879    0.3561978749    0.5258595964   22.9051611149    0.4697944645    1.1610750221    0.6162261453    1.0226063650   \n",
              "min     29.0000000000    0.0000000000    0.0000000000   94.0000000000  126.0000000000    0.0000000000    0.0000000000   71.0000000000    0.0000000000    0.0000000000    0.0000000000    0.0000000000   \n",
              "25%     47.5000000000    0.0000000000    0.0000000000  120.0000000000  211.0000000000    0.0000000000    0.0000000000  133.5000000000    0.0000000000    0.0000000000    1.0000000000    0.0000000000   \n",
              "50%     55.0000000000    1.0000000000    1.0000000000  130.0000000000  240.0000000000    0.0000000000    1.0000000000  153.0000000000    0.0000000000    0.8000000000    1.0000000000    0.0000000000   \n",
              "75%     61.0000000000    1.0000000000    2.0000000000  140.0000000000  274.5000000000    0.0000000000    1.0000000000  166.0000000000    1.0000000000    1.6000000000    2.0000000000    1.0000000000   \n",
              "max     77.0000000000    1.0000000000    3.0000000000  200.0000000000  564.0000000000    1.0000000000    2.0000000000  202.0000000000    1.0000000000    6.2000000000    2.0000000000    4.0000000000   \n",
              "\n",
              "                 thal          target  \n",
              "count  303.0000000000  303.0000000000  \n",
              "mean     2.3135313531    0.5445544554  \n",
              "std      0.6122765073    0.4988347842  \n",
              "min      0.0000000000    0.0000000000  \n",
              "25%      2.0000000000    0.0000000000  \n",
              "50%      2.0000000000    1.0000000000  \n",
              "75%      3.0000000000    1.0000000000  \n",
              "max      3.0000000000    1.0000000000  "
            ]
          },
          "metadata": {
            "tags": []
          },
          "execution_count": 22
        }
      ]
    },
    {
      "cell_type": "markdown",
      "metadata": {
        "id": "SiCLkrexoxv6"
      },
      "source": [
        "`data.describe()` is a useful function for exploring the dataset; it shows some important statistics such as \n",
        "* Count: shows us the number of samples (303)\n",
        "* Mean\n",
        "* Standard deviation\n",
        "* Min - the minimum value of each feature\n",
        "* The percentiles 25%, 50% and 75%\n",
        "\n",
        "of the given dataframe."
      ]
    },
    {
      "cell_type": "code",
      "metadata": {
        "id": "PbIfVhUrsbOD",
        "outputId": "ac87b08f-86b8-412a-a61a-61053e9c5586",
        "colab": {
          "base_uri": "https://localhost:8080/"
        }
      },
      "source": [
        "data.columns"
      ],
      "execution_count": 25,
      "outputs": [
        {
          "output_type": "execute_result",
          "data": {
            "text/plain": [
              "Index(['age', 'sex', 'cp', 'trestbps', 'chol', 'fbs', 'restecg', 'thalach', 'exang', 'oldpeak', 'slope', 'ca', 'thal', 'target'], dtype='object')"
            ]
          },
          "metadata": {
            "tags": []
          },
          "execution_count": 25
        }
      ]
    },
    {
      "cell_type": "markdown",
      "metadata": {
        "id": "V-JADtsB2CxM"
      },
      "source": [
        "### 5.1.2 Describing the Column Names in More Detail:\n",
        "\n",
        "1. **Age**: displays the age of the individual in years\n",
        "2. **Sex**: displays the gender of the individual using the following format :\n",
        "    1 = male\n",
        "    0 = female\n",
        "3. **cp**: chest-pain type experienced by the individual using the following format :\n",
        "  * 1 = typical angina\n",
        "  * 2 = atypical angina\n",
        "  * 3 = non — anginal pain\n",
        "  * 4 = asymptotic\n",
        "4. **trestbps**: resting blood pressure value of an individual in mmHg (unit)\n",
        "5. **chol**: serum cholesterol in mg/dl (unit)\n",
        "6. **fbs**: fasting blood sugar compares the fasting blood sugar value of an individual with 120mg/dl.\n",
        "  * If fasting blood sugar > 120mg/dl then : 1 (true)\n",
        "  * else : 0 (false)\n",
        "7. **restecg**: resting ECG \n",
        "  * 0 = normal\n",
        "  * 1 = having ST-T wave abnormality\n",
        "  * 2 = left ventricular hyperthrophy\n",
        "8. **thalach**: maximum heart rate achieved by an individual\n",
        "9. **exang**: Exercise induced angina :\n",
        "  * 1 = yes\n",
        "  * 0 = no\n",
        "10. **oldpeak** ST depression induced by exercise relative to rest. This is based on a treadmill ECG stress test. The reading would be considered abnormal if there is a **horizontal** or **negative** slope it can be an integer or a float\n",
        "Peak exercise ST segment :\n",
        "1 = upsloping\n",
        "2 = flat\n",
        "3 = downsloping\n",
        "Number of major vessels (0–3) colored by flourosopy : displays the value as integer or float.\n",
        "Thal : displays the thalassemia :\n",
        "3 = normal\n",
        "6 = fixed defect\n",
        "7 = reversible defect\n",
        "Diagnosis of heart disease : Displays whether the individual is suffering from heart disease or not :\n",
        "0 = absence\n",
        "1, 2, 3, 4 = present."
      ]
    },
    {
      "cell_type": "code",
      "metadata": {
        "id": "MnE2eJm74OUq"
      },
      "source": [
        ""
      ],
      "execution_count": null,
      "outputs": []
    }
  ]
}