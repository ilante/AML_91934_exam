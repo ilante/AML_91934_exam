{
 "cells": [
  {
   "cell_type": "markdown",
   "source": [
    "# My First Machine Learning Project\n",
    "## International Master of Bioinformatics, University of Bologna\n",
    "\n",
    "### Immanuela Antigone Engländer\n",
    "\n"
   ],
   "metadata": {}
  },
  {
   "cell_type": "markdown",
   "source": [
    "## 1. The Cleaveland Heart Disease (UCI Repository) Dataset — Classification With Various Models\n",
    "\n",
    "Heart disease is also sometimes referred to as cardiovascular disease (CVD) and is the most common cause of death in EU countries; accounting for 37% of all deaths in 2017. Second most common cause of death is cancer responsible for 26% of all deaths in EU countries in 2017.\n",
    "\n",
    "![Main causes of mortatilty in EU countries 2017](https://www.oecd-ilibrary.org/sites/82129230-en/images/images/03-chapter3/media/image8.png)\n",
    "\n",
    "For more information please refer to the OECD report:\n",
    "\n",
    "<a href='https://read.oecd.org/10.1787/82129230-en?format=html' title='Health at a Glance: Europe 2020 State of Health in the EU Cycle'><img src='https://assets.oecdcode.org/covers/340/82129230.jpg' alt='Health at a Glance: Europe 2020 State of Health in the EU Cycle'/></a>\n",
    "\n",
    "The scientific community estimates that up to 90% of CVD is preventable by diminishing risk factors by:\n",
    "* Healthy eating\n",
    "* Exercise\n",
    "* Avoiding tobacco\n",
    "* Limiting alcohol intake \n",
    "\n",
    "Though it is well known in the scientific and medical community that symptoms of CVD vary significantly between women and men, the general population seems to require more information on the topic as mean are still diagnosed 7 to 10 years earlier than women [[1](https://web.archive.org/web/20140817123106/http://whqlibdoc.who.int/publications/2011/9789241564373_eng.pdf?ua=1)].\n",
    "Developing a predictor could help lay people to assess their risk and recognize the illness at an early and treatable stage.\n",
    "\n",
    "For more information please refer to https://en.wikipedia.org/wiki/Cardiovascular_disease\n",
    "\n",
    "\n",
    "## 2. The Dataset\n",
    "\n",
    "The dataset was created by the following entities:\n",
    "\n",
    "* Hungarian Institute of Cardiology. Budapest: Andras Janosi, M.D.\n",
    "* University Hospital, Zurich, Switzerland: William Steinbrunn, M.D.\n",
    "* University Hospital, Basel, Switzerland: Matthias Pfisterer, M.D.\n",
    "* V.A. Medical Center, Long Beach and Cleveland Clinic Foundation: Robert Detrano, M.D., Ph.D.\n",
    "\n",
    "## 3. Attributes of the Dataset\n",
    "\n",
    "1. age\n",
    "1. sex\n",
    "1. chest pain type (4 values)\n",
    "1. resting blood pressure\n",
    "1. serum cholestoral in mg/dl\n",
    "1. fasting blood sugar > 120 mg/dl\n",
    "1. resting electrocardiographic results (values 0,1,2)\n",
    "1. maximum heart rate achieved\n",
    "1. exercise induced angina\n",
    "1. oldpeak = ST depression induced by exercise relative to rest\n",
    "1. the slope of the peak exercise ST segment\n",
    "1. number of major vessels (0-3) colored by flourosopy\n",
    "1. thal: 3 = normal; 6 = fixed defect; 7 = reversable defect\n",
    "\n",
    "The label can have 5 different values; 1, 2, 3, 4 indicating that the disease is present and 0 indicating the absence of the illness.\n",
    "\n",
    "## 4. Importing the Required Libraries"
   ],
   "metadata": {}
  },
  {
   "cell_type": "code",
   "execution_count": null,
   "source": [
    "!pip install -q colabcode\n",
    "from colabcode import ColabCode"
   ],
   "outputs": [],
   "metadata": {}
  },
  {
   "cell_type": "code",
   "execution_count": null,
   "source": [
    "# Loading module to monitor time:\n",
    "%load_ext autotime"
   ],
   "outputs": [],
   "metadata": {}
  },
  {
   "cell_type": "code",
   "execution_count": null,
   "source": [
    "import numpy as p\n",
    "import pandas as pd\n",
    "import matplotlib.pyplot as plt\n",
    "import seaborn as sns\n",
    "import scikit-learn as sklearn\n",
    "\n",
    "# TensorFlow and tf.keras\n",
    "import tensorflow as tf\n",
    "from tensorflow import keras\n",
    "sns.set() # loading seaborns default theme"
   ],
   "outputs": [],
   "metadata": {}
  },
  {
   "cell_type": "markdown",
   "source": [
    "## 5. Loading the Data\n",
    "\n",
    "The data was acquired from the UCI Machine Learning Repository at the following [link](https://archive.ics.uci.edu/ml/datasets/Heart+Disease)."
   ],
   "metadata": {}
  },
  {
   "cell_type": "code",
   "execution_count": null,
   "source": [
    "print('yes')"
   ],
   "outputs": [],
   "metadata": {}
  },
  {
   "cell_type": "code",
   "execution_count": null,
   "source": [],
   "outputs": [],
   "metadata": {}
  }
 ],
 "metadata": {
  "kernelspec": {
   "name": "python3",
   "display_name": "Python 3.9.1 64-bit"
  },
  "language_info": {
   "codemirror_mode": {
    "name": "ipython",
    "version": 3
   },
   "file_extension": ".py",
   "mimetype": "text/x-python",
   "name": "python",
   "nbconvert_exporter": "python",
   "pygments_lexer": "ipython3",
   "version": "3.9.1"
  },
  "interpreter": {
   "hash": "aee8b7b246df8f9039afb4144a1f6fd8d2ca17a180786b69acc140d282b71a49"
  }
 },
 "nbformat": 4,
 "nbformat_minor": 4
}